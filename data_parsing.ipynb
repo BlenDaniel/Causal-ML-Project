{
 "cells": [
  {
   "cell_type": "markdown",
   "metadata": {},
   "source": [
    "# Data parsing "
   ]
  },
  {
   "cell_type": "markdown",
   "metadata": {},
   "source": [
    "This are the steps to generate useable data from any github project. \n",
    "\n",
    "1. Requirements\n",
    "    - CSV: \n",
    "        CSV datasheet of the history of the repository. \n",
    "    - JSON:\n",
    "        Json of the history of the repository. \n",
    "\n",
    "2. Steps to produce and what the outputs are:\n",
    "    | Step | Description | Input | Output |\n",
    "    | --- | --- | --- | --- |\n",
    "    | 1 | Clone the repository |  |  |\n",
    "    | 2 | Get a list of all the developers associated with the project | CSV (data sheet of the history of the repository) | CSV |\n",
    "    | 3 | Get developers experience over the years since the creation date of the project. | CSV (data sheet of the history of the repository), JSON (the history of the repository) | CSV |\n",
    "    | 4 | Get developers authering of a task over the years since the creation date of the project. | CSV (data sheet of the history of the repository), JSON (the history of the repository) | CSV |\n",
    "    | 5 | Get developers commit or provisioning of a task over the years since the creation date of the project. | CSV (data sheet of the history of the repository), JSON (the history of the repository) | CSV |\n",
    "    | 6 |  Getting task information | JSON (the history of the repository), CSV (getting the output of developers experience (2nd Step)) | CSV |\n",
    "    | 7 | Setting task information | CSV (getting the output of tasks (5th Step)) | CSV |\n",
    "    | 8 | Add actual metrics calculation and Clean the data so that it can be used for causal estimations | CSV (getting the output of tasks (6th Step)) and removing columns, replacing strings with numbers... etc. | CSV |\n",
    "    \n",
    "    <hr>"
   ]
  },
  {
   "cell_type": "markdown",
   "metadata": {},
   "source": [
    "## Steps to reproduce"
   ]
  },
  {
   "cell_type": "markdown",
   "metadata": {},
   "source": [
    "### Imports"
   ]
  },
  {
   "cell_type": "code",
   "execution_count": 4,
   "metadata": {},
   "outputs": [],
   "source": [
    "import csv\n",
    "import json\n",
    "import os\n",
    "import re\n",
    "import pandas as pd\n",
    "import datetime\n",
    "from dateutil import parser\n",
    "import spacy\n",
    "import subprocess\n",
    "from contribution_complexity.compute import find_commits_for_issue\n",
    "from contribution_complexity.metrics import compute_contrib_compl\n",
    "\n",
    "\n",
    "nlp = spacy.load(\"en_core_web_sm\")"
   ]
  },
  {
   "cell_type": "markdown",
   "metadata": {},
   "source": [
    "### Helper functions setup"
   ]
  },
  {
   "cell_type": "code",
   "execution_count": 5,
   "metadata": {},
   "outputs": [],
   "source": [
    "def read_json_file(filename):\n",
    "    \"\"\"Reads a JSON file and returns the data as a Python object.\"\"\"\n",
    "    with open(filename, 'r') as jsonfile:\n",
    "        data = json.load(jsonfile)\n",
    "    return data\n",
    "\n",
    "def read_csv_file(filename):\n",
    "    \"\"\"Reads a CSV file and returns the data as a list of lists.\"\"\"\n",
    "    with open(filename, 'r') as csvfile:\n",
    "        csvreader = csv.reader(csvfile)\n",
    "        data = [row for row in csvreader]\n",
    "    return data"
   ]
  },
  {
   "cell_type": "markdown",
   "metadata": {},
   "source": [
    "### Add the name of the project for which you would like to generate a dataset."
   ]
  },
  {
   "cell_type": "code",
   "execution_count": 35,
   "metadata": {},
   "outputs": [],
   "source": [
    "name = 'vue'"
   ]
  },
  {
   "cell_type": "markdown",
   "metadata": {},
   "source": [
    "## Step 1\n",
    "\n",
    "### Clone the source repository\n"
   ]
  },
  {
   "cell_type": "raw",
   "metadata": {},
   "source": [
    "# Clone the source code in the specific branch\n",
    "# Replace the {BRANCH} with the branch name you wish to clone\n",
    "\n",
    "$ git clone -b {BRANCH} https://github.com/vuejs/vue.git ./tmp/vue "
   ]
  },
  {
   "cell_type": "markdown",
   "metadata": {},
   "source": [
    "### Set up the paths to the CSV and JSON files"
   ]
  },
  {
   "cell_type": "code",
   "execution_count": 9,
   "metadata": {},
   "outputs": [],
   "source": [
    "save_path = 'data/useable/'\n",
    "csv_path = 'data/' + name + '/' + name + '.csv'  # file_utils.choose_file()\n",
    "json_path = 'data/' + name + '/' + name + '.json'  # file_utils.choose_file()\n",
    "save_path = save_path + name + '/'\n",
    "\n",
    "# Load Json from the path and convert it\n",
    "json_obj = read_json_file(json_path)\n",
    "\n",
    "# Set up the paths to the tasks CSV and tasks_output\n",
    "tasks_path = save_path + \"tasks.csv\"\n",
    "tasks_output_path = \"tasks_output.csv\"\n",
    "\n",
    "\n",
    "# Load csv from the path and convert it to a list of lists\n",
    "csv_lists = read_csv_file(csv_path)\n",
    "\n",
    "# Set path of the source code\n",
    "path_to_repo = \"./tmp/\"+name+\"/\""
   ]
  },
  {
   "cell_type": "markdown",
   "metadata": {},
   "source": [
    "## Step 2\n",
    "### Analyze the data using the appropriate analysis module"
   ]
  },
  {
   "cell_type": "code",
   "execution_count": 10,
   "metadata": {},
   "outputs": [],
   "source": [
    "def analyze_data_devs_by_index(input_json_path, output_csv_path):\n",
    " \n",
    "    # load the JSON file\n",
    "    with open(input_json_path, 'r') as f:\n",
    "        data = json.load(f)\n",
    "\n",
    "    # extract the unique email addresses of the authors and committers\n",
    "    emails_set = set()\n",
    "    for commit in data['commits']:\n",
    "        emails_set.add(commit['authored_by']['author_email'])\n",
    "        emails_set.add(commit['committed_by']['committer_email'])\n",
    "\n",
    "    # write out the unique values to the output CSV file\n",
    "    with open(output_csv_path, 'w', newline='') as csvfile:\n",
    "        csvwriter = csv.writer(csvfile)\n",
    "        # write the header row\n",
    "        csvwriter.writerow(['index', 'developer'])\n",
    "        # write each unique value as a row in the output CSV file\n",
    "        for i, email in enumerate(emails_set):\n",
    "            csvwriter.writerow([i, email])\n",
    "\n",
    "\n",
    "    output_file_name = os.path.basename(output_csv_path)\n",
    "\n",
    "    return emails_set"
   ]
  },
  {
   "cell_type": "markdown",
   "metadata": {},
   "source": [
    "Call the function to create the file"
   ]
  },
  {
   "cell_type": "code",
   "execution_count": 11,
   "metadata": {},
   "outputs": [],
   "source": [
    "csv_analysis_results = analyze_data_devs_by_index(\n",
    "    json_path, save_path+\"developers.csv\")"
   ]
  },
  {
   "cell_type": "markdown",
   "metadata": {},
   "source": [
    "## Step 3\n",
    "\n",
    "### Generating a csv of developers that authored within the years of the project\n"
   ]
  },
  {
   "cell_type": "code",
   "execution_count": 33,
   "metadata": {},
   "outputs": [],
   "source": [
    "def get_list_of_years(input_list):\n",
    "    # create an empty set to store unique values\n",
    "\n",
    "    years = set()\n",
    "    for row in input_list[1:]:\n",
    "        a_at = parser.parse(row[5]).strftime('%m/%d/%Y, %H:%M:%S')\n",
    "        c_at = parser.parse(row[7]).strftime('%m/%d/%Y, %H:%M:%S')\n",
    "        authored_at = datetime.datetime.strptime(a_at, '%m/%d/%Y, %H:%M:%S')\n",
    "        committed_at = datetime.datetime.strptime(c_at, '%m/%d/%Y, %H:%M:%S')\n",
    "        years.add(authored_at.year)\n",
    "        years.add(committed_at.year)\n",
    "\n",
    "    list_of_years = sorted(list(years))\n",
    "    return list_of_years\n",
    "\n",
    "\n",
    "def get_year_from_date(date_string):\n",
    "    date = datetime.datetime.strptime(date_string, '%m/%d/%Y, %H:%M:%S')\n",
    "    return date.year\n",
    "\n",
    "def generate_csv_devs_authored_the_years(input_csv_list, json_obj, output):\n",
    "    # write out the unique values to the output CSV file\n",
    "    with open(output, 'w', newline='') as csvfile:\n",
    "        csvwriter = csv.writer(csvfile)\n",
    "        list_of_years = get_list_of_years(input_csv_list)\n",
    "        # write the header row\n",
    "        header_row = list(list_of_years)\n",
    "        header_row.insert(0, 'id')\n",
    "        header_row.append('total_authored')\n",
    "        csvwriter.writerow(header_row)\n",
    "\n",
    "        # get the set of unique developers\n",
    "        devs = set()\n",
    "        for commit in json_obj[\"commits\"]:\n",
    "            if 'authored_by' in commit and 'author_email' in commit['authored_by']:\n",
    "                dev = commit['authored_by']['author_email']\n",
    "                devs.add(dev)\n",
    "\n",
    "        # create a dictionary to store the number of commits made by each developer in each year\n",
    "        authors_by_year_by_dev = {\n",
    "            dev: {str(year): 0 for year in list_of_years} for dev in devs}\n",
    "\n",
    "        # iterate through the rows of the CSV file and count the number of commits made by each developer in each year\n",
    "        for commit in json_obj[\"commits\"]:\n",
    "            if 'authored_by' in commit and 'author_email' in commit['authored_by']:\n",
    "                year = get_year_from_date(commit['authored_at'])\n",
    "                dev = commit['authored_by']['author_email']\n",
    "                authors_by_year_by_dev[dev][str(year)] += 1\n",
    "\n",
    "        # write out the data rows to the CSV file\n",
    "        for dev in sorted(devs):\n",
    "            data_row = [dev]\n",
    "            total_authored = 0\n",
    "            for year in list_of_years:\n",
    "                data_row.append(authors_by_year_by_dev[dev][str(year)])\n",
    "                total_authored += authors_by_year_by_dev[dev][str(year)]\n",
    "            data_row.append(total_authored)\n",
    "            csvwriter.writerow(data_row)\n",
    "        \n",
    "        print(f\"The list of unique author values are {len(list(devs))}.\")\n"
   ]
  },
  {
   "cell_type": "markdown",
   "metadata": {},
   "source": [
    "Call the function to create the file"
   ]
  },
  {
   "cell_type": "code",
   "execution_count": 16,
   "metadata": {},
   "outputs": [
    {
     "name": "stdout",
     "output_type": "stream",
     "text": [
      "The list of unique author values are 290.\n"
     ]
    }
   ],
   "source": [
    "generate_csv_devs_authored_the_years(\n",
    "    csv_lists, json_obj, save_path + \"dev_author_experience.csv\")"
   ]
  },
  {
   "cell_type": "markdown",
   "metadata": {},
   "source": [
    "## Step 4\n",
    "### Generating a csv of developers that committed within the years of the project\n"
   ]
  },
  {
   "cell_type": "code",
   "execution_count": 17,
   "metadata": {},
   "outputs": [],
   "source": [
    "def generate_csv_devs_commit_the_years(input_csv_list, json_obj, output):\n",
    "    # write out the unique values to the output CSV file\n",
    "    with open(output, 'w', newline='') as csvfile:\n",
    "        csvwriter = csv.writer(csvfile)\n",
    "        list_of_years = get_list_of_years(input_csv_list)\n",
    "        # write the header row\n",
    "        header_row = list(list_of_years)\n",
    "        header_row.insert(0, 'id')\n",
    "        header_row.append('total_commits')\n",
    "        csvwriter.writerow(header_row)\n",
    "\n",
    "        # get the set of unique developers\n",
    "        devs = set()\n",
    "        for commit in json_obj[\"commits\"]:\n",
    "            if 'committed_by' in commit and 'committer_email' in commit['committed_by']:\n",
    "                dev = commit['committed_by']['committer_email']\n",
    "                devs.add(dev)\n",
    "\n",
    "        # create a dictionary to store the number of commits made by each developer in each year\n",
    "        committers_by_year_by_dev = {\n",
    "            dev: {str(year): 0 for year in list_of_years} for dev in devs}\n",
    "\n",
    "        # iterate through the rows of the CSV file and count the number of commits made by each developer in each year\n",
    "        for commit in json_obj[\"commits\"]:\n",
    "            if 'committed_by' in commit and 'committer_email' in commit['committed_by']:\n",
    "                year = get_year_from_date(commit['commited_at'])\n",
    "                dev = commit['committed_by']['committer_email']\n",
    "                committers_by_year_by_dev[dev][str(year)] += 1\n",
    "\n",
    "\n",
    "        # write out the data rows to the CSV file\n",
    "        for dev in sorted(devs):\n",
    "            data_row = [dev]\n",
    "            total_committed = 0\n",
    "            for year in list_of_years:\n",
    "                data_row.append(committers_by_year_by_dev[dev][str(year)])\n",
    "                total_committed += committers_by_year_by_dev[dev][str(year)]\n",
    "            data_row.append(total_committed)\n",
    "            csvwriter.writerow(data_row)\n",
    "\n",
    "        print(f\"The list of unique commit values are {len(list(devs))}.\")"
   ]
  },
  {
   "cell_type": "markdown",
   "metadata": {},
   "source": [
    "Call the function to create the file"
   ]
  },
  {
   "cell_type": "code",
   "execution_count": 18,
   "metadata": {},
   "outputs": [
    {
     "name": "stdout",
     "output_type": "stream",
     "text": [
      "The list of unique commit values are 12.\n"
     ]
    }
   ],
   "source": [
    "generate_csv_devs_commit_the_years(\n",
    "    csv_lists, json_obj, save_path + \"dev_commit_experience.csv\")"
   ]
  },
  {
   "cell_type": "markdown",
   "metadata": {},
   "source": [
    "## Step 5\n",
    "\n",
    "### Generating a csv of all developers that committed and authored within the years of the project to and getting their experience with the source code"
   ]
  },
  {
   "cell_type": "code",
   "execution_count": 21,
   "metadata": {},
   "outputs": [],
   "source": [
    "def generate_csv_devs_experience_the_years(input_csv_list, json_obj, output):\n",
    "\n",
    "    with open(output, 'w', newline='') as csvfile:\n",
    "        csvwriter = csv.writer(csvfile)\n",
    "\n",
    "        # get the list of years from the input CSV file\n",
    "        list_of_years = get_list_of_years(input_csv_list)\n",
    "\n",
    "        # write the header row to the output CSV file\n",
    "        header_row = list(list_of_years)\n",
    "        header_row.insert(0, 'id')\n",
    "        csvwriter.writerow(header_row)\n",
    "\n",
    "        # get the set of unique developers from the input JSON file\n",
    "        devs = set()\n",
    "        for commit in json_obj[\"commits\"]:\n",
    "            if 'authored_by' in commit and 'author_email' in commit['authored_by']:\n",
    "                dev = commit['authored_by']['author_email']\n",
    "                devs.add(dev)\n",
    "            if 'committed_by' in commit and 'committer_email' in commit['committed_by']:\n",
    "                dev = commit['committed_by']['committer_email']\n",
    "                devs.add(dev)\n",
    "\n",
    "        # create a dictionary to store the number of commits made by each developer in each year\n",
    "        active_by_year_by_dev = {\n",
    "            dev: {str(year): -1 for year in list_of_years} for dev in devs}\n",
    "       \n",
    "        # iterate through the rows of the input JSON file and count the number of commits made by each developer in each year\n",
    "        for commit in json_obj[\"commits\"]:\n",
    "            if 'authored_by' in commit and 'author_email' in commit['authored_by']:\n",
    "                year = get_year_from_date(commit['authored_at'])\n",
    "                dev = commit['authored_by']['author_email']\n",
    "                if(active_by_year_by_dev[dev][str(year)] == -1):\n",
    "                    active_by_year_by_dev[dev][str(year)] = 0\n",
    "                else:\n",
    "                    active_by_year_by_dev[dev][str(year)] = 1\n",
    "\n",
    "            if 'committed_by' in commit and 'committer_email' in commit['committed_by']:\n",
    "                year = get_year_from_date(commit['commited_at'])\n",
    "                dev = commit['committed_by']['committer_email']\n",
    "                if(active_by_year_by_dev[dev][str(year)] == -1):\n",
    "                    active_by_year_by_dev[dev][str(year)] = 0\n",
    "                else:\n",
    "                    active_by_year_by_dev[dev][str(year)] = 1\n",
    "\n",
    "        # calculate the years of experience for each developer\n",
    "        for dev in devs:\n",
    "            counter = 0\n",
    "            for year in list_of_years:\n",
    "                if active_by_year_by_dev[dev][str(year)] > -1:\n",
    "                    active_by_year_by_dev[dev][str(year)] = counter\n",
    "                    counter += 1\n",
    "\n",
    "        # write out the data rows to the output CSV file\n",
    "        for dev in sorted(devs):\n",
    "            data_row = [dev]\n",
    "            for year in list_of_years:\n",
    "                data_row.append(active_by_year_by_dev[dev][str(year)])\n",
    "            csvwriter.writerow(data_row)\n",
    "        print(f\"The list of unique values are {len(list(devs))}.\")\n",
    "        \n",
    "        "
   ]
  },
  {
   "cell_type": "markdown",
   "metadata": {},
   "source": [
    "Call the function to create the file"
   ]
  },
  {
   "cell_type": "code",
   "execution_count": 22,
   "metadata": {},
   "outputs": [
    {
     "name": "stdout",
     "output_type": "stream",
     "text": [
      "The list of unique values are 292.\n"
     ]
    }
   ],
   "source": [
    "generate_csv_devs_experience_the_years(\n",
    "    csv_lists, json_obj, save_path + \"dev_experience.csv\")"
   ]
  },
  {
   "cell_type": "markdown",
   "metadata": {},
   "source": [
    "## Step 6\n",
    "### Getting task information"
   ]
  },
  {
   "cell_type": "markdown",
   "metadata": {},
   "source": [
    "#### Helper tools"
   ]
  },
  {
   "cell_type": "code",
   "execution_count": 30,
   "metadata": {},
   "outputs": [],
   "source": [
    "# Define keywords and phrases for each category\n",
    "feature_keywords = [\"feature\", \"add\", \"new\", \"feature\", \"functionality\",\n",
    "                    \"enhancement\", \"improvement\", \"capability\", \"option\"]\n",
    "bug_keywords = [\"fix\", \"error\", \"bug\", \"issue\",\n",
    "                \"problem\", \"crash\", \"fault\", \"flaw\"]\n",
    "refactoring_keywords = [\"refactor\", \"improve\", \"clean\", \"optimize\",\n",
    "                        \"simplify\", \"streamline\", \"consolidate\", \"reorganize\"]\n",
    "documentation_keywords = [\"document\", \"explain\", \"instruction\",\n",
    "                          \"guide\", \"manual\", \"tutorial\", \"reference\", \"help\"]\n",
    "testing_keywords = [\"test\", \"unit\", \"integration\", \"automated\",\n",
    "                    \"manual\", \"coverage\", \"regression\", \"performance\"]\n",
    "deployment_keywords = [\"deploy\", \"release\", \"ship\",\n",
    "                       \"install\", \"configure\", \"setup\", \"package\", \"deliver\"]\n",
    "maintenance_keywords = [\"maintain\", \"support\", \"upgrade\",\n",
    "                        \"update\", \"monitor\", \"backup\", \"restore\", \"troubleshoot\"]\n",
    "\n",
    "categories = [\"Feature requests or new feature\", \"Bug fixes\",\n",
    "              \"Code Refactoring\", \"Documentation\", \"Testing\", \"Deployment\", \"Maintenance\"]\n",
    "\n",
    "def get_task_info(message, is_bug, is_ref):\n",
    "    category_counts = {category: 0 for category in categories}\n",
    "    doc = nlp(message.lower())\n",
    "\n",
    "    for token in doc:\n",
    "        if any(keyword in token.text for keyword in feature_keywords):\n",
    "            category_counts[\"Feature requests or new feature\"] += 1\n",
    "        if any(keyword in token.text for keyword in bug_keywords):\n",
    "            category_counts[\"Bug fixes\"] += 1\n",
    "        if any(keyword in token.text for keyword in refactoring_keywords):\n",
    "            category_counts[\"Code Refactoring\"] += 1\n",
    "        if any(keyword in token.text for keyword in documentation_keywords):\n",
    "            category_counts[\"Documentation\"] += 1\n",
    "        if any(keyword in token.text for keyword in testing_keywords):\n",
    "            category_counts[\"Testing\"] += 1\n",
    "        if any(keyword in token.text for keyword in deployment_keywords):\n",
    "            category_counts[\"Deployment\"] += 1\n",
    "        if any(keyword in token.text for keyword in maintenance_keywords):\n",
    "            category_counts[\"Maintenance\"] += 1\n",
    "\n",
    "    max_count = max(category_counts.values())\n",
    "    if max_count == 0:\n",
    "        task_type = \"Other\"\n",
    "    else:\n",
    "        task_type = [category for category,\n",
    "                     count in category_counts.items() if count == max_count][0]\n",
    "        \n",
    "    # Check if task has bug fixes or code refactors\n",
    "    task_has_bug_fixes = \"true\" if category_counts[\"Bug fixes\"] != 0 else \"false\"\n",
    "    task_has_codes_refactors = \"true\" if category_counts[\"Code Refactoring\"] != 0 else \"false\"\n",
    "    \n",
    "    if(is_bug):\n",
    "        task_type = \"Bug fixes\"\n",
    "    if(is_ref):\n",
    "        task_type = \"Code Refactoring\"\n",
    "        \n",
    "    return task_type, task_has_bug_fixes, task_has_codes_refactors\n",
    "\n",
    "def get_has_bug_fixing(message, has_bugs):\n",
    "    # Analyze the message with spaCy\n",
    "    doc = nlp(message.lower())\n",
    "    # Check for keywords and phrases related to each category\n",
    "    for token in doc:\n",
    "        if any(keyword in token.text for keyword in bug_keywords) or has_bugs:\n",
    "            return True\n",
    "        \n",
    "    return False\n",
    "\n",
    "def get_has_refactoring(message, has_refactor):\n",
    "    # Analyze the message with spaCy\n",
    "    doc = nlp(message.lower())\n",
    "    # Check for keywords and phrases related to each category\n",
    "    for token in doc:\n",
    "        if any(keyword in token.text for keyword in refactoring_keywords) or has_refactor:\n",
    "            return True\n",
    "        \n",
    "    return False"
   ]
  },
  {
   "cell_type": "code",
   "execution_count": 31,
   "metadata": {},
   "outputs": [],
   "source": [
    "def categorize_time(timestamp):\n",
    "    hour = datetime.datetime.strptime(timestamp, '%m/%d/%Y, %H:%M:%S').hour\n",
    "    if 0 <= hour < 6:\n",
    "        return 1  # 00:00-06:00AM\n",
    "    elif 6 <= hour < 12:\n",
    "        return 2  # 06:00-12:00\n",
    "    elif 12 <= hour < 18:\n",
    "        return 3  # 12:00-18:00\n",
    "    else:\n",
    "        return 4  # 18:00-23:59\n",
    "    \n",
    "def get_year(timestamp):\n",
    "    year = datetime.datetime.strptime(timestamp, '%m/%d/%Y, %H:%M:%S').year\n",
    "    return str(year)\n",
    "\n",
    "def calculate_duration(authored_at, committed_at):\n",
    "    \"\"\"\n",
    "    Calculates the duration between the authored_at and committed_at times.\n",
    "    Returns a float representing the duration in hours.\n",
    "    \"\"\"\n",
    "    authored_time = datetime.datetime.strptime(authored_at, '%m/%d/%Y, %H:%M:%S')\n",
    "    committed_time = datetime.datetime.strptime(committed_at, '%m/%d/%Y, %H:%M:%S')\n",
    "    duration = committed_time - authored_time\n",
    "    return duration.total_seconds() / 3600\n",
    "\n",
    "\n",
    "def convert_bool_to_int(bool_str):\n",
    "    bool_str = str(bool_str).lower() \n",
    "    if bool_str.lower() == 'true':\n",
    "        return 1\n",
    "    elif bool_str.lower() == 'false':\n",
    "        return 0\n",
    "    else:\n",
    "        raise ValueError(\"Input string must be 'true' or 'false'\")\n"
   ]
  },
  {
   "cell_type": "markdown",
   "metadata": {},
   "source": [
    "### Code quality calculator"
   ]
  },
  {
   "cell_type": "code",
   "execution_count": 26,
   "metadata": {},
   "outputs": [],
   "source": [
    "def calculate_code_quality_probability(corrective_commits_count, non_corrective_commits_count):\n",
    "    ccp = corrective_commits_count / (corrective_commits_count + non_corrective_commits_count)\n",
    "    return 1 - ccp"
   ]
  },
  {
   "cell_type": "markdown",
   "metadata": {},
   "source": [
    "The Corrective Commit Probability (CCP) code quality metric, which measures the probability that a given commit reflects corrective maintenance. A higher CCP value indicates a lower code quality, as it suggests that more bug fixes are required. Thus, we used a CCP compliment to get an estimated code quality value\n",
    "\n",
    "In general, a high number of files affected or changed, a high number of lines added or deleted, or a high number of bug-fixing commits can indicate lower code quality. Smaller files, lower coupling, and the use of certain programming languages like JavaScript have been associated with higher code quality. \n",
    "\n",
    "### Sources\n",
    "\n",
    "\n",
    "1. The Corrective Commit Probability Code Quality Metric, arxiv (https://arxiv.org/pdf/2007.10912.pdf) <br>\n",
    "Abstract—We present a code quality metric, Corrective Commit Proba- bility (CCP), \n",
    "measuring the probability that a commit reflects corrective ...\n",
    "\n",
    "\n",
    "2. [PDF] The Corrective Commit Probability Code Quality Metric, semanticscholar (https://www.semanticscholar.org/paper/The-Corrective-Commit-Probability-Code-Quality-Amit-Feitelson/1613bad06e6540f93d69100ee477628950f1799d) <br>\n",
    "We present a code quality metric, Corrective Commit Probability (CCP), measuring \n",
    "the probability that a commit reflects corrective ...\n",
    "\n",
    "\n",
    "3. Code and Commit Metrics of Developer Productivity, igor (https://www.igor.pro.br/publica/papers/EMSE2020.pdf) <br>\n",
    "Based on commit information, we calculated the productivity of each developer by applying each \n",
    "commit-based metrics to their commits in the ..."
   ]
  },
  {
   "cell_type": "markdown",
   "metadata": {},
   "source": [
    "### Code complexity calculator"
   ]
  },
  {
   "cell_type": "code",
   "execution_count": 32,
   "metadata": {},
   "outputs": [],
   "source": [
    "def calculate_contribution_complexity(commit_shas):\n",
    "    contribcompl = compute_contrib_compl(path_to_repo, [commit_shas])\n",
    "    return contribcompl.value"
   ]
  },
  {
   "cell_type": "markdown",
   "metadata": {},
   "source": [
    "### Sources\n",
    "1. Automatically Assessing Complexity of\n",
    "Contributions to Git Repositories, https://www.itu.dk/people/ropf/blog/assets/quatic2021_pfeiffer.pdf\n",
    "   \n",
    "   Source code: https://github.com/HelgeCPH/contribution-complexity"
   ]
  },
  {
   "cell_type": "markdown",
   "metadata": {},
   "source": [
    "### Analyze the data using the appropriate analysis module"
   ]
  },
  {
   "cell_type": "code",
   "execution_count": 28,
   "metadata": {},
   "outputs": [],
   "source": [
    "def analyze_tasks(json_obj, output, experience_path):\n",
    "    # Initialize an empty list to store the tasks\n",
    "    tasks = []\n",
    "\n",
    "    # Define the regex pattern to match task IDs and messages\n",
    "    regex = r\"\\[([A-Z]+-[0-9]+|[A-Z]+-[A-Z]+)\\]\\s*(\\[(?:[A-Z]+-[0-9]+|[A-Z]+-[A-Z]+)\\])?\\s*(.*)\"\n",
    "\n",
    "    # Open experience csv\n",
    "    experience_reader = read_csv_file(experience_path)\n",
    "\n",
    "    # List of the header row (id, 20XX....)\n",
    "    header = experience_reader[0]\n",
    "    print('Timeline of the project: ', header[1:])\n",
    "\n",
    "    \n",
    "    # Store count of commits here\n",
    "    corrective_commits_count = 0\n",
    "    non_corrective_commits_count = 0\n",
    "\n",
    "    # Iterate over each commit in the JSON json_obj\n",
    "    for commit in json_obj[\"commits\"]:\n",
    "        # Commit hash\n",
    "        commit_hash = commit[\"commit_id\"]\n",
    "        # Extract the author and committer\n",
    "        authored_by = commit[\"authored_by\"][\"author_email\"]\n",
    "        committed_by = commit[\"committed_by\"][\"committer_email\"]\n",
    "\n",
    "        # Extract time information\n",
    "        authored_at = commit[\"authored_at\"]\n",
    "        authored_year = get_year(authored_at)\n",
    "        commited_at = commit[\"commited_at\"]\n",
    "        commited_year = get_year(commited_at)\n",
    "\n",
    "        # Commit info\n",
    "        commit_time = categorize_time(commited_at)\n",
    "\n",
    "        # Wanted year\n",
    "        a_year_index = header.index(authored_year)\n",
    "        c_year_index = header.index(commited_year)\n",
    "\n",
    "        # Experience in the company\n",
    "        author_experience = 0\n",
    "        for row in experience_reader[1:]:\n",
    "            if (row[0] == commit[\"authored_by\"][\"author_email\"]):\n",
    "                author_experience = row[a_year_index]\n",
    "\n",
    "        committer_experience = 0\n",
    "        for row in experience_reader[1:]:\n",
    "            if (row[0] == commit[\"committed_by\"][\"committer_email\"]):\n",
    "                committer_experience = row[c_year_index]\n",
    "\n",
    "        # Extract the commit is_fix_related\n",
    "        is_fix = commit[\"is_fix_related\"]\n",
    "        # Extract the commit is_bug_fixing\n",
    "        is_bug = commit[\"is_bug_fixing\"]\n",
    "        # Extract the commit is_refactoring\n",
    "        is_ref = commit[\"is_refactoring\"]\n",
    "        # Extract the commit total lines added in task\n",
    "        added_lines = commit[\"total_lines_added_in_commit\"]\n",
    "        # Extract the commit total lines deleted in commit\n",
    "        deleted_lines = commit[\"total_lines_deleted_in_commit\"]\n",
    "        # Extract the commit total files changed\n",
    "        files_affected = commit[\"files_changed_total\"]\n",
    "        # Extract the commit total files changed\n",
    "        files_changed = len(commit[\"changes\"])\n",
    "        # Extract the commit message\n",
    "        message = commit[\"message\"]\n",
    "\n",
    "        # total code addition/deletions\n",
    "        total_file_additions = 0\n",
    "        total_file_deletions = 0\n",
    "\n",
    "        for change in commit[\"changes\"]:\n",
    "            total_file_additions += change[\"file_additions\"]\n",
    "            total_file_deletions += change[\"file_deletions\"]\n",
    "\n",
    "        # Duration, code quality and code complexity is the focus here\n",
    "        duration = calculate_duration(authored_at, commited_at)\n",
    "        \n",
    "        has_bug_fixing = get_has_bug_fixing(\n",
    "            commit[\"message\"], commit['is_bug_fixing'] or commit['is_fix_related'])\n",
    "        \n",
    "        corrective_commits_count += 1 if has_bug_fixing or is_fix or is_bug else 0 \n",
    "        non_corrective_commits_count += 0 if has_bug_fixing or is_fix or is_bug else 1\n",
    "        \n",
    "        \n",
    "        code_quality = calculate_code_quality_probability(corrective_commits_count, non_corrective_commits_count)\n",
    "        contribution_complexity = calculate_contribution_complexity(commit[\"commit_id\"])\n",
    "        communication = authored_by != committed_by\n",
    "\n",
    "        # Use regex to match the task ID and message\n",
    "        match = re.match(regex, message)\n",
    "        if match:\n",
    "            # If the message matches the regex pattern, extract the task ID and message\n",
    "            task_id = match.group(1)\n",
    "            if match.group(2):\n",
    "                task_id += \"_\" + re.sub(r\"[\\[\\]]\", \"\", match.group(2))\n",
    "            task_message = match.group(3).strip()\n",
    "            # Append the task to the list of tasks\n",
    "            tasks.append({\"id\": commit_hash,\n",
    "                          \"message\": task_message,\n",
    "                          \"is_fix_related\": is_fix,\n",
    "                          \"is_bug_fixing\": is_bug,\n",
    "                          \"is_refactoring\": is_ref,\n",
    "                          \"total_lines_added_in_commit\": added_lines,\n",
    "                          \"total_lines_deleted_in_commit\": deleted_lines,\n",
    "                          \"total_files_affected\": files_affected,\n",
    "                          \"total_files_changed\": files_changed,\n",
    "                          \"author_email\": authored_by,\n",
    "                          \"committer_email\": committed_by,\n",
    "                          \"authored_at\": authored_at,\n",
    "                          \"authored_year\": authored_year,\n",
    "                          \"commited_at\": commited_at,\n",
    "                          \"commited_year\": commited_year,\n",
    "                          \"commit_time\": commit_time,\n",
    "                          \"author_experience\": author_experience,\n",
    "                          \"committer_experience\": committer_experience,\n",
    "                          \"code_quality\": code_quality,\n",
    "                          \"contribution_complexity\": contribution_complexity,\n",
    "                          \"communication\" : communication,\n",
    "                          \"duration\": duration,\n",
    "                          })\n",
    "\n",
    "        else:\n",
    "            # If the message doesn't match the regex pattern, use the entire message as the task message\n",
    "            task_id = \"\"\n",
    "            task_message = message\n",
    "            # Append the task to the list of tasks\n",
    "            tasks.append({\"id\": commit_hash,\n",
    "                          \"message\": task_message,\n",
    "                          \"is_fix_related\": is_fix,\n",
    "                          \"is_bug_fixing\": is_bug,\n",
    "                          \"is_refactoring\": is_ref,\n",
    "                          \"total_lines_added_in_commit\": added_lines,\n",
    "                          \"total_lines_deleted_in_commit\": deleted_lines,\n",
    "                          \"total_files_affected\": files_affected,\n",
    "                          \"total_files_changed\": files_changed,\n",
    "                          \"author_email\": authored_by,\n",
    "                          \"committer_email\": committed_by,\n",
    "                          \"authored_at\": authored_at,\n",
    "                          \"authored_year\": authored_year,\n",
    "                          \"commited_at\": commited_at,\n",
    "                          \"commited_year\": commited_year,\n",
    "                          \"commit_time\": commit_time,\n",
    "                          \"author_experience\": author_experience,\n",
    "                          \"committer_experience\": committer_experience,\n",
    "                          \"code_quality\": code_quality,\n",
    "                          \"contribution_complexity\": contribution_complexity,\n",
    "                          \"communication\" : communication,\n",
    "                          \"duration\": duration,\n",
    "                          })\n",
    "\n",
    "    # write out the unique values to the output CSV file\n",
    "    output_file_name = os.path.basename(output)\n",
    "\n",
    "    # Write the list of tasks to a CSV file\n",
    "    with open(output, mode='w') as f:\n",
    "        writer = csv.writer(f)\n",
    "        writer.writerow([\"task_id\",\n",
    "                         \"task_message\",\n",
    "                         \"task_type\",\n",
    "                         \"has_bug_fixing\",\n",
    "                         \"has_code_refactoring\",\n",
    "                         'is_fix_related',\n",
    "                         'is_bug_fixing',\n",
    "                         'is_refactoring',\n",
    "                         'total_lines_added_in_commit',\n",
    "                         'total_lines_deleted_in_commit',\n",
    "                         'total_files_affected',\n",
    "                         'total_files_changed',\n",
    "                         \"author_email\",\n",
    "                         \"committer_email\",\n",
    "                         \"authored_at\",\n",
    "                         \"authored_year\",\n",
    "                         \"commited_at\",\n",
    "                         \"commited_year\",\n",
    "                         \"commit_time\",\n",
    "                         \"author_experience\",\n",
    "                         \"committer_experience\",\n",
    "                         \"code_quality\",\n",
    "                         \"contribution_complexity\",\n",
    "                         \"communication\",\n",
    "                         \"duration\"\n",
    "                         ])\n",
    "\n",
    "        for task in tasks:\n",
    "            writer.writerow([task[\"id\"],\n",
    "                             task[\"message\"],\n",
    "                             \"\",\n",
    "                             \"\",\n",
    "                             \"\",\n",
    "                             task['is_fix_related'],\n",
    "                             task['is_bug_fixing'],\n",
    "                             task['is_refactoring'],\n",
    "                             task['total_lines_added_in_commit'],\n",
    "                             task['total_lines_deleted_in_commit'],\n",
    "                             task['total_files_affected'],\n",
    "                             task['total_files_changed'],\n",
    "                             task[\"author_email\"],\n",
    "                             task[\"committer_email\"],\n",
    "                             task[\"authored_at\"],\n",
    "                             task[\"authored_year\"],\n",
    "                             task[\"commited_at\"],\n",
    "                             task[\"commited_year\"],\n",
    "                             task[\"commit_time\"],\n",
    "                             task[\"author_experience\"],\n",
    "                             task[\"committer_experience\"],\n",
    "                             task[\"code_quality\"],\n",
    "                             task[\"contribution_complexity\"],\n",
    "                             task[\"communication\"],\n",
    "                             task[\"duration\"],\n",
    "                             ])\n",
    "\n",
    "    # Print the number of unique tasks found\n",
    "    print(f\"There are {len(tasks)} unique tasks.\")\n",
    "    return tasks\n"
   ]
  },
  {
   "cell_type": "markdown",
   "metadata": {},
   "source": [
    "Call the function to create the file"
   ]
  },
  {
   "cell_type": "code",
   "execution_count": 29,
   "metadata": {},
   "outputs": [
    {
     "name": "stdout",
     "output_type": "stream",
     "text": [
      "Timeline of the project:  ['2016', '2017', '2018', '2019']\n",
      "There are 2770 unique tasks.\n"
     ]
    }
   ],
   "source": [
    "json_analysis_results = analyze_tasks(\n",
    "    json_obj, tasks_path, save_path + 'dev_experience.csv')"
   ]
  },
  {
   "cell_type": "markdown",
   "metadata": {},
   "source": [
    "## Step 7\n",
    "\n",
    "### Set the task informations by using the get_task_info function"
   ]
  },
  {
   "cell_type": "code",
   "execution_count": 36,
   "metadata": {},
   "outputs": [],
   "source": [
    "def set_task_info(output, new_output):\n",
    "    # Load the data from the CSV file\n",
    "    df = pd.read_csv(output)\n",
    "    \n",
    "    \n",
    "    # Apply the get_task_type function to the task_message column to generate the task_type column\n",
    "    df[[\"task_type\", \"has_bug_fixing\", \"has_code_refactoring\"]] = df.apply(lambda row: pd.Series(get_task_info(row[\"task_message\"], row[\"is_fix_related\"] or row[\"is_bug_fixing\"], row[\"is_refactoring\"])), axis=1)\n",
    "\n",
    "\n",
    "    # Save the updated dataframe to a new CSV file\n",
    "    output_file = os.path.join(\n",
    "        os.path.dirname(output), new_output)\n",
    "    df.to_csv(output_file, index=False)\n",
    "    print(f\"There are {len(df)} rows updated.\")\n"
   ]
  },
  {
   "cell_type": "markdown",
   "metadata": {},
   "source": [
    "Call the function to create the file"
   ]
  },
  {
   "cell_type": "code",
   "execution_count": 37,
   "metadata": {},
   "outputs": [
    {
     "name": "stdout",
     "output_type": "stream",
     "text": [
      "There are 2770 rows updated.\n"
     ]
    }
   ],
   "source": [
    "set_task_info(tasks_path, tasks_output_path)"
   ]
  },
  {
   "cell_type": "markdown",
   "metadata": {},
   "source": [
    "## Step 8\n",
    "### Add actual metrics calculation and Clean the data so that it can be used for causal estimations"
   ]
  },
  {
   "cell_type": "markdown",
   "metadata": {},
   "source": [
    "#### Helper functions"
   ]
  },
  {
   "cell_type": "code",
   "execution_count": 38,
   "metadata": {},
   "outputs": [],
   "source": [
    "def calculate_task_type(task_type):\n",
    "    task_types = {\n",
    "        \"Feature requests or new feature\": 1,\n",
    "        \"Bug fixes\": 2,\n",
    "        \"Code Refactoring\": 3,\n",
    "        \"Documentation\": 4,\n",
    "        \"Testing\": 5,\n",
    "        \"Deployment\": 6,\n",
    "        \"Maintenance\": 7,\n",
    "        \"Other\": 8\n",
    "    }\n",
    "\n",
    "    return task_types.get(task_type, -1)\n",
    "\n",
    "\n",
    "def convert_bool_to_int(bool_str):\n",
    "    bool_str = str(bool_str)\n",
    "    if bool_str.lower() == 'true':\n",
    "        return 1\n",
    "    elif bool_str.lower() == 'false':\n",
    "        return 0\n",
    "    else:\n",
    "        raise ValueError(\"Input string must be 'true' or 'false'\")\n",
    "\n",
    "\n",
    "def get_index_of_dev(input_csv_file, email):\n",
    "    csvreader = read_csv_file(input_csv_file)\n",
    "    for row in csvreader[1:]:\n",
    "        if (row[1] == email):\n",
    "            return row[0]\n",
    "    return -1"
   ]
  },
  {
   "cell_type": "markdown",
   "metadata": {},
   "source": [
    "### Actual metrics calculation"
   ]
  },
  {
   "cell_type": "markdown",
   "metadata": {},
   "source": [
    "Lizard is an open-source Cyclomatic Complexity Analyzer that is used here to compute a program's cyclomatic complexity.\n",
    "\n",
    "Cyclomatic complexity is a software statistic that indicates a program's complexity by counting the number of linearly independent pathways across its source code. It is computed using the program's control-flow graph, where nodes correspond to groups of commands in the program and a directed edge connects two nodes if the second command might be executed shortly after the first command.\n",
    "\n",
    "### Sources\n",
    "1. Code Quality - Cyclomatic Complexity - Sticky Bits - Feabhas, https://blog.feabhas.com/2018/07/code-quality-cyclomatic-complexity/\n",
    "Running Lizard, an open-source Cyclomatic Complexity Analyzer, ... the number of linearly independent paths through a program's source code. \n",
    "\n",
    "2. Cyclomatic complexity, https://en.wikipedia.org/wiki/Cyclomatic_complexity\n",
    "Cyclomatic complexity is a software metric used to indicate the complexity of a program. It is a quantitative measure of the number of linearly independent paths ... The cyclomatic complexity of a section of source code is the number of ...\n",
    "\n",
    "3. Cyclomatic Complexity, https://www.geeksforgeeks.org/cyclomatic-complexity/\n",
    "It is a software metric used to indicate the complexity of a program. It is computed using the Control Flow Graph of the program. The nodes in ...\n"
   ]
  },
  {
   "cell_type": "code",
   "execution_count": 39,
   "metadata": {},
   "outputs": [],
   "source": [
    "# Checkout to a specific commit hash in a Git repository.\n",
    "def checkout_to_commit_hash(commit_hash):\n",
    "    \n",
    "    subprocess.run(['clear'], shell=True)\n",
    "\n",
    "    # Run the Git checkout command\n",
    "    subprocess.run(['git', 'checkout', commit_hash, '--f'])\n",
    "    \n",
    "    # Get metric\n",
    "    total_nloc, avg_nloc, avg_ccn, avg_token, fun_cnt, warning_cnt, fun_rate, nloc_rate = analyze_lizard_metric()\n",
    "    \n",
    "    # Return metric\n",
    "    return  total_nloc, avg_nloc, avg_ccn, avg_token, fun_cnt, warning_cnt, fun_rate, nloc_rate\n",
    "\n",
    "# Calls the Lizard command line tool on a directory of source files and returns the code metrics as a map.\n",
    "def analyze_lizard_metric():\n",
    "    # Construct the Lizard command\n",
    "    command = f'lizard .'\n",
    "    result = subprocess.run(command, shell=True, capture_output=True, text=True)\n",
    "\n",
    "    # Parse the output and extract the code metrics\n",
    "    output_lines = result.stdout.split('\\n')\n",
    "    output_list = []\n",
    "    for line in output_lines:\n",
    "        line_list = line.split('\\n')\n",
    "        output_list.append(line_list)\n",
    "        \n",
    "    if(output_lines[-4].startswith('Total ')):\n",
    "        last_line = output_lines[-2]\n",
    "        values = last_line.split()\n",
    "        metrics = [float(value) for value in values]\n",
    "        # Create a map of the code metrics\n",
    "        total_nloc = int(metrics[0])\n",
    "        avg_nloc = float(metrics[1])\n",
    "        avg_ccn = float(metrics[2])\n",
    "        avg_token = float(metrics[3])\n",
    "        fun_cnt = int(metrics[4])\n",
    "        warning_cnt = int(metrics[5])\n",
    "        fun_rate = float(metrics[6])\n",
    "        nloc_rate = float(metrics[7])\n",
    "        \n",
    "        return total_nloc, avg_nloc, avg_ccn, avg_token, fun_cnt, warning_cnt, fun_rate, nloc_rate\n",
    "    else:\n",
    "        return \"Error\"\n",
    "    "
   ]
  },
  {
   "cell_type": "markdown",
   "metadata": {},
   "source": [
    "#### Reset path"
   ]
  },
  {
   "cell_type": "code",
   "execution_count": 40,
   "metadata": {},
   "outputs": [
    {
     "name": "stdout",
     "output_type": "stream",
     "text": [
      "/Users/blenassefa/Documents/CS/Thesis/thesis_experiments\n",
      "Reseted path\n"
     ]
    }
   ],
   "source": [
    "# get the current working directory\n",
    "current_dir = os.getcwd()\n",
    "\n",
    "# change the current working directory to the parent directory\n",
    "os.chdir(os.path.dirname(current_dir))\n",
    "\n",
    "print(os.getcwd())\n",
    "print(\"Reseted path\")"
   ]
  },
  {
   "cell_type": "code",
   "execution_count": 38,
   "metadata": {},
   "outputs": [],
   "source": [
    "def clean_csv_data(input_file_path, output_file_path, developer_csv):\n",
    "\n",
    "    # open input and output files\n",
    "    with open(input_file_path, 'r') as input_file:\n",
    "        with open(output_file_path, 'w', newline='') as output_file:\n",
    "\n",
    "        # define headers\n",
    "            headers = [\n",
    "                'task_type',\n",
    "                'has_bug_fixing',\n",
    "                'has_code_refactoring',\n",
    "                'loc',\n",
    "                'files_touched',\n",
    "                'author',\n",
    "                'committer',\n",
    "                'authored_at',\n",
    "                'commited_at',\n",
    "                'commit_time_in_day',\n",
    "                'author_experience',\n",
    "                'committer_experience',\n",
    "                'code_quality',\n",
    "                'contribution_complexity',\n",
    "                'communication',\n",
    "                'total_nloc',\n",
    "                'avg_nloc',\n",
    "                'avg_ccn',\n",
    "                'avg_token',\n",
    "                'fun_cnt',\n",
    "                'warning_cnt',\n",
    "                'fun_rate',\n",
    "                'nloc_rate',\n",
    "                'duration',\n",
    "                ]\n",
    "\n",
    "        # create a CSV writer object and write headers to output file\n",
    "            writer = csv.writer(output_file)\n",
    "            writer.writerow(headers)\n",
    "\n",
    "        # read each row from input file and process it\n",
    "            reader = csv.reader(input_file)\n",
    "            next(reader)  # skip header row\n",
    "\n",
    "            cwd = os.getcwd()\n",
    "            for row in reader:\n",
    "\n",
    "            # extract values from specific columns\n",
    "                task_type = calculate_task_type(row[2])\n",
    "                has_bug_fixing = convert_bool_to_int(row[3])\n",
    "                has_code_refactoring = convert_bool_to_int(row[4])\n",
    "                loc = int(row[8]) + int(row[9])\n",
    "                files_touched = int(row[10])\n",
    "                author = get_index_of_dev(developer_csv, row[12])\n",
    "                committer = get_index_of_dev(developer_csv, row[13])\n",
    "                authored_at = datetime.datetime.strptime(row[14],\n",
    "                        '%m/%d/%Y, %H:%M:%S')\n",
    "                commited_at = datetime.datetime.strptime(row[16],\n",
    "                        '%m/%d/%Y, %H:%M:%S')\n",
    "                commit_time_in_day = int(row[18])\n",
    "                author_experience = int(row[19])\n",
    "                committer_experience = int(row[20])\n",
    "                code_quality = float(row[21])\n",
    "                contribution_complexity = float(row[22])\n",
    "                communication = convert_bool_to_int(row[23])\n",
    "                duration = float(row[24])\n",
    "                  \n",
    "                # Change the current working directory to the repository\n",
    "                os.chdir(path_to_repo)\n",
    "\n",
    "                (total_nloc, avg_nloc, avg_ccn, avg_token, fun_cnt, \n",
    "                 warning_cnt, fun_rate, nloc_rate) = checkout_to_commit_hash(row[0])\n",
    "               \n",
    "                \n",
    "                # Change the working directory back to its original value\n",
    "                os.chdir(cwd)\n",
    "\n",
    "               # create a list of all values in the row\n",
    "                row_data = [\n",
    "                    task_type,\n",
    "                    has_bug_fixing,\n",
    "                    has_code_refactoring,\n",
    "                    loc,\n",
    "                    files_touched,\n",
    "                    author,\n",
    "                    committer,\n",
    "                    authored_at,\n",
    "                    commited_at,\n",
    "                    commit_time_in_day,\n",
    "                    author_experience,\n",
    "                    committer_experience,\n",
    "                    code_quality,\n",
    "                    contribution_complexity,\n",
    "                    communication,\n",
    "                    total_nloc,\n",
    "                    avg_nloc,\n",
    "                    avg_ccn,\n",
    "                    avg_token,\n",
    "                    fun_cnt,\n",
    "                    warning_cnt,\n",
    "                    fun_rate,\n",
    "                    nloc_rate,\n",
    "                    duration,\n",
    "                    ]\n",
    "\n",
    "            # write the row to output file\n",
    "\n",
    "                writer.writerow(row_data)\n",
    "                \n",
    "print(\"This marks complete. 🚀 🚀 🚀\")"
   ]
  },
  {
   "cell_type": "markdown",
   "metadata": {},
   "source": [
    " Call the function to create the file"
   ]
  },
  {
   "cell_type": "code",
   "execution_count": 39,
   "metadata": {},
   "outputs": [
    {
     "name": "stdout",
     "output_type": "stream",
     "text": [
      "\u001b[H\u001b[2J\u001b[H\u001b[2J"
     ]
    },
    {
     "name": "stderr",
     "output_type": "stream",
     "text": [
      "Previous HEAD position was 68969e5 Remove this useless Views column in discussions;\n",
      "HEAD is now at 003341b Initial commit\n",
      "Previous HEAD position was 003341b Initial commit\n",
      "HEAD is now at b2579a6 added .gitignore\n",
      "Previous HEAD position was b2579a6 added .gitignore\n",
      "HEAD is now at e854d43 A MVC base to get us started. Node: the model directory is empty because I haven't gotten around to playing with mongoose. Closes #17.\n"
     ]
    },
    {
     "name": "stdout",
     "output_type": "stream",
     "text": [
      "\u001b[H\u001b[2J\u001b[H\u001b[2J"
     ]
    },
    {
     "name": "stderr",
     "output_type": "stream",
     "text": [
      "Previous HEAD position was e854d43 A MVC base to get us started. Node: the model directory is empty because I haven't gotten around to playing with mongoose. Closes #17.\n",
      "HEAD is now at 8447890 Whoops, left out a comma.\n"
     ]
    },
    {
     "name": "stdout",
     "output_type": "stream",
     "text": [
      "\u001b[H\u001b[2J"
     ]
    },
    {
     "name": "stderr",
     "output_type": "stream",
     "text": [
      "Previous HEAD position was 8447890 Whoops, left out a comma.\n",
      "HEAD is now at fcee690 Fixed missing module due to .gitignore\n"
     ]
    },
    {
     "name": "stdout",
     "output_type": "stream",
     "text": [
      "\u001b[H\u001b[2J"
     ]
    },
    {
     "name": "stderr",
     "output_type": "stream",
     "text": [
      "Previous HEAD position was fcee690 Fixed missing module due to .gitignore\n",
      "HEAD is now at a0e738c Moved muExpress.js to a lib dir.\n"
     ]
    },
    {
     "name": "stdout",
     "output_type": "stream",
     "text": [
      "\u001b[H\u001b[2J"
     ]
    },
    {
     "name": "stderr",
     "output_type": "stream",
     "text": [
      "Previous HEAD position was a0e738c Moved muExpress.js to a lib dir.\n",
      "HEAD is now at c289f3b Use the relative path of muExpress explicitly.\n"
     ]
    },
    {
     "name": "stdout",
     "output_type": "stream",
     "text": [
      "\u001b[H\u001b[2J"
     ]
    },
    {
     "name": "stderr",
     "output_type": "stream",
     "text": [
      "Previous HEAD position was c289f3b Use the relative path of muExpress explicitly.\n",
      "HEAD is now at 6b1bb89 added more static routes and a var for controllers\n"
     ]
    },
    {
     "name": "stdout",
     "output_type": "stream",
     "text": [
      "\u001b[H\u001b[2J"
     ]
    },
    {
     "name": "stderr",
     "output_type": "stream",
     "text": [
      "Previous HEAD position was 6b1bb89 added more static routes and a var for controllers\n",
      "HEAD is now at ba1802a You don't need to tell express.s.static about subdirectories.\n"
     ]
    },
    {
     "name": "stdout",
     "output_type": "stream",
     "text": [
      "\u001b[H\u001b[2J"
     ]
    },
    {
     "name": "stderr",
     "output_type": "stream",
     "text": [
      "Previous HEAD position was ba1802a You don't need to tell express.s.static about subdirectories.\n",
      "HEAD is now at 8bfeeab Setup basic login and session management of a single hardcoded user account for #1.\n"
     ]
    },
    {
     "name": "stdout",
     "output_type": "stream",
     "text": [
      "\u001b[H\u001b[2J"
     ]
    },
    {
     "name": "stderr",
     "output_type": "stream",
     "text": [
      "Previous HEAD position was 8bfeeab Setup basic login and session management of a single hardcoded user account for #1.\n",
      "HEAD is now at a2dc789 Get our site working with nodejitsu\n"
     ]
    },
    {
     "name": "stdout",
     "output_type": "stream",
     "text": [
      "\u001b[H\u001b[2J"
     ]
    },
    {
     "name": "stderr",
     "output_type": "stream",
     "text": [
      "Previous HEAD position was a2dc789 Get our site working with nodejitsu\n",
      "HEAD is now at 103a253 Add a deployment status badge to the README.\n"
     ]
    },
    {
     "name": "stdout",
     "output_type": "stream",
     "text": [
      "\u001b[H\u001b[2J"
     ]
    },
    {
     "name": "stderr",
     "output_type": "stream",
     "text": [
      "Previous HEAD position was 103a253 Add a deployment status badge to the README.\n",
      "HEAD is now at 8791b55 Create .editorconfig, fixes #30\n"
     ]
    },
    {
     "name": "stdout",
     "output_type": "stream",
     "text": [
      "\u001b[H\u001b[2J"
     ]
    },
    {
     "name": "stderr",
     "output_type": "stream",
     "text": [
      "Previous HEAD position was 8791b55 Create .editorconfig, fixes #30\n",
      "HEAD is now at 9e092a5 Explicitly set the content-type to text/html when rendering templates.\n"
     ]
    },
    {
     "name": "stdout",
     "output_type": "stream",
     "text": [
      "\u001b[H\u001b[2J"
     ]
    },
    {
     "name": "stderr",
     "output_type": "stream",
     "text": [
      "Previous HEAD position was 9e092a5 Explicitly set the content-type to text/html when rendering templates.\n",
      "HEAD is now at d59a1c7 GitHub and Facebook authentication working.\n"
     ]
    },
    {
     "name": "stdout",
     "output_type": "stream",
     "text": [
      "\u001b[H\u001b[2J\u001b[H\u001b[2J"
     ]
    },
    {
     "name": "stderr",
     "output_type": "stream",
     "text": [
      "Previous HEAD position was d59a1c7 GitHub and Facebook authentication working.\n",
      "HEAD is now at a64d1c5 updated version\n",
      "Previous HEAD position was a64d1c5 updated version\n",
      "HEAD is now at 93d851a Users can login without selecting a authenticator and can link multiple authenticators to their account.\n"
     ]
    },
    {
     "name": "stdout",
     "output_type": "stream",
     "text": [
      "\u001b[H\u001b[2J\u001b[H\u001b[2J"
     ]
    },
    {
     "name": "stderr",
     "output_type": "stream",
     "text": [
      "Previous HEAD position was 93d851a Users can login without selecting a authenticator and can link multiple authenticators to their account.\n",
      "HEAD is now at 04a8908 Fix new dependencies in package.json\n",
      "Previous HEAD position was 04a8908 Fix new dependencies in package.json\n",
      "HEAD is now at caab06b Remove leftover code.\n"
     ]
    },
    {
     "name": "stdout",
     "output_type": "stream",
     "text": [
      "\u001b[H\u001b[2J\u001b[H\u001b[2J"
     ]
    },
    {
     "name": "stderr",
     "output_type": "stream",
     "text": [
      "Previous HEAD position was caab06b Remove leftover code.\n",
      "HEAD is now at 030a7ae Add a db connection to nodejitsu. Use production environment variable to seperate development code.\n",
      "Previous HEAD position was 030a7ae Add a db connection to nodejitsu. Use production environment variable to seperate development code.\n",
      "HEAD is now at e1cb3e4 Added a blank .npmignore file so nodejitsu wouldn't use .gitignore, so I can keep some files out of git and still deploy them.\n"
     ]
    },
    {
     "name": "stdout",
     "output_type": "stream",
     "text": [
      "\u001b[H\u001b[2J\u001b[H\u001b[2J"
     ]
    },
    {
     "name": "stderr",
     "output_type": "stream",
     "text": [
      "Previous HEAD position was e1cb3e4 Added a blank .npmignore file so nodejitsu wouldn't use .gitignore, so I can keep some files out of git and still deploy them.\n",
      "HEAD is now at da7cb3b Fuck passports inconsistent session management for user data.\n",
      "Previous HEAD position was da7cb3b Fuck passports inconsistent session management for user data.\n",
      "HEAD is now at c3b6596 Manage the authentication strategy keys for OAuth via a webpage.\n"
     ]
    },
    {
     "name": "stdout",
     "output_type": "stream",
     "text": [
      "\u001b[H\u001b[2J\u001b[H\u001b[2J"
     ]
    },
    {
     "name": "stderr",
     "output_type": "stream",
     "text": [
      "Previous HEAD position was c3b6596 Manage the authentication strategy keys for OAuth via a webpage.\n",
      "HEAD is now at 390b095 A commit so massive I would need to write a novel than just a message. But it closes #1.\n",
      "Previous HEAD position was 390b095 A commit so massive I would need to write a novel than just a message. But it closes #1.\n",
      "HEAD is now at c11911f Fix stupid registration bug.\n"
     ]
    },
    {
     "name": "stdout",
     "output_type": "stream",
     "text": [
      "\u001b[H\u001b[2J\u001b[H\u001b[2J"
     ]
    },
    {
     "name": "stderr",
     "output_type": "stream",
     "text": [
      "Previous HEAD position was c11911f Fix stupid registration bug.\n",
      "HEAD is now at ccc6c91 use promises already provided by mongoose instead of a custom wait.js() module\n",
      "Previous HEAD position was ccc6c91 use promises already provided by mongoose instead of a custom wait.js() module\n",
      "HEAD is now at 155f513 various bug fixes in admin.js; make sure apiAdminUpdate checks for tasks *after* find() completes\n"
     ]
    },
    {
     "name": "stdout",
     "output_type": "stream",
     "text": [
      "\u001b[H\u001b[2J\u001b[H\u001b[2J"
     ]
    },
    {
     "name": "stderr",
     "output_type": "stream",
     "text": [
      "Previous HEAD position was 155f513 various bug fixes in admin.js; make sure apiAdminUpdate checks for tasks *after* find() completes\n",
      "HEAD is now at 57c4d88 use then instead of addCallback\n",
      "Previous HEAD position was 57c4d88 use then instead of addCallback\n",
      "HEAD is now at 8928066 fixed /admin/api/update hang bug\n"
     ]
    },
    {
     "name": "stdout",
     "output_type": "stream",
     "text": [
      "\u001b[H\u001b[2J\u001b[H\u001b[2J"
     ]
    },
    {
     "name": "stderr",
     "output_type": "stream",
     "text": [
      "Previous HEAD position was 8928066 fixed /admin/api/update hang bug\n",
      "HEAD is now at b7b58b1 Add helper functions for dealing with looping over object properties. Closes #40.\n",
      "Previous HEAD position was b7b58b1 Add helper functions for dealing with looping over object properties. Closes #40.\n",
      "HEAD is now at 9170c34 Left out the helpers lib in the last commit. #40\n"
     ]
    },
    {
     "name": "stdout",
     "output_type": "stream",
     "text": [
      "\u001b[H\u001b[2J\u001b[H\u001b[2J"
     ]
    },
    {
     "name": "stderr",
     "output_type": "stream",
     "text": [
      "Previous HEAD position was 9170c34 Left out the helpers lib in the last commit. #40\n",
      "HEAD is now at 6cbbe7f Add an empty option so you can just type in your username when logging in.\n",
      "Previous HEAD position was 6cbbe7f Add an empty option so you can just type in your username when logging in.\n",
      "HEAD is now at 85f230b Enforce user roles.\n"
     ]
    },
    {
     "name": "stdout",
     "output_type": "stream",
     "text": [
      "\u001b[H\u001b[2J\u001b[H\u001b[2J"
     ]
    },
    {
     "name": "stderr",
     "output_type": "stream",
     "text": [
      "Previous HEAD position was 85f230b Enforce user roles.\n",
      "HEAD is now at ca3f9ad Support WebMatrix\n",
      "Previous HEAD position was ca3f9ad Support WebMatrix\n",
      "HEAD is now at 3ca7eb3 Use environment listening port number.\n"
     ]
    },
    {
     "name": "stdout",
     "output_type": "stream",
     "text": [
      "\u001b[H\u001b[2J\u001b[H\u001b[2J"
     ]
    },
    {
     "name": "stderr",
     "output_type": "stream",
     "text": [
      "Previous HEAD position was 3ca7eb3 Use environment listening port number.\n",
      "HEAD is now at 914e4e8 Reject OpenID profiles. This should fix most of the OpenID strategies.\n",
      "Previous HEAD position was 914e4e8 Reject OpenID profiles. This should fix most of the OpenID strategies.\n",
      "HEAD is now at be2e5a1 Remove Promise in favor of custom Wait library because it wasn't working on the /admin/api page.\n"
     ]
    },
    {
     "name": "stdout",
     "output_type": "stream",
     "text": [
      "\u001b[H\u001b[2J\u001b[H\u001b[2J"
     ]
    },
    {
     "name": "stderr",
     "output_type": "stream",
     "text": [
      "Previous HEAD position was be2e5a1 Remove Promise in favor of custom Wait library because it wasn't working on the /admin/api page.\n",
      "HEAD is now at 984b542 Fix Google authentication.\n",
      "Previous HEAD position was 984b542 Fix Google authentication.\n",
      "HEAD is now at b99deab Remove PayPal authentication since it doesn't work and is tied to money so I'd be weird to use.\n"
     ]
    },
    {
     "name": "stdout",
     "output_type": "stream",
     "text": [
      "\u001b[H\u001b[2J\u001b[H\u001b[2J"
     ]
    },
    {
     "name": "stderr",
     "output_type": "stream",
     "text": [
      "Previous HEAD position was b99deab Remove PayPal authentication since it doesn't work and is tied to money so I'd be weird to use.\n",
      "HEAD is now at 1d55eb9 Removing Netflix because it's a pay service and would also be weird to log in with.\n",
      "Previous HEAD position was 1d55eb9 Removing Netflix because it's a pay service and would also be weird to log in with.\n",
      "HEAD is now at 38f7eff Added a few more authentication strategies.\n"
     ]
    },
    {
     "name": "stdout",
     "output_type": "stream",
     "text": [
      "\u001b[H\u001b[2J\u001b[H\u001b[2J"
     ]
    },
    {
     "name": "stderr",
     "output_type": "stream",
     "text": [
      "Previous HEAD position was 38f7eff Added a few more authentication strategies.\n",
      "HEAD is now at 7f039b4 Use environment listening port number.\n",
      "Previous HEAD position was 7f039b4 Use environment listening port number.\n",
      "HEAD is now at 73356b0 Minor bugfix.\n"
     ]
    },
    {
     "name": "stdout",
     "output_type": "stream",
     "text": [
      "\u001b[H\u001b[2J\u001b[H\u001b[2J"
     ]
    },
    {
     "name": "stderr",
     "output_type": "stream",
     "text": [
      "Previous HEAD position was 73356b0 Minor bugfix.\n",
      "HEAD is now at 1a2be58 Prevent the creation of account with an existing username.\n",
      "Previous HEAD position was 1a2be58 Prevent the creation of account with an existing username.\n",
      "HEAD is now at 7c9570a Update STYLEGUIDE.md\n"
     ]
    },
    {
     "name": "stdout",
     "output_type": "stream",
     "text": [
      "\u001b[H\u001b[2J"
     ]
    },
    {
     "name": "stderr",
     "output_type": "stream",
     "text": [
      "Previous HEAD position was 7c9570a Update STYLEGUIDE.md\n",
      "HEAD is now at 7d667b8 Make sure a username doesn't have leading or trailing whitespace.\n"
     ]
    },
    {
     "name": "stdout",
     "output_type": "stream",
     "text": [
      "\u001b[H\u001b[2J\u001b[H\u001b[2J"
     ]
    },
    {
     "name": "stderr",
     "output_type": "stream",
     "text": [
      "Previous HEAD position was 7d667b8 Make sure a username doesn't have leading or trailing whitespace.\n",
      "HEAD is now at 8f4abf4 Capture GH user ids so that we can pull userscripts from their repos later on.\n",
      "Previous HEAD position was 8f4abf4 Capture GH user ids so that we can pull userscripts from their repos later on.\n",
      "HEAD is now at 189e23d A little ground work for upload scripts to the site (#2).\n"
     ]
    },
    {
     "name": "stdout",
     "output_type": "stream",
     "text": [
      "\u001b[H\u001b[2J\u001b[H\u001b[2J"
     ]
    },
    {
     "name": "stderr",
     "output_type": "stream",
     "text": [
      "Previous HEAD position was 189e23d A little ground work for upload scripts to the site (#2).\n",
      "HEAD is now at b69c617 Script forward slashing from usernames since we will be using them in urls. Yes we will replace inner spaces with underscores later on since that replacement is reversible.\n",
      "Previous HEAD position was b69c617 Script forward slashing from usernames since we will be using them in urls. Yes we will replace inner spaces with underscores later on since that replacement is reversible.\n",
      "HEAD is now at b0e1ffb Added user profiles and a page to edit it, which is where we'll elict GH repo information from the user.\n"
     ]
    },
    {
     "name": "stdout",
     "output_type": "stream",
     "text": [
      "\u001b[H\u001b[2J\u001b[H\u001b[2J"
     ]
    },
    {
     "name": "stderr",
     "output_type": "stream",
     "text": [
      "Previous HEAD position was b0e1ffb Added user profiles and a page to edit it, which is where we'll elict GH repo information from the user.\n",
      "HEAD is now at 462638e Added an updated date to the script model.\n",
      "Previous HEAD position was 462638e Added an updated date to the script model.\n",
      "HEAD is now at 988a242 A bunch of refactoring. I know I probably missed a few things and admin.js needs more comments, but it's a start.\n"
     ]
    },
    {
     "name": "stdout",
     "output_type": "stream",
     "text": [
      "\u001b[H\u001b[2J"
     ]
    },
    {
     "name": "stderr",
     "output_type": "stream",
     "text": [
      "Previous HEAD position was 988a242 A bunch of refactoring. I know I probably missed a few things and admin.js needs more comments, but it's a start.\n",
      "HEAD is now at d1ab7fb Get authenication with reddit to w work.\n"
     ]
    },
    {
     "name": "stdout",
     "output_type": "stream",
     "text": [
      "\u001b[H\u001b[2J\u001b[H\u001b[2J"
     ]
    },
    {
     "name": "stderr",
     "output_type": "stream",
     "text": [
      "Previous HEAD position was d1ab7fb Get authenication with reddit to w work.\n",
      "HEAD is now at 8414b8d Only display which repos contain user scripts and list them on /user/edit page. This won't be the permadent place for this because it takes time to search the repos.\n",
      "Previous HEAD position was 8414b8d Only display which repos contain user scripts and list them on /user/edit page. This won't be the permadent place for this because it takes time to search the repos.\n",
      "HEAD is now at 2cc75d0 Strip leading questions marks from usernames because it would create confusion in urls.\n"
     ]
    },
    {
     "name": "stdout",
     "output_type": "stream",
     "text": [
      "\u001b[H\u001b[2J\u001b[H\u001b[2J"
     ]
    },
    {
     "name": "stderr",
     "output_type": "stream",
     "text": [
      "Previous HEAD position was 2cc75d0 Strip leading questions marks from usernames because it would create confusion in urls.\n",
      "HEAD is now at 30c15c2 Put the login form on a seperate page.\n",
      "Previous HEAD position was 30c15c2 Put the login form on a seperate page.\n",
      "HEAD is now at 262be3a Reorder and link things a bit.\n"
     ]
    },
    {
     "name": "stdout",
     "output_type": "stream",
     "text": [
      "\u001b[H\u001b[2J"
     ]
    },
    {
     "name": "stderr",
     "output_type": "stream",
     "text": [
      "Previous HEAD position was 262be3a Reorder and link things a bit.\n",
      "HEAD is now at 715f11d Expecting me to alphabetize my variable declarations is both ridiculous and unnecessarily tedious. I'm never going to do that and I don't expect anyone else to.\n",
      "Previous HEAD position was 715f11d Expecting me to alphabetize my variable declarations is both ridiculous and unnecessarily tedious. I'm never going to do that and I don't expect anyone else to.\n",
      "HEAD is now at cf6e4fc Load the user scripts from GH with a button.\n"
     ]
    },
    {
     "name": "stdout",
     "output_type": "stream",
     "text": [
      "\u001b[H\u001b[2J\u001b[H\u001b[2J"
     ]
    },
    {
     "name": "stderr",
     "output_type": "stream",
     "text": [
      "Previous HEAD position was cf6e4fc Load the user scripts from GH with a button.\n",
      "HEAD is now at b400c36 Changed the mu root so adding partials is cleaner.\n"
     ]
    },
    {
     "name": "stdout",
     "output_type": "stream",
     "text": [
      "\u001b[H\u001b[2J\u001b[H\u001b[2J"
     ]
    },
    {
     "name": "stderr",
     "output_type": "stream",
     "text": [
      "Previous HEAD position was b400c36 Changed the mu root so adding partials is cleaner.\n",
      "HEAD is now at a6353e6 Fix Login/Logout links.\n",
      "Previous HEAD position was a6353e6 Fix Login/Logout links.\n",
      "HEAD is now at b2028e2 Output the source of seleted user scripts to the console.\n"
     ]
    },
    {
     "name": "stdout",
     "output_type": "stream",
     "text": [
      "\u001b[H\u001b[2J\u001b[H\u001b[2J"
     ]
    },
    {
     "name": "stderr",
     "output_type": "stream",
     "text": [
      "Previous HEAD position was b2028e2 Output the source of seleted user scripts to the console.\n",
      "HEAD is now at 57471b7 Strip additional characters from usernames and make them case-insensitive for complex reasons regarding #2.\n",
      "Previous HEAD position was 57471b7 Strip additional characters from usernames and make them case-insensitive for complex reasons regarding #2.\n",
      "HEAD is now at 9e07ff4 Store scripts on Amazon S3.\n"
     ]
    },
    {
     "name": "stdout",
     "output_type": "stream",
     "text": [
      "\u001b[H\u001b[2J\u001b[H\u001b[2J"
     ]
    },
    {
     "name": "stderr",
     "output_type": "stream",
     "text": [
      "Previous HEAD position was 9e07ff4 Store scripts on Amazon S3.\n",
      "HEAD is now at ac77c03 Working install counts.\n",
      "Previous HEAD position was ac77c03 Working install counts.\n",
      "HEAD is now at de76e3a .meta.js Closes #4\n"
     ]
    },
    {
     "name": "stdout",
     "output_type": "stream",
     "text": [
      "\u001b[H\u001b[2J"
     ]
    },
    {
     "name": "stderr",
     "output_type": "stream",
     "text": [
      "Previous HEAD position was de76e3a .meta.js Closes #4\n",
      "HEAD is now at 14c9250 Normalize default namespace detection.\n",
      "Previous HEAD position was 14c9250 Normalize default namespace detection.\n",
      "HEAD is now at a1967d0 Use fakes3 for development.\n"
     ]
    },
    {
     "name": "stdout",
     "output_type": "stream",
     "text": [
      "\u001b[H\u001b[2J\u001b[H\u001b[2J"
     ]
    },
    {
     "name": "stderr",
     "output_type": "stream",
     "text": [
      "Previous HEAD position was a1967d0 Use fakes3 for development.\n",
      "HEAD is now at 6d4836d Don't wait on updating the install count before sending the script.\n",
      "Previous HEAD position was 6d4836d Don't wait on updating the install count before sending the script.\n",
      "HEAD is now at 93cbe06 Show script version when available\n"
     ]
    },
    {
     "name": "stdout",
     "output_type": "stream",
     "text": [
      "\u001b[H\u001b[2J\u001b[H\u001b[2J"
     ]
    },
    {
     "name": "stderr",
     "output_type": "stream",
     "text": [
      "Previous HEAD position was 93cbe06 Show script version when available\n",
      "HEAD is now at 9474b31 Include the GPL with the source.\n",
      "Previous HEAD position was 9474b31 Include the GPL with the source.\n",
      "HEAD is now at 49d410a Add a script to run the fake S3 server (requires Ruby). Forward requests for the script source to the metadata if a special value was past in the \"Accept\" header, since Greasemonkey merged this requested change. Only parse metavalues from the actual userscript metadata block.\n"
     ]
    },
    {
     "name": "stdout",
     "output_type": "stream",
     "text": [
      "\u001b[H\u001b[2J\u001b[H\u001b[2J"
     ]
    },
    {
     "name": "stderr",
     "output_type": "stream",
     "text": [
      "Previous HEAD position was 49d410a Add a script to run the fake S3 server (requires Ruby). Forward requests for the script source to the metadata if a special value was past in the \"Accept\" header, since Greasemonkey merged this requested change. Only parse metavalues from the actual userscript metadata block.\n",
      "HEAD is now at f6da2c3 Initial completely untested (except confirming it doesn't break existing functionality) implementation of updating scripts automatically via a GitHub WebHook. This completes GitHub integration and closes #2.\n",
      "Previous HEAD position was f6da2c3 Initial completely untested (except confirming it doesn't break existing functionality) implementation of updating scripts automatically via a GitHub WebHook. This completes GitHub integration and closes #2.\n",
      "HEAD is now at 96cbf96 Don't update a script that doesn't exist.\n"
     ]
    },
    {
     "name": "stdout",
     "output_type": "stream",
     "text": [
      "\u001b[H\u001b[2J\u001b[H\u001b[2J"
     ]
    },
    {
     "name": "stderr",
     "output_type": "stream",
     "text": [
      "Previous HEAD position was 96cbf96 Don't update a script that doesn't exist.\n",
      "HEAD is now at 834f524 Don't load openid strategies in development to reduce dependencies.\n"
     ]
    },
    {
     "name": "stdout",
     "output_type": "stream",
     "text": [
      "\u001b[H\u001b[2J\u001b[H\u001b[2J"
     ]
    },
    {
     "name": "stderr",
     "output_type": "stream",
     "text": [
      "Previous HEAD position was 834f524 Don't load openid strategies in development to reduce dependencies.\n",
      "HEAD is now at 213033a Rely on the DB for script existence checking since there is no good reliable way to do it via S3 except for an explicit existence check which would be overkill.\n",
      "Previous HEAD position was 213033a Rely on the DB for script existence checking since there is no good reliable way to do it via S3 except for an explicit existence check which would be overkill.\n",
      "HEAD is now at 613c68c Validate against the correct GH webhook ips.\n"
     ]
    },
    {
     "name": "stdout",
     "output_type": "stream",
     "text": [
      "\u001b[H\u001b[2J\u001b[H\u001b[2J"
     ]
    },
    {
     "name": "stderr",
     "output_type": "stream",
     "text": [
      "Previous HEAD position was 613c68c Validate against the correct GH webhook ips.\n",
      "HEAD is now at f3a3d55 Set the proper AWS region for S3 in production.\n",
      "Previous HEAD position was f3a3d55 Set the proper AWS region for S3 in production.\n",
      "HEAD is now at 431c90b Fix minor bug.\n"
     ]
    },
    {
     "name": "stdout",
     "output_type": "stream",
     "text": [
      "\u001b[H\u001b[2J\u001b[H\u001b[2J"
     ]
    },
    {
     "name": "stderr",
     "output_type": "stream",
     "text": [
      "Previous HEAD position was 431c90b Fix minor bug.\n",
      "HEAD is now at d2d7780 Use the raw url to retrieve the script source rather than json api method.\n",
      "Previous HEAD position was d2d7780 Use the raw url to retrieve the script source rather than json api method.\n",
      "HEAD is now at 3c715cc Create buffer from script source string in the right place.\n"
     ]
    },
    {
     "name": "stdout",
     "output_type": "stream",
     "text": [
      "\u001b[H\u001b[2J\u001b[H\u001b[2J"
     ]
    },
    {
     "name": "stderr",
     "output_type": "stream",
     "text": [
      "Previous HEAD position was 3c715cc Create buffer from script source string in the right place.\n",
      "HEAD is now at 9f2310f Limit the number of scripts to be imported simultaneously to 5.\n",
      "Previous HEAD position was 9f2310f Limit the number of scripts to be imported simultaneously to 5.\n",
      "HEAD is now at f857add Put a request limit on the user scripts searcher.\n"
     ]
    },
    {
     "name": "stdout",
     "output_type": "stream",
     "text": [
      "\u001b[H\u001b[2J\u001b[H\u001b[2J"
     ]
    },
    {
     "name": "stderr",
     "output_type": "stream",
     "text": [
      "Previous HEAD position was f857add Put a request limit on the user scripts searcher.\n",
      "HEAD is now at 5c92a47 Don't search for user scripts in forks because they likely don't belong to that user.\n",
      "Previous HEAD position was 5c92a47 Don't search for user scripts in forks because they likely don't belong to that user.\n",
      "HEAD is now at b2b2e03 Use mongo to store session data. Closes #68.\n"
     ]
    },
    {
     "name": "stdout",
     "output_type": "stream",
     "text": [
      "\u001b[H\u001b[2J\u001b[H\u001b[2J"
     ]
    },
    {
     "name": "stderr",
     "output_type": "stream",
     "text": [
      "Previous HEAD position was b2b2e03 Use mongo to store session data. Closes #68.\n",
      "HEAD is now at ab54dfa Use buffers to store the script source instead of string to reduce memory usage.\n",
      "Previous HEAD position was ab54dfa Use buffers to store the script source instead of string to reduce memory usage.\n",
      "HEAD is now at ed8620a \"#\" is not url safe, so strip it. Closes #69\n"
     ]
    },
    {
     "name": "stdout",
     "output_type": "stream",
     "text": [
      "\u001b[H\u001b[2J"
     ]
    },
    {
     "name": "stderr",
     "output_type": "stream",
     "text": [
      "Previous HEAD position was ed8620a \"#\" is not url safe, so strip it. Closes #69\n",
      "HEAD is now at f2cc677 Bump version.\n"
     ]
    },
    {
     "name": "stdout",
     "output_type": "stream",
     "text": [
      "\u001b[H\u001b[2J\u001b[H\u001b[2J"
     ]
    },
    {
     "name": "stderr",
     "output_type": "stream",
     "text": [
      "Previous HEAD position was f2cc677 Bump version.\n",
      "HEAD is now at 648dd64 Remove \"#\" characters from usernames as well.\n",
      "Previous HEAD position was 648dd64 Remove \"#\" characters from usernames as well.\n",
      "HEAD is now at 66aaff0 Grammar\n"
     ]
    },
    {
     "name": "stdout",
     "output_type": "stream",
     "text": [
      "\u001b[H\u001b[2J\u001b[H\u001b[2J"
     ]
    },
    {
     "name": "stderr",
     "output_type": "stream",
     "text": [
      "Previous HEAD position was 66aaff0 Grammar\n",
      "HEAD is now at 94212d9 Fixed wrong variable name\n",
      "Previous HEAD position was 94212d9 Fixed wrong variable name\n",
      "HEAD is now at a9393cc For testing in iisnode\n"
     ]
    },
    {
     "name": "stdout",
     "output_type": "stream",
     "text": [
      "\u001b[H\u001b[2J\u001b[H\u001b[2J"
     ]
    },
    {
     "name": "stderr",
     "output_type": "stream",
     "text": [
      "Previous HEAD position was a9393cc For testing in iisnode\n",
      "HEAD is now at f178b71 Use the same regex Greasemonkey uses to match the metadata block. Closes #70.\n",
      "Previous HEAD position was f178b71 Use the same regex Greasemonkey uses to match the metadata block. Closes #70.\n",
      "HEAD is now at 7a53dc1 Repair GH webhook. You must use the application/vnd.github.v3+form format. Leave the event to the default push.\n"
     ]
    },
    {
     "name": "stdout",
     "output_type": "stream",
     "text": [
      "\u001b[H\u001b[2J\u001b[H\u001b[2J"
     ]
    },
    {
     "name": "stderr",
     "output_type": "stream",
     "text": [
      "Previous HEAD position was 7a53dc1 Repair GH webhook. You must use the application/vnd.github.v3+form format. Leave the event to the default push.\n",
      "HEAD is now at b08d07b Nodejitsu does forwarding so it keeps the original ip address in a special header. We need this to validate that a webhook request actually came from GitHub. Closes #66.\n",
      "Previous HEAD position was b08d07b Nodejitsu does forwarding so it keeps the original ip address in a special header. We need this to validate that a webhook request actually came from GitHub. Closes #66.\n",
      "HEAD is now at b76229f Put a sortable and orderable list of scripts on both the home page and profiles. The HTML/CSS is fucked up but that's not my job. Closes #55.\n"
     ]
    },
    {
     "name": "stdout",
     "output_type": "stream",
     "text": [
      "\u001b[H\u001b[2J\u001b[H\u001b[2J"
     ]
    },
    {
     "name": "stderr",
     "output_type": "stream",
     "text": [
      "Previous HEAD position was b76229f Put a sortable and orderable list of scripts on both the home page and profiles. The HTML/CSS is fucked up but that's not my job. Closes #55.\n",
      "HEAD is now at 6d90432 A bit of clean up and adding in some missing files.\n",
      "Previous HEAD position was 6d90432 A bit of clean up and adding in some missing files.\n",
      "HEAD is now at 55577a3 Reorder routes.\n"
     ]
    },
    {
     "name": "stdout",
     "output_type": "stream",
     "text": [
      "\u001b[H\u001b[2J\u001b[H\u001b[2J"
     ]
    },
    {
     "name": "stderr",
     "output_type": "stream",
     "text": [
      "Previous HEAD position was 55577a3 Reorder routes.\n",
      "HEAD is now at 5db1525 Update the user role (from user to script author) when a user uploads a script.\n",
      "Previous HEAD position was 5db1525 Update the user role (from user to script author) when a user uploads a script.\n",
      "HEAD is now at 1abe8a9 Put a list of all scripts on the edit profile page so we can delete them (not yet implemented) and put the webhook info on the add scripts page.\n"
     ]
    },
    {
     "name": "stdout",
     "output_type": "stream",
     "text": [
      "\u001b[H\u001b[2J\u001b[H\u001b[2J"
     ]
    },
    {
     "name": "stderr",
     "output_type": "stream",
     "text": [
      "Previous HEAD position was 1abe8a9 Put a list of all scripts on the edit profile page so we can delete them (not yet implemented) and put the webhook info on the add scripts page.\n",
      "HEAD is now at 1644a50 Upload user scripts from your computer.\n",
      "Previous HEAD position was 1644a50 Upload user scripts from your computer.\n",
      "HEAD is now at d29a404 Forgot to add formidable to the package.json\n"
     ]
    },
    {
     "name": "stdout",
     "output_type": "stream",
     "text": [
      "\u001b[H\u001b[2J\u001b[H\u001b[2J"
     ]
    },
    {
     "name": "stderr",
     "output_type": "stream",
     "text": [
      "Previous HEAD position was d29a404 Forgot to add formidable to the package.json\n",
      "HEAD is now at 5412443 Remove temp migration code.\n",
      "Previous HEAD position was 5412443 Remove temp migration code.\n",
      "HEAD is now at c6c1ada Delete scripts from the profile edit page.\n"
     ]
    },
    {
     "name": "stdout",
     "output_type": "stream",
     "text": [
      "\u001b[H\u001b[2J"
     ]
    },
    {
     "name": "stderr",
     "output_type": "stream",
     "text": [
      "Previous HEAD position was c6c1ada Delete scripts from the profile edit page.\n",
      "HEAD is now at 4f899e3 Write a new script in web browser code editor.\n"
     ]
    },
    {
     "name": "stdout",
     "output_type": "stream",
     "text": [
      "\u001b[H\u001b[2J"
     ]
    },
    {
     "name": "stderr",
     "output_type": "stream",
     "text": [
      "Previous HEAD position was 4f899e3 Write a new script in web browser code editor.\n",
      "HEAD is now at ae636b4 Allow editing of existing scripts using in browser editor. Closes #3\n"
     ]
    },
    {
     "name": "stdout",
     "output_type": "stream",
     "text": [
      "\u001b[H\u001b[2J"
     ]
    },
    {
     "name": "stderr",
     "output_type": "stream",
     "text": [
      "Previous HEAD position was ae636b4 Allow editing of existing scripts using in browser editor. Closes #3\n",
      "HEAD is now at e0d443f Remove .user.js from the edit script url.\n"
     ]
    },
    {
     "name": "stdout",
     "output_type": "stream",
     "text": [
      "\u001b[H\u001b[2J"
     ]
    },
    {
     "name": "stderr",
     "output_type": "stream",
     "text": [
      "Previous HEAD position was e0d443f Remove .user.js from the edit script url.\n",
      "HEAD is now at 52658bc Actually set the author field of a script and update the stored metadata when a script is updated.\n"
     ]
    },
    {
     "name": "stdout",
     "output_type": "stream",
     "text": [
      "\u001b[H\u001b[2J"
     ]
    },
    {
     "name": "stderr",
     "output_type": "stream",
     "text": [
      "Previous HEAD position was 52658bc Actually set the author field of a script and update the stored metadata when a script is updated.\n",
      "HEAD is now at d4ccd04 Added script page, script edit page, and script source page. Forking can be done by just submitting the code on the script source page (modified or not). I still need to finish fork heritage so that proper attribution is given to all authors of the script on the script page.\n"
     ]
    },
    {
     "name": "stdout",
     "output_type": "stream",
     "text": [
      "\u001b[H\u001b[2J"
     ]
    },
    {
     "name": "stderr",
     "output_type": "stream",
     "text": [
      "Previous HEAD position was d4ccd04 Added script page, script edit page, and script source page. Forking can be done by just submitting the code on the script source page (modified or not). I still need to finish fork heritage so that proper attribution is given to all authors of the script on the script page.\n",
      "HEAD is now at bf19e89 Redirect to the script page upon saving the code.\n"
     ]
    },
    {
     "name": "stdout",
     "output_type": "stream",
     "text": [
      "\u001b[H\u001b[2J"
     ]
    },
    {
     "name": "stderr",
     "output_type": "stream",
     "text": [
      "Previous HEAD position was bf19e89 Redirect to the script page upon saving the code.\n",
      "HEAD is now at 4d87720 Fork history is now preserved.\n"
     ]
    },
    {
     "name": "stdout",
     "output_type": "stream",
     "text": [
      "\u001b[H\u001b[2J"
     ]
    },
    {
     "name": "stderr",
     "output_type": "stream",
     "text": [
      "Previous HEAD position was 4d87720 Fork history is now preserved.\n",
      "HEAD is now at 09d5898 Force HTTPS since we now have HTTPS. Closes #34.\n"
     ]
    },
    {
     "name": "stdout",
     "output_type": "stream",
     "text": [
      "\u001b[H\u001b[2J"
     ]
    },
    {
     "name": "stderr",
     "output_type": "stream",
     "text": [
      "Previous HEAD position was 09d5898 Force HTTPS since we now have HTTPS. Closes #34.\n",
      "HEAD is now at a73b02f Force HTTP requests to the correct HTTPS url.\n"
     ]
    },
    {
     "name": "stdout",
     "output_type": "stream",
     "text": [
      "\u001b[H\u001b[2J"
     ]
    },
    {
     "name": "stderr",
     "output_type": "stream",
     "text": [
      "Previous HEAD position was a73b02f Force HTTP requests to the correct HTTPS url.\n",
      "HEAD is now at fdbbac2 Script reviews. Closes #6.\n"
     ]
    },
    {
     "name": "stdout",
     "output_type": "stream",
     "text": [
      "\u001b[H\u001b[2J"
     ]
    },
    {
     "name": "stderr",
     "output_type": "stream",
     "text": [
      "Previous HEAD position was fdbbac2 Script reviews. Closes #6.\n",
      "HEAD is now at d4a16b6 Remove custom Wait library completely and use async.\n"
     ]
    },
    {
     "name": "stdout",
     "output_type": "stream",
     "text": [
      "\u001b[H\u001b[2J"
     ]
    },
    {
     "name": "stderr",
     "output_type": "stream",
     "text": [
      "Previous HEAD position was d4a16b6 Remove custom Wait library completely and use async.\n",
      "HEAD is now at e9b3cfe Strip addtional characters from url parameters (closes #78) and remove circular require (closes #66).\n"
     ]
    },
    {
     "name": "stdout",
     "output_type": "stream",
     "text": [
      "\u001b[H\u001b[2J"
     ]
    },
    {
     "name": "stderr",
     "output_type": "stream",
     "text": [
      "Previous HEAD position was e9b3cfe Strip addtional characters from url parameters (closes #78) and remove circular require (closes #66).\n",
      "HEAD is now at aa81467 Fix some old migration that prevented me from importing scripts from GitHub.\n"
     ]
    },
    {
     "name": "stdout",
     "output_type": "stream",
     "text": [
      "\u001b[H\u001b[2J"
     ]
    },
    {
     "name": "stderr",
     "output_type": "stream",
     "text": [
      "Previous HEAD position was aa81467 Fix some old migration that prevented me from importing scripts from GitHub.\n",
      "HEAD is now at 23803ba Be more specific in bugfix.\n"
     ]
    },
    {
     "name": "stdout",
     "output_type": "stream",
     "text": [
      "\u001b[H\u001b[2J"
     ]
    },
    {
     "name": "stderr",
     "output_type": "stream",
     "text": [
      "Previous HEAD position was 23803ba Be more specific in bugfix.\n",
      "HEAD is now at 52a28a4 Escape HTML on view source page. Closes #80.\n"
     ]
    },
    {
     "name": "stdout",
     "output_type": "stream",
     "text": [
      "\u001b[H\u001b[2J"
     ]
    },
    {
     "name": "stderr",
     "output_type": "stream",
     "text": [
      "Previous HEAD position was 52a28a4 Escape HTML on view source page. Closes #80.\n",
      "HEAD is now at c65578e Express finally detected my hack to add Mu as a template engine. Here's a quick fix.\n"
     ]
    },
    {
     "name": "stdout",
     "output_type": "stream",
     "text": [
      "\u001b[H\u001b[2J"
     ]
    },
    {
     "name": "stderr",
     "output_type": "stream",
     "text": [
      "Previous HEAD position was c65578e Express finally detected my hack to add Mu as a template engine. Here's a quick fix.\n",
      "HEAD is now at 89dcc7f Wrap the response object past to express render in an anonymous function to get around the new type checking on the third parameter. Basically, fix the hack.\n"
     ]
    },
    {
     "name": "stdout",
     "output_type": "stream",
     "text": [
      "\u001b[H\u001b[2J"
     ]
    },
    {
     "name": "stderr",
     "output_type": "stream",
     "text": [
      "Previous HEAD position was 89dcc7f Wrap the response object past to express render in an anonymous function to get around the new type checking on the third parameter. Basically, fix the hack.\n",
      "HEAD is now at 69361f9 Better type checking used for default sorting order of a model list.\n"
     ]
    },
    {
     "name": "stdout",
     "output_type": "stream",
     "text": [
      "\u001b[H\u001b[2J"
     ]
    },
    {
     "name": "stderr",
     "output_type": "stream",
     "text": [
      "Previous HEAD position was 69361f9 Better type checking used for default sorting order of a model list.\n",
      "HEAD is now at a6a4802 Abandon the implementation of general OpenID since I believe it would make it too easy for spammers and malicious users to create accounts. Closes #57.\n"
     ]
    },
    {
     "name": "stdout",
     "output_type": "stream",
     "text": [
      "\u001b[H\u001b[2J"
     ]
    },
    {
     "name": "stderr",
     "output_type": "stream",
     "text": [
      "Previous HEAD position was a6a4802 Abandon the implementation of general OpenID since I believe it would make it too easy for spammers and malicious users to create accounts. Closes #57.\n",
      "HEAD is now at 478de9d Script flagging is working. Code to remove flagged script still needs to be implemented.\n"
     ]
    },
    {
     "name": "stdout",
     "output_type": "stream",
     "text": [
      "\u001b[H\u001b[2J"
     ]
    },
    {
     "name": "stderr",
     "output_type": "stream",
     "text": [
      "Previous HEAD position was 478de9d Script flagging is working. Code to remove flagged script still needs to be implemented.\n",
      "HEAD is now at 0e2b026 Massive overhaul of the site style.\n"
     ]
    },
    {
     "name": "stdout",
     "output_type": "stream",
     "text": [
      "\u001b[H\u001b[2J"
     ]
    },
    {
     "name": "stderr",
     "output_type": "stream",
     "text": [
      "Previous HEAD position was 0e2b026 Massive overhaul of the site style.\n",
      "HEAD is now at 8d71e4e Minor bugfix.\n"
     ]
    },
    {
     "name": "stdout",
     "output_type": "stream",
     "text": [
      "\u001b[H\u001b[2J"
     ]
    },
    {
     "name": "stderr",
     "output_type": "stream",
     "text": [
      "Previous HEAD position was 8d71e4e Minor bugfix.\n",
      "HEAD is now at 2443666 Removing a user from the user admin page also removes that user's scripts.\n"
     ]
    },
    {
     "name": "stdout",
     "output_type": "stream",
     "text": [
      "\u001b[H\u001b[2J"
     ]
    },
    {
     "name": "stderr",
     "output_type": "stream",
     "text": [
      "Previous HEAD position was 2443666 Removing a user from the user admin page also removes that user's scripts.\n",
      "HEAD is now at 3573b2f Minor admin page bugfix.\n"
     ]
    },
    {
     "name": "stdout",
     "output_type": "stream",
     "text": [
      "\u001b[H\u001b[2J"
     ]
    },
    {
     "name": "stderr",
     "output_type": "stream",
     "text": [
      "Previous HEAD position was 3573b2f Minor admin page bugfix.\n",
      "HEAD is now at a1612d5 Fix a voting bug.\n"
     ]
    },
    {
     "name": "stdout",
     "output_type": "stream",
     "text": [
      "\u001b[H\u001b[2J"
     ]
    },
    {
     "name": "stderr",
     "output_type": "stream",
     "text": [
      "Previous HEAD position was a1612d5 Fix a voting bug.\n",
      "HEAD is now at 131b7eb Fixed adding and forking scripts.\n"
     ]
    },
    {
     "name": "stdout",
     "output_type": "stream",
     "text": [
      "\u001b[H\u001b[2J"
     ]
    },
    {
     "name": "stderr",
     "output_type": "stream",
     "text": [
      "Previous HEAD position was 131b7eb Fixed adding and forking scripts.\n",
      "HEAD is now at 38a185f Only use GitHub authentication when run locally.\n"
     ]
    },
    {
     "name": "stdout",
     "output_type": "stream",
     "text": [
      "\u001b[H\u001b[2J"
     ]
    },
    {
     "name": "stderr",
     "output_type": "stream",
     "text": [
      "Previous HEAD position was 38a185f Only use GitHub authentication when run locally.\n",
      "HEAD is now at c0c29f3 Initial implementation of a community-based moderation system. Closes #13 and closes #61.\n"
     ]
    },
    {
     "name": "stdout",
     "output_type": "stream",
     "text": [
      "\u001b[H\u001b[2J"
     ]
    },
    {
     "name": "stderr",
     "output_type": "stream",
     "text": [
      "Previous HEAD position was c0c29f3 Initial implementation of a community-based moderation system. Closes #13 and closes #61.\n",
      "HEAD is now at 8566cdc Script searching. Closes #13\n"
     ]
    },
    {
     "name": "stdout",
     "output_type": "stream",
     "text": [
      "\u001b[H\u001b[2J"
     ]
    },
    {
     "name": "stderr",
     "output_type": "stream",
     "text": [
      "Previous HEAD position was 8566cdc Script searching. Closes #13\n",
      "HEAD is now at bf91244 Improve script search.\n"
     ]
    },
    {
     "name": "stdout",
     "output_type": "stream",
     "text": [
      "\u001b[H\u001b[2J"
     ]
    },
    {
     "name": "stderr",
     "output_type": "stream",
     "text": [
      "Previous HEAD position was bf91244 Improve script search.\n",
      "HEAD is now at 2a94c76 Use markdown to format user input. Headings are auto-anchored. Closes #22\n"
     ]
    },
    {
     "name": "stdout",
     "output_type": "stream",
     "text": [
      "\u001b[H\u001b[2J"
     ]
    },
    {
     "name": "stderr",
     "output_type": "stream",
     "text": [
      "Previous HEAD position was 2a94c76 Use markdown to format user input. Headings are auto-anchored. Closes #22\n",
      "HEAD is now at ee68b0a Forgot to add new lib to package.json file.\n"
     ]
    },
    {
     "name": "stdout",
     "output_type": "stream",
     "text": [
      "\u001b[H\u001b[2J"
     ]
    },
    {
     "name": "stderr",
     "output_type": "stream",
     "text": [
      "Previous HEAD position was ee68b0a Forgot to add new lib to package.json file.\n",
      "HEAD is now at 69a0baa Bugfix for getting the anchor text of a more complicated header.\n"
     ]
    },
    {
     "name": "stdout",
     "output_type": "stream",
     "text": [
      "\u001b[H\u001b[2J"
     ]
    },
    {
     "name": "stderr",
     "output_type": "stream",
     "text": [
      "Previous HEAD position was 69a0baa Bugfix for getting the anchor text of a more complicated header.\n",
      "HEAD is now at be7f6f2 Simplify anchor generation code.\n"
     ]
    },
    {
     "name": "stdout",
     "output_type": "stream",
     "text": [
      "\u001b[H\u001b[2J"
     ]
    },
    {
     "name": "stderr",
     "output_type": "stream",
     "text": [
      "Previous HEAD position was be7f6f2 Simplify anchor generation code.\n",
      "HEAD is now at 4662e4e Switch to using GitHub Flavored Markdown and syntax highlighting for code blocks. Closes #22\n"
     ]
    },
    {
     "name": "stdout",
     "output_type": "stream",
     "text": [
      "\u001b[H\u001b[2J"
     ]
    },
    {
     "name": "stderr",
     "output_type": "stream",
     "text": [
      "Previous HEAD position was 4662e4e Switch to using GitHub Flavored Markdown and syntax highlighting for code blocks. Closes #22\n",
      "HEAD is now at 58efa18 Initial implementation of script libraries. There a few things left to add to make it better but most of the hard stuff is done. Closes #52\n"
     ]
    },
    {
     "name": "stdout",
     "output_type": "stream",
     "text": [
      "\u001b[H\u001b[2J"
     ]
    },
    {
     "name": "stderr",
     "output_type": "stream",
     "text": [
      "Previous HEAD position was 58efa18 Initial implementation of script libraries. There a few things left to add to make it better but most of the hard stuff is done. Closes #52\n",
      "HEAD is now at 95b59e2 Manage your authentication strategies on your profile edit page (/user/edit), including adding new authenticators and setting your default authentication strategy. Closes #67\n"
     ]
    },
    {
     "name": "stdout",
     "output_type": "stream",
     "text": [
      "\u001b[H\u001b[2J"
     ]
    },
    {
     "name": "stderr",
     "output_type": "stream",
     "text": [
      "Previous HEAD position was 95b59e2 Manage your authentication strategies on your profile edit page (/user/edit), including adding new authenticators and setting your default authentication strategy. Closes #67\n",
      "HEAD is now at 99a38f4 Express has gone insane with version 4 and broke everything which will take time to fix (see https://github.com/visionmedia/express/wiki/Migrating-from-3.x-to-4.x). Until then we'll use the latest release of version 3.\n"
     ]
    },
    {
     "name": "stdout",
     "output_type": "stream",
     "text": [
      "\u001b[H\u001b[2J"
     ]
    },
    {
     "name": "stderr",
     "output_type": "stream",
     "text": [
      "Previous HEAD position was 99a38f4 Express has gone insane with version 4 and broke everything which will take time to fix (see https://github.com/visionmedia/express/wiki/Migrating-from-3.x-to-4.x). Until then we'll use the latest release of version 3.\n",
      "HEAD is now at 004226d Add the toobusy library for quick failures in case the site gets overloaded with traffic some day.\n"
     ]
    },
    {
     "name": "stdout",
     "output_type": "stream",
     "text": [
      "\u001b[H\u001b[2J"
     ]
    },
    {
     "name": "stderr",
     "output_type": "stream",
     "text": [
      "Previous HEAD position was 004226d Add the toobusy library for quick failures in case the site gets overloaded with traffic some day.\n",
      "HEAD is now at 1ff69a7 Don't list flagged scripts publicly.\n"
     ]
    },
    {
     "name": "stdout",
     "output_type": "stream",
     "text": [
      "\u001b[H\u001b[2J"
     ]
    },
    {
     "name": "stderr",
     "output_type": "stream",
     "text": [
      "Previous HEAD position was 1ff69a7 Don't list flagged scripts publicly.\n",
      "HEAD is now at 09f91f4 Small bugfix.\n"
     ]
    },
    {
     "name": "stdout",
     "output_type": "stream",
     "text": [
      "\u001b[H\u001b[2J"
     ]
    },
    {
     "name": "stderr",
     "output_type": "stream",
     "text": [
      "Previous HEAD position was 09f91f4 Small bugfix.\n",
      "HEAD is now at 47ebd3f Some starter code for groups.\n"
     ]
    },
    {
     "name": "stdout",
     "output_type": "stream",
     "text": [
      "\u001b[H\u001b[2J"
     ]
    },
    {
     "name": "stderr",
     "output_type": "stream",
     "text": [
      "Previous HEAD position was 47ebd3f Some starter code for groups.\n",
      "HEAD is now at 50deb75 Fix typo.\n"
     ]
    },
    {
     "name": "stdout",
     "output_type": "stream",
     "text": [
      "\u001b[H\u001b[2J"
     ]
    },
    {
     "name": "stderr",
     "output_type": "stream",
     "text": [
      "Previous HEAD position was 50deb75 Fix typo.\n",
      "HEAD is now at af62a4e Initial script groups implementation.\n"
     ]
    },
    {
     "name": "stdout",
     "output_type": "stream",
     "text": [
      "\u001b[H\u001b[2J"
     ]
    },
    {
     "name": "stderr",
     "output_type": "stream",
     "text": [
      "Previous HEAD position was af62a4e Initial script groups implementation.\n",
      "HEAD is now at c0ca441 Clean the group name on the server-side before creating it.\n"
     ]
    },
    {
     "name": "stdout",
     "output_type": "stream",
     "text": [
      "\u001b[H\u001b[2J"
     ]
    },
    {
     "name": "stderr",
     "output_type": "stream",
     "text": [
      "Previous HEAD position was c0ca441 Clean the group name on the server-side before creating it.\n",
      "HEAD is now at 8c334c5 Minor improvements.\n"
     ]
    },
    {
     "name": "stdout",
     "output_type": "stream",
     "text": [
      "\u001b[H\u001b[2J"
     ]
    },
    {
     "name": "stderr",
     "output_type": "stream",
     "text": [
      "Previous HEAD position was 8c334c5 Minor improvements.\n",
      "HEAD is now at a0ca62d Update the ratings of all groups a script belongs to.\n"
     ]
    },
    {
     "name": "stdout",
     "output_type": "stream",
     "text": [
      "\u001b[H\u001b[2J"
     ]
    },
    {
     "name": "stderr",
     "output_type": "stream",
     "text": [
      "Previous HEAD position was a0ca62d Update the ratings of all groups a script belongs to.\n",
      "HEAD is now at ab834d3 Finish script library implementation.\n"
     ]
    },
    {
     "name": "stdout",
     "output_type": "stream",
     "text": [
      "\u001b[H\u001b[2J"
     ]
    },
    {
     "name": "stderr",
     "output_type": "stream",
     "text": [
      "Previous HEAD position was ab834d3 Finish script library implementation.\n",
      "HEAD is now at 5fbdc78 Add some debug info to /admin/user\n"
     ]
    },
    {
     "name": "stdout",
     "output_type": "stream",
     "text": [
      "\u001b[H\u001b[2J"
     ]
    },
    {
     "name": "stderr",
     "output_type": "stream",
     "text": [
      "Previous HEAD position was 5fbdc78 Add some debug info to /admin/user\n",
      "HEAD is now at 602f96c Don't let cleanFilename choke on an undefined or null value. Use an empty string. Closes #84.\n"
     ]
    },
    {
     "name": "stdout",
     "output_type": "stream",
     "text": [
      "\u001b[H\u001b[2J"
     ]
    },
    {
     "name": "stderr",
     "output_type": "stream",
     "text": [
      "Previous HEAD position was 602f96c Don't let cleanFilename choke on an undefined or null value. Use an empty string. Closes #84.\n",
      "HEAD is now at e8280f2 Improve the code quality of the metadata generation routine.\n"
     ]
    },
    {
     "name": "stdout",
     "output_type": "stream",
     "text": [
      "\u001b[H\u001b[2J"
     ]
    },
    {
     "name": "stderr",
     "output_type": "stream",
     "text": [
      "Previous HEAD position was e8280f2 Improve the code quality of the metadata generation routine.\n",
      "HEAD is now at 942918e Allow for collaborative scripts via metadata. See https://openuserjs.org/user/add/scripts for details. Closes #10.\n"
     ]
    },
    {
     "name": "stdout",
     "output_type": "stream",
     "text": [
      "\u001b[H\u001b[2J"
     ]
    },
    {
     "name": "stderr",
     "output_type": "stream",
     "text": [
      "Previous HEAD position was 942918e Allow for collaborative scripts via metadata. See https://openuserjs.org/user/add/scripts for details. Closes #10.\n",
      "HEAD is now at 8bb5042 Barebones discussions implementation. It needs a lot of improvement but this is just to get us started. Closes #9 and closes #8.\n"
     ]
    },
    {
     "name": "stdout",
     "output_type": "stream",
     "text": [
      "\u001b[H\u001b[2J"
     ]
    },
    {
     "name": "stderr",
     "output_type": "stream",
     "text": [
      "Previous HEAD position was 8bb5042 Barebones discussions implementation. It needs a lot of improvement but this is just to get us started. Closes #9 and closes #8.\n",
      "HEAD is now at f27f33b Minor discussion fixes.\n"
     ]
    },
    {
     "name": "stdout",
     "output_type": "stream",
     "text": [
      "\u001b[H\u001b[2J"
     ]
    },
    {
     "name": "stderr",
     "output_type": "stream",
     "text": [
      "Previous HEAD position was f27f33b Minor discussion fixes.\n",
      "HEAD is now at f40fc73 Initial script issue tracker implementation. Closes #5.\n"
     ]
    },
    {
     "name": "stdout",
     "output_type": "stream",
     "text": [
      "\u001b[H\u001b[2J"
     ]
    },
    {
     "name": "stderr",
     "output_type": "stream",
     "text": [
      "Previous HEAD position was f40fc73 Initial script issue tracker implementation. Closes #5.\n",
      "HEAD is now at c35a9e9 Show the number of open issues and link to the issue tracker on the script page.\n"
     ]
    },
    {
     "name": "stdout",
     "output_type": "stream",
     "text": [
      "\u001b[H\u001b[2J"
     ]
    },
    {
     "name": "stderr",
     "output_type": "stream",
     "text": [
      "Previous HEAD position was c35a9e9 Show the number of open issues and link to the issue tracker on the script page.\n",
      "HEAD is now at bab04a0 Better dates.\n"
     ]
    },
    {
     "name": "stdout",
     "output_type": "stream",
     "text": [
      "\u001b[H\u001b[2J"
     ]
    },
    {
     "name": "stderr",
     "output_type": "stream",
     "text": [
      "Previous HEAD position was bab04a0 Better dates.\n",
      "HEAD is now at 7186bd5 Better issue creation url.\n"
     ]
    },
    {
     "name": "stdout",
     "output_type": "stream",
     "text": [
      "\u001b[H\u001b[2J"
     ]
    },
    {
     "name": "stderr",
     "output_type": "stream",
     "text": [
      "Previous HEAD position was 7186bd5 Better issue creation url.\n",
      "HEAD is now at 4f93b35 Add comments to generate code documentation using groc --github ./*.js controllers/*.js libs/*.js models/*.js README.md\n"
     ]
    },
    {
     "name": "stdout",
     "output_type": "stream",
     "text": [
      "\u001b[H\u001b[2J"
     ]
    },
    {
     "name": "stderr",
     "output_type": "stream",
     "text": [
      "Previous HEAD position was 4f93b35 Add comments to generate code documentation using groc --github ./*.js controllers/*.js libs/*.js models/*.js README.md\n",
      "HEAD is now at 441f6e5 Add flag, arrow, and download icons. Heavy tweaking of CSS.\n"
     ]
    },
    {
     "name": "stdout",
     "output_type": "stream",
     "text": [
      "\u001b[H\u001b[2J"
     ]
    },
    {
     "name": "stderr",
     "output_type": "stream",
     "text": [
      "Previous HEAD position was 441f6e5 Add flag, arrow, and download icons. Heavy tweaking of CSS.\n",
      "HEAD is now at cf3afa2 Only show moderator area links to those who can actually access those areas.\n"
     ]
    },
    {
     "name": "stdout",
     "output_type": "stream",
     "text": [
      "\u001b[H\u001b[2J"
     ]
    },
    {
     "name": "stderr",
     "output_type": "stream",
     "text": [
      "Previous HEAD position was cf3afa2 Only show moderator area links to those who can actually access those areas.\n",
      "HEAD is now at 162deab Show number of days up to a week. Then just show the actual date.\n"
     ]
    },
    {
     "name": "stdout",
     "output_type": "stream",
     "text": [
      "\u001b[H\u001b[2J"
     ]
    },
    {
     "name": "stderr",
     "output_type": "stream",
     "text": [
      "Previous HEAD position was 162deab Show number of days up to a week. Then just show the actual date.\n",
      "HEAD is now at 4839814 Repair GitHub import after GitHub changed urls on us.\n"
     ]
    },
    {
     "name": "stdout",
     "output_type": "stream",
     "text": [
      "\u001b[H\u001b[2J"
     ]
    },
    {
     "name": "stderr",
     "output_type": "stream",
     "text": [
      "Previous HEAD position was 4839814 Repair GitHub import after GitHub changed urls on us.\n",
      "HEAD is now at 0ecdf2d Make sure the language value provided by Markdown fence syntax is a language supported by hightlight.js. Closes #94.\n"
     ]
    },
    {
     "name": "stdout",
     "output_type": "stream",
     "text": [
      "\u001b[H\u001b[2J"
     ]
    },
    {
     "name": "stderr",
     "output_type": "stream",
     "text": [
      "Previous HEAD position was 0ecdf2d Make sure the language value provided by Markdown fence syntax is a language supported by hightlight.js. Closes #94.\n",
      "HEAD is now at d672243 Encode url used for importing from GitHub. Closes #90.\n"
     ]
    },
    {
     "name": "stdout",
     "output_type": "stream",
     "text": [
      "\u001b[H\u001b[2J"
     ]
    },
    {
     "name": "stderr",
     "output_type": "stream",
     "text": [
      "Previous HEAD position was d672243 Encode url used for importing from GitHub. Closes #90.\n",
      "HEAD is now at 9e9d070 Encode the redirect url after uploading or writing a script in-browser. Closes #91... hopefully.\n"
     ]
    },
    {
     "name": "stdout",
     "output_type": "stream",
     "text": [
      "\u001b[H\u001b[2J"
     ]
    },
    {
     "name": "stderr",
     "output_type": "stream",
     "text": [
      "Previous HEAD position was 9e9d070 Encode the redirect url after uploading or writing a script in-browser. Closes #91... hopefully.\n",
      "HEAD is now at b42c869 Use encodeURI on res.redirect calls. Closes #98.\n"
     ]
    },
    {
     "name": "stdout",
     "output_type": "stream",
     "text": [
      "\u001b[H\u001b[2J"
     ]
    },
    {
     "name": "stderr",
     "output_type": "stream",
     "text": [
      "Previous HEAD position was b42c869 Use encodeURI on res.redirect calls. Closes #98.\n",
      "HEAD is now at c972762 Fix for pagination.\n"
     ]
    },
    {
     "name": "stdout",
     "output_type": "stream",
     "text": [
      "\u001b[H\u001b[2J"
     ]
    },
    {
     "name": "stderr",
     "output_type": "stream",
     "text": [
      "Previous HEAD position was c972762 Fix for pagination.\n",
      "HEAD is now at 27c21b8 Closes #101.\n"
     ]
    },
    {
     "name": "stdout",
     "output_type": "stream",
     "text": [
      "\u001b[H\u001b[2J"
     ]
    },
    {
     "name": "stderr",
     "output_type": "stream",
     "text": [
      "Previous HEAD position was 27c21b8 Closes #101.\n",
      "HEAD is now at 10e32ea Accept header is lowercase in express. Closes #105.\n"
     ]
    },
    {
     "name": "stdout",
     "output_type": "stream",
     "text": [
      "\u001b[H\u001b[2J"
     ]
    },
    {
     "name": "stderr",
     "output_type": "stream",
     "text": [
      "Previous HEAD position was 10e32ea Accept header is lowercase in express. Closes #105.\n",
      "HEAD is now at 1d36664 Refactor the homepage view. Move search/sort/pagination to querystring\n"
     ]
    },
    {
     "name": "stdout",
     "output_type": "stream",
     "text": [
      "\u001b[H\u001b[2J"
     ]
    },
    {
     "name": "stderr",
     "output_type": "stream",
     "text": [
      "Previous HEAD position was 1d36664 Refactor the homepage view. Move search/sort/pagination to querystring\n",
      "HEAD is now at ef09963 Consistent variable names. Implement sorting scriptList.\n"
     ]
    },
    {
     "name": "stdout",
     "output_type": "stream",
     "text": [
      "\u001b[H\u001b[2J"
     ]
    },
    {
     "name": "stderr",
     "output_type": "stream",
     "text": [
      "Previous HEAD position was ef09963 Consistent variable names. Implement sorting scriptList.\n",
      "HEAD is now at 87531f9 Don't show libaries on the homepage.\n"
     ]
    },
    {
     "name": "stdout",
     "output_type": "stream",
     "text": [
      "\u001b[H\u001b[2J"
     ]
    },
    {
     "name": "stderr",
     "output_type": "stream",
     "text": [
      "Previous HEAD position was 87531f9 Don't show libaries on the homepage.\n",
      "HEAD is now at eeaa220 Implement the script page with the new UI.\n"
     ]
    },
    {
     "name": "stdout",
     "output_type": "stream",
     "text": [
      "\u001b[H\u001b[2J"
     ]
    },
    {
     "name": "stderr",
     "output_type": "stream",
     "text": [
      "Previous HEAD position was eeaa220 Implement the script page with the new UI.\n",
      "HEAD is now at 2b217a4 Move common tasks for scriptPage to their own function.\n"
     ]
    },
    {
     "name": "stdout",
     "output_type": "stream",
     "text": [
      "\u001b[H\u001b[2J"
     ]
    },
    {
     "name": "stderr",
     "output_type": "stream",
     "text": [
      "Previous HEAD position was 2b217a4 Move common tasks for scriptPage to their own function.\n",
      "HEAD is now at ea2e690 Simplify routing definitions. Implement scriptEditMetadataPage.\n"
     ]
    },
    {
     "name": "stdout",
     "output_type": "stream",
     "text": [
      "\u001b[H\u001b[2J"
     ]
    },
    {
     "name": "stderr",
     "output_type": "stream",
     "text": [
      "Previous HEAD position was ea2e690 Simplify routing definitions. Implement scriptEditMetadataPage.\n",
      "HEAD is now at c958be6 Missed adding some of the new view includes/.\n"
     ]
    },
    {
     "name": "stdout",
     "output_type": "stream",
     "text": [
      "\u001b[H\u001b[2J"
     ]
    },
    {
     "name": "stderr",
     "output_type": "stream",
     "text": [
      "Previous HEAD position was c958be6 Missed adding some of the new view includes/.\n",
      "HEAD is now at f9c8f7b Fix logged out bug.\n"
     ]
    },
    {
     "name": "stdout",
     "output_type": "stream",
     "text": [
      "\u001b[H\u001b[2J"
     ]
    },
    {
     "name": "stderr",
     "output_type": "stream",
     "text": [
      "Previous HEAD position was f9c8f7b Fix logged out bug.\n",
      "HEAD is now at 0b234ec Bootstrap-markdown doesn't belong on scriptPage.\n"
     ]
    },
    {
     "name": "stdout",
     "output_type": "stream",
     "text": [
      "\u001b[H\u001b[2J"
     ]
    },
    {
     "name": "stderr",
     "output_type": "stream",
     "text": [
      "Previous HEAD position was 0b234ec Bootstrap-markdown doesn't belong on scriptPage.\n",
      "HEAD is now at 6766aed Implement userPage + userEditPage pages with new UI.\n"
     ]
    },
    {
     "name": "stdout",
     "output_type": "stream",
     "text": [
      "\u001b[H\u001b[2J"
     ]
    },
    {
     "name": "stderr",
     "output_type": "stream",
     "text": [
      "Previous HEAD position was 6766aed Implement userPage + userEditPage pages with new UI.\n",
      "HEAD is now at 4b0d817 Remove leftover debugging code.\n"
     ]
    },
    {
     "name": "stdout",
     "output_type": "stream",
     "text": [
      "\u001b[H\u001b[2J"
     ]
    },
    {
     "name": "stderr",
     "output_type": "stream",
     "text": [
      "Previous HEAD position was 4b0d817 Remove leftover debugging code.\n",
      "HEAD is now at 7075dad Add bootstrap-markdown.min.css to userEditProfilePage.\n"
     ]
    },
    {
     "name": "stdout",
     "output_type": "stream",
     "text": [
      "\u001b[H\u001b[2J"
     ]
    },
    {
     "name": "stderr",
     "output_type": "stream",
     "text": [
      "Previous HEAD position was 7075dad Add bootstrap-markdown.min.css to userEditProfilePage.\n",
      "HEAD is now at 9f466a3 Fix bug when not logged in.\n"
     ]
    },
    {
     "name": "stdout",
     "output_type": "stream",
     "text": [
      "\u001b[H\u001b[2J"
     ]
    },
    {
     "name": "stderr",
     "output_type": "stream",
     "text": [
      "Previous HEAD position was 9f466a3 Fix bug when not logged in.\n",
      "HEAD is now at d73347e Fix bug where you appeared logged in to the user page you were viewing\n"
     ]
    },
    {
     "name": "stdout",
     "output_type": "stream",
     "text": [
      "\u001b[H\u001b[2J"
     ]
    },
    {
     "name": "stderr",
     "output_type": "stream",
     "text": [
      "Previous HEAD position was d73347e Fix bug where you appeared logged in to the user page you were viewing\n",
      "HEAD is now at 65ee3d7 Refactor index.home to follow same tasks.push pattern used elsewhere\n"
     ]
    },
    {
     "name": "stdout",
     "output_type": "stream",
     "text": [
      "\u001b[H\u001b[2J"
     ]
    },
    {
     "name": "stderr",
     "output_type": "stream",
     "text": [
      "Previous HEAD position was 65ee3d7 Refactor index.home to follow same tasks.push pattern used elsewhere\n",
      "HEAD is now at 11a8e5c Redirect to login page if not authed on certain pages.\n"
     ]
    },
    {
     "name": "stdout",
     "output_type": "stream",
     "text": [
      "\u001b[H\u001b[2J"
     ]
    },
    {
     "name": "stderr",
     "output_type": "stream",
     "text": [
      "Previous HEAD position was 11a8e5c Redirect to login page if not authed on certain pages.\n",
      "HEAD is now at e0e9024 Typo un header nav login url (had # in front).\n"
     ]
    },
    {
     "name": "stdout",
     "output_type": "stream",
     "text": [
      "\u001b[H\u001b[2J"
     ]
    },
    {
     "name": "stderr",
     "output_type": "stream",
     "text": [
      "Previous HEAD position was e0e9024 Typo un header nav login url (had # in front).\n",
      "HEAD is now at 58d279f Show the script.meta.icon in the script header if it exists.\n"
     ]
    },
    {
     "name": "stdout",
     "output_type": "stream",
     "text": [
      "\u001b[H\u001b[2J"
     ]
    },
    {
     "name": "stderr",
     "output_type": "stream",
     "text": [
      "Previous HEAD position was 58d279f Show the script.meta.icon in the script header if it exists.\n",
      "HEAD is now at 9a0d32c Redo groupScriptListPage aka groupPage\n"
     ]
    },
    {
     "name": "stdout",
     "output_type": "stream",
     "text": [
      "\u001b[H\u001b[2J"
     ]
    },
    {
     "name": "stderr",
     "output_type": "stream",
     "text": [
      "Previous HEAD position was 9a0d32c Redo groupScriptListPage aka groupPage\n",
      "HEAD is now at 563a17c Missed some imports (crash during /group/youtube?p=2)\n"
     ]
    },
    {
     "name": "stdout",
     "output_type": "stream",
     "text": [
      "\u001b[H\u001b[2J"
     ]
    },
    {
     "name": "stderr",
     "output_type": "stream",
     "text": [
      "Previous HEAD position was 563a17c Missed some imports (crash during /group/youtube?p=2)\n",
      "HEAD is now at 954f1a8 Remove site stats panel (to it's own include.html).\n"
     ]
    },
    {
     "name": "stdout",
     "output_type": "stream",
     "text": [
      "\u001b[H\u001b[2J"
     ]
    },
    {
     "name": "stderr",
     "output_type": "stream",
     "text": [
      "Previous HEAD position was 954f1a8 Remove site stats panel (to it's own include.html).\n",
      "HEAD is now at 5173c49 Also missed url import. Redo groupListPage.\n"
     ]
    },
    {
     "name": "stdout",
     "output_type": "stream",
     "text": [
      "\u001b[H\u001b[2J"
     ]
    },
    {
     "name": "stderr",
     "output_type": "stream",
     "text": [
      "Previous HEAD position was 5173c49 Also missed url import. Redo groupListPage.\n",
      "HEAD is now at 43fbc07 Add favicon, description <meta> and keywords <meta> to <head>\n"
     ]
    },
    {
     "name": "stdout",
     "output_type": "stream",
     "text": [
      "\u001b[H\u001b[2J"
     ]
    },
    {
     "name": "stderr",
     "output_type": "stream",
     "text": [
      "Previous HEAD position was 43fbc07 Add favicon, description <meta> and keywords <meta> to <head>\n",
      "HEAD is now at 70f030b Remove the /user/edit endpoint as it's now /users/:username/profile/edit\n"
     ]
    },
    {
     "name": "stdout",
     "output_type": "stream",
     "text": [
      "\u001b[H\u001b[2J"
     ]
    },
    {
     "name": "stderr",
     "output_type": "stream",
     "text": [
      "Previous HEAD position was 70f030b Remove the /user/edit endpoint as it's now /users/:username/profile/edit\n",
      "HEAD is now at ba55bff Rewrite some of the route definitions using app_route.\n"
     ]
    },
    {
     "name": "stdout",
     "output_type": "stream",
     "text": [
      "\u001b[H\u001b[2J"
     ]
    },
    {
     "name": "stderr",
     "output_type": "stream",
     "text": [
      "Previous HEAD position was ba55bff Rewrite some of the route definitions using app_route.\n",
      "HEAD is now at b21af39 Redo the discussionPage. Prep discussionListPage.\n"
     ]
    },
    {
     "name": "stdout",
     "output_type": "stream",
     "text": [
      "\u001b[H\u001b[2J"
     ]
    },
    {
     "name": "stderr",
     "output_type": "stream",
     "text": [
      "Previous HEAD position was b21af39 Redo the discussionPage. Prep discussionListPage.\n",
      "HEAD is now at 9ee8a7a Eliminate the error when you view the user edit page while not logged in. Closes#107.\n"
     ]
    },
    {
     "name": "stdout",
     "output_type": "stream",
     "text": [
      "\u001b[H\u001b[2J"
     ]
    },
    {
     "name": "stderr",
     "output_type": "stream",
     "text": [
      "Previous HEAD position was 9ee8a7a Eliminate the error when you view the user edit page while not logged in. Closes#107.\n",
      "HEAD is now at 7568d9e Implement CategoryDiscussionListPage aka DiscussionListPage\n"
     ]
    },
    {
     "name": "stdout",
     "output_type": "stream",
     "text": [
      "\u001b[H\u001b[2J"
     ]
    },
    {
     "name": "stderr",
     "output_type": "stream",
     "text": [
      "Previous HEAD position was 7568d9e Implement CategoryDiscussionListPage aka DiscussionListPage\n",
      "HEAD is now at 51fdb2e Fix commenting.\n"
     ]
    },
    {
     "name": "stdout",
     "output_type": "stream",
     "text": [
      "\u001b[H\u001b[2J"
     ]
    },
    {
     "name": "stderr",
     "output_type": "stream",
     "text": [
      "Previous HEAD position was 51fdb2e Fix commenting.\n",
      "HEAD is now at 2174d14 Typo. Fix comment preview overflow scrollbar.\n"
     ]
    },
    {
     "name": "stdout",
     "output_type": "stream",
     "text": [
      "\u001b[H\u001b[2J"
     ]
    },
    {
     "name": "stderr",
     "output_type": "stream",
     "text": [
      "Previous HEAD position was 2174d14 Typo. Fix comment preview overflow scrollbar.\n",
      "HEAD is now at 9864337 Always add new packages before \"passport\" because you need all packages up to \"passport-github\" to run in development (you don't need all the other passport packages).\n"
     ]
    },
    {
     "name": "stdout",
     "output_type": "stream",
     "text": [
      "\u001b[H\u001b[2J"
     ]
    },
    {
     "name": "stderr",
     "output_type": "stream",
     "text": [
      "Previous HEAD position was 9864337 Always add new packages before \"passport\" because you need all packages up to \"passport-github\" to run in development (you don't need all the other passport packages).\n",
      "HEAD is now at a2e7b61 Redo the register (and currently the login page).\n"
     ]
    },
    {
     "name": "stdout",
     "output_type": "stream",
     "text": [
      "\u001b[H\u001b[2J"
     ]
    },
    {
     "name": "stderr",
     "output_type": "stream",
     "text": [
      "Previous HEAD position was a2e7b61 Redo the register (and currently the login page).\n",
      "HEAD is now at 4c5cb23 Add /login (same as /register). Possibly a redirect in the future?\n"
     ]
    },
    {
     "name": "stdout",
     "output_type": "stream",
     "text": [
      "\u001b[H\u001b[2J"
     ]
    },
    {
     "name": "stderr",
     "output_type": "stream",
     "text": [
      "Previous HEAD position was 4c5cb23 Add /login (same as /register). Possibly a redirect in the future?\n",
      "HEAD is now at 75603d0 Move /css/common.css to includes/head.html.\n"
     ]
    },
    {
     "name": "stdout",
     "output_type": "stream",
     "text": [
      "\u001b[H\u001b[2J"
     ]
    },
    {
     "name": "stderr",
     "output_type": "stream",
     "text": [
      "Previous HEAD position was 75603d0 Move /css/common.css to includes/head.html.\n",
      "HEAD is now at 105bca7 Add template page for easy page generation.\n"
     ]
    },
    {
     "name": "stdout",
     "output_type": "stream",
     "text": [
      "\u001b[H\u001b[2J"
     ]
    },
    {
     "name": "stderr",
     "output_type": "stream",
     "text": [
      "Previous HEAD position was 105bca7 Add template page for easy page generation.\n",
      "HEAD is now at 5d1dbca Add a template controller.\n"
     ]
    },
    {
     "name": "stdout",
     "output_type": "stream",
     "text": [
      "\u001b[H\u001b[2J"
     ]
    },
    {
     "name": "stderr",
     "output_type": "stream",
     "text": [
      "Previous HEAD position was 5d1dbca Add a template controller.\n",
      "HEAD is now at b620a37 typo\n"
     ]
    },
    {
     "name": "stdout",
     "output_type": "stream",
     "text": [
      "\u001b[H\u001b[2J"
     ]
    },
    {
     "name": "stderr",
     "output_type": "stream",
     "text": [
      "Previous HEAD position was b620a37 typo\n",
      "HEAD is now at e580dd8 Fixup script metadata\n"
     ]
    },
    {
     "name": "stdout",
     "output_type": "stream",
     "text": [
      "\u001b[H\u001b[2J"
     ]
    },
    {
     "name": "stderr",
     "output_type": "stream",
     "text": [
      "Previous HEAD position was e580dd8 Fixup script metadata\n",
      "HEAD is now at 50af5e4 Redo the newDiscussionPage.\n"
     ]
    },
    {
     "name": "stdout",
     "output_type": "stream",
     "text": [
      "\u001b[H\u001b[2J"
     ]
    },
    {
     "name": "stderr",
     "output_type": "stream",
     "text": [
      "Previous HEAD position was 50af5e4 Redo the newDiscussionPage.\n",
      "HEAD is now at 2503c48 newDiscussionPage++\n"
     ]
    },
    {
     "name": "stdout",
     "output_type": "stream",
     "text": [
      "\u001b[H\u001b[2J"
     ]
    },
    {
     "name": "stderr",
     "output_type": "stream",
     "text": [
      "Previous HEAD position was 2503c48 newDiscussionPage++\n",
      "HEAD is now at 612f7b4 Create functions to simplify pagination.\n"
     ]
    },
    {
     "name": "stdout",
     "output_type": "stream",
     "text": [
      "\u001b[H\u001b[2J"
     ]
    },
    {
     "name": "stderr",
     "output_type": "stream",
     "text": [
      "Previous HEAD position was 612f7b4 Create functions to simplify pagination.\n",
      "HEAD is now at 4d77df4 Implement new pagination strategy to discussionPage.\n"
     ]
    },
    {
     "name": "stdout",
     "output_type": "stream",
     "text": [
      "\u001b[H\u001b[2J"
     ]
    },
    {
     "name": "stderr",
     "output_type": "stream",
     "text": [
      "Previous HEAD position was 4d77df4 Implement new pagination strategy to discussionPage.\n",
      "HEAD is now at 75b805f Implement new pagination strategy everywhere else.\n"
     ]
    },
    {
     "name": "stdout",
     "output_type": "stream",
     "text": [
      "\u001b[H\u001b[2J"
     ]
    },
    {
     "name": "stderr",
     "output_type": "stream",
     "text": [
      "Previous HEAD position was 75b805f Implement new pagination strategy everywhere else.\n",
      "HEAD is now at fd16b2c Simplify modelQuery.parseModelListSort().\n"
     ]
    },
    {
     "name": "stdout",
     "output_type": "stream",
     "text": [
      "\u001b[H\u001b[2J"
     ]
    },
    {
     "name": "stderr",
     "output_type": "stream",
     "text": [
      "Previous HEAD position was fd16b2c Simplify modelQuery.parseModelListSort().\n",
      "HEAD is now at f25829b url and helpers are no longer needed in the template.\n"
     ]
    },
    {
     "name": "stdout",
     "output_type": "stream",
     "text": [
      "\u001b[H\u001b[2J"
     ]
    },
    {
     "name": "stderr",
     "output_type": "stream",
     "text": [
      "Previous HEAD position was f25829b url and helpers are no longer needed in the template.\n",
      "HEAD is now at 5b4aa8f Actually render the pagination in the template.\n"
     ]
    },
    {
     "name": "stdout",
     "output_type": "stream",
     "text": [
      "\u001b[H\u001b[2J"
     ]
    },
    {
     "name": "stderr",
     "output_type": "stream",
     "text": [
      "Previous HEAD position was 5b4aa8f Actually render the pagination in the template.\n",
      "HEAD is now at 42d42da The template deals with scriptList, and remove the redundant countTask\n"
     ]
    },
    {
     "name": "stdout",
     "output_type": "stream",
     "text": [
      "\u001b[H\u001b[2J"
     ]
    },
    {
     "name": "stderr",
     "output_type": "stream",
     "text": [
      "Previous HEAD position was 42d42da The template deals with scriptList, and remove the redundant countTask\n",
      "HEAD is now at 819dd94 Add userAdminToolsPanel to the userPage.\n"
     ]
    },
    {
     "name": "stdout",
     "output_type": "stream",
     "text": [
      "\u001b[H\u001b[2J"
     ]
    },
    {
     "name": "stderr",
     "output_type": "stream",
     "text": [
      "Previous HEAD position was 819dd94 Add userAdminToolsPanel to the userPage.\n",
      "HEAD is now at ec7c4b8 Add scriptAdminToolsPanel. Move user tool panels to a new include.\n"
     ]
    },
    {
     "name": "stdout",
     "output_type": "stream",
     "text": [
      "\u001b[H\u001b[2J"
     ]
    },
    {
     "name": "stderr",
     "output_type": "stream",
     "text": [
      "Previous HEAD position was ec7c4b8 Add scriptAdminToolsPanel. Move user tool panels to a new include.\n",
      "HEAD is now at a0dd240 Add link to raw user data.\n"
     ]
    },
    {
     "name": "stdout",
     "output_type": "stream",
     "text": [
      "\u001b[H\u001b[2J"
     ]
    },
    {
     "name": "stderr",
     "output_type": "stream",
     "text": [
      "Previous HEAD position was a0dd240 Add link to raw user data.\n",
      "HEAD is now at 31bd83c Create an execQueryTask, moving more logic to the preRender func.\n"
     ]
    },
    {
     "name": "stdout",
     "output_type": "stream",
     "text": [
      "\u001b[H\u001b[2J"
     ]
    },
    {
     "name": "stderr",
     "output_type": "stream",
     "text": [
      "Previous HEAD position was 31bd83c Create an execQueryTask, moving more logic to the preRender func.\n",
      "HEAD is now at db68ec5 Implement scriptIssueListPage. Fix issue submission.\n"
     ]
    },
    {
     "name": "stdout",
     "output_type": "stream",
     "text": [
      "\u001b[H\u001b[2J"
     ]
    },
    {
     "name": "stderr",
     "output_type": "stream",
     "text": [
      "Previous HEAD position was db68ec5 Implement scriptIssueListPage. Fix issue submission.\n",
      "HEAD is now at 597c660 log requests when not in production (as it has it's own?)\n"
     ]
    },
    {
     "name": "stdout",
     "output_type": "stream",
     "text": [
      "\u001b[H\u001b[2J"
     ]
    },
    {
     "name": "stderr",
     "output_type": "stream",
     "text": [
      "Previous HEAD position was 597c660 log requests when not in production (as it has it's own?)\n",
      "HEAD is now at f7d51cb Move comment editor JS to an include\n"
     ]
    },
    {
     "name": "stdout",
     "output_type": "stream",
     "text": [
      "\u001b[H\u001b[2J"
     ]
    },
    {
     "name": "stderr",
     "output_type": "stream",
     "text": [
      "Previous HEAD position was f7d51cb Move comment editor JS to an include\n",
      "HEAD is now at 4ad7a11 Functional issue page.\n"
     ]
    },
    {
     "name": "stdout",
     "output_type": "stream",
     "text": [
      "\u001b[H\u001b[2J"
     ]
    },
    {
     "name": "stderr",
     "output_type": "stream",
     "text": [
      "Previous HEAD position was 4ad7a11 Functional issue page.\n",
      "HEAD is now at 2fd340d scriptNewIssuePage\n"
     ]
    },
    {
     "name": "stdout",
     "output_type": "stream",
     "text": [
      "\u001b[H\u001b[2J"
     ]
    },
    {
     "name": "stderr",
     "output_type": "stream",
     "text": [
      "Previous HEAD position was 2fd340d scriptNewIssuePage\n",
      "HEAD is now at 7875f52 Build util function to query with a default value if key is null.\n"
     ]
    },
    {
     "name": "stdout",
     "output_type": "stream",
     "text": [
      "\u001b[H\u001b[2J"
     ]
    },
    {
     "name": "stderr",
     "output_type": "stream",
     "text": [
      "Previous HEAD position was 7875f52 Build util function to query with a default value if key is null.\n",
      "HEAD is now at 3c3bc4d Parse discussion.open defaulted to true.\n"
     ]
    },
    {
     "name": "stdout",
     "output_type": "stream",
     "text": [
      "\u001b[H\u001b[2J"
     ]
    },
    {
     "name": "stderr",
     "output_type": "stream",
     "text": [
      "Previous HEAD position was 3c3bc4d Parse discussion.open defaulted to true.\n",
      "HEAD is now at b47628d Login redirect > 404. Languaed: Close vs Closed when issue is open.\n"
     ]
    },
    {
     "name": "stdout",
     "output_type": "stream",
     "text": [
      "\u001b[H\u001b[2J"
     ]
    },
    {
     "name": "stderr",
     "output_type": "stream",
     "text": [
      "Previous HEAD position was b47628d Login redirect > 404. Languaed: Close vs Closed when issue is open.\n",
      "HEAD is now at 306e308 Add a categoryListPage listing the categories and recent discussions.\n"
     ]
    },
    {
     "name": "stdout",
     "output_type": "stream",
     "text": [
      "\u001b[H\u001b[2J"
     ]
    },
    {
     "name": "stderr",
     "output_type": "stream",
     "text": [
      "Previous HEAD position was 306e308 Add a categoryListPage listing the categories and recent discussions.\n",
      "HEAD is now at cc9bcf9 includes/scripts/commentReplyScript.html got ignored thanks to a bad .git/info/exclude entry ignoring _all_ scripts folders.\n"
     ]
    },
    {
     "name": "stdout",
     "output_type": "stream",
     "text": [
      "\u001b[H\u001b[2J"
     ]
    },
    {
     "name": "stderr",
     "output_type": "stream",
     "text": [
      "Previous HEAD position was cc9bcf9 includes/scripts/commentReplyScript.html got ignored thanks to a bad .git/info/exclude entry ignoring _all_ scripts folders.\n",
      "HEAD is now at 7efca7b Wrong order.\n"
     ]
    },
    {
     "name": "stdout",
     "output_type": "stream",
     "text": [
      "\u001b[H\u001b[2J"
     ]
    },
    {
     "name": "stderr",
     "output_type": "stream",
     "text": [
      "Previous HEAD position was 7efca7b Wrong order.\n",
      "HEAD is now at ec278a9 Update the UI of the script source viewer/editor page.\n"
     ]
    },
    {
     "name": "stdout",
     "output_type": "stream",
     "text": [
      "\u001b[H\u001b[2J"
     ]
    },
    {
     "name": "stderr",
     "output_type": "stream",
     "text": [
      "Previous HEAD position was ec278a9 Update the UI of the script source viewer/editor page.\n",
      "HEAD is now at 0242ca1 Typo in the script (without namespace) edit route. Closes #114.\n"
     ]
    },
    {
     "name": "stdout",
     "output_type": "stream",
     "text": [
      "\u001b[H\u001b[2J"
     ]
    },
    {
     "name": "stderr",
     "output_type": "stream",
     "text": [
      "Previous HEAD position was 0242ca1 Typo in the script (without namespace) edit route. Closes #114.\n",
      "HEAD is now at b955fea Prevent getting disconnected from MongoDB and reuse the moongoose connection for MongoStore (used for session data).\n"
     ]
    },
    {
     "name": "stdout",
     "output_type": "stream",
     "text": [
      "\u001b[H\u001b[2J"
     ]
    },
    {
     "name": "stderr",
     "output_type": "stream",
     "text": [
      "Previous HEAD position was b955fea Prevent getting disconnected from MongoDB and reuse the moongoose connection for MongoStore (used for session data).\n",
      "HEAD is now at dd0f34d Old new issue route is no longer used.\n"
     ]
    },
    {
     "name": "stdout",
     "output_type": "stream",
     "text": [
      "\u001b[H\u001b[2J"
     ]
    },
    {
     "name": "stderr",
     "output_type": "stream",
     "text": [
      "Previous HEAD position was dd0f34d Old new issue route is no longer used.\n",
      "HEAD is now at 91b20ab Abstract hiding flagged items from a modelListQuery\n"
     ]
    },
    {
     "name": "stdout",
     "output_type": "stream",
     "text": [
      "\u001b[H\u001b[2J"
     ]
    },
    {
     "name": "stderr",
     "output_type": "stream",
     "text": [
      "Previous HEAD position was 91b20ab Abstract hiding flagged items from a modelListQuery\n",
      "HEAD is now at b026b1d More abstraction in modelQuery. Add funcs for userList\n"
     ]
    },
    {
     "name": "stdout",
     "output_type": "stream",
     "text": [
      "\u001b[H\u001b[2J"
     ]
    },
    {
     "name": "stderr",
     "output_type": "stream",
     "text": [
      "Previous HEAD position was b026b1d More abstraction in modelQuery. Add funcs for userList\n",
      "HEAD is now at 1b74aae Add a userListPage.\n"
     ]
    },
    {
     "name": "stdout",
     "output_type": "stream",
     "text": [
      "\u001b[H\u001b[2J"
     ]
    },
    {
     "name": "stderr",
     "output_type": "stream",
     "text": [
      "Previous HEAD position was 1b74aae Add a userListPage.\n",
      "HEAD is now at 1391121 refactor modelListQuery to use abstract functions. Abstract SearchBar.\n"
     ]
    },
    {
     "name": "stdout",
     "output_type": "stream",
     "text": [
      "\u001b[H\u001b[2J"
     ]
    },
    {
     "name": "stderr",
     "output_type": "stream",
     "text": [
      "Previous HEAD position was 1391121 refactor modelListQuery to use abstract functions. Abstract SearchBar.\n",
      "HEAD is now at 88b97cd Prevent the tag counts wrapping to the next line.\n"
     ]
    },
    {
     "name": "stdout",
     "output_type": "stream",
     "text": [
      "\u001b[H\u001b[2J"
     ]
    },
    {
     "name": "stderr",
     "output_type": "stream",
     "text": [
      "Previous HEAD position was 88b97cd Prevent the tag counts wrapping to the next line.\n",
      "HEAD is now at 32cdc8e Add link to userListPage in the header.\n"
     ]
    },
    {
     "name": "stdout",
     "output_type": "stream",
     "text": [
      "\u001b[H\u001b[2J"
     ]
    },
    {
     "name": "stderr",
     "output_type": "stream",
     "text": [
      "Previous HEAD position was 32cdc8e Add link to userListPage in the header.\n",
      "HEAD is now at 895ac84 Add script.meta.icon to the scriptList\n"
     ]
    },
    {
     "name": "stdout",
     "output_type": "stream",
     "text": [
      "\u001b[H\u001b[2J"
     ]
    },
    {
     "name": "stderr",
     "output_type": "stream",
     "text": [
      "Previous HEAD position was 895ac84 Add script.meta.icon to the scriptList\n",
      "HEAD is now at 7fa4752 Icons always take up 16x16 in scriptList. It's script.meta.version not script.version.\n"
     ]
    },
    {
     "name": "stdout",
     "output_type": "stream",
     "text": [
      "\u001b[H\u001b[2J"
     ]
    },
    {
     "name": "stderr",
     "output_type": "stream",
     "text": [
      "Previous HEAD position was 7fa4752 Icons always take up 16x16 in scriptList. It's script.meta.version not script.version.\n",
      "HEAD is now at 94e5f7d Add UserCommentListPage.\n"
     ]
    },
    {
     "name": "stdout",
     "output_type": "stream",
     "text": [
      "\u001b[H\u001b[2J"
     ]
    },
    {
     "name": "stderr",
     "output_type": "stream",
     "text": [
      "Previous HEAD position was 94e5f7d Add UserCommentListPage.\n",
      "HEAD is now at d7a7cbf Forgot to linkify Discussion in UserCommentListPage.\n"
     ]
    },
    {
     "name": "stdout",
     "output_type": "stream",
     "text": [
      "\u001b[H\u001b[2J"
     ]
    },
    {
     "name": "stderr",
     "output_type": "stream",
     "text": [
      "Previous HEAD position was d7a7cbf Forgot to linkify Discussion in UserCommentListPage.\n",
      "HEAD is now at 38ccb39 Redo adminApi (now adminPage).\n"
     ]
    },
    {
     "name": "stdout",
     "output_type": "stream",
     "text": [
      "\u001b[H\u001b[2J"
     ]
    },
    {
     "name": "stderr",
     "output_type": "stream",
     "text": [
      "Previous HEAD position was 38ccb39 Redo adminApi (now adminPage).\n",
      "HEAD is now at b997d47 ghUsername is considered private.\n"
     ]
    },
    {
     "name": "stdout",
     "output_type": "stream",
     "text": [
      "\u001b[H\u001b[2J"
     ]
    },
    {
     "name": "stderr",
     "output_type": "stream",
     "text": [
      "Previous HEAD position was b997d47 ghUsername is considered private.\n",
      "HEAD is now at 7416b7e Add breadcrumb link to the forum root page.\n"
     ]
    },
    {
     "name": "stdout",
     "output_type": "stream",
     "text": [
      "\u001b[H\u001b[2J"
     ]
    },
    {
     "name": "stderr",
     "output_type": "stream",
     "text": [
      "Previous HEAD position was 7416b7e Add breadcrumb link to the forum root page.\n",
      "HEAD is now at c55821d Redo NewScriptPage.  Move GithubSync to it's own page (broken atm).\n"
     ]
    },
    {
     "name": "stdout",
     "output_type": "stream",
     "text": [
      "\u001b[H\u001b[2J"
     ]
    },
    {
     "name": "stderr",
     "output_type": "stream",
     "text": [
      "Previous HEAD position was c55821d Redo NewScriptPage.  Move GithubSync to it's own page (broken atm).\n",
      "HEAD is now at 25ab86a Create empty md documents for DMCA, PRIVACY and TOS\n"
     ]
    },
    {
     "name": "stdout",
     "output_type": "stream",
     "text": [
      "\u001b[H\u001b[2J"
     ]
    },
    {
     "name": "stderr",
     "output_type": "stream",
     "text": [
      "Previous HEAD position was 25ab86a Create empty md documents for DMCA, PRIVACY and TOS\n",
      "HEAD is now at b91a3c6 Create empty md for CONTRIBUTING\n"
     ]
    },
    {
     "name": "stdout",
     "output_type": "stream",
     "text": [
      "\u001b[H\u001b[2J"
     ]
    },
    {
     "name": "stderr",
     "output_type": "stream",
     "text": [
      "Previous HEAD position was b91a3c6 Create empty md for CONTRIBUTING\n",
      "HEAD is now at a276ad8 Reference some of the current guidelines for CONTRIBUTING on the page that GH intended this to be in\n"
     ]
    },
    {
     "name": "stdout",
     "output_type": "stream",
     "text": [
      "\u001b[H\u001b[2J"
     ]
    },
    {
     "name": "stderr",
     "output_type": "stream",
     "text": [
      "Previous HEAD position was a276ad8 Reference some of the current guidelines for CONTRIBUTING on the page that GH intended this to be in\n",
      "HEAD is now at 4100c0a Try full relative path\n"
     ]
    },
    {
     "name": "stdout",
     "output_type": "stream",
     "text": [
      "\u001b[H\u001b[2J"
     ]
    },
    {
     "name": "stderr",
     "output_type": "stream",
     "text": [
      "Previous HEAD position was 4100c0a Try full relative path\n",
      "HEAD is now at 1a60480 Use full relative path for forks ability to find\n"
     ]
    },
    {
     "name": "stdout",
     "output_type": "stream",
     "text": [
      "\u001b[H\u001b[2J"
     ]
    },
    {
     "name": "stderr",
     "output_type": "stream",
     "text": [
      "Previous HEAD position was 1a60480 Use full relative path for forks ability to find\n",
      "HEAD is now at a36922e Basic *(incomplete)* DMCA for #116\n"
     ]
    },
    {
     "name": "stdout",
     "output_type": "stream",
     "text": [
      "\u001b[H\u001b[2J"
     ]
    },
    {
     "name": "stderr",
     "output_type": "stream",
     "text": [
      "Previous HEAD position was a36922e Basic *(incomplete)* DMCA for #116\n",
      "HEAD is now at 7f1e997 url is a default Node.js package.\n"
     ]
    },
    {
     "name": "stdout",
     "output_type": "stream",
     "text": [
      "\u001b[H\u001b[2J"
     ]
    },
    {
     "name": "stderr",
     "output_type": "stream",
     "text": [
      "Previous HEAD position was 7f1e997 url is a default Node.js package.\n",
      "HEAD is now at 0972df9 The toobusy package name changed to toobusy-js.\n"
     ]
    },
    {
     "name": "stdout",
     "output_type": "stream",
     "text": [
      "\u001b[H\u001b[2J"
     ]
    },
    {
     "name": "stderr",
     "output_type": "stream",
     "text": [
      "Previous HEAD position was 0972df9 The toobusy package name changed to toobusy-js.\n",
      "HEAD is now at 485e3fd Fix issues route regex. Closes #113.\n"
     ]
    },
    {
     "name": "stdout",
     "output_type": "stream",
     "text": [
      "\u001b[H\u001b[2J"
     ]
    },
    {
     "name": "stderr",
     "output_type": "stream",
     "text": [
      "Previous HEAD position was 485e3fd Fix issues route regex. Closes #113.\n",
      "HEAD is now at 1fca59d Use 404 status code for Fallback routes\n"
     ]
    },
    {
     "name": "stdout",
     "output_type": "stream",
     "text": [
      "\u001b[H\u001b[2J"
     ]
    },
    {
     "name": "stderr",
     "output_type": "stream",
     "text": [
      "Previous HEAD position was 1fca59d Use 404 status code for Fallback routes\n",
      "HEAD is now at 89bbbbe Typo in the script (without namespace) edit route for save. Should close #120\n"
     ]
    },
    {
     "name": "stdout",
     "output_type": "stream",
     "text": [
      "\u001b[H\u001b[2J"
     ]
    },
    {
     "name": "stderr",
     "output_type": "stream",
     "text": [
      "Previous HEAD position was 89bbbbe Typo in the script (without namespace) edit route for save. Should close #120\n",
      "HEAD is now at e66d374 Use xss.js to sanitize HTML mixed with Markdown. Closes #125.\n"
     ]
    },
    {
     "name": "stdout",
     "output_type": "stream",
     "text": [
      "\u001b[H\u001b[2J"
     ]
    },
    {
     "name": "stderr",
     "output_type": "stream",
     "text": [
      "Previous HEAD position was e66d374 Use xss.js to sanitize HTML mixed with Markdown. Closes #125.\n",
      "HEAD is now at 764d8a2 Fix error in scriptEditMetadataPage controller when groups is missing.\n"
     ]
    },
    {
     "name": "stdout",
     "output_type": "stream",
     "text": [
      "\u001b[H\u001b[2J"
     ]
    },
    {
     "name": "stderr",
     "output_type": "stream",
     "text": [
      "Previous HEAD position was 764d8a2 Fix error in scriptEditMetadataPage controller when groups is missing.\n",
      "HEAD is now at 240e96f Typo\n"
     ]
    },
    {
     "name": "stdout",
     "output_type": "stream",
     "text": [
      "\u001b[H\u001b[2J"
     ]
    },
    {
     "name": "stderr",
     "output_type": "stream",
     "text": [
      "Previous HEAD position was 240e96f Typo\n",
      "HEAD is now at 8484947 Use the HTML sanitization library after Markdown rendering for user input. Closes #125 hopefully...\n"
     ]
    },
    {
     "name": "stdout",
     "output_type": "stream",
     "text": [
      "\u001b[H\u001b[2J"
     ]
    },
    {
     "name": "stderr",
     "output_type": "stream",
     "text": [
      "Previous HEAD position was 8484947 Use the HTML sanitization library after Markdown rendering for user input. Closes #125 hopefully...\n",
      "HEAD is now at 14c4d9f Simple heading anchor links styled like Python docs.\n"
     ]
    },
    {
     "name": "stdout",
     "output_type": "stream",
     "text": [
      "\u001b[H\u001b[2J"
     ]
    },
    {
     "name": "stderr",
     "output_type": "stream",
     "text": [
      "Previous HEAD position was 14c4d9f Simple heading anchor links styled like Python docs.\n",
      "HEAD is now at 0ba4c9d Lang: Edit Meta -> Edit Script Info\n"
     ]
    },
    {
     "name": "stdout",
     "output_type": "stream",
     "text": [
      "\u001b[H\u001b[2J"
     ]
    },
    {
     "name": "stderr",
     "output_type": "stream",
     "text": [
      "Previous HEAD position was 0ba4c9d Lang: Edit Meta -> Edit Script Info\n",
      "HEAD is now at 0f57b3d flaggable -> canFlag\n"
     ]
    },
    {
     "name": "stdout",
     "output_type": "stream",
     "text": [
      "\u001b[H\u001b[2J"
     ]
    },
    {
     "name": "stderr",
     "output_type": "stream",
     "text": [
      "Previous HEAD position was 0f57b3d flaggable -> canFlag\n",
      "HEAD is now at 93360c5 Linkify the newScriptPageUrl. Add finishing touches to scriptViewSourcePage.\n"
     ]
    },
    {
     "name": "stdout",
     "output_type": "stream",
     "text": [
      "\u001b[H\u001b[2J"
     ]
    },
    {
     "name": "stderr",
     "output_type": "stream",
     "text": [
      "Previous HEAD position was 93360c5 Linkify the newScriptPageUrl. Add finishing touches to scriptViewSourcePage.\n",
      "HEAD is now at 7e8b217 Attempt a gray/blue theme built ontop of Bootswatch\n"
     ]
    },
    {
     "name": "stdout",
     "output_type": "stream",
     "text": [
      "\u001b[H\u001b[2J"
     ]
    },
    {
     "name": "stderr",
     "output_type": "stream",
     "text": [
      "Previous HEAD position was 7e8b217 Attempt a gray/blue theme built ontop of Bootswatch\n",
      "HEAD is now at 2aee2b7 Fix date formatting.\n"
     ]
    },
    {
     "name": "stdout",
     "output_type": "stream",
     "text": [
      "\u001b[H\u001b[2J"
     ]
    },
    {
     "name": "stderr",
     "output_type": "stream",
     "text": [
      "Previous HEAD position was 2aee2b7 Fix date formatting.\n",
      "HEAD is now at e00c7f1 Format script issue categories.\n"
     ]
    },
    {
     "name": "stdout",
     "output_type": "stream",
     "text": [
      "\u001b[H\u001b[2J"
     ]
    },
    {
     "name": "stderr",
     "output_type": "stream",
     "text": [
      "Previous HEAD position was e00c7f1 Format script issue categories.\n",
      "HEAD is now at e0e1ad9 Fit certain column's to width.\n"
     ]
    },
    {
     "name": "stdout",
     "output_type": "stream",
     "text": [
      "\u001b[H\u001b[2J"
     ]
    },
    {
     "name": "stderr",
     "output_type": "stream",
     "text": [
      "Previous HEAD position was e0e1ad9 Fit certain column's to width.\n",
      "HEAD is now at b4ed7ca Markdown heading anchor edits. Cleanup and fix https w/ css/js libs.\n"
     ]
    },
    {
     "name": "stdout",
     "output_type": "stream",
     "text": [
      "\u001b[H\u001b[2J"
     ]
    },
    {
     "name": "stderr",
     "output_type": "stream",
     "text": [
      "Previous HEAD position was b4ed7ca Markdown heading anchor edits. Cleanup and fix https w/ css/js libs.\n",
      "HEAD is now at b7cd3ab Scale viewport on phones.\n"
     ]
    },
    {
     "name": "stdout",
     "output_type": "stream",
     "text": [
      "\u001b[H\u001b[2J"
     ]
    },
    {
     "name": "stderr",
     "output_type": "stream",
     "text": [
      "Previous HEAD position was b7cd3ab Scale viewport on phones.\n",
      "HEAD is now at 51038e1 Add optional env var DEV_AWS_URL for custom fakes3 servers.\n"
     ]
    },
    {
     "name": "stdout",
     "output_type": "stream",
     "text": [
      "\u001b[H\u001b[2J"
     ]
    },
    {
     "name": "stderr",
     "output_type": "stream",
     "text": [
      "Previous HEAD position was 51038e1 Add optional env var DEV_AWS_URL for custom fakes3 servers.\n",
      "HEAD is now at bdfa0e8 Added env var AUTH_CALLBACK_BASE_URL.\n"
     ]
    },
    {
     "name": "stdout",
     "output_type": "stream",
     "text": [
      "\u001b[H\u001b[2J"
     ]
    },
    {
     "name": "stderr",
     "output_type": "stream",
     "text": [
      "Previous HEAD position was bdfa0e8 Added env var AUTH_CALLBACK_BASE_URL.\n",
      "HEAD is now at fd31e47 Mark active page in scriptNav\n"
     ]
    },
    {
     "name": "stdout",
     "output_type": "stream",
     "text": [
      "\u001b[H\u001b[2J"
     ]
    },
    {
     "name": "stderr",
     "output_type": "stream",
     "text": [
      "Previous HEAD position was fd31e47 Mark active page in scriptNav\n",
      "HEAD is now at 4156397 Redundant .row and .col-xs-12\n"
     ]
    },
    {
     "name": "stdout",
     "output_type": "stream",
     "text": [
      "\u001b[H\u001b[2J"
     ]
    },
    {
     "name": "stderr",
     "output_type": "stream",
     "text": [
      "Previous HEAD position was 4156397 Redundant .row and .col-xs-12\n",
      "HEAD is now at 72162e4 Use .fa-user instead of lorempixel img as we move closer to a PR.\n"
     ]
    },
    {
     "name": "stdout",
     "output_type": "stream",
     "text": [
      "\u001b[H\u001b[2J"
     ]
    },
    {
     "name": "stderr",
     "output_type": "stream",
     "text": [
      "Previous HEAD position was 72162e4 Use .fa-user instead of lorempixel img as we move closer to a PR.\n",
      "HEAD is now at 932d1c9 Only do https forwarding if we are running on the port 443. I need this change for testing purposes.\n"
     ]
    },
    {
     "name": "stdout",
     "output_type": "stream",
     "text": [
      "\u001b[H\u001b[2J"
     ]
    },
    {
     "name": "stderr",
     "output_type": "stream",
     "text": [
      "Previous HEAD position was 932d1c9 Only do https forwarding if we are running on the port 443. I need this change for testing purposes.\n",
      "HEAD is now at 4e182b3 404 page + fine tune ui with new theme.\n"
     ]
    },
    {
     "name": "stdout",
     "output_type": "stream",
     "text": [
      "\u001b[H\u001b[2J"
     ]
    },
    {
     "name": "stderr",
     "output_type": "stream",
     "text": [
      "Previous HEAD position was 4e182b3 404 page + fine tune ui with new theme.\n",
      "HEAD is now at df552c7 Start removing old views. Hide unauthed panels. Fixup voting/flagging.\n"
     ]
    },
    {
     "name": "stdout",
     "output_type": "stream",
     "text": [
      "\u001b[H\u001b[2J"
     ]
    },
    {
     "name": "stderr",
     "output_type": "stream",
     "text": [
      "Previous HEAD position was df552c7 Start removing old views. Hide unauthed panels. Fixup voting/flagging.\n",
      "HEAD is now at c18bad9 Implement Libaries with new UI.\n"
     ]
    },
    {
     "name": "stdout",
     "output_type": "stream",
     "text": [
      "\u001b[H\u001b[2J"
     ]
    },
    {
     "name": "stderr",
     "output_type": "stream",
     "text": [
      "Previous HEAD position was c18bad9 Implement Libaries with new UI.\n",
      "HEAD is now at 4b9a310 Fix searching for libraries.\n"
     ]
    },
    {
     "name": "stdout",
     "output_type": "stream",
     "text": [
      "\u001b[H\u001b[2J"
     ]
    },
    {
     "name": "stderr",
     "output_type": "stream",
     "text": [
      "Previous HEAD position was 4b9a310 Fix searching for libraries.\n",
      "HEAD is now at 4471838 Flip DMCA.md to email... still pending response for exact email address to use from @sizzlemctwizzle\n"
     ]
    },
    {
     "name": "stdout",
     "output_type": "stream",
     "text": [
      "\u001b[H\u001b[2J"
     ]
    },
    {
     "name": "stderr",
     "output_type": "stream",
     "text": [
      "Previous HEAD position was 4471838 Flip DMCA.md to email... still pending response for exact email address to use from @sizzlemctwizzle\n",
      "HEAD is now at 6599461 Ready up the DMCA notice\n"
     ]
    },
    {
     "name": "stdout",
     "output_type": "stream",
     "text": [
      "\u001b[H\u001b[2J"
     ]
    },
    {
     "name": "stderr",
     "output_type": "stream",
     "text": [
      "Previous HEAD position was 6599461 Ready up the DMCA notice\n",
      "HEAD is now at eba112d Abstract statusCodePages\n"
     ]
    },
    {
     "name": "stdout",
     "output_type": "stream",
     "text": [
      "\u001b[H\u001b[2J"
     ]
    },
    {
     "name": "stderr",
     "output_type": "stream",
     "text": [
      "Previous HEAD position was eba112d Abstract statusCodePages\n",
      "HEAD is now at 3d78209 Make maximum_upload_script_size a variable in settings.json.\n"
     ]
    },
    {
     "name": "stdout",
     "output_type": "stream",
     "text": [
      "\u001b[H\u001b[2J"
     ]
    },
    {
     "name": "stderr",
     "output_type": "stream",
     "text": [
      "Previous HEAD position was 3d78209 Make maximum_upload_script_size a variable in settings.json.\n",
      "HEAD is now at 22f68a8 Initial code for the redone githubImport.\n"
     ]
    },
    {
     "name": "stdout",
     "output_type": "stream",
     "text": [
      "\u001b[H\u001b[2J"
     ]
    },
    {
     "name": "stderr",
     "output_type": "stream",
     "text": [
      "Previous HEAD position was 22f68a8 Initial code for the redone githubImport.\n",
      "HEAD is now at 54d6981 Add github dependency.\n"
     ]
    },
    {
     "name": "stdout",
     "output_type": "stream",
     "text": [
      "\u001b[H\u001b[2J"
     ]
    },
    {
     "name": "stderr",
     "output_type": "stream",
     "text": [
      "Previous HEAD position was 54d6981 Add github dependency.\n",
      "HEAD is now at 3aef78d Add reqest dependency.\n"
     ]
    },
    {
     "name": "stdout",
     "output_type": "stream",
     "text": [
      "\u001b[H\u001b[2J"
     ]
    },
    {
     "name": "stderr",
     "output_type": "stream",
     "text": [
      "Previous HEAD position was 3aef78d Add reqest dependency.\n",
      "HEAD is now at 73fc7f6 Add landing page for admin. Put link in header.\n"
     ]
    },
    {
     "name": "stdout",
     "output_type": "stream",
     "text": [
      "\u001b[H\u001b[2J"
     ]
    },
    {
     "name": "stderr",
     "output_type": "stream",
     "text": [
      "Previous HEAD position was 73fc7f6 Add landing page for admin. Put link in header.\n",
      "HEAD is now at 670dd02 Remove dead link to /admin/api/github as it's not simple to implement.\n"
     ]
    },
    {
     "name": "stdout",
     "output_type": "stream",
     "text": [
      "\u001b[H\u001b[2J"
     ]
    },
    {
     "name": "stderr",
     "output_type": "stream",
     "text": [
      "Previous HEAD position was 670dd02 Remove dead link to /admin/api/github as it's not simple to implement.\n",
      "HEAD is now at 2a271a9 Typo + delete unused view.\n"
     ]
    },
    {
     "name": "stdout",
     "output_type": "stream",
     "text": [
      "\u001b[H\u001b[2J"
     ]
    },
    {
     "name": "stderr",
     "output_type": "stream",
     "text": [
      "Previous HEAD position was 2a271a9 Typo + delete unused view.\n",
      "HEAD is now at 515b40f We don't have enough info to linkify Add Webhook on newScriptPage.\n"
     ]
    },
    {
     "name": "stdout",
     "output_type": "stream",
     "text": [
      "\u001b[H\u001b[2J"
     ]
    },
    {
     "name": "stderr",
     "output_type": "stream",
     "text": [
      "Previous HEAD position was 515b40f We don't have enough info to linkify Add Webhook on newScriptPage.\n",
      "HEAD is now at 689b751 Add moderation landing page.\n"
     ]
    },
    {
     "name": "stdout",
     "output_type": "stream",
     "text": [
      "\u001b[H\u001b[2J"
     ]
    },
    {
     "name": "stderr",
     "output_type": "stream",
     "text": [
      "Previous HEAD position was 689b751 Add moderation landing page.\n",
      "HEAD is now at f7ca64a Linkify th for default sort operations.\n"
     ]
    },
    {
     "name": "stdout",
     "output_type": "stream",
     "text": [
      "\u001b[H\u001b[2J"
     ]
    },
    {
     "name": "stderr",
     "output_type": "stream",
     "text": [
      "Previous HEAD position was f7ca64a Linkify th for default sort operations.\n",
      "HEAD is now at 59dcbb6 Actually sort the groupList by rating on the homepage.\n"
     ]
    },
    {
     "name": "stdout",
     "output_type": "stream",
     "text": [
      "\u001b[H\u001b[2J"
     ]
    },
    {
     "name": "stderr",
     "output_type": "stream",
     "text": [
      "Previous HEAD position was 59dcbb6 Actually sort the groupList by rating on the homepage.\n",
      "HEAD is now at 7fe49e1 Sort userCommentList by created descending. Fix typo for authorTools.\n"
     ]
    },
    {
     "name": "stdout",
     "output_type": "stream",
     "text": [
      "\u001b[H\u001b[2J"
     ]
    },
    {
     "name": "stderr",
     "output_type": "stream",
     "text": [
      "Previous HEAD position was 7fe49e1 Sort userCommentList by created descending. Fix typo for authorTools.\n",
      "HEAD is now at 37130e9 Renamed github/import -> github/repo. Made import a GET request.\n"
     ]
    },
    {
     "name": "stdout",
     "output_type": "stream",
     "text": [
      "\u001b[H\u001b[2J"
     ]
    },
    {
     "name": "stderr",
     "output_type": "stream",
     "text": [
      "Previous HEAD position was 37130e9 Renamed github/import -> github/repo. Made import a GET request.\n",
      "HEAD is now at 6875318 Label User List as using the old ui\n"
     ]
    },
    {
     "name": "stdout",
     "output_type": "stream",
     "text": [
      "\u001b[H\u001b[2J"
     ]
    },
    {
     "name": "stderr",
     "output_type": "stream",
     "text": [
      "Previous HEAD position was 6875318 Label User List as using the old ui\n",
      "HEAD is now at d46d39b Refactor userManageGithubPage to only show the last 3 updated repos.\n"
     ]
    },
    {
     "name": "stdout",
     "output_type": "stream",
     "text": [
      "\u001b[H\u001b[2J"
     ]
    },
    {
     "name": "stderr",
     "output_type": "stream",
     "text": [
      "Previous HEAD position was d46d39b Refactor userManageGithubPage to only show the last 3 updated repos.\n",
      "HEAD is now at 4d92232 Add tiny documentation blurb in the placeholder for the newLibraryPage\n"
     ]
    },
    {
     "name": "stdout",
     "output_type": "stream",
     "text": [
      "\u001b[H\u001b[2J"
     ]
    },
    {
     "name": "stderr",
     "output_type": "stream",
     "text": [
      "Previous HEAD position was 4d92232 Add tiny documentation blurb in the placeholder for the newLibraryPage\n",
      "HEAD is now at 0102c27 Pretty up the secondary auth strategy dropdown.\n"
     ]
    },
    {
     "name": "stdout",
     "output_type": "stream",
     "text": [
      "\u001b[H\u001b[2J"
     ]
    },
    {
     "name": "stderr",
     "output_type": "stream",
     "text": [
      "Previous HEAD position was 0102c27 Pretty up the secondary auth strategy dropdown.\n",
      "HEAD is now at f9c552f Fix typo in replyButton script.\n"
     ]
    },
    {
     "name": "stdout",
     "output_type": "stream",
     "text": [
      "\u001b[H\u001b[2J"
     ]
    },
    {
     "name": "stderr",
     "output_type": "stream",
     "text": [
      "Previous HEAD position was f9c552f Fix typo in replyButton script.\n",
      "HEAD is now at bf82782 Move trLink scripts to includes/scripts. Add trLink to scriptLists.\n"
     ]
    },
    {
     "name": "stdout",
     "output_type": "stream",
     "text": [
      "\u001b[H\u001b[2J"
     ]
    },
    {
     "name": "stderr",
     "output_type": "stream",
     "text": [
      "Previous HEAD position was bf82782 Move trLink scripts to includes/scripts. Add trLink to scriptLists.\n",
      "HEAD is now at c25a1e3 Be consistent and use commelcase on view filenames.\n"
     ]
    },
    {
     "name": "stdout",
     "output_type": "stream",
     "text": [
      "\u001b[H\u001b[2J"
     ]
    },
    {
     "name": "stderr",
     "output_type": "stream",
     "text": [
      "Previous HEAD position was c25a1e3 Be consistent and use commelcase on view filenames.\n",
      "HEAD is now at 43e8d9a Test string got leftover when generating readable script categories.\n"
     ]
    },
    {
     "name": "stdout",
     "output_type": "stream",
     "text": [
      "\u001b[H\u001b[2J"
     ]
    },
    {
     "name": "stderr",
     "output_type": "stream",
     "text": [
      "Previous HEAD position was 43e8d9a Test string got leftover when generating readable script categories.\n",
      "HEAD is now at 4e92811 Add base TOS\n"
     ]
    },
    {
     "name": "stdout",
     "output_type": "stream",
     "text": [
      "\u001b[H\u001b[2J"
     ]
    },
    {
     "name": "stderr",
     "output_type": "stream",
     "text": [
      "Previous HEAD position was 4e92811 Add base TOS\n",
      "HEAD is now at 100790e Some more etiquette rules\n"
     ]
    },
    {
     "name": "stdout",
     "output_type": "stream",
     "text": [
      "\u001b[H\u001b[2J"
     ]
    },
    {
     "name": "stderr",
     "output_type": "stream",
     "text": [
      "Previous HEAD position was 100790e Some more etiquette rules\n",
      "HEAD is now at db5c3e5 Some clarification.\n"
     ]
    },
    {
     "name": "stdout",
     "output_type": "stream",
     "text": [
      "\u001b[H\u001b[2J"
     ]
    },
    {
     "name": "stderr",
     "output_type": "stream",
     "text": [
      "Previous HEAD position was db5c3e5 Some clarification.\n",
      "HEAD is now at 9c19bc4 Misc fixes and style guidelines for PR #129.\n"
     ]
    },
    {
     "name": "stdout",
     "output_type": "stream",
     "text": [
      "\u001b[H\u001b[2J"
     ]
    },
    {
     "name": "stderr",
     "output_type": "stream",
     "text": [
      "Previous HEAD position was 9c19bc4 Misc fixes and style guidelines for PR #129.\n",
      "HEAD is now at e593ee2 Typo\n"
     ]
    },
    {
     "name": "stdout",
     "output_type": "stream",
     "text": [
      "\u001b[H\u001b[2J"
     ]
    },
    {
     "name": "stderr",
     "output_type": "stream",
     "text": [
      "Previous HEAD position was e593ee2 Typo\n",
      "HEAD is now at e181d75 Allow users to permanently delete a script.\n"
     ]
    },
    {
     "name": "stdout",
     "output_type": "stream",
     "text": [
      "\u001b[H\u001b[2J"
     ]
    },
    {
     "name": "stderr",
     "output_type": "stream",
     "text": [
      "Previous HEAD position was e181d75 Allow users to permanently delete a script.\n",
      "HEAD is now at 05ef444 Go back to using POST requests during script import.\n"
     ]
    },
    {
     "name": "stdout",
     "output_type": "stream",
     "text": [
      "\u001b[H\u001b[2J"
     ]
    },
    {
     "name": "stderr",
     "output_type": "stream",
     "text": [
      "Previous HEAD position was 05ef444 Go back to using POST requests during script import.\n",
      "HEAD is now at 44787a4 Fix Import Script on Firefox. Fix flagging threshold ui.\n"
     ]
    },
    {
     "name": "stdout",
     "output_type": "stream",
     "text": [
      "\u001b[H\u001b[2J"
     ]
    },
    {
     "name": "stderr",
     "output_type": "stream",
     "text": [
      "Previous HEAD position was 44787a4 Fix Import Script on Firefox. Fix flagging threshold ui.\n",
      "HEAD is now at 7608cdb Throw in a blurb about how to test pull requests.\n"
     ]
    },
    {
     "name": "stdout",
     "output_type": "stream",
     "text": [
      "\u001b[H\u001b[2J"
     ]
    },
    {
     "name": "stderr",
     "output_type": "stream",
     "text": [
      "Previous HEAD position was 7608cdb Throw in a blurb about how to test pull requests.\n",
      "HEAD is now at 49bf9da Redo UI for removed items. Allow users/scripts to be removed.\n"
     ]
    },
    {
     "name": "stdout",
     "output_type": "stream",
     "text": [
      "\u001b[H\u001b[2J"
     ]
    },
    {
     "name": "stderr",
     "output_type": "stream",
     "text": [
      "Previous HEAD position was 49bf9da Redo UI for removed items. Allow users/scripts to be removed.\n",
      "HEAD is now at 75a3d8b Fix copypasta with removedItemList. Pretend to populate script.author.\n"
     ]
    },
    {
     "name": "stdout",
     "output_type": "stream",
     "text": [
      "\u001b[H\u001b[2J"
     ]
    },
    {
     "name": "stderr",
     "output_type": "stream",
     "text": [
      "Previous HEAD position was 75a3d8b Fix copypasta with removedItemList. Pretend to populate script.author.\n",
      "HEAD is now at 5b789da Parse script.meta @icon/@icon64 to script.icon16Url/script.icon45Url.\n"
     ]
    },
    {
     "name": "stdout",
     "output_type": "stream",
     "text": [
      "\u001b[H\u001b[2J"
     ]
    },
    {
     "name": "stderr",
     "output_type": "stream",
     "text": [
      "Previous HEAD position was 5b789da Parse script.meta @icon/@icon64 to script.icon16Url/script.icon45Url.\n",
      "HEAD is now at a39447b Fix tr-link when target is inside an <a>. Specify target a[href].\n"
     ]
    },
    {
     "name": "stdout",
     "output_type": "stream",
     "text": [
      "\u001b[H\u001b[2J"
     ]
    },
    {
     "name": "stderr",
     "output_type": "stream",
     "text": [
      "Previous HEAD position was a39447b Fix tr-link when target is inside an <a>. Specify target a[href].\n",
      "HEAD is now at c80d85f Hard code the flagging threshold at 1.\n"
     ]
    },
    {
     "name": "stdout",
     "output_type": "stream",
     "text": [
      "\u001b[H\u001b[2J"
     ]
    },
    {
     "name": "stderr",
     "output_type": "stream",
     "text": [
      "Previous HEAD position was c80d85f Hard code the flagging threshold at 1.\n",
      "HEAD is now at 0a3a82b Remove Admin ability to permanently delete. Fix ridirect on user role change.\n"
     ]
    },
    {
     "name": "stdout",
     "output_type": "stream",
     "text": [
      "\u001b[H\u001b[2J"
     ]
    },
    {
     "name": "stderr",
     "output_type": "stream",
     "text": [
      "Previous HEAD position was 0a3a82b Remove Admin ability to permanently delete. Fix ridirect on user role change.\n",
      "HEAD is now at 745554c When isYou, only show your current role.\n"
     ]
    },
    {
     "name": "stdout",
     "output_type": "stream",
     "text": [
      "\u001b[H\u001b[2J"
     ]
    },
    {
     "name": "stderr",
     "output_type": "stream",
     "text": [
      "Previous HEAD position was 745554c When isYou, only show your current role.\n",
      "HEAD is now at a15e021 Delete extra open div in adminPage\n"
     ]
    },
    {
     "name": "stdout",
     "output_type": "stream",
     "text": [
      "\u001b[H\u001b[2J"
     ]
    },
    {
     "name": "stderr",
     "output_type": "stream",
     "text": [
      "Previous HEAD position was a15e021 Delete extra open div in adminPage\n",
      "HEAD is now at 8f98411 Cover the entire number line of possiblities with item flagging.\n"
     ]
    },
    {
     "name": "stdout",
     "output_type": "stream",
     "text": [
      "\u001b[H\u001b[2J"
     ]
    },
    {
     "name": "stderr",
     "output_type": "stream",
     "text": [
      "Previous HEAD position was 8f98411 Cover the entire number line of possiblities with item flagging.\n",
      "HEAD is now at 0cd1f99 The gray/red bar represents # of votes and # of flags.\n"
     ]
    },
    {
     "name": "stdout",
     "output_type": "stream",
     "text": [
      "\u001b[H\u001b[2J"
     ]
    },
    {
     "name": "stderr",
     "output_type": "stream",
     "text": [
      "Previous HEAD position was 0cd1f99 The gray/red bar represents # of votes and # of flags.\n",
      "HEAD is now at ee96ae6 popularGroupListPanel update\n"
     ]
    },
    {
     "name": "stdout",
     "output_type": "stream",
     "text": [
      "\u001b[H\u001b[2J"
     ]
    },
    {
     "name": "stderr",
     "output_type": "stream",
     "text": [
      "Previous HEAD position was ee96ae6 popularGroupListPanel update\n",
      "HEAD is now at 262d118 Do not filter out scripts. Only show in the mod queue.\n"
     ]
    },
    {
     "name": "stdout",
     "output_type": "stream",
     "text": [
      "\u001b[H\u001b[2J"
     ]
    },
    {
     "name": "stderr",
     "output_type": "stream",
     "text": [
      "Previous HEAD position was 262d118 Do not filter out scripts. Only show in the mod queue.\n",
      "HEAD is now at 1e440fa Show the groups a script is in on scriptPage.\n"
     ]
    },
    {
     "name": "stdout",
     "output_type": "stream",
     "text": [
      "\u001b[H\u001b[2J"
     ]
    },
    {
     "name": "stderr",
     "output_type": "stream",
     "text": [
      "Previous HEAD position was 1e440fa Show the groups a script is in on scriptPage.\n",
      "HEAD is now at 98bb0a0 Add admin route for looking at abstract model data as json.\n"
     ]
    },
    {
     "name": "stdout",
     "output_type": "stream",
     "text": [
      "\u001b[H\u001b[2J"
     ]
    },
    {
     "name": "stderr",
     "output_type": "stream",
     "text": [
      "Previous HEAD position was 98bb0a0 Add admin route for looking at abstract model data as json.\n",
      "HEAD is now at d241385 Automatically open the commenting form\n"
     ]
    },
    {
     "name": "stdout",
     "output_type": "stream",
     "text": [
      "\u001b[H\u001b[2J"
     ]
    },
    {
     "name": "stderr",
     "output_type": "stream",
     "text": [
      "Previous HEAD position was d241385 Automatically open the commenting form\n",
      "HEAD is now at 990bc99 One possible fix for #140\n"
     ]
    },
    {
     "name": "stdout",
     "output_type": "stream",
     "text": [
      "\u001b[H\u001b[2J"
     ]
    },
    {
     "name": "stderr",
     "output_type": "stream",
     "text": [
      "Previous HEAD position was 990bc99 One possible fix for #140\n",
      "HEAD is now at f9fd2ca Further requested clarification\n"
     ]
    },
    {
     "name": "stdout",
     "output_type": "stream",
     "text": [
      "\u001b[H\u001b[2J"
     ]
    },
    {
     "name": "stderr",
     "output_type": "stream",
     "text": [
      "Previous HEAD position was f9fd2ca Further requested clarification\n",
      "HEAD is now at 8e9731e Some more grammar things\n"
     ]
    },
    {
     "name": "stdout",
     "output_type": "stream",
     "text": [
      "\u001b[H\u001b[2J"
     ]
    },
    {
     "name": "stderr",
     "output_type": "stream",
     "text": [
      "Previous HEAD position was 8e9731e Some more grammar things\n",
      "HEAD is now at 098b4f0 Liability correction for service rather than use.\n"
     ]
    },
    {
     "name": "stdout",
     "output_type": "stream",
     "text": [
      "\u001b[H\u001b[2J"
     ]
    },
    {
     "name": "stderr",
     "output_type": "stream",
     "text": [
      "Previous HEAD position was 098b4f0 Liability correction for service rather than use.\n",
      "HEAD is now at 9901fbc Allow accelerator ids for \"toTop\", \"toBottom\" in user content script pages... useful for user-content arrows without having to build a user.js to do this for anyone.\n"
     ]
    },
    {
     "name": "stdout",
     "output_type": "stream",
     "text": [
      "\u001b[H\u001b[2J"
     ]
    },
    {
     "name": "stderr",
     "output_type": "stream",
     "text": [
      "Previous HEAD position was 9901fbc Allow accelerator ids for \"toTop\", \"toBottom\" in user content script pages... useful for user-content arrows without having to build a user.js to do this for anyone.\n",
      "HEAD is now at cbe7c45 Add footer li's for LEGAL\n"
     ]
    },
    {
     "name": "stdout",
     "output_type": "stream",
     "text": [
      "\u001b[H\u001b[2J"
     ]
    },
    {
     "name": "stderr",
     "output_type": "stream",
     "text": [
      "Previous HEAD position was cbe7c45 Add footer li's for LEGAL\n",
      "HEAD is now at 2750c02 Expand on abusive scripts\n"
     ]
    },
    {
     "name": "stdout",
     "output_type": "stream",
     "text": [
      "\u001b[H\u001b[2J"
     ]
    },
    {
     "name": "stderr",
     "output_type": "stream",
     "text": [
      "Previous HEAD position was 2750c02 Expand on abusive scripts\n",
      "HEAD is now at a6169da Emulate, as much as possible, a unicode word boundry for unicode enabled `term`s since node *(V8)* doesn't currently support them. Possible fix for #133\n"
     ]
    },
    {
     "name": "stdout",
     "output_type": "stream",
     "text": [
      "\u001b[H\u001b[2J"
     ]
    },
    {
     "name": "stderr",
     "output_type": "stream",
     "text": [
      "Previous HEAD position was a6169da Emulate, as much as possible, a unicode word boundry for unicode enabled `term`s since node *(V8)* doesn't currently support them. Possible fix for #133\n",
      "HEAD is now at 9f8f7d6 Try sizzles re method for production testing\n"
     ]
    },
    {
     "name": "stdout",
     "output_type": "stream",
     "text": [
      "\u001b[H\u001b[2J"
     ]
    },
    {
     "name": "stderr",
     "output_type": "stream",
     "text": [
      "Previous HEAD position was 9f8f7d6 Try sizzles re method for production testing\n",
      "HEAD is now at 2b440fb Correction in emulation of unicode word boundary and detection of first char being non-word.\n"
     ]
    },
    {
     "name": "stdout",
     "output_type": "stream",
     "text": [
      "\u001b[H\u001b[2J"
     ]
    },
    {
     "name": "stderr",
     "output_type": "stream",
     "text": [
      "Previous HEAD position was 2b440fb Correction in emulation of unicode word boundary and detection of first char being non-word.\n",
      "HEAD is now at e954cab remove the logical or\n"
     ]
    },
    {
     "name": "stdout",
     "output_type": "stream",
     "text": [
      "\u001b[H\u001b[2J"
     ]
    },
    {
     "name": "stderr",
     "output_type": "stream",
     "text": [
      "Previous HEAD position was e954cab remove the logical or\n",
      "HEAD is now at 280df72 Allow empty profile descriptions; Fixes https://github.com/OpenUserJs/OpenUserJS.org/issues/155\n"
     ]
    },
    {
     "name": "stdout",
     "output_type": "stream",
     "text": [
      "\u001b[H\u001b[2J"
     ]
    },
    {
     "name": "stderr",
     "output_type": "stream",
     "text": [
      "Previous HEAD position was 280df72 Allow empty profile descriptions; Fixes https://github.com/OpenUserJs/OpenUserJS.org/issues/155\n",
      "HEAD is now at 273a446 'Libary' --> 'Library'\n"
     ]
    },
    {
     "name": "stdout",
     "output_type": "stream",
     "text": [
      "\u001b[H\u001b[2J"
     ]
    },
    {
     "name": "stderr",
     "output_type": "stream",
     "text": [
      "Previous HEAD position was 273a446 'Libary' --> 'Library'\n",
      "HEAD is now at c665e5f Fix #158. Check if req.session.profile exists first during auth.\n"
     ]
    },
    {
     "name": "stdout",
     "output_type": "stream",
     "text": [
      "\u001b[H\u001b[2J"
     ]
    },
    {
     "name": "stderr",
     "output_type": "stream",
     "text": [
      "Previous HEAD position was c665e5f Fix #158. Check if req.session.profile exists first during auth.\n",
      "HEAD is now at a6a6c0a Allow use of OpenID auths in dev env.\n"
     ]
    },
    {
     "name": "stdout",
     "output_type": "stream",
     "text": [
      "\u001b[H\u001b[2J"
     ]
    },
    {
     "name": "stderr",
     "output_type": "stream",
     "text": [
      "Previous HEAD position was a6a6c0a Allow use of OpenID auths in dev env.\n",
      "HEAD is now at cf11287 Allow Group/Discussion/Comment/Vote/Flag json to be accessed by admins\n"
     ]
    },
    {
     "name": "stdout",
     "output_type": "stream",
     "text": [
      "\u001b[H\u001b[2J"
     ]
    },
    {
     "name": "stderr",
     "output_type": "stream",
     "text": [
      "Previous HEAD position was cf11287 Allow Group/Discussion/Comment/Vote/Flag json to be accessed by admins\n",
      "HEAD is now at f9cb56a Add a admon panel to a groupScriptListPage linking the json.\n"
     ]
    },
    {
     "name": "stdout",
     "output_type": "stream",
     "text": [
      "\u001b[H\u001b[2J"
     ]
    },
    {
     "name": "stderr",
     "output_type": "stream",
     "text": [
      "Previous HEAD position was f9cb56a Add a admon panel to a groupScriptListPage linking the json.\n",
      "HEAD is now at 54eb6a4 Normalize viewport height to be a minimum off 100vh. Possibly fix #136\n"
     ]
    },
    {
     "name": "stdout",
     "output_type": "stream",
     "text": [
      "\u001b[H\u001b[2J"
     ]
    },
    {
     "name": "stderr",
     "output_type": "stream",
     "text": [
      "Previous HEAD position was 54eb6a4 Normalize viewport height to be a minimum off 100vh. Possibly fix #136\n",
      "HEAD is now at e0a2e0d Implement #147 Don't reverse the order of users.\n"
     ]
    },
    {
     "name": "stdout",
     "output_type": "stream",
     "text": [
      "\u001b[H\u001b[2J"
     ]
    },
    {
     "name": "stderr",
     "output_type": "stream",
     "text": [
      "Previous HEAD position was e0a2e0d Implement #147 Don't reverse the order of users.\n",
      "HEAD is now at 5cce441 Fix missing showing of spelling of `@license`\n"
     ]
    },
    {
     "name": "stdout",
     "output_type": "stream",
     "text": [
      "\u001b[H\u001b[2J"
     ]
    },
    {
     "name": "stderr",
     "output_type": "stream",
     "text": [
      "Previous HEAD position was 5cce441 Fix missing showing of spelling of `@license`\n",
      "HEAD is now at 7807afc List scripts using a library, and libraries used by a script. #138\n"
     ]
    },
    {
     "name": "stdout",
     "output_type": "stream",
     "text": [
      "\u001b[H\u001b[2J"
     ]
    },
    {
     "name": "stderr",
     "output_type": "stream",
     "text": [
      "Previous HEAD position was 7807afc List scripts using a library, and libraries used by a script. #138\n",
      "HEAD is now at a3309ef Fix missing script page header URL in non-Issue views.\n"
     ]
    },
    {
     "name": "stdout",
     "output_type": "stream",
     "text": [
      "\u001b[H\u001b[2J"
     ]
    },
    {
     "name": "stderr",
     "output_type": "stream",
     "text": [
      "Previous HEAD position was a3309ef Fix missing script page header URL in non-Issue views.\n",
      "HEAD is now at b476946 Fix undefined 'console.warning'\n"
     ]
    },
    {
     "name": "stdout",
     "output_type": "stream",
     "text": [
      "\u001b[H\u001b[2J"
     ]
    },
    {
     "name": "stderr",
     "output_type": "stream",
     "text": [
      "Previous HEAD position was b476946 Fix undefined 'console.warning'\n",
      "HEAD is now at 3001267 Make role changes immediate and destroy the sessions of removed users by tapping into the session store. Closes #132.\n"
     ]
    },
    {
     "name": "stdout",
     "output_type": "stream",
     "text": [
      "\u001b[H\u001b[2J"
     ]
    },
    {
     "name": "stderr",
     "output_type": "stream",
     "text": [
      "Previous HEAD position was 3001267 Make role changes immediate and destroy the sessions of removed users by tapping into the session store. Closes #132.\n",
      "HEAD is now at 3bdc51c Trying showing individual licenses. Applies to #161 and **INCOMPLETE**\n"
     ]
    },
    {
     "name": "stdout",
     "output_type": "stream",
     "text": [
      "\u001b[H\u001b[2J"
     ]
    },
    {
     "name": "stderr",
     "output_type": "stream",
     "text": [
      "Previous HEAD position was 3bdc51c Trying showing individual licenses. Applies to #161 and **INCOMPLETE**\n",
      "HEAD is now at d812612 Fix typo... applies to #161 and still **INCOMPLETE**\n"
     ]
    },
    {
     "name": "stdout",
     "output_type": "stream",
     "text": [
      "\u001b[H\u001b[2J"
     ]
    },
    {
     "name": "stderr",
     "output_type": "stream",
     "text": [
      "Previous HEAD position was d812612 Fix typo... applies to #161 and still **INCOMPLETE**\n",
      "HEAD is now at aaab607 Use `name` since `.` isn't currently support in mu2. Applies to #161\n"
     ]
    },
    {
     "name": "stdout",
     "output_type": "stream",
     "text": [
      "\u001b[H\u001b[2J"
     ]
    },
    {
     "name": "stderr",
     "output_type": "stream",
     "text": [
      "Previous HEAD position was aaab607 Use `name` since `.` isn't currently support in mu2. Applies to #161\n",
      "HEAD is now at 8f1f460 Fix collaborators while I'm in here.\n"
     ]
    },
    {
     "name": "stdout",
     "output_type": "stream",
     "text": [
      "\u001b[H\u001b[2J"
     ]
    },
    {
     "name": "stderr",
     "output_type": "stream",
     "text": [
      "Previous HEAD position was 8f1f460 Fix collaborators while I'm in here.\n",
      "HEAD is now at cdf0946 More legalese regarding Default Licensing. Applies to #116\n"
     ]
    },
    {
     "name": "stdout",
     "output_type": "stream",
     "text": [
      "\u001b[H\u001b[2J"
     ]
    },
    {
     "name": "stderr",
     "output_type": "stream",
     "text": [
      "Previous HEAD position was cdf0946 More legalese regarding Default Licensing. Applies to #116\n",
      "HEAD is now at 58e3a4f Don't set default license on script libraries.\n"
     ]
    },
    {
     "name": "stdout",
     "output_type": "stream",
     "text": [
      "\u001b[H\u001b[2J"
     ]
    },
    {
     "name": "stderr",
     "output_type": "stream",
     "text": [
      "Previous HEAD position was 58e3a4f Don't set default license on script libraries.\n",
      "HEAD is now at bc14afe really clarify forking. Applies to #116\n"
     ]
    },
    {
     "name": "stdout",
     "output_type": "stream",
     "text": [
      "\u001b[H\u001b[2J"
     ]
    },
    {
     "name": "stderr",
     "output_type": "stream",
     "text": [
      "Previous HEAD position was bc14afe really clarify forking. Applies to #116\n",
      "HEAD is now at 9f15065 Adding local environment setup and pull request sections to 'CONTRIBUTING.md'.  Related to #60\n"
     ]
    },
    {
     "name": "stdout",
     "output_type": "stream",
     "text": [
      "\u001b[H\u001b[2J"
     ]
    },
    {
     "name": "stderr",
     "output_type": "stream",
     "text": [
      "Previous HEAD position was 9f15065 Adding local environment setup and pull request sections to 'CONTRIBUTING.md'.  Related to #60\n",
      "HEAD is now at 3c4d882 Add install info for Windows users\n"
     ]
    },
    {
     "name": "stdout",
     "output_type": "stream",
     "text": [
      "\u001b[H\u001b[2J"
     ]
    },
    {
     "name": "stderr",
     "output_type": "stream",
     "text": [
      "Previous HEAD position was 3c4d882 Add install info for Windows users\n",
      "HEAD is now at 3a3d077 Remove dead code.\n"
     ]
    },
    {
     "name": "stdout",
     "output_type": "stream",
     "text": [
      "\u001b[H\u001b[2J"
     ]
    },
    {
     "name": "stderr",
     "output_type": "stream",
     "text": [
      "Previous HEAD position was 3a3d077 Remove dead code.\n",
      "HEAD is now at 133b8a0 Add missing heading on scripts & libs page;\n"
     ]
    },
    {
     "name": "stdout",
     "output_type": "stream",
     "text": [
      "\u001b[H\u001b[2J"
     ]
    },
    {
     "name": "stderr",
     "output_type": "stream",
     "text": [
      "Previous HEAD position was 133b8a0 Add missing heading on scripts & libs page;\n",
      "HEAD is now at 8036366 Add missing heading on forum page;\n"
     ]
    },
    {
     "name": "stdout",
     "output_type": "stream",
     "text": [
      "\u001b[H\u001b[2J"
     ]
    },
    {
     "name": "stderr",
     "output_type": "stream",
     "text": [
      "Previous HEAD position was 8036366 Add missing heading on forum page;\n",
      "HEAD is now at fa09c19 Updating with changes based upon PR discussion: * Using own MongoDB instance is optional * SSH clone URL for old client compatibility * Omit '-d' from 'npm install' of dependencies * Improving Ruby install section and added Mac\n"
     ]
    },
    {
     "name": "stdout",
     "output_type": "stream",
     "text": [
      "\u001b[H\u001b[2J"
     ]
    },
    {
     "name": "stderr",
     "output_type": "stream",
     "text": [
      "Previous HEAD position was fa09c19 Updating with changes based upon PR discussion: * Using own MongoDB instance is optional * SSH clone URL for old client compatibility * Omit '-d' from 'npm install' of dependencies * Improving Ruby install section and added Mac\n",
      "HEAD is now at d20d5ca MongoDB phrasing tweak\n"
     ]
    },
    {
     "name": "stdout",
     "output_type": "stream",
     "text": [
      "\u001b[H\u001b[2J"
     ]
    },
    {
     "name": "stderr",
     "output_type": "stream",
     "text": [
      "Previous HEAD position was d20d5ca MongoDB phrasing tweak\n",
      "HEAD is now at f56143c Add no scripts message;\n"
     ]
    },
    {
     "name": "stdout",
     "output_type": "stream",
     "text": [
      "\u001b[H\u001b[2J"
     ]
    },
    {
     "name": "stderr",
     "output_type": "stream",
     "text": [
      "Previous HEAD position was f56143c Add no scripts message;\n",
      "HEAD is now at 90279ce Added no comments message;\n"
     ]
    },
    {
     "name": "stdout",
     "output_type": "stream",
     "text": [
      "\u001b[H\u001b[2J"
     ]
    },
    {
     "name": "stderr",
     "output_type": "stream",
     "text": [
      "Previous HEAD position was 90279ce Added no comments message;\n",
      "HEAD is now at 89ce88f Libs -> Libraries\n"
     ]
    },
    {
     "name": "stdout",
     "output_type": "stream",
     "text": [
      "\u001b[H\u001b[2J"
     ]
    },
    {
     "name": "stderr",
     "output_type": "stream",
     "text": [
      "Previous HEAD position was 89ce88f Libs -> Libraries\n",
      "HEAD is now at f323125 Added no search results message;\n"
     ]
    },
    {
     "name": "stdout",
     "output_type": "stream",
     "text": [
      "\u001b[H\u001b[2J"
     ]
    },
    {
     "name": "stderr",
     "output_type": "stream",
     "text": [
      "Previous HEAD position was f323125 Added no search results message;\n",
      "HEAD is now at 4bb8778 Added no users search results message;\n"
     ]
    },
    {
     "name": "stdout",
     "output_type": "stream",
     "text": [
      "\u001b[H\u001b[2J"
     ]
    },
    {
     "name": "stderr",
     "output_type": "stream",
     "text": [
      "Previous HEAD position was 4bb8778 Added no users search results message;\n",
      "HEAD is now at fc92085 * Added no libraries search results message;\n"
     ]
    },
    {
     "name": "stdout",
     "output_type": "stream",
     "text": [
      "\u001b[H\u001b[2J"
     ]
    },
    {
     "name": "stderr",
     "output_type": "stream",
     "text": [
      "Previous HEAD position was fc92085 * Added no libraries search results message;\n",
      "HEAD is now at 9bec4bc Added no groups search results message;\n"
     ]
    },
    {
     "name": "stdout",
     "output_type": "stream",
     "text": [
      "\u001b[H\u001b[2J"
     ]
    },
    {
     "name": "stderr",
     "output_type": "stream",
     "text": [
      "Previous HEAD position was 9bec4bc Added no groups search results message;\n",
      "HEAD is now at 5f9a5fc * Valid HTML; * Added image dimensions; * Added message to leave image alternate text always empty;\n"
     ]
    },
    {
     "name": "stdout",
     "output_type": "stream",
     "text": [
      "\u001b[H\u001b[2J"
     ]
    },
    {
     "name": "stderr",
     "output_type": "stream",
     "text": [
      "Previous HEAD position was 5f9a5fc * Valid HTML; * Added image dimensions; * Added message to leave image alternate text always empty;\n",
      "HEAD is now at 7114acb * Valid HTML; * Consistency;\n"
     ]
    },
    {
     "name": "stdout",
     "output_type": "stream",
     "text": [
      "\u001b[H\u001b[2J"
     ]
    },
    {
     "name": "stderr",
     "output_type": "stream",
     "text": [
      "Previous HEAD position was 7114acb * Valid HTML; * Consistency;\n",
      "HEAD is now at ae9e682 * Valid HTML; * Removed unneeded mustache if;\n"
     ]
    },
    {
     "name": "stdout",
     "output_type": "stream",
     "text": [
      "\u001b[H\u001b[2J"
     ]
    },
    {
     "name": "stderr",
     "output_type": "stream",
     "text": [
      "Previous HEAD position was ae9e682 * Valid HTML; * Removed unneeded mustache if;\n",
      "HEAD is now at 8ee7f9f * Used HTML entity for copyright symbol;\n"
     ]
    },
    {
     "name": "stdout",
     "output_type": "stream",
     "text": [
      "\u001b[H\u001b[2J"
     ]
    },
    {
     "name": "stderr",
     "output_type": "stream",
     "text": [
      "Previous HEAD position was 8ee7f9f * Used HTML entity for copyright symbol;\n",
      "HEAD is now at e04b374 * Valid HTML; * Consistency;\n"
     ]
    },
    {
     "name": "stdout",
     "output_type": "stream",
     "text": [
      "\u001b[H\u001b[2J"
     ]
    },
    {
     "name": "stderr",
     "output_type": "stream",
     "text": [
      "Previous HEAD position was e04b374 * Valid HTML; * Consistency;\n",
      "HEAD is now at 4d41e88 * Valid HTML; * Consistency;\n"
     ]
    },
    {
     "name": "stdout",
     "output_type": "stream",
     "text": [
      "\u001b[H\u001b[2J"
     ]
    },
    {
     "name": "stderr",
     "output_type": "stream",
     "text": [
      "Previous HEAD position was 4d41e88 * Valid HTML; * Consistency;\n",
      "HEAD is now at 2a87175 * Valid HTML; * Consistency;\n"
     ]
    },
    {
     "name": "stdout",
     "output_type": "stream",
     "text": [
      "\u001b[H\u001b[2J"
     ]
    },
    {
     "name": "stderr",
     "output_type": "stream",
     "text": [
      "Previous HEAD position was 2a87175 * Valid HTML; * Consistency;\n",
      "HEAD is now at 6b42c68 Fix support for `@homepage` and upmix to `@homepageURL` for symmetry\n"
     ]
    },
    {
     "name": "stdout",
     "output_type": "stream",
     "text": [
      "\u001b[H\u001b[2J"
     ]
    },
    {
     "name": "stderr",
     "output_type": "stream",
     "text": [
      "Previous HEAD position was 6b42c68 Fix support for `@homepage` and upmix to `@homepageURL` for symmetry\n",
      "HEAD is now at 7adbce2 Condense collaborator list to styling from discussion pages\n"
     ]
    },
    {
     "name": "stdout",
     "output_type": "stream",
     "text": [
      "\u001b[H\u001b[2J"
     ]
    },
    {
     "name": "stderr",
     "output_type": "stream",
     "text": [
      "Previous HEAD position was 7adbce2 Condense collaborator list to styling from discussion pages\n",
      "HEAD is now at c53b597 Linkify `@collaborator`s\n"
     ]
    },
    {
     "name": "stdout",
     "output_type": "stream",
     "text": [
      "\u001b[H\u001b[2J"
     ]
    },
    {
     "name": "stderr",
     "output_type": "stream",
     "text": [
      "Previous HEAD position was c53b597 Linkify `@collaborator`s\n",
      "HEAD is now at 07e96bf Add a comment in to denote what is happening here.\n"
     ]
    },
    {
     "name": "stdout",
     "output_type": "stream",
     "text": [
      "\u001b[H\u001b[2J"
     ]
    },
    {
     "name": "stderr",
     "output_type": "stream",
     "text": [
      "Previous HEAD position was 07e96bf Add a comment in to denote what is happening here.\n",
      "HEAD is now at db5e893 Fix project licensing issues\n"
     ]
    },
    {
     "name": "stdout",
     "output_type": "stream",
     "text": [
      "\u001b[H\u001b[2J"
     ]
    },
    {
     "name": "stderr",
     "output_type": "stream",
     "text": [
      "Previous HEAD position was db5e893 Fix project licensing issues\n",
      "HEAD is now at aef1b24 Change license to not use blob but use raw\n"
     ]
    },
    {
     "name": "stdout",
     "output_type": "stream",
     "text": [
      "\u001b[H\u001b[2J"
     ]
    },
    {
     "name": "stderr",
     "output_type": "stream",
     "text": [
      "Previous HEAD position was aef1b24 Change license to not use blob but use raw\n",
      "HEAD is now at 0e872ef Differ from flagged listings;\n"
     ]
    },
    {
     "name": "stdout",
     "output_type": "stream",
     "text": [
      "\u001b[H\u001b[2J"
     ]
    },
    {
     "name": "stderr",
     "output_type": "stream",
     "text": [
      "Previous HEAD position was 0e872ef Differ from flagged listings;\n",
      "HEAD is now at 7384999 Moved empty list message to controllers;\n"
     ]
    },
    {
     "name": "stdout",
     "output_type": "stream",
     "text": [
      "\u001b[H\u001b[2J"
     ]
    },
    {
     "name": "stderr",
     "output_type": "stream",
     "text": [
      "Previous HEAD position was 7384999 Moved empty list message to controllers;\n",
      "HEAD is now at f7568fa Better flagged headings. Improves https://github.com/OpenUserJs/OpenUserJS.org/pull/171\n"
     ]
    },
    {
     "name": "stdout",
     "output_type": "stream",
     "text": [
      "\u001b[H\u001b[2J"
     ]
    },
    {
     "name": "stderr",
     "output_type": "stream",
     "text": [
      "Previous HEAD position was f7568fa Better flagged headings. Improves https://github.com/OpenUserJs/OpenUserJS.org/pull/171\n",
      "HEAD is now at f334c7a Revert ampersand entities in URLs;\n"
     ]
    },
    {
     "name": "stdout",
     "output_type": "stream",
     "text": [
      "\u001b[H\u001b[2J"
     ]
    },
    {
     "name": "stderr",
     "output_type": "stream",
     "text": [
      "Previous HEAD position was f334c7a Revert ampersand entities in URLs;\n",
      "HEAD is now at 2596114 * Valid HTML; * Consistency;\n"
     ]
    },
    {
     "name": "stdout",
     "output_type": "stream",
     "text": [
      "\u001b[H\u001b[2J"
     ]
    },
    {
     "name": "stderr",
     "output_type": "stream",
     "text": [
      "Previous HEAD position was 2596114 * Valid HTML; * Consistency;\n",
      "HEAD is now at 4720f4c * Consistency; * Removed one unused variable;\n"
     ]
    },
    {
     "name": "stdout",
     "output_type": "stream",
     "text": [
      "\u001b[H\u001b[2J"
     ]
    },
    {
     "name": "stderr",
     "output_type": "stream",
     "text": [
      "Previous HEAD position was 4720f4c * Consistency; * Removed one unused variable;\n",
      "HEAD is now at 3a780f2 Consistency;\n"
     ]
    },
    {
     "name": "stdout",
     "output_type": "stream",
     "text": [
      "\u001b[H\u001b[2J"
     ]
    },
    {
     "name": "stderr",
     "output_type": "stream",
     "text": [
      "Previous HEAD position was 3a780f2 Consistency;\n",
      "HEAD is now at e2e8763 Consistency;\n"
     ]
    },
    {
     "name": "stdout",
     "output_type": "stream",
     "text": [
      "\u001b[H\u001b[2J"
     ]
    },
    {
     "name": "stderr",
     "output_type": "stream",
     "text": [
      "Previous HEAD position was e2e8763 Consistency;\n",
      "HEAD is now at 43964b5 Add an announcements discussion category listed on the homepage.\n"
     ]
    },
    {
     "name": "stdout",
     "output_type": "stream",
     "text": [
      "\u001b[H\u001b[2J"
     ]
    },
    {
     "name": "stderr",
     "output_type": "stream",
     "text": [
      "Previous HEAD position was 43964b5 Add an announcements discussion category listed on the homepage.\n",
      "HEAD is now at b5877be Use favicon express middleware. Closes #184.\n"
     ]
    },
    {
     "name": "stdout",
     "output_type": "stream",
     "text": [
      "\u001b[H\u001b[2J"
     ]
    },
    {
     "name": "stderr",
     "output_type": "stream",
     "text": [
      "Previous HEAD position was b5877be Use favicon express middleware. Closes #184.\n",
      "HEAD is now at e1eafdb Consistency;\n"
     ]
    },
    {
     "name": "stdout",
     "output_type": "stream",
     "text": [
      "\u001b[H\u001b[2J"
     ]
    },
    {
     "name": "stderr",
     "output_type": "stream",
     "text": [
      "Previous HEAD position was e1eafdb Consistency;\n",
      "HEAD is now at 9f8a25d More Consistency;\n"
     ]
    },
    {
     "name": "stdout",
     "output_type": "stream",
     "text": [
      "\u001b[H\u001b[2J"
     ]
    },
    {
     "name": "stderr",
     "output_type": "stream",
     "text": [
      "Previous HEAD position was 9f8a25d More Consistency;\n",
      "HEAD is now at bba62f5 Require a min role (Mod) to post topics to the Announcements category\n"
     ]
    },
    {
     "name": "stdout",
     "output_type": "stream",
     "text": [
      "\u001b[H\u001b[2J"
     ]
    },
    {
     "name": "stderr",
     "output_type": "stream",
     "text": [
      "Previous HEAD position was bba62f5 Require a min role (Mod) to post topics to the Announcements category\n",
      "HEAD is now at ee03e4f Basics\n"
     ]
    },
    {
     "name": "stdout",
     "output_type": "stream",
     "text": [
      "\u001b[H\u001b[2J"
     ]
    },
    {
     "name": "stderr",
     "output_type": "stream",
     "text": [
      "Previous HEAD position was ee03e4f Basics\n",
      "HEAD is now at 842fd6c Fix #137 : Missing scripts within group\n"
     ]
    },
    {
     "name": "stdout",
     "output_type": "stream",
     "text": [
      "\u001b[H\u001b[2J"
     ]
    },
    {
     "name": "stderr",
     "output_type": "stream",
     "text": [
      "Previous HEAD position was 842fd6c Fix #137 : Missing scripts within group\n",
      "HEAD is now at 816839e Fix pseudo unique *(e.g. non-upmixed but unique)* `@icon` key to use **last value** only\n"
     ]
    },
    {
     "name": "stdout",
     "output_type": "stream",
     "text": [
      "\u001b[H\u001b[2J"
     ]
    },
    {
     "name": "stderr",
     "output_type": "stream",
     "text": [
      "Previous HEAD position was 816839e Fix pseudo unique *(e.g. non-upmixed but unique)* `@icon` key to use **last value** only\n",
      "HEAD is now at 67612db Add support for only one last `@supportURL` and fix naming standardization\n"
     ]
    },
    {
     "name": "stdout",
     "output_type": "stream",
     "text": [
      "\u001b[H\u001b[2J"
     ]
    },
    {
     "name": "stderr",
     "output_type": "stream",
     "text": [
      "Previous HEAD position was 67612db Add support for only one last `@supportURL` and fix naming standardization\n",
      "HEAD is now at 3b13a3c Fix missing url from paste op\n"
     ]
    },
    {
     "name": "stdout",
     "output_type": "stream",
     "text": [
      "\u001b[H\u001b[2J"
     ]
    },
    {
     "name": "stderr",
     "output_type": "stream",
     "text": [
      "Previous HEAD position was 3b13a3c Fix missing url from paste op\n",
      "HEAD is now at 959e259 Swap out simple-xss for sanitize-html\n"
     ]
    },
    {
     "name": "stdout",
     "output_type": "stream",
     "text": [
      "\u001b[H\u001b[2J"
     ]
    },
    {
     "name": "stderr",
     "output_type": "stream",
     "text": [
      "Previous HEAD position was 959e259 Swap out simple-xss for sanitize-html\n",
      "HEAD is now at fafa04c Flip order of processing and allow img tag\n"
     ]
    },
    {
     "name": "stdout",
     "output_type": "stream",
     "text": [
      "\u001b[H\u001b[2J"
     ]
    },
    {
     "name": "stderr",
     "output_type": "stream",
     "text": [
      "Previous HEAD position was fafa04c Flip order of processing and allow img tag\n",
      "HEAD is now at 7097881 Revert last commit... otherwise DOM is stripped of highlighting capabilities even though it doesn't currently work\n"
     ]
    },
    {
     "name": "stdout",
     "output_type": "stream",
     "text": [
      "\u001b[H\u001b[2J"
     ]
    },
    {
     "name": "stderr",
     "output_type": "stream",
     "text": [
      "Previous HEAD position was 7097881 Revert last commit... otherwise DOM is stripped of highlighting capabilities even though it doesn't currently work\n",
      "HEAD is now at c31e8db Match some of [GH's](https://github.com/github/markup#html-sanitization) stuff.\n"
     ]
    },
    {
     "name": "stdout",
     "output_type": "stream",
     "text": [
      "\u001b[H\u001b[2J"
     ]
    },
    {
     "name": "stderr",
     "output_type": "stream",
     "text": [
      "Previous HEAD position was c31e8db Match some of [GH's](https://github.com/github/markup#html-sanitization) stuff.\n",
      "HEAD is now at 2b5e93d Move html whitelist to a json file so it doesn't clutter up the main code and read in\n"
     ]
    },
    {
     "name": "stdout",
     "output_type": "stream",
     "text": [
      "\u001b[H\u001b[2J"
     ]
    },
    {
     "name": "stderr",
     "output_type": "stream",
     "text": [
      "Previous HEAD position was 2b5e93d Move html whitelist to a json file so it doesn't clutter up the main code and read in\n",
      "HEAD is now at 6891f97 White space adjustment and removal of console message.\n"
     ]
    },
    {
     "name": "stdout",
     "output_type": "stream",
     "text": [
      "\u001b[H\u001b[2J"
     ]
    },
    {
     "name": "stderr",
     "output_type": "stream",
     "text": [
      "Previous HEAD position was 6891f97 White space adjustment and removal of console message.\n",
      "HEAD is now at 41c359f Rename json to be more specific and change affected code\n"
     ]
    },
    {
     "name": "stdout",
     "output_type": "stream",
     "text": [
      "\u001b[H\u001b[2J"
     ]
    },
    {
     "name": "stderr",
     "output_type": "stream",
     "text": [
      "Previous HEAD position was 41c359f Rename json to be more specific and change affected code\n",
      "HEAD is now at 3c4bc18 Migrate issues.\n"
     ]
    },
    {
     "name": "stdout",
     "output_type": "stream",
     "text": [
      "\u001b[H\u001b[2J"
     ]
    },
    {
     "name": "stderr",
     "output_type": "stream",
     "text": [
      "Previous HEAD position was 3c4bc18 Migrate issues.\n",
      "HEAD is now at 4960070 Use sanitizer for the html renderer. Closes #190.\n"
     ]
    },
    {
     "name": "stdout",
     "output_type": "stream",
     "text": [
      "\u001b[H\u001b[2J"
     ]
    },
    {
     "name": "stderr",
     "output_type": "stream",
     "text": [
      "Previous HEAD position was 4960070 Use sanitizer for the html renderer. Closes #190.\n",
      "HEAD is now at 171973f Temporary fix.\n"
     ]
    },
    {
     "name": "stdout",
     "output_type": "stream",
     "text": [
      "\u001b[H\u001b[2J"
     ]
    },
    {
     "name": "stderr",
     "output_type": "stream",
     "text": [
      "Previous HEAD position was 171973f Temporary fix.\n",
      "HEAD is now at 23f47bc Sanitize the output from the block level markdown renderers.\n"
     ]
    },
    {
     "name": "stdout",
     "output_type": "stream",
     "text": [
      "\u001b[H\u001b[2J"
     ]
    },
    {
     "name": "stderr",
     "output_type": "stream",
     "text": [
      "Previous HEAD position was 23f47bc Sanitize the output from the block level markdown renderers.\n",
      "HEAD is now at 3c1c04c Whitelist img tag and a list of attributes for all tags. Closes #192.\n"
     ]
    },
    {
     "name": "stdout",
     "output_type": "stream",
     "text": [
      "\u001b[H\u001b[2J"
     ]
    },
    {
     "name": "stderr",
     "output_type": "stream",
     "text": [
      "Previous HEAD position was 3c1c04c Whitelist img tag and a list of attributes for all tags. Closes #192.\n",
      "HEAD is now at 5b65abd Finished code changes for migration.\n"
     ]
    },
    {
     "name": "stdout",
     "output_type": "stream",
     "text": [
      "\u001b[H\u001b[2J"
     ]
    },
    {
     "name": "stderr",
     "output_type": "stream",
     "text": [
      "Previous HEAD position was 5b65abd Finished code changes for migration.\n",
      "HEAD is now at 29e772f DB migration code ready.\n"
     ]
    },
    {
     "name": "stdout",
     "output_type": "stream",
     "text": [
      "\u001b[H\u001b[2J"
     ]
    },
    {
     "name": "stderr",
     "output_type": "stream",
     "text": [
      "Previous HEAD position was 29e772f DB migration code ready.\n",
      "HEAD is now at c883fe5 Finished db migration on production.\n"
     ]
    },
    {
     "name": "stdout",
     "output_type": "stream",
     "text": [
      "\u001b[H\u001b[2J"
     ]
    },
    {
     "name": "stderr",
     "output_type": "stream",
     "text": [
      "Previous HEAD position was c883fe5 Finished db migration on production.\n",
      "HEAD is now at 5f7b0f5 Bugfix.\n"
     ]
    },
    {
     "name": "stdout",
     "output_type": "stream",
     "text": [
      "\u001b[H\u001b[2J"
     ]
    },
    {
     "name": "stderr",
     "output_type": "stream",
     "text": [
      "Previous HEAD position was 5f7b0f5 Bugfix.\n",
      "HEAD is now at 465b11b Insert spaces after function keyword for anonymous functions; https://github.com/OpenUserJs/OpenUserJS.org/blob/master/STYLEGUIDE.md#function-declarations\n"
     ]
    },
    {
     "name": "stdout",
     "output_type": "stream",
     "text": [
      "\u001b[H\u001b[2J"
     ]
    },
    {
     "name": "stderr",
     "output_type": "stream",
     "text": [
      "Previous HEAD position was 465b11b Insert spaces after function keyword for anonymous functions; https://github.com/OpenUserJs/OpenUserJS.org/blob/master/STYLEGUIDE.md#function-declarations\n",
      "HEAD is now at daa3ed1 Insert spaces after function keyword for anonymous functions (stragglers)\n"
     ]
    },
    {
     "name": "stdout",
     "output_type": "stream",
     "text": [
      "\u001b[H\u001b[2J"
     ]
    },
    {
     "name": "stderr",
     "output_type": "stream",
     "text": [
      "Previous HEAD position was daa3ed1 Insert spaces after function keyword for anonymous functions (stragglers)\n",
      "HEAD is now at 39a1749 Fix `@collaborator` to generate the URI properly using `encodeURIComponent`\n"
     ]
    },
    {
     "name": "stdout",
     "output_type": "stream",
     "text": [
      "\u001b[H\u001b[2J"
     ]
    },
    {
     "name": "stderr",
     "output_type": "stream",
     "text": [
      "Previous HEAD position was 39a1749 Fix `@collaborator` to generate the URI properly using `encodeURIComponent`\n",
      "HEAD is now at 0ec1e53 Sanitize `@` keys to prevent malicious use\n"
     ]
    },
    {
     "name": "stdout",
     "output_type": "stream",
     "text": [
      "\u001b[H\u001b[2J"
     ]
    },
    {
     "name": "stderr",
     "output_type": "stream",
     "text": [
      "Previous HEAD position was 0ec1e53 Sanitize `@` keys to prevent malicious use\n",
      "HEAD is now at 54e86bb Comply with lack of ES6 compliance in Google V8 dated specifications in node.js and downgrade to ES5 standards, and [our current styleguide enforcement](https://github.com/OpenUserJs/OpenUserJS.org/commit/0263c797d323cdf76be9cd6f11093903ea250b69#diff-ba2dc84c4bcbe54f368b6c7d3bc1b13eR39)\n"
     ]
    },
    {
     "name": "stdout",
     "output_type": "stream",
     "text": [
      "\u001b[H\u001b[2J"
     ]
    },
    {
     "name": "stderr",
     "output_type": "stream",
     "text": [
      "Previous HEAD position was 54e86bb Comply with lack of ES6 compliance in Google V8 dated specifications in node.js and downgrade to ES5 standards, and [our current styleguide enforcement](https://github.com/OpenUserJs/OpenUserJS.org/commit/0263c797d323cdf76be9cd6f11093903ea250b69#diff-ba2dc84c4bcbe54f368b6c7d3bc1b13eR39)\n",
      "HEAD is now at d817050 Add `rel=\"nofollow` as default unless on current production\n"
     ]
    },
    {
     "name": "stdout",
     "output_type": "stream",
     "text": [
      "\u001b[H\u001b[2J"
     ]
    },
    {
     "name": "stderr",
     "output_type": "stream",
     "text": [
      "Previous HEAD position was d817050 Add `rel=\"nofollow` as default unless on current production\n",
      "HEAD is now at 0c6c9fb Fix for clarity usage of ES5 usage on block level identifiers\n"
     ]
    },
    {
     "name": "stdout",
     "output_type": "stream",
     "text": [
      "\u001b[H\u001b[2J"
     ]
    },
    {
     "name": "stderr",
     "output_type": "stream",
     "text": [
      "Previous HEAD position was 0c6c9fb Fix for clarity usage of ES5 usage on block level identifiers\n",
      "HEAD is now at 247d137 One more exacting for `.x`  ES versions ...\n"
     ]
    },
    {
     "name": "stdout",
     "output_type": "stream",
     "text": [
      "\u001b[H\u001b[2J"
     ]
    },
    {
     "name": "stderr",
     "output_type": "stream",
     "text": [
      "Previous HEAD position was 247d137 One more exacting for `.x`  ES versions ...\n",
      "HEAD is now at 1719f88 Comply with STYLEGUIDE.md not using unset but declared identifiers and set to `null`\n"
     ]
    },
    {
     "name": "stdout",
     "output_type": "stream",
     "text": [
      "\u001b[H\u001b[2J"
     ]
    },
    {
     "name": "stderr",
     "output_type": "stream",
     "text": [
      "Previous HEAD position was 1719f88 Comply with STYLEGUIDE.md not using unset but declared identifiers and set to `null`\n",
      "HEAD is now at 2ffc959 Auth As Target User.\n"
     ]
    },
    {
     "name": "stdout",
     "output_type": "stream",
     "text": [
      "\u001b[H\u001b[2J"
     ]
    },
    {
     "name": "stderr",
     "output_type": "stream",
     "text": [
      "Previous HEAD position was 2ffc959 Auth As Target User.\n",
      "HEAD is now at 60bce7a Add type=\"text/css\" media=\"all\" to <link>\n"
     ]
    },
    {
     "name": "stdout",
     "output_type": "stream",
     "text": [
      "\u001b[H\u001b[2J"
     ]
    },
    {
     "name": "stderr",
     "output_type": "stream",
     "text": [
      "Previous HEAD position was 60bce7a Add type=\"text/css\" media=\"all\" to <link>\n",
      "HEAD is now at 3d646e1 The script path needs to be encoded for redirects in production. #200\n"
     ]
    },
    {
     "name": "stdout",
     "output_type": "stream",
     "text": [
      "\u001b[H\u001b[2J"
     ]
    },
    {
     "name": "stderr",
     "output_type": "stream",
     "text": [
      "Previous HEAD position was 3d646e1 The script path needs to be encoded for redirects in production. #200\n",
      "HEAD is now at f02fb78 Repair GH repo page url view only to point to master as committed original in #89\n"
     ]
    },
    {
     "name": "stdout",
     "output_type": "stream",
     "text": [
      "\u001b[H\u001b[2J"
     ]
    },
    {
     "name": "stderr",
     "output_type": "stream",
     "text": [
      "Previous HEAD position was f02fb78 Repair GH repo page url view only to point to master as committed original in #89\n",
      "HEAD is now at f587ab4 Remove straggling trailing commas in objects\n"
     ]
    },
    {
     "name": "stdout",
     "output_type": "stream",
     "text": [
      "\u001b[H\u001b[2J"
     ]
    },
    {
     "name": "stderr",
     "output_type": "stream",
     "text": [
      "Previous HEAD position was f587ab4 Remove straggling trailing commas in objects\n",
      "HEAD is now at 5e3ac69 Option 2 for #204\n"
     ]
    },
    {
     "name": "stdout",
     "output_type": "stream",
     "text": [
      "\u001b[H\u001b[2J"
     ]
    },
    {
     "name": "stderr",
     "output_type": "stream",
     "text": [
      "Previous HEAD position was 5e3ac69 Option 2 for #204\n",
      "HEAD is now at 5086c25 Clarification of commas a bit more.\n"
     ]
    },
    {
     "name": "stdout",
     "output_type": "stream",
     "text": [
      "\u001b[H\u001b[2J"
     ]
    },
    {
     "name": "stderr",
     "output_type": "stream",
     "text": [
      "Previous HEAD position was 5086c25 Clarification of commas a bit more.\n",
      "HEAD is now at 9ced644 Backout master reference since GH allows different HEADS... rarely used but I have seen a few ppl do this.\n"
     ]
    },
    {
     "name": "stdout",
     "output_type": "stream",
     "text": [
      "\u001b[H\u001b[2J"
     ]
    },
    {
     "name": "stderr",
     "output_type": "stream",
     "text": [
      "Previous HEAD position was 9ced644 Backout master reference since GH allows different HEADS... rarely used but I have seen a few ppl do this.\n",
      "HEAD is now at 4df291c Further things for #204\n"
     ]
    },
    {
     "name": "stdout",
     "output_type": "stream",
     "text": [
      "\u001b[H\u001b[2J"
     ]
    },
    {
     "name": "stderr",
     "output_type": "stream",
     "text": [
      "Previous HEAD position was 4df291c Further things for #204\n",
      "HEAD is now at 36ec0b7 More for #204\n"
     ]
    },
    {
     "name": "stdout",
     "output_type": "stream",
     "text": [
      "\u001b[H\u001b[2J"
     ]
    },
    {
     "name": "stderr",
     "output_type": "stream",
     "text": [
      "Previous HEAD position was 36ec0b7 More for #204\n",
      "HEAD is now at 01ac264 Fix missing default script `@license`\n"
     ]
    },
    {
     "name": "stdout",
     "output_type": "stream",
     "text": [
      "\u001b[H\u001b[2J"
     ]
    },
    {
     "name": "stderr",
     "output_type": "stream",
     "text": [
      "Previous HEAD position was 01ac264 Fix missing default script `@license`\n",
      "HEAD is now at 0aee93d Add OUJS supported keys to Add Scripts page and tweak their descriptions a bit\n"
     ]
    },
    {
     "name": "stdout",
     "output_type": "stream",
     "text": [
      "\u001b[H\u001b[2J"
     ]
    },
    {
     "name": "stderr",
     "output_type": "stream",
     "text": [
      "Previous HEAD position was 0aee93d Add OUJS supported keys to Add Scripts page and tweak their descriptions a bit\n",
      "HEAD is now at 2450ff5 More tweakage on OUJS specific.\n"
     ]
    },
    {
     "name": "stdout",
     "output_type": "stream",
     "text": [
      "\u001b[H\u001b[2J"
     ]
    },
    {
     "name": "stderr",
     "output_type": "stream",
     "text": [
      "Previous HEAD position was 2450ff5 More tweakage on OUJS specific.\n",
      "HEAD is now at 215306c `@copyright` handling\n"
     ]
    },
    {
     "name": "stdout",
     "output_type": "stream",
     "text": [
      "\u001b[H\u001b[2J"
     ]
    },
    {
     "name": "stderr",
     "output_type": "stream",
     "text": [
      "Previous HEAD position was 215306c `@copyright` handling\n",
      "HEAD is now at 780fd54 Uppercase according to [IETF](http://tools.ietf.org/html/rfc3629#section-4)\n"
     ]
    },
    {
     "name": "stdout",
     "output_type": "stream",
     "text": [
      "\u001b[H\u001b[2J"
     ]
    },
    {
     "name": "stderr",
     "output_type": "stream",
     "text": [
      "Previous HEAD position was 780fd54 Uppercase according to [IETF](http://tools.ietf.org/html/rfc3629#section-4)\n",
      "HEAD is now at 5899a6c Some strong emphasis and additions/clarifications for #19\n"
     ]
    },
    {
     "name": "stdout",
     "output_type": "stream",
     "text": [
      "\u001b[H\u001b[2J"
     ]
    },
    {
     "name": "stderr",
     "output_type": "stream",
     "text": [
      "Previous HEAD position was 5899a6c Some strong emphasis and additions/clarifications for #19\n",
      "HEAD is now at 8c11b3c Move `@author` and `@collaborator` to bottom and denote possibly changing\n"
     ]
    },
    {
     "name": "stdout",
     "output_type": "stream",
     "text": [
      "\u001b[H\u001b[2J"
     ]
    },
    {
     "name": "stderr",
     "output_type": "stream",
     "text": [
      "Previous HEAD position was 8c11b3c Move `@author` and `@collaborator` to bottom and denote possibly changing\n",
      "HEAD is now at 12fb0cd Allow the source of a user script to be accessed without incrementing the install count.\n"
     ]
    },
    {
     "name": "stdout",
     "output_type": "stream",
     "text": [
      "\u001b[H\u001b[2J"
     ]
    },
    {
     "name": "stderr",
     "output_type": "stream",
     "text": [
      "Previous HEAD position was 12fb0cd Allow the source of a user script to be accessed without incrementing the install count.\n",
      "HEAD is now at 4ef18cd Use \"12 Mar\" if relative date is >7days. \"Feb '13\" if not this year.\n"
     ]
    },
    {
     "name": "stdout",
     "output_type": "stream",
     "text": [
      "\u001b[H\u001b[2J"
     ]
    },
    {
     "name": "stderr",
     "output_type": "stream",
     "text": [
      "Previous HEAD position was 4ef18cd Use \"12 Mar\" if relative date is >7days. \"Feb '13\" if not this year.\n",
      "HEAD is now at f797e87 Reverse all handled keys except `@supportURL`\n"
     ]
    },
    {
     "name": "stdout",
     "output_type": "stream",
     "text": [
      "\u001b[H\u001b[2J"
     ]
    },
    {
     "name": "stderr",
     "output_type": "stream",
     "text": [
      "Previous HEAD position was f797e87 Reverse all handled keys except `@supportURL`\n",
      "HEAD is now at cc3ae79 Reverse multiple handled key order and match code point to display points\n"
     ]
    },
    {
     "name": "stdout",
     "output_type": "stream",
     "text": [
      "\u001b[H\u001b[2J"
     ]
    },
    {
     "name": "stderr",
     "output_type": "stream",
     "text": [
      "Previous HEAD position was cc3ae79 Reverse multiple handled key order and match code point to display points\n",
      "HEAD is now at 5d2e4a0 Create dev folder for devtools\n"
     ]
    },
    {
     "name": "stdout",
     "output_type": "stream",
     "text": [
      "\u001b[H\u001b[2J"
     ]
    },
    {
     "name": "stderr",
     "output_type": "stream",
     "text": [
      "Previous HEAD position was 5d2e4a0 Create dev folder for devtools\n",
      "HEAD is now at ee25314 Add dev/fakeS3 to .gitignore in case of accidental running in the dev folder\n"
     ]
    },
    {
     "name": "stdout",
     "output_type": "stream",
     "text": [
      "\u001b[H\u001b[2J"
     ]
    },
    {
     "name": "stderr",
     "output_type": "stream",
     "text": [
      "Previous HEAD position was ee25314 Add dev/fakeS3 to .gitignore in case of accidental running in the dev folder\n",
      "HEAD is now at d5305a2 Instruct devs to invoke from project root using `dev/fakes3.sh`\n"
     ]
    },
    {
     "name": "stdout",
     "output_type": "stream",
     "text": [
      "\u001b[H\u001b[2J"
     ]
    },
    {
     "name": "stderr",
     "output_type": "stream",
     "text": [
      "Previous HEAD position was d5305a2 Instruct devs to invoke from project root using `dev/fakes3.sh`\n",
      "HEAD is now at 4b3bbee Use alternate reversal method\n"
     ]
    },
    {
     "name": "stdout",
     "output_type": "stream",
     "text": [
      "\u001b[H\u001b[2J"
     ]
    },
    {
     "name": "stderr",
     "output_type": "stream",
     "text": [
      "Previous HEAD position was 4b3bbee Use alternate reversal method\n",
      "HEAD is now at 9b63b5e Reverting last commit as it is shorter according to two other tests.\n"
     ]
    },
    {
     "name": "stdout",
     "output_type": "stream",
     "text": [
      "\u001b[H\u001b[2J"
     ]
    },
    {
     "name": "stderr",
     "output_type": "stream",
     "text": [
      "Previous HEAD position was 9b63b5e Reverting last commit as it is shorter according to two other tests.\n",
      "HEAD is now at 03e939f Consistent page meta data;\n"
     ]
    },
    {
     "name": "stdout",
     "output_type": "stream",
     "text": [
      "\u001b[H\u001b[2J"
     ]
    },
    {
     "name": "stderr",
     "output_type": "stream",
     "text": [
      "Previous HEAD position was 03e939f Consistent page meta data;\n",
      "HEAD is now at 1af274b Remove SF links as SourceForge EOLd mediawiki\n"
     ]
    },
    {
     "name": "stdout",
     "output_type": "stream",
     "text": [
      "\u001b[H\u001b[2J"
     ]
    },
    {
     "name": "stderr",
     "output_type": "stream",
     "text": [
      "Previous HEAD position was 1af274b Remove SF links as SourceForge EOLd mediawiki\n",
      "HEAD is now at e5ad348 Point general link to Project App Wiki and change a few verbages\n"
     ]
    },
    {
     "name": "stdout",
     "output_type": "stream",
     "text": [
      "\u001b[H\u001b[2J"
     ]
    },
    {
     "name": "stderr",
     "output_type": "stream",
     "text": [
      "Previous HEAD position was e5ad348 Point general link to Project App Wiki and change a few verbages\n",
      "HEAD is now at dc4828a 'API Keys' renamed to 'Site API Keys'\n"
     ]
    },
    {
     "name": "stdout",
     "output_type": "stream",
     "text": [
      "\u001b[H\u001b[2J"
     ]
    },
    {
     "name": "stderr",
     "output_type": "stream",
     "text": [
      "Previous HEAD position was dc4828a 'API Keys' renamed to 'Site API Keys'\n",
      "HEAD is now at 5e3c614 Fixed page meta data in statusCodePage;\n"
     ]
    },
    {
     "name": "stdout",
     "output_type": "stream",
     "text": [
      "\u001b[H\u001b[2J"
     ]
    },
    {
     "name": "stderr",
     "output_type": "stream",
     "text": [
      "Previous HEAD position was 5e3c614 Fixed page meta data in statusCodePage;\n",
      "HEAD is now at 4bb0be8 Renamed to 'pageMetadata';\n"
     ]
    },
    {
     "name": "stdout",
     "output_type": "stream",
     "text": [
      "\u001b[H\u001b[2J"
     ]
    },
    {
     "name": "stderr",
     "output_type": "stream",
     "text": [
      "Previous HEAD position was 4bb0be8 Renamed to 'pageMetadata';\n",
      "HEAD is now at 9cd49bd Renamed to 'pageMetadata';\n"
     ]
    },
    {
     "name": "stdout",
     "output_type": "stream",
     "text": [
      "\u001b[H\u001b[2J"
     ]
    },
    {
     "name": "stderr",
     "output_type": "stream",
     "text": [
      "Previous HEAD position was 9cd49bd Renamed to 'pageMetadata';\n",
      "HEAD is now at b217490 Add basic support for key prefixing\n"
     ]
    },
    {
     "name": "stdout",
     "output_type": "stream",
     "text": [
      "\u001b[H\u001b[2J"
     ]
    },
    {
     "name": "stderr",
     "output_type": "stream",
     "text": [
      "Previous HEAD position was b217490 Add basic support for key prefixing\n",
      "HEAD is now at 5134914 Readd `@author`... need this for testing\n"
     ]
    },
    {
     "name": "stdout",
     "output_type": "stream",
     "text": [
      "\u001b[H\u001b[2J"
     ]
    },
    {
     "name": "stderr",
     "output_type": "stream",
     "text": [
      "Previous HEAD position was 5134914 Readd `@author`... need this for testing\n",
      "HEAD is now at b6fd452 Swap out `@collaborator` and `@author` for prefixed keys\n"
     ]
    },
    {
     "name": "stdout",
     "output_type": "stream",
     "text": [
      "\u001b[H\u001b[2J"
     ]
    },
    {
     "name": "stderr",
     "output_type": "stream",
     "text": [
      "Previous HEAD position was b6fd452 Swap out `@collaborator` and `@author` for prefixed keys\n",
      "HEAD is now at 550993d Remove some duplicated `meta.oujs` checks... the remaining one should probably stay in there since it's an `||`\n"
     ]
    },
    {
     "name": "stdout",
     "output_type": "stream",
     "text": [
      "\u001b[H\u001b[2J"
     ]
    },
    {
     "name": "stderr",
     "output_type": "stream",
     "text": [
      "Previous HEAD position was 550993d Remove some duplicated `meta.oujs` checks... the remaining one should probably stay in there since it's an `||`\n",
      "HEAD is now at 42f9c30 Change add/scripts page to reflect these changes.\n"
     ]
    },
    {
     "name": "stdout",
     "output_type": "stream",
     "text": [
      "\u001b[H\u001b[2J"
     ]
    },
    {
     "name": "stderr",
     "output_type": "stream",
     "text": [
      "Previous HEAD position was 42f9c30 Change add/scripts page to reflect these changes.\n",
      "HEAD is now at f7ff675 Missed an instruction on the page to use prefix\n"
     ]
    },
    {
     "name": "stdout",
     "output_type": "stream",
     "text": [
      "\u001b[H\u001b[2J"
     ]
    },
    {
     "name": "stderr",
     "output_type": "stream",
     "text": [
      "Previous HEAD position was f7ff675 Missed an instruction on the page to use prefix\n",
      "HEAD is now at d6f4302 I could have swore that this was committed a few days ago... No idea how this crept back in... SF changed their wiki store... correcting links to the new path and removing from specifics\n"
     ]
    },
    {
     "name": "stdout",
     "output_type": "stream",
     "text": [
      "\u001b[H\u001b[2J"
     ]
    },
    {
     "name": "stderr",
     "output_type": "stream",
     "text": [
      "Previous HEAD position was d6f4302 I could have swore that this was committed a few days ago... No idea how this crept back in... SF changed their wiki store... correcting links to the new path and removing from specifics\n",
      "HEAD is now at b4bde68 Missed identifier change\n"
     ]
    },
    {
     "name": "stdout",
     "output_type": "stream",
     "text": [
      "\u001b[H\u001b[2J"
     ]
    },
    {
     "name": "stderr",
     "output_type": "stream",
     "text": [
      "Previous HEAD position was b4bde68 Missed identifier change\n",
      "HEAD is now at 305d734 Fix message on metadata ARGGH.\n"
     ]
    },
    {
     "name": "stdout",
     "output_type": "stream",
     "text": [
      "\u001b[H\u001b[2J"
     ]
    },
    {
     "name": "stderr",
     "output_type": "stream",
     "text": [
      "Previous HEAD position was 305d734 Fix message on metadata ARGGH.\n",
      "HEAD is now at aa845e5 Don't save a script if it doesn't store properly. #224\n"
     ]
    },
    {
     "name": "stdout",
     "output_type": "stream",
     "text": [
      "\u001b[H\u001b[2J"
     ]
    },
    {
     "name": "stderr",
     "output_type": "stream",
     "text": [
      "Previous HEAD position was aa845e5 Don't save a script if it doesn't store properly. #224\n",
      "HEAD is now at e517664 Fix lost commit from merge\n"
     ]
    },
    {
     "name": "stdout",
     "output_type": "stream",
     "text": [
      "\u001b[H\u001b[2J"
     ]
    },
    {
     "name": "stderr",
     "output_type": "stream",
     "text": [
      "Previous HEAD position was e517664 Fix lost commit from merge\n",
      "HEAD is now at 64ee3ed Fix the fix\n"
     ]
    },
    {
     "name": "stdout",
     "output_type": "stream",
     "text": [
      "\u001b[H\u001b[2J"
     ]
    },
    {
     "name": "stderr",
     "output_type": "stream",
     "text": [
      "Previous HEAD position was 64ee3ed Fix the fix\n",
      "HEAD is now at 4b4b97f Consistency in collaboration instructions.\n"
     ]
    },
    {
     "name": "stdout",
     "output_type": "stream",
     "text": [
      "\u001b[H\u001b[2J"
     ]
    },
    {
     "name": "stderr",
     "output_type": "stream",
     "text": [
      "Previous HEAD position was 4b4b97f Consistency in collaboration instructions.\n",
      "HEAD is now at 586d800 Brief mention of dash in class and id values\n"
     ]
    },
    {
     "name": "stdout",
     "output_type": "stream",
     "text": [
      "\u001b[H\u001b[2J"
     ]
    },
    {
     "name": "stderr",
     "output_type": "stream",
     "text": [
      "Previous HEAD position was 586d800 Brief mention of dash in class and id values\n",
      "HEAD is now at 086f873 Finish fixing #138: Add last updated date on library page.\n"
     ]
    },
    {
     "name": "stdout",
     "output_type": "stream",
     "text": [
      "\u001b[H\u001b[2J"
     ]
    },
    {
     "name": "stderr",
     "output_type": "stream",
     "text": [
      "Previous HEAD position was 086f873 Finish fixing #138: Add last updated date on library page.\n",
      "HEAD is now at d49bdb8 * Clean up routes; * Add missing route directories;\n"
     ]
    },
    {
     "name": "stdout",
     "output_type": "stream",
     "text": [
      "\u001b[H\u001b[2J"
     ]
    },
    {
     "name": "stderr",
     "output_type": "stream",
     "text": [
      "Previous HEAD position was d49bdb8 * Clean up routes; * Add missing route directories;\n",
      "HEAD is now at d6e237b Emphasizing the Issue and PR process\n"
     ]
    },
    {
     "name": "stdout",
     "output_type": "stream",
     "text": [
      "\u001b[H\u001b[2J"
     ]
    },
    {
     "name": "stderr",
     "output_type": "stream",
     "text": [
      "Previous HEAD position was d6e237b Emphasizing the Issue and PR process\n",
      "HEAD is now at 64ff719 Some typos and grammar corrections\n"
     ]
    },
    {
     "name": "stdout",
     "output_type": "stream",
     "text": [
      "\u001b[H\u001b[2J"
     ]
    },
    {
     "name": "stderr",
     "output_type": "stream",
     "text": [
      "Previous HEAD position was 64ff719 Some typos and grammar corrections\n",
      "HEAD is now at a07af52 Missed `mightfix` and `wontfix`\n"
     ]
    },
    {
     "name": "stdout",
     "output_type": "stream",
     "text": [
      "\u001b[H\u001b[2J"
     ]
    },
    {
     "name": "stderr",
     "output_type": "stream",
     "text": [
      "Previous HEAD position was a07af52 Missed `mightfix` and `wontfix`\n",
      "HEAD is now at 442d2ea DOC header md fix\n"
     ]
    },
    {
     "name": "stdout",
     "output_type": "stream",
     "text": [
      "\u001b[H\u001b[2J"
     ]
    },
    {
     "name": "stderr",
     "output_type": "stream",
     "text": [
      "Previous HEAD position was 442d2ea DOC header md fix\n",
      "HEAD is now at f0e02ad Clarification fix\n"
     ]
    },
    {
     "name": "stdout",
     "output_type": "stream",
     "text": [
      "\u001b[H\u001b[2J"
     ]
    },
    {
     "name": "stderr",
     "output_type": "stream",
     "text": [
      "Previous HEAD position was f0e02ad Clarification fix\n",
      "HEAD is now at 5535281 Security fix: Prevent bypassing the IP address check for the GitHub Webhook by setting \"x-forwarded-for\" header to a GH IP address. The proxy used by Nodejitsu appends the req.connection.remoteAddress with a comma seperator if this header is already set, which means the last value is the one we want to test. Thanks to @Ventero for discovering and reporting this flaw privately.\n"
     ]
    },
    {
     "name": "stdout",
     "output_type": "stream",
     "text": [
      "\u001b[H\u001b[2J"
     ]
    },
    {
     "name": "stderr",
     "output_type": "stream",
     "text": [
      "Previous HEAD position was 5535281 Security fix: Prevent bypassing the IP address check for the GitHub Webhook by setting \"x-forwarded-for\" header to a GH IP address. The proxy used by Nodejitsu appends the req.connection.remoteAddress with a comma seperator if this header is already set, which means the last value is the one we want to test. Thanks to @Ventero for discovering and reporting this flaw privately.\n",
      "HEAD is now at e88151a Few corrections as per sizzle\n"
     ]
    },
    {
     "name": "stdout",
     "output_type": "stream",
     "text": [
      "\u001b[H\u001b[2J"
     ]
    },
    {
     "name": "stderr",
     "output_type": "stream",
     "text": [
      "Previous HEAD position was e88151a Few corrections as per sizzle\n",
      "HEAD is now at 6e4ee52 Indicate in TOS that `license` or `licence`... they should not to be used together.\n"
     ]
    },
    {
     "name": "stdout",
     "output_type": "stream",
     "text": [
      "\u001b[H\u001b[2J"
     ]
    },
    {
     "name": "stderr",
     "output_type": "stream",
     "text": [
      "Previous HEAD position was 6e4ee52 Indicate in TOS that `license` or `licence`... they should not to be used together.\n",
      "HEAD is now at bcac090 That made that worse in the TOS... clarifying exactly.\n"
     ]
    },
    {
     "name": "stdout",
     "output_type": "stream",
     "text": [
      "\u001b[H\u001b[2J"
     ]
    },
    {
     "name": "stderr",
     "output_type": "stream",
     "text": [
      "Previous HEAD position was bcac090 That made that worse in the TOS... clarifying exactly.\n",
      "HEAD is now at fdf3cd0 Typo\n"
     ]
    },
    {
     "name": "stdout",
     "output_type": "stream",
     "text": [
      "\u001b[H\u001b[2J"
     ]
    },
    {
     "name": "stderr",
     "output_type": "stream",
     "text": [
      "Previous HEAD position was fdf3cd0 Typo\n",
      "HEAD is now at 2c203fb Fix broken regex.\n"
     ]
    },
    {
     "name": "stdout",
     "output_type": "stream",
     "text": [
      "\u001b[H\u001b[2J"
     ]
    },
    {
     "name": "stderr",
     "output_type": "stream",
     "text": [
      "Previous HEAD position was 2c203fb Fix broken regex.\n",
      "HEAD is now at 8dfda3d Repair display of fork history on script page.\n"
     ]
    },
    {
     "name": "stdout",
     "output_type": "stream",
     "text": [
      "\u001b[H\u001b[2J"
     ]
    },
    {
     "name": "stderr",
     "output_type": "stream",
     "text": [
      "Previous HEAD position was 8dfda3d Repair display of fork history on script page.\n",
      "HEAD is now at 090fba9 Fix CIDR\n"
     ]
    },
    {
     "name": "stdout",
     "output_type": "stream",
     "text": [
      "\u001b[H\u001b[2J"
     ]
    },
    {
     "name": "stderr",
     "output_type": "stream",
     "text": [
      "Previous HEAD position was 090fba9 Fix CIDR\n",
      "HEAD is now at e8611ee Update CONTRIBUTING.md\n"
     ]
    },
    {
     "name": "stdout",
     "output_type": "stream",
     "text": [
      "\u001b[H\u001b[2J"
     ]
    },
    {
     "name": "stderr",
     "output_type": "stream",
     "text": [
      "Previous HEAD position was e8611ee Update CONTRIBUTING.md\n",
      "HEAD is now at 6eba4d9 Loosen up the death grip on #19 with `switch`\n"
     ]
    },
    {
     "name": "stdout",
     "output_type": "stream",
     "text": [
      "\u001b[H\u001b[2J"
     ]
    },
    {
     "name": "stderr",
     "output_type": "stream",
     "text": [
      "Previous HEAD position was 6eba4d9 Loosen up the death grip on #19 with `switch`\n",
      "HEAD is now at 5e993ae Go with GM styled comment requirement of `// fallthrough` syntax instead of curly braces.\n"
     ]
    },
    {
     "name": "stdout",
     "output_type": "stream",
     "text": [
      "\u001b[H\u001b[2J"
     ]
    },
    {
     "name": "stderr",
     "output_type": "stream",
     "text": [
      "Previous HEAD position was 5e993ae Go with GM styled comment requirement of `// fallthrough` syntax instead of curly braces.\n",
      "HEAD is now at 305fa0b More symmetry with the styleguide of indent with 2 spaces in the STYLEGUIDE.md examples\n"
     ]
    },
    {
     "name": "stdout",
     "output_type": "stream",
     "text": [
      "\u001b[H\u001b[2J"
     ]
    },
    {
     "name": "stderr",
     "output_type": "stream",
     "text": [
      "Previous HEAD position was 305fa0b More symmetry with the styleguide of indent with 2 spaces in the STYLEGUIDE.md examples\n",
      "HEAD is now at 1472fbc Missed symmetry on 2 indention spaced example.\n"
     ]
    },
    {
     "name": "stdout",
     "output_type": "stream",
     "text": [
      "\u001b[H\u001b[2J"
     ]
    },
    {
     "name": "stderr",
     "output_type": "stream",
     "text": [
      "Previous HEAD position was 1472fbc Missed symmetry on 2 indention spaced example.\n",
      "HEAD is now at f83dea6 Add recommendation for `setTimeout` from #208\n"
     ]
    },
    {
     "name": "stdout",
     "output_type": "stream",
     "text": [
      "\u001b[H\u001b[2J"
     ]
    },
    {
     "name": "stderr",
     "output_type": "stream",
     "text": [
      "Previous HEAD position was f83dea6 Add recommendation for `setTimeout` from #208\n",
      "HEAD is now at 5359920 Clarify server side usage of node.js specific API\n"
     ]
    },
    {
     "name": "stdout",
     "output_type": "stream",
     "text": [
      "\u001b[H\u001b[2J"
     ]
    },
    {
     "name": "stderr",
     "output_type": "stream",
     "text": [
      "Previous HEAD position was 5359920 Clarify server side usage of node.js specific API\n",
      "HEAD is now at 71b6f58 Add additional functionality for `parseMeta`\n"
     ]
    },
    {
     "name": "stdout",
     "output_type": "stream",
     "text": [
      "\u001b[H\u001b[2J"
     ]
    },
    {
     "name": "stderr",
     "output_type": "stream",
     "text": [
      "Previous HEAD position was 71b6f58 Add additional functionality for `parseMeta`\n",
      "HEAD is now at 3005ca5 Add other upmixes for keys that have way too many synonyms\n"
     ]
    },
    {
     "name": "stdout",
     "output_type": "stream",
     "text": [
      "\u001b[H\u001b[2J"
     ]
    },
    {
     "name": "stderr",
     "output_type": "stream",
     "text": [
      "Previous HEAD position was 3005ca5 Add other upmixes for keys that have way too many synonyms\n",
      "HEAD is now at c032f20 Show notice about preferred support if `@supportURL` exists\n"
     ]
    },
    {
     "name": "stdout",
     "output_type": "stream",
     "text": [
      "\u001b[H\u001b[2J"
     ]
    },
    {
     "name": "stderr",
     "output_type": "stream",
     "text": [
      "Previous HEAD position was c032f20 Show notice about preferred support if `@supportURL` exists\n",
      "HEAD is now at ce08ea6 Copy and rereferenced all downloadable fonts to pro/dev\n"
     ]
    },
    {
     "name": "stdout",
     "output_type": "stream",
     "text": [
      "\u001b[H\u001b[2J"
     ]
    },
    {
     "name": "stderr",
     "output_type": "stream",
     "text": [
      "Previous HEAD position was ce08ea6 Copy and rereferenced all downloadable fonts to pro/dev\n",
      "HEAD is now at bd06c26 Slight message change to cancel some possible confusion\n"
     ]
    },
    {
     "name": "stdout",
     "output_type": "stream",
     "text": [
      "\u001b[H\u001b[2J"
     ]
    },
    {
     "name": "stderr",
     "output_type": "stream",
     "text": [
      "Previous HEAD position was bd06c26 Slight message change to cancel some possible confusion\n",
      "HEAD is now at 9d3619e Short term notice of not using email addresses for the unique Username on the login page\n"
     ]
    },
    {
     "name": "stdout",
     "output_type": "stream",
     "text": [
      "\u001b[H\u001b[2J"
     ]
    },
    {
     "name": "stderr",
     "output_type": "stream",
     "text": [
      "Previous HEAD position was 9d3619e Short term notice of not using email addresses for the unique Username on the login page\n",
      "HEAD is now at aefcf2c Fix url to full percent encoding when replying.\n"
     ]
    },
    {
     "name": "stdout",
     "output_type": "stream",
     "text": [
      "\u001b[H\u001b[2J"
     ]
    },
    {
     "name": "stderr",
     "output_type": "stream",
     "text": [
      "Previous HEAD position was aefcf2c Fix url to full percent encoding when replying.\n",
      "HEAD is now at 22020aa #241 \"Search user's script\" -> \"Search jerome's scripts\"\n"
     ]
    },
    {
     "name": "stdout",
     "output_type": "stream",
     "text": [
      "\u001b[H\u001b[2J"
     ]
    },
    {
     "name": "stderr",
     "output_type": "stream",
     "text": [
      "Previous HEAD position was 22020aa #241 \"Search user's script\" -> \"Search jerome's scripts\"\n",
      "HEAD is now at 96fbf81 Implement general Fx Open Search for the site\n"
     ]
    },
    {
     "name": "stdout",
     "output_type": "stream",
     "text": [
      "\u001b[H\u001b[2J"
     ]
    },
    {
     "name": "stderr",
     "output_type": "stream",
     "text": [
      "Previous HEAD position was 96fbf81 Implement general Fx Open Search for the site\n",
      "HEAD is now at 8b47675 Drop off the .org portion to simplify the text a bit on what is shown\n"
     ]
    },
    {
     "name": "stdout",
     "output_type": "stream",
     "text": [
      "\u001b[H\u001b[2J"
     ]
    },
    {
     "name": "stderr",
     "output_type": "stream",
     "text": [
      "Previous HEAD position was 8b47675 Drop off the .org portion to simplify the text a bit on what is shown\n",
      "HEAD is now at 9bea968 Fix undeclared variable in strict mode\n"
     ]
    },
    {
     "name": "stdout",
     "output_type": "stream",
     "text": [
      "\u001b[H\u001b[2J"
     ]
    },
    {
     "name": "stderr",
     "output_type": "stream",
     "text": [
      "Previous HEAD position was 9bea968 Fix undeclared variable in strict mode\n",
      "HEAD is now at c8c2e07 Throw in strict mode into every part in OUJS\n"
     ]
    },
    {
     "name": "stdout",
     "output_type": "stream",
     "text": [
      "\u001b[H\u001b[2J"
     ]
    },
    {
     "name": "stderr",
     "output_type": "stream",
     "text": [
      "Previous HEAD position was c8c2e07 Throw in strict mode into every part in OUJS\n",
      "HEAD is now at fc4388a Make a note of always using strict in our code\n"
     ]
    },
    {
     "name": "stdout",
     "output_type": "stream",
     "text": [
      "\u001b[H\u001b[2J"
     ]
    },
    {
     "name": "stderr",
     "output_type": "stream",
     "text": [
      "Previous HEAD position was fc4388a Make a note of always using strict in our code\n",
      "HEAD is now at 0ec4beb Change generic node.js support to exact and above for strict mode\n"
     ]
    },
    {
     "name": "stdout",
     "output_type": "stream",
     "text": [
      "\u001b[H\u001b[2J"
     ]
    },
    {
     "name": "stderr",
     "output_type": "stream",
     "text": [
      "Previous HEAD position was 0ec4beb Change generic node.js support to exact and above for strict mode\n",
      "HEAD is now at 202f5d9 Fix minor spelling mistake\n"
     ]
    },
    {
     "name": "stdout",
     "output_type": "stream",
     "text": [
      "\u001b[H\u001b[2J"
     ]
    },
    {
     "name": "stderr",
     "output_type": "stream",
     "text": [
      "Previous HEAD position was 202f5d9 Fix minor spelling mistake\n",
      "HEAD is now at f5b19a5 Use alternate verbal syntax for #241\n"
     ]
    },
    {
     "name": "stdout",
     "output_type": "stream",
     "text": [
      "\u001b[H\u001b[2J"
     ]
    },
    {
     "name": "stderr",
     "output_type": "stream",
     "text": [
      "Previous HEAD position was f5b19a5 Use alternate verbal syntax for #241\n",
      "HEAD is now at e4b887c Some fixes for STYLEGUIDE.md\n"
     ]
    },
    {
     "name": "stdout",
     "output_type": "stream",
     "text": [
      "\u001b[H\u001b[2J"
     ]
    },
    {
     "name": "stderr",
     "output_type": "stream",
     "text": [
      "Previous HEAD position was e4b887c Some fixes for STYLEGUIDE.md\n",
      "HEAD is now at d7465a3 Normalize on a prefix for function parameters\n"
     ]
    },
    {
     "name": "stdout",
     "output_type": "stream",
     "text": [
      "\u001b[H\u001b[2J"
     ]
    },
    {
     "name": "stderr",
     "output_type": "stream",
     "text": [
      "Previous HEAD position was d7465a3 Normalize on a prefix for function parameters\n",
      "HEAD is now at 29e007b Use full naming for `aCallback`\n"
     ]
    },
    {
     "name": "stdout",
     "output_type": "stream",
     "text": [
      "\u001b[H\u001b[2J"
     ]
    },
    {
     "name": "stderr",
     "output_type": "stream",
     "text": [
      "Previous HEAD position was 29e007b Use full naming for `aCallback`\n",
      "HEAD is now at dd9a807 * At least 2 potential globals found * At least 1 redundant/unreachable statement found\n"
     ]
    },
    {
     "name": "stdout",
     "output_type": "stream",
     "text": [
      "\u001b[H\u001b[2J"
     ]
    },
    {
     "name": "stderr",
     "output_type": "stream",
     "text": [
      "Previous HEAD position was dd9a807 * At least 2 potential globals found * At least 1 redundant/unreachable statement found\n",
      "HEAD is now at af46e15 Controllers completed, I believe, and some testing on dev... still have libs to do.\n"
     ]
    },
    {
     "name": "stdout",
     "output_type": "stream",
     "text": [
      "\u001b[H\u001b[2J"
     ]
    },
    {
     "name": "stderr",
     "output_type": "stream",
     "text": [
      "Previous HEAD position was af46e15 Controllers completed, I believe, and some testing on dev... still have libs to do.\n",
      "HEAD is now at 82dc007 Should be done with minimal breakage... testing phase now.\n"
     ]
    },
    {
     "name": "stdout",
     "output_type": "stream",
     "text": [
      "\u001b[H\u001b[2J"
     ]
    },
    {
     "name": "stderr",
     "output_type": "stream",
     "text": [
      "Previous HEAD position was 82dc007 Should be done with minimal breakage... testing phase now.\n",
      "HEAD is now at df94b62 More for #262\n"
     ]
    },
    {
     "name": "stdout",
     "output_type": "stream",
     "text": [
      "\u001b[H\u001b[2J"
     ]
    },
    {
     "name": "stderr",
     "output_type": "stream",
     "text": [
      "Previous HEAD position was df94b62 More for #262\n",
      "HEAD is now at e9281dd Remainder of comments added normalized for searching\n"
     ]
    },
    {
     "name": "stdout",
     "output_type": "stream",
     "text": [
      "\u001b[H\u001b[2J"
     ]
    },
    {
     "name": "stderr",
     "output_type": "stream",
     "text": [
      "Previous HEAD position was e9281dd Remainder of comments added normalized for searching\n",
      "HEAD is now at 7c59548 First draft of PRIVACY.md\n"
     ]
    },
    {
     "name": "stdout",
     "output_type": "stream",
     "text": [
      "\u001b[H\u001b[2J"
     ]
    },
    {
     "name": "stderr",
     "output_type": "stream",
     "text": [
      "Previous HEAD position was 7c59548 First draft of PRIVACY.md\n",
      "HEAD is now at eeddc8b Use bullets instead of headers\n"
     ]
    },
    {
     "name": "stdout",
     "output_type": "stream",
     "text": [
      "\u001b[H\u001b[2J"
     ]
    },
    {
     "name": "stderr",
     "output_type": "stream",
     "text": [
      "Previous HEAD position was eeddc8b Use bullets instead of headers\n",
      "HEAD is now at 9ce280f One of many CSS fixes for #265\n"
     ]
    },
    {
     "name": "stdout",
     "output_type": "stream",
     "text": [
      "\u001b[H\u001b[2J"
     ]
    },
    {
     "name": "stderr",
     "output_type": "stream",
     "text": [
      "Previous HEAD position was 9ce280f One of many CSS fixes for #265\n",
      "HEAD is now at 1e2ecae Typo and expansion\n"
     ]
    },
    {
     "name": "stdout",
     "output_type": "stream",
     "text": [
      "\u001b[H\u001b[2J"
     ]
    },
    {
     "name": "stderr",
     "output_type": "stream",
     "text": [
      "Previous HEAD position was 1e2ecae Typo and expansion\n",
      "HEAD is now at e98800a Don't need a colon on Ads\n"
     ]
    },
    {
     "name": "stdout",
     "output_type": "stream",
     "text": [
      "\u001b[H\u001b[2J"
     ]
    },
    {
     "name": "stderr",
     "output_type": "stream",
     "text": [
      "Previous HEAD position was e98800a Don't need a colon on Ads\n",
      "HEAD is now at 26aee0b Add additional rule for modern browsers that support viewport width\n"
     ]
    },
    {
     "name": "stdout",
     "output_type": "stream",
     "text": [
      "\u001b[H\u001b[2J"
     ]
    },
    {
     "name": "stderr",
     "output_type": "stream",
     "text": [
      "Previous HEAD position was 26aee0b Add additional rule for modern browsers that support viewport width\n",
      "HEAD is now at 1806ff2 Remove legacy routes, code and templates.\n"
     ]
    },
    {
     "name": "stdout",
     "output_type": "stream",
     "text": [
      "\u001b[H\u001b[2J"
     ]
    },
    {
     "name": "stderr",
     "output_type": "stream",
     "text": [
      "Previous HEAD position was 1806ff2 Remove legacy routes, code and templates.\n",
      "HEAD is now at c8fbdee Remove references to removed library module.\n"
     ]
    },
    {
     "name": "stdout",
     "output_type": "stream",
     "text": [
      "\u001b[H\u001b[2J"
     ]
    },
    {
     "name": "stderr",
     "output_type": "stream",
     "text": [
      "Previous HEAD position was c8fbdee Remove references to removed library module.\n",
      "HEAD is now at d2aecac Some missed \"hungarian apps\" notation.\n"
     ]
    },
    {
     "name": "stdout",
     "output_type": "stream",
     "text": [
      "\u001b[H\u001b[2J"
     ]
    },
    {
     "name": "stderr",
     "output_type": "stream",
     "text": [
      "Previous HEAD position was d2aecac Some missed \"hungarian apps\" notation.\n",
      "HEAD is now at 038ac52 Fixed issue: broken link to collaborators #271\n"
     ]
    },
    {
     "name": "stdout",
     "output_type": "stream",
     "text": [
      "\u001b[H\u001b[2J"
     ]
    },
    {
     "name": "stderr",
     "output_type": "stream",
     "text": [
      "Previous HEAD position was 038ac52 Fixed issue: broken link to collaborators #271\n",
      "HEAD is now at f68ffad Repair meta route.\n"
     ]
    },
    {
     "name": "stdout",
     "output_type": "stream",
     "text": [
      "\u001b[H\u001b[2J"
     ]
    },
    {
     "name": "stderr",
     "output_type": "stream",
     "text": [
      "Previous HEAD position was f68ffad Repair meta route.\n",
      "HEAD is now at 8952b65 Fix whitespace on anon functions again\n"
     ]
    },
    {
     "name": "stdout",
     "output_type": "stream",
     "text": [
      "\u001b[H\u001b[2J"
     ]
    },
    {
     "name": "stderr",
     "output_type": "stream",
     "text": [
      "Previous HEAD position was 8952b65 Fix whitespace on anon functions again\n",
      "HEAD is now at 84284aa Whitespace after anon functions\n"
     ]
    },
    {
     "name": "stdout",
     "output_type": "stream",
     "text": [
      "\u001b[H\u001b[2J"
     ]
    },
    {
     "name": "stderr",
     "output_type": "stream",
     "text": [
      "Previous HEAD position was 84284aa Whitespace after anon functions\n",
      "HEAD is now at 3ce2688 Whitespace after anon functions but dead code since commented out.\n"
     ]
    },
    {
     "name": "stdout",
     "output_type": "stream",
     "text": [
      "\u001b[H\u001b[2J"
     ]
    },
    {
     "name": "stderr",
     "output_type": "stream",
     "text": [
      "Previous HEAD position was 3ce2688 Whitespace after anon functions but dead code since commented out.\n",
      "HEAD is now at 6d6fd12 Repair User Flagging route\n"
     ]
    },
    {
     "name": "stdout",
     "output_type": "stream",
     "text": [
      "\u001b[H\u001b[2J"
     ]
    },
    {
     "name": "stderr",
     "output_type": "stream",
     "text": [
      "Previous HEAD position was 6d6fd12 Repair User Flagging route\n",
      "HEAD is now at c7e9c8a While I'm in here remove `@namespace` check for flagging a script... this fixes previously mentioned unflagging of a script\n"
     ]
    },
    {
     "name": "stdout",
     "output_type": "stream",
     "text": [
      "\u001b[H\u001b[2J"
     ]
    },
    {
     "name": "stderr",
     "output_type": "stream",
     "text": [
      "Previous HEAD position was c7e9c8a While I'm in here remove `@namespace` check for flagging a script... this fixes previously mentioned unflagging of a script\n",
      "HEAD is now at 131a5ed Remove migration code.\n"
     ]
    },
    {
     "name": "stdout",
     "output_type": "stream",
     "text": [
      "\u001b[H\u001b[2J"
     ]
    },
    {
     "name": "stderr",
     "output_type": "stream",
     "text": [
      "Previous HEAD position was 131a5ed Remove migration code.\n",
      "HEAD is now at 9ba3922 Finish off Acceptable Licensing header\n"
     ]
    },
    {
     "name": "stdout",
     "output_type": "stream",
     "text": [
      "\u001b[H\u001b[2J"
     ]
    },
    {
     "name": "stderr",
     "output_type": "stream",
     "text": [
      "Previous HEAD position was 9ba3922 Finish off Acceptable Licensing header\n",
      "HEAD is now at 1f5c323 Grammar stuff.\n"
     ]
    },
    {
     "name": "stdout",
     "output_type": "stream",
     "text": [
      "\u001b[H\u001b[2J"
     ]
    },
    {
     "name": "stderr",
     "output_type": "stream",
     "text": [
      "Previous HEAD position was 1f5c323 Grammar stuff.\n",
      "HEAD is now at e3bb2fd Add a catch all for acceptable licensing\n"
     ]
    },
    {
     "name": "stdout",
     "output_type": "stream",
     "text": [
      "\u001b[H\u001b[2J"
     ]
    },
    {
     "name": "stderr",
     "output_type": "stream",
     "text": [
      "Previous HEAD position was e3bb2fd Add a catch all for acceptable licensing\n",
      "HEAD is now at f1b0a5f Make this GPL friendly\n"
     ]
    },
    {
     "name": "stdout",
     "output_type": "stream",
     "text": [
      "\u001b[H\u001b[2J"
     ]
    },
    {
     "name": "stderr",
     "output_type": "stream",
     "text": [
      "Previous HEAD position was f1b0a5f Make this GPL friendly\n",
      "HEAD is now at cffee22 Slight verbal change\n"
     ]
    },
    {
     "name": "stdout",
     "output_type": "stream",
     "text": [
      "\u001b[H\u001b[2J"
     ]
    },
    {
     "name": "stderr",
     "output_type": "stream",
     "text": [
      "Previous HEAD position was cffee22 Slight verbal change\n",
      "HEAD is now at 41ffc7c Fix missing titles\n"
     ]
    },
    {
     "name": "stdout",
     "output_type": "stream",
     "text": [
      "\u001b[H\u001b[2J"
     ]
    },
    {
     "name": "stderr",
     "output_type": "stream",
     "text": [
      "Previous HEAD position was 41ffc7c Fix missing titles\n",
      "HEAD is now at bb13067 Some changes for JRinge... need to think on the last point for a bit.\n"
     ]
    },
    {
     "name": "stdout",
     "output_type": "stream",
     "text": [
      "\u001b[H\u001b[2J"
     ]
    },
    {
     "name": "stderr",
     "output_type": "stream",
     "text": [
      "Previous HEAD position was bb13067 Some changes for JRinge... need to think on the last point for a bit.\n",
      "HEAD is now at b9f5598 More verbage... addresses JRinge's concerns.\n"
     ]
    },
    {
     "name": "stdout",
     "output_type": "stream",
     "text": [
      "\u001b[H\u001b[2J"
     ]
    },
    {
     "name": "stderr",
     "output_type": "stream",
     "text": [
      "Previous HEAD position was b9f5598 More verbage... addresses JRinge's concerns.\n",
      "HEAD is now at 3237e10 Redirect to use local ACE copy now that it isn't ~5 months out of date.\n"
     ]
    },
    {
     "name": "stdout",
     "output_type": "stream",
     "text": [
      "\u001b[H\u001b[2J"
     ]
    },
    {
     "name": "stderr",
     "output_type": "stream",
     "text": [
      "Previous HEAD position was 3237e10 Redirect to use local ACE copy now that it isn't ~5 months out of date.\n",
      "HEAD is now at a8eca24 Fix the default sorting to persist in Libraries when clicking `Name`, `Installs`, `Rating` and `Last Updated`\n"
     ]
    },
    {
     "name": "stdout",
     "output_type": "stream",
     "text": [
      "\u001b[H\u001b[2J"
     ]
    },
    {
     "name": "stderr",
     "output_type": "stream",
     "text": [
      "Previous HEAD position was a8eca24 Fix the default sorting to persist in Libraries when clicking `Name`, `Installs`, `Rating` and `Last Updated`\n",
      "HEAD is now at 5c137a8 Fix the default sorting to persist in Flagged Users when clicking `Name` and `Rank`\n"
     ]
    },
    {
     "name": "stdout",
     "output_type": "stream",
     "text": [
      "\u001b[H\u001b[2J"
     ]
    },
    {
     "name": "stderr",
     "output_type": "stream",
     "text": [
      "Previous HEAD position was 5c137a8 Fix the default sorting to persist in Flagged Users when clicking `Name` and `Rank`\n",
      "HEAD is now at e48c6c8 Readd `subject to change` for site/project prefixes.\n"
     ]
    },
    {
     "name": "stdout",
     "output_type": "stream",
     "text": [
      "\u001b[H\u001b[2J"
     ]
    },
    {
     "name": "stderr",
     "output_type": "stream",
     "text": [
      "Previous HEAD position was e48c6c8 Readd `subject to change` for site/project prefixes.\n",
      "HEAD is now at 430f495 Tweak the verbage for acceptable licensing.\n"
     ]
    },
    {
     "name": "stdout",
     "output_type": "stream",
     "text": [
      "\u001b[H\u001b[2J"
     ]
    },
    {
     "name": "stderr",
     "output_type": "stream",
     "text": [
      "Previous HEAD position was 430f495 Tweak the verbage for acceptable licensing.\n",
      "HEAD is now at 241e6b7 Load TOS/DMCA/PP onto site\n"
     ]
    },
    {
     "name": "stdout",
     "output_type": "stream",
     "text": [
      "\u001b[H\u001b[2J"
     ]
    },
    {
     "name": "stderr",
     "output_type": "stream",
     "text": [
      "Previous HEAD position was 241e6b7 Load TOS/DMCA/PP onto site\n",
      "HEAD is now at d91d9aa Link in routes for TOS/DMCA/PP\n"
     ]
    },
    {
     "name": "stdout",
     "output_type": "stream",
     "text": [
      "\u001b[H\u001b[2J"
     ]
    },
    {
     "name": "stderr",
     "output_type": "stream",
     "text": [
      "Previous HEAD position was d91d9aa Link in routes for TOS/DMCA/PP\n",
      "HEAD is now at 1bb2378 Shift doc headers down a notch\n"
     ]
    },
    {
     "name": "stdout",
     "output_type": "stream",
     "text": [
      "\u001b[H\u001b[2J"
     ]
    },
    {
     "name": "stderr",
     "output_type": "stream",
     "text": [
      "Previous HEAD position was 1bb2378 Shift doc headers down a notch\n",
      "HEAD is now at 2d577cc Repair unflagging and display good/bad bar appropriately\n"
     ]
    },
    {
     "name": "stdout",
     "output_type": "stream",
     "text": [
      "\u001b[H\u001b[2J"
     ]
    },
    {
     "name": "stderr",
     "output_type": "stream",
     "text": [
      "Previous HEAD position was 2d577cc Repair unflagging and display good/bad bar appropriately\n",
      "HEAD is now at 1cace87 Fix the default sorting to persist in Flagged Libraries when clicking `Name`, `Installs`, `Rating` and `Last Updated`\n"
     ]
    },
    {
     "name": "stdout",
     "output_type": "stream",
     "text": [
      "\u001b[H\u001b[2J"
     ]
    },
    {
     "name": "stderr",
     "output_type": "stream",
     "text": [
      "Previous HEAD position was 1cace87 Fix the default sorting to persist in Flagged Libraries when clicking `Name`, `Installs`, `Rating` and `Last Updated`\n",
      "HEAD is now at 297232e Use alernate fix\n"
     ]
    },
    {
     "name": "stdout",
     "output_type": "stream",
     "text": [
      "\u001b[H\u001b[2J"
     ]
    },
    {
     "name": "stderr",
     "output_type": "stream",
     "text": [
      "Previous HEAD position was 297232e Use alernate fix\n",
      "HEAD is now at 0ad523b Do not encodeURI when voting.\n"
     ]
    },
    {
     "name": "stdout",
     "output_type": "stream",
     "text": [
      "\u001b[H\u001b[2J"
     ]
    },
    {
     "name": "stderr",
     "output_type": "stream",
     "text": [
      "Previous HEAD position was 0ad523b Do not encodeURI when voting.\n",
      "HEAD is now at 6925c51 Make reading of about documents a little more dynamic\n"
     ]
    },
    {
     "name": "stdout",
     "output_type": "stream",
     "text": [
      "\u001b[H\u001b[2J"
     ]
    },
    {
     "name": "stderr",
     "output_type": "stream",
     "text": [
      "Previous HEAD position was 6925c51 Make reading of about documents a little more dynamic\n",
      "HEAD is now at 4f9283a Fix parms\n"
     ]
    },
    {
     "name": "stdout",
     "output_type": "stream",
     "text": [
      "\u001b[H\u001b[2J"
     ]
    },
    {
     "name": "stderr",
     "output_type": "stream",
     "text": [
      "Previous HEAD position was 4f9283a Fix parms\n",
      "HEAD is now at 50f4ea0 Normalize the document mcv for about pages\n"
     ]
    },
    {
     "name": "stdout",
     "output_type": "stream",
     "text": [
      "\u001b[H\u001b[2J"
     ]
    },
    {
     "name": "stderr",
     "output_type": "stream",
     "text": [
      "Previous HEAD position was 50f4ea0 Normalize the document mcv for about pages\n",
      "HEAD is now at 1c69147 Normalize the document mcv for about pages\n"
     ]
    },
    {
     "name": "stdout",
     "output_type": "stream",
     "text": [
      "\u001b[H\u001b[2J"
     ]
    },
    {
     "name": "stderr",
     "output_type": "stream",
     "text": [
      "Previous HEAD position was 1c69147 Normalize the document mcv for about pages\n",
      "HEAD is now at 36013e4 Reorder things a bit for the document mcv\n"
     ]
    },
    {
     "name": "stdout",
     "output_type": "stream",
     "text": [
      "\u001b[H\u001b[2J"
     ]
    },
    {
     "name": "stderr",
     "output_type": "stream",
     "text": [
      "Previous HEAD position was 36013e4 Reorder things a bit for the document mcv\n",
      "HEAD is now at df7ac0b Redirect About in footer to use our local landing page\n"
     ]
    },
    {
     "name": "stdout",
     "output_type": "stream",
     "text": [
      "\u001b[H\u001b[2J"
     ]
    },
    {
     "name": "stderr",
     "output_type": "stream",
     "text": [
      "Previous HEAD position was df7ac0b Redirect About in footer to use our local landing page\n",
      "HEAD is now at ab4d438 Fix dev link to relative\n"
     ]
    },
    {
     "name": "stdout",
     "output_type": "stream",
     "text": [
      "\u001b[H\u001b[2J"
     ]
    },
    {
     "name": "stderr",
     "output_type": "stream",
     "text": [
      "Previous HEAD position was ab4d438 Fix dev link to relative\n",
      "HEAD is now at 67512d6 Use `waterfall` to make the retrievals pseudo synchronous\n"
     ]
    },
    {
     "name": "stdout",
     "output_type": "stream",
     "text": [
      "\u001b[H\u001b[2J"
     ]
    },
    {
     "name": "stderr",
     "output_type": "stream",
     "text": [
      "Previous HEAD position was 67512d6 Use `waterfall` to make the retrievals pseudo synchronous\n",
      "HEAD is now at 5c9f39b Continue to use a font-awesome class for the pages panel\n"
     ]
    },
    {
     "name": "stdout",
     "output_type": "stream",
     "text": [
      "\u001b[H\u001b[2J"
     ]
    },
    {
     "name": "stderr",
     "output_type": "stream",
     "text": [
      "Previous HEAD position was 5c9f39b Continue to use a font-awesome class for the pages panel\n",
      "HEAD is now at fbf9e4a Don't return the callbacks\n"
     ]
    },
    {
     "name": "stdout",
     "output_type": "stream",
     "text": [
      "\u001b[H\u001b[2J"
     ]
    },
    {
     "name": "stderr",
     "output_type": "stream",
     "text": [
      "Previous HEAD position was fbf9e4a Don't return the callbacks\n",
      "HEAD is now at 356ab0d Fix proper response codes based off of most probable statusCode\n"
     ]
    },
    {
     "name": "stdout",
     "output_type": "stream",
     "text": [
      "\u001b[H\u001b[2J"
     ]
    },
    {
     "name": "stderr",
     "output_type": "stream",
     "text": [
      "Previous HEAD position was 356ab0d Fix proper response codes based off of most probable statusCode\n",
      "HEAD is now at b989e84 Modify /about page a bit\n"
     ]
    },
    {
     "name": "stdout",
     "output_type": "stream",
     "text": [
      "\u001b[H\u001b[2J"
     ]
    },
    {
     "name": "stderr",
     "output_type": "stream",
     "text": [
      "Previous HEAD position was b989e84 Modify /about page a bit\n",
      "HEAD is now at 057408f Some more fixes for about pages\n"
     ]
    },
    {
     "name": "stdout",
     "output_type": "stream",
     "text": [
      "\u001b[H\u001b[2J"
     ]
    },
    {
     "name": "stderr",
     "output_type": "stream",
     "text": [
      "Previous HEAD position was 057408f Some more fixes for about pages\n",
      "HEAD is now at 29f7389 Remove now unused variable\n"
     ]
    },
    {
     "name": "stdout",
     "output_type": "stream",
     "text": [
      "\u001b[H\u001b[2J"
     ]
    },
    {
     "name": "stderr",
     "output_type": "stream",
     "text": [
      "Previous HEAD position was 29f7389 Remove now unused variable\n",
      "HEAD is now at 53f9c24 Added reverse sorting for all listings. Fixes https://github.com/OpenUserJs/OpenUserJS.org/issues/292\n"
     ]
    },
    {
     "name": "stdout",
     "output_type": "stream",
     "text": [
      "\u001b[H\u001b[2J"
     ]
    },
    {
     "name": "stderr",
     "output_type": "stream",
     "text": [
      "Previous HEAD position was 53f9c24 Added reverse sorting for all listings. Fixes https://github.com/OpenUserJs/OpenUserJS.org/issues/292\n",
      "HEAD is now at 67e58bf Fixed ordering  Removed By  in  Removed Items  list;\n"
     ]
    },
    {
     "name": "stdout",
     "output_type": "stream",
     "text": [
      "\u001b[H\u001b[2J"
     ]
    },
    {
     "name": "stderr",
     "output_type": "stream",
     "text": [
      "Previous HEAD position was 67e58bf Fixed ordering  Removed By  in  Removed Items  list;\n",
      "HEAD is now at c0a12e2 Post fixes for #309\n"
     ]
    },
    {
     "name": "stdout",
     "output_type": "stream",
     "text": [
      "\u001b[H\u001b[2J"
     ]
    },
    {
     "name": "stderr",
     "output_type": "stream",
     "text": [
      "Previous HEAD position was c0a12e2 Post fixes for #309\n",
      "HEAD is now at f915784 Start referencing our dependencies to help keep us up to date by quick visual inspection\n"
     ]
    },
    {
     "name": "stdout",
     "output_type": "stream",
     "text": [
      "\u001b[H\u001b[2J"
     ]
    },
    {
     "name": "stderr",
     "output_type": "stream",
     "text": [
      "Previous HEAD position was f915784 Start referencing our dependencies to help keep us up to date by quick visual inspection\n",
      "HEAD is now at eefcd13 typo and flip\n"
     ]
    },
    {
     "name": "stdout",
     "output_type": "stream",
     "text": [
      "\u001b[H\u001b[2J"
     ]
    },
    {
     "name": "stderr",
     "output_type": "stream",
     "text": [
      "Previous HEAD position was eefcd13 typo and flip\n",
      "HEAD is now at f699e1c Table it\n"
     ]
    },
    {
     "name": "stdout",
     "output_type": "stream",
     "text": [
      "\u001b[H\u001b[2J"
     ]
    },
    {
     "name": "stderr",
     "output_type": "stream",
     "text": [
      "Previous HEAD position was f699e1c Table it\n",
      "HEAD is now at f2aec45 Fix table\n"
     ]
    },
    {
     "name": "stdout",
     "output_type": "stream",
     "text": [
      "\u001b[H\u001b[2J"
     ]
    },
    {
     "name": "stderr",
     "output_type": "stream",
     "text": [
      "Previous HEAD position was f2aec45 Fix table\n",
      "HEAD is now at 63e4f13 Changel table column name\n"
     ]
    },
    {
     "name": "stdout",
     "output_type": "stream",
     "text": [
      "\u001b[H\u001b[2J"
     ]
    },
    {
     "name": "stderr",
     "output_type": "stream",
     "text": [
      "Previous HEAD position was 63e4f13 Changel table column name\n",
      "HEAD is now at 5fb79f0 Add express\n"
     ]
    },
    {
     "name": "stdout",
     "output_type": "stream",
     "text": [
      "\u001b[H\u001b[2J"
     ]
    },
    {
     "name": "stderr",
     "output_type": "stream",
     "text": [
      "Previous HEAD position was 5fb79f0 Add express\n",
      "HEAD is now at ad8f9d1 Add mu2 and start alphebitizing\n"
     ]
    },
    {
     "name": "stdout",
     "output_type": "stream",
     "text": [
      "\u001b[H\u001b[2J"
     ]
    },
    {
     "name": "stderr",
     "output_type": "stream",
     "text": [
      "Previous HEAD position was ad8f9d1 Add mu2 and start alphebitizing\n",
      "HEAD is now at b7e4890 Add two more\n"
     ]
    },
    {
     "name": "stdout",
     "output_type": "stream",
     "text": [
      "\u001b[H\u001b[2J"
     ]
    },
    {
     "name": "stderr",
     "output_type": "stream",
     "text": [
      "Previous HEAD position was b7e4890 Add two more\n",
      "HEAD is now at b663e6f Fixes\n"
     ]
    },
    {
     "name": "stdout",
     "output_type": "stream",
     "text": [
      "\u001b[H\u001b[2J"
     ]
    },
    {
     "name": "stderr",
     "output_type": "stream",
     "text": [
      "Previous HEAD position was b663e6f Fixes\n",
      "HEAD is now at 3380380 Add formidable\n"
     ]
    },
    {
     "name": "stdout",
     "output_type": "stream",
     "text": [
      "\u001b[H\u001b[2J"
     ]
    },
    {
     "name": "stderr",
     "output_type": "stream",
     "text": [
      "Previous HEAD position was 3380380 Add formidable\n",
      "HEAD is now at 5c087f2 Fix\n"
     ]
    },
    {
     "name": "stdout",
     "output_type": "stream",
     "text": [
      "\u001b[H\u001b[2J"
     ]
    },
    {
     "name": "stderr",
     "output_type": "stream",
     "text": [
      "Previous HEAD position was 5c087f2 Fix\n",
      "HEAD is now at 03b5af2 Bulk add still need some intel\n"
     ]
    },
    {
     "name": "stdout",
     "output_type": "stream",
     "text": [
      "\u001b[H\u001b[2J"
     ]
    },
    {
     "name": "stderr",
     "output_type": "stream",
     "text": [
      "Previous HEAD position was 03b5af2 Bulk add still need some intel\n",
      "HEAD is now at 7a80ca9 Some fixes\n"
     ]
    },
    {
     "name": "stdout",
     "output_type": "stream",
     "text": [
      "\u001b[H\u001b[2J"
     ]
    },
    {
     "name": "stderr",
     "output_type": "stream",
     "text": [
      "Previous HEAD position was 7a80ca9 Some fixes\n",
      "HEAD is now at d09f49a Even more fixes\n"
     ]
    },
    {
     "name": "stdout",
     "output_type": "stream",
     "text": [
      "\u001b[H\u001b[2J"
     ]
    },
    {
     "name": "stderr",
     "output_type": "stream",
     "text": [
      "Previous HEAD position was d09f49a Even more fixes\n",
      "HEAD is now at e030dda Yet even more\n"
     ]
    },
    {
     "name": "stdout",
     "output_type": "stream",
     "text": [
      "\u001b[H\u001b[2J"
     ]
    },
    {
     "name": "stderr",
     "output_type": "stream",
     "text": [
      "Previous HEAD position was e030dda Yet even more\n",
      "HEAD is now at f96b4ac Some linkage filled in\n"
     ]
    },
    {
     "name": "stdout",
     "output_type": "stream",
     "text": [
      "\u001b[H\u001b[2J"
     ]
    },
    {
     "name": "stderr",
     "output_type": "stream",
     "text": [
      "Previous HEAD position was f96b4ac Some linkage filled in\n",
      "HEAD is now at cc058a8 Some more linkage\n"
     ]
    },
    {
     "name": "stdout",
     "output_type": "stream",
     "text": [
      "\u001b[H\u001b[2J"
     ]
    },
    {
     "name": "stderr",
     "output_type": "stream",
     "text": [
      "Previous HEAD position was cc058a8 Some more linkage\n",
      "HEAD is now at cb2eb08 Fix our pages with .md\n"
     ]
    },
    {
     "name": "stdout",
     "output_type": "stream",
     "text": [
      "\u001b[H\u001b[2J"
     ]
    },
    {
     "name": "stderr",
     "output_type": "stream",
     "text": [
      "Previous HEAD position was cb2eb08 Fix our pages with .md\n",
      "HEAD is now at e7da8e2 Add ACE to static subheading\n"
     ]
    },
    {
     "name": "stdout",
     "output_type": "stream",
     "text": [
      "\u001b[H\u001b[2J"
     ]
    },
    {
     "name": "stderr",
     "output_type": "stream",
     "text": [
      "Previous HEAD position was e7da8e2 Add ACE to static subheading\n",
      "HEAD is now at d09300d Add our GEM to the list\n"
     ]
    },
    {
     "name": "stdout",
     "output_type": "stream",
     "text": [
      "\u001b[H\u001b[2J"
     ]
    },
    {
     "name": "stderr",
     "output_type": "stream",
     "text": [
      "Previous HEAD position was d09300d Add our GEM to the list\n",
      "HEAD is now at b489c0c Update README.md\n"
     ]
    },
    {
     "name": "stdout",
     "output_type": "stream",
     "text": [
      "\u001b[H\u001b[2J"
     ]
    },
    {
     "name": "stderr",
     "output_type": "stream",
     "text": [
      "Previous HEAD position was b489c0c Update README.md\n",
      "HEAD is now at 8f23f69 Update README.md\n"
     ]
    },
    {
     "name": "stdout",
     "output_type": "stream",
     "text": [
      "\u001b[H\u001b[2J"
     ]
    },
    {
     "name": "stderr",
     "output_type": "stream",
     "text": [
      "Previous HEAD position was 8f23f69 Update README.md\n",
      "HEAD is now at 74a6901 Update README.md\n"
     ]
    },
    {
     "name": "stdout",
     "output_type": "stream",
     "text": [
      "\u001b[H\u001b[2J"
     ]
    },
    {
     "name": "stderr",
     "output_type": "stream",
     "text": [
      "Previous HEAD position was 74a6901 Update README.md\n",
      "HEAD is now at 1efb95f Update README.md\n"
     ]
    },
    {
     "name": "stdout",
     "output_type": "stream",
     "text": [
      "\u001b[H\u001b[2J"
     ]
    },
    {
     "name": "stderr",
     "output_type": "stream",
     "text": [
      "Previous HEAD position was 1efb95f Update README.md\n",
      "HEAD is now at e64e976 Update README.md\n"
     ]
    },
    {
     "name": "stdout",
     "output_type": "stream",
     "text": [
      "\u001b[H\u001b[2J"
     ]
    },
    {
     "name": "stderr",
     "output_type": "stream",
     "text": [
      "Previous HEAD position was e64e976 Update README.md\n",
      "HEAD is now at 98b1eb5 Update README.md\n"
     ]
    },
    {
     "name": "stdout",
     "output_type": "stream",
     "text": [
      "\u001b[H\u001b[2J"
     ]
    },
    {
     "name": "stderr",
     "output_type": "stream",
     "text": [
      "Previous HEAD position was 98b1eb5 Update README.md\n",
      "HEAD is now at 5faa7af Update README.md\n"
     ]
    },
    {
     "name": "stdout",
     "output_type": "stream",
     "text": [
      "\u001b[H\u001b[2J"
     ]
    },
    {
     "name": "stderr",
     "output_type": "stream",
     "text": [
      "Previous HEAD position was 5faa7af Update README.md\n",
      "HEAD is now at 9d119d4 Update README.md\n"
     ]
    },
    {
     "name": "stdout",
     "output_type": "stream",
     "text": [
      "\u001b[H\u001b[2J"
     ]
    },
    {
     "name": "stderr",
     "output_type": "stream",
     "text": [
      "Previous HEAD position was 9d119d4 Update README.md\n",
      "HEAD is now at 5c7b910 Update README.md\n"
     ]
    },
    {
     "name": "stdout",
     "output_type": "stream",
     "text": [
      "\u001b[H\u001b[2J"
     ]
    },
    {
     "name": "stderr",
     "output_type": "stream",
     "text": [
      "Previous HEAD position was 5c7b910 Update README.md\n",
      "HEAD is now at 59555fc Update README.md\n"
     ]
    },
    {
     "name": "stdout",
     "output_type": "stream",
     "text": [
      "\u001b[H\u001b[2J"
     ]
    },
    {
     "name": "stderr",
     "output_type": "stream",
     "text": [
      "Previous HEAD position was 59555fc Update README.md\n",
      "HEAD is now at 2663aae Update README.md\n"
     ]
    },
    {
     "name": "stdout",
     "output_type": "stream",
     "text": [
      "\u001b[H\u001b[2J"
     ]
    },
    {
     "name": "stderr",
     "output_type": "stream",
     "text": [
      "Previous HEAD position was 2663aae Update README.md\n",
      "HEAD is now at a013abe Resubmitting #318\n"
     ]
    },
    {
     "name": "stdout",
     "output_type": "stream",
     "text": [
      "\u001b[H\u001b[2J"
     ]
    },
    {
     "name": "stderr",
     "output_type": "stream",
     "text": [
      "Previous HEAD position was a013abe Resubmitting #318\n",
      "HEAD is now at 21ac79b Update README.md\n"
     ]
    },
    {
     "name": "stdout",
     "output_type": "stream",
     "text": [
      "\u001b[H\u001b[2J"
     ]
    },
    {
     "name": "stderr",
     "output_type": "stream",
     "text": [
      "Previous HEAD position was 21ac79b Update README.md\n",
      "HEAD is now at 62534b1 Update README.md\n"
     ]
    },
    {
     "name": "stdout",
     "output_type": "stream",
     "text": [
      "\u001b[H\u001b[2J"
     ]
    },
    {
     "name": "stderr",
     "output_type": "stream",
     "text": [
      "Previous HEAD position was 62534b1 Update README.md\n",
      "HEAD is now at 75a4a40 Update README.md\n"
     ]
    },
    {
     "name": "stdout",
     "output_type": "stream",
     "text": [
      "\u001b[H\u001b[2J"
     ]
    },
    {
     "name": "stderr",
     "output_type": "stream",
     "text": [
      "Previous HEAD position was 75a4a40 Update README.md\n",
      "HEAD is now at 51d02d1 Update README.md\n"
     ]
    },
    {
     "name": "stdout",
     "output_type": "stream",
     "text": [
      "\u001b[H\u001b[2J"
     ]
    },
    {
     "name": "stderr",
     "output_type": "stream",
     "text": [
      "Previous HEAD position was 51d02d1 Update README.md\n",
      "HEAD is now at 2765d4b Try using express `3.*`\n"
     ]
    },
    {
     "name": "stdout",
     "output_type": "stream",
     "text": [
      "\u001b[H\u001b[2J"
     ]
    },
    {
     "name": "stderr",
     "output_type": "stream",
     "text": [
      "Previous HEAD position was 2765d4b Try using express `3.*`\n",
      "HEAD is now at cfa3399 Update README.md\n"
     ]
    },
    {
     "name": "stdout",
     "output_type": "stream",
     "text": [
      "\u001b[H\u001b[2J"
     ]
    },
    {
     "name": "stderr",
     "output_type": "stream",
     "text": [
      "Previous HEAD position was cfa3399 Update README.md\n",
      "HEAD is now at 0014405 Use major releases for current package.json.\n"
     ]
    },
    {
     "name": "stdout",
     "output_type": "stream",
     "text": [
      "\u001b[H\u001b[2J"
     ]
    },
    {
     "name": "stderr",
     "output_type": "stream",
     "text": [
      "Previous HEAD position was 0014405 Use major releases for current package.json.\n",
      "HEAD is now at 09578ac Add a missing CDN to README.md\n"
     ]
    },
    {
     "name": "stdout",
     "output_type": "stream",
     "text": [
      "\u001b[H\u001b[2J"
     ]
    },
    {
     "name": "stderr",
     "output_type": "stream",
     "text": [
      "Previous HEAD position was 09578ac Add a missing CDN to README.md\n",
      "HEAD is now at 7099f64 Update ACE 2014 08 17\n"
     ]
    },
    {
     "name": "stdout",
     "output_type": "stream",
     "text": [
      "\u001b[H\u001b[2J"
     ]
    },
    {
     "name": "stderr",
     "output_type": "stream",
     "text": [
      "Previous HEAD position was 7099f64 Update ACE 2014 08 17\n",
      "HEAD is now at 7ab9e46 Update to select2 v3.5.1 for static references\n"
     ]
    },
    {
     "name": "stdout",
     "output_type": "stream",
     "text": [
      "\u001b[H\u001b[2J"
     ]
    },
    {
     "name": "stderr",
     "output_type": "stream",
     "text": [
      "Previous HEAD position was 7ab9e46 Update to select2 v3.5.1 for static references\n",
      "HEAD is now at 5b7b6d3 Fix select2-bootstrap.css CDN reference\n"
     ]
    },
    {
     "name": "stdout",
     "output_type": "stream",
     "text": [
      "\u001b[H\u001b[2J"
     ]
    },
    {
     "name": "stderr",
     "output_type": "stream",
     "text": [
      "Previous HEAD position was 5b7b6d3 Fix select2-bootstrap.css CDN reference\n",
      "HEAD is now at 5f71a29 Fix markdown in README.md\n"
     ]
    },
    {
     "name": "stdout",
     "output_type": "stream",
     "text": [
      "\u001b[H\u001b[2J"
     ]
    },
    {
     "name": "stderr",
     "output_type": "stream",
     "text": [
      "Previous HEAD position was 5f71a29 Fix markdown in README.md\n",
      "HEAD is now at a492c94 jQuery static update to 2.1.1\n"
     ]
    },
    {
     "name": "stdout",
     "output_type": "stream",
     "text": [
      "\u001b[H\u001b[2J"
     ]
    },
    {
     "name": "stderr",
     "output_type": "stream",
     "text": [
      "Previous HEAD position was a492c94 jQuery static update to 2.1.1\n",
      "HEAD is now at 7dfcb5b Update marked from CDN to static\n"
     ]
    },
    {
     "name": "stdout",
     "output_type": "stream",
     "text": [
      "\u001b[H\u001b[2J"
     ]
    },
    {
     "name": "stderr",
     "output_type": "stream",
     "text": [
      "Previous HEAD position was 7dfcb5b Update marked from CDN to static\n",
      "HEAD is now at cc4cd40 Clean up bootswatch.css 3.1.1\n"
     ]
    },
    {
     "name": "stdout",
     "output_type": "stream",
     "text": [
      "\u001b[H\u001b[2J"
     ]
    },
    {
     "name": "stderr",
     "output_type": "stream",
     "text": [
      "Previous HEAD position was cc4cd40 Clean up bootswatch.css 3.1.1\n",
      "HEAD is now at b4341af Change README.md to include full naming of normalize.css in both columns\n"
     ]
    },
    {
     "name": "stdout",
     "output_type": "stream",
     "text": [
      "\u001b[H\u001b[2J"
     ]
    },
    {
     "name": "stderr",
     "output_type": "stream",
     "text": [
      "Previous HEAD position was b4341af Change README.md to include full naming of normalize.css in both columns\n",
      "HEAD is now at bd1a8ab Clean up boostrap-markdown 2.2.1\n"
     ]
    },
    {
     "name": "stdout",
     "output_type": "stream",
     "text": [
      "\u001b[H\u001b[2J"
     ]
    },
    {
     "name": "stderr",
     "output_type": "stream",
     "text": [
      "Previous HEAD position was bd1a8ab Clean up boostrap-markdown 2.2.1\n",
      "HEAD is now at ee6ffcb Fix orphaned select2.css reference\n"
     ]
    },
    {
     "name": "stdout",
     "output_type": "stream",
     "text": [
      "\u001b[H\u001b[2J"
     ]
    },
    {
     "name": "stderr",
     "output_type": "stream",
     "text": [
      "Previous HEAD position was ee6ffcb Fix orphaned select2.css reference\n",
      "HEAD is now at 728e09a Clean up boostrap 3.1.1\n"
     ]
    },
    {
     "name": "stdout",
     "output_type": "stream",
     "text": [
      "\u001b[H\u001b[2J"
     ]
    },
    {
     "name": "stderr",
     "output_type": "stream",
     "text": [
      "Previous HEAD position was 728e09a Clean up boostrap 3.1.1\n",
      "HEAD is now at b9eeea2 Correctly position boostrap under static\n"
     ]
    },
    {
     "name": "stdout",
     "output_type": "stream",
     "text": [
      "\u001b[H\u001b[2J"
     ]
    },
    {
     "name": "stderr",
     "output_type": "stream",
     "text": [
      "Previous HEAD position was b9eeea2 Correctly position boostrap under static\n",
      "HEAD is now at 28bcf6a Fix md in README.md\n"
     ]
    },
    {
     "name": "stdout",
     "output_type": "stream",
     "text": [
      "\u001b[H\u001b[2J"
     ]
    },
    {
     "name": "stderr",
     "output_type": "stream",
     "text": [
      "Previous HEAD position was 28bcf6a Fix md in README.md\n",
      "HEAD is now at dcd084a Fix select2-bootstrap-css urls\n"
     ]
    },
    {
     "name": "stdout",
     "output_type": "stream",
     "text": [
      "\u001b[H\u001b[2J"
     ]
    },
    {
     "name": "stderr",
     "output_type": "stream",
     "text": [
      "Previous HEAD position was dcd084a Fix select2-bootstrap-css urls\n",
      "HEAD is now at 690d3f0 Fix edit profile Save button to have the same class as other Save buttons\n"
     ]
    },
    {
     "name": "stdout",
     "output_type": "stream",
     "text": [
      "\u001b[H\u001b[2J"
     ]
    },
    {
     "name": "stderr",
     "output_type": "stream",
     "text": [
      "Previous HEAD position was 690d3f0 Fix edit profile Save button to have the same class as other Save buttons\n",
      "HEAD is now at aac291b Removed express deprecated app.configure. Partial fix for #315\n"
     ]
    },
    {
     "name": "stdout",
     "output_type": "stream",
     "text": [
      "\u001b[H\u001b[2J"
     ]
    },
    {
     "name": "stderr",
     "output_type": "stream",
     "text": [
      "Previous HEAD position was aac291b Removed express deprecated app.configure. Partial fix for #315\n",
      "HEAD is now at b080074 Finish off doc pages... until a change comes along of course\n"
     ]
    },
    {
     "name": "stdout",
     "output_type": "stream",
     "text": [
      "\u001b[H\u001b[2J"
     ]
    },
    {
     "name": "stderr",
     "output_type": "stream",
     "text": [
      "Previous HEAD position was b080074 Finish off doc pages... until a change comes along of course\n",
      "HEAD is now at 57bb830 Move routes to ./routes.js & convert last few definitions to app_route\n"
     ]
    },
    {
     "name": "stdout",
     "output_type": "stream",
     "text": [
      "\u001b[H\u001b[2J"
     ]
    },
    {
     "name": "stderr",
     "output_type": "stream",
     "text": [
      "Previous HEAD position was 57bb830 Move routes to ./routes.js & convert last few definitions to app_route\n",
      "HEAD is now at 5322426 Move announcements link to heading.\n"
     ]
    },
    {
     "name": "stdout",
     "output_type": "stream",
     "text": [
      "\u001b[H\u001b[2J"
     ]
    },
    {
     "name": "stderr",
     "output_type": "stream",
     "text": [
      "Previous HEAD position was 5322426 Move announcements link to heading.\n",
      "HEAD is now at 0e6c2b7 Sort by group size (Mentioned in #306). Popular groups sortBy -size\n"
     ]
    },
    {
     "name": "stdout",
     "output_type": "stream",
     "text": [
      "\u001b[H\u001b[2J"
     ]
    },
    {
     "name": "stderr",
     "output_type": "stream",
     "text": [
      "Previous HEAD position was 0e6c2b7 Sort by group size (Mentioned in #306). Popular groups sortBy -size\n",
      "HEAD is now at 82e049e Fix #294 Show rendered line breaks & other misc options clientside.\n"
     ]
    },
    {
     "name": "stdout",
     "output_type": "stream",
     "text": [
      "\u001b[H\u001b[2J"
     ]
    },
    {
     "name": "stderr",
     "output_type": "stream",
     "text": [
      "Previous HEAD position was 82e049e Fix #294 Show rendered line breaks & other misc options clientside.\n",
      "HEAD is now at 65a42d0 Header fixes. Hover tooltip on Mod/Admin (non-bootstrap). Mobile fixes\n"
     ]
    },
    {
     "name": "stdout",
     "output_type": "stream",
     "text": [
      "\u001b[H\u001b[2J"
     ]
    },
    {
     "name": "stderr",
     "output_type": "stream",
     "text": [
      "Previous HEAD position was 65a42d0 Header fixes. Hover tooltip on Mod/Admin (non-bootstrap). Mobile fixes\n",
      "HEAD is now at 6621ee5 Add Script.installsSinceUpdate & show in author panel.\n"
     ]
    },
    {
     "name": "stdout",
     "output_type": "stream",
     "text": [
      "\u001b[H\u001b[2J"
     ]
    },
    {
     "name": "stderr",
     "output_type": "stream",
     "text": [
      "Previous HEAD position was 6621ee5 Add Script.installsSinceUpdate & show in author panel.\n",
      "HEAD is now at e99a9da Establish a base for linking in NPM sources to be exposed\n"
     ]
    },
    {
     "name": "stdout",
     "output_type": "stream",
     "text": [
      "\u001b[H\u001b[2J"
     ]
    },
    {
     "name": "stderr",
     "output_type": "stream",
     "text": [
      "Previous HEAD position was e99a9da Establish a base for linking in NPM sources to be exposed\n",
      "HEAD is now at c4d30e2 Additional fixes for #343\n"
     ]
    },
    {
     "name": "stdout",
     "output_type": "stream",
     "text": [
      "\u001b[H\u001b[2J"
     ]
    },
    {
     "name": "stderr",
     "output_type": "stream",
     "text": [
      "Previous HEAD position was c4d30e2 Additional fixes for #343\n",
      "HEAD is now at 80ecd63 Add missing strict declaration from #331 and this pr.\n"
     ]
    },
    {
     "name": "stdout",
     "output_type": "stream",
     "text": [
      "\u001b[H\u001b[2J"
     ]
    },
    {
     "name": "stderr",
     "output_type": "stream",
     "text": [
      "Previous HEAD position was 80ecd63 Add missing strict declaration from #331 and this pr.\n",
      "HEAD is now at c496baf Insert a BOM check for import and file upload\n"
     ]
    },
    {
     "name": "stdout",
     "output_type": "stream",
     "text": [
      "\u001b[H\u001b[2J"
     ]
    },
    {
     "name": "stderr",
     "output_type": "stream",
     "text": [
      "Previous HEAD position was c496baf Insert a BOM check for import and file upload\n",
      "HEAD is now at 87191e8 Address the app generated 503s * Use proper usage of `maxLag` for process bump. * Add in simple referer check mentioned in #343 to prevent SEO/abuse. * Remove separator from `./routesStatic.js` and let `join` do it's op.\n"
     ]
    },
    {
     "name": "stdout",
     "output_type": "stream",
     "text": [
      "\u001b[H\u001b[2J"
     ]
    },
    {
     "name": "stderr",
     "output_type": "stream",
     "text": [
      "Previous HEAD position was 87191e8 Address the app generated 503s * Use proper usage of `maxLag` for process bump. * Add in simple referer check mentioned in #343 to prevent SEO/abuse. * Remove separator from `./routesStatic.js` and let `join` do it's op.\n",
      "HEAD is now at 9fc3ddd Remove package toobusy-js\n"
     ]
    },
    {
     "name": "stdout",
     "output_type": "stream",
     "text": [
      "\u001b[H\u001b[2J"
     ]
    },
    {
     "name": "stderr",
     "output_type": "stream",
     "text": [
      "Previous HEAD position was 9fc3ddd Remove package toobusy-js\n",
      "HEAD is now at 0d3f13e Missed from #353\n"
     ]
    },
    {
     "name": "stdout",
     "output_type": "stream",
     "text": [
      "\u001b[H\u001b[2J"
     ]
    },
    {
     "name": "stderr",
     "output_type": "stream",
     "text": [
      "Previous HEAD position was 0d3f13e Missed from #353\n",
      "HEAD is now at a4bfc52 Fix logical AND to logical OR for file uploads to prevent accidental too large of files posted.\n"
     ]
    },
    {
     "name": "stdout",
     "output_type": "stream",
     "text": [
      "\u001b[H\u001b[2J"
     ]
    },
    {
     "name": "stderr",
     "output_type": "stream",
     "text": [
      "Previous HEAD position was a4bfc52 Fix logical AND to logical OR for file uploads to prevent accidental too large of files posted.\n",
      "HEAD is now at f525eff ESR dependency update for html sanitizer\n"
     ]
    },
    {
     "name": "stdout",
     "output_type": "stream",
     "text": [
      "\u001b[H\u001b[2J"
     ]
    },
    {
     "name": "stderr",
     "output_type": "stream",
     "text": [
      "Previous HEAD position was f525eff ESR dependency update for html sanitizer\n",
      "HEAD is now at 280939e Transform exact `style` tags from *markdown* generated to equivalent *bootstrap* `class` for tables\n"
     ]
    },
    {
     "name": "stdout",
     "output_type": "stream",
     "text": [
      "\u001b[H\u001b[2J"
     ]
    },
    {
     "name": "stderr",
     "output_type": "stream",
     "text": [
      "Previous HEAD position was 280939e Transform exact `style` tags from *markdown* generated to equivalent *bootstrap* `class` for tables\n",
      "HEAD is now at cecf8dc Missed semicolons for #363\n"
     ]
    },
    {
     "name": "stdout",
     "output_type": "stream",
     "text": [
      "\u001b[H\u001b[2J"
     ]
    },
    {
     "name": "stderr",
     "output_type": "stream",
     "text": [
      "Previous HEAD position was cecf8dc Missed semicolons for #363\n",
      "HEAD is now at 8362dd4 Closes #342\n"
     ]
    },
    {
     "name": "stdout",
     "output_type": "stream",
     "text": [
      "\u001b[H\u001b[2J"
     ]
    },
    {
     "name": "stderr",
     "output_type": "stream",
     "text": [
      "Previous HEAD position was 8362dd4 Closes #342\n",
      "HEAD is now at a0a54ec Set maximum script upload size to 1 MiB\n"
     ]
    },
    {
     "name": "stdout",
     "output_type": "stream",
     "text": [
      "\u001b[H\u001b[2J"
     ]
    },
    {
     "name": "stderr",
     "output_type": "stream",
     "text": [
      "Previous HEAD position was a0a54ec Set maximum script upload size to 1 MiB\n",
      "HEAD is now at dbc4abf Fix missing scrollbars when content is too large in preview mode\n"
     ]
    },
    {
     "name": "stdout",
     "output_type": "stream",
     "text": [
      "\u001b[H\u001b[2J"
     ]
    },
    {
     "name": "stderr",
     "output_type": "stream",
     "text": [
      "Previous HEAD position was dbc4abf Fix missing scrollbars when content is too large in preview mode\n",
      "HEAD is now at fe472b6 Use same css class from script pages for icon sizing in library page views\n"
     ]
    },
    {
     "name": "stdout",
     "output_type": "stream",
     "text": [
      "\u001b[H\u001b[2J"
     ]
    },
    {
     "name": "stderr",
     "output_type": "stream",
     "text": [
      "Previous HEAD position was fe472b6 Use same css class from script pages for icon sizing in library page views\n",
      "HEAD is now at 38e1633 Fix moment deprecation warnings\n"
     ]
    },
    {
     "name": "stdout",
     "output_type": "stream",
     "text": [
      "\u001b[H\u001b[2J"
     ]
    },
    {
     "name": "stderr",
     "output_type": "stream",
     "text": [
      "Previous HEAD position was 38e1633 Fix moment deprecation warnings\n",
      "HEAD is now at 64a4987 Update **some** dependencies\n"
     ]
    },
    {
     "name": "stdout",
     "output_type": "stream",
     "text": [
      "\u001b[H\u001b[2J"
     ]
    },
    {
     "name": "stderr",
     "output_type": "stream",
     "text": [
      "Previous HEAD position was 64a4987 Update **some** dependencies\n",
      "HEAD is now at 1e898f3 Update Ace to 2014 10 09 release\n"
     ]
    },
    {
     "name": "stdout",
     "output_type": "stream",
     "text": [
      "\u001b[H\u001b[2J"
     ]
    },
    {
     "name": "stderr",
     "output_type": "stream",
     "text": [
      "Previous HEAD position was 1e898f3 Update Ace to 2014 10 09 release\n",
      "HEAD is now at b486122 Update aws and mongoose\n"
     ]
    },
    {
     "name": "stdout",
     "output_type": "stream",
     "text": [
      "\u001b[H\u001b[2J"
     ]
    },
    {
     "name": "stderr",
     "output_type": "stream",
     "text": [
      "Previous HEAD position was b486122 Update aws and mongoose\n",
      "HEAD is now at 36aa9f3 Update README.md\n"
     ]
    },
    {
     "name": "stdout",
     "output_type": "stream",
     "text": [
      "\u001b[H\u001b[2J"
     ]
    },
    {
     "name": "stderr",
     "output_type": "stream",
     "text": [
      "Previous HEAD position was 36aa9f3 Update README.md\n",
      "HEAD is now at 4306410 Readd and update highlight package\n"
     ]
    },
    {
     "name": "stdout",
     "output_type": "stream",
     "text": [
      "\u001b[H\u001b[2J"
     ]
    },
    {
     "name": "stderr",
     "output_type": "stream",
     "text": [
      "Previous HEAD position was 4306410 Readd and update highlight package\n",
      "HEAD is now at d6a9ea2 Update README.md\n"
     ]
    },
    {
     "name": "stdout",
     "output_type": "stream",
     "text": [
      "\u001b[H\u001b[2J"
     ]
    },
    {
     "name": "stderr",
     "output_type": "stream",
     "text": [
      "Previous HEAD position was d6a9ea2 Update README.md\n",
      "HEAD is now at 64c4851 Add some tooltips\n"
     ]
    },
    {
     "name": "stdout",
     "output_type": "stream",
     "text": [
      "\u001b[H\u001b[2J"
     ]
    },
    {
     "name": "stderr",
     "output_type": "stream",
     "text": [
      "Previous HEAD position was 64c4851 Add some tooltips\n",
      "HEAD is now at 8d34226 Update to latest express 3\n"
     ]
    },
    {
     "name": "stdout",
     "output_type": "stream",
     "text": [
      "\u001b[H\u001b[2J"
     ]
    },
    {
     "name": "stderr",
     "output_type": "stream",
     "text": [
      "Previous HEAD position was 8d34226 Update to latest express 3\n",
      "HEAD is now at a1ac6f5 Additional fix for icon size from #344\n"
     ]
    },
    {
     "name": "stdout",
     "output_type": "stream",
     "text": [
      "\u001b[H\u001b[2J"
     ]
    },
    {
     "name": "stderr",
     "output_type": "stream",
     "text": [
      "Previous HEAD position was a1ac6f5 Additional fix for icon size from #344\n",
      "HEAD is now at e68a6d7 Misc fix to show lib default icon instead of default script icon for script pages\n"
     ]
    },
    {
     "name": "stdout",
     "output_type": "stream",
     "text": [
      "\u001b[H\u001b[2J"
     ]
    },
    {
     "name": "stderr",
     "output_type": "stream",
     "text": [
      "Previous HEAD position was e68a6d7 Misc fix to show lib default icon instead of default script icon for script pages\n",
      "HEAD is now at 39e6691 Misc fix to align fork history bullets\n"
     ]
    },
    {
     "name": "stdout",
     "output_type": "stream",
     "text": [
      "\u001b[H\u001b[2J"
     ]
    },
    {
     "name": "stderr",
     "output_type": "stream",
     "text": [
      "Previous HEAD position was 39e6691 Misc fix to align fork history bullets\n",
      "HEAD is now at 23f5fb2 Found an icon for code forks in fa\n"
     ]
    },
    {
     "name": "stdout",
     "output_type": "stream",
     "text": [
      "\u001b[H\u001b[2J"
     ]
    },
    {
     "name": "stderr",
     "output_type": "stream",
     "text": [
      "Previous HEAD position was 23f5fb2 Found an icon for code forks in fa\n",
      "HEAD is now at 11eaf84 Fix full screen editor in bootstrap-markdown editor\n"
     ]
    },
    {
     "name": "stdout",
     "output_type": "stream",
     "text": [
      "\u001b[H\u001b[2J"
     ]
    },
    {
     "name": "stderr",
     "output_type": "stream",
     "text": [
      "Previous HEAD position was 11eaf84 Fix full screen editor in bootstrap-markdown editor\n",
      "HEAD is now at 09dd321 Add Octicons v2.1.2 to OUJS\n"
     ]
    },
    {
     "name": "stdout",
     "output_type": "stream",
     "text": [
      "\u001b[H\u001b[2J"
     ]
    },
    {
     "name": "stderr",
     "output_type": "stream",
     "text": [
      "Previous HEAD position was 09dd321 Add Octicons v2.1.2 to OUJS\n",
      "HEAD is now at dbc076a Flip URL order for Octicons in README.md\n"
     ]
    },
    {
     "name": "stdout",
     "output_type": "stream",
     "text": [
      "\u001b[H\u001b[2J"
     ]
    },
    {
     "name": "stderr",
     "output_type": "stream",
     "text": [
      "Previous HEAD position was dbc076a Flip URL order for Octicons in README.md\n",
      "HEAD is now at 08318da Scale back standard Octicons class to 14px instead of default of 16px\n"
     ]
    },
    {
     "name": "stdout",
     "output_type": "stream",
     "text": [
      "\u001b[H\u001b[2J"
     ]
    },
    {
     "name": "stderr",
     "output_type": "stream",
     "text": [
      "Previous HEAD position was 08318da Scale back standard Octicons class to 14px instead of default of 16px\n",
      "HEAD is now at 923bdc6 Inherit font size from container to match font-awesome default CSS rule\n"
     ]
    },
    {
     "name": "stdout",
     "output_type": "stream",
     "text": [
      "\u001b[H\u001b[2J"
     ]
    },
    {
     "name": "stderr",
     "output_type": "stream",
     "text": [
      "Previous HEAD position was 923bdc6 Inherit font size from container to match font-awesome default CSS rule\n",
      "HEAD is now at b627500 Create a pseudo octicon class to match font-awesome CSS properties\n"
     ]
    },
    {
     "name": "stdout",
     "output_type": "stream",
     "text": [
      "\u001b[H\u001b[2J"
     ]
    },
    {
     "name": "stderr",
     "output_type": "stream",
     "text": [
      "Previous HEAD position was b627500 Create a pseudo octicon class to match font-awesome CSS properties\n",
      "HEAD is now at a917015 Move fork icon to list title\n"
     ]
    },
    {
     "name": "stdout",
     "output_type": "stream",
     "text": [
      "\u001b[H\u001b[2J"
     ]
    },
    {
     "name": "stderr",
     "output_type": "stream",
     "text": [
      "Previous HEAD position was a917015 Move fork icon to list title\n",
      "HEAD is now at ed1a1d8 Fix `url` generation with libs vs scripts in Fork History\n"
     ]
    },
    {
     "name": "stdout",
     "output_type": "stream",
     "text": [
      "\u001b[H\u001b[2J"
     ]
    },
    {
     "name": "stderr",
     "output_type": "stream",
     "text": [
      "Previous HEAD position was ed1a1d8 Fix `url` generation with libs vs scripts in Fork History\n",
      "HEAD is now at 57ac4e3 Replace gavel with copyright icon for @copyright\n"
     ]
    },
    {
     "name": "stdout",
     "output_type": "stream",
     "text": [
      "\u001b[H\u001b[2J"
     ]
    },
    {
     "name": "stderr",
     "output_type": "stream",
     "text": [
      "Previous HEAD position was 57ac4e3 Replace gavel with copyright icon for @copyright\n",
      "HEAD is now at dfb7107 Scatter some icons around our views\n"
     ]
    },
    {
     "name": "stdout",
     "output_type": "stream",
     "text": [
      "\u001b[H\u001b[2J"
     ]
    },
    {
     "name": "stderr",
     "output_type": "stream",
     "text": [
      "Previous HEAD position was dfb7107 Scatter some icons around our views\n",
      "HEAD is now at 5e30026 Some doc related stuff\n"
     ]
    },
    {
     "name": "stdout",
     "output_type": "stream",
     "text": [
      "\u001b[H\u001b[2J"
     ]
    },
    {
     "name": "stderr",
     "output_type": "stream",
     "text": [
      "Previous HEAD position was 5e30026 Some doc related stuff\n",
      "HEAD is now at cf4dc7e Change doc icon to book instead\n"
     ]
    },
    {
     "name": "stdout",
     "output_type": "stream",
     "text": [
      "\u001b[H\u001b[2J"
     ]
    },
    {
     "name": "stderr",
     "output_type": "stream",
     "text": [
      "Previous HEAD position was cf4dc7e Change doc icon to book instead\n",
      "HEAD is now at 3736ab1 More icon fixes\n"
     ]
    },
    {
     "name": "stdout",
     "output_type": "stream",
     "text": [
      "\u001b[H\u001b[2J"
     ]
    },
    {
     "name": "stderr",
     "output_type": "stream",
     "text": [
      "Previous HEAD position was 3736ab1 More icon fixes\n",
      "HEAD is now at 9a508dd Attempt to add the Script Page Header to the Source Code Page\n"
     ]
    },
    {
     "name": "stdout",
     "output_type": "stream",
     "text": [
      "\u001b[H\u001b[2J"
     ]
    },
    {
     "name": "stderr",
     "output_type": "stream",
     "text": [
      "Previous HEAD position was 9a508dd Attempt to add the Script Page Header to the Source Code Page\n",
      "HEAD is now at 99c8e62 Remove some redundant unused code and add TODO list\n"
     ]
    },
    {
     "name": "stdout",
     "output_type": "stream",
     "text": [
      "\u001b[H\u001b[2J"
     ]
    },
    {
     "name": "stderr",
     "output_type": "stream",
     "text": [
      "Previous HEAD position was 99c8e62 Remove some redundant unused code and add TODO list\n",
      "HEAD is now at d34f20d Fix breadcrumb alignment with view style tag CSS rule\n"
     ]
    },
    {
     "name": "stdout",
     "output_type": "stream",
     "text": [
      "\u001b[H\u001b[2J"
     ]
    },
    {
     "name": "stderr",
     "output_type": "stream",
     "text": [
      "Previous HEAD position was d34f20d Fix breadcrumb alignment with view style tag CSS rule\n",
      "HEAD is now at c2b1c44 Remove that TODO item for last commit of https://github.com/Martii/OpenUserJS.org/commit/d34f20de7390c2fe0afa7fa752bb18fbeeb2de8c\n"
     ]
    },
    {
     "name": "stdout",
     "output_type": "stream",
     "text": [
      "\u001b[H\u001b[2J"
     ]
    },
    {
     "name": "stderr",
     "output_type": "stream",
     "text": [
      "Previous HEAD position was c2b1c44 Remove that TODO item for last commit of https://github.com/Martii/OpenUserJS.org/commit/d34f20de7390c2fe0afa7fa752bb18fbeeb2de8c\n",
      "HEAD is now at f6556f5 Add Discussion to user.js to get issue count\n"
     ]
    },
    {
     "name": "stdout",
     "output_type": "stream",
     "text": [
      "\u001b[H\u001b[2J"
     ]
    },
    {
     "name": "stderr",
     "output_type": "stream",
     "text": [
      "Previous HEAD position was f6556f5 Add Discussion to user.js to get issue count\n",
      "HEAD is now at 4c8c16a Create initial [robots.txt](http://www.robotstxt.org/robotstxt.html)\n"
     ]
    },
    {
     "name": "stdout",
     "output_type": "stream",
     "text": [
      "\u001b[H\u001b[2J"
     ]
    },
    {
     "name": "stderr",
     "output_type": "stream",
     "text": [
      "Previous HEAD position was 4c8c16a Create initial [robots.txt](http://www.robotstxt.org/robotstxt.html)\n",
      "HEAD is now at 4282dd9 Update README.md\n"
     ]
    },
    {
     "name": "stdout",
     "output_type": "stream",
     "text": [
      "\u001b[H\u001b[2J"
     ]
    },
    {
     "name": "stderr",
     "output_type": "stream",
     "text": [
      "Previous HEAD position was 4282dd9 Update README.md\n",
      "HEAD is now at ad003fe Update some dependencies\n"
     ]
    },
    {
     "name": "stdout",
     "output_type": "stream",
     "text": [
      "\u001b[H\u001b[2J"
     ]
    },
    {
     "name": "stderr",
     "output_type": "stream",
     "text": [
      "Previous HEAD position was ad003fe Update some dependencies\n",
      "HEAD is now at 2bafce1 Update remaining dependencies that just recently changed\n"
     ]
    },
    {
     "name": "stdout",
     "output_type": "stream",
     "text": [
      "\u001b[H\u001b[2J"
     ]
    },
    {
     "name": "stderr",
     "output_type": "stream",
     "text": [
      "Previous HEAD position was 2bafce1 Update remaining dependencies that just recently changed\n",
      "HEAD is now at 582c1e6 Downgrade the *aws-sdk* package to prevent app crashing\n"
     ]
    },
    {
     "name": "stdout",
     "output_type": "stream",
     "text": [
      "\u001b[H\u001b[2J"
     ]
    },
    {
     "name": "stderr",
     "output_type": "stream",
     "text": [
      "Previous HEAD position was 582c1e6 Downgrade the *aws-sdk* package to prevent app crashing\n",
      "HEAD is now at a579adc Update Octicons to GH path for static serving\n"
     ]
    },
    {
     "name": "stdout",
     "output_type": "stream",
     "text": [
      "\u001b[H\u001b[2J"
     ]
    },
    {
     "name": "stderr",
     "output_type": "stream",
     "text": [
      "Previous HEAD position was a579adc Update Octicons to GH path for static serving\n",
      "HEAD is now at 0c7ad6d Update README.md\n"
     ]
    },
    {
     "name": "stdout",
     "output_type": "stream",
     "text": [
      "\u001b[H\u001b[2J"
     ]
    },
    {
     "name": "stderr",
     "output_type": "stream",
     "text": [
      "Previous HEAD position was 0c7ad6d Update README.md\n",
      "HEAD is now at 5a5e81d Work-around for #350\n"
     ]
    },
    {
     "name": "stdout",
     "output_type": "stream",
     "text": [
      "\u001b[H\u001b[2J"
     ]
    },
    {
     "name": "stderr",
     "output_type": "stream",
     "text": [
      "Previous HEAD position was 5a5e81d Work-around for #350\n",
      "HEAD is now at bf19760 Fix opening/closing of issues that have same topic name\n"
     ]
    },
    {
     "name": "stdout",
     "output_type": "stream",
     "text": [
      "\u001b[H\u001b[2J"
     ]
    },
    {
     "name": "stderr",
     "output_type": "stream",
     "text": [
      "Previous HEAD position was bf19760 Fix opening/closing of issues that have same topic name\n",
      "HEAD is now at 7b6fdcb Update README.md\n"
     ]
    },
    {
     "name": "stdout",
     "output_type": "stream",
     "text": [
      "\u001b[H\u001b[2J"
     ]
    },
    {
     "name": "stderr",
     "output_type": "stream",
     "text": [
      "Previous HEAD position was 7b6fdcb Update README.md\n",
      "HEAD is now at 331f3ba Update README.md\n"
     ]
    },
    {
     "name": "stdout",
     "output_type": "stream",
     "text": [
      "\u001b[H\u001b[2J"
     ]
    },
    {
     "name": "stderr",
     "output_type": "stream",
     "text": [
      "Previous HEAD position was 331f3ba Update README.md\n",
      "HEAD is now at 52871cc Move jQuery to NPM static serving\n"
     ]
    },
    {
     "name": "stdout",
     "output_type": "stream",
     "text": [
      "\u001b[H\u001b[2J"
     ]
    },
    {
     "name": "stderr",
     "output_type": "stream",
     "text": [
      "Previous HEAD position was 52871cc Move jQuery to NPM static serving\n",
      "HEAD is now at d2b7c9c Fix \"Write Script Online\"\n"
     ]
    },
    {
     "name": "stdout",
     "output_type": "stream",
     "text": [
      "\u001b[H\u001b[2J"
     ]
    },
    {
     "name": "stderr",
     "output_type": "stream",
     "text": [
      "Previous HEAD position was d2b7c9c Fix \"Write Script Online\"\n",
      "HEAD is now at bd0139a Fix for OUJS collaboration failure\n"
     ]
    },
    {
     "name": "stdout",
     "output_type": "stream",
     "text": [
      "\u001b[H\u001b[2J"
     ]
    },
    {
     "name": "stderr",
     "output_type": "stream",
     "text": [
      "Previous HEAD position was bd0139a Fix for OUJS collaboration failure\n",
      "HEAD is now at 683d201 Added no discussions message;\n"
     ]
    },
    {
     "name": "stdout",
     "output_type": "stream",
     "text": [
      "\u001b[H\u001b[2J"
     ]
    },
    {
     "name": "stderr",
     "output_type": "stream",
     "text": [
      "Previous HEAD position was 683d201 Added no discussions message;\n",
      "HEAD is now at 41d1ff1 Remove this useless Views column in discussions;\n"
     ]
    },
    {
     "name": "stdout",
     "output_type": "stream",
     "text": [
      "\u001b[H\u001b[2J"
     ]
    },
    {
     "name": "stderr",
     "output_type": "stream",
     "text": [
      "Previous HEAD position was 41d1ff1 Remove this useless Views column in discussions;\n",
      "HEAD is now at 68969e5 Remove this useless Views column in discussions;\n"
     ]
    },
    {
     "name": "stdout",
     "output_type": "stream",
     "text": [
      "\u001b[H\u001b[2J"
     ]
    },
    {
     "name": "stderr",
     "output_type": "stream",
     "text": [
      "Previous HEAD position was 68969e5 Remove this useless Views column in discussions;\n",
      "HEAD is now at 87bd4f3 Update to latest Express 3\n"
     ]
    },
    {
     "name": "stdout",
     "output_type": "stream",
     "text": [
      "\u001b[H\u001b[2J"
     ]
    },
    {
     "name": "stderr",
     "output_type": "stream",
     "text": [
      "Previous HEAD position was 87bd4f3 Update to latest Express 3\n",
      "HEAD is now at 96980c7 Use stronger syntax parms for `serveModule`\n"
     ]
    },
    {
     "name": "stdout",
     "output_type": "stream",
     "text": [
      "\u001b[H\u001b[2J"
     ]
    },
    {
     "name": "stderr",
     "output_type": "stream",
     "text": [
      "Previous HEAD position was 96980c7 Use stronger syntax parms for `serveModule`\n",
      "HEAD is now at c18530a Update Ace to Git Url\n"
     ]
    },
    {
     "name": "stdout",
     "output_type": "stream",
     "text": [
      "\u001b[H\u001b[2J"
     ]
    },
    {
     "name": "stderr",
     "output_type": "stream",
     "text": [
      "Previous HEAD position was c18530a Update Ace to Git Url\n",
      "HEAD is now at 88eaf9f Update mongoose dep\n"
     ]
    },
    {
     "name": "stdout",
     "output_type": "stream",
     "text": [
      "\u001b[H\u001b[2J"
     ]
    },
    {
     "name": "stderr",
     "output_type": "stream",
     "text": [
      "Previous HEAD position was 88eaf9f Update mongoose dep\n",
      "HEAD is now at 982e642 Remove a deprecation warning\n"
     ]
    },
    {
     "name": "stdout",
     "output_type": "stream",
     "text": [
      "\u001b[H\u001b[2J"
     ]
    },
    {
     "name": "stderr",
     "output_type": "stream",
     "text": [
      "Previous HEAD position was 982e642 Remove a deprecation warning\n",
      "HEAD is now at b103aed Update README.md\n"
     ]
    },
    {
     "name": "stdout",
     "output_type": "stream",
     "text": [
      "\u001b[H\u001b[2J"
     ]
    },
    {
     "name": "stderr",
     "output_type": "stream",
     "text": [
      "Previous HEAD position was b103aed Update README.md\n",
      "HEAD is now at f3233de Upgrade the backend deps\n"
     ]
    },
    {
     "name": "stdout",
     "output_type": "stream",
     "text": [
      "\u001b[H\u001b[2J"
     ]
    },
    {
     "name": "stderr",
     "output_type": "stream",
     "text": [
      "Previous HEAD position was f3233de Upgrade the backend deps\n",
      "HEAD is now at 0622990 Move to latest *express* 4 stable\n"
     ]
    },
    {
     "name": "stdout",
     "output_type": "stream",
     "text": [
      "\u001b[H\u001b[2J"
     ]
    },
    {
     "name": "stderr",
     "output_type": "stream",
     "text": [
      "Previous HEAD position was 0622990 Move to latest *express* 4 stable\n",
      "HEAD is now at 4dee2e9 Update Userscript-Beginners-HOWTO.md\n",
      "Previous HEAD position was 4dee2e9 Update Userscript-Beginners-HOWTO.md\n",
      "HEAD is now at 10838b9 Update Userscript-Beginners-HOWTO.md\n"
     ]
    },
    {
     "name": "stdout",
     "output_type": "stream",
     "text": [
      "\u001b[H\u001b[2J\u001b[H\u001b[2J"
     ]
    },
    {
     "name": "stderr",
     "output_type": "stream",
     "text": [
      "Previous HEAD position was 10838b9 Update Userscript-Beginners-HOWTO.md\n",
      "HEAD is now at f9cb4c0 Update Terms-of-Service.md\n"
     ]
    },
    {
     "name": "stdout",
     "output_type": "stream",
     "text": [
      "\u001b[H\u001b[2J\u001b[H\u001b[2J"
     ]
    },
    {
     "name": "stderr",
     "output_type": "stream",
     "text": [
      "Previous HEAD position was f9cb4c0 Update Terms-of-Service.md\n",
      "HEAD is now at bb3d4c8 Update Userscript-Beginners-HOWTO.md\n",
      "Previous HEAD position was bb3d4c8 Update Userscript-Beginners-HOWTO.md\n",
      "HEAD is now at e04b654 Update README.md\n"
     ]
    },
    {
     "name": "stdout",
     "output_type": "stream",
     "text": [
      "\u001b[H\u001b[2J\u001b[H\u001b[2J"
     ]
    },
    {
     "name": "stderr",
     "output_type": "stream",
     "text": [
      "Previous HEAD position was e04b654 Update README.md\n",
      "HEAD is now at 91dd909 Test out a possible validation issue with a third-party dependency\n",
      "Previous HEAD position was 91dd909 Test out a possible validation issue with a third-party dependency\n",
      "HEAD is now at e26323a Redirect *ace-builds* back to upstream\n"
     ]
    },
    {
     "name": "stdout",
     "output_type": "stream",
     "text": [
      "\u001b[H\u001b[2J"
     ]
    },
    {
     "name": "stderr",
     "output_type": "stream",
     "text": [
      "Previous HEAD position was e26323a Redirect *ace-builds* back to upstream\n",
      "HEAD is now at 51052cc Project version bump\n"
     ]
    },
    {
     "name": "stdout",
     "output_type": "stream",
     "text": [
      "\u001b[H\u001b[2J"
     ]
    },
    {
     "name": "stderr",
     "output_type": "stream",
     "text": [
      "Previous HEAD position was 51052cc Project version bump\n",
      "HEAD is now at 58a09e5 Abstract Production vs Development\n"
     ]
    },
    {
     "name": "stdout",
     "output_type": "stream",
     "text": [
      "\u001b[H\u001b[2J"
     ]
    },
    {
     "name": "stderr",
     "output_type": "stream",
     "text": [
      "Previous HEAD position was 58a09e5 Abstract Production vs Development\n",
      "HEAD is now at 97fc8f1 Stray STYLEGUIDE.md conformance fix here\n"
     ]
    },
    {
     "name": "stdout",
     "output_type": "stream",
     "text": [
      "\u001b[H\u001b[2J"
     ]
    },
    {
     "name": "stderr",
     "output_type": "stream",
     "text": [
      "Previous HEAD position was 97fc8f1 Stray STYLEGUIDE.md conformance fix here\n",
      "HEAD is now at 1b595bb *express-minify* now compresses .meta.js and .user.js in express 4\n"
     ]
    },
    {
     "name": "stdout",
     "output_type": "stream",
     "text": [
      "\u001b[H\u001b[2J"
     ]
    },
    {
     "name": "stderr",
     "output_type": "stream",
     "text": [
      "Previous HEAD position was 1b595bb *express-minify* now compresses .meta.js and .user.js in express 4\n",
      "HEAD is now at 9e0af13 Make express-minify optional when isDev\n"
     ]
    },
    {
     "name": "stdout",
     "output_type": "stream",
     "text": [
      "\u001b[H\u001b[2J"
     ]
    },
    {
     "name": "stderr",
     "output_type": "stream",
     "text": [
      "Previous HEAD position was 9e0af13 Make express-minify optional when isDev\n",
      "HEAD is now at e91a721 Update some deps\n"
     ]
    },
    {
     "name": "stdout",
     "output_type": "stream",
     "text": [
      "\u001b[H\u001b[2J"
     ]
    },
    {
     "name": "stderr",
     "output_type": "stream",
     "text": [
      "Previous HEAD position was e91a721 Update some deps\n",
      "HEAD is now at 899eafd Restore broken *express-minify* ability to minify everything\n"
     ]
    },
    {
     "name": "stdout",
     "output_type": "stream",
     "text": [
      "\u001b[H\u001b[2J"
     ]
    },
    {
     "name": "stderr",
     "output_type": "stream",
     "text": [
      "Previous HEAD position was 899eafd Restore broken *express-minify* ability to minify everything\n",
      "HEAD is now at 8864fcc Update CONTRIBUTING.md\n"
     ]
    },
    {
     "name": "stdout",
     "output_type": "stream",
     "text": [
      "\u001b[H\u001b[2J\u001b[H\u001b[2J"
     ]
    },
    {
     "name": "stderr",
     "output_type": "stream",
     "text": [
      "Previous HEAD position was 8864fcc Update CONTRIBUTING.md\n",
      "HEAD is now at e05570b Fix operator precedence\n",
      "Previous HEAD position was e05570b Fix operator precedence\n",
      "HEAD is now at aacf06f Disable install count views for raw sources\n",
      "Previous HEAD position was aacf06f Disable install count views for raw sources\n",
      "HEAD is now at 517fef3 Change to different option variable for both to avoid some confusion\n"
     ]
    },
    {
     "name": "stdout",
     "output_type": "stream",
     "text": [
      "\u001b[H\u001b[2J\u001b[H\u001b[2J"
     ]
    },
    {
     "name": "stderr",
     "output_type": "stream",
     "text": [
      "Previous HEAD position was 517fef3 Change to different option variable for both to avoid some confusion\n",
      "HEAD is now at 73a52ca Catch mixed script lists under author script lists\n",
      "Previous HEAD position was 73a52ca Catch mixed script lists under author script lists\n",
      "HEAD is now at 1db6c60 Remove redundant mustache test\n"
     ]
    },
    {
     "name": "stdout",
     "output_type": "stream",
     "text": [
      "\u001b[H\u001b[2J\u001b[H\u001b[2J"
     ]
    },
    {
     "name": "stderr",
     "output_type": "stream",
     "text": [
      "Previous HEAD position was 1db6c60 Remove redundant mustache test\n",
      "HEAD is now at 41a0808 Refixes PR#439 by removing the `&library=true` from sorting urls on installs column. Fixes #357\n"
     ]
    },
    {
     "name": "stdout",
     "output_type": "stream",
     "text": [
      "\u001b[H\u001b[2J"
     ]
    },
    {
     "name": "stderr",
     "output_type": "stream",
     "text": [
      "Previous HEAD position was 41a0808 Refixes PR#439 by removing the `&library=true` from sorting urls on installs column. Fixes #357\n",
      "HEAD is now at 73c5217 Better forum layout according to browser size;\n"
     ]
    },
    {
     "name": "stdout",
     "output_type": "stream",
     "text": [
      "\u001b[H\u001b[2J"
     ]
    },
    {
     "name": "stderr",
     "output_type": "stream",
     "text": [
      "Previous HEAD position was 73c5217 Better forum layout according to browser size;\n",
      "HEAD is now at 254cd79 Make Dev node engine Dep Match Current Pro\n"
     ]
    },
    {
     "name": "stdout",
     "output_type": "stream",
     "text": [
      "\u001b[H\u001b[2J"
     ]
    },
    {
     "name": "stderr",
     "output_type": "stream",
     "text": [
      "Previous HEAD position was 254cd79 Make Dev node engine Dep Match Current Pro\n",
      "HEAD is now at d9ecd0d Added new category 'Issues' in forum;\n"
     ]
    },
    {
     "name": "stdout",
     "output_type": "stream",
     "text": [
      "\u001b[H\u001b[2J"
     ]
    },
    {
     "name": "stderr",
     "output_type": "stream",
     "text": [
      "Previous HEAD position was d9ecd0d Added new category 'Issues' in forum;\n",
      "HEAD is now at d387270 Removed all discussions with category issue from main forum;\n"
     ]
    },
    {
     "name": "stdout",
     "output_type": "stream",
     "text": [
      "\u001b[H\u001b[2J"
     ]
    },
    {
     "name": "stderr",
     "output_type": "stream",
     "text": [
      "Previous HEAD position was d387270 Removed all discussions with category issue from main forum;\n",
      "HEAD is now at 4f6e95c Update CONTRIBUTING.md\n",
      "Previous HEAD position was 4f6e95c Update CONTRIBUTING.md\n",
      "HEAD is now at f7e0f9f Update CONTRIBUTING.md\n"
     ]
    },
    {
     "name": "stdout",
     "output_type": "stream",
     "text": [
      "\u001b[H\u001b[2J\u001b[H\u001b[2J"
     ]
    },
    {
     "name": "stderr",
     "output_type": "stream",
     "text": [
      "Previous HEAD position was f7e0f9f Update CONTRIBUTING.md\n",
      "HEAD is now at 7a2795f Update CONTRIBUTING.md\n",
      "Previous HEAD position was 7a2795f Update CONTRIBUTING.md\n",
      "HEAD is now at 8b98c7f Update CONTRIBUTING.md\n"
     ]
    },
    {
     "name": "stdout",
     "output_type": "stream",
     "text": [
      "\u001b[H\u001b[2J\u001b[H\u001b[2J"
     ]
    },
    {
     "name": "stderr",
     "output_type": "stream",
     "text": [
      "Previous HEAD position was 8b98c7f Update CONTRIBUTING.md\n",
      "HEAD is now at 2e8ea28 Update Terms-of-Service.md\n",
      "Previous HEAD position was 2e8ea28 Update Terms-of-Service.md\n",
      "HEAD is now at 1350db7 Update Terms-of-Service.md\n"
     ]
    },
    {
     "name": "stdout",
     "output_type": "stream",
     "text": [
      "\u001b[H\u001b[2J\u001b[H\u001b[2J"
     ]
    },
    {
     "name": "stderr",
     "output_type": "stream",
     "text": [
      "Previous HEAD position was 1350db7 Update Terms-of-Service.md\n",
      "HEAD is now at 131a2b2 Update CONTRIBUTING.md\n"
     ]
    },
    {
     "name": "stdout",
     "output_type": "stream",
     "text": [
      "\u001b[H\u001b[2J"
     ]
    },
    {
     "name": "stderr",
     "output_type": "stream",
     "text": [
      "Previous HEAD position was 131a2b2 Update CONTRIBUTING.md\n",
      "HEAD is now at 81a25be Added new category 'All Discussions' in forum;\n",
      "Previous HEAD position was 81a25be Added new category 'All Discussions' in forum;\n"
     ]
    },
    {
     "name": "stdout",
     "output_type": "stream",
     "text": [
      "\u001b[H\u001b[2J\u001b[H\u001b[2J"
     ]
    },
    {
     "name": "stderr",
     "output_type": "stream",
     "text": [
      "HEAD is now at 00f6062 Moved unknown/issue category to modelParser;\n",
      "Previous HEAD position was 00f6062 Moved unknown/issue category to modelParser;\n",
      "HEAD is now at 089c106 Fix Group Rating sort not working; Fixes #374\n"
     ]
    },
    {
     "name": "stdout",
     "output_type": "stream",
     "text": [
      "\u001b[H\u001b[2J"
     ]
    },
    {
     "name": "stderr",
     "output_type": "stream",
     "text": [
      "Previous HEAD position was 089c106 Fix Group Rating sort not working; Fixes #374\n",
      "HEAD is now at ac2587e Added Closed Issue Listing Label; Fixes #388\n",
      "Previous HEAD position was ac2587e Added Closed Issue Listing Label; Fixes #388\n",
      "HEAD is now at 8890b68 STYLEGUIDE fix;\n"
     ]
    },
    {
     "name": "stdout",
     "output_type": "stream",
     "text": [
      "\u001b[H\u001b[2J\u001b[H\u001b[2J"
     ]
    },
    {
     "name": "stderr",
     "output_type": "stream",
     "text": [
      "Previous HEAD position was 8890b68 STYLEGUIDE fix;\n",
      "HEAD is now at 32a20a7 Add option in Admin group to view current deployed `./package.json`\n"
     ]
    },
    {
     "name": "stdout",
     "output_type": "stream",
     "text": [
      "\u001b[H\u001b[2J"
     ]
    },
    {
     "name": "stderr",
     "output_type": "stream",
     "text": [
      "Previous HEAD position was 32a20a7 Add option in Admin group to view current deployed `./package.json`\n",
      "HEAD is now at 809cae8 Update README.md\n"
     ]
    },
    {
     "name": "stdout",
     "output_type": "stream",
     "text": [
      "\u001b[H\u001b[2J"
     ]
    },
    {
     "name": "stderr",
     "output_type": "stream",
     "text": [
      "Previous HEAD position was 809cae8 Update README.md\n",
      "HEAD is now at 76c5977 Lazy load script/lib icons\n"
     ]
    },
    {
     "name": "stdout",
     "output_type": "stream",
     "text": [
      "\u001b[H\u001b[2J\u001b[H\u001b[2J"
     ]
    },
    {
     "name": "stderr",
     "output_type": "stream",
     "text": [
      "Previous HEAD position was 76c5977 Lazy load script/lib icons\n",
      "HEAD is now at 4bbad90 Small adjustment to make it even less blocking;\n",
      "Previous HEAD position was 4bbad90 Small adjustment to make it even less blocking;\n",
      "HEAD is now at 837b4b6 Disable reply buttons for guests. Fixes #326\n"
     ]
    },
    {
     "name": "stdout",
     "output_type": "stream",
     "text": [
      "\u001b[H\u001b[2J"
     ]
    },
    {
     "name": "stderr",
     "output_type": "stream",
     "text": [
      "Previous HEAD position was 837b4b6 Disable reply buttons for guests. Fixes #326\n",
      "HEAD is now at dc9cc68 Fix missing icons;\n"
     ]
    },
    {
     "name": "stdout",
     "output_type": "stream",
     "text": [
      "\u001b[H\u001b[2J"
     ]
    },
    {
     "name": "stderr",
     "output_type": "stream",
     "text": [
      "Previous HEAD position was dc9cc68 Fix missing icons;\n",
      "HEAD is now at 261b869 Update CONTRIBUTING.md\n"
     ]
    },
    {
     "name": "stdout",
     "output_type": "stream",
     "text": [
      "\u001b[H\u001b[2J\u001b[H\u001b[2J"
     ]
    },
    {
     "name": "stderr",
     "output_type": "stream",
     "text": [
      "Previous HEAD position was 261b869 Update CONTRIBUTING.md\n",
      "HEAD is now at 1ab8535 Update CONTRIBUTING.md\n",
      "Previous HEAD position was 1ab8535 Update CONTRIBUTING.md\n",
      "HEAD is now at 5e74177 Fix one of nodejitsu's deploy failure by failing to follow semver\n"
     ]
    },
    {
     "name": "stdout",
     "output_type": "stream",
     "text": [
      "\u001b[H\u001b[2J"
     ]
    },
    {
     "name": "stderr",
     "output_type": "stream",
     "text": [
      "Previous HEAD position was 5e74177 Fix one of nodejitsu's deploy failure by failing to follow semver\n",
      "HEAD is now at 42fa746 Resync dev to pro version with additional bump\n"
     ]
    },
    {
     "name": "stdout",
     "output_type": "stream",
     "text": [
      "\u001b[H\u001b[2J"
     ]
    },
    {
     "name": "stderr",
     "output_type": "stream",
     "text": [
      "Previous HEAD position was 42fa746 Resync dev to pro version with additional bump\n",
      "HEAD is now at 199aa96 Add logic to return to original url after logged in;\n"
     ]
    },
    {
     "name": "stdout",
     "output_type": "stream",
     "text": [
      "\u001b[H\u001b[2J"
     ]
    },
    {
     "name": "stderr",
     "output_type": "stream",
     "text": [
      "Previous HEAD position was 199aa96 Add logic to return to original url after logged in;\n",
      "HEAD is now at 7bb2941 Removed all authed user checks where validateUser is added in routes;\n"
     ]
    },
    {
     "name": "stdout",
     "output_type": "stream",
     "text": [
      "\u001b[H\u001b[2J"
     ]
    },
    {
     "name": "stderr",
     "output_type": "stream",
     "text": [
      "Previous HEAD position was 7bb2941 Removed all authed user checks where validateUser is added in routes;\n",
      "HEAD is now at 2a6e634 Use the same variable for authed user;\n"
     ]
    },
    {
     "name": "stdout",
     "output_type": "stream",
     "text": [
      "\u001b[H\u001b[2J"
     ]
    },
    {
     "name": "stderr",
     "output_type": "stream",
     "text": [
      "Previous HEAD position was 2a6e634 Use the same variable for authed user;\n",
      "HEAD is now at 2e44fa9 Fixes switching form of authentication not returning 404;\n"
     ]
    },
    {
     "name": "stdout",
     "output_type": "stream",
     "text": [
      "\u001b[H\u001b[2J"
     ]
    },
    {
     "name": "stderr",
     "output_type": "stream",
     "text": [
      "Previous HEAD position was 2e44fa9 Fixes switching form of authentication not returning 404;\n",
      "HEAD is now at ba7c0c0 Some JSHint fixes;\n"
     ]
    },
    {
     "name": "stdout",
     "output_type": "stream",
     "text": [
      "\u001b[H\u001b[2J"
     ]
    },
    {
     "name": "stderr",
     "output_type": "stream",
     "text": [
      "Previous HEAD position was ba7c0c0 Some JSHint fixes;\n",
      "HEAD is now at 94c0395 Fixed issue UTF-8 without BOM;\n"
     ]
    },
    {
     "name": "stdout",
     "output_type": "stream",
     "text": [
      "\u001b[H\u001b[2J"
     ]
    },
    {
     "name": "stderr",
     "output_type": "stream",
     "text": [
      "Previous HEAD position was 94c0395 Fixed issue UTF-8 without BOM;\n",
      "HEAD is now at dfb3dfc Removed Ambiguous comment;\n"
     ]
    },
    {
     "name": "stdout",
     "output_type": "stream",
     "text": [
      "\u001b[H\u001b[2J"
     ]
    },
    {
     "name": "stderr",
     "output_type": "stream",
     "text": [
      "Previous HEAD position was dfb3dfc Removed Ambiguous comment;\n",
      "HEAD is now at 7075f40 Added user stats panel;\n"
     ]
    },
    {
     "name": "stdout",
     "output_type": "stream",
     "text": [
      "\u001b[H\u001b[2J\u001b[H\u001b[2J"
     ]
    },
    {
     "name": "stderr",
     "output_type": "stream",
     "text": [
      "Previous HEAD position was 7075f40 Added user stats panel;\n",
      "HEAD is now at be6813e Added user stats panel;\n",
      "Previous HEAD position was be6813e Added user stats panel;\n",
      "HEAD is now at 207e147 Revert all `user._id === user._id` changes;\n"
     ]
    },
    {
     "name": "stdout",
     "output_type": "stream",
     "text": [
      "\u001b[H\u001b[2J"
     ]
    },
    {
     "name": "stderr",
     "output_type": "stream",
     "text": [
      "Previous HEAD position was 207e147 Revert all `user._id === user._id` changes;\n",
      "HEAD is now at 01b588b Some dep updates\n"
     ]
    },
    {
     "name": "stdout",
     "output_type": "stream",
     "text": [
      "\u001b[H\u001b[2J"
     ]
    },
    {
     "name": "stderr",
     "output_type": "stream",
     "text": [
      "Previous HEAD position was 01b588b Some dep updates\n",
      "HEAD is now at 8922393 Conform styleguide;\n"
     ]
    },
    {
     "name": "stdout",
     "output_type": "stream",
     "text": [
      "\u001b[H\u001b[2J"
     ]
    },
    {
     "name": "stderr",
     "output_type": "stream",
     "text": [
      "Previous HEAD position was 8922393 Conform styleguide;\n",
      "HEAD is now at 59d8e54 Removed stale comments;\n"
     ]
    },
    {
     "name": "stdout",
     "output_type": "stream",
     "text": [
      "\u001b[H\u001b[2J"
     ]
    },
    {
     "name": "stderr",
     "output_type": "stream",
     "text": [
      "Previous HEAD position was 59d8e54 Removed stale comments;\n",
      "HEAD is now at baada15 Update to latest *express* 4\n"
     ]
    },
    {
     "name": "stdout",
     "output_type": "stream",
     "text": [
      "\u001b[H\u001b[2J"
     ]
    },
    {
     "name": "stderr",
     "output_type": "stream",
     "text": [
      "Previous HEAD position was baada15 Update to latest *express* 4\n",
      "HEAD is now at ea06998 Do not minify when isDbg.\n"
     ]
    },
    {
     "name": "stdout",
     "output_type": "stream",
     "text": [
      "\u001b[H\u001b[2J"
     ]
    },
    {
     "name": "stderr",
     "output_type": "stream",
     "text": [
      "Previous HEAD position was ea06998 Do not minify when isDbg.\n",
      "HEAD is now at 59a68a0 Revert all `===` comparison with db models;\n"
     ]
    },
    {
     "name": "stdout",
     "output_type": "stream",
     "text": [
      "\u001b[H\u001b[2J"
     ]
    },
    {
     "name": "stderr",
     "output_type": "stream",
     "text": [
      "Previous HEAD position was 59a68a0 Revert all `===` comparison with db models;\n",
      "HEAD is now at 71ef808 Update some line notes\n"
     ]
    },
    {
     "name": "stdout",
     "output_type": "stream",
     "text": [
      "\u001b[H\u001b[2J"
     ]
    },
    {
     "name": "stderr",
     "output_type": "stream",
     "text": [
      "Previous HEAD position was 71ef808 Update some line notes\n",
      "HEAD is now at 2c67348 Add missing debug library references\n"
     ]
    },
    {
     "name": "stdout",
     "output_type": "stream",
     "text": [
      "\u001b[H\u001b[2J"
     ]
    },
    {
     "name": "stderr",
     "output_type": "stream",
     "text": [
      "Previous HEAD position was 2c67348 Add missing debug library references\n",
      "HEAD is now at 1060fa8 Expand Avg. to Average\n"
     ]
    },
    {
     "name": "stdout",
     "output_type": "stream",
     "text": [
      "\u001b[H\u001b[2J"
     ]
    },
    {
     "name": "stderr",
     "output_type": "stream",
     "text": [
      "Previous HEAD position was 1060fa8 Expand Avg. to Average\n",
      "HEAD is now at 5c8a2f2 Auth as same rank message\n"
     ]
    },
    {
     "name": "stdout",
     "output_type": "stream",
     "text": [
      "\u001b[H\u001b[2J"
     ]
    },
    {
     "name": "stderr",
     "output_type": "stream",
     "text": [
      "Previous HEAD position was 5c8a2f2 Auth as same rank message\n",
      "HEAD is now at ebb0ad7 Add full breadcrumbs on users comments;\n",
      "Previous HEAD position was ebb0ad7 Add full breadcrumbs on users comments;\n",
      "HEAD is now at 0edc145 Corrected comment message;\n"
     ]
    },
    {
     "name": "stdout",
     "output_type": "stream",
     "text": [
      "\u001b[H\u001b[2J\u001b[H\u001b[2J"
     ]
    },
    {
     "name": "stderr",
     "output_type": "stream",
     "text": [
      "Previous HEAD position was 0edc145 Corrected comment message;\n",
      "HEAD is now at ac0c012 Some clarification of encompassing licensing.\n"
     ]
    },
    {
     "name": "stdout",
     "output_type": "stream",
     "text": [
      "\u001b[H\u001b[2J"
     ]
    },
    {
     "name": "stderr",
     "output_type": "stream",
     "text": [
      "Previous HEAD position was ac0c012 Some clarification of encompassing licensing.\n",
      "HEAD is now at a936a31 Remove big bottom margin on script description;\n"
     ]
    },
    {
     "name": "stdout",
     "output_type": "stream",
     "text": [
      "\u001b[H\u001b[2J"
     ]
    },
    {
     "name": "stderr",
     "output_type": "stream",
     "text": [
      "Previous HEAD position was a936a31 Remove big bottom margin on script description;\n",
      "HEAD is now at fad980b Add a buildmetadata placeholder in for project version\n"
     ]
    },
    {
     "name": "stdout",
     "output_type": "stream",
     "text": [
      "\u001b[H\u001b[2J"
     ]
    },
    {
     "name": "stderr",
     "output_type": "stream",
     "text": [
      "Previous HEAD position was fad980b Add a buildmetadata placeholder in for project version\n",
      "HEAD is now at 197dcd7 Update some deps\n"
     ]
    },
    {
     "name": "stdout",
     "output_type": "stream",
     "text": [
      "\u001b[H\u001b[2J"
     ]
    },
    {
     "name": "stderr",
     "output_type": "stream",
     "text": [
      "Previous HEAD position was 197dcd7 Update some deps\n",
      "HEAD is now at 5b8b56a Failure in *aws-sdk* still\n"
     ]
    },
    {
     "name": "stdout",
     "output_type": "stream",
     "text": [
      "\u001b[H\u001b[2J"
     ]
    },
    {
     "name": "stderr",
     "output_type": "stream",
     "text": [
      "Previous HEAD position was 5b8b56a Failure in *aws-sdk* still\n",
      "HEAD is now at 72c2961 Add error trap conditional\n"
     ]
    },
    {
     "name": "stdout",
     "output_type": "stream",
     "text": [
      "\u001b[H\u001b[2J"
     ]
    },
    {
     "name": "stderr",
     "output_type": "stream",
     "text": [
      "Previous HEAD position was 72c2961 Add error trap conditional\n",
      "HEAD is now at a04f9de Remove username since it's not loaded by default in this handler\n"
     ]
    },
    {
     "name": "stdout",
     "output_type": "stream",
     "text": [
      "\u001b[H\u001b[2J"
     ]
    },
    {
     "name": "stderr",
     "output_type": "stream",
     "text": [
      "Previous HEAD position was a04f9de Remove username since it's not loaded by default in this handler\n",
      "HEAD is now at e0a0345 Revert the error trap routine\n"
     ]
    },
    {
     "name": "stdout",
     "output_type": "stream",
     "text": [
      "\u001b[H\u001b[2J"
     ]
    },
    {
     "name": "stderr",
     "output_type": "stream",
     "text": [
      "Previous HEAD position was e0a0345 Revert the error trap routine\n",
      "HEAD is now at e2bca6d Graceful failure when S3 *(fake or real)* doesn't have key\n"
     ]
    },
    {
     "name": "stdout",
     "output_type": "stream",
     "text": [
      "\u001b[H\u001b[2J"
     ]
    },
    {
     "name": "stderr",
     "output_type": "stream",
     "text": [
      "Previous HEAD position was e2bca6d Graceful failure when S3 *(fake or real)* doesn't have key\n",
      "HEAD is now at 82ef58c Remember flagged state when searching on moderation pages; Fixes #181\n"
     ]
    },
    {
     "name": "stdout",
     "output_type": "stream",
     "text": [
      "\u001b[H\u001b[2J\u001b[H\u001b[2J"
     ]
    },
    {
     "name": "stderr",
     "output_type": "stream",
     "text": [
      "Previous HEAD position was 82ef58c Remember flagged state when searching on moderation pages; Fixes #181\n",
      "HEAD is now at 28fad7c Finish off #489 for searching on some moderation pages\n",
      "Previous HEAD position was 28fad7c Finish off #489 for searching on some moderation pages\n",
      "HEAD is now at 4bcc198 Change `placeholder` attribute for flagged items\n"
     ]
    },
    {
     "name": "stdout",
     "output_type": "stream",
     "text": [
      "\u001b[H\u001b[2J"
     ]
    },
    {
     "name": "stderr",
     "output_type": "stream",
     "text": [
      "Previous HEAD position was 4bcc198 Change `placeholder` attribute for flagged items\n",
      "HEAD is now at d37ad3f Force a couple of mustache options to always happen\n"
     ]
    },
    {
     "name": "stdout",
     "output_type": "stream",
     "text": [
      "\u001b[H\u001b[2J"
     ]
    },
    {
     "name": "stderr",
     "output_type": "stream",
     "text": [
      "Previous HEAD position was d37ad3f Force a couple of mustache options to always happen\n",
      "HEAD is now at b57a822 BOM stuff\n"
     ]
    },
    {
     "name": "stdout",
     "output_type": "stream",
     "text": [
      "\u001b[H\u001b[2J"
     ]
    },
    {
     "name": "stderr",
     "output_type": "stream",
     "text": [
      "Previous HEAD position was b57a822 BOM stuff\n",
      "HEAD is now at b9272ec Specify requested minimum preferred npm engine version\n"
     ]
    },
    {
     "name": "stdout",
     "output_type": "stream",
     "text": [
      "\u001b[H\u001b[2J"
     ]
    },
    {
     "name": "stderr",
     "output_type": "stream",
     "text": [
      "Previous HEAD position was b9272ec Specify requested minimum preferred npm engine version\n",
      "HEAD is now at ea6e52c Update README.md\n"
     ]
    },
    {
     "name": "stdout",
     "output_type": "stream",
     "text": [
      "\u001b[H\u001b[2J"
     ]
    },
    {
     "name": "stderr",
     "output_type": "stream",
     "text": [
      "Previous HEAD position was ea6e52c Update README.md\n",
      "HEAD is now at e3f14fa Clarify on GH importing in Docs\n"
     ]
    },
    {
     "name": "stdout",
     "output_type": "stream",
     "text": [
      "\u001b[H\u001b[2J"
     ]
    },
    {
     "name": "stderr",
     "output_type": "stream",
     "text": [
      "Previous HEAD position was e3f14fa Clarify on GH importing in Docs\n",
      "HEAD is now at 027872a Some dep updates\n"
     ]
    },
    {
     "name": "stdout",
     "output_type": "stream",
     "text": [
      "\u001b[H\u001b[2J"
     ]
    },
    {
     "name": "stderr",
     "output_type": "stream",
     "text": [
      "Previous HEAD position was 027872a Some dep updates\n",
      "HEAD is now at 985cbf7 Use jQuery listener to resize Source Code on the fly for older browsers\n"
     ]
    },
    {
     "name": "stdout",
     "output_type": "stream",
     "text": [
      "\u001b[H\u001b[2J"
     ]
    },
    {
     "name": "stderr",
     "output_type": "stream",
     "text": [
      "Previous HEAD position was 985cbf7 Use jQuery listener to resize Source Code on the fly for older browsers\n",
      "HEAD is now at b6b009d Update some deps\n"
     ]
    },
    {
     "name": "stdout",
     "output_type": "stream",
     "text": [
      "\u001b[H\u001b[2J"
     ]
    },
    {
     "name": "stderr",
     "output_type": "stream",
     "text": [
      "Previous HEAD position was b6b009d Update some deps\n",
      "HEAD is now at 536e3a8 Post #503 fix\n"
     ]
    },
    {
     "name": "stdout",
     "output_type": "stream",
     "text": [
      "\u001b[H\u001b[2J"
     ]
    },
    {
     "name": "stderr",
     "output_type": "stream",
     "text": [
      "Previous HEAD position was 536e3a8 Post #503 fix\n",
      "HEAD is now at c446eb0 Update *express* dep\n"
     ]
    },
    {
     "name": "stdout",
     "output_type": "stream",
     "text": [
      "\u001b[H\u001b[2J"
     ]
    },
    {
     "name": "stderr",
     "output_type": "stream",
     "text": [
      "Previous HEAD position was c446eb0 Update *express* dep\n",
      "HEAD is now at cc7dfa1 JSON primary name alphabetize and white space expand strategies\n"
     ]
    },
    {
     "name": "stdout",
     "output_type": "stream",
     "text": [
      "\u001b[H\u001b[2J"
     ]
    },
    {
     "name": "stderr",
     "output_type": "stream",
     "text": [
      "Previous HEAD position was cc7dfa1 JSON primary name alphabetize and white space expand strategies\n",
      "HEAD is now at a000081 Update some deps\n"
     ]
    },
    {
     "name": "stdout",
     "output_type": "stream",
     "text": [
      "\u001b[H\u001b[2J"
     ]
    },
    {
     "name": "stderr",
     "output_type": "stream",
     "text": [
      "Previous HEAD position was a000081 Update some deps\n",
      "HEAD is now at e0929ca Add missing basic modals for user/script removal\n"
     ]
    },
    {
     "name": "stdout",
     "output_type": "stream",
     "text": [
      "\u001b[H\u001b[2J"
     ]
    },
    {
     "name": "stderr",
     "output_type": "stream",
     "text": [
      "Previous HEAD position was e0929ca Add missing basic modals for user/script removal\n",
      "HEAD is now at 3a2ecd0 Support existing incompleted \"reason\" value for remove user and script\n"
     ]
    },
    {
     "name": "stdout",
     "output_type": "stream",
     "text": [
      "\u001b[H\u001b[2J"
     ]
    },
    {
     "name": "stderr",
     "output_type": "stream",
     "text": [
      "Previous HEAD position was 3a2ecd0 Support existing incompleted \"reason\" value for remove user and script\n",
      "HEAD is now at e1e3f7e Process remove with form data asynchronously\n"
     ]
    },
    {
     "name": "stdout",
     "output_type": "stream",
     "text": [
      "\u001b[H\u001b[2J"
     ]
    },
    {
     "name": "stderr",
     "output_type": "stream",
     "text": [
      "Previous HEAD position was e1e3f7e Process remove with form data asynchronously\n",
      "HEAD is now at 8be2e8d Normalize to en-US locale for \"favorite\" instead of \"favourit\"\n"
     ]
    },
    {
     "name": "stdout",
     "output_type": "stream",
     "text": [
      "\u001b[H\u001b[2J"
     ]
    },
    {
     "name": "stderr",
     "output_type": "stream",
     "text": [
      "Previous HEAD position was 8be2e8d Normalize to en-US locale for \"favorite\" instead of \"favourit\"\n",
      "HEAD is now at 3184eb2 `nofollow` on all sensitive panels links\n"
     ]
    },
    {
     "name": "stdout",
     "output_type": "stream",
     "text": [
      "\u001b[H\u001b[2J"
     ]
    },
    {
     "name": "stderr",
     "output_type": "stream",
     "text": [
      "Previous HEAD position was 3184eb2 `nofollow` on all sensitive panels links\n",
      "HEAD is now at 6f82860 Missed `nofollow`s\n"
     ]
    },
    {
     "name": "stdout",
     "output_type": "stream",
     "text": [
      "\u001b[H\u001b[2J"
     ]
    },
    {
     "name": "stderr",
     "output_type": "stream",
     "text": [
      "Previous HEAD position was 6f82860 Missed `nofollow`s\n",
      "HEAD is now at a9ebb4f Update a dep\n"
     ]
    },
    {
     "name": "stdout",
     "output_type": "stream",
     "text": [
      "\u001b[H\u001b[2J\u001b[H\u001b[2J"
     ]
    },
    {
     "name": "stderr",
     "output_type": "stream",
     "text": [
      "Previous HEAD position was a9ebb4f Update a dep\n",
      "HEAD is now at 93ec4c8 Add in a datalist for the UI for common reasons for Script and User removal\n",
      "Previous HEAD position was 93ec4c8 Add in a datalist for the UI for common reasons for Script and User removal\n",
      "HEAD is now at 25dc49f Use JSON to load options for reason for removal\n"
     ]
    },
    {
     "name": "stdout",
     "output_type": "stream",
     "text": [
      "\u001b[H\u001b[2J\u001b[H\u001b[2J"
     ]
    },
    {
     "name": "stderr",
     "output_type": "stream",
     "text": [
      "Previous HEAD position was 25dc49f Use JSON to load options for reason for removal\n",
      "HEAD is now at 3660049 Place closing `option` tag inside conditional\n",
      "Previous HEAD position was 3660049 Place closing `option` tag inside conditional\n",
      "HEAD is now at 4f86b35 Typo fix in preexisting comment\n"
     ]
    },
    {
     "name": "stdout",
     "output_type": "stream",
     "text": [
      "\u001b[H\u001b[2J\u001b[H\u001b[2J"
     ]
    },
    {
     "name": "stderr",
     "output_type": "stream",
     "text": [
      "Previous HEAD position was 4f86b35 Typo fix in preexisting comment\n",
      "HEAD is now at 77829d5 Fix another library icon in mod page\n",
      "Previous HEAD position was 77829d5 Fix another library icon in mod page\n",
      "HEAD is now at 6d08dad Missed from #249\n"
     ]
    },
    {
     "name": "stdout",
     "output_type": "stream",
     "text": [
      "\u001b[H\u001b[2J"
     ]
    },
    {
     "name": "stderr",
     "output_type": "stream",
     "text": [
      "Previous HEAD position was 6d08dad Missed from #249\n",
      "HEAD is now at dc7bf6d Limit Item in Graveyard to fixed width\n"
     ]
    },
    {
     "name": "stdout",
     "output_type": "stream",
     "text": [
      "\u001b[H\u001b[2J"
     ]
    },
    {
     "name": "stderr",
     "output_type": "stream",
     "text": [
      "Previous HEAD position was dc7bf6d Limit Item in Graveyard to fixed width\n",
      "HEAD is now at 55711c8 Linkify type column in the Graveyard to the model content\n"
     ]
    },
    {
     "name": "stdout",
     "output_type": "stream",
     "text": [
      "\u001b[H\u001b[2J"
     ]
    },
    {
     "name": "stderr",
     "output_type": "stream",
     "text": [
      "Previous HEAD position was 55711c8 Linkify type column in the Graveyard to the model content\n",
      "HEAD is now at fb267da Change the reply form height\n"
     ]
    },
    {
     "name": "stdout",
     "output_type": "stream",
     "text": [
      "\u001b[H\u001b[2J\u001b[H\u001b[2J"
     ]
    },
    {
     "name": "stderr",
     "output_type": "stream",
     "text": [
      "Previous HEAD position was fb267da Change the reply form height\n",
      "HEAD is now at ddbd0e2 Eliminate the big gap from #527 with jQuery and CSS3\n",
      "Previous HEAD position was ddbd0e2 Eliminate the big gap from #527 with jQuery and CSS3\n",
      "HEAD is now at da49b44 Fix Library require links to be protocol specific\n"
     ]
    },
    {
     "name": "stdout",
     "output_type": "stream",
     "text": [
      "\u001b[H\u001b[2J"
     ]
    },
    {
     "name": "stderr",
     "output_type": "stream",
     "text": [
      "Previous HEAD position was da49b44 Fix Library require links to be protocol specific\n",
      "HEAD is now at bc0c4d7 Remove the reply button on comments pages\n"
     ]
    },
    {
     "name": "stdout",
     "output_type": "stream",
     "text": [
      "\u001b[H\u001b[2J"
     ]
    },
    {
     "name": "stderr",
     "output_type": "stream",
     "text": [
      "Previous HEAD position was bc0c4d7 Remove the reply button on comments pages\n",
      "HEAD is now at 113f426 Add top pagination with some more symmetry in the UI\n"
     ]
    },
    {
     "name": "stdout",
     "output_type": "stream",
     "text": [
      "\u001b[H\u001b[2J"
     ]
    },
    {
     "name": "stderr",
     "output_type": "stream",
     "text": [
      "Previous HEAD position was 113f426 Add top pagination with some more symmetry in the UI\n",
      "HEAD is now at df10ef2 Refix permalinks to use static value for protocol\n"
     ]
    },
    {
     "name": "stdout",
     "output_type": "stream",
     "text": [
      "\u001b[H\u001b[2J"
     ]
    },
    {
     "name": "stderr",
     "output_type": "stream",
     "text": [
      "Previous HEAD position was df10ef2 Refix permalinks to use static value for protocol\n",
      "HEAD is now at e946670 Fix Opera Presto Cascading Tooltip\n"
     ]
    },
    {
     "name": "stdout",
     "output_type": "stream",
     "text": [
      "\u001b[H\u001b[2J"
     ]
    },
    {
     "name": "stderr",
     "output_type": "stream",
     "text": [
      "Previous HEAD position was e946670 Fix Opera Presto Cascading Tooltip\n",
      "HEAD is now at 3466961 Correct branch for updating deps\n"
     ]
    },
    {
     "name": "stdout",
     "output_type": "stream",
     "text": [
      "\u001b[H\u001b[2J"
     ]
    },
    {
     "name": "stderr",
     "output_type": "stream",
     "text": [
      "Previous HEAD position was 3466961 Correct branch for updating deps\n",
      "HEAD is now at 3af3cc4 Fix the bottom existing pagination at `/forum`\n"
     ]
    },
    {
     "name": "stdout",
     "output_type": "stream",
     "text": [
      "\u001b[H\u001b[2J"
     ]
    },
    {
     "name": "stderr",
     "output_type": "stream",
     "text": [
      "Previous HEAD position was 3af3cc4 Fix the bottom existing pagination at `/forum`\n",
      "HEAD is now at e87b67a Add a blank query pattern placeholder for All Types to Graveyard\n"
     ]
    },
    {
     "name": "stdout",
     "output_type": "stream",
     "text": [
      "\u001b[H\u001b[2J"
     ]
    },
    {
     "name": "stderr",
     "output_type": "stream",
     "text": [
      "Previous HEAD position was e87b67a Add a blank query pattern placeholder for All Types to Graveyard\n",
      "HEAD is now at c6251d4 Fix enforcing of `limit` QS fix for non-numerics in `limitRange`\n"
     ]
    },
    {
     "name": "stdout",
     "output_type": "stream",
     "text": [
      "\u001b[H\u001b[2J"
     ]
    },
    {
     "name": "stderr",
     "output_type": "stream",
     "text": [
      "Previous HEAD position was c6251d4 Fix enforcing of `limit` QS fix for non-numerics in `limitRange`\n",
      "HEAD is now at 028898f Update bootstrap dep to latest\n"
     ]
    },
    {
     "name": "stdout",
     "output_type": "stream",
     "text": [
      "\u001b[H\u001b[2J"
     ]
    },
    {
     "name": "stderr",
     "output_type": "stream",
     "text": [
      "Previous HEAD position was 028898f Update bootstrap dep to latest\n",
      "HEAD is now at 7e48498 Revert *bootstrap* dep update\n"
     ]
    },
    {
     "name": "stdout",
     "output_type": "stream",
     "text": [
      "\u001b[H\u001b[2J"
     ]
    },
    {
     "name": "stderr",
     "output_type": "stream",
     "text": [
      "Previous HEAD position was 7e48498 Revert *bootstrap* dep update\n",
      "HEAD is now at 1087e0e Use jQuery to show top pagination on scroll down then scroll up\n"
     ]
    },
    {
     "name": "stdout",
     "output_type": "stream",
     "text": [
      "\u001b[H\u001b[2J"
     ]
    },
    {
     "name": "stderr",
     "output_type": "stream",
     "text": [
      "Previous HEAD position was 1087e0e Use jQuery to show top pagination on scroll down then scroll up\n",
      "HEAD is now at f0a6594 Programmatic toggle and disable only page pagination\n"
     ]
    },
    {
     "name": "stdout",
     "output_type": "stream",
     "text": [
      "\u001b[H\u001b[2J"
     ]
    },
    {
     "name": "stderr",
     "output_type": "stream",
     "text": [
      "Previous HEAD position was f0a6594 Programmatic toggle and disable only page pagination\n",
      "HEAD is now at cd4ce67 Compile, parse, and cache *bootstrap* 3.1.1\n"
     ]
    },
    {
     "name": "stdout",
     "output_type": "stream",
     "text": [
      "\u001b[H\u001b[2J"
     ]
    },
    {
     "name": "stderr",
     "output_type": "stream",
     "text": [
      "Previous HEAD position was cd4ce67 Compile, parse, and cache *bootstrap* 3.1.1\n",
      "HEAD is now at 1239e56 Fixes for #544\n"
     ]
    },
    {
     "name": "stdout",
     "output_type": "stream",
     "text": [
      "\u001b[H\u001b[2J"
     ]
    },
    {
     "name": "stderr",
     "output_type": "stream",
     "text": [
      "Previous HEAD position was 1239e56 Fixes for #544\n",
      "HEAD is now at 3a282c6 Some dep updates\n"
     ]
    },
    {
     "name": "stdout",
     "output_type": "stream",
     "text": [
      "\u001b[H\u001b[2J"
     ]
    },
    {
     "name": "stderr",
     "output_type": "stream",
     "text": [
      "Previous HEAD position was 3a282c6 Some dep updates\n",
      "HEAD is now at 295e8b2 Update README.md\n"
     ]
    },
    {
     "name": "stdout",
     "output_type": "stream",
     "text": [
      "\u001b[H\u001b[2J"
     ]
    },
    {
     "name": "stderr",
     "output_type": "stream",
     "text": [
      "Previous HEAD position was 295e8b2 Update README.md\n",
      "HEAD is now at b17ece4 Linkify recent commentators\n"
     ]
    },
    {
     "name": "stdout",
     "output_type": "stream",
     "text": [
      "\u001b[H\u001b[2J"
     ]
    },
    {
     "name": "stderr",
     "output_type": "stream",
     "text": [
      "Previous HEAD position was b17ece4 Linkify recent commentators\n",
      "HEAD is now at 83096c5 Improve keywords a bit and add a tooltip for main site logo link\n"
     ]
    },
    {
     "name": "stdout",
     "output_type": "stream",
     "text": [
      "\u001b[H\u001b[2J"
     ]
    },
    {
     "name": "stderr",
     "output_type": "stream",
     "text": [
      "Previous HEAD position was 83096c5 Improve keywords a bit and add a tooltip for main site logo link\n",
      "HEAD is now at 5c0c021 Remove orphaned handler in user.js controller\n"
     ]
    },
    {
     "name": "stdout",
     "output_type": "stream",
     "text": [
      "\u001b[H\u001b[2J"
     ]
    },
    {
     "name": "stderr",
     "output_type": "stream",
     "text": [
      "Previous HEAD position was 5c0c021 Remove orphaned handler in user.js controller\n",
      "HEAD is now at 96ef151 Remove legacy GH batch import route\n",
      "Previous HEAD position was 96ef151 Remove legacy GH batch import route\n"
     ]
    },
    {
     "name": "stdout",
     "output_type": "stream",
     "text": [
      "\u001b[H\u001b[2J\u001b[H\u001b[2J"
     ]
    },
    {
     "name": "stderr",
     "output_type": "stream",
     "text": [
      "HEAD is now at 37928c3 Linkify OAuth and OpenID to wikipedia\n",
      "Previous HEAD position was 37928c3 Linkify OAuth and OpenID to wikipedia\n",
      "HEAD is now at 3ac0602 Auth tweaks\n"
     ]
    },
    {
     "name": "stdout",
     "output_type": "stream",
     "text": [
      "\u001b[H\u001b[2J"
     ]
    },
    {
     "name": "stderr",
     "output_type": "stream",
     "text": [
      "Previous HEAD position was 3ac0602 Auth tweaks\n",
      "HEAD is now at d7f5540 Flagging UI modifications\n",
      "Previous HEAD position was d7f5540 Flagging UI modifications\n"
     ]
    },
    {
     "name": "stdout",
     "output_type": "stream",
     "text": [
      "\u001b[H\u001b[2J\u001b[H\u001b[2J"
     ]
    },
    {
     "name": "stderr",
     "output_type": "stream",
     "text": [
      "HEAD is now at 0fc58d1 Some STYLEGUIDE.md conformance\n",
      "Previous HEAD position was 0fc58d1 Some STYLEGUIDE.md conformance\n",
      "HEAD is now at 132c57f Fix for UI not showing zero calculated threshold to moderators and above\n"
     ]
    },
    {
     "name": "stdout",
     "output_type": "stream",
     "text": [
      "\u001b[H\u001b[2J"
     ]
    },
    {
     "name": "stderr",
     "output_type": "stream",
     "text": [
      "Previous HEAD position was 132c57f Fix for UI not showing zero calculated threshold to moderators and above\n",
      "HEAD is now at b4b4eeb Use defaults for Flags and Threshold\n"
     ]
    },
    {
     "name": "stdout",
     "output_type": "stream",
     "text": [
      "\u001b[H\u001b[2J"
     ]
    },
    {
     "name": "stderr",
     "output_type": "stream",
     "text": [
      "Previous HEAD position was b4b4eeb Use defaults for Flags and Threshold\n",
      "HEAD is now at 8519f81 Some dep updates\n",
      "Previous HEAD position was 8519f81 Some dep updates\n"
     ]
    },
    {
     "name": "stdout",
     "output_type": "stream",
     "text": [
      "\u001b[H\u001b[2J\u001b[H\u001b[2J"
     ]
    },
    {
     "name": "stderr",
     "output_type": "stream",
     "text": [
      "HEAD is now at 0cb1712 Missed things\n",
      "Previous HEAD position was 0cb1712 Missed things\n",
      "HEAD is now at 3b035cd Fix OAuth API Keys update\n"
     ]
    },
    {
     "name": "stdout",
     "output_type": "stream",
     "text": [
      "\u001b[H\u001b[2J"
     ]
    },
    {
     "name": "stderr",
     "output_type": "stream",
     "text": [
      "Previous HEAD position was 3b035cd Fix OAuth API Keys update\n",
      "HEAD is now at e9764a0 Post fix for #484\n"
     ]
    },
    {
     "name": "stdout",
     "output_type": "stream",
     "text": [
      "\u001b[H\u001b[2J"
     ]
    },
    {
     "name": "stderr",
     "output_type": "stream",
     "text": [
      "Previous HEAD position was e9764a0 Post fix for #484\n",
      "HEAD is now at f24117b Some dep updates\n",
      "Previous HEAD position was f24117b Some dep updates\n",
      "HEAD is now at cf4fa8c Prevent empty spaced commenting and topics\n"
     ]
    },
    {
     "name": "stdout",
     "output_type": "stream",
     "text": [
      "\u001b[H\u001b[2J\u001b[H\u001b[2J"
     ]
    },
    {
     "name": "stderr",
     "output_type": "stream",
     "text": [
      "Previous HEAD position was cf4fa8c Prevent empty spaced commenting and topics\n",
      "HEAD is now at 0a21db6 Some dep updates\n"
     ]
    },
    {
     "name": "stdout",
     "output_type": "stream",
     "text": [
      "\u001b[H\u001b[2J"
     ]
    },
    {
     "name": "stderr",
     "output_type": "stream",
     "text": [
      "Previous HEAD position was 0a21db6 Some dep updates\n",
      "HEAD is now at 3af7fad Silently migrate from OpenID to OAuth2 authentication for Google. Closes #484.\n"
     ]
    },
    {
     "name": "stdout",
     "output_type": "stream",
     "text": [
      "\u001b[H\u001b[2J"
     ]
    },
    {
     "name": "stderr",
     "output_type": "stream",
     "text": [
      "Previous HEAD position was 3af7fad Silently migrate from OpenID to OAuth2 authentication for Google. Closes #484.\n",
      "HEAD is now at b49b2cb Fix new registration and changing default authentication method for Google using OAuth.\n"
     ]
    },
    {
     "name": "stdout",
     "output_type": "stream",
     "text": [
      "\u001b[H\u001b[2J"
     ]
    },
    {
     "name": "stderr",
     "output_type": "stream",
     "text": [
      "Previous HEAD position was b49b2cb Fix new registration and changing default authentication method for Google using OAuth.\n",
      "HEAD is now at 0cad90f Bump project version\n"
     ]
    },
    {
     "name": "stdout",
     "output_type": "stream",
     "text": [
      "\u001b[H\u001b[2J"
     ]
    },
    {
     "name": "stderr",
     "output_type": "stream",
     "text": [
      "Previous HEAD position was 0cad90f Bump project version\n",
      "HEAD is now at f8bdadb Update README.md\n"
     ]
    },
    {
     "name": "stdout",
     "output_type": "stream",
     "text": [
      "\u001b[H\u001b[2J"
     ]
    },
    {
     "name": "stderr",
     "output_type": "stream",
     "text": [
      "Previous HEAD position was f8bdadb Update README.md\n",
      "HEAD is now at 048d408 Work-around for null `_discussionId` in User comment lists\n"
     ]
    },
    {
     "name": "stdout",
     "output_type": "stream",
     "text": [
      "\u001b[H\u001b[2J"
     ]
    },
    {
     "name": "stderr",
     "output_type": "stream",
     "text": [
      "Previous HEAD position was 048d408 Work-around for null `_discussionId` in User comment lists\n",
      "HEAD is now at 63df266 Misc fixes for #484\n"
     ]
    },
    {
     "name": "stdout",
     "output_type": "stream",
     "text": [
      "\u001b[H\u001b[2J"
     ]
    },
    {
     "name": "stderr",
     "output_type": "stream",
     "text": [
      "Previous HEAD position was 63df266 Misc fixes for #484\n",
      "HEAD is now at 5ec0c3b Smaller alerts\n"
     ]
    },
    {
     "name": "stdout",
     "output_type": "stream",
     "text": [
      "\u001b[H\u001b[2J"
     ]
    },
    {
     "name": "stderr",
     "output_type": "stream",
     "text": [
      "Previous HEAD position was 5ec0c3b Smaller alerts\n",
      "HEAD is now at b48fb71 Snug up top reminders in CSS\n"
     ]
    },
    {
     "name": "stdout",
     "output_type": "stream",
     "text": [
      "\u001b[H\u001b[2J"
     ]
    },
    {
     "name": "stderr",
     "output_type": "stream",
     "text": [
      "Previous HEAD position was b48fb71 Snug up top reminders in CSS\n",
      "HEAD is now at fcdf9fe Clear reply box on hide\n"
     ]
    },
    {
     "name": "stdout",
     "output_type": "stream",
     "text": [
      "\u001b[H\u001b[2J"
     ]
    },
    {
     "name": "stderr",
     "output_type": "stream",
     "text": [
      "Previous HEAD position was fcdf9fe Clear reply box on hide\n",
      "HEAD is now at 2e13ba8 Some dep updates\n"
     ]
    },
    {
     "name": "stdout",
     "output_type": "stream",
     "text": [
      "\u001b[H\u001b[2J"
     ]
    },
    {
     "name": "stderr",
     "output_type": "stream",
     "text": [
      "Previous HEAD position was 2e13ba8 Some dep updates\n",
      "HEAD is now at 7570f13 Improve automatic highlight in *highlight.js* a bit\n"
     ]
    },
    {
     "name": "stdout",
     "output_type": "stream",
     "text": [
      "\u001b[H\u001b[2J"
     ]
    },
    {
     "name": "stderr",
     "output_type": "stream",
     "text": [
      "Previous HEAD position was 7570f13 Improve automatic highlight in *highlight.js* a bit\n",
      "HEAD is now at 27d1a20 Update README.md\n"
     ]
    },
    {
     "name": "stdout",
     "output_type": "stream",
     "text": [
      "\u001b[H\u001b[2J"
     ]
    },
    {
     "name": "stderr",
     "output_type": "stream",
     "text": [
      "Previous HEAD position was 27d1a20 Update README.md\n",
      "HEAD is now at 913953a Set a timeout for all reminders\n"
     ]
    },
    {
     "name": "stdout",
     "output_type": "stream",
     "text": [
      "\u001b[H\u001b[2J\u001b[H\u001b[2J"
     ]
    },
    {
     "name": "stderr",
     "output_type": "stream",
     "text": [
      "Previous HEAD position was 913953a Set a timeout for all reminders\n",
      "HEAD is now at 4cfdcdd Start timer on view for reminders\n",
      "Previous HEAD position was 4cfdcdd Start timer on view for reminders\n",
      "HEAD is now at 1be2605 Change event capture for reply box and reminders\n"
     ]
    },
    {
     "name": "stdout",
     "output_type": "stream",
     "text": [
      "\u001b[H\u001b[2J"
     ]
    },
    {
     "name": "stderr",
     "output_type": "stream",
     "text": [
      "Previous HEAD position was 1be2605 Change event capture for reply box and reminders\n",
      "HEAD is now at 6f7e96e Browser compatibility fix for Chromium/Chrome based browsers and Opera Presto\n"
     ]
    },
    {
     "name": "stdout",
     "output_type": "stream",
     "text": [
      "\u001b[H\u001b[2J"
     ]
    },
    {
     "name": "stderr",
     "output_type": "stream",
     "text": [
      "Previous HEAD position was 6f7e96e Browser compatibility fix for Chromium/Chrome based browsers and Opera Presto\n",
      "HEAD is now at e6d4cfb Some misc client side jQuery fixes\n"
     ]
    },
    {
     "name": "stdout",
     "output_type": "stream",
     "text": [
      "\u001b[H\u001b[2J"
     ]
    },
    {
     "name": "stderr",
     "output_type": "stream",
     "text": [
      "Previous HEAD position was e6d4cfb Some misc client side jQuery fixes\n",
      "HEAD is now at f252b39 Use short OUJS name in footer with \\*-xs-\\* modes\n"
     ]
    },
    {
     "name": "stdout",
     "output_type": "stream",
     "text": [
      "\u001b[H\u001b[2J"
     ]
    },
    {
     "name": "stderr",
     "output_type": "stream",
     "text": [
      "Previous HEAD position was f252b39 Use short OUJS name in footer with \\*-xs-\\* modes\n",
      "HEAD is now at fdcfc7a Some misc client side jQuery fixes\n"
     ]
    },
    {
     "name": "stdout",
     "output_type": "stream",
     "text": [
      "\u001b[H\u001b[2J"
     ]
    },
    {
     "name": "stderr",
     "output_type": "stream",
     "text": [
      "Previous HEAD position was fdcfc7a Some misc client side jQuery fixes\n",
      "HEAD is now at bc76cad Extend `npm install`\n"
     ]
    },
    {
     "name": "stdout",
     "output_type": "stream",
     "text": [
      "\u001b[H\u001b[2J"
     ]
    },
    {
     "name": "stderr",
     "output_type": "stream",
     "text": [
      "Previous HEAD position was bc76cad Extend `npm install`\n",
      "HEAD is now at c306891 Update CONTRIBUTING.md\n"
     ]
    },
    {
     "name": "stdout",
     "output_type": "stream",
     "text": [
      "\u001b[H\u001b[2J"
     ]
    },
    {
     "name": "stderr",
     "output_type": "stream",
     "text": [
      "Previous HEAD position was c306891 Update CONTRIBUTING.md\n",
      "HEAD is now at 88eec87 Update CONTRIBUTING.md\n"
     ]
    },
    {
     "name": "stdout",
     "output_type": "stream",
     "text": [
      "\u001b[H\u001b[2J"
     ]
    },
    {
     "name": "stderr",
     "output_type": "stream",
     "text": [
      "Previous HEAD position was 88eec87 Update CONTRIBUTING.md\n",
      "HEAD is now at a75a4de Some dep updates\n"
     ]
    },
    {
     "name": "stdout",
     "output_type": "stream",
     "text": [
      "\u001b[H\u001b[2J"
     ]
    },
    {
     "name": "stderr",
     "output_type": "stream",
     "text": [
      "Previous HEAD position was a75a4de Some dep updates\n",
      "HEAD is now at 8f23115 Export dbg and dev modes to views with mustache *(mu2)*\n"
     ]
    },
    {
     "name": "stdout",
     "output_type": "stream",
     "text": [
      "\u001b[H\u001b[2J"
     ]
    },
    {
     "name": "stderr",
     "output_type": "stream",
     "text": [
      "Previous HEAD position was 8f23115 Export dbg and dev modes to views with mustache *(mu2)*\n",
      "HEAD is now at 7f8a774 Some dep updates\n"
     ]
    },
    {
     "name": "stdout",
     "output_type": "stream",
     "text": [
      "\u001b[H\u001b[2J"
     ]
    },
    {
     "name": "stderr",
     "output_type": "stream",
     "text": [
      "Previous HEAD position was 7f8a774 Some dep updates\n",
      "HEAD is now at 12c0689 Some dep updates\n"
     ]
    },
    {
     "name": "stdout",
     "output_type": "stream",
     "text": [
      "\u001b[H\u001b[2J"
     ]
    },
    {
     "name": "stderr",
     "output_type": "stream",
     "text": [
      "Previous HEAD position was 12c0689 Some dep updates\n",
      "HEAD is now at 020fd5e Bump *less-middlware* version\n"
     ]
    },
    {
     "name": "stdout",
     "output_type": "stream",
     "text": [
      "\u001b[H\u001b[2J"
     ]
    },
    {
     "name": "stderr",
     "output_type": "stream",
     "text": [
      "Previous HEAD position was 020fd5e Bump *less-middlware* version\n",
      "HEAD is now at afeafef Update README.md\n"
     ]
    },
    {
     "name": "stdout",
     "output_type": "stream",
     "text": [
      "\u001b[H\u001b[2J"
     ]
    },
    {
     "name": "stderr",
     "output_type": "stream",
     "text": [
      "Previous HEAD position was afeafef Update README.md\n",
      "HEAD is now at 14b3487 Update *octicons* for newest build\n"
     ]
    },
    {
     "name": "stdout",
     "output_type": "stream",
     "text": [
      "\u001b[H\u001b[2J"
     ]
    },
    {
     "name": "stderr",
     "output_type": "stream",
     "text": [
      "Previous HEAD position was 14b3487 Update *octicons* for newest build\n",
      "HEAD is now at 4b016a2 Update README.md\n"
     ]
    },
    {
     "name": "stdout",
     "output_type": "stream",
     "text": [
      "\u001b[H\u001b[2J"
     ]
    },
    {
     "name": "stderr",
     "output_type": "stream",
     "text": [
      "Previous HEAD position was 4b016a2 Update README.md\n",
      "HEAD is now at fe22759 *express* update\n"
     ]
    },
    {
     "name": "stdout",
     "output_type": "stream",
     "text": [
      "\u001b[H\u001b[2J"
     ]
    },
    {
     "name": "stderr",
     "output_type": "stream",
     "text": [
      "Previous HEAD position was fe22759 *express* update\n",
      "HEAD is now at ed22c97 Fix for relative libs\n"
     ]
    },
    {
     "name": "stdout",
     "output_type": "stream",
     "text": [
      "\u001b[H\u001b[2J"
     ]
    },
    {
     "name": "stderr",
     "output_type": "stream",
     "text": [
      "Previous HEAD position was ed22c97 Fix for relative libs\n",
      "HEAD is now at c8b6c66 Some dep updates\n"
     ]
    },
    {
     "name": "stdout",
     "output_type": "stream",
     "text": [
      "\u001b[H\u001b[2J"
     ]
    },
    {
     "name": "stderr",
     "output_type": "stream",
     "text": [
      "Previous HEAD position was c8b6c66 Some dep updates\n",
      "HEAD is now at b52335a Some dep updates\n"
     ]
    },
    {
     "name": "stdout",
     "output_type": "stream",
     "text": [
      "\u001b[H\u001b[2J"
     ]
    },
    {
     "name": "stderr",
     "output_type": "stream",
     "text": [
      "Previous HEAD position was b52335a Some dep updates\n",
      "HEAD is now at 72ac190 Update README.md\n"
     ]
    },
    {
     "name": "stdout",
     "output_type": "stream",
     "text": [
      "\u001b[H\u001b[2J"
     ]
    },
    {
     "name": "stderr",
     "output_type": "stream",
     "text": [
      "Previous HEAD position was 72ac190 Update README.md\n",
      "HEAD is now at 8888b21 Ace dep update\n"
     ]
    },
    {
     "name": "stdout",
     "output_type": "stream",
     "text": [
      "\u001b[H\u001b[2J"
     ]
    },
    {
     "name": "stderr",
     "output_type": "stream",
     "text": [
      "Previous HEAD position was 8888b21 Ace dep update\n",
      "HEAD is now at 1ad4b90 Update README.md\n"
     ]
    },
    {
     "name": "stdout",
     "output_type": "stream",
     "text": [
      "\u001b[H\u001b[2J"
     ]
    },
    {
     "name": "stderr",
     "output_type": "stream",
     "text": [
      "Previous HEAD position was 1ad4b90 Update README.md\n",
      "HEAD is now at d4b6d6a Add GMP doc support\n"
     ]
    },
    {
     "name": "stdout",
     "output_type": "stream",
     "text": [
      "\u001b[H\u001b[2J"
     ]
    },
    {
     "name": "stderr",
     "output_type": "stream",
     "text": [
      "Previous HEAD position was d4b6d6a Add GMP doc support\n",
      "HEAD is now at 6c77359 Typo for GMP title\n"
     ]
    },
    {
     "name": "stdout",
     "output_type": "stream",
     "text": [
      "\u001b[H\u001b[2J"
     ]
    },
    {
     "name": "stderr",
     "output_type": "stream",
     "text": [
      "Previous HEAD position was 6c77359 Typo for GMP title\n",
      "HEAD is now at 28ce24f Add SM info to Docs\n"
     ]
    },
    {
     "name": "stdout",
     "output_type": "stream",
     "text": [
      "\u001b[H\u001b[2J"
     ]
    },
    {
     "name": "stderr",
     "output_type": "stream",
     "text": [
      "Previous HEAD position was 28ce24f Add SM info to Docs\n",
      "HEAD is now at 64c98f6 Update main index DOC\n"
     ]
    },
    {
     "name": "stdout",
     "output_type": "stream",
     "text": [
      "\u001b[H\u001b[2J"
     ]
    },
    {
     "name": "stderr",
     "output_type": "stream",
     "text": [
      "Previous HEAD position was 64c98f6 Update main index DOC\n",
      "HEAD is now at 14db6a2 Update README.md\n"
     ]
    },
    {
     "name": "stdout",
     "output_type": "stream",
     "text": [
      "\u001b[H\u001b[2J"
     ]
    },
    {
     "name": "stderr",
     "output_type": "stream",
     "text": [
      "Previous HEAD position was 14db6a2 Update README.md\n",
      "HEAD is now at 4e50b21 Hide the Google OAuth migration reminder for logged-in users that don't use Google for authentication.\n"
     ]
    },
    {
     "name": "stdout",
     "output_type": "stream",
     "text": [
      "\u001b[H\u001b[2J"
     ]
    },
    {
     "name": "stderr",
     "output_type": "stream",
     "text": [
      "Previous HEAD position was 4e50b21 Hide the Google OAuth migration reminder for logged-in users that don't use Google for authentication.\n",
      "HEAD is now at 3c68bd7 Actually the project and the site started in 2013. You could login and import scripts from GitHub in November of that year. I won't bother deploying this tiny change by itself.\n"
     ]
    },
    {
     "name": "stdout",
     "output_type": "stream",
     "text": [
      "\u001b[H\u001b[2J"
     ]
    },
    {
     "name": "stderr",
     "output_type": "stream",
     "text": [
      "Previous HEAD position was 3c68bd7 Actually the project and the site started in 2013. You could login and import scripts from GitHub in November of that year. I won't bother deploying this tiny change by itself.\n",
      "HEAD is now at 5347af4 Some dep updates\n"
     ]
    },
    {
     "name": "stdout",
     "output_type": "stream",
     "text": [
      "\u001b[H\u001b[2J"
     ]
    },
    {
     "name": "stderr",
     "output_type": "stream",
     "text": [
      "Previous HEAD position was 5347af4 Some dep updates\n",
      "HEAD is now at aa6aa75 Redirect the user to their previous page after login/logout.\n"
     ]
    },
    {
     "name": "stdout",
     "output_type": "stream",
     "text": [
      "\u001b[H\u001b[2J"
     ]
    },
    {
     "name": "stderr",
     "output_type": "stream",
     "text": [
      "Previous HEAD position was aa6aa75 Redirect the user to their previous page after login/logout.\n",
      "HEAD is now at ebcd569 Remove dead code.\n"
     ]
    },
    {
     "name": "stdout",
     "output_type": "stream",
     "text": [
      "\u001b[H\u001b[2J"
     ]
    },
    {
     "name": "stderr",
     "output_type": "stream",
     "text": [
      "Previous HEAD position was ebcd569 Remove dead code.\n",
      "HEAD is now at ac71cf9 Remove pointless log message.\n"
     ]
    },
    {
     "name": "stdout",
     "output_type": "stream",
     "text": [
      "\u001b[H\u001b[2J"
     ]
    },
    {
     "name": "stderr",
     "output_type": "stream",
     "text": [
      "Previous HEAD position was ac71cf9 Remove pointless log message.\n",
      "HEAD is now at aca5029 Some dep updates\n"
     ]
    },
    {
     "name": "stdout",
     "output_type": "stream",
     "text": [
      "\u001b[H\u001b[2J"
     ]
    },
    {
     "name": "stderr",
     "output_type": "stream",
     "text": [
      "Previous HEAD position was aca5029 Some dep updates\n",
      "HEAD is now at 2f184c8 Temporary patch for #604. Don't create session records for source and meta requests by intercepting them before the session middleware is used.\n"
     ]
    },
    {
     "name": "stdout",
     "output_type": "stream",
     "text": [
      "\u001b[H\u001b[2J"
     ]
    },
    {
     "name": "stderr",
     "output_type": "stream",
     "text": [
      "Previous HEAD position was 2f184c8 Temporary patch for #604. Don't create session records for source and meta requests by intercepting them before the session middleware is used.\n",
      "HEAD is now at 55ce07d Custom error handler doesn't work. Just continue as usual if an error is encountered.\n"
     ]
    },
    {
     "name": "stdout",
     "output_type": "stream",
     "text": [
      "\u001b[H\u001b[2J"
     ]
    },
    {
     "name": "stderr",
     "output_type": "stream",
     "text": [
      "Previous HEAD position was 55ce07d Custom error handler doesn't work. Just continue as usual if an error is encountered.\n",
      "HEAD is now at 36a935f Change session settings to store less in the session store. Closes #604.\n"
     ]
    },
    {
     "name": "stdout",
     "output_type": "stream",
     "text": [
      "\u001b[H\u001b[2J"
     ]
    },
    {
     "name": "stderr",
     "output_type": "stream",
     "text": [
      "Previous HEAD position was 36a935f Change session settings to store less in the session store. Closes #604.\n",
      "HEAD is now at fb7e4b5 Repair some passport strategies by intializing the session data during authentication.\n"
     ]
    },
    {
     "name": "stdout",
     "output_type": "stream",
     "text": [
      "\u001b[H\u001b[2J"
     ]
    },
    {
     "name": "stderr",
     "output_type": "stream",
     "text": [
      "Previous HEAD position was fb7e4b5 Repair some passport strategies by intializing the session data during authentication.\n",
      "HEAD is now at 5a62b66 Prevent endless authentication loops.\n"
     ]
    },
    {
     "name": "stdout",
     "output_type": "stream",
     "text": [
      "\u001b[H\u001b[2J"
     ]
    },
    {
     "name": "stderr",
     "output_type": "stream",
     "text": [
      "Previous HEAD position was 5a62b66 Prevent endless authentication loops.\n",
      "HEAD is now at d2a8b62 Don't store the redirect url in the session until authentication has started.\n"
     ]
    },
    {
     "name": "stdout",
     "output_type": "stream",
     "text": [
      "\u001b[H\u001b[2J"
     ]
    },
    {
     "name": "stderr",
     "output_type": "stream",
     "text": [
      "Previous HEAD position was d2a8b62 Don't store the redirect url in the session until authentication has started.\n",
      "HEAD is now at 87810d3 Fix changing/adding auth strategies for existing accounts.\n"
     ]
    },
    {
     "name": "stdout",
     "output_type": "stream",
     "text": [
      "\u001b[H\u001b[2J"
     ]
    },
    {
     "name": "stderr",
     "output_type": "stream",
     "text": [
      "Previous HEAD position was 87810d3 Fix changing/adding auth strategies for existing accounts.\n",
      "HEAD is now at fe5bdb2 Minor change.\n"
     ]
    },
    {
     "name": "stdout",
     "output_type": "stream",
     "text": [
      "\u001b[H\u001b[2J"
     ]
    },
    {
     "name": "stderr",
     "output_type": "stream",
     "text": [
      "Previous HEAD position was fe5bdb2 Minor change.\n",
      "HEAD is now at 38c79cf Fix auth things some more.\n"
     ]
    },
    {
     "name": "stdout",
     "output_type": "stream",
     "text": [
      "\u001b[H\u001b[2J"
     ]
    },
    {
     "name": "stderr",
     "output_type": "stream",
     "text": [
      "Previous HEAD position was 38c79cf Fix auth things some more.\n",
      "HEAD is now at 300da24 Some dep updates\n"
     ]
    },
    {
     "name": "stdout",
     "output_type": "stream",
     "text": [
      "\u001b[H\u001b[2J"
     ]
    },
    {
     "name": "stderr",
     "output_type": "stream",
     "text": [
      "Previous HEAD position was 300da24 Some dep updates\n",
      "HEAD is now at 6128c4f FB passport update\n"
     ]
    },
    {
     "name": "stdout",
     "output_type": "stream",
     "text": [
      "\u001b[H\u001b[2J"
     ]
    },
    {
     "name": "stderr",
     "output_type": "stream",
     "text": [
      "Previous HEAD position was 6128c4f FB passport update\n",
      "HEAD is now at 6098647 Fix project version from deploy routine\n"
     ]
    },
    {
     "name": "stdout",
     "output_type": "stream",
     "text": [
      "\u001b[H\u001b[2J"
     ]
    },
    {
     "name": "stderr",
     "output_type": "stream",
     "text": [
      "Previous HEAD position was 6098647 Fix project version from deploy routine\n",
      "HEAD is now at fc190cb Try *passport-google-oauth* dep update\n"
     ]
    },
    {
     "name": "stdout",
     "output_type": "stream",
     "text": [
      "\u001b[H\u001b[2J"
     ]
    },
    {
     "name": "stderr",
     "output_type": "stream",
     "text": [
      "Previous HEAD position was fc190cb Try *passport-google-oauth* dep update\n",
      "HEAD is now at b300317 Update deprecated Google classic/standard auth scope to use Google+ scope\n"
     ]
    },
    {
     "name": "stdout",
     "output_type": "stream",
     "text": [
      "\u001b[H\u001b[2J"
     ]
    },
    {
     "name": "stderr",
     "output_type": "stream",
     "text": [
      "Previous HEAD position was b300317 Update deprecated Google classic/standard auth scope to use Google+ scope\n",
      "HEAD is now at ee942cf Some dep updates\n"
     ]
    },
    {
     "name": "stdout",
     "output_type": "stream",
     "text": [
      "\u001b[H\u001b[2J"
     ]
    },
    {
     "name": "stderr",
     "output_type": "stream",
     "text": [
      "Previous HEAD position was ee942cf Some dep updates\n",
      "HEAD is now at c90cc62 Update README.md\n"
     ]
    },
    {
     "name": "stdout",
     "output_type": "stream",
     "text": [
      "\u001b[H\u001b[2J"
     ]
    },
    {
     "name": "stderr",
     "output_type": "stream",
     "text": [
      "Previous HEAD position was c90cc62 Update README.md\n",
      "HEAD is now at efe9da3 Update README.md\n"
     ]
    },
    {
     "name": "stdout",
     "output_type": "stream",
     "text": [
      "\u001b[H\u001b[2J"
     ]
    },
    {
     "name": "stderr",
     "output_type": "stream",
     "text": [
      "Previous HEAD position was efe9da3 Update README.md\n",
      "HEAD is now at 7974dbb EOL Google Auth for OpenID deprecation and migration announcement banner\n"
     ]
    },
    {
     "name": "stdout",
     "output_type": "stream",
     "text": [
      "\u001b[H\u001b[2J"
     ]
    },
    {
     "name": "stderr",
     "output_type": "stream",
     "text": [
      "Previous HEAD position was 7974dbb EOL Google Auth for OpenID deprecation and migration announcement banner\n",
      "HEAD is now at 769237c Some dep updates\n"
     ]
    },
    {
     "name": "stdout",
     "output_type": "stream",
     "text": [
      "\u001b[H\u001b[2J"
     ]
    },
    {
     "name": "stderr",
     "output_type": "stream",
     "text": [
      "Previous HEAD position was 769237c Some dep updates\n",
      "HEAD is now at c080045 Add \"All\" filter to script issues\n"
     ]
    },
    {
     "name": "stdout",
     "output_type": "stream",
     "text": [
      "\u001b[H\u001b[2J"
     ]
    },
    {
     "name": "stderr",
     "output_type": "stream",
     "text": [
      "Previous HEAD position was c080045 Add \"All\" filter to script issues\n",
      "HEAD is now at 1fc5204 Some dep updates\n"
     ]
    },
    {
     "name": "stdout",
     "output_type": "stream",
     "text": [
      "\u001b[H\u001b[2J"
     ]
    },
    {
     "name": "stderr",
     "output_type": "stream",
     "text": [
      "Previous HEAD position was 1fc5204 Some dep updates\n",
      "HEAD is now at 79d1c67 Update README.md\n"
     ]
    },
    {
     "name": "stdout",
     "output_type": "stream",
     "text": [
      "\u001b[H\u001b[2J"
     ]
    },
    {
     "name": "stderr",
     "output_type": "stream",
     "text": [
      "Previous HEAD position was 79d1c67 Update README.md\n",
      "HEAD is now at efc78c4 Fix title for type of issues visible\n"
     ]
    },
    {
     "name": "stdout",
     "output_type": "stream",
     "text": [
      "\u001b[H\u001b[2J"
     ]
    },
    {
     "name": "stderr",
     "output_type": "stream",
     "text": [
      "Previous HEAD position was efc78c4 Fix title for type of issues visible\n",
      "HEAD is now at 82342eb Try for *aws-sdk-js* update\n"
     ]
    },
    {
     "name": "stdout",
     "output_type": "stream",
     "text": [
      "\u001b[H\u001b[2J"
     ]
    },
    {
     "name": "stderr",
     "output_type": "stream",
     "text": [
      "Previous HEAD position was 82342eb Try for *aws-sdk-js* update\n",
      "HEAD is now at 624873d Move and duplicate Raw Source button to Source Code pages\n"
     ]
    },
    {
     "name": "stdout",
     "output_type": "stream",
     "text": [
      "\u001b[H\u001b[2J"
     ]
    },
    {
     "name": "stderr",
     "output_type": "stream",
     "text": [
      "Previous HEAD position was 624873d Move and duplicate Raw Source button to Source Code pages\n",
      "HEAD is now at 58c3ecc Some dep updates\n"
     ]
    },
    {
     "name": "stdout",
     "output_type": "stream",
     "text": [
      "\u001b[H\u001b[2J"
     ]
    },
    {
     "name": "stderr",
     "output_type": "stream",
     "text": [
      "Previous HEAD position was 58c3ecc Some dep updates\n",
      "HEAD is now at 42aa3e3 Fix missing protocol for *fakeS3* which is needed for *node* v0.12.x\n"
     ]
    },
    {
     "name": "stdout",
     "output_type": "stream",
     "text": [
      "\u001b[H\u001b[2J"
     ]
    },
    {
     "name": "stderr",
     "output_type": "stream",
     "text": [
      "Previous HEAD position was 42aa3e3 Fix missing protocol for *fakeS3* which is needed for *node* v0.12.x\n",
      "HEAD is now at d7492c4 Linkify OSI reference for Public Domain type licenses\n"
     ]
    },
    {
     "name": "stdout",
     "output_type": "stream",
     "text": [
      "\u001b[H\u001b[2J"
     ]
    },
    {
     "name": "stderr",
     "output_type": "stream",
     "text": [
      "Previous HEAD position was d7492c4 Linkify OSI reference for Public Domain type licenses\n",
      "HEAD is now at 761c382 Some dep updates\n"
     ]
    },
    {
     "name": "stdout",
     "output_type": "stream",
     "text": [
      "\u001b[H\u001b[2J"
     ]
    },
    {
     "name": "stderr",
     "output_type": "stream",
     "text": [
      "Previous HEAD position was 761c382 Some dep updates\n",
      "HEAD is now at 23aae97 Downgrade *express-minify*\n"
     ]
    },
    {
     "name": "stdout",
     "output_type": "stream",
     "text": [
      "\u001b[H\u001b[2J"
     ]
    },
    {
     "name": "stderr",
     "output_type": "stream",
     "text": [
      "Previous HEAD position was 23aae97 Downgrade *express-minify*\n",
      "HEAD is now at f851e85 Resync with nodejitsu on versioning\n"
     ]
    },
    {
     "name": "stdout",
     "output_type": "stream",
     "text": [
      "\u001b[H\u001b[2J"
     ]
    },
    {
     "name": "stderr",
     "output_type": "stream",
     "text": [
      "Previous HEAD position was f851e85 Resync with nodejitsu on versioning\n",
      "HEAD is now at fdf72f4 Handle ssl manually for the new host.\n"
     ]
    },
    {
     "name": "stdout",
     "output_type": "stream",
     "text": [
      "\u001b[H\u001b[2J"
     ]
    },
    {
     "name": "stderr",
     "output_type": "stream",
     "text": [
      "Previous HEAD position was fdf72f4 Handle ssl manually for the new host.\n",
      "HEAD is now at c55539a Typo\n"
     ]
    },
    {
     "name": "stdout",
     "output_type": "stream",
     "text": [
      "\u001b[H\u001b[2J"
     ]
    },
    {
     "name": "stderr",
     "output_type": "stream",
     "text": [
      "Previous HEAD position was c55539a Typo\n",
      "HEAD is now at 5ff3a68 Typo\n"
     ]
    },
    {
     "name": "stdout",
     "output_type": "stream",
     "text": [
      "\u001b[H\u001b[2J"
     ]
    },
    {
     "name": "stderr",
     "output_type": "stream",
     "text": [
      "Previous HEAD position was 5ff3a68 Typo\n",
      "HEAD is now at 8e81c42 No more nodejitsu forward headers.\n"
     ]
    },
    {
     "name": "stdout",
     "output_type": "stream",
     "text": [
      "\u001b[H\u001b[2J"
     ]
    },
    {
     "name": "stderr",
     "output_type": "stream",
     "text": [
      "Previous HEAD position was 8e81c42 No more nodejitsu forward headers.\n",
      "HEAD is now at 3c5ff3f Secure port enviroment variable.\n"
     ]
    },
    {
     "name": "stdout",
     "output_type": "stream",
     "text": [
      "\u001b[H\u001b[2J"
     ]
    },
    {
     "name": "stderr",
     "output_type": "stream",
     "text": [
      "Previous HEAD position was 3c5ff3f Secure port enviroment variable.\n",
      "HEAD is now at a08304f Add branch and tree to About route\n"
     ]
    },
    {
     "name": "stdout",
     "output_type": "stream",
     "text": [
      "\u001b[H\u001b[2J"
     ]
    },
    {
     "name": "stderr",
     "output_type": "stream",
     "text": [
      "Previous HEAD position was a08304f Add branch and tree to About route\n",
      "HEAD is now at e95d824 Add newest dep to our README.md\n"
     ]
    },
    {
     "name": "stdout",
     "output_type": "stream",
     "text": [
      "\u001b[H\u001b[2J"
     ]
    },
    {
     "name": "stderr",
     "output_type": "stream",
     "text": [
      "Previous HEAD position was e95d824 Add newest dep to our README.md\n",
      "HEAD is now at d64f754 Move dev database for host switch\n"
     ]
    },
    {
     "name": "stdout",
     "output_type": "stream",
     "text": [
      "\u001b[H\u001b[2J"
     ]
    },
    {
     "name": "stderr",
     "output_type": "stream",
     "text": [
      "Previous HEAD position was d64f754 Move dev database for host switch\n",
      "HEAD is now at a156657 Remove discussions and comments authored by a user when that user is removed.\n"
     ]
    },
    {
     "name": "stdout",
     "output_type": "stream",
     "text": [
      "\u001b[H\u001b[2J"
     ]
    },
    {
     "name": "stderr",
     "output_type": "stream",
     "text": [
      "Previous HEAD position was a156657 Remove discussions and comments authored by a user when that user is removed.\n",
      "HEAD is now at 1a9933c Sync comment count when discussion page is view.\n"
     ]
    },
    {
     "name": "stdout",
     "output_type": "stream",
     "text": [
      "\u001b[H\u001b[2J"
     ]
    },
    {
     "name": "stderr",
     "output_type": "stream",
     "text": [
      "Previous HEAD position was 1a9933c Sync comment count when discussion page is view.\n",
      "HEAD is now at 6bbdbbc Revert changes at try for #126\n"
     ]
    },
    {
     "name": "stdout",
     "output_type": "stream",
     "text": [
      "\u001b[H\u001b[2J"
     ]
    },
    {
     "name": "stderr",
     "output_type": "stream",
     "text": [
      "Previous HEAD position was 6bbdbbc Revert changes at try for #126\n",
      "HEAD is now at 1518433 Some dep updates\n"
     ]
    },
    {
     "name": "stdout",
     "output_type": "stream",
     "text": [
      "\u001b[H\u001b[2J"
     ]
    },
    {
     "name": "stderr",
     "output_type": "stream",
     "text": [
      "Previous HEAD position was 1518433 Some dep updates\n",
      "HEAD is now at 348cad2 Update README.md\n"
     ]
    },
    {
     "name": "stdout",
     "output_type": "stream",
     "text": [
      "\u001b[H\u001b[2J"
     ]
    },
    {
     "name": "stderr",
     "output_type": "stream",
     "text": [
      "Previous HEAD position was 348cad2 Update README.md\n",
      "HEAD is now at 7a1726c Some dep updates\n"
     ]
    },
    {
     "name": "stdout",
     "output_type": "stream",
     "text": [
      "\u001b[H\u001b[2J"
     ]
    },
    {
     "name": "stderr",
     "output_type": "stream",
     "text": [
      "Previous HEAD position was 7a1726c Some dep updates\n",
      "HEAD is now at c218a4e Drop *node* 0.10.x project support\n"
     ]
    },
    {
     "name": "stdout",
     "output_type": "stream",
     "text": [
      "\u001b[H\u001b[2J"
     ]
    },
    {
     "name": "stderr",
     "output_type": "stream",
     "text": [
      "Previous HEAD position was c218a4e Drop *node* 0.10.x project support\n",
      "HEAD is now at d456464 Correct semver expression for *node* max\n"
     ]
    },
    {
     "name": "stdout",
     "output_type": "stream",
     "text": [
      "\u001b[H\u001b[2J"
     ]
    },
    {
     "name": "stderr",
     "output_type": "stream",
     "text": [
      "Previous HEAD position was d456464 Correct semver expression for *node* max\n",
      "HEAD is now at 5411de3 Add QSP for sort parm `q` urls if present\n"
     ]
    },
    {
     "name": "stdout",
     "output_type": "stream",
     "text": [
      "\u001b[H\u001b[2J"
     ]
    },
    {
     "name": "stderr",
     "output_type": "stream",
     "text": [
      "Previous HEAD position was 5411de3 Add QSP for sort parm `q` urls if present\n",
      "HEAD is now at 8cd9ee5 Trap failed splits/mappings with prefixes and ReadOnly exceptions\n"
     ]
    },
    {
     "name": "stdout",
     "output_type": "stream",
     "text": [
      "\u001b[H\u001b[2J"
     ]
    },
    {
     "name": "stderr",
     "output_type": "stream",
     "text": [
      "Previous HEAD position was 8cd9ee5 Trap failed splits/mappings with prefixes and ReadOnly exceptions\n",
      "HEAD is now at 372c885 Hot fix for #656\n"
     ]
    },
    {
     "name": "stdout",
     "output_type": "stream",
     "text": [
      "\u001b[H\u001b[2J"
     ]
    },
    {
     "name": "stderr",
     "output_type": "stream",
     "text": [
      "Previous HEAD position was 372c885 Hot fix for #656\n",
      "HEAD is now at 02fccb1 Missed STYLEGUIDE.md conformance\n"
     ]
    },
    {
     "name": "stdout",
     "output_type": "stream",
     "text": [
      "\u001b[H\u001b[2J"
     ]
    },
    {
     "name": "stderr",
     "output_type": "stream",
     "text": [
      "Previous HEAD position was 02fccb1 Missed STYLEGUIDE.md conformance\n",
      "HEAD is now at dcbadd8 Some dep updates\n"
     ]
    },
    {
     "name": "stdout",
     "output_type": "stream",
     "text": [
      "\u001b[H\u001b[2J"
     ]
    },
    {
     "name": "stderr",
     "output_type": "stream",
     "text": [
      "Previous HEAD position was dcbadd8 Some dep updates\n",
      "HEAD is now at 7a5af38 Always extend `npm install`\n"
     ]
    },
    {
     "name": "stdout",
     "output_type": "stream",
     "text": [
      "\u001b[H\u001b[2J"
     ]
    },
    {
     "name": "stderr",
     "output_type": "stream",
     "text": [
      "Previous HEAD position was 7a5af38 Always extend `npm install`\n",
      "HEAD is now at f213083 Update README.md\n"
     ]
    },
    {
     "name": "stdout",
     "output_type": "stream",
     "text": [
      "\u001b[H\u001b[2J"
     ]
    },
    {
     "name": "stderr",
     "output_type": "stream",
     "text": [
      "Previous HEAD position was f213083 Update README.md\n",
      "HEAD is now at f2fdec0 Some dep updates\n"
     ]
    },
    {
     "name": "stdout",
     "output_type": "stream",
     "text": [
      "\u001b[H\u001b[2J"
     ]
    },
    {
     "name": "stderr",
     "output_type": "stream",
     "text": [
      "Previous HEAD position was f2fdec0 Some dep updates\n",
      "HEAD is now at 03f9107 Import GM peg.txt\n"
     ]
    },
    {
     "name": "stdout",
     "output_type": "stream",
     "text": [
      "\u001b[H\u001b[2J"
     ]
    },
    {
     "name": "stderr",
     "output_type": "stream",
     "text": [
      "Previous HEAD position was 03f9107 Import GM peg.txt\n",
      "HEAD is now at 7c9f612 Rename and move to common modeling area\n"
     ]
    },
    {
     "name": "stdout",
     "output_type": "stream",
     "text": [
      "\u001b[H\u001b[2J"
     ]
    },
    {
     "name": "stderr",
     "output_type": "stream",
     "text": [
      "Previous HEAD position was 7c9f612 Rename and move to common modeling area\n",
      "HEAD is now at 4a70907 Change url to point to redirect\n"
     ]
    },
    {
     "name": "stdout",
     "output_type": "stream",
     "text": [
      "\u001b[H\u001b[2J"
     ]
    },
    {
     "name": "stderr",
     "output_type": "stream",
     "text": [
      "Previous HEAD position was 4a70907 Change url to point to redirect\n",
      "HEAD is now at 3f5249f Move UserScript peg file to publicly accessible location for external far side .user.js usage.\n"
     ]
    },
    {
     "name": "stdout",
     "output_type": "stream",
     "text": [
      "\u001b[H\u001b[2J"
     ]
    },
    {
     "name": "stderr",
     "output_type": "stream",
     "text": [
      "Previous HEAD position was 3f5249f Move UserScript peg file to publicly accessible location for external far side .user.js usage.\n",
      "HEAD is now at d1c4c12 Add absent MIME Content type for PEG.js grammar files\n"
     ]
    },
    {
     "name": "stdout",
     "output_type": "stream",
     "text": [
      "\u001b[H\u001b[2J"
     ]
    },
    {
     "name": "stderr",
     "output_type": "stream",
     "text": [
      "Previous HEAD position was d1c4c12 Add absent MIME Content type for PEG.js grammar files\n",
      "HEAD is now at 52b8fe6 Clean up the UserScript metadata block PEG.js file\n"
     ]
    },
    {
     "name": "stdout",
     "output_type": "stream",
     "text": [
      "\u001b[H\u001b[2J"
     ]
    },
    {
     "name": "stderr",
     "output_type": "stream",
     "text": [
      "Previous HEAD position was 52b8fe6 Clean up the UserScript metadata block PEG.js file\n",
      "HEAD is now at 951360b Trying a tangent from a .user.js for base uniques structure\n"
     ]
    },
    {
     "name": "stdout",
     "output_type": "stream",
     "text": [
      "\u001b[H\u001b[2J"
     ]
    },
    {
     "name": "stderr",
     "output_type": "stream",
     "text": [
      "Previous HEAD position was 951360b Trying a tangent from a .user.js for base uniques structure\n",
      "HEAD is now at c5b86b4 Some missed reformatting\n"
     ]
    },
    {
     "name": "stdout",
     "output_type": "stream",
     "text": [
      "\u001b[H\u001b[2J"
     ]
    },
    {
     "name": "stderr",
     "output_type": "stream",
     "text": [
      "Previous HEAD position was c5b86b4 Some missed reformatting\n",
      "HEAD is now at 5c66608 Create OUJS PEG.js\n"
     ]
    },
    {
     "name": "stdout",
     "output_type": "stream",
     "text": [
      "\u001b[H\u001b[2J"
     ]
    },
    {
     "name": "stderr",
     "output_type": "stream",
     "text": [
      "Previous HEAD position was 5c66608 Create OUJS PEG.js\n",
      "HEAD is now at 6295dda Remove generated `null` name generation\n"
     ]
    },
    {
     "name": "stdout",
     "output_type": "stream",
     "text": [
      "\u001b[H\u001b[2J"
     ]
    },
    {
     "name": "stderr",
     "output_type": "stream",
     "text": [
      "Previous HEAD position was 6295dda Remove generated `null` name generation\n",
      "HEAD is now at 93736ab Remove multiline comment for `block` since starting point syntax found\n"
     ]
    },
    {
     "name": "stdout",
     "output_type": "stream",
     "text": [
      "\u001b[H\u001b[2J"
     ]
    },
    {
     "name": "stderr",
     "output_type": "stream",
     "text": [
      "Previous HEAD position was 93736ab Remove multiline comment for `block` since starting point syntax found\n",
      "HEAD is now at 54ca7ba Trim up the duplicated `keyword`s to `key`s.\n"
     ]
    },
    {
     "name": "stdout",
     "output_type": "stream",
     "text": [
      "\u001b[H\u001b[2J"
     ]
    },
    {
     "name": "stderr",
     "output_type": "stream",
     "text": [
      "Previous HEAD position was 54ca7ba Trim up the duplicated `keyword`s to `key`s.\n",
      "HEAD is now at 65129a2 Right trim the tail value to match current parsing\n"
     ]
    },
    {
     "name": "stdout",
     "output_type": "stream",
     "text": [
      "\u001b[H\u001b[2J"
     ]
    },
    {
     "name": "stderr",
     "output_type": "stream",
     "text": [
      "Previous HEAD position was 65129a2 Right trim the tail value to match current parsing\n",
      "HEAD is now at 126c6c1 Fix for no `@name` scripts\n"
     ]
    },
    {
     "name": "stdout",
     "output_type": "stream",
     "text": [
      "\u001b[H\u001b[2J"
     ]
    },
    {
     "name": "stderr",
     "output_type": "stream",
     "text": [
      "Previous HEAD position was 126c6c1 Fix for no `@name` scripts\n",
      "HEAD is now at 490e9a0 Group values similar to `keyword`\n"
     ]
    },
    {
     "name": "stdout",
     "output_type": "stream",
     "text": [
      "\u001b[H\u001b[2J"
     ]
    },
    {
     "name": "stderr",
     "output_type": "stream",
     "text": [
      "Previous HEAD position was 490e9a0 Group values similar to `keyword`\n",
      "HEAD is now at 23aaac7 Change the grammar variables again as previously mentioned.\n"
     ]
    },
    {
     "name": "stdout",
     "output_type": "stream",
     "text": [
      "\u001b[H\u001b[2J"
     ]
    },
    {
     "name": "stderr",
     "output_type": "stream",
     "text": [
      "Previous HEAD position was 23aaac7 Change the grammar variables again as previously mentioned.\n",
      "HEAD is now at 1971ba3 Fix ordering in pegjs grammar file\n"
     ]
    },
    {
     "name": "stdout",
     "output_type": "stream",
     "text": [
      "\u001b[H\u001b[2J"
     ]
    },
    {
     "name": "stderr",
     "output_type": "stream",
     "text": [
      "Previous HEAD position was 1971ba3 Fix ordering in pegjs grammar file\n",
      "HEAD is now at ce507d9 Add the google analytics script to the header\n"
     ]
    },
    {
     "name": "stdout",
     "output_type": "stream",
     "text": [
      "\u001b[H\u001b[2J"
     ]
    },
    {
     "name": "stderr",
     "output_type": "stream",
     "text": [
      "Previous HEAD position was ce507d9 Add the google analytics script to the header\n",
      "HEAD is now at 8dda6a5 Add the google analytics code to the footer\n"
     ]
    },
    {
     "name": "stdout",
     "output_type": "stream",
     "text": [
      "\u001b[H\u001b[2J"
     ]
    },
    {
     "name": "stderr",
     "output_type": "stream",
     "text": [
      "Previous HEAD position was 8dda6a5 Add the google analytics code to the footer\n",
      "HEAD is now at ccb140c Typo\n"
     ]
    },
    {
     "name": "stdout",
     "output_type": "stream",
     "text": [
      "\u001b[H\u001b[2J"
     ]
    },
    {
     "name": "stderr",
     "output_type": "stream",
     "text": [
      "Previous HEAD position was ccb140c Typo\n",
      "HEAD is now at 3c52d87 Post fixes for #339 commits\n"
     ]
    },
    {
     "name": "stdout",
     "output_type": "stream",
     "text": [
      "\u001b[H\u001b[2J"
     ]
    },
    {
     "name": "stderr",
     "output_type": "stream",
     "text": [
      "Previous HEAD position was 3c52d87 Post fixes for #339 commits\n",
      "HEAD is now at d70b8f3 Update README.md\n"
     ]
    },
    {
     "name": "stdout",
     "output_type": "stream",
     "text": [
      "\u001b[H\u001b[2J"
     ]
    },
    {
     "name": "stderr",
     "output_type": "stream",
     "text": [
      "Previous HEAD position was d70b8f3 Update README.md\n",
      "HEAD is now at d22b763 Update README.md\n"
     ]
    },
    {
     "name": "stdout",
     "output_type": "stream",
     "text": [
      "\u001b[H\u001b[2J"
     ]
    },
    {
     "name": "stderr",
     "output_type": "stream",
     "text": [
      "Previous HEAD position was d22b763 Update README.md\n",
      "HEAD is now at 7cc30db Update README.md\n"
     ]
    },
    {
     "name": "stdout",
     "output_type": "stream",
     "text": [
      "\u001b[H\u001b[2J"
     ]
    },
    {
     "name": "stderr",
     "output_type": "stream",
     "text": [
      "Previous HEAD position was 7cc30db Update README.md\n",
      "HEAD is now at 3308d41 Add a `Member since` to the script stats\n"
     ]
    },
    {
     "name": "stdout",
     "output_type": "stream",
     "text": [
      "\u001b[H\u001b[2J"
     ]
    },
    {
     "name": "stderr",
     "output_type": "stream",
     "text": [
      "Previous HEAD position was 3308d41 Add a `Member since` to the script stats\n",
      "HEAD is now at d73344b Fix double call of an intermediate that was already defined\n"
     ]
    },
    {
     "name": "stdout",
     "output_type": "stream",
     "text": [
      "\u001b[H\u001b[2J"
     ]
    },
    {
     "name": "stderr",
     "output_type": "stream",
     "text": [
      "Previous HEAD position was d73344b Fix double call of an intermediate that was already defined\n",
      "HEAD is now at 984e02b Some dep updates\n"
     ]
    },
    {
     "name": "stdout",
     "output_type": "stream",
     "text": [
      "\u001b[H\u001b[2J"
     ]
    },
    {
     "name": "stderr",
     "output_type": "stream",
     "text": [
      "Previous HEAD position was 984e02b Some dep updates\n",
      "HEAD is now at cdb8e83 Add script creation submission date in the UI\n"
     ]
    },
    {
     "name": "stdout",
     "output_type": "stream",
     "text": [
      "\u001b[H\u001b[2J"
     ]
    },
    {
     "name": "stderr",
     "output_type": "stream",
     "text": [
      "Previous HEAD position was cdb8e83 Add script creation submission date in the UI\n",
      "HEAD is now at c928907 Hotfix for a potential security issue\n"
     ]
    },
    {
     "name": "stdout",
     "output_type": "stream",
     "text": [
      "\u001b[H\u001b[2J"
     ]
    },
    {
     "name": "stderr",
     "output_type": "stream",
     "text": [
      "Previous HEAD position was c928907 Hotfix for a potential security issue\n",
      "HEAD is now at f8a8c08 Remove lib author tools installs per version\n"
     ]
    },
    {
     "name": "stdout",
     "output_type": "stream",
     "text": [
      "\u001b[H\u001b[2J"
     ]
    },
    {
     "name": "stderr",
     "output_type": "stream",
     "text": [
      "Previous HEAD position was f8a8c08 Remove lib author tools installs per version\n",
      "HEAD is now at 2464b55 Trim up the published vs updated\n"
     ]
    },
    {
     "name": "stdout",
     "output_type": "stream",
     "text": [
      "\u001b[H\u001b[2J"
     ]
    },
    {
     "name": "stderr",
     "output_type": "stream",
     "text": [
      "Previous HEAD position was 2464b55 Trim up the published vs updated\n",
      "HEAD is now at 2856eb0 Repair moderation with that last commit\n"
     ]
    },
    {
     "name": "stdout",
     "output_type": "stream",
     "text": [
      "\u001b[H\u001b[2J"
     ]
    },
    {
     "name": "stderr",
     "output_type": "stream",
     "text": [
      "Previous HEAD position was 2856eb0 Repair moderation with that last commit\n",
      "HEAD is now at af262af Even more dep updates\n"
     ]
    },
    {
     "name": "stdout",
     "output_type": "stream",
     "text": [
      "\u001b[H\u001b[2J"
     ]
    },
    {
     "name": "stderr",
     "output_type": "stream",
     "text": [
      "Previous HEAD position was af262af Even more dep updates\n",
      "HEAD is now at 4222fcd Optimize the postinstall npm script a bit\n"
     ]
    },
    {
     "name": "stdout",
     "output_type": "stream",
     "text": [
      "\u001b[H\u001b[2J"
     ]
    },
    {
     "name": "stderr",
     "output_type": "stream",
     "text": [
      "Previous HEAD position was 4222fcd Optimize the postinstall npm script a bit\n",
      "HEAD is now at 17a244e Speed up the document pages\n"
     ]
    },
    {
     "name": "stdout",
     "output_type": "stream",
     "text": [
      "\u001b[H\u001b[2J"
     ]
    },
    {
     "name": "stderr",
     "output_type": "stream",
     "text": [
      "Previous HEAD position was 17a244e Speed up the document pages\n",
      "HEAD is now at 0a1a8e8 Readd bundler check for outdated vs install\n"
     ]
    },
    {
     "name": "stdout",
     "output_type": "stream",
     "text": [
      "\u001b[H\u001b[2J"
     ]
    },
    {
     "name": "stderr",
     "output_type": "stream",
     "text": [
      "Previous HEAD position was 0a1a8e8 Readd bundler check for outdated vs install\n",
      "HEAD is now at 5973326 Add gem listing to the queue\n"
     ]
    },
    {
     "name": "stdout",
     "output_type": "stream",
     "text": [
      "\u001b[H\u001b[2J"
     ]
    },
    {
     "name": "stderr",
     "output_type": "stream",
     "text": [
      "Previous HEAD position was 5973326 Add gem listing to the queue\n",
      "HEAD is now at 354a229 Some more tweaks on `./dev/init.js`\n"
     ]
    },
    {
     "name": "stdout",
     "output_type": "stream",
     "text": [
      "\u001b[H\u001b[2J"
     ]
    },
    {
     "name": "stderr",
     "output_type": "stream",
     "text": [
      "Previous HEAD position was 354a229 Some more tweaks on `./dev/init.js`\n",
      "HEAD is now at cddb5d1 Use a lookup function for meta key objects\n"
     ]
    },
    {
     "name": "stdout",
     "output_type": "stream",
     "text": [
      "\u001b[H\u001b[2J"
     ]
    },
    {
     "name": "stderr",
     "output_type": "stream",
     "text": [
      "Previous HEAD position was cddb5d1 Use a lookup function for meta key objects\n",
      "HEAD is now at 32a27af Patch for searching remover and reason in graveyard\n"
     ]
    },
    {
     "name": "stdout",
     "output_type": "stream",
     "text": [
      "\u001b[H\u001b[2J"
     ]
    },
    {
     "name": "stderr",
     "output_type": "stream",
     "text": [
      "Previous HEAD position was 32a27af Patch for searching remover and reason in graveyard\n",
      "HEAD is now at eb631e2 Post fix... incorrect comma removal\n"
     ]
    },
    {
     "name": "stdout",
     "output_type": "stream",
     "text": [
      "\u001b[H\u001b[2J"
     ]
    },
    {
     "name": "stderr",
     "output_type": "stream",
     "text": [
      "Previous HEAD position was eb631e2 Post fix... incorrect comma removal\n",
      "HEAD is now at 662259c Apply sort parm to URI for Graveyard\n"
     ]
    },
    {
     "name": "stdout",
     "output_type": "stream",
     "text": [
      "\u001b[H\u001b[2J"
     ]
    },
    {
     "name": "stderr",
     "output_type": "stream",
     "text": [
      "Previous HEAD position was 662259c Apply sort parm to URI for Graveyard\n",
      "HEAD is now at c431410 Reestablish the model filters\n"
     ]
    },
    {
     "name": "stdout",
     "output_type": "stream",
     "text": [
      "\u001b[H\u001b[2J"
     ]
    },
    {
     "name": "stderr",
     "output_type": "stream",
     "text": [
      "Previous HEAD position was c431410 Reestablish the model filters\n",
      "HEAD is now at 20f28d5 A `findOrDefaultIfNull` issue\n"
     ]
    },
    {
     "name": "stdout",
     "output_type": "stream",
     "text": [
      "\u001b[H\u001b[2J"
     ]
    },
    {
     "name": "stderr",
     "output_type": "stream",
     "text": [
      "Previous HEAD position was 20f28d5 A `findOrDefaultIfNull` issue\n",
      "HEAD is now at afc6251 Add an active class to the filters\n"
     ]
    },
    {
     "name": "stdout",
     "output_type": "stream",
     "text": [
      "\u001b[H\u001b[2J"
     ]
    },
    {
     "name": "stderr",
     "output_type": "stream",
     "text": [
      "Previous HEAD position was afc6251 Add an active class to the filters\n",
      "HEAD is now at adcb73d Some more misc visual effects\n"
     ]
    },
    {
     "name": "stdout",
     "output_type": "stream",
     "text": [
      "\u001b[H\u001b[2J"
     ]
    },
    {
     "name": "stderr",
     "output_type": "stream",
     "text": [
      "Previous HEAD position was adcb73d Some more misc visual effects\n",
      "HEAD is now at c200425 Vote icon change to match current site layout\n"
     ]
    },
    {
     "name": "stdout",
     "output_type": "stream",
     "text": [
      "\u001b[H\u001b[2J"
     ]
    },
    {
     "name": "stderr",
     "output_type": "stream",
     "text": [
      "Previous HEAD position was c200425 Vote icon change to match current site layout\n",
      "HEAD is now at 751bbae Previous code excludes libs from being added to Groups\n"
     ]
    },
    {
     "name": "stdout",
     "output_type": "stream",
     "text": [
      "\u001b[H\u001b[2J"
     ]
    },
    {
     "name": "stderr",
     "output_type": "stream",
     "text": [
      "Previous HEAD position was 751bbae Previous code excludes libs from being added to Groups\n",
      "HEAD is now at fda3542 Some dep updates\n"
     ]
    },
    {
     "name": "stdout",
     "output_type": "stream",
     "text": [
      "\u001b[H\u001b[2J"
     ]
    },
    {
     "name": "stderr",
     "output_type": "stream",
     "text": [
      "Previous HEAD position was fda3542 Some dep updates\n",
      "HEAD is now at a9ede68 Change the \"signal\" icon to a heartbeat \"pulse\" for Rating\n"
     ]
    },
    {
     "name": "stdout",
     "output_type": "stream",
     "text": [
      "\u001b[H\u001b[2J"
     ]
    },
    {
     "name": "stderr",
     "output_type": "stream",
     "text": [
      "Previous HEAD position was a9ede68 Change the \"signal\" icon to a heartbeat \"pulse\" for Rating\n",
      "HEAD is now at 5b039ae Modify suggested MIME type for *pegjs* grammar files\n"
     ]
    },
    {
     "name": "stdout",
     "output_type": "stream",
     "text": [
      "\u001b[H\u001b[2J"
     ]
    },
    {
     "name": "stderr",
     "output_type": "stream",
     "text": [
      "Previous HEAD position was 5b039ae Modify suggested MIME type for *pegjs* grammar files\n",
      "HEAD is now at eb5f029 Remove the the rest of *select2* backbone from lib scripts\n"
     ]
    },
    {
     "name": "stdout",
     "output_type": "stream",
     "text": [
      "\u001b[H\u001b[2J"
     ]
    },
    {
     "name": "stderr",
     "output_type": "stream",
     "text": [
      "Previous HEAD position was eb5f029 Remove the the rest of *select2* backbone from lib scripts\n",
      "HEAD is now at 091ef9c Autolink usernames via the @username syntax.\n"
     ]
    },
    {
     "name": "stdout",
     "output_type": "stream",
     "text": [
      "\u001b[H\u001b[2J"
     ]
    },
    {
     "name": "stderr",
     "output_type": "stream",
     "text": [
      "Previous HEAD position was 091ef9c Autolink usernames via the @username syntax.\n",
      "HEAD is now at 6d31f78 We no longer need to use the markdown to link to a user during reply since that happens on the server now.\n"
     ]
    },
    {
     "name": "stdout",
     "output_type": "stream",
     "text": [
      "\u001b[H\u001b[2J"
     ]
    },
    {
     "name": "stderr",
     "output_type": "stream",
     "text": [
      "Previous HEAD position was 6d31f78 We no longer need to use the markdown to link to a user during reply since that happens on the server now.\n",
      "HEAD is now at 4c4cbde We are the home for FOSS user scripts.\n"
     ]
    },
    {
     "name": "stdout",
     "output_type": "stream",
     "text": [
      "\u001b[H\u001b[2J"
     ]
    },
    {
     "name": "stderr",
     "output_type": "stream",
     "text": [
      "Previous HEAD position was 4c4cbde We are the home for FOSS user scripts.\n",
      "HEAD is now at 909d18d I can't spell.\n"
     ]
    },
    {
     "name": "stdout",
     "output_type": "stream",
     "text": [
      "\u001b[H\u001b[2J"
     ]
    },
    {
     "name": "stderr",
     "output_type": "stream",
     "text": [
      "Previous HEAD position was 909d18d I can't spell.\n",
      "HEAD is now at ad43414 Leave out the hostname and protocol when auto generating the reply markdown.\n"
     ]
    },
    {
     "name": "stdout",
     "output_type": "stream",
     "text": [
      "\u001b[H\u001b[2J"
     ]
    },
    {
     "name": "stderr",
     "output_type": "stream",
     "text": [
      "Previous HEAD position was ad43414 Leave out the hostname and protocol when auto generating the reply markdown.\n",
      "HEAD is now at ff57a00 I forgot to include a possible search string.\n"
     ]
    },
    {
     "name": "stdout",
     "output_type": "stream",
     "text": [
      "\u001b[H\u001b[2J"
     ]
    },
    {
     "name": "stderr",
     "output_type": "stream",
     "text": [
      "Previous HEAD position was ff57a00 I forgot to include a possible search string.\n",
      "HEAD is now at a3a19ab Conform location ref\n"
     ]
    },
    {
     "name": "stdout",
     "output_type": "stream",
     "text": [
      "\u001b[H\u001b[2J"
     ]
    },
    {
     "name": "stderr",
     "output_type": "stream",
     "text": [
      "Previous HEAD position was a3a19ab Conform location ref\n",
      "HEAD is now at 6ceb807 Some dep updates\n"
     ]
    },
    {
     "name": "stdout",
     "output_type": "stream",
     "text": [
      "\u001b[H\u001b[2J"
     ]
    },
    {
     "name": "stderr",
     "output_type": "stream",
     "text": [
      "Previous HEAD position was 6ceb807 Some dep updates\n",
      "HEAD is now at 735ee44 Downgrade *mongoose* due to production connection failure\n"
     ]
    },
    {
     "name": "stdout",
     "output_type": "stream",
     "text": [
      "\u001b[H\u001b[2J"
     ]
    },
    {
     "name": "stderr",
     "output_type": "stream",
     "text": [
      "Previous HEAD position was 735ee44 Downgrade *mongoose* due to production connection failure\n",
      "HEAD is now at d433f0a Some misc STYLEGUIDE.md conformance in `.../scriptStorage.js`\n"
     ]
    },
    {
     "name": "stdout",
     "output_type": "stream",
     "text": [
      "\u001b[H\u001b[2J"
     ]
    },
    {
     "name": "stderr",
     "output_type": "stream",
     "text": [
      "Previous HEAD position was d433f0a Some misc STYLEGUIDE.md conformance in `.../scriptStorage.js`\n",
      "HEAD is now at 54110e5 Change `WARNING` message\n"
     ]
    },
    {
     "name": "stdout",
     "output_type": "stream",
     "text": [
      "\u001b[H\u001b[2J"
     ]
    },
    {
     "name": "stderr",
     "output_type": "stream",
     "text": [
      "Previous HEAD position was 54110e5 Change `WARNING` message\n",
      "HEAD is now at 4aefc25 Close auth loop\n"
     ]
    },
    {
     "name": "stdout",
     "output_type": "stream",
     "text": [
      "\u001b[H\u001b[2J"
     ]
    },
    {
     "name": "stderr",
     "output_type": "stream",
     "text": [
      "Previous HEAD position was 4aefc25 Close auth loop\n",
      "HEAD is now at ad08b6f Localization of metadata blocks\n"
     ]
    },
    {
     "name": "stdout",
     "output_type": "stream",
     "text": [
      "\u001b[H\u001b[2J"
     ]
    },
    {
     "name": "stderr",
     "output_type": "stream",
     "text": [
      "Previous HEAD position was ad08b6f Localization of metadata blocks\n",
      "HEAD is now at 10cf306 Alter `sendMeta` to accept json extension\n"
     ]
    },
    {
     "name": "stdout",
     "output_type": "stream",
     "text": [
      "\u001b[H\u001b[2J"
     ]
    },
    {
     "name": "stderr",
     "output_type": "stream",
     "text": [
      "Previous HEAD position was 10cf306 Alter `sendMeta` to accept json extension\n",
      "HEAD is now at 41900f9 Some dep updates\n"
     ]
    },
    {
     "name": "stdout",
     "output_type": "stream",
     "text": [
      "\u001b[H\u001b[2J"
     ]
    },
    {
     "name": "stderr",
     "output_type": "stream",
     "text": [
      "Previous HEAD position was 41900f9 Some dep updates\n",
      "HEAD is now at 529663f Remove persona for now\n"
     ]
    },
    {
     "name": "stdout",
     "output_type": "stream",
     "text": [
      "\u001b[H\u001b[2J"
     ]
    },
    {
     "name": "stderr",
     "output_type": "stream",
     "text": [
      "Previous HEAD position was 529663f Remove persona for now\n",
      "HEAD is now at 5efb351 Check for missing exclude all on libs\n"
     ]
    },
    {
     "name": "stdout",
     "output_type": "stream",
     "text": [
      "\u001b[H\u001b[2J"
     ]
    },
    {
     "name": "stderr",
     "output_type": "stream",
     "text": [
      "Previous HEAD position was 5efb351 Check for missing exclude all on libs\n",
      "HEAD is now at 85a5bfe Update README.md\n"
     ]
    },
    {
     "name": "stdout",
     "output_type": "stream",
     "text": [
      "\u001b[H\u001b[2J"
     ]
    },
    {
     "name": "stderr",
     "output_type": "stream",
     "text": [
      "Previous HEAD position was 85a5bfe Update README.md\n",
      "HEAD is now at c94c625 Some dep updates\n"
     ]
    },
    {
     "name": "stdout",
     "output_type": "stream",
     "text": [
      "\u001b[H\u001b[2J"
     ]
    },
    {
     "name": "stderr",
     "output_type": "stream",
     "text": [
      "Previous HEAD position was c94c625 Some dep updates\n",
      "HEAD is now at d1cc3e1 Some dep updates\n"
     ]
    },
    {
     "name": "stdout",
     "output_type": "stream",
     "text": [
      "\u001b[H\u001b[2J"
     ]
    },
    {
     "name": "stderr",
     "output_type": "stream",
     "text": [
      "Previous HEAD position was d1cc3e1 Some dep updates\n",
      "HEAD is now at 09aa888 *sanitize-html* now supports wildcard glob for `allowedAttributes`\n"
     ]
    },
    {
     "name": "stdout",
     "output_type": "stream",
     "text": [
      "\u001b[H\u001b[2J"
     ]
    },
    {
     "name": "stderr",
     "output_type": "stream",
     "text": [
      "Previous HEAD position was 09aa888 *sanitize-html* now supports wildcard glob for `allowedAttributes`\n",
      "HEAD is now at 4dc09b1 Make a VPS togglable option to set script storage to read-only\n"
     ]
    },
    {
     "name": "stdout",
     "output_type": "stream",
     "text": [
      "\u001b[H\u001b[2J"
     ]
    },
    {
     "name": "stderr",
     "output_type": "stream",
     "text": [
      "Previous HEAD position was 4dc09b1 Make a VPS togglable option to set script storage to read-only\n",
      "HEAD is now at 0846221 Catch delete script as well\n"
     ]
    },
    {
     "name": "stdout",
     "output_type": "stream",
     "text": [
      "\u001b[H\u001b[2J"
     ]
    },
    {
     "name": "stderr",
     "output_type": "stream",
     "text": [
      "Previous HEAD position was 0846221 Catch delete script as well\n",
      "HEAD is now at 6c74244 Downgrade the two of the three latest deps\n"
     ]
    },
    {
     "name": "stdout",
     "output_type": "stream",
     "text": [
      "\u001b[H\u001b[2J"
     ]
    },
    {
     "name": "stderr",
     "output_type": "stream",
     "text": [
      "Previous HEAD position was 6c74244 Downgrade the two of the three latest deps\n",
      "HEAD is now at c275afa Change the toggle to an environment variable\n"
     ]
    },
    {
     "name": "stdout",
     "output_type": "stream",
     "text": [
      "\u001b[H\u001b[2J"
     ]
    },
    {
     "name": "stderr",
     "output_type": "stream",
     "text": [
      "Previous HEAD position was c275afa Change the toggle to an environment variable\n",
      "HEAD is now at a230440 Cleanup and some mitigation for ESR\n"
     ]
    },
    {
     "name": "stdout",
     "output_type": "stream",
     "text": [
      "\u001b[H\u001b[2J"
     ]
    },
    {
     "name": "stderr",
     "output_type": "stream",
     "text": [
      "Previous HEAD position was a230440 Cleanup and some mitigation for ESR\n",
      "HEAD is now at eecc524 Update README.md\n"
     ]
    },
    {
     "name": "stdout",
     "output_type": "stream",
     "text": [
      "\u001b[H\u001b[2J"
     ]
    },
    {
     "name": "stderr",
     "output_type": "stream",
     "text": [
      "Previous HEAD position was eecc524 Update README.md\n",
      "HEAD is now at 7e760f8 Trap absent `aFiles` on script upload\n"
     ]
    },
    {
     "name": "stdout",
     "output_type": "stream",
     "text": [
      "\u001b[H\u001b[2J"
     ]
    },
    {
     "name": "stderr",
     "output_type": "stream",
     "text": [
      "Previous HEAD position was 7e760f8 Trap absent `aFiles` on script upload\n",
      "HEAD is now at 776fc7a Update CONTRIBUTING.md\n"
     ]
    },
    {
     "name": "stdout",
     "output_type": "stream",
     "text": [
      "\u001b[H\u001b[2J"
     ]
    },
    {
     "name": "stderr",
     "output_type": "stream",
     "text": [
      "Previous HEAD position was 776fc7a Update CONTRIBUTING.md\n",
      "HEAD is now at ceb9b63 Place the preferred engines at their bottom-most supported values\n"
     ]
    },
    {
     "name": "stdout",
     "output_type": "stream",
     "text": [
      "\u001b[H\u001b[2J"
     ]
    },
    {
     "name": "stderr",
     "output_type": "stream",
     "text": [
      "Previous HEAD position was ceb9b63 Place the preferred engines at their bottom-most supported values\n",
      "HEAD is now at 7a93d40 Update CONTRIBUTING.md\n"
     ]
    },
    {
     "name": "stdout",
     "output_type": "stream",
     "text": [
      "\u001b[H\u001b[2J"
     ]
    },
    {
     "name": "stderr",
     "output_type": "stream",
     "text": [
      "Previous HEAD position was 7a93d40 Update CONTRIBUTING.md\n",
      "HEAD is now at ef53564 Some dep updates\n"
     ]
    },
    {
     "name": "stdout",
     "output_type": "stream",
     "text": [
      "\u001b[H\u001b[2J"
     ]
    },
    {
     "name": "stderr",
     "output_type": "stream",
     "text": [
      "Previous HEAD position was ef53564 Some dep updates\n",
      "HEAD is now at b4379dc Show active clone to admins and up\n"
     ]
    },
    {
     "name": "stdout",
     "output_type": "stream",
     "text": [
      "\u001b[H\u001b[2J"
     ]
    },
    {
     "name": "stderr",
     "output_type": "stream",
     "text": [
      "Previous HEAD position was b4379dc Show active clone to admins and up\n",
      "HEAD is now at 3d87df3 Dump output of meta at this point for manual tracing\n"
     ]
    },
    {
     "name": "stdout",
     "output_type": "stream",
     "text": [
      "\u001b[H\u001b[2J"
     ]
    },
    {
     "name": "stderr",
     "output_type": "stream",
     "text": [
      "Previous HEAD position was 3d87df3 Dump output of meta at this point for manual tracing\n",
      "HEAD is now at dbde87f Don't stringify on production for response\n"
     ]
    },
    {
     "name": "stdout",
     "output_type": "stream",
     "text": [
      "\u001b[H\u001b[2J"
     ]
    },
    {
     "name": "stderr",
     "output_type": "stream",
     "text": [
      "Previous HEAD position was dbde87f Don't stringify on production for response\n",
      "HEAD is now at f32afc6 **Try** requesting UTF-16 and let GH do the transformation so *node* keeps things consistent *hopefully*\n"
     ]
    },
    {
     "name": "stdout",
     "output_type": "stream",
     "text": [
      "\u001b[H\u001b[2J"
     ]
    },
    {
     "name": "stderr",
     "output_type": "stream",
     "text": [
      "Previous HEAD position was f32afc6 **Try** requesting UTF-16 and let GH do the transformation so *node* keeps things consistent *hopefully*\n",
      "HEAD is now at 9b601a9 Test lowercase UTF-16 in case GH isn't doing the appropriate test\n"
     ]
    },
    {
     "name": "stdout",
     "output_type": "stream",
     "text": [
      "\u001b[H\u001b[2J"
     ]
    },
    {
     "name": "stderr",
     "output_type": "stream",
     "text": [
      "Previous HEAD position was 9b601a9 Test lowercase UTF-16 in case GH isn't doing the appropriate test\n",
      "HEAD is now at f4bf560 Try full `Accept` to see what GH does\n"
     ]
    },
    {
     "name": "stdout",
     "output_type": "stream",
     "text": [
      "\u001b[H\u001b[2J"
     ]
    },
    {
     "name": "stderr",
     "output_type": "stream",
     "text": [
      "Previous HEAD position was f4bf560 Try full `Accept` to see what GH does\n",
      "HEAD is now at ce38eda Try lower-case utf-16 full to see what GH does with it\n"
     ]
    },
    {
     "name": "stdout",
     "output_type": "stream",
     "text": [
      "\u001b[H\u001b[2J"
     ]
    },
    {
     "name": "stderr",
     "output_type": "stream",
     "text": [
      "Previous HEAD position was ce38eda Try lower-case utf-16 full to see what GH does with it\n",
      "HEAD is now at d3b5b34 Revert changes to headers for GH testing\n"
     ]
    },
    {
     "name": "stdout",
     "output_type": "stream",
     "text": [
      "\u001b[H\u001b[2J"
     ]
    },
    {
     "name": "stderr",
     "output_type": "stream",
     "text": [
      "Previous HEAD position was d3b5b34 Revert changes to headers for GH testing\n",
      "HEAD is now at 089aac4 Try out StringDecoder\n"
     ]
    },
    {
     "name": "stdout",
     "output_type": "stream",
     "text": [
      "\u001b[H\u001b[2J"
     ]
    },
    {
     "name": "stderr",
     "output_type": "stream",
     "text": [
      "Previous HEAD position was 089aac4 Try out StringDecoder\n",
      "HEAD is now at 21f4664 Scoot some debugging into `getMeta` and add some more\n"
     ]
    },
    {
     "name": "stdout",
     "output_type": "stream",
     "text": [
      "\u001b[H\u001b[2J"
     ]
    },
    {
     "name": "stderr",
     "output_type": "stream",
     "text": [
      "Previous HEAD position was 21f4664 Scoot some debugging into `getMeta` and add some more\n",
      "HEAD is now at edf0aae Refactor `getMeta`\n"
     ]
    },
    {
     "name": "stdout",
     "output_type": "stream",
     "text": [
      "\u001b[H\u001b[2J"
     ]
    },
    {
     "name": "stderr",
     "output_type": "stream",
     "text": [
      "Previous HEAD position was edf0aae Refactor `getMeta`\n",
      "HEAD is now at 0bdb009 Revert to pre StringDecoder\n"
     ]
    },
    {
     "name": "stdout",
     "output_type": "stream",
     "text": [
      "\u001b[H\u001b[2J"
     ]
    },
    {
     "name": "stderr",
     "output_type": "stream",
     "text": [
      "Previous HEAD position was 0bdb009 Revert to pre StringDecoder\n",
      "HEAD is now at eabed04 Trying forced UTF8 in `toString`\n"
     ]
    },
    {
     "name": "stdout",
     "output_type": "stream",
     "text": [
      "\u001b[H\u001b[2J"
     ]
    },
    {
     "name": "stderr",
     "output_type": "stream",
     "text": [
      "Previous HEAD position was eabed04 Trying forced UTF8 in `toString`\n",
      "HEAD is now at c8bd0d7 Try merging the Chunks\n"
     ]
    },
    {
     "name": "stdout",
     "output_type": "stream",
     "text": [
      "\u001b[H\u001b[2J"
     ]
    },
    {
     "name": "stderr",
     "output_type": "stream",
     "text": [
      "Previous HEAD position was c8bd0d7 Try merging the Chunks\n",
      "HEAD is now at f936a95 Add one more debug message to visibly show chunks count\n"
     ]
    },
    {
     "name": "stdout",
     "output_type": "stream",
     "text": [
      "\u001b[H\u001b[2J"
     ]
    },
    {
     "name": "stderr",
     "output_type": "stream",
     "text": [
      "Previous HEAD position was f936a95 Add one more debug message to visibly show chunks count\n",
      "HEAD is now at 45d78cd Add some backend stuff to .gitignore\n"
     ]
    },
    {
     "name": "stdout",
     "output_type": "stream",
     "text": [
      "\u001b[H\u001b[2J"
     ]
    },
    {
     "name": "stderr",
     "output_type": "stream",
     "text": [
      "Previous HEAD position was 45d78cd Add some backend stuff to .gitignore\n",
      "HEAD is now at 9a09467 Restore the \"chunked\" methodology in `getMeta`\n"
     ]
    },
    {
     "name": "stdout",
     "output_type": "stream",
     "text": [
      "\u001b[H\u001b[2J"
     ]
    },
    {
     "name": "stderr",
     "output_type": "stream",
     "text": [
      "Previous HEAD position was 9a09467 Restore the \"chunked\" methodology in `getMeta`\n",
      "HEAD is now at a76bb59 Correctly use Buffer length instead of String length for \"Chunking\"\n"
     ]
    },
    {
     "name": "stdout",
     "output_type": "stream",
     "text": [
      "\u001b[H\u001b[2J"
     ]
    },
    {
     "name": "stderr",
     "output_type": "stream",
     "text": [
      "Previous HEAD position was a76bb59 Correctly use Buffer length instead of String length for \"Chunking\"\n",
      "HEAD is now at eb4d4d1 Update CONTRIBUTING.md\n"
     ]
    },
    {
     "name": "stdout",
     "output_type": "stream",
     "text": [
      "\u001b[H\u001b[2J"
     ]
    },
    {
     "name": "stderr",
     "output_type": "stream",
     "text": [
      "Previous HEAD position was eb4d4d1 Update CONTRIBUTING.md\n",
      "HEAD is now at 90484b2 Remove unused script elements\n"
     ]
    },
    {
     "name": "stdout",
     "output_type": "stream",
     "text": [
      "\u001b[H\u001b[2J"
     ]
    },
    {
     "name": "stderr",
     "output_type": "stream",
     "text": [
      "Previous HEAD position was 90484b2 Remove unused script elements\n",
      "HEAD is now at 704fee0 Minimize the .meta.js routine\n"
     ]
    },
    {
     "name": "stdout",
     "output_type": "stream",
     "text": [
      "\u001b[H\u001b[2J"
     ]
    },
    {
     "name": "stderr",
     "output_type": "stream",
     "text": [
      "Previous HEAD position was 704fee0 Minimize the .meta.js routine\n",
      "HEAD is now at 8a82d6f Don't reverse the `@name` array values\n"
     ]
    },
    {
     "name": "stdout",
     "output_type": "stream",
     "text": [
      "\u001b[H\u001b[2J"
     ]
    },
    {
     "name": "stderr",
     "output_type": "stream",
     "text": [
      "Previous HEAD position was 8a82d6f Don't reverse the `@name` array values\n",
      "HEAD is now at 026281b Some dep updates\n"
     ]
    },
    {
     "name": "stdout",
     "output_type": "stream",
     "text": [
      "\u001b[H\u001b[2J"
     ]
    },
    {
     "name": "stderr",
     "output_type": "stream",
     "text": [
      "Previous HEAD position was 026281b Some dep updates\n",
      "HEAD is now at 82a313a Update *mongoose* dep\n"
     ]
    },
    {
     "name": "stdout",
     "output_type": "stream",
     "text": [
      "\u001b[H\u001b[2J"
     ]
    },
    {
     "name": "stderr",
     "output_type": "stream",
     "text": [
      "Previous HEAD position was 82a313a Update *mongoose* dep\n",
      "HEAD is now at 7cf7602 Show who flagged what in the UI\n"
     ]
    },
    {
     "name": "stdout",
     "output_type": "stream",
     "text": [
      "\u001b[H\u001b[2J"
     ]
    },
    {
     "name": "stderr",
     "output_type": "stream",
     "text": [
      "Previous HEAD position was 7cf7602 Show who flagged what in the UI\n",
      "HEAD is now at 58f5569 Wrap all pre tags\n"
     ]
    },
    {
     "name": "stdout",
     "output_type": "stream",
     "text": [
      "\u001b[H\u001b[2J"
     ]
    },
    {
     "name": "stderr",
     "output_type": "stream",
     "text": [
      "Previous HEAD position was 58f5569 Wrap all pre tags\n",
      "HEAD is now at 35f23ee Shorten the role names\n"
     ]
    },
    {
     "name": "stdout",
     "output_type": "stream",
     "text": [
      "\u001b[H\u001b[2J"
     ]
    },
    {
     "name": "stderr",
     "output_type": "stream",
     "text": [
      "Previous HEAD position was 35f23ee Shorten the role names\n",
      "HEAD is now at 96d9d99 Fixes and compaction/distribution for who flagged what in UI\n"
     ]
    },
    {
     "name": "stdout",
     "output_type": "stream",
     "text": [
      "\u001b[H\u001b[2J"
     ]
    },
    {
     "name": "stderr",
     "output_type": "stream",
     "text": [
      "Previous HEAD position was 96d9d99 Fixes and compaction/distribution for who flagged what in UI\n",
      "HEAD is now at 6bf0bc6 Some dep updates\n"
     ]
    },
    {
     "name": "stdout",
     "output_type": "stream",
     "text": [
      "\u001b[H\u001b[2J"
     ]
    },
    {
     "name": "stderr",
     "output_type": "stream",
     "text": [
      "Previous HEAD position was 6bf0bc6 Some dep updates\n",
      "HEAD is now at 58602e3 Distribution changes\n"
     ]
    },
    {
     "name": "stdout",
     "output_type": "stream",
     "text": [
      "\u001b[H\u001b[2J"
     ]
    },
    {
     "name": "stderr",
     "output_type": "stream",
     "text": [
      "Previous HEAD position was 58602e3 Distribution changes\n",
      "HEAD is now at 01cb33e Change the identifier for the function name\n"
     ]
    },
    {
     "name": "stdout",
     "output_type": "stream",
     "text": [
      "\u001b[H\u001b[2J"
     ]
    },
    {
     "name": "stderr",
     "output_type": "stream",
     "text": [
      "Previous HEAD position was 01cb33e Change the identifier for the function name\n",
      "HEAD is now at ad2edb1 Create/fill in the missing lib for vote action\n"
     ]
    },
    {
     "name": "stdout",
     "output_type": "stream",
     "text": [
      "\u001b[H\u001b[2J"
     ]
    },
    {
     "name": "stderr",
     "output_type": "stream",
     "text": [
      "Previous HEAD position was ad2edb1 Create/fill in the missing lib for vote action\n",
      "HEAD is now at 15c7c54 Fill out to a basic template for the newest controllers\n"
     ]
    },
    {
     "name": "stdout",
     "output_type": "stream",
     "text": [
      "\u001b[H\u001b[2J"
     ]
    },
    {
     "name": "stderr",
     "output_type": "stream",
     "text": [
      "Previous HEAD position was 15c7c54 Fill out to a basic template for the newest controllers\n",
      "HEAD is now at b12f1c7 Add inverse filter list\n"
     ]
    },
    {
     "name": "stdout",
     "output_type": "stream",
     "text": [
      "\u001b[H\u001b[2J"
     ]
    },
    {
     "name": "stderr",
     "output_type": "stream",
     "text": [
      "Previous HEAD position was b12f1c7 Add inverse filter list\n",
      "HEAD is now at 666c867 Fix flagging and AuthAs\n"
     ]
    },
    {
     "name": "stdout",
     "output_type": "stream",
     "text": [
      "\u001b[H\u001b[2J"
     ]
    },
    {
     "name": "stderr",
     "output_type": "stream",
     "text": [
      "Previous HEAD position was 666c867 Fix flagging and AuthAs\n",
      "HEAD is now at aa1529a Shift `flags` to `flags.critical` in affected models\n"
     ]
    },
    {
     "name": "stdout",
     "output_type": "stream",
     "text": [
      "\u001b[H\u001b[2J"
     ]
    },
    {
     "name": "stderr",
     "output_type": "stream",
     "text": [
      "Previous HEAD position was aa1529a Shift `flags` to `flags.critical` in affected models\n",
      "HEAD is now at a9b3e8a Post fix for #643 with library views\n"
     ]
    },
    {
     "name": "stdout",
     "output_type": "stream",
     "text": [
      "\u001b[H\u001b[2J"
     ]
    },
    {
     "name": "stderr",
     "output_type": "stream",
     "text": [
      "Previous HEAD position was a9b3e8a Post fix for #643 with library views\n",
      "HEAD is now at 45bb9be Enable the missing `library` QSP on User home pages\n"
     ]
    },
    {
     "name": "stdout",
     "output_type": "stream",
     "text": [
      "\u001b[H\u001b[2J"
     ]
    },
    {
     "name": "stderr",
     "output_type": "stream",
     "text": [
      "Previous HEAD position was 45bb9be Enable the missing `library` QSP on User home pages\n",
      "HEAD is now at 1a48a6e Finish enabling hidden QSP in User Script List pages\n"
     ]
    },
    {
     "name": "stdout",
     "output_type": "stream",
     "text": [
      "\u001b[H\u001b[2J"
     ]
    },
    {
     "name": "stderr",
     "output_type": "stream",
     "text": [
      "Previous HEAD position was 1a48a6e Finish enabling hidden QSP in User Script List pages\n",
      "HEAD is now at c3e119f Use hollow flags to indicate the current default in the mod route\n"
     ]
    },
    {
     "name": "stdout",
     "output_type": "stream",
     "text": [
      "\u001b[H\u001b[2J"
     ]
    },
    {
     "name": "stderr",
     "output_type": "stream",
     "text": [
      "Previous HEAD position was c3e119f Use hollow flags to indicate the current default in the mod route\n",
      "HEAD is now at 6c71c33 Some missed `Scripts` to `Userscripts`\n"
     ]
    },
    {
     "name": "stdout",
     "output_type": "stream",
     "text": [
      "\u001b[H\u001b[2J"
     ]
    },
    {
     "name": "stderr",
     "output_type": "stream",
     "text": [
      "Previous HEAD position was 6c71c33 Some missed `Scripts` to `Userscripts`\n",
      "HEAD is now at fb1811a Start tracking the absolute flagging\n"
     ]
    },
    {
     "name": "stdout",
     "output_type": "stream",
     "text": [
      "\u001b[H\u001b[2J"
     ]
    },
    {
     "name": "stderr",
     "output_type": "stream",
     "text": [
      "Previous HEAD position was fb1811a Start tracking the absolute flagging\n",
      "HEAD is now at 6193328 Revert change on who can flag depending on role\n"
     ]
    },
    {
     "name": "stdout",
     "output_type": "stream",
     "text": [
      "\u001b[H\u001b[2J"
     ]
    },
    {
     "name": "stderr",
     "output_type": "stream",
     "text": [
      "Previous HEAD position was 6193328 Revert change on who can flag depending on role\n",
      "HEAD is now at 9ab6779 Added reason to any current flagging with a *bootstrap* modal\n"
     ]
    },
    {
     "name": "stdout",
     "output_type": "stream",
     "text": [
      "\u001b[H\u001b[2J"
     ]
    },
    {
     "name": "stderr",
     "output_type": "stream",
     "text": [
      "Previous HEAD position was 9ab6779 Added reason to any current flagging with a *bootstrap* modal\n",
      "HEAD is now at a89e49e Fix `placeholder` text message\n"
     ]
    },
    {
     "name": "stdout",
     "output_type": "stream",
     "text": [
      "\u001b[H\u001b[2J"
     ]
    },
    {
     "name": "stderr",
     "output_type": "stream",
     "text": [
      "Previous HEAD position was a89e49e Fix `placeholder` text message\n",
      "HEAD is now at ad44706 Increase the security a little bit for now\n"
     ]
    },
    {
     "name": "stdout",
     "output_type": "stream",
     "text": [
      "\u001b[H\u001b[2J"
     ]
    },
    {
     "name": "stderr",
     "output_type": "stream",
     "text": [
      "Previous HEAD position was ad44706 Increase the security a little bit for now\n",
      "HEAD is now at 17b2e4f Try iojs recommended cipher order and list items\n"
     ]
    },
    {
     "name": "stdout",
     "output_type": "stream",
     "text": [
      "\u001b[H\u001b[2J"
     ]
    },
    {
     "name": "stderr",
     "output_type": "stream",
     "text": [
      "Previous HEAD position was 17b2e4f Try iojs recommended cipher order and list items\n",
      "HEAD is now at e00522f Change low end dependencies of OpenUserJS.org\n"
     ]
    },
    {
     "name": "stdout",
     "output_type": "stream",
     "text": [
      "\u001b[H\u001b[2J"
     ]
    },
    {
     "name": "stderr",
     "output_type": "stream",
     "text": [
      "Previous HEAD position was e00522f Change low end dependencies of OpenUserJS.org\n",
      "HEAD is now at f737015 Fix autolink @username bug. Closes #735\n"
     ]
    },
    {
     "name": "stdout",
     "output_type": "stream",
     "text": [
      "\u001b[H\u001b[2J"
     ]
    },
    {
     "name": "stderr",
     "output_type": "stream",
     "text": [
      "Previous HEAD position was f737015 Fix autolink @username bug. Closes #735\n",
      "HEAD is now at 10bf13c Update CONTRIBUTING.md\n"
     ]
    },
    {
     "name": "stdout",
     "output_type": "stream",
     "text": [
      "\u001b[H\u001b[2J"
     ]
    },
    {
     "name": "stderr",
     "output_type": "stream",
     "text": [
      "Previous HEAD position was 10bf13c Update CONTRIBUTING.md\n",
      "HEAD is now at 58486fc Update CONTRIBUTING.md\n"
     ]
    },
    {
     "name": "stdout",
     "output_type": "stream",
     "text": [
      "\u001b[H\u001b[2J"
     ]
    },
    {
     "name": "stderr",
     "output_type": "stream",
     "text": [
      "Previous HEAD position was 58486fc Update CONTRIBUTING.md\n",
      "HEAD is now at 3cf8f01 Some dep updates\n"
     ]
    },
    {
     "name": "stdout",
     "output_type": "stream",
     "text": [
      "\u001b[H\u001b[2J"
     ]
    },
    {
     "name": "stderr",
     "output_type": "stream",
     "text": [
      "Previous HEAD position was 3cf8f01 Some dep updates\n",
      "HEAD is now at 73ebe02 Show sorted updated announcements along with created\n"
     ]
    },
    {
     "name": "stdout",
     "output_type": "stream",
     "text": [
      "\u001b[H\u001b[2J"
     ]
    },
    {
     "name": "stderr",
     "output_type": "stream",
     "text": [
      "Previous HEAD position was 73ebe02 Show sorted updated announcements along with created\n",
      "HEAD is now at 41bc81e Ensure UTF-8 in the output stream for script source\n"
     ]
    },
    {
     "name": "stdout",
     "output_type": "stream",
     "text": [
      "\u001b[H\u001b[2J"
     ]
    },
    {
     "name": "stderr",
     "output_type": "stream",
     "text": [
      "Previous HEAD position was 41bc81e Ensure UTF-8 in the output stream for script source\n",
      "HEAD is now at c0176b2 Follow GH example for component URI encoding on branch name\n"
     ]
    },
    {
     "name": "stdout",
     "output_type": "stream",
     "text": [
      "\u001b[H\u001b[2J"
     ]
    },
    {
     "name": "stderr",
     "output_type": "stream",
     "text": [
      "Previous HEAD position was c0176b2 Follow GH example for component URI encoding on branch name\n",
      "HEAD is now at 7870529 Symmetry on the issue controller file\n"
     ]
    },
    {
     "name": "stdout",
     "output_type": "stream",
     "text": [
      "\u001b[H\u001b[2J"
     ]
    },
    {
     "name": "stderr",
     "output_type": "stream",
     "text": [
      "Previous HEAD position was 7870529 Symmetry on the issue controller file\n",
      "HEAD is now at 469c7df STYLEGUIDE.md conformance on Issue Controller file\n"
     ]
    },
    {
     "name": "stdout",
     "output_type": "stream",
     "text": [
      "\u001b[H\u001b[2J"
     ]
    },
    {
     "name": "stderr",
     "output_type": "stream",
     "text": [
      "Previous HEAD position was 469c7df STYLEGUIDE.md conformance on Issue Controller file\n",
      "HEAD is now at 4b7628e Some more conformance on Issue controller file\n"
     ]
    },
    {
     "name": "stdout",
     "output_type": "stream",
     "text": [
      "\u001b[H\u001b[2J"
     ]
    },
    {
     "name": "stderr",
     "output_type": "stream",
     "text": [
      "Previous HEAD position was 4b7628e Some more conformance on Issue controller file\n",
      "HEAD is now at a8d3c2e Issue controller file opts\n"
     ]
    },
    {
     "name": "stdout",
     "output_type": "stream",
     "text": [
      "\u001b[H\u001b[2J"
     ]
    },
    {
     "name": "stderr",
     "output_type": "stream",
     "text": [
      "Previous HEAD position was a8d3c2e Issue controller file opts\n",
      "HEAD is now at ca7e867 Clean up _template.js\n"
     ]
    },
    {
     "name": "stdout",
     "output_type": "stream",
     "text": [
      "\u001b[H\u001b[2J"
     ]
    },
    {
     "name": "stderr",
     "output_type": "stream",
     "text": [
      "Previous HEAD position was ca7e867 Clean up _template.js\n",
      "HEAD is now at 620320e Reorder remove controller\n"
     ]
    },
    {
     "name": "stdout",
     "output_type": "stream",
     "text": [
      "\u001b[H\u001b[2J"
     ]
    },
    {
     "name": "stderr",
     "output_type": "stream",
     "text": [
      "Previous HEAD position was 620320e Reorder remove controller\n",
      "HEAD is now at 77003d8 Clean up document controller\n"
     ]
    },
    {
     "name": "stdout",
     "output_type": "stream",
     "text": [
      "\u001b[H\u001b[2J"
     ]
    },
    {
     "name": "stderr",
     "output_type": "stream",
     "text": [
      "Previous HEAD position was 77003d8 Clean up document controller\n",
      "HEAD is now at 7f9011d Flip order of retrieval for doc pages\n"
     ]
    },
    {
     "name": "stdout",
     "output_type": "stream",
     "text": [
      "\u001b[H\u001b[2J"
     ]
    },
    {
     "name": "stderr",
     "output_type": "stream",
     "text": [
      "Previous HEAD position was 7f9011d Flip order of retrieval for doc pages\n",
      "HEAD is now at 1d812b6 Cleanup on index controller file\n"
     ]
    },
    {
     "name": "stdout",
     "output_type": "stream",
     "text": [
      "\u001b[H\u001b[2J"
     ]
    },
    {
     "name": "stderr",
     "output_type": "stream",
     "text": [
      "Previous HEAD position was 1d812b6 Cleanup on index controller file\n",
      "HEAD is now at c8de156 Fix undeclared var in refactor\n"
     ]
    },
    {
     "name": "stdout",
     "output_type": "stream",
     "text": [
      "\u001b[H\u001b[2J"
     ]
    },
    {
     "name": "stderr",
     "output_type": "stream",
     "text": [
      "Previous HEAD position was c8de156 Fix undeclared var in refactor\n",
      "HEAD is now at 78d32b4 Fix a bug that showed up in the logs\n"
     ]
    },
    {
     "name": "stdout",
     "output_type": "stream",
     "text": [
      "\u001b[H\u001b[2J"
     ]
    },
    {
     "name": "stderr",
     "output_type": "stream",
     "text": [
      "Previous HEAD position was 78d32b4 Fix a bug that showed up in the logs\n",
      "HEAD is now at 5ed1525 Cleanup moderation controller file\n"
     ]
    },
    {
     "name": "stdout",
     "output_type": "stream",
     "text": [
      "\u001b[H\u001b[2J"
     ]
    },
    {
     "name": "stderr",
     "output_type": "stream",
     "text": [
      "Previous HEAD position was 5ed1525 Cleanup moderation controller file\n",
      "HEAD is now at 64c4fb8 Cleanup auth controller file as much as possible\n"
     ]
    },
    {
     "name": "stdout",
     "output_type": "stream",
     "text": [
      "\u001b[H\u001b[2J"
     ]
    },
    {
     "name": "stderr",
     "output_type": "stream",
     "text": [
      "Previous HEAD position was 64c4fb8 Cleanup auth controller file as much as possible\n",
      "HEAD is now at a6b1067 Cleanup of group controller file\n"
     ]
    },
    {
     "name": "stdout",
     "output_type": "stream",
     "text": [
      "\u001b[H\u001b[2J"
     ]
    },
    {
     "name": "stderr",
     "output_type": "stream",
     "text": [
      "Previous HEAD position was a6b1067 Cleanup of group controller file\n",
      "HEAD is now at e033b71 Cleanup admin controller file\n"
     ]
    },
    {
     "name": "stdout",
     "output_type": "stream",
     "text": [
      "\u001b[H\u001b[2J"
     ]
    },
    {
     "name": "stderr",
     "output_type": "stream",
     "text": [
      "Previous HEAD position was e033b71 Cleanup admin controller file\n",
      "HEAD is now at c5b60f9 Finish off cleanup of admin controller file plus a comment regression\n"
     ]
    },
    {
     "name": "stdout",
     "output_type": "stream",
     "text": [
      "\u001b[H\u001b[2J"
     ]
    },
    {
     "name": "stderr",
     "output_type": "stream",
     "text": [
      "Previous HEAD position was c5b60f9 Finish off cleanup of admin controller file plus a comment regression\n",
      "HEAD is now at 64a150e Cleanup discussion controller file\n"
     ]
    },
    {
     "name": "stdout",
     "output_type": "stream",
     "text": [
      "\u001b[H\u001b[2J"
     ]
    },
    {
     "name": "stderr",
     "output_type": "stream",
     "text": [
      "Previous HEAD position was 64a150e Cleanup discussion controller file\n",
      "HEAD is now at 223b263 Cleanup script controller file\n"
     ]
    },
    {
     "name": "stdout",
     "output_type": "stream",
     "text": [
      "\u001b[H\u001b[2J"
     ]
    },
    {
     "name": "stderr",
     "output_type": "stream",
     "text": [
      "Previous HEAD position was 223b263 Cleanup script controller file\n",
      "HEAD is now at 5416673 Repair undeclared var\n"
     ]
    },
    {
     "name": "stdout",
     "output_type": "stream",
     "text": [
      "\u001b[H\u001b[2J"
     ]
    },
    {
     "name": "stderr",
     "output_type": "stream",
     "text": [
      "Previous HEAD position was 5416673 Repair undeclared var\n",
      "HEAD is now at 34a9e34 Knock out a TODO in the script controller\n"
     ]
    },
    {
     "name": "stdout",
     "output_type": "stream",
     "text": [
      "\u001b[H\u001b[2J"
     ]
    },
    {
     "name": "stderr",
     "output_type": "stream",
     "text": [
      "Previous HEAD position was 34a9e34 Knock out a TODO in the script controller\n",
      "HEAD is now at cd06a23 Cleanup of scriptStorage\n"
     ]
    },
    {
     "name": "stdout",
     "output_type": "stream",
     "text": [
      "\u001b[H\u001b[2J"
     ]
    },
    {
     "name": "stderr",
     "output_type": "stream",
     "text": [
      "Previous HEAD position was cd06a23 Cleanup of scriptStorage\n",
      "HEAD is now at 9804558 Cleanup user controller file\n"
     ]
    },
    {
     "name": "stdout",
     "output_type": "stream",
     "text": [
      "\u001b[H\u001b[2J"
     ]
    },
    {
     "name": "stderr",
     "output_type": "stream",
     "text": [
      "Previous HEAD position was 9804558 Cleanup user controller file\n",
      "HEAD is now at cf2edc8 Miscellaneous controller cleanup\n"
     ]
    },
    {
     "name": "stdout",
     "output_type": "stream",
     "text": [
      "\u001b[H\u001b[2J"
     ]
    },
    {
     "name": "stderr",
     "output_type": "stream",
     "text": [
      "Previous HEAD position was cf2edc8 Miscellaneous controller cleanup\n",
      "HEAD is now at 00d0e20 Additional whitespace cleanup for controllers\n"
     ]
    },
    {
     "name": "stdout",
     "output_type": "stream",
     "text": [
      "\u001b[H\u001b[2J"
     ]
    },
    {
     "name": "stderr",
     "output_type": "stream",
     "text": [
      "Previous HEAD position was 00d0e20 Additional whitespace cleanup for controllers\n",
      "HEAD is now at bece4ab Do some console ops for visual tracking in authentication routine\n"
     ]
    },
    {
     "name": "stdout",
     "output_type": "stream",
     "text": [
      "\u001b[H\u001b[2J"
     ]
    },
    {
     "name": "stderr",
     "output_type": "stream",
     "text": [
      "Previous HEAD position was bece4ab Do some console ops for visual tracking in authentication routine\n",
      "HEAD is now at 560219b Comment cleanup\n"
     ]
    },
    {
     "name": "stdout",
     "output_type": "stream",
     "text": [
      "\u001b[H\u001b[2J"
     ]
    },
    {
     "name": "stderr",
     "output_type": "stream",
     "text": [
      "Previous HEAD position was 560219b Comment cleanup\n",
      "HEAD is now at 77ebbb3 Comment cleanup\n"
     ]
    },
    {
     "name": "stdout",
     "output_type": "stream",
     "text": [
      "\u001b[H\u001b[2J"
     ]
    },
    {
     "name": "stderr",
     "output_type": "stream",
     "text": [
      "Previous HEAD position was 77ebbb3 Comment cleanup\n",
      "HEAD is now at 6db7a65 Update the auth deps\n"
     ]
    },
    {
     "name": "stdout",
     "output_type": "stream",
     "text": [
      "\u001b[H\u001b[2J"
     ]
    },
    {
     "name": "stderr",
     "output_type": "stream",
     "text": [
      "Previous HEAD position was 6db7a65 Update the auth deps\n",
      "HEAD is now at a039277 Remove a legacy library route and it's dead duplicate\n"
     ]
    },
    {
     "name": "stdout",
     "output_type": "stream",
     "text": [
      "\u001b[H\u001b[2J"
     ]
    },
    {
     "name": "stderr",
     "output_type": "stream",
     "text": [
      "Previous HEAD position was a039277 Remove a legacy library route and it's dead duplicate\n",
      "HEAD is now at 1f82419 More encoding and controller symmetry\n"
     ]
    },
    {
     "name": "stdout",
     "output_type": "stream",
     "text": [
      "\u001b[H\u001b[2J"
     ]
    },
    {
     "name": "stderr",
     "output_type": "stream",
     "text": [
      "Previous HEAD position was 1f82419 More encoding and controller symmetry\n",
      "HEAD is now at da435f7 Standardize on \"base\" for identifier structure\n"
     ]
    },
    {
     "name": "stdout",
     "output_type": "stream",
     "text": [
      "\u001b[H\u001b[2J"
     ]
    },
    {
     "name": "stderr",
     "output_type": "stream",
     "text": [
      "Previous HEAD position was da435f7 Standardize on \"base\" for identifier structure\n",
      "HEAD is now at 52768bf Sync remove controller with latest nomenclature and flag controller signature\n"
     ]
    },
    {
     "name": "stdout",
     "output_type": "stream",
     "text": [
      "\u001b[H\u001b[2J"
     ]
    },
    {
     "name": "stderr",
     "output_type": "stream",
     "text": [
      "Previous HEAD position was 52768bf Sync remove controller with latest nomenclature and flag controller signature\n",
      "HEAD is now at 18a57d0 Update static fonts\n"
     ]
    },
    {
     "name": "stdout",
     "output_type": "stream",
     "text": [
      "\u001b[H\u001b[2J"
     ]
    },
    {
     "name": "stderr",
     "output_type": "stream",
     "text": [
      "Previous HEAD position was 18a57d0 Update static fonts\n",
      "HEAD is now at 4b4aaa0 Try changing preferred order for font loading\n"
     ]
    },
    {
     "name": "stdout",
     "output_type": "stream",
     "text": [
      "\u001b[H\u001b[2J"
     ]
    },
    {
     "name": "stderr",
     "output_type": "stream",
     "text": [
      "Previous HEAD position was 4b4aaa0 Try changing preferred order for font loading\n",
      "HEAD is now at d6fe146 Disable Amazon auth potential\n"
     ]
    },
    {
     "name": "stdout",
     "output_type": "stream",
     "text": [
      "\u001b[H\u001b[2J"
     ]
    },
    {
     "name": "stderr",
     "output_type": "stream",
     "text": [
      "Previous HEAD position was d6fe146 Disable Amazon auth potential\n",
      "HEAD is now at f771ea7 Some dep updates\n"
     ]
    },
    {
     "name": "stdout",
     "output_type": "stream",
     "text": [
      "\u001b[H\u001b[2J"
     ]
    },
    {
     "name": "stderr",
     "output_type": "stream",
     "text": [
      "Previous HEAD position was f771ea7 Some dep updates\n",
      "HEAD is now at 448ef4a Repair so error on `npm -ls` becomes a warning\n"
     ]
    },
    {
     "name": "stdout",
     "output_type": "stream",
     "text": [
      "\u001b[H\u001b[2J"
     ]
    },
    {
     "name": "stderr",
     "output_type": "stream",
     "text": [
      "Previous HEAD position was 448ef4a Repair so error on `npm -ls` becomes a warning\n",
      "HEAD is now at eba25fc Add *kerberos* dep even though we don't use it\n"
     ]
    },
    {
     "name": "stdout",
     "output_type": "stream",
     "text": [
      "\u001b[H\u001b[2J"
     ]
    },
    {
     "name": "stderr",
     "output_type": "stream",
     "text": [
      "Previous HEAD position was eba25fc Add *kerberos* dep even though we don't use it\n",
      "HEAD is now at 135cbe5 Move *kerberos* to optional dep\n"
     ]
    },
    {
     "name": "stdout",
     "output_type": "stream",
     "text": [
      "\u001b[H\u001b[2J"
     ]
    },
    {
     "name": "stderr",
     "output_type": "stream",
     "text": [
      "Previous HEAD position was 135cbe5 Move *kerberos* to optional dep\n",
      "HEAD is now at f6d443b Update Chrome.md\n"
     ]
    },
    {
     "name": "stdout",
     "output_type": "stream",
     "text": [
      "\u001b[H\u001b[2J"
     ]
    },
    {
     "name": "stderr",
     "output_type": "stream",
     "text": [
      "Previous HEAD position was f6d443b Update Chrome.md\n",
      "HEAD is now at 13a4397 Add Chromium to the About pages\n"
     ]
    },
    {
     "name": "stdout",
     "output_type": "stream",
     "text": [
      "\u001b[H\u001b[2J"
     ]
    },
    {
     "name": "stderr",
     "output_type": "stream",
     "text": [
      "Previous HEAD position was 13a4397 Add Chromium to the About pages\n",
      "HEAD is now at baad311 Update Tampermonkey-for-Chromium.md\n"
     ]
    },
    {
     "name": "stdout",
     "output_type": "stream",
     "text": [
      "\u001b[H\u001b[2J"
     ]
    },
    {
     "name": "stderr",
     "output_type": "stream",
     "text": [
      "Previous HEAD position was baad311 Update Tampermonkey-for-Chromium.md\n",
      "HEAD is now at fbcdc17 Update Tampermonkey-for-Chrome.md\n"
     ]
    },
    {
     "name": "stdout",
     "output_type": "stream",
     "text": [
      "\u001b[H\u001b[2J"
     ]
    },
    {
     "name": "stderr",
     "output_type": "stream",
     "text": [
      "Previous HEAD position was fbcdc17 Update Tampermonkey-for-Chrome.md\n",
      "HEAD is now at 26928fd Add the core FAQ\n"
     ]
    },
    {
     "name": "stdout",
     "output_type": "stream",
     "text": [
      "\u001b[H\u001b[2J"
     ]
    },
    {
     "name": "stderr",
     "output_type": "stream",
     "text": [
      "Previous HEAD position was 26928fd Add the core FAQ\n",
      "HEAD is now at b2f919f Post fix for #741\n"
     ]
    },
    {
     "name": "stdout",
     "output_type": "stream",
     "text": [
      "\u001b[H\u001b[2J"
     ]
    },
    {
     "name": "stderr",
     "output_type": "stream",
     "text": [
      "Previous HEAD position was b2f919f Post fix for #741\n",
      "HEAD is now at 551550b Fix highlighting in fenced quote\n"
     ]
    },
    {
     "name": "stdout",
     "output_type": "stream",
     "text": [
      "\u001b[H\u001b[2J"
     ]
    },
    {
     "name": "stderr",
     "output_type": "stream",
     "text": [
      "Previous HEAD position was 551550b Fix highlighting in fenced quote\n",
      "HEAD is now at 4a85b63 Patch the most common false \"hit\" with auto-linking\n"
     ]
    },
    {
     "name": "stdout",
     "output_type": "stream",
     "text": [
      "\u001b[H\u001b[2J"
     ]
    },
    {
     "name": "stderr",
     "output_type": "stream",
     "text": [
      "Previous HEAD position was 4a85b63 Patch the most common false \"hit\" with auto-linking\n",
      "HEAD is now at bde55db Repair issue count\n"
     ]
    },
    {
     "name": "stdout",
     "output_type": "stream",
     "text": [
      "\u001b[H\u001b[2J"
     ]
    },
    {
     "name": "stderr",
     "output_type": "stream",
     "text": [
      "Previous HEAD position was bde55db Repair issue count\n",
      "HEAD is now at 069468b Update README.md\n"
     ]
    },
    {
     "name": "stdout",
     "output_type": "stream",
     "text": [
      "\u001b[H\u001b[2J"
     ]
    },
    {
     "name": "stderr",
     "output_type": "stream",
     "text": [
      "Previous HEAD position was 069468b Update README.md\n",
      "HEAD is now at 3251795 Some dep updates and a doc CONTRIBUTING.md change\n"
     ]
    },
    {
     "name": "stdout",
     "output_type": "stream",
     "text": [
      "\u001b[H\u001b[2J"
     ]
    },
    {
     "name": "stderr",
     "output_type": "stream",
     "text": [
      "Previous HEAD position was 3251795 Some dep updates and a doc CONTRIBUTING.md change\n",
      "HEAD is now at b661e02 A dep update\n"
     ]
    },
    {
     "name": "stdout",
     "output_type": "stream",
     "text": [
      "\u001b[H\u001b[2J"
     ]
    },
    {
     "name": "stderr",
     "output_type": "stream",
     "text": [
      "Previous HEAD position was b661e02 A dep update\n",
      "HEAD is now at 940e888 Some dep updates\n"
     ]
    },
    {
     "name": "stdout",
     "output_type": "stream",
     "text": [
      "\u001b[H\u001b[2J"
     ]
    },
    {
     "name": "stderr",
     "output_type": "stream",
     "text": [
      "Previous HEAD position was 940e888 Some dep updates\n",
      "HEAD is now at ef89a28 Update README.md\n"
     ]
    },
    {
     "name": "stdout",
     "output_type": "stream",
     "text": [
      "\u001b[H\u001b[2J"
     ]
    },
    {
     "name": "stderr",
     "output_type": "stream",
     "text": [
      "Previous HEAD position was ef89a28 Update README.md\n",
      "HEAD is now at 2aee8cf Try bumping up the reconnect retries and interval for MongoDB\n"
     ]
    },
    {
     "name": "stdout",
     "output_type": "stream",
     "text": [
      "\u001b[H\u001b[2J"
     ]
    },
    {
     "name": "stderr",
     "output_type": "stream",
     "text": [
      "Previous HEAD position was 2aee8cf Try bumping up the reconnect retries and interval for MongoDB\n",
      "HEAD is now at 7ce4928 Console message to printout MongoDB version\n"
     ]
    },
    {
     "name": "stdout",
     "output_type": "stream",
     "text": [
      "\u001b[H\u001b[2J"
     ]
    },
    {
     "name": "stderr",
     "output_type": "stream",
     "text": [
      "Previous HEAD position was 7ce4928 Console message to printout MongoDB version\n",
      "HEAD is now at 5cdef93 Add console messages for app starting\n"
     ]
    },
    {
     "name": "stdout",
     "output_type": "stream",
     "text": [
      "\u001b[H\u001b[2J"
     ]
    },
    {
     "name": "stderr",
     "output_type": "stream",
     "text": [
      "Previous HEAD position was 5cdef93 Add console messages for app starting\n",
      "HEAD is now at 940e3c5 Some dep updates\n"
     ]
    },
    {
     "name": "stdout",
     "output_type": "stream",
     "text": [
      "\u001b[H\u001b[2J"
     ]
    },
    {
     "name": "stderr",
     "output_type": "stream",
     "text": [
      "Previous HEAD position was 940e3c5 Some dep updates\n",
      "HEAD is now at 4f6315c Some dep updates\n"
     ]
    },
    {
     "name": "stdout",
     "output_type": "stream",
     "text": [
      "\u001b[H\u001b[2J"
     ]
    },
    {
     "name": "stderr",
     "output_type": "stream",
     "text": [
      "Previous HEAD position was 4f6315c Some dep updates\n",
      "HEAD is now at bb16868 Change some defaults with MongoDB and stderr\n"
     ]
    },
    {
     "name": "stdout",
     "output_type": "stream",
     "text": [
      "\u001b[H\u001b[2J"
     ]
    },
    {
     "name": "stderr",
     "output_type": "stream",
     "text": [
      "Previous HEAD position was bb16868 Change some defaults with MongoDB and stderr\n",
      "HEAD is now at 6ae34da Add some event traps for MongoDB\n"
     ]
    },
    {
     "name": "stdout",
     "output_type": "stream",
     "text": [
      "\u001b[H\u001b[2J"
     ]
    },
    {
     "name": "stderr",
     "output_type": "stream",
     "text": [
      "Previous HEAD position was 6ae34da Add some event traps for MongoDB\n",
      "HEAD is now at 437957d Change some more defaults with MongoDB\n"
     ]
    },
    {
     "name": "stdout",
     "output_type": "stream",
     "text": [
      "\u001b[H\u001b[2J"
     ]
    },
    {
     "name": "stderr",
     "output_type": "stream",
     "text": [
      "Previous HEAD position was 437957d Change some more defaults with MongoDB\n",
      "HEAD is now at 674ca10 Some dep updates\n"
     ]
    },
    {
     "name": "stdout",
     "output_type": "stream",
     "text": [
      "\u001b[H\u001b[2J"
     ]
    },
    {
     "name": "stderr",
     "output_type": "stream",
     "text": [
      "Previous HEAD position was 674ca10 Some dep updates\n",
      "HEAD is now at bbdd8a0 Trap Group Save update with an error routine\n"
     ]
    },
    {
     "name": "stdout",
     "output_type": "stream",
     "text": [
      "\u001b[H\u001b[2J"
     ]
    },
    {
     "name": "stderr",
     "output_type": "stream",
     "text": [
      "Previous HEAD position was bbdd8a0 Trap Group Save update with an error routine\n",
      "HEAD is now at 5efb824 Create a drop down menu on the install button\n"
     ]
    },
    {
     "name": "stdout",
     "output_type": "stream",
     "text": [
      "\u001b[H\u001b[2J"
     ]
    },
    {
     "name": "stderr",
     "output_type": "stream",
     "text": [
      "Previous HEAD position was 5efb824 Create a drop down menu on the install button\n",
      "HEAD is now at ba2ed1a Allow some minification through the source urls\n"
     ]
    },
    {
     "name": "stdout",
     "output_type": "stream",
     "text": [
      "\u001b[H\u001b[2J"
     ]
    },
    {
     "name": "stderr",
     "output_type": "stream",
     "text": [
      "Previous HEAD position was ba2ed1a Allow some minification through the source urls\n",
      "HEAD is now at a9eed07 **EXPERIMENTAL** ES5 minification via url for libs ... Uses same routes but .min prefix on extension. If ES6 is encountered it should just not minify.\n"
     ]
    },
    {
     "name": "stdout",
     "output_type": "stream",
     "text": [
      "\u001b[H\u001b[2J"
     ]
    },
    {
     "name": "stderr",
     "output_type": "stream",
     "text": [
      "Previous HEAD position was a9eed07 **EXPERIMENTAL** ES5 minification via url for libs ... Uses same routes but .min prefix on extension. If ES6 is encountered it should just not minify.\n",
      "HEAD is now at 2d4585e UI fixes for experimental minification\n"
     ]
    },
    {
     "name": "stdout",
     "output_type": "stream",
     "text": [
      "\u001b[H\u001b[2J"
     ]
    },
    {
     "name": "stderr",
     "output_type": "stream",
     "text": [
      "Previous HEAD position was 2d4585e UI fixes for experimental minification\n",
      "HEAD is now at 8991755 Sync DOCs\n"
     ]
    },
    {
     "name": "stdout",
     "output_type": "stream",
     "text": [
      "\u001b[H\u001b[2J"
     ]
    },
    {
     "name": "stderr",
     "output_type": "stream",
     "text": [
      "Previous HEAD position was 8991755 Sync DOCs\n",
      "HEAD is now at 7b3c673 Add HTML5 Copy to Clipboard\n"
     ]
    },
    {
     "name": "stdout",
     "output_type": "stream",
     "text": [
      "\u001b[H\u001b[2J"
     ]
    },
    {
     "name": "stderr",
     "output_type": "stream",
     "text": [
      "Previous HEAD position was 7b3c673 Add HTML5 Copy to Clipboard\n",
      "HEAD is now at 9c25e46 Some dep updates\n"
     ]
    },
    {
     "name": "stdout",
     "output_type": "stream",
     "text": [
      "\u001b[H\u001b[2J"
     ]
    },
    {
     "name": "stderr",
     "output_type": "stream",
     "text": [
      "Previous HEAD position was 9c25e46 Some dep updates\n",
      "HEAD is now at 8394e34 Flip clipboard copy buttons to the left\n"
     ]
    },
    {
     "name": "stdout",
     "output_type": "stream",
     "text": [
      "\u001b[H\u001b[2J"
     ]
    },
    {
     "name": "stderr",
     "output_type": "stream",
     "text": [
      "Previous HEAD position was 8394e34 Flip clipboard copy buttons to the left\n",
      "HEAD is now at 0815ad3 Fix when `saveContent` flags are zero\n"
     ]
    },
    {
     "name": "stdout",
     "output_type": "stream",
     "text": [
      "\u001b[H\u001b[2J"
     ]
    },
    {
     "name": "stderr",
     "output_type": "stream",
     "text": [
      "Previous HEAD position was 0815ad3 Fix when `saveContent` flags are zero\n",
      "HEAD is now at c4735e8 Buttonize min install in the UI\n"
     ]
    },
    {
     "name": "stdout",
     "output_type": "stream",
     "text": [
      "\u001b[H\u001b[2J"
     ]
    },
    {
     "name": "stderr",
     "output_type": "stream",
     "text": [
      "Previous HEAD position was c4735e8 Buttonize min install in the UI\n",
      "HEAD is now at 4b56c92 Repair showing which script use which libs on OUJS\n"
     ]
    },
    {
     "name": "stdout",
     "output_type": "stream",
     "text": [
      "\u001b[H\u001b[2J"
     ]
    },
    {
     "name": "stderr",
     "output_type": "stream",
     "text": [
      "Previous HEAD position was 4b56c92 Repair showing which script use which libs on OUJS\n",
      "HEAD is now at 30ec186 Add trailing `.meta` reserved ext for lib names too\n"
     ]
    },
    {
     "name": "stdout",
     "output_type": "stream",
     "text": [
      "\u001b[H\u001b[2J"
     ]
    },
    {
     "name": "stderr",
     "output_type": "stream",
     "text": [
      "Previous HEAD position was 30ec186 Add trailing `.meta` reserved ext for lib names too\n",
      "HEAD is now at 8566645 Some dep updates\n"
     ]
    },
    {
     "name": "stdout",
     "output_type": "stream",
     "text": [
      "\u001b[H\u001b[2J"
     ]
    },
    {
     "name": "stderr",
     "output_type": "stream",
     "text": [
      "Previous HEAD position was 8566645 Some dep updates\n",
      "HEAD is now at 43df8e7 Remove *passport-persona*\n"
     ]
    },
    {
     "name": "stdout",
     "output_type": "stream",
     "text": [
      "\u001b[H\u001b[2J"
     ]
    },
    {
     "name": "stderr",
     "output_type": "stream",
     "text": [
      "Previous HEAD position was 43df8e7 Remove *passport-persona*\n",
      "HEAD is now at 55cb36f Integrate file uploads into *bootstrap*\n"
     ]
    },
    {
     "name": "stdout",
     "output_type": "stream",
     "text": [
      "\u001b[H\u001b[2J"
     ]
    },
    {
     "name": "stderr",
     "output_type": "stream",
     "text": [
      "Previous HEAD position was 55cb36f Integrate file uploads into *bootstrap*\n",
      "HEAD is now at 15b026e Some dep changes\n"
     ]
    },
    {
     "name": "stdout",
     "output_type": "stream",
     "text": [
      "\u001b[H\u001b[2J"
     ]
    },
    {
     "name": "stderr",
     "output_type": "stream",
     "text": [
      "Previous HEAD position was 15b026e Some dep changes\n",
      "HEAD is now at d458872 Remove any of OUJS usage of glyphicons\n"
     ]
    },
    {
     "name": "stdout",
     "output_type": "stream",
     "text": [
      "\u001b[H\u001b[2J"
     ]
    },
    {
     "name": "stderr",
     "output_type": "stream",
     "text": [
      "Previous HEAD position was d458872 Remove any of OUJS usage of glyphicons\n",
      "HEAD is now at 17b862a Some dep updates\n"
     ]
    },
    {
     "name": "stdout",
     "output_type": "stream",
     "text": [
      "\u001b[H\u001b[2J"
     ]
    },
    {
     "name": "stderr",
     "output_type": "stream",
     "text": [
      "Previous HEAD position was 17b862a Some dep updates\n",
      "HEAD is now at 38d4c39 Don't mangle identifiers\n"
     ]
    },
    {
     "name": "stdout",
     "output_type": "stream",
     "text": [
      "\u001b[H\u001b[2J"
     ]
    },
    {
     "name": "stderr",
     "output_type": "stream",
     "text": [
      "Previous HEAD position was 38d4c39 Don't mangle identifiers\n",
      "HEAD is now at 95cdb1e Some dep updates\n"
     ]
    },
    {
     "name": "stdout",
     "output_type": "stream",
     "text": [
      "\u001b[H\u001b[2J"
     ]
    },
    {
     "name": "stderr",
     "output_type": "stream",
     "text": [
      "Previous HEAD position was 95cdb1e Some dep updates\n",
      "HEAD is now at 32ac424 Some dep updates\n"
     ]
    },
    {
     "name": "stdout",
     "output_type": "stream",
     "text": [
      "\u001b[H\u001b[2J"
     ]
    },
    {
     "name": "stderr",
     "output_type": "stream",
     "text": [
      "Previous HEAD position was 32ac424 Some dep updates\n",
      "HEAD is now at 911c117 Move script minification to UglifyJS2 harmony branch fork\n"
     ]
    },
    {
     "name": "stdout",
     "output_type": "stream",
     "text": [
      "\u001b[H\u001b[2J"
     ]
    },
    {
     "name": "stderr",
     "output_type": "stream",
     "text": [
      "Previous HEAD position was 911c117 Move script minification to UglifyJS2 harmony branch fork\n",
      "HEAD is now at a029ca8 Repair meta route\n"
     ]
    },
    {
     "name": "stdout",
     "output_type": "stream",
     "text": [
      "\u001b[H\u001b[2J"
     ]
    },
    {
     "name": "stderr",
     "output_type": "stream",
     "text": [
      "Previous HEAD position was a029ca8 Repair meta route\n",
      "HEAD is now at 30c93c4 Repair output on buffer\n"
     ]
    },
    {
     "name": "stdout",
     "output_type": "stream",
     "text": [
      "\u001b[H\u001b[2J"
     ]
    },
    {
     "name": "stderr",
     "output_type": "stream",
     "text": [
      "Previous HEAD position was 30c93c4 Repair output on buffer\n",
      "HEAD is now at 3a46f2c Some dep updates\n"
     ]
    },
    {
     "name": "stdout",
     "output_type": "stream",
     "text": [
      "\u001b[H\u001b[2J"
     ]
    },
    {
     "name": "stderr",
     "output_type": "stream",
     "text": [
      "Previous HEAD position was 3a46f2c Some dep updates\n",
      "HEAD is now at f1ec00e Some dep updates\n"
     ]
    },
    {
     "name": "stdout",
     "output_type": "stream",
     "text": [
      "\u001b[H\u001b[2J"
     ]
    },
    {
     "name": "stderr",
     "output_type": "stream",
     "text": [
      "Previous HEAD position was f1ec00e Some dep updates\n",
      "HEAD is now at 70991c3 A dep update\n"
     ]
    },
    {
     "name": "stdout",
     "output_type": "stream",
     "text": [
      "\u001b[H\u001b[2J"
     ]
    },
    {
     "name": "stderr",
     "output_type": "stream",
     "text": [
      "Previous HEAD position was 70991c3 A dep update\n",
      "HEAD is now at 3a5bddd Some dep updates\n"
     ]
    },
    {
     "name": "stdout",
     "output_type": "stream",
     "text": [
      "\u001b[H\u001b[2J"
     ]
    },
    {
     "name": "stderr",
     "output_type": "stream",
     "text": [
      "Previous HEAD position was 3a5bddd Some dep updates\n",
      "HEAD is now at ae222ec Some visual notices for script minification issues\n"
     ]
    },
    {
     "name": "stdout",
     "output_type": "stream",
     "text": [
      "\u001b[H\u001b[2J"
     ]
    },
    {
     "name": "stderr",
     "output_type": "stream",
     "text": [
      "Previous HEAD position was ae222ec Some visual notices for script minification issues\n",
      "HEAD is now at 9e69db7 Bypass notices on certain unicode strings.\n"
     ]
    },
    {
     "name": "stdout",
     "output_type": "stream",
     "text": [
      "\u001b[H\u001b[2J"
     ]
    },
    {
     "name": "stderr",
     "output_type": "stream",
     "text": [
      "Previous HEAD position was 9e69db7 Bypass notices on certain unicode strings.\n",
      "HEAD is now at a13f083 Backout other notices\n"
     ]
    },
    {
     "name": "stdout",
     "output_type": "stream",
     "text": [
      "\u001b[H\u001b[2J"
     ]
    },
    {
     "name": "stderr",
     "output_type": "stream",
     "text": [
      "Previous HEAD position was a13f083 Backout other notices\n",
      "HEAD is now at 58f0f94 Some dep updates\n"
     ]
    },
    {
     "name": "stdout",
     "output_type": "stream",
     "text": [
      "\u001b[H\u001b[2J"
     ]
    },
    {
     "name": "stderr",
     "output_type": "stream",
     "text": [
      "Previous HEAD position was 58f0f94 Some dep updates\n",
      "HEAD is now at 0e51e20 Enable script cache from Server to Client\n"
     ]
    },
    {
     "name": "stdout",
     "output_type": "stream",
     "text": [
      "\u001b[H\u001b[2J"
     ]
    },
    {
     "name": "stderr",
     "output_type": "stream",
     "text": [
      "Previous HEAD position was 0e51e20 Enable script cache from Server to Client\n",
      "HEAD is now at b3468d2 Revert #894\n"
     ]
    },
    {
     "name": "stdout",
     "output_type": "stream",
     "text": [
      "\u001b[H\u001b[2J"
     ]
    },
    {
     "name": "stderr",
     "output_type": "stream",
     "text": [
      "Previous HEAD position was b3468d2 Revert #894\n",
      "HEAD is now at 9bff244 Update README.md\n"
     ]
    },
    {
     "name": "stdout",
     "output_type": "stream",
     "text": [
      "\u001b[H\u001b[2J"
     ]
    },
    {
     "name": "stderr",
     "output_type": "stream",
     "text": [
      "Previous HEAD position was 9bff244 Update README.md\n",
      "HEAD is now at bb0f885 Some identifier symmetry and STYLEGUIDE.md conformance\n"
     ]
    },
    {
     "name": "stdout",
     "output_type": "stream",
     "text": [
      "\u001b[H\u001b[2J"
     ]
    },
    {
     "name": "stderr",
     "output_type": "stream",
     "text": [
      "Previous HEAD position was bb0f885 Some identifier symmetry and STYLEGUIDE.md conformance\n",
      "HEAD is now at 02ebd4e Some dep updates and `.github` folder creation\n"
     ]
    },
    {
     "name": "stdout",
     "output_type": "stream",
     "text": [
      "\u001b[H\u001b[2J"
     ]
    },
    {
     "name": "stderr",
     "output_type": "stream",
     "text": [
      "Previous HEAD position was 02ebd4e Some dep updates and `.github` folder creation\n",
      "HEAD is now at 1be5ef5 Update CONTRIBUTING.md\n"
     ]
    },
    {
     "name": "stdout",
     "output_type": "stream",
     "text": [
      "\u001b[H\u001b[2J"
     ]
    },
    {
     "name": "stderr",
     "output_type": "stream",
     "text": [
      "Previous HEAD position was 1be5ef5 Update CONTRIBUTING.md\n",
      "HEAD is now at 26deb14 Some dep updates\n"
     ]
    },
    {
     "name": "stdout",
     "output_type": "stream",
     "text": [
      "\u001b[H\u001b[2J"
     ]
    },
    {
     "name": "stderr",
     "output_type": "stream",
     "text": [
      "Previous HEAD position was 26deb14 Some dep updates\n",
      "HEAD is now at 9045baa Fix meta.json to not use *express-minify*\n"
     ]
    },
    {
     "name": "stdout",
     "output_type": "stream",
     "text": [
      "\u001b[H\u001b[2J"
     ]
    },
    {
     "name": "stderr",
     "output_type": "stream",
     "text": [
      "Previous HEAD position was 9045baa Fix meta.json to not use *express-minify*\n",
      "HEAD is now at 9ff620f Fix some bugs with encoding\n"
     ]
    },
    {
     "name": "stdout",
     "output_type": "stream",
     "text": [
      "\u001b[H\u001b[2J"
     ]
    },
    {
     "name": "stderr",
     "output_type": "stream",
     "text": [
      "Previous HEAD position was 9ff620f Fix some bugs with encoding\n",
      "HEAD is now at 1b72e08 Change *async* removal to be series instead of parallel\n"
     ]
    },
    {
     "name": "stdout",
     "output_type": "stream",
     "text": [
      "\u001b[H\u001b[2J"
     ]
    },
    {
     "name": "stderr",
     "output_type": "stream",
     "text": [
      "Previous HEAD position was 1b72e08 Change *async* removal to be series instead of parallel\n",
      "HEAD is now at f81e591 Post fix typo\n"
     ]
    },
    {
     "name": "stdout",
     "output_type": "stream",
     "text": [
      "\u001b[H\u001b[2J"
     ]
    },
    {
     "name": "stderr",
     "output_type": "stream",
     "text": [
      "Previous HEAD position was f81e591 Post fix typo\n",
      "HEAD is now at 6df8755 Tweak some logging messages\n"
     ]
    },
    {
     "name": "stdout",
     "output_type": "stream",
     "text": [
      "\u001b[H\u001b[2J"
     ]
    },
    {
     "name": "stderr",
     "output_type": "stream",
     "text": [
      "Previous HEAD position was 6df8755 Tweak some logging messages\n",
      "HEAD is now at 7c89739 Update README.md\n"
     ]
    },
    {
     "name": "stdout",
     "output_type": "stream",
     "text": [
      "\u001b[H\u001b[2J"
     ]
    },
    {
     "name": "stderr",
     "output_type": "stream",
     "text": [
      "Previous HEAD position was 7c89739 Update README.md\n",
      "HEAD is now at 2f9a689 Add Comment and Discussion to removal\n"
     ]
    },
    {
     "name": "stdout",
     "output_type": "stream",
     "text": [
      "\u001b[H\u001b[2J"
     ]
    },
    {
     "name": "stderr",
     "output_type": "stream",
     "text": [
      "Previous HEAD position was 2f9a689 Add Comment and Discussion to removal\n",
      "HEAD is now at 9969864 Fix bug with `User` not being in removal reparse section\n"
     ]
    },
    {
     "name": "stdout",
     "output_type": "stream",
     "text": [
      "\u001b[H\u001b[2J"
     ]
    },
    {
     "name": "stderr",
     "output_type": "stream",
     "text": [
      "Previous HEAD position was 9969864 Fix bug with `User` not being in removal reparse section\n",
      "HEAD is now at ded1317 Update Userscript-Beginners-HOWTO.md\n"
     ]
    },
    {
     "name": "stdout",
     "output_type": "stream",
     "text": [
      "\u001b[H\u001b[2J"
     ]
    },
    {
     "name": "stderr",
     "output_type": "stream",
     "text": [
      "Previous HEAD position was ded1317 Update Userscript-Beginners-HOWTO.md\n",
      "HEAD is now at d925405 Update Userscript-Beginners-HOWTO.md\n"
     ]
    },
    {
     "name": "stdout",
     "output_type": "stream",
     "text": [
      "\u001b[H\u001b[2J"
     ]
    },
    {
     "name": "stderr",
     "output_type": "stream",
     "text": [
      "Previous HEAD position was d925405 Update Userscript-Beginners-HOWTO.md\n",
      "HEAD is now at 85a1d31 Update Userscript-Beginners-HOWTO.md\n"
     ]
    },
    {
     "name": "stdout",
     "output_type": "stream",
     "text": [
      "\u001b[H\u001b[2J"
     ]
    },
    {
     "name": "stderr",
     "output_type": "stream",
     "text": [
      "Previous HEAD position was 85a1d31 Update Userscript-Beginners-HOWTO.md\n",
      "HEAD is now at 318628e Update Userscript-Beginners-HOWTO.md\n"
     ]
    },
    {
     "name": "stdout",
     "output_type": "stream",
     "text": [
      "\u001b[H\u001b[2J"
     ]
    },
    {
     "name": "stderr",
     "output_type": "stream",
     "text": [
      "Previous HEAD position was 318628e Update Userscript-Beginners-HOWTO.md\n",
      "HEAD is now at 5603dda Refix source code viewer has tiny height\n"
     ]
    },
    {
     "name": "stdout",
     "output_type": "stream",
     "text": [
      "\u001b[H\u001b[2J"
     ]
    },
    {
     "name": "stderr",
     "output_type": "stream",
     "text": [
      "Previous HEAD position was 5603dda Refix source code viewer has tiny height\n",
      "HEAD is now at dc8399f More followup for source code has tiny height\n"
     ]
    },
    {
     "name": "stdout",
     "output_type": "stream",
     "text": [
      "\u001b[H\u001b[2J"
     ]
    },
    {
     "name": "stderr",
     "output_type": "stream",
     "text": [
      "Previous HEAD position was dc8399f More followup for source code has tiny height\n",
      "HEAD is now at 27a8962 DOC enhancements\n"
     ]
    },
    {
     "name": "stdout",
     "output_type": "stream",
     "text": [
      "\u001b[H\u001b[2J"
     ]
    },
    {
     "name": "stderr",
     "output_type": "stream",
     "text": [
      "Previous HEAD position was 27a8962 DOC enhancements\n",
      "HEAD is now at a6e8f3f Update STYLEGUIDE.md\n"
     ]
    },
    {
     "name": "stdout",
     "output_type": "stream",
     "text": [
      "\u001b[H\u001b[2J"
     ]
    },
    {
     "name": "stderr",
     "output_type": "stream",
     "text": [
      "Previous HEAD position was a6e8f3f Update STYLEGUIDE.md\n",
      "HEAD is now at 25eda7a Update STYLEGUIDE.md\n"
     ]
    },
    {
     "name": "stdout",
     "output_type": "stream",
     "text": [
      "\u001b[H\u001b[2J"
     ]
    },
    {
     "name": "stderr",
     "output_type": "stream",
     "text": [
      "Previous HEAD position was 25eda7a Update STYLEGUIDE.md\n",
      "HEAD is now at 7c4935e Some dep updates\n"
     ]
    },
    {
     "name": "stdout",
     "output_type": "stream",
     "text": [
      "\u001b[H\u001b[2J"
     ]
    },
    {
     "name": "stderr",
     "output_type": "stream",
     "text": [
      "Previous HEAD position was 7c4935e Some dep updates\n",
      "HEAD is now at e6fa853 A dependency downgrade\n"
     ]
    },
    {
     "name": "stdout",
     "output_type": "stream",
     "text": [
      "\u001b[H\u001b[2J"
     ]
    },
    {
     "name": "stderr",
     "output_type": "stream",
     "text": [
      "Previous HEAD position was e6fa853 A dependency downgrade\n",
      "HEAD is now at bb9b1d9 Reinstate *mongoose* dep\n"
     ]
    },
    {
     "name": "stdout",
     "output_type": "stream",
     "text": [
      "\u001b[H\u001b[2J"
     ]
    },
    {
     "name": "stderr",
     "output_type": "stream",
     "text": [
      "Previous HEAD position was bb9b1d9 Reinstate *mongoose* dep\n",
      "HEAD is now at 6163dbd Move *express-minify* cache from memory to disk\n"
     ]
    },
    {
     "name": "stdout",
     "output_type": "stream",
     "text": [
      "\u001b[H\u001b[2J"
     ]
    },
    {
     "name": "stderr",
     "output_type": "stream",
     "text": [
      "Previous HEAD position was 6163dbd Move *express-minify* cache from memory to disk\n",
      "HEAD is now at 93c1204 Post fix for `@supportURL` and `homepageURL`\n"
     ]
    },
    {
     "name": "stdout",
     "output_type": "stream",
     "text": [
      "\u001b[H\u001b[2J"
     ]
    },
    {
     "name": "stderr",
     "output_type": "stream",
     "text": [
      "Previous HEAD position was 93c1204 Post fix for `@supportURL` and `homepageURL`\n",
      "HEAD is now at 02ea908 Some dep updates\n"
     ]
    },
    {
     "name": "stdout",
     "output_type": "stream",
     "text": [
      "\u001b[H\u001b[2J"
     ]
    },
    {
     "name": "stderr",
     "output_type": "stream",
     "text": [
      "Previous HEAD position was 02ea908 Some dep updates\n",
      "HEAD is now at beef02d Add Minified Source dropdown to Raw Source script page\n"
     ]
    },
    {
     "name": "stdout",
     "output_type": "stream",
     "text": [
      "\u001b[H\u001b[2J"
     ]
    },
    {
     "name": "stderr",
     "output_type": "stream",
     "text": [
      "Previous HEAD position was beef02d Add Minified Source dropdown to Raw Source script page\n",
      "HEAD is now at 0275003 Set up a `Warning` header for minification failure\n"
     ]
    },
    {
     "name": "stdout",
     "output_type": "stream",
     "text": [
      "\u001b[H\u001b[2J"
     ]
    },
    {
     "name": "stderr",
     "output_type": "stream",
     "text": [
      "Previous HEAD position was 0275003 Set up a `Warning` header for minification failure\n",
      "HEAD is now at 8bae4ed Transform two common extended ASCII *(Unicode) chars to back ticks if present\n"
     ]
    },
    {
     "name": "stdout",
     "output_type": "stream",
     "text": [
      "\u001b[H\u001b[2J"
     ]
    },
    {
     "name": "stderr",
     "output_type": "stream",
     "text": [
      "Previous HEAD position was 8bae4ed Transform two common extended ASCII *(Unicode) chars to back ticks if present\n",
      "HEAD is now at 0737ae4 Readd other notices back in\n"
     ]
    },
    {
     "name": "stdout",
     "output_type": "stream",
     "text": [
      "\u001b[H\u001b[2J"
     ]
    },
    {
     "name": "stderr",
     "output_type": "stream",
     "text": [
      "Previous HEAD position was 0737ae4 Readd other notices back in\n",
      "HEAD is now at d49a1df Fix typo\n"
     ]
    },
    {
     "name": "stdout",
     "output_type": "stream",
     "text": [
      "\u001b[H\u001b[2J"
     ]
    },
    {
     "name": "stderr",
     "output_type": "stream",
     "text": [
      "Previous HEAD position was d49a1df Fix typo\n",
      "HEAD is now at 4e171d9 Mirror notices to Source Code page\n"
     ]
    },
    {
     "name": "stdout",
     "output_type": "stream",
     "text": [
      "\u001b[H\u001b[2J"
     ]
    },
    {
     "name": "stderr",
     "output_type": "stream",
     "text": [
      "Previous HEAD position was 4e171d9 Mirror notices to Source Code page\n",
      "HEAD is now at cb7faae Split out notices in views\n"
     ]
    },
    {
     "name": "stdout",
     "output_type": "stream",
     "text": [
      "\u001b[H\u001b[2J"
     ]
    },
    {
     "name": "stderr",
     "output_type": "stream",
     "text": [
      "Previous HEAD position was cb7faae Split out notices in views\n",
      "HEAD is now at 7d35139 Add undocumented auto-gifting(s) to the json\n"
     ]
    },
    {
     "name": "stdout",
     "output_type": "stream",
     "text": [
      "\u001b[H\u001b[2J"
     ]
    },
    {
     "name": "stderr",
     "output_type": "stream",
     "text": [
      "Previous HEAD position was 7d35139 Add undocumented auto-gifting(s) to the json\n",
      "HEAD is now at 5bcb950 Add a Pale Moon doc\n"
     ]
    },
    {
     "name": "stdout",
     "output_type": "stream",
     "text": [
      "\u001b[H\u001b[2J"
     ]
    },
    {
     "name": "stderr",
     "output_type": "stream",
     "text": [
      "Previous HEAD position was 5bcb950 Add a Pale Moon doc\n",
      "HEAD is now at de4b8f5 Redirect to issues page on down vote\n"
     ]
    },
    {
     "name": "stdout",
     "output_type": "stream",
     "text": [
      "\u001b[H\u001b[2J"
     ]
    },
    {
     "name": "stderr",
     "output_type": "stream",
     "text": [
      "Previous HEAD position was de4b8f5 Redirect to issues page on down vote\n",
      "HEAD is now at 8ce3775 Some dep updates\n"
     ]
    },
    {
     "name": "stdout",
     "output_type": "stream",
     "text": [
      "\u001b[H\u001b[2J"
     ]
    },
    {
     "name": "stderr",
     "output_type": "stream",
     "text": [
      "Previous HEAD position was 8ce3775 Some dep updates\n",
      "HEAD is now at 32c278e Fix a typo\n"
     ]
    },
    {
     "name": "stdout",
     "output_type": "stream",
     "text": [
      "\u001b[H\u001b[2J"
     ]
    },
    {
     "name": "stderr",
     "output_type": "stream",
     "text": [
      "Previous HEAD position was 32c278e Fix a typo\n",
      "HEAD is now at d76c8a9 Admin and back-end fixes\n"
     ]
    },
    {
     "name": "stdout",
     "output_type": "stream",
     "text": [
      "\u001b[H\u001b[2J"
     ]
    },
    {
     "name": "stderr",
     "output_type": "stream",
     "text": [
      "Previous HEAD position was d76c8a9 Admin and back-end fixes\n",
      "HEAD is now at c7738ef Indent code\n"
     ]
    },
    {
     "name": "stdout",
     "output_type": "stream",
     "text": [
      "\u001b[H\u001b[2J"
     ]
    },
    {
     "name": "stderr",
     "output_type": "stream",
     "text": [
      "Previous HEAD position was c7738ef Indent code\n",
      "HEAD is now at 35edd43 Some dep updates\n"
     ]
    },
    {
     "name": "stdout",
     "output_type": "stream",
     "text": [
      "\u001b[H\u001b[2J"
     ]
    },
    {
     "name": "stderr",
     "output_type": "stream",
     "text": [
      "Previous HEAD position was 35edd43 Some dep updates\n",
      "HEAD is now at 1d79347 Refix negative absolute flags\n"
     ]
    },
    {
     "name": "stdout",
     "output_type": "stream",
     "text": [
      "\u001b[H\u001b[2J"
     ]
    },
    {
     "name": "stderr",
     "output_type": "stream",
     "text": [
      "Previous HEAD position was 1d79347 Refix negative absolute flags\n",
      "HEAD is now at d9e2615 Refix yet again absolutes.\n"
     ]
    },
    {
     "name": "stdout",
     "output_type": "stream",
     "text": [
      "\u001b[H\u001b[2J"
     ]
    },
    {
     "name": "stderr",
     "output_type": "stream",
     "text": [
      "Previous HEAD position was d9e2615 Refix yet again absolutes.\n",
      "HEAD is now at 764a4bb Some dep updates\n"
     ]
    },
    {
     "name": "stdout",
     "output_type": "stream",
     "text": [
      "\u001b[H\u001b[2J"
     ]
    },
    {
     "name": "stderr",
     "output_type": "stream",
     "text": [
      "Previous HEAD position was 764a4bb Some dep updates\n",
      "HEAD is now at e5732c0 Fill out QupZilla a bit\n"
     ]
    },
    {
     "name": "stdout",
     "output_type": "stream",
     "text": [
      "\u001b[H\u001b[2J"
     ]
    },
    {
     "name": "stderr",
     "output_type": "stream",
     "text": [
      "Previous HEAD position was e5732c0 Fill out QupZilla a bit\n",
      "HEAD is now at 0eaeab3 Add Fair Use Icon refs for browsers mentioned\n"
     ]
    },
    {
     "name": "stdout",
     "output_type": "stream",
     "text": [
      "\u001b[H\u001b[2J"
     ]
    },
    {
     "name": "stderr",
     "output_type": "stream",
     "text": [
      "Previous HEAD position was 0eaeab3 Add Fair Use Icon refs for browsers mentioned\n",
      "HEAD is now at 0e4b3d8 Some dep updates\n"
     ]
    },
    {
     "name": "stdout",
     "output_type": "stream",
     "text": [
      "\u001b[H\u001b[2J"
     ]
    },
    {
     "name": "stderr",
     "output_type": "stream",
     "text": [
      "Previous HEAD position was 0e4b3d8 Some dep updates\n",
      "HEAD is now at d1d5a49 Add server side environment var to disable script minification\n"
     ]
    },
    {
     "name": "stdout",
     "output_type": "stream",
     "text": [
      "\u001b[H\u001b[2J"
     ]
    },
    {
     "name": "stderr",
     "output_type": "stream",
     "text": [
      "Previous HEAD position was d1d5a49 Add server side environment var to disable script minification\n",
      "HEAD is now at 83fde21 Create a BUSY landing page\n"
     ]
    },
    {
     "name": "stdout",
     "output_type": "stream",
     "text": [
      "\u001b[H\u001b[2J"
     ]
    },
    {
     "name": "stderr",
     "output_type": "stream",
     "text": [
      "Previous HEAD position was 83fde21 Create a BUSY landing page\n",
      "HEAD is now at 4c1e4ad Test if `pipe` method has a leak\n"
     ]
    },
    {
     "name": "stdout",
     "output_type": "stream",
     "text": [
      "\u001b[H\u001b[2J"
     ]
    },
    {
     "name": "stderr",
     "output_type": "stream",
     "text": [
      "Previous HEAD position was 4c1e4ad Test if `pipe` method has a leak\n",
      "HEAD is now at 5962934 Path `sendScript` to use ES6 created identifiers\n"
     ]
    },
    {
     "name": "stdout",
     "output_type": "stream",
     "text": [
      "\u001b[H\u001b[2J"
     ]
    },
    {
     "name": "stderr",
     "output_type": "stream",
     "text": [
      "Previous HEAD position was 5962934 Path `sendScript` to use ES6 created identifiers\n",
      "HEAD is now at 52fb1e9 *toobusy-js* script sources\n"
     ]
    },
    {
     "name": "stdout",
     "output_type": "stream",
     "text": [
      "\u001b[H\u001b[2J"
     ]
    },
    {
     "name": "stderr",
     "output_type": "stream",
     "text": [
      "Previous HEAD position was 52fb1e9 *toobusy-js* script sources\n",
      "HEAD is now at 2c71741 Move git API calls to Admin+ only\n"
     ]
    },
    {
     "name": "stdout",
     "output_type": "stream",
     "text": [
      "\u001b[H\u001b[2J"
     ]
    },
    {
     "name": "stderr",
     "output_type": "stream",
     "text": [
      "Previous HEAD position was 2c71741 Move git API calls to Admin+ only\n",
      "HEAD is now at 7194673 Move `git` calls to /admin route\n"
     ]
    },
    {
     "name": "stdout",
     "output_type": "stream",
     "text": [
      "\u001b[H\u001b[2J"
     ]
    },
    {
     "name": "stderr",
     "output_type": "stream",
     "text": [
      "Previous HEAD position was 7194673 Move `git` calls to /admin route\n",
      "HEAD is now at 5aea1ae Enable a togglable `@updateURL` checker for script checking on OUJS\n"
     ]
    },
    {
     "name": "stdout",
     "output_type": "stream",
     "text": [
      "\u001b[H\u001b[2J"
     ]
    },
    {
     "name": "stderr",
     "output_type": "stream",
     "text": [
      "Previous HEAD position was 5aea1ae Enable a togglable `@updateURL` checker for script checking on OUJS\n",
      "HEAD is now at 9263fb6 Repair legacy meta.js routine\n"
     ]
    },
    {
     "name": "stdout",
     "output_type": "stream",
     "text": [
      "\u001b[H\u001b[2J"
     ]
    },
    {
     "name": "stderr",
     "output_type": "stream",
     "text": [
      "Previous HEAD position was 9263fb6 Repair legacy meta.js routine\n",
      "HEAD is now at dfd2cdb Move the `maxLag` back into middleware\n"
     ]
    },
    {
     "name": "stdout",
     "output_type": "stream",
     "text": [
      "\u001b[H\u001b[2J"
     ]
    },
    {
     "name": "stderr",
     "output_type": "stream",
     "text": [
      "Previous HEAD position was dfd2cdb Move the `maxLag` back into middleware\n",
      "HEAD is now at 9050dd3 Weighted *toobusy-js*\n"
     ]
    },
    {
     "name": "stdout",
     "output_type": "stream",
     "text": [
      "\u001b[H\u001b[2J"
     ]
    },
    {
     "name": "stderr",
     "output_type": "stream",
     "text": [
      "Previous HEAD position was 9050dd3 Weighted *toobusy-js*\n",
      "HEAD is now at 317db59 Auto check for low memory in middleware\n"
     ]
    },
    {
     "name": "stdout",
     "output_type": "stream",
     "text": [
      "\u001b[H\u001b[2J"
     ]
    },
    {
     "name": "stderr",
     "output_type": "stream",
     "text": [
      "Previous HEAD position was 317db59 Auto check for low memory in middleware\n",
      "HEAD is now at f3c0d42 Post fix for #959\n"
     ]
    },
    {
     "name": "stdout",
     "output_type": "stream",
     "text": [
      "\u001b[H\u001b[2J"
     ]
    },
    {
     "name": "stderr",
     "output_type": "stream",
     "text": [
      "Previous HEAD position was f3c0d42 Post fix for #959\n",
      "HEAD is now at 9b31433 Lower sources over pages by 1/3rd with mem check\n"
     ]
    },
    {
     "name": "stdout",
     "output_type": "stream",
     "text": [
      "\u001b[H\u001b[2J"
     ]
    },
    {
     "name": "stderr",
     "output_type": "stream",
     "text": [
      "Previous HEAD position was 9b31433 Lower sources over pages by 1/3rd with mem check\n",
      "HEAD is now at 47fa079 Split `Accept` parms on comma\n"
     ]
    },
    {
     "name": "stdout",
     "output_type": "stream",
     "text": [
      "\u001b[H\u001b[2J"
     ]
    },
    {
     "name": "stderr",
     "output_type": "stream",
     "text": [
      "Previous HEAD position was 47fa079 Split `Accept` parms on comma\n",
      "HEAD is now at c7a38fc Test for undefined\n"
     ]
    },
    {
     "name": "stdout",
     "output_type": "stream",
     "text": [
      "\u001b[H\u001b[2J"
     ]
    },
    {
     "name": "stderr",
     "output_type": "stream",
     "text": [
      "Previous HEAD position was c7a38fc Test for undefined\n",
      "HEAD is now at abec221 Cap TM this time\n"
     ]
    },
    {
     "name": "stdout",
     "output_type": "stream",
     "text": [
      "\u001b[H\u001b[2J"
     ]
    },
    {
     "name": "stderr",
     "output_type": "stream",
     "text": [
      "Previous HEAD position was abec221 Cap TM this time\n",
      "HEAD is now at 384403e Update Frequently-Asked-Questions.md\n"
     ]
    },
    {
     "name": "stdout",
     "output_type": "stream",
     "text": [
      "\u001b[H\u001b[2J"
     ]
    },
    {
     "name": "stderr",
     "output_type": "stream",
     "text": [
      "Previous HEAD position was 384403e Update Frequently-Asked-Questions.md\n",
      "HEAD is now at 8ad1c29 Update Frequently-Asked-Questions.md\n"
     ]
    },
    {
     "name": "stdout",
     "output_type": "stream",
     "text": [
      "\u001b[H\u001b[2J"
     ]
    },
    {
     "name": "stderr",
     "output_type": "stream",
     "text": [
      "Previous HEAD position was 8ad1c29 Update Frequently-Asked-Questions.md\n",
      "HEAD is now at a71cf3b Use one `maxLag` value\n"
     ]
    },
    {
     "name": "stdout",
     "output_type": "stream",
     "text": [
      "\u001b[H\u001b[2J"
     ]
    },
    {
     "name": "stderr",
     "output_type": "stream",
     "text": [
      "Previous HEAD position was a71cf3b Use one `maxLag` value\n",
      "HEAD is now at ae8c0bc Do some TM redirects\n"
     ]
    },
    {
     "name": "stdout",
     "output_type": "stream",
     "text": [
      "\u001b[H\u001b[2J"
     ]
    },
    {
     "name": "stderr",
     "output_type": "stream",
     "text": [
      "Previous HEAD position was ae8c0bc Do some TM redirects\n",
      "HEAD is now at 475b005 Disallow saving for OUJS .user.js and absent with `@updateURL`\n"
     ]
    },
    {
     "name": "stdout",
     "output_type": "stream",
     "text": [
      "\u001b[H\u001b[2J"
     ]
    },
    {
     "name": "stderr",
     "output_type": "stream",
     "text": [
      "Previous HEAD position was 475b005 Disallow saving for OUJS .user.js and absent with `@updateURL`\n",
      "HEAD is now at fdb86ec Unmanage a few routes and DOC updates\n"
     ]
    },
    {
     "name": "stdout",
     "output_type": "stream",
     "text": [
      "\u001b[H\u001b[2J"
     ]
    },
    {
     "name": "stderr",
     "output_type": "stream",
     "text": [
      "Previous HEAD position was fdb86ec Unmanage a few routes and DOC updates\n",
      "HEAD is now at 3abbb25 More managing of certain routes\n"
     ]
    },
    {
     "name": "stdout",
     "output_type": "stream",
     "text": [
      "\u001b[H\u001b[2J"
     ]
    },
    {
     "name": "stderr",
     "output_type": "stream",
     "text": [
      "Previous HEAD position was 3abbb25 More managing of certain routes\n",
      "HEAD is now at b379014 Tweak the defaults\n"
     ]
    },
    {
     "name": "stdout",
     "output_type": "stream",
     "text": [
      "\u001b[H\u001b[2J"
     ]
    },
    {
     "name": "stderr",
     "output_type": "stream",
     "text": [
      "Previous HEAD position was b379014 Tweak the defaults\n",
      "HEAD is now at 4f99fb9 Some DOC tweaks and corresponding lockdown CODE changes\n"
     ]
    },
    {
     "name": "stdout",
     "output_type": "stream",
     "text": [
      "\u001b[H\u001b[2J"
     ]
    },
    {
     "name": "stderr",
     "output_type": "stream",
     "text": [
      "Previous HEAD position was 4f99fb9 Some DOC tweaks and corresponding lockdown CODE changes\n",
      "HEAD is now at 317b797 Few more doc changes\n"
     ]
    },
    {
     "name": "stdout",
     "output_type": "stream",
     "text": [
      "\u001b[H\u001b[2J"
     ]
    },
    {
     "name": "stderr",
     "output_type": "stream",
     "text": [
      "Previous HEAD position was 317b797 Few more doc changes\n",
      "HEAD is now at 352ffd5 Add a base 406 not acceptable\n"
     ]
    },
    {
     "name": "stdout",
     "output_type": "stream",
     "text": [
      "\u001b[H\u001b[2J"
     ]
    },
    {
     "name": "stderr",
     "output_type": "stream",
     "text": [
      "Previous HEAD position was 352ffd5 Add a base 406 not acceptable\n",
      "HEAD is now at c5b5dff Add `@updateURL` to script homepage\n"
     ]
    },
    {
     "name": "stdout",
     "output_type": "stream",
     "text": [
      "\u001b[H\u001b[2J"
     ]
    },
    {
     "name": "stderr",
     "output_type": "stream",
     "text": [
      "Previous HEAD position was c5b5dff Add `@updateURL` to script homepage\n",
      "HEAD is now at ced4563 Post fixes\n"
     ]
    },
    {
     "name": "stdout",
     "output_type": "stream",
     "text": [
      "\u001b[H\u001b[2J"
     ]
    },
    {
     "name": "stderr",
     "output_type": "stream",
     "text": [
      "Previous HEAD position was ced4563 Post fixes\n",
      "HEAD is now at 9d01dbf Change granularity of attack prevention\n"
     ]
    },
    {
     "name": "stdout",
     "output_type": "stream",
     "text": [
      "\u001b[H\u001b[2J"
     ]
    },
    {
     "name": "stderr",
     "output_type": "stream",
     "text": [
      "Previous HEAD position was 9d01dbf Change granularity of attack prevention\n",
      "HEAD is now at ed8fe6f Show a question or exclamation to DOC\n"
     ]
    },
    {
     "name": "stdout",
     "output_type": "stream",
     "text": [
      "\u001b[H\u001b[2J"
     ]
    },
    {
     "name": "stderr",
     "output_type": "stream",
     "text": [
      "Previous HEAD position was ed8fe6f Show a question or exclamation to DOC\n",
      "HEAD is now at 8c99489 Remove required `@updateURL`\n"
     ]
    },
    {
     "name": "stdout",
     "output_type": "stream",
     "text": [
      "\u001b[H\u001b[2J"
     ]
    },
    {
     "name": "stderr",
     "output_type": "stream",
     "text": [
      "Previous HEAD position was 8c99489 Remove required `@updateURL`\n",
      "HEAD is now at 14b33ef Trim up the local brute DB a little\n"
     ]
    },
    {
     "name": "stdout",
     "output_type": "stream",
     "text": [
      "\u001b[H\u001b[2J"
     ]
    },
    {
     "name": "stderr",
     "output_type": "stream",
     "text": [
      "Previous HEAD position was 14b33ef Trim up the local brute DB a little\n",
      "HEAD is now at 137ea59 Simple and lazy validation of potential keys\n"
     ]
    },
    {
     "name": "stdout",
     "output_type": "stream",
     "text": [
      "\u001b[H\u001b[2J"
     ]
    },
    {
     "name": "stderr",
     "output_type": "stream",
     "text": [
      "Previous HEAD position was 137ea59 Simple and lazy validation of potential keys\n",
      "HEAD is now at 87a4ad1 Alter Timers\n"
     ]
    },
    {
     "name": "stdout",
     "output_type": "stream",
     "text": [
      "\u001b[H\u001b[2J"
     ]
    },
    {
     "name": "stderr",
     "output_type": "stream",
     "text": [
      "Previous HEAD position was 87a4ad1 Alter Timers\n",
      "HEAD is now at 80e0076 Reenable older browsers like Opera Presto\n"
     ]
    },
    {
     "name": "stdout",
     "output_type": "stream",
     "text": [
      "\u001b[H\u001b[2J"
     ]
    },
    {
     "name": "stderr",
     "output_type": "stream",
     "text": [
      "Previous HEAD position was 80e0076 Reenable older browsers like Opera Presto\n",
      "HEAD is now at 8ee3c80 Reenable some newer browsers\n"
     ]
    },
    {
     "name": "stdout",
     "output_type": "stream",
     "text": [
      "\u001b[H\u001b[2J"
     ]
    },
    {
     "name": "stderr",
     "output_type": "stream",
     "text": [
      "Previous HEAD position was 8ee3c80 Reenable some newer browsers\n",
      "HEAD is now at a4d5425 Partial revert of last commit\n"
     ]
    },
    {
     "name": "stdout",
     "output_type": "stream",
     "text": [
      "\u001b[H\u001b[2J"
     ]
    },
    {
     "name": "stderr",
     "output_type": "stream",
     "text": [
      "Previous HEAD position was a4d5425 Partial revert of last commit\n",
      "HEAD is now at e16b094 Disallow spidering on install\n"
     ]
    },
    {
     "name": "stdout",
     "output_type": "stream",
     "text": [
      "\u001b[H\u001b[2J"
     ]
    },
    {
     "name": "stderr",
     "output_type": "stream",
     "text": [
      "Previous HEAD position was e16b094 Disallow spidering on install\n",
      "HEAD is now at 0046ef2 Cover empty installNameBase\n"
     ]
    },
    {
     "name": "stdout",
     "output_type": "stream",
     "text": [
      "\u001b[H\u001b[2J"
     ]
    },
    {
     "name": "stderr",
     "output_type": "stream",
     "text": [
      "Previous HEAD position was 0046ef2 Cover empty installNameBase\n",
      "HEAD is now at 5b236c3 Get full source for *mime-db*\n"
     ]
    },
    {
     "name": "stdout",
     "output_type": "stream",
     "text": [
      "\u001b[H\u001b[2J"
     ]
    },
    {
     "name": "stderr",
     "output_type": "stream",
     "text": [
      "Previous HEAD position was 5b236c3 Get full source for *mime-db*\n",
      "HEAD is now at adad3df Allow Edge users to test\n"
     ]
    },
    {
     "name": "stdout",
     "output_type": "stream",
     "text": [
      "\u001b[H\u001b[2J"
     ]
    },
    {
     "name": "stderr",
     "output_type": "stream",
     "text": [
      "Previous HEAD position was adad3df Allow Edge users to test\n",
      "HEAD is now at a7dd1be Typo fixed\n"
     ]
    },
    {
     "name": "stdout",
     "output_type": "stream",
     "text": [
      "\u001b[H\u001b[2J"
     ]
    },
    {
     "name": "stderr",
     "output_type": "stream",
     "text": [
      "Previous HEAD position was a7dd1be Typo fixed\n",
      "HEAD is now at f9bc214 Change to *colors* dep\n"
     ]
    },
    {
     "name": "stdout",
     "output_type": "stream",
     "text": [
      "\u001b[H\u001b[2J"
     ]
    },
    {
     "name": "stderr",
     "output_type": "stream",
     "text": [
      "Previous HEAD position was f9bc214 Change to *colors* dep\n",
      "HEAD is now at b327d57 Post fix for #993\n"
     ]
    },
    {
     "name": "stdout",
     "output_type": "stream",
     "text": [
      "\u001b[H\u001b[2J"
     ]
    },
    {
     "name": "stderr",
     "output_type": "stream",
     "text": [
      "Previous HEAD position was b327d57 Post fix for #993\n",
      "HEAD is now at 92aecb4 Switch to *ansi-colors*\n"
     ]
    },
    {
     "name": "stdout",
     "output_type": "stream",
     "text": [
      "\u001b[H\u001b[2J"
     ]
    },
    {
     "name": "stderr",
     "output_type": "stream",
     "text": [
      "Previous HEAD position was 92aecb4 Switch to *ansi-colors*\n",
      "HEAD is now at 56a957c Update README.md\n"
     ]
    },
    {
     "name": "stdout",
     "output_type": "stream",
     "text": [
      "\u001b[H\u001b[2J"
     ]
    },
    {
     "name": "stderr",
     "output_type": "stream",
     "text": [
      "Previous HEAD position was 56a957c Update README.md\n",
      "HEAD is now at 4ecb774 Some dep updates\n"
     ]
    },
    {
     "name": "stdout",
     "output_type": "stream",
     "text": [
      "\u001b[H\u001b[2J"
     ]
    },
    {
     "name": "stderr",
     "output_type": "stream",
     "text": [
      "Previous HEAD position was 4ecb774 Some dep updates\n",
      "HEAD is now at c2434ca Fix dep ref for our somewhat ES6 fork of *node-toobusy*\n"
     ]
    },
    {
     "name": "stdout",
     "output_type": "stream",
     "text": [
      "\u001b[H\u001b[2J"
     ]
    },
    {
     "name": "stderr",
     "output_type": "stream",
     "text": [
      "Previous HEAD position was c2434ca Fix dep ref for our somewhat ES6 fork of *node-toobusy*\n",
      "HEAD is now at 1c45919 Some improvements on detection\n"
     ]
    },
    {
     "name": "stdout",
     "output_type": "stream",
     "text": [
      "\u001b[H\u001b[2J"
     ]
    },
    {
     "name": "stderr",
     "output_type": "stream",
     "text": [
      "Previous HEAD position was 1c45919 Some improvements on detection\n",
      "HEAD is now at e07fd12 Some cache control\n"
     ]
    },
    {
     "name": "stdout",
     "output_type": "stream",
     "text": [
      "\u001b[H\u001b[2J"
     ]
    },
    {
     "name": "stderr",
     "output_type": "stream",
     "text": [
      "Previous HEAD position was e07fd12 Some cache control\n",
      "HEAD is now at 1d043a0 Some dep updates\n"
     ]
    },
    {
     "name": "stdout",
     "output_type": "stream",
     "text": [
      "\u001b[H\u001b[2J"
     ]
    },
    {
     "name": "stderr",
     "output_type": "stream",
     "text": [
      "Previous HEAD position was 1d043a0 Some dep updates\n",
      "HEAD is now at ad4788c Some cache config\n"
     ]
    },
    {
     "name": "stdout",
     "output_type": "stream",
     "text": [
      "\u001b[H\u001b[2J"
     ]
    },
    {
     "name": "stderr",
     "output_type": "stream",
     "text": [
      "Previous HEAD position was ad4788c Some cache config\n",
      "HEAD is now at 21590ef Name VM correctly from Opera store\n"
     ]
    },
    {
     "name": "stdout",
     "output_type": "stream",
     "text": [
      "\u001b[H\u001b[2J"
     ]
    },
    {
     "name": "stderr",
     "output_type": "stream",
     "text": [
      "Previous HEAD position was 21590ef Name VM correctly from Opera store\n",
      "HEAD is now at e4a4c12 Update Greasemonkey-for-Firefox.md\n"
     ]
    },
    {
     "name": "stdout",
     "output_type": "stream",
     "text": [
      "\u001b[H\u001b[2J"
     ]
    },
    {
     "name": "stderr",
     "output_type": "stream",
     "text": [
      "Previous HEAD position was e4a4c12 Update Greasemonkey-for-Firefox.md\n",
      "HEAD is now at 41731ce Update Greasemonkey-Port-for-SeaMonkey.md\n"
     ]
    },
    {
     "name": "stdout",
     "output_type": "stream",
     "text": [
      "\u001b[H\u001b[2J"
     ]
    },
    {
     "name": "stderr",
     "output_type": "stream",
     "text": [
      "Previous HEAD position was 41731ce Update Greasemonkey-Port-for-SeaMonkey.md\n",
      "HEAD is now at 22f466f Do some validation on `@downloadURL` for OUJS based URIs\n"
     ]
    },
    {
     "name": "stdout",
     "output_type": "stream",
     "text": [
      "\u001b[H\u001b[2J"
     ]
    },
    {
     "name": "stderr",
     "output_type": "stream",
     "text": [
      "Previous HEAD position was 22f466f Do some validation on `@downloadURL` for OUJS based URIs\n",
      "HEAD is now at eefa190 Update scriptStorage.js\n"
     ]
    },
    {
     "name": "stdout",
     "output_type": "stream",
     "text": [
      "\u001b[H\u001b[2J"
     ]
    },
    {
     "name": "stderr",
     "output_type": "stream",
     "text": [
      "Previous HEAD position was eefa190 Update scriptStorage.js\n",
      "HEAD is now at 56c438d Update scriptStorage.js\n"
     ]
    },
    {
     "name": "stdout",
     "output_type": "stream",
     "text": [
      "\u001b[H\u001b[2J"
     ]
    },
    {
     "name": "stderr",
     "output_type": "stream",
     "text": [
      "Previous HEAD position was 56c438d Update scriptStorage.js\n",
      "HEAD is now at 2959b02 Some dep updates\n"
     ]
    },
    {
     "name": "stdout",
     "output_type": "stream",
     "text": [
      "\u001b[H\u001b[2J"
     ]
    },
    {
     "name": "stderr",
     "output_type": "stream",
     "text": [
      "Previous HEAD position was 2959b02 Some dep updates\n",
      "HEAD is now at f7fe0de Some dep updates\n"
     ]
    },
    {
     "name": "stdout",
     "output_type": "stream",
     "text": [
      "\u001b[H\u001b[2J"
     ]
    },
    {
     "name": "stderr",
     "output_type": "stream",
     "text": [
      "Previous HEAD position was f7fe0de Some dep updates\n",
      "HEAD is now at 2ed34c2 Give some visual indication on multi-level sort options\n"
     ]
    },
    {
     "name": "stdout",
     "output_type": "stream",
     "text": [
      "\u001b[H\u001b[2J"
     ]
    },
    {
     "name": "stderr",
     "output_type": "stream",
     "text": [
      "Previous HEAD position was 2ed34c2 Give some visual indication on multi-level sort options\n",
      "HEAD is now at 9c49b6e Insert some counts for .meta.json\n"
     ]
    },
    {
     "name": "stdout",
     "output_type": "stream",
     "text": [
      "\u001b[H\u001b[2J"
     ]
    },
    {
     "name": "stderr",
     "output_type": "stream",
     "text": [
      "Previous HEAD position was 9c49b6e Insert some counts for .meta.json\n",
      "HEAD is now at 5b78b1d Broader `downloadURL` check (#1010)\n"
     ]
    },
    {
     "name": "stdout",
     "output_type": "stream",
     "text": [
      "\u001b[H\u001b[2J"
     ]
    },
    {
     "name": "stderr",
     "output_type": "stream",
     "text": [
      "Previous HEAD position was 5b78b1d Broader `downloadURL` check (#1010)\n",
      "HEAD is now at 1feff48 Add minimal notification on open issues only to personal script list\n"
     ]
    },
    {
     "name": "stdout",
     "output_type": "stream",
     "text": [
      "\u001b[H\u001b[2J"
     ]
    },
    {
     "name": "stderr",
     "output_type": "stream",
     "text": [
      "Previous HEAD position was 1feff48 Add minimal notification on open issues only to personal script list\n",
      "HEAD is now at 5fe7c37 Post fix for #1011\n"
     ]
    },
    {
     "name": "stdout",
     "output_type": "stream",
     "text": [
      "\u001b[H\u001b[2J"
     ]
    },
    {
     "name": "stderr",
     "output_type": "stream",
     "text": [
      "Previous HEAD position was 5fe7c37 Post fix for #1011\n",
      "HEAD is now at ce8ab94 Fix one based script lists\n"
     ]
    },
    {
     "name": "stdout",
     "output_type": "stream",
     "text": [
      "\u001b[H\u001b[2J"
     ]
    },
    {
     "name": "stderr",
     "output_type": "stream",
     "text": [
      "Previous HEAD position was ce8ab94 Fix one based script lists\n",
      "HEAD is now at 2944c14 Some dep updates\n"
     ]
    },
    {
     "name": "stdout",
     "output_type": "stream",
     "text": [
      "\u001b[H\u001b[2J"
     ]
    },
    {
     "name": "stderr",
     "output_type": "stream",
     "text": [
      "Previous HEAD position was 2944c14 Some dep updates\n",
      "HEAD is now at 552bbbd Show actual issue counts for each script in personal script list\n"
     ]
    },
    {
     "name": "stdout",
     "output_type": "stream",
     "text": [
      "\u001b[H\u001b[2J"
     ]
    },
    {
     "name": "stderr",
     "output_type": "stream",
     "text": [
      "Previous HEAD position was 552bbbd Show actual issue counts for each script in personal script list\n",
      "HEAD is now at 5bf7480 Switch notifications to self\n"
     ]
    },
    {
     "name": "stdout",
     "output_type": "stream",
     "text": [
      "\u001b[H\u001b[2J"
     ]
    },
    {
     "name": "stderr",
     "output_type": "stream",
     "text": [
      "Previous HEAD position was 5bf7480 Switch notifications to self\n",
      "HEAD is now at 98813b8 Some dep updates\n"
     ]
    },
    {
     "name": "stdout",
     "output_type": "stream",
     "text": [
      "\u001b[H\u001b[2J"
     ]
    },
    {
     "name": "stderr",
     "output_type": "stream",
     "text": [
      "Previous HEAD position was 98813b8 Some dep updates\n",
      "HEAD is now at 461d860 Lower the listings (#1019)\n"
     ]
    },
    {
     "name": "stdout",
     "output_type": "stream",
     "text": [
      "\u001b[H\u001b[2J"
     ]
    },
    {
     "name": "stderr",
     "output_type": "stream",
     "text": [
      "Previous HEAD position was 461d860 Lower the listings (#1019)\n",
      "HEAD is now at fff5aea Some dep updates\n"
     ]
    },
    {
     "name": "stdout",
     "output_type": "stream",
     "text": [
      "\u001b[H\u001b[2J"
     ]
    },
    {
     "name": "stderr",
     "output_type": "stream",
     "text": [
      "Previous HEAD position was fff5aea Some dep updates\n",
      "HEAD is now at 93d694d Update README.md\n"
     ]
    },
    {
     "name": "stdout",
     "output_type": "stream",
     "text": [
      "\u001b[H\u001b[2J"
     ]
    },
    {
     "name": "stderr",
     "output_type": "stream",
     "text": [
      "Previous HEAD position was 93d694d Update README.md\n",
      "HEAD is now at 1b21961 Some dep updates and one downgrade\n"
     ]
    },
    {
     "name": "stdout",
     "output_type": "stream",
     "text": [
      "\u001b[H\u001b[2J"
     ]
    },
    {
     "name": "stderr",
     "output_type": "stream",
     "text": [
      "Previous HEAD position was 1b21961 Some dep updates and one downgrade\n",
      "HEAD is now at a79f5ff Some dep updates\n"
     ]
    },
    {
     "name": "stdout",
     "output_type": "stream",
     "text": [
      "\u001b[H\u001b[2J"
     ]
    },
    {
     "name": "stderr",
     "output_type": "stream",
     "text": [
      "Previous HEAD position was a79f5ff Some dep updates\n",
      "HEAD is now at 0b9c53a Some dep updates\n"
     ]
    },
    {
     "name": "stdout",
     "output_type": "stream",
     "text": [
      "\u001b[H\u001b[2J"
     ]
    },
    {
     "name": "stderr",
     "output_type": "stream",
     "text": [
      "Previous HEAD position was 0b9c53a Some dep updates\n",
      "HEAD is now at 1dbbcf7 Add a sweetening factor to not using the install counter on Userscript updates\n"
     ]
    },
    {
     "name": "stdout",
     "output_type": "stream",
     "text": [
      "\u001b[H\u001b[2J"
     ]
    },
    {
     "name": "stderr",
     "output_type": "stream",
     "text": [
      "Previous HEAD position was 1dbbcf7 Add a sweetening factor to not using the install counter on Userscript updates\n",
      "HEAD is now at 6a6aea9 Some dep update\n"
     ]
    },
    {
     "name": "stdout",
     "output_type": "stream",
     "text": [
      "\u001b[H\u001b[2J"
     ]
    },
    {
     "name": "stderr",
     "output_type": "stream",
     "text": [
      "Previous HEAD position was 6a6aea9 Some dep update\n",
      "HEAD is now at 3238b65 Downgrade *jquery* due to additional issues detected.\n"
     ]
    },
    {
     "name": "stdout",
     "output_type": "stream",
     "text": [
      "\u001b[H\u001b[2J"
     ]
    },
    {
     "name": "stderr",
     "output_type": "stream",
     "text": [
      "Previous HEAD position was 3238b65 Downgrade *jquery* due to additional issues detected.\n",
      "HEAD is now at 3081449 Move lazyIconScript to standard JavaScript\n"
     ]
    },
    {
     "name": "stdout",
     "output_type": "stream",
     "text": [
      "\u001b[H\u001b[2J"
     ]
    },
    {
     "name": "stderr",
     "output_type": "stream",
     "text": [
      "Previous HEAD position was 3081449 Move lazyIconScript to standard JavaScript\n",
      "HEAD is now at 059b94e Some dep updates\n"
     ]
    },
    {
     "name": "stdout",
     "output_type": "stream",
     "text": [
      "\u001b[H\u001b[2J"
     ]
    },
    {
     "name": "stderr",
     "output_type": "stream",
     "text": [
      "Previous HEAD position was 059b94e Some dep updates\n",
      "HEAD is now at 6ac029d Some dep updates\n"
     ]
    },
    {
     "name": "stdout",
     "output_type": "stream",
     "text": [
      "\u001b[H\u001b[2J"
     ]
    },
    {
     "name": "stderr",
     "output_type": "stream",
     "text": [
      "Previous HEAD position was 6ac029d Some dep updates\n",
      "HEAD is now at 98c5b3f *pegjs* update\n"
     ]
    },
    {
     "name": "stdout",
     "output_type": "stream",
     "text": [
      "\u001b[H\u001b[2J"
     ]
    },
    {
     "name": "stderr",
     "output_type": "stream",
     "text": [
      "Previous HEAD position was 98c5b3f *pegjs* update\n",
      "HEAD is now at 64640ee *async* update\n"
     ]
    },
    {
     "name": "stdout",
     "output_type": "stream",
     "text": [
      "\u001b[H\u001b[2J"
     ]
    },
    {
     "name": "stderr",
     "output_type": "stream",
     "text": [
      "Previous HEAD position was 64640ee *async* update\n",
      "HEAD is now at b62f103 Update README.md\n"
     ]
    },
    {
     "name": "stdout",
     "output_type": "stream",
     "text": [
      "\u001b[H\u001b[2J"
     ]
    },
    {
     "name": "stderr",
     "output_type": "stream",
     "text": [
      "Previous HEAD position was b62f103 Update README.md\n",
      "HEAD is now at 6aa7e86 Some dep updates\n"
     ]
    },
    {
     "name": "stdout",
     "output_type": "stream",
     "text": [
      "\u001b[H\u001b[2J"
     ]
    },
    {
     "name": "stderr",
     "output_type": "stream",
     "text": [
      "Previous HEAD position was 6aa7e86 Some dep updates\n",
      "HEAD is now at bdac497 *async* rollback\n"
     ]
    },
    {
     "name": "stdout",
     "output_type": "stream",
     "text": [
      "\u001b[H\u001b[2J"
     ]
    },
    {
     "name": "stderr",
     "output_type": "stream",
     "text": [
      "Previous HEAD position was bdac497 *async* rollback\n",
      "HEAD is now at 80d0949 Some dep updates\n"
     ]
    },
    {
     "name": "stdout",
     "output_type": "stream",
     "text": [
      "\u001b[H\u001b[2J"
     ]
    },
    {
     "name": "stderr",
     "output_type": "stream",
     "text": [
      "Previous HEAD position was 80d0949 Some dep updates\n",
      "HEAD is now at 3497477 Scoot to our forks for the remainder of OpenID passports\n"
     ]
    },
    {
     "name": "stdout",
     "output_type": "stream",
     "text": [
      "\u001b[H\u001b[2J"
     ]
    },
    {
     "name": "stderr",
     "output_type": "stream",
     "text": [
      "Previous HEAD position was 3497477 Scoot to our forks for the remainder of OpenID passports\n",
      "HEAD is now at 99e6033 Some dep updates\n"
     ]
    },
    {
     "name": "stdout",
     "output_type": "stream",
     "text": [
      "\u001b[H\u001b[2J"
     ]
    },
    {
     "name": "stderr",
     "output_type": "stream",
     "text": [
      "Previous HEAD position was 99e6033 Some dep updates\n",
      "HEAD is now at 23e225f Repair *passport-steam*\n"
     ]
    },
    {
     "name": "stdout",
     "output_type": "stream",
     "text": [
      "\u001b[H\u001b[2J"
     ]
    },
    {
     "name": "stderr",
     "output_type": "stream",
     "text": [
      "Previous HEAD position was 23e225f Repair *passport-steam*\n",
      "HEAD is now at aa591d9 Rerepair *passport-steam* usage\n"
     ]
    },
    {
     "name": "stdout",
     "output_type": "stream",
     "text": [
      "\u001b[H\u001b[2J"
     ]
    },
    {
     "name": "stderr",
     "output_type": "stream",
     "text": [
      "Previous HEAD position was aa591d9 Rerepair *passport-steam* usage\n",
      "HEAD is now at 9e65f13 Add some graceful http status codes for diagnosis in GH\n"
     ]
    },
    {
     "name": "stdout",
     "output_type": "stream",
     "text": [
      "\u001b[H\u001b[2J"
     ]
    },
    {
     "name": "stderr",
     "output_type": "stream",
     "text": [
      "Previous HEAD position was 9e65f13 Add some graceful http status codes for diagnosis in GH\n",
      "HEAD is now at f1d981c Some dep updates\n"
     ]
    },
    {
     "name": "stdout",
     "output_type": "stream",
     "text": [
      "\u001b[H\u001b[2J"
     ]
    },
    {
     "name": "stderr",
     "output_type": "stream",
     "text": [
      "Previous HEAD position was f1d981c Some dep updates\n",
      "HEAD is now at 7e46a2e Auto-highlight code fence tweak\n"
     ]
    },
    {
     "name": "stdout",
     "output_type": "stream",
     "text": [
      "\u001b[H\u001b[2J"
     ]
    },
    {
     "name": "stderr",
     "output_type": "stream",
     "text": [
      "Previous HEAD position was 7e46a2e Auto-highlight code fence tweak\n",
      "HEAD is now at 7197645 Some dep updates\n"
     ]
    },
    {
     "name": "stdout",
     "output_type": "stream",
     "text": [
      "\u001b[H\u001b[2J"
     ]
    },
    {
     "name": "stderr",
     "output_type": "stream",
     "text": [
      "Previous HEAD position was 7197645 Some dep updates\n",
      "HEAD is now at 2541b6b Change *ansi-colors* to work with `inverse` correctly\n"
     ]
    },
    {
     "name": "stdout",
     "output_type": "stream",
     "text": [
      "\u001b[H\u001b[2J"
     ]
    },
    {
     "name": "stderr",
     "output_type": "stream",
     "text": [
      "Previous HEAD position was 2541b6b Change *ansi-colors* to work with `inverse` correctly\n",
      "HEAD is now at b1373c2 Some dep updates\n"
     ]
    },
    {
     "name": "stdout",
     "output_type": "stream",
     "text": [
      "\u001b[H\u001b[2J"
     ]
    },
    {
     "name": "stderr",
     "output_type": "stream",
     "text": [
      "Previous HEAD position was b1373c2 Some dep updates\n",
      "HEAD is now at 2a1b0fa Some dep updates\n"
     ]
    },
    {
     "name": "stdout",
     "output_type": "stream",
     "text": [
      "\u001b[H\u001b[2J"
     ]
    },
    {
     "name": "stderr",
     "output_type": "stream",
     "text": [
      "Previous HEAD position was 2a1b0fa Some dep updates\n",
      "HEAD is now at d106d36 Adding Tampermonkey-for-Edge.md to support #1046\n"
     ]
    },
    {
     "name": "stdout",
     "output_type": "stream",
     "text": [
      "\u001b[H\u001b[2J"
     ]
    },
    {
     "name": "stderr",
     "output_type": "stream",
     "text": [
      "Previous HEAD position was d106d36 Adding Tampermonkey-for-Edge.md to support #1046\n",
      "HEAD is now at fae4f6a Some fixes for docs\n"
     ]
    },
    {
     "name": "stdout",
     "output_type": "stream",
     "text": [
      "\u001b[H\u001b[2J"
     ]
    },
    {
     "name": "stderr",
     "output_type": "stream",
     "text": [
      "Previous HEAD position was fae4f6a Some fixes for docs\n",
      "HEAD is now at 011d973 Add Edge to master TOC\n"
     ]
    },
    {
     "name": "stdout",
     "output_type": "stream",
     "text": [
      "\u001b[H\u001b[2J"
     ]
    },
    {
     "name": "stderr",
     "output_type": "stream",
     "text": [
      "Previous HEAD position was 011d973 Add Edge to master TOC\n",
      "HEAD is now at 17b372f Add Android to master TOC\n"
     ]
    },
    {
     "name": "stdout",
     "output_type": "stream",
     "text": [
      "\u001b[H\u001b[2J"
     ]
    },
    {
     "name": "stderr",
     "output_type": "stream",
     "text": [
      "Previous HEAD position was 17b372f Add Android to master TOC\n",
      "HEAD is now at 494073d Fix headers in Android TM\n"
     ]
    },
    {
     "name": "stdout",
     "output_type": "stream",
     "text": [
      "\u001b[H\u001b[2J"
     ]
    },
    {
     "name": "stderr",
     "output_type": "stream",
     "text": [
      "Previous HEAD position was 494073d Fix headers in Android TM\n",
      "HEAD is now at 0ce00c6 Convert a jQuery script to Web API (#1062)\n"
     ]
    },
    {
     "name": "stdout",
     "output_type": "stream",
     "text": [
      "\u001b[H\u001b[2J"
     ]
    },
    {
     "name": "stderr",
     "output_type": "stream",
     "text": [
      "Previous HEAD position was 0ce00c6 Convert a jQuery script to Web API (#1062)\n",
      "HEAD is now at 80e2101 Post image consolidations for Edge browser doc (#1063)\n"
     ]
    },
    {
     "name": "stdout",
     "output_type": "stream",
     "text": [
      "\u001b[H\u001b[2J"
     ]
    },
    {
     "name": "stderr",
     "output_type": "stream",
     "text": [
      "Previous HEAD position was 80e2101 Post image consolidations for Edge browser doc (#1063)\n",
      "HEAD is now at a7ea4c6 Rework LICENSE detection (#1064)\n"
     ]
    },
    {
     "name": "stdout",
     "output_type": "stream",
     "text": [
      "\u001b[H\u001b[2J"
     ]
    },
    {
     "name": "stderr",
     "output_type": "stream",
     "text": [
      "Previous HEAD position was a7ea4c6 Rework LICENSE detection (#1064)\n",
      "HEAD is now at 03edcc3 Play nice with desktop keyboard modifiers (#1065)\n"
     ]
    },
    {
     "name": "stdout",
     "output_type": "stream",
     "text": [
      "\u001b[H\u001b[2J"
     ]
    },
    {
     "name": "stderr",
     "output_type": "stream",
     "text": [
      "Previous HEAD position was 03edcc3 Play nice with desktop keyboard modifiers (#1065)\n",
      "HEAD is now at 2a9c890 Start collecting the `sha512sum` for script source via model (#1067)\n"
     ]
    },
    {
     "name": "stdout",
     "output_type": "stream",
     "text": [
      "\u001b[H\u001b[2J"
     ]
    },
    {
     "name": "stderr",
     "output_type": "stream",
     "text": [
      "Previous HEAD position was 2a9c890 Start collecting the `sha512sum` for script source via model (#1067)\n",
      "HEAD is now at 92e204f Bump app version since DB change is complete (#1068)\n"
     ]
    },
    {
     "name": "stdout",
     "output_type": "stream",
     "text": [
      "\u001b[H\u001b[2J"
     ]
    },
    {
     "name": "stderr",
     "output_type": "stream",
     "text": [
      "Previous HEAD position was 92e204f Bump app version since DB change is complete (#1068)\n",
      "HEAD is now at 955c15e Reenable script cache from Server to Client (#1069)\n"
     ]
    },
    {
     "name": "stdout",
     "output_type": "stream",
     "text": [
      "\u001b[H\u001b[2J"
     ]
    },
    {
     "name": "stderr",
     "output_type": "stream",
     "text": [
      "Previous HEAD position was 955c15e Reenable script cache from Server to Client (#1069)\n",
      "HEAD is now at c634b3e Enable meta cache from Server to Client (#1070)\n"
     ]
    },
    {
     "name": "stdout",
     "output_type": "stream",
     "text": [
      "\u001b[H\u001b[2J"
     ]
    },
    {
     "name": "stderr",
     "output_type": "stream",
     "text": [
      "Previous HEAD position was c634b3e Enable meta cache from Server to Client (#1070)\n",
      "HEAD is now at 760d4fd Play nice with desktop keyboard modifier (#1071)\n"
     ]
    },
    {
     "name": "stdout",
     "output_type": "stream",
     "text": [
      "\u001b[H\u001b[2J"
     ]
    },
    {
     "name": "stderr",
     "output_type": "stream",
     "text": [
      "Previous HEAD position was 760d4fd Play nice with desktop keyboard modifier (#1071)\n",
      "HEAD is now at 810a8e7 Play nice with Mac desktop keyboard modifiers (#1072)\n"
     ]
    },
    {
     "name": "stdout",
     "output_type": "stream",
     "text": [
      "\u001b[H\u001b[2J"
     ]
    },
    {
     "name": "stderr",
     "output_type": "stream",
     "text": [
      "Previous HEAD position was 810a8e7 Play nice with Mac desktop keyboard modifiers (#1072)\n",
      "HEAD is now at e5a4a8e Opera Presto fix (#1073)\n"
     ]
    },
    {
     "name": "stdout",
     "output_type": "stream",
     "text": [
      "\u001b[H\u001b[2J"
     ]
    },
    {
     "name": "stderr",
     "output_type": "stream",
     "text": [
      "Previous HEAD position was e5a4a8e Opera Presto fix (#1073)\n",
      "HEAD is now at 94bc803 Post Opera Presto fix (#1074)\n"
     ]
    },
    {
     "name": "stdout",
     "output_type": "stream",
     "text": [
      "\u001b[H\u001b[2J"
     ]
    },
    {
     "name": "stderr",
     "output_type": "stream",
     "text": [
      "Previous HEAD position was 94bc803 Post Opera Presto fix (#1074)\n",
      "HEAD is now at 63d4ace Readd pre DOM check (#1075)\n"
     ]
    },
    {
     "name": "stdout",
     "output_type": "stream",
     "text": [
      "\u001b[H\u001b[2J"
     ]
    },
    {
     "name": "stderr",
     "output_type": "stream",
     "text": [
      "Previous HEAD position was 63d4ace Readd pre DOM check (#1075)\n",
      "HEAD is now at 9cf990a Use base62 instead of base36 (#1076)\n"
     ]
    },
    {
     "name": "stdout",
     "output_type": "stream",
     "text": [
      "\u001b[H\u001b[2J"
     ]
    },
    {
     "name": "stderr",
     "output_type": "stream",
     "text": [
      "Previous HEAD position was 9cf990a Use base62 instead of base36 (#1076)\n",
      "HEAD is now at 5fe6c77 Move current *express-brute* usage to scriptStorage.js (#1077)\n"
     ]
    },
    {
     "name": "stdout",
     "output_type": "stream",
     "text": [
      "\u001b[H\u001b[2J"
     ]
    },
    {
     "name": "stderr",
     "output_type": "stream",
     "text": [
      "Previous HEAD position was 5fe6c77 Move current *express-brute* usage to scriptStorage.js (#1077)\n",
      "HEAD is now at d843552 Invoke `ensureNumberOrNull` on divisions (#1078)\n"
     ]
    },
    {
     "name": "stdout",
     "output_type": "stream",
     "text": [
      "\u001b[H\u001b[2J"
     ]
    },
    {
     "name": "stderr",
     "output_type": "stream",
     "text": [
      "Previous HEAD position was d843552 Invoke `ensureNumberOrNull` on divisions (#1078)\n",
      "HEAD is now at 170acd3 Release the hounds (#1079)\n"
     ]
    },
    {
     "name": "stdout",
     "output_type": "stream",
     "text": [
      "\u001b[H\u001b[2J"
     ]
    },
    {
     "name": "stderr",
     "output_type": "stream",
     "text": [
      "Previous HEAD position was 170acd3 Release the hounds (#1079)\n",
      "HEAD is now at 75fa5ee Allow one free retry when *express-brute* is in effect (#1080)\n"
     ]
    },
    {
     "name": "stdout",
     "output_type": "stream",
     "text": [
      "\u001b[H\u001b[2J"
     ]
    },
    {
     "name": "stderr",
     "output_type": "stream",
     "text": [
      "Previous HEAD position was 75fa5ee Allow one free retry when *express-brute* is in effect (#1080)\n",
      "HEAD is now at a5bee24 Add a lockdown option for forcing `no-cache` (#1081)\n"
     ]
    },
    {
     "name": "stdout",
     "output_type": "stream",
     "text": [
      "\u001b[H\u001b[2J"
     ]
    },
    {
     "name": "stderr",
     "output_type": "stream",
     "text": [
      "Previous HEAD position was a5bee24 Add a lockdown option for forcing `no-cache` (#1081)\n",
      "HEAD is now at 47de3d8 Some dep updates (#1082)\n"
     ]
    },
    {
     "name": "stdout",
     "output_type": "stream",
     "text": [
      "\u001b[H\u001b[2J"
     ]
    },
    {
     "name": "stderr",
     "output_type": "stream",
     "text": [
      "Previous HEAD position was 47de3d8 Some dep updates (#1082)\n",
      "HEAD is now at 55e2f4c Ensure session username is same casing (#1083)\n"
     ]
    },
    {
     "name": "stdout",
     "output_type": "stream",
     "text": [
      "\u001b[H\u001b[2J"
     ]
    },
    {
     "name": "stderr",
     "output_type": "stream",
     "text": [
      "Previous HEAD position was 55e2f4c Ensure session username is same casing (#1083)\n",
      "HEAD is now at 2fb68cd Some dep updates (#1084)\n"
     ]
    },
    {
     "name": "stdout",
     "output_type": "stream",
     "text": [
      "\u001b[H\u001b[2J"
     ]
    },
    {
     "name": "stderr",
     "output_type": "stream",
     "text": [
      "Previous HEAD position was 2fb68cd Some dep updates (#1084)\n",
      "HEAD is now at 6efcd92 Add a Mongo err handler here (#1085)\n"
     ]
    },
    {
     "name": "stdout",
     "output_type": "stream",
     "text": [
      "\u001b[H\u001b[2J"
     ]
    },
    {
     "name": "stderr",
     "output_type": "stream",
     "text": [
      "Previous HEAD position was 6efcd92 Add a Mongo err handler here (#1085)\n",
      "HEAD is now at 583c4a5 Ensure casing on username is identical for S3 retrieval from DB (#1086)\n"
     ]
    },
    {
     "name": "stdout",
     "output_type": "stream",
     "text": [
      "\u001b[H\u001b[2J"
     ]
    },
    {
     "name": "stderr",
     "output_type": "stream",
     "text": [
      "Previous HEAD position was 583c4a5 Ensure casing on username is identical for S3 retrieval from DB (#1086)\n",
      "HEAD is now at 466da78 Restore some checks (#1087)\n"
     ]
    },
    {
     "name": "stdout",
     "output_type": "stream",
     "text": [
      "\u001b[H\u001b[2J"
     ]
    },
    {
     "name": "stderr",
     "output_type": "stream",
     "text": [
      "Previous HEAD position was 466da78 Restore some checks (#1087)\n",
      "HEAD is now at 2abb46e Ensure a unique eTag for meta.js (#1088)\n"
     ]
    },
    {
     "name": "stdout",
     "output_type": "stream",
     "text": [
      "\u001b[H\u001b[2J"
     ]
    },
    {
     "name": "stderr",
     "output_type": "stream",
     "text": [
      "Previous HEAD position was 2abb46e Ensure a unique eTag for meta.js (#1088)\n",
      "HEAD is now at 326d5a0 Reenable caching for experimental minification (#1089)\n"
     ]
    },
    {
     "name": "stdout",
     "output_type": "stream",
     "text": [
      "\u001b[H\u001b[2J"
     ]
    },
    {
     "name": "stderr",
     "output_type": "stream",
     "text": [
      "Previous HEAD position was 326d5a0 Reenable caching for experimental minification (#1089)\n",
      "HEAD is now at d5cbc31 Reensure a unique eTag for all script storage retrieval (#1090)\n"
     ]
    },
    {
     "name": "stdout",
     "output_type": "stream",
     "text": [
      "\u001b[H\u001b[2J"
     ]
    },
    {
     "name": "stderr",
     "output_type": "stream",
     "text": [
      "Previous HEAD position was d5cbc31 Reensure a unique eTag for all script storage retrieval (#1090)\n",
      "HEAD is now at 5e61571 Remove some now unused dep usage (#1091)\n"
     ]
    },
    {
     "name": "stdout",
     "output_type": "stream",
     "text": [
      "\u001b[H\u001b[2J"
     ]
    },
    {
     "name": "stderr",
     "output_type": "stream",
     "text": [
      "Previous HEAD position was 5e61571 Remove some now unused dep usage (#1091)\n",
      "HEAD is now at 41f58bf Add Chrome/Chromium goo store TM beta links in (#1092)\n"
     ]
    },
    {
     "name": "stdout",
     "output_type": "stream",
     "text": [
      "\u001b[H\u001b[2J"
     ]
    },
    {
     "name": "stderr",
     "output_type": "stream",
     "text": [
      "Previous HEAD position was 41f58bf Add Chrome/Chromium goo store TM beta links in (#1092)\n",
      "HEAD is now at 71a66d4 Go back to using lastModified with a change in eTag (#1093)\n"
     ]
    },
    {
     "name": "stdout",
     "output_type": "stream",
     "text": [
      "\u001b[H\u001b[2J"
     ]
    },
    {
     "name": "stderr",
     "output_type": "stream",
     "text": [
      "Previous HEAD position was 71a66d4 Go back to using lastModified with a change in eTag (#1093)\n",
      "HEAD is now at ddab15a Clean up the console message for possible S3 errors (#1094)\n"
     ]
    },
    {
     "name": "stdout",
     "output_type": "stream",
     "text": [
      "\u001b[H\u001b[2J"
     ]
    },
    {
     "name": "stderr",
     "output_type": "stream",
     "text": [
      "Previous HEAD position was ddab15a Clean up the console message for possible S3 errors (#1094)\n",
      "HEAD is now at fbc2465 Rework *express-brute* instances to manage .meta.js vs .user.js requests (#1095)\n"
     ]
    },
    {
     "name": "stdout",
     "output_type": "stream",
     "text": [
      "\u001b[H\u001b[2J"
     ]
    },
    {
     "name": "stderr",
     "output_type": "stream",
     "text": [
      "Previous HEAD position was fbc2465 Rework *express-brute* instances to manage .meta.js vs .user.js requests (#1095)\n",
      "HEAD is now at 47002bf Add an err parm in callback for *async* migration (#1096)\n"
     ]
    },
    {
     "name": "stdout",
     "output_type": "stream",
     "text": [
      "\u001b[H\u001b[2J"
     ]
    },
    {
     "name": "stderr",
     "output_type": "stream",
     "text": [
      "Previous HEAD position was 47002bf Add an err parm in callback for *async* migration (#1096)\n",
      "HEAD is now at 04a768a Some dep updates (#1097)\n"
     ]
    },
    {
     "name": "stdout",
     "output_type": "stream",
     "text": [
      "\u001b[H\u001b[2J"
     ]
    },
    {
     "name": "stderr",
     "output_type": "stream",
     "text": [
      "Previous HEAD position was 04a768a Some dep updates (#1097)\n",
      "HEAD is now at 1424dce Invert remote saves (#1098)\n"
     ]
    },
    {
     "name": "stdout",
     "output_type": "stream",
     "text": [
      "\u001b[H\u001b[2J"
     ]
    },
    {
     "name": "stderr",
     "output_type": "stream",
     "text": [
      "Previous HEAD position was 1424dce Invert remote saves (#1098)\n",
      "HEAD is now at cbc1058 Update STYLEGUIDE.md\n"
     ]
    },
    {
     "name": "stdout",
     "output_type": "stream",
     "text": [
      "\u001b[H\u001b[2J"
     ]
    },
    {
     "name": "stderr",
     "output_type": "stream",
     "text": [
      "Previous HEAD position was cbc1058 Update STYLEGUIDE.md\n",
      "HEAD is now at 2c98a28 Lessen the CPU load when eTag is same (#1099)\n"
     ]
    },
    {
     "name": "stdout",
     "output_type": "stream",
     "text": [
      "\u001b[H\u001b[2J"
     ]
    },
    {
     "name": "stderr",
     "output_type": "stream",
     "text": [
      "Previous HEAD position was 2c98a28 Lessen the CPU load when eTag is same (#1099)\n",
      "HEAD is now at 5411668 Some dep updates (#1100)\n"
     ]
    },
    {
     "name": "stdout",
     "output_type": "stream",
     "text": [
      "\u001b[H\u001b[2J"
     ]
    },
    {
     "name": "stderr",
     "output_type": "stream",
     "text": [
      "Previous HEAD position was 5411668 Some dep updates (#1100)\n",
      "HEAD is now at 703df10 Implement maxLag for testing (#1101)\n"
     ]
    },
    {
     "name": "stdout",
     "output_type": "stream",
     "text": [
      "\u001b[H\u001b[2J"
     ]
    },
    {
     "name": "stderr",
     "output_type": "stream",
     "text": [
      "Previous HEAD position was 703df10 Implement maxLag for testing (#1101)\n",
      "HEAD is now at e48997e Add in the UI for comment editing (#1102)\n"
     ]
    },
    {
     "name": "stdout",
     "output_type": "stream",
     "text": [
      "\u001b[H\u001b[2J"
     ]
    },
    {
     "name": "stderr",
     "output_type": "stream",
     "text": [
      "Previous HEAD position was e48997e Add in the UI for comment editing (#1102)\n",
      "HEAD is now at 361a21e Add some forms and their names into the UI (#1103)\n"
     ]
    },
    {
     "name": "stdout",
     "output_type": "stream",
     "text": [
      "\u001b[H\u001b[2J"
     ]
    },
    {
     "name": "stderr",
     "output_type": "stream",
     "text": [
      "Previous HEAD position was 361a21e Add some forms and their names into the UI (#1103)\n",
      "HEAD is now at 0f769d7 Dealias all found *async* methods (#1104)\n"
     ]
    },
    {
     "name": "stdout",
     "output_type": "stream",
     "text": [
      "\u001b[H\u001b[2J"
     ]
    },
    {
     "name": "stderr",
     "output_type": "stream",
     "text": [
      "Previous HEAD position was 0f769d7 Dealias all found *async* methods (#1104)\n",
      "HEAD is now at 936d494 Repair an `undefined` (#1105)\n"
     ]
    },
    {
     "name": "stdout",
     "output_type": "stream",
     "text": [
      "\u001b[H\u001b[2J"
     ]
    },
    {
     "name": "stderr",
     "output_type": "stream",
     "text": [
      "Previous HEAD position was 936d494 Repair an `undefined` (#1105)\n",
      "HEAD is now at fac5ba5 Typo fix (#1106)\n"
     ]
    },
    {
     "name": "stdout",
     "output_type": "stream",
     "text": [
      "\u001b[H\u001b[2J"
     ]
    },
    {
     "name": "stderr",
     "output_type": "stream",
     "text": [
      "Previous HEAD position was fac5ba5 Typo fix (#1106)\n",
      "HEAD is now at eaebe01 Work-around to use a DB lookup to enable role elevation (#1108)\n"
     ]
    },
    {
     "name": "stdout",
     "output_type": "stream",
     "text": [
      "\u001b[H\u001b[2J"
     ]
    },
    {
     "name": "stderr",
     "output_type": "stream",
     "text": [
      "Previous HEAD position was eaebe01 Work-around to use a DB lookup to enable role elevation (#1108)\n",
      "HEAD is now at 18ad29d Monitor possible read rejection for S3 in stderr (#1111)\n"
     ]
    },
    {
     "name": "stdout",
     "output_type": "stream",
     "text": [
      "\u001b[H\u001b[2J"
     ]
    },
    {
     "name": "stderr",
     "output_type": "stream",
     "text": [
      "Previous HEAD position was 18ad29d Monitor possible read rejection for S3 in stderr (#1111)\n",
      "HEAD is now at 3a02c44 A dep update (#1112)\n"
     ]
    },
    {
     "name": "stdout",
     "output_type": "stream",
     "text": [
      "\u001b[H\u001b[2J"
     ]
    },
    {
     "name": "stderr",
     "output_type": "stream",
     "text": [
      "Previous HEAD position was 3a02c44 A dep update (#1112)\n",
      "HEAD is now at addc7eb Some dep updates (#1113)\n"
     ]
    },
    {
     "name": "stdout",
     "output_type": "stream",
     "text": [
      "\u001b[H\u001b[2J"
     ]
    },
    {
     "name": "stderr",
     "output_type": "stream",
     "text": [
      "Previous HEAD position was addc7eb Some dep updates (#1113)\n",
      "HEAD is now at ea15fb6 Some dep updates (#1114)\n"
     ]
    },
    {
     "name": "stdout",
     "output_type": "stream",
     "text": [
      "\u001b[H\u001b[2J"
     ]
    },
    {
     "name": "stderr",
     "output_type": "stream",
     "text": [
      "Previous HEAD position was ea15fb6 Some dep updates (#1114)\n",
      "HEAD is now at f81ea47 A dep downgrade (#1115)\n"
     ]
    },
    {
     "name": "stdout",
     "output_type": "stream",
     "text": [
      "\u001b[H\u001b[2J"
     ]
    },
    {
     "name": "stderr",
     "output_type": "stream",
     "text": [
      "Previous HEAD position was f81ea47 A dep downgrade (#1115)\n",
      "HEAD is now at d42667b A further dep downgrade (#1116)\n"
     ]
    },
    {
     "name": "stdout",
     "output_type": "stream",
     "text": [
      "\u001b[H\u001b[2J"
     ]
    },
    {
     "name": "stderr",
     "output_type": "stream",
     "text": [
      "Previous HEAD position was d42667b A further dep downgrade (#1116)\n",
      "HEAD is now at b100ea9 Rework error routine on network failure (#1117)\n"
     ]
    },
    {
     "name": "stdout",
     "output_type": "stream",
     "text": [
      "\u001b[H\u001b[2J"
     ]
    },
    {
     "name": "stderr",
     "output_type": "stream",
     "text": [
      "Previous HEAD position was b100ea9 Rework error routine on network failure (#1117)\n",
      "HEAD is now at 313c1bd Re-rework err (#1118)\n"
     ]
    },
    {
     "name": "stdout",
     "output_type": "stream",
     "text": [
      "\u001b[H\u001b[2J"
     ]
    },
    {
     "name": "stderr",
     "output_type": "stream",
     "text": [
      "Previous HEAD position was 313c1bd Re-rework err (#1118)\n",
      "HEAD is now at d4b676a Always monitor S3 for now and address server tripping (#1119)\n"
     ]
    },
    {
     "name": "stdout",
     "output_type": "stream",
     "text": [
      "\u001b[H\u001b[2J"
     ]
    },
    {
     "name": "stderr",
     "output_type": "stream",
     "text": [
      "Previous HEAD position was d4b676a Always monitor S3 for now and address server tripping (#1119)\n",
      "HEAD is now at ab799af Remove try/catch in favor of blocking identifier (#1120)\n"
     ]
    },
    {
     "name": "stdout",
     "output_type": "stream",
     "text": [
      "\u001b[H\u001b[2J"
     ]
    },
    {
     "name": "stderr",
     "output_type": "stream",
     "text": [
      "Previous HEAD position was ab799af Remove try/catch in favor of blocking identifier (#1120)\n",
      "HEAD is now at b3b8174 A dep downgrade (#1121)\n"
     ]
    },
    {
     "name": "stdout",
     "output_type": "stream",
     "text": [
      "\u001b[H\u001b[2J"
     ]
    },
    {
     "name": "stderr",
     "output_type": "stream",
     "text": [
      "Previous HEAD position was b3b8174 A dep downgrade (#1121)\n",
      "HEAD is now at 1e21421 Improve the output log level on err object (#1122)\n"
     ]
    },
    {
     "name": "stdout",
     "output_type": "stream",
     "text": [
      "\u001b[H\u001b[2J"
     ]
    },
    {
     "name": "stderr",
     "output_type": "stream",
     "text": [
      "Previous HEAD position was 1e21421 Improve the output log level on err object (#1122)\n",
      "HEAD is now at fe192eb Add in some extra error traps (#1123)\n"
     ]
    },
    {
     "name": "stdout",
     "output_type": "stream",
     "text": [
      "\u001b[H\u001b[2J"
     ]
    },
    {
     "name": "stderr",
     "output_type": "stream",
     "text": [
      "Previous HEAD position was fe192eb Add in some extra error traps (#1123)\n",
      "HEAD is now at fc93b6d Invert flagging logic (#1124)\n"
     ]
    },
    {
     "name": "stdout",
     "output_type": "stream",
     "text": [
      "\u001b[H\u001b[2J"
     ]
    },
    {
     "name": "stderr",
     "output_type": "stream",
     "text": [
      "Previous HEAD position was fc93b6d Invert flagging logic (#1124)\n",
      "HEAD is now at a7584f3 Replicate err traps to all S3 GETs (#1125)\n"
     ]
    },
    {
     "name": "stdout",
     "output_type": "stream",
     "text": [
      "\u001b[H\u001b[2J"
     ]
    },
    {
     "name": "stderr",
     "output_type": "stream",
     "text": [
      "Previous HEAD position was a7584f3 Replicate err traps to all S3 GETs (#1125)\n",
      "HEAD is now at 947e779 Some dep updates (#1126)\n"
     ]
    },
    {
     "name": "stdout",
     "output_type": "stream",
     "text": [
      "\u001b[H\u001b[2J"
     ]
    },
    {
     "name": "stderr",
     "output_type": "stream",
     "text": [
      "Previous HEAD position was 947e779 Some dep updates (#1126)\n",
      "HEAD is now at e396d93 Work-around for *UglifyJS* failures with v2.x to v3.x migration and documentation absence (#1127)\n"
     ]
    },
    {
     "name": "stdout",
     "output_type": "stream",
     "text": [
      "\u001b[H\u001b[2J"
     ]
    },
    {
     "name": "stderr",
     "output_type": "stream",
     "text": [
      "Previous HEAD position was e396d93 Work-around for *UglifyJS* failures with v2.x to v3.x migration and documentation absence (#1127)\n",
      "HEAD is now at 81127ca Fix reference to *UglifyJS* variable instead of ours (#1128)\n"
     ]
    },
    {
     "name": "stdout",
     "output_type": "stream",
     "text": [
      "\u001b[H\u001b[2J"
     ]
    },
    {
     "name": "stderr",
     "output_type": "stream",
     "text": [
      "Previous HEAD position was 81127ca Fix reference to *UglifyJS* variable instead of ours (#1128)\n",
      "HEAD is now at 517b87c Rereference the message to *UglifyJS* completely (#1129)\n"
     ]
    },
    {
     "name": "stdout",
     "output_type": "stream",
     "text": [
      "\u001b[H\u001b[2J"
     ]
    },
    {
     "name": "stderr",
     "output_type": "stream",
     "text": [
      "Previous HEAD position was 517b87c Rereference the message to *UglifyJS* completely (#1129)\n",
      "HEAD is now at c38c51e Remove unneeded parens (#1130)\n"
     ]
    },
    {
     "name": "stdout",
     "output_type": "stream",
     "text": [
      "\u001b[H\u001b[2J"
     ]
    },
    {
     "name": "stderr",
     "output_type": "stream",
     "text": [
      "Previous HEAD position was c38c51e Remove unneeded parens (#1130)\n",
      "HEAD is now at ff40f82 Apply continuation with httpHeaders (#1131)\n"
     ]
    },
    {
     "name": "stdout",
     "output_type": "stream",
     "text": [
      "\u001b[H\u001b[2J"
     ]
    },
    {
     "name": "stderr",
     "output_type": "stream",
     "text": [
      "Previous HEAD position was ff40f82 Apply continuation with httpHeaders (#1131)\n",
      "HEAD is now at 7993913 Optimize continuation (#1132)\n"
     ]
    },
    {
     "name": "stdout",
     "output_type": "stream",
     "text": [
      "\u001b[H\u001b[2J"
     ]
    },
    {
     "name": "stderr",
     "output_type": "stream",
     "text": [
      "Previous HEAD position was 7993913 Optimize continuation (#1132)\n",
      "HEAD is now at f63b81f Use *aws-sdk* aErr callback instead of stream error listener (#1135)\n"
     ]
    },
    {
     "name": "stdout",
     "output_type": "stream",
     "text": [
      "\u001b[H\u001b[2J"
     ]
    },
    {
     "name": "stderr",
     "output_type": "stream",
     "text": [
      "Previous HEAD position was f63b81f Use *aws-sdk* aErr callback instead of stream error listener (#1135)\n",
      "HEAD is now at 4143501 A dep update (#1136)\n"
     ]
    },
    {
     "name": "stdout",
     "output_type": "stream",
     "text": [
      "\u001b[H\u001b[2J"
     ]
    },
    {
     "name": "stderr",
     "output_type": "stream",
     "text": [
      "Previous HEAD position was 4143501 A dep update (#1136)\n",
      "HEAD is now at 1562c6f Use static nums for role elevation check (#1137)\n"
     ]
    },
    {
     "name": "stdout",
     "output_type": "stream",
     "text": [
      "\u001b[H\u001b[2J"
     ]
    },
    {
     "name": "stderr",
     "output_type": "stream",
     "text": [
      "Previous HEAD position was 1562c6f Use static nums for role elevation check (#1137)\n",
      "HEAD is now at e56c4c5 Some dep updates (#1138)\n"
     ]
    },
    {
     "name": "stdout",
     "output_type": "stream",
     "text": [
      "\u001b[H\u001b[2J"
     ]
    },
    {
     "name": "stderr",
     "output_type": "stream",
     "text": [
      "Previous HEAD position was e56c4c5 Some dep updates (#1138)\n",
      "HEAD is now at 810d81b Some dep updates (#1139)\n"
     ]
    },
    {
     "name": "stdout",
     "output_type": "stream",
     "text": [
      "\u001b[H\u001b[2J"
     ]
    },
    {
     "name": "stderr",
     "output_type": "stream",
     "text": [
      "Previous HEAD position was 810d81b Some dep updates (#1139)\n",
      "HEAD is now at 78237d4 Issue #1140 (#1141)\n"
     ]
    },
    {
     "name": "stdout",
     "output_type": "stream",
     "text": [
      "\u001b[H\u001b[2J"
     ]
    },
    {
     "name": "stderr",
     "output_type": "stream",
     "text": [
      "Previous HEAD position was 78237d4 Issue #1140 (#1141)\n",
      "HEAD is now at e06c030 Post followup for #1140 (#1143)\n"
     ]
    },
    {
     "name": "stdout",
     "output_type": "stream",
     "text": [
      "\u001b[H\u001b[2J"
     ]
    },
    {
     "name": "stderr",
     "output_type": "stream",
     "text": [
      "Previous HEAD position was e06c030 Post followup for #1140 (#1143)\n",
      "HEAD is now at 1538a4f Sub index browser pages (#1144)\n"
     ]
    },
    {
     "name": "stdout",
     "output_type": "stream",
     "text": [
      "\u001b[H\u001b[2J"
     ]
    },
    {
     "name": "stderr",
     "output_type": "stream",
     "text": [
      "Previous HEAD position was 1538a4f Sub index browser pages (#1144)\n",
      "HEAD is now at 0220412 Some dep updates (#1147)\n"
     ]
    },
    {
     "name": "stdout",
     "output_type": "stream",
     "text": [
      "\u001b[H\u001b[2J"
     ]
    },
    {
     "name": "stderr",
     "output_type": "stream",
     "text": [
      "Previous HEAD position was 0220412 Some dep updates (#1147)\n",
      "HEAD is now at 397fea6 A dep downgrade (#1149)\n"
     ]
    },
    {
     "name": "stdout",
     "output_type": "stream",
     "text": [
      "\u001b[H\u001b[2J"
     ]
    },
    {
     "name": "stderr",
     "output_type": "stream",
     "text": [
      "Previous HEAD position was 397fea6 A dep downgrade (#1149)\n",
      "HEAD is now at 8956617 Disable `inline` for *uglifyjs2* (#1150)\n"
     ]
    },
    {
     "name": "stdout",
     "output_type": "stream",
     "text": [
      "\u001b[H\u001b[2J"
     ]
    },
    {
     "name": "stderr",
     "output_type": "stream",
     "text": [
      "Previous HEAD position was 8956617 Disable `inline` for *uglifyjs2* (#1150)\n",
      "HEAD is now at 0946560 Some dep updates (#1151)\n"
     ]
    },
    {
     "name": "stdout",
     "output_type": "stream",
     "text": [
      "\u001b[H\u001b[2J"
     ]
    },
    {
     "name": "stderr",
     "output_type": "stream",
     "text": [
      "Previous HEAD position was 0946560 Some dep updates (#1151)\n",
      "HEAD is now at ad291d9 Use native `Promise` construction from ES6 implementation in *nodejs* for *mongoose* dep (#1152)\n"
     ]
    },
    {
     "name": "stdout",
     "output_type": "stream",
     "text": [
      "\u001b[H\u001b[2J"
     ]
    },
    {
     "name": "stderr",
     "output_type": "stream",
     "text": [
      "Previous HEAD position was ad291d9 Use native `Promise` construction from ES6 implementation in *nodejs* for *mongoose* dep (#1152)\n",
      "HEAD is now at 9ff1e18 Some dep updates (#1153)\n"
     ]
    },
    {
     "name": "stdout",
     "output_type": "stream",
     "text": [
      "\u001b[H\u001b[2J"
     ]
    },
    {
     "name": "stderr",
     "output_type": "stream",
     "text": [
      "Previous HEAD position was 9ff1e18 Some dep updates (#1153)\n",
      "HEAD is now at aeed4aa Some dep updates (#1154)\n"
     ]
    },
    {
     "name": "stdout",
     "output_type": "stream",
     "text": [
      "\u001b[H\u001b[2J"
     ]
    },
    {
     "name": "stderr",
     "output_type": "stream",
     "text": [
      "Previous HEAD position was aeed4aa Some dep updates (#1154)\n",
      "HEAD is now at fdf9fdf Some dep updates (#1156)\n"
     ]
    },
    {
     "name": "stdout",
     "output_type": "stream",
     "text": [
      "\u001b[H\u001b[2J"
     ]
    },
    {
     "name": "stderr",
     "output_type": "stream",
     "text": [
      "Previous HEAD position was fdf9fdf Some dep updates (#1156)\n",
      "HEAD is now at 3e1e832 A dep update for *passport-\\** (#1157)\n"
     ]
    },
    {
     "name": "stdout",
     "output_type": "stream",
     "text": [
      "\u001b[H\u001b[2J"
     ]
    },
    {
     "name": "stderr",
     "output_type": "stream",
     "text": [
      "Previous HEAD position was 3e1e832 A dep update for *passport-\\** (#1157)\n",
      "HEAD is now at f57ba77 Update README.md\n"
     ]
    },
    {
     "name": "stdout",
     "output_type": "stream",
     "text": [
      "\u001b[H\u001b[2J"
     ]
    },
    {
     "name": "stderr",
     "output_type": "stream",
     "text": [
      "Previous HEAD position was f57ba77 Update README.md\n",
      "HEAD is now at 840d1b6 Some dep updates (#1158)\n"
     ]
    },
    {
     "name": "stdout",
     "output_type": "stream",
     "text": [
      "\u001b[H\u001b[2J"
     ]
    },
    {
     "name": "stderr",
     "output_type": "stream",
     "text": [
      "Previous HEAD position was 840d1b6 Some dep updates (#1158)\n",
      "HEAD is now at a523b06 A dep downgrade (#1159)\n"
     ]
    },
    {
     "name": "stdout",
     "output_type": "stream",
     "text": [
      "\u001b[H\u001b[2J"
     ]
    },
    {
     "name": "stderr",
     "output_type": "stream",
     "text": [
      "Previous HEAD position was a523b06 A dep downgrade (#1159)\n",
      "HEAD is now at ac7ee8e A dep update (#1160)\n"
     ]
    },
    {
     "name": "stdout",
     "output_type": "stream",
     "text": [
      "\u001b[H\u001b[2J"
     ]
    },
    {
     "name": "stderr",
     "output_type": "stream",
     "text": [
      "Previous HEAD position was ac7ee8e A dep update (#1160)\n",
      "HEAD is now at 27ff1aa Mostly repair autolinking once again (#1161)\n"
     ]
    },
    {
     "name": "stdout",
     "output_type": "stream",
     "text": [
      "\u001b[H\u001b[2J"
     ]
    },
    {
     "name": "stderr",
     "output_type": "stream",
     "text": [
      "Previous HEAD position was 27ff1aa Mostly repair autolinking once again (#1161)\n",
      "HEAD is now at 108e6aa Use *jsdom* for a virtual DOM inside *node* (#1162)\n"
     ]
    },
    {
     "name": "stdout",
     "output_type": "stream",
     "text": [
      "\u001b[H\u001b[2J"
     ]
    },
    {
     "name": "stderr",
     "output_type": "stream",
     "text": [
      "Previous HEAD position was 108e6aa Use *jsdom* for a virtual DOM inside *node* (#1162)\n",
      "HEAD is now at 290b63a Some dep updates (#1163)\n"
     ]
    },
    {
     "name": "stdout",
     "output_type": "stream",
     "text": [
      "\u001b[H\u001b[2J"
     ]
    },
    {
     "name": "stderr",
     "output_type": "stream",
     "text": [
      "Previous HEAD position was 290b63a Some dep updates (#1163)\n",
      "HEAD is now at 0d79a9f Start tracking and showing browser used to post comments (#1164)\n"
     ]
    },
    {
     "name": "stdout",
     "output_type": "stream",
     "text": [
      "\u001b[H\u001b[2J"
     ]
    },
    {
     "name": "stderr",
     "output_type": "stream",
     "text": [
      "Previous HEAD position was 0d79a9f Start tracking and showing browser used to post comments (#1164)\n",
      "HEAD is now at 788e2f9 Some fair use icons and use them (#1165)\n"
     ]
    },
    {
     "name": "stdout",
     "output_type": "stream",
     "text": [
      "\u001b[H\u001b[2J"
     ]
    },
    {
     "name": "stderr",
     "output_type": "stream",
     "text": [
      "Previous HEAD position was 788e2f9 Some fair use icons and use them (#1165)\n",
      "HEAD is now at 2894349 Require auth to see the agent string tooltip (#1166)\n"
     ]
    },
    {
     "name": "stdout",
     "output_type": "stream",
     "text": [
      "\u001b[H\u001b[2J"
     ]
    },
    {
     "name": "stderr",
     "output_type": "stream",
     "text": [
      "Previous HEAD position was 2894349 Require auth to see the agent string tooltip (#1166)\n",
      "HEAD is now at 8cb82c6 Some more fair use icons and usage (#1167)\n"
     ]
    },
    {
     "name": "stdout",
     "output_type": "stream",
     "text": [
      "\u001b[H\u001b[2J"
     ]
    },
    {
     "name": "stderr",
     "output_type": "stream",
     "text": [
      "Previous HEAD position was 8cb82c6 Some more fair use icons and usage (#1167)\n",
      "HEAD is now at e4cd921 Rework CSS classes a bit (#1168)\n"
     ]
    },
    {
     "name": "stdout",
     "output_type": "stream",
     "text": [
      "\u001b[H\u001b[2J"
     ]
    },
    {
     "name": "stderr",
     "output_type": "stream",
     "text": [
      "Previous HEAD position was e4cd921 Rework CSS classes a bit (#1168)\n",
      "HEAD is now at c07278e Fix view (#1169)\n"
     ]
    },
    {
     "name": "stdout",
     "output_type": "stream",
     "text": [
      "\u001b[H\u001b[2J"
     ]
    },
    {
     "name": "stderr",
     "output_type": "stream",
     "text": [
      "Previous HEAD position was c07278e Fix view (#1169)\n",
      "HEAD is now at c754ca6 Some more tweaking (#1170)\n"
     ]
    },
    {
     "name": "stdout",
     "output_type": "stream",
     "text": [
      "\u001b[H\u001b[2J"
     ]
    },
    {
     "name": "stderr",
     "output_type": "stream",
     "text": [
      "Previous HEAD position was c754ca6 Some more tweaking (#1170)\n",
      "HEAD is now at 678afd1 Update README.md for dep (#1171)\n"
     ]
    },
    {
     "name": "stdout",
     "output_type": "stream",
     "text": [
      "\u001b[H\u001b[2J"
     ]
    },
    {
     "name": "stderr",
     "output_type": "stream",
     "text": [
      "Previous HEAD position was 678afd1 Update README.md for dep (#1171)\n",
      "HEAD is now at 3c7f8ed Some dep updates (#1172)\n"
     ]
    },
    {
     "name": "stdout",
     "output_type": "stream",
     "text": [
      "\u001b[H\u001b[2J"
     ]
    },
    {
     "name": "stderr",
     "output_type": "stream",
     "text": [
      "Previous HEAD position was 3c7f8ed Some dep updates (#1172)\n",
      "HEAD is now at 82b9b2e Fix for type `other` on UA (#1173)\n"
     ]
    },
    {
     "name": "stdout",
     "output_type": "stream",
     "text": [
      "\u001b[H\u001b[2J"
     ]
    },
    {
     "name": "stderr",
     "output_type": "stream",
     "text": [
      "Previous HEAD position was 82b9b2e Fix for type `other` on UA (#1173)\n",
      "HEAD is now at 43929bd Split Login and Register into two parts (#1174)\n"
     ]
    },
    {
     "name": "stdout",
     "output_type": "stream",
     "text": [
      "\u001b[H\u001b[2J"
     ]
    },
    {
     "name": "stderr",
     "output_type": "stream",
     "text": [
      "Previous HEAD position was 43929bd Split Login and Register into two parts (#1174)\n",
      "HEAD is now at 0a8feaa Rename some labels (#1175)\n"
     ]
    },
    {
     "name": "stdout",
     "output_type": "stream",
     "text": [
      "\u001b[H\u001b[2J"
     ]
    },
    {
     "name": "stderr",
     "output_type": "stream",
     "text": [
      "Previous HEAD position was 0a8feaa Rename some labels (#1175)\n",
      "HEAD is now at 90a031c Drop the Login hyperlinks (#1176)\n"
     ]
    },
    {
     "name": "stdout",
     "output_type": "stream",
     "text": [
      "\u001b[H\u001b[2J"
     ]
    },
    {
     "name": "stderr",
     "output_type": "stream",
     "text": [
      "Previous HEAD position was 90a031c Drop the Login hyperlinks (#1176)\n",
      "HEAD is now at 85259bf One more label change (#1177)\n"
     ]
    },
    {
     "name": "stdout",
     "output_type": "stream",
     "text": [
      "\u001b[H\u001b[2J"
     ]
    },
    {
     "name": "stderr",
     "output_type": "stream",
     "text": [
      "Previous HEAD position was 85259bf One more label change (#1177)\n",
      "HEAD is now at 3abe209 Change navbar name labels to sync (#1178)\n"
     ]
    },
    {
     "name": "stdout",
     "output_type": "stream",
     "text": [
      "\u001b[H\u001b[2J"
     ]
    },
    {
     "name": "stderr",
     "output_type": "stream",
     "text": [
      "Previous HEAD position was 3abe209 Change navbar name labels to sync (#1178)\n",
      "HEAD is now at a04a9b7 This is option 2 (#1179)\n"
     ]
    },
    {
     "name": "stdout",
     "output_type": "stream",
     "text": [
      "\u001b[H\u001b[2J"
     ]
    },
    {
     "name": "stderr",
     "output_type": "stream",
     "text": [
      "Previous HEAD position was a04a9b7 This is option 2 (#1179)\n",
      "HEAD is now at 1b70b25 Disable some more of Register during Login (#1180)\n"
     ]
    },
    {
     "name": "stdout",
     "output_type": "stream",
     "text": [
      "\u001b[H\u001b[2J"
     ]
    },
    {
     "name": "stderr",
     "output_type": "stream",
     "text": [
      "Previous HEAD position was 1b70b25 Disable some more of Register during Login (#1180)\n",
      "HEAD is now at 26f949d Echo Login to Register (#1181)\n"
     ]
    },
    {
     "name": "stdout",
     "output_type": "stream",
     "text": [
      "\u001b[H\u001b[2J"
     ]
    },
    {
     "name": "stderr",
     "output_type": "stream",
     "text": [
      "Previous HEAD position was 26f949d Echo Login to Register (#1181)\n",
      "HEAD is now at d65c6bf Potentially decrease some traffic to/from DB (#1182)\n"
     ]
    },
    {
     "name": "stdout",
     "output_type": "stream",
     "text": [
      "\u001b[H\u001b[2J"
     ]
    },
    {
     "name": "stderr",
     "output_type": "stream",
     "text": [
      "Previous HEAD position was d65c6bf Potentially decrease some traffic to/from DB (#1182)\n",
      "HEAD is now at 77e4ee6 Move `exist`s to an API route (#1183)\n"
     ]
    },
    {
     "name": "stdout",
     "output_type": "stream",
     "text": [
      "\u001b[H\u001b[2J"
     ]
    },
    {
     "name": "stderr",
     "output_type": "stream",
     "text": [
      "Previous HEAD position was 77e4ee6 Move `exist`s to an API route (#1183)\n",
      "HEAD is now at 1830e39 Repair experimental minification (#1184)\n"
     ]
    },
    {
     "name": "stdout",
     "output_type": "stream",
     "text": [
      "\u001b[H\u001b[2J"
     ]
    },
    {
     "name": "stderr",
     "output_type": "stream",
     "text": [
      "Previous HEAD position was 1830e39 Repair experimental minification (#1184)\n",
      "HEAD is now at bc21b61 Adjust `user-data` top/bottom margins (#1185)\n"
     ]
    },
    {
     "name": "stdout",
     "output_type": "stream",
     "text": [
      "\u001b[H\u001b[2J"
     ]
    },
    {
     "name": "stderr",
     "output_type": "stream",
     "text": [
      "Previous HEAD position was bc21b61 Adjust `user-data` top/bottom margins (#1185)\n",
      "HEAD is now at 52f3a62 Overly emphasize TOS and Privacy policies (#1187)\n"
     ]
    },
    {
     "name": "stdout",
     "output_type": "stream",
     "text": [
      "\u001b[H\u001b[2J"
     ]
    },
    {
     "name": "stderr",
     "output_type": "stream",
     "text": [
      "Previous HEAD position was 52f3a62 Overly emphasize TOS and Privacy policies (#1187)\n",
      "HEAD is now at 2006cae  Add some fair use bling to auth views (#1188)\n"
     ]
    },
    {
     "name": "stdout",
     "output_type": "stream",
     "text": [
      "\u001b[H\u001b[2J"
     ]
    },
    {
     "name": "stderr",
     "output_type": "stream",
     "text": [
      "Previous HEAD position was 2006cae  Add some fair use bling to auth views (#1188)\n",
      "HEAD is now at 29b88da Revert some bling (#1189)\n"
     ]
    },
    {
     "name": "stdout",
     "output_type": "stream",
     "text": [
      "\u001b[H\u001b[2J"
     ]
    },
    {
     "name": "stderr",
     "output_type": "stream",
     "text": [
      "Previous HEAD position was 29b88da Revert some bling (#1189)\n",
      "HEAD is now at 5454970 Safari test (#1190)\n"
     ]
    },
    {
     "name": "stdout",
     "output_type": "stream",
     "text": [
      "\u001b[H\u001b[2J"
     ]
    },
    {
     "name": "stderr",
     "output_type": "stream",
     "text": [
      "Previous HEAD position was 5454970 Safari test (#1190)\n",
      "HEAD is now at 952831f Refactor Register page (again) (#1191)\n"
     ]
    },
    {
     "name": "stdout",
     "output_type": "stream",
     "text": [
      "\u001b[H\u001b[2J"
     ]
    },
    {
     "name": "stderr",
     "output_type": "stream",
     "text": [
      "Previous HEAD position was 952831f Refactor Register page (again) (#1191)\n",
      "HEAD is now at 31f3881 Fix identifier collision (#1192)\n"
     ]
    },
    {
     "name": "stdout",
     "output_type": "stream",
     "text": [
      "\u001b[H\u001b[2J"
     ]
    },
    {
     "name": "stderr",
     "output_type": "stream",
     "text": [
      "Previous HEAD position was 31f3881 Fix identifier collision (#1192)\n",
      "HEAD is now at 3ce2370 Fix a post edit state (#1193)\n"
     ]
    },
    {
     "name": "stdout",
     "output_type": "stream",
     "text": [
      "\u001b[H\u001b[2J"
     ]
    },
    {
     "name": "stderr",
     "output_type": "stream",
     "text": [
      "Previous HEAD position was 3ce2370 Fix a post edit state (#1193)\n",
      "HEAD is now at 7bcf3ca Turn off spellchecking of the username (#1194)\n"
     ]
    },
    {
     "name": "stdout",
     "output_type": "stream",
     "text": [
      "\u001b[H\u001b[2J"
     ]
    },
    {
     "name": "stderr",
     "output_type": "stream",
     "text": [
      "Previous HEAD position was 7bcf3ca Turn off spellchecking of the username (#1194)\n",
      "HEAD is now at 928999d Label change (#1195)\n"
     ]
    },
    {
     "name": "stdout",
     "output_type": "stream",
     "text": [
      "\u001b[H\u001b[2J"
     ]
    },
    {
     "name": "stderr",
     "output_type": "stream",
     "text": [
      "Previous HEAD position was 928999d Label change (#1195)\n",
      "HEAD is now at b54f20a Convert some site preferred redirects to https (#1196)\n"
     ]
    },
    {
     "name": "stdout",
     "output_type": "stream",
     "text": [
      "\u001b[H\u001b[2J"
     ]
    },
    {
     "name": "stderr",
     "output_type": "stream",
     "text": [
      "Previous HEAD position was b54f20a Convert some site preferred redirects to https (#1196)\n",
      "HEAD is now at 5c85bfa Deprecate some routes (#1199)\n"
     ]
    },
    {
     "name": "stdout",
     "output_type": "stream",
     "text": [
      "\u001b[H\u001b[2J"
     ]
    },
    {
     "name": "stderr",
     "output_type": "stream",
     "text": [
      "Previous HEAD position was 5c85bfa Deprecate some routes (#1199)\n",
      "HEAD is now at ff570dc Collect the last authenticated date (#1200)\n"
     ]
    },
    {
     "name": "stdout",
     "output_type": "stream",
     "text": [
      "\u001b[H\u001b[2J"
     ]
    },
    {
     "name": "stderr",
     "output_type": "stream",
     "text": [
      "Previous HEAD position was ff570dc Collect the last authenticated date (#1200)\n",
      "HEAD is now at f4bd642 Destroy session completely (#1201)\n"
     ]
    },
    {
     "name": "stdout",
     "output_type": "stream",
     "text": [
      "\u001b[H\u001b[2J"
     ]
    },
    {
     "name": "stderr",
     "output_type": "stream",
     "text": [
      "Previous HEAD position was f4bd642 Destroy session completely (#1201)\n",
      "HEAD is now at 01ff167 Set `maxAge` idle session to four (4) hours (#1202)\n"
     ]
    },
    {
     "name": "stdout",
     "output_type": "stream",
     "text": [
      "\u001b[H\u001b[2J"
     ]
    },
    {
     "name": "stderr",
     "output_type": "stream",
     "text": [
      "Previous HEAD position was 01ff167 Set `maxAge` idle session to four (4) hours (#1202)\n",
      "HEAD is now at c91be85 Add a simple admin UI to show the session length (#1203)\n"
     ]
    },
    {
     "name": "stdout",
     "output_type": "stream",
     "text": [
      "\u001b[H\u001b[2J"
     ]
    },
    {
     "name": "stderr",
     "output_type": "stream",
     "text": [
      "Previous HEAD position was c91be85 Add a simple admin UI to show the session length (#1203)\n",
      "HEAD is now at 7433c5e Embed the comment editor (#1204)\n"
     ]
    },
    {
     "name": "stdout",
     "output_type": "stream",
     "text": [
      "\u001b[H\u001b[2J"
     ]
    },
    {
     "name": "stderr",
     "output_type": "stream",
     "text": [
      "Previous HEAD position was 7433c5e Embed the comment editor (#1204)\n",
      "HEAD is now at ac93e36 Add lockfile to ignore (#1205)\n"
     ]
    },
    {
     "name": "stdout",
     "output_type": "stream",
     "text": [
      "\u001b[H\u001b[2J"
     ]
    },
    {
     "name": "stderr",
     "output_type": "stream",
     "text": [
      "Previous HEAD position was ac93e36 Add lockfile to ignore (#1205)\n",
      "HEAD is now at db85a52 Remove an unused dep (#1206)\n"
     ]
    },
    {
     "name": "stdout",
     "output_type": "stream",
     "text": [
      "\u001b[H\u001b[2J"
     ]
    },
    {
     "name": "stderr",
     "output_type": "stream",
     "text": [
      "Previous HEAD position was db85a52 Remove an unused dep (#1206)\n",
      "HEAD is now at f2c5d4d Don't stall npm init on exit code (#1207)\n"
     ]
    },
    {
     "name": "stdout",
     "output_type": "stream",
     "text": [
      "\u001b[H\u001b[2J"
     ]
    },
    {
     "name": "stderr",
     "output_type": "stream",
     "text": [
      "Previous HEAD position was f2c5d4d Don't stall npm init on exit code (#1207)\n",
      "HEAD is now at 0318ec5 Some misc near parallel UI changes (#1208)\n"
     ]
    },
    {
     "name": "stdout",
     "output_type": "stream",
     "text": [
      "\u001b[H\u001b[2J"
     ]
    },
    {
     "name": "stderr",
     "output_type": "stream",
     "text": [
      "Previous HEAD position was 0318ec5 Some misc near parallel UI changes (#1208)\n",
      "HEAD is now at bedacd8 Add environment variable for *morgan* pre-defined format (#1209)\n"
     ]
    },
    {
     "name": "stdout",
     "output_type": "stream",
     "text": [
      "\u001b[H\u001b[2J"
     ]
    },
    {
     "name": "stderr",
     "output_type": "stream",
     "text": [
      "Previous HEAD position was bedacd8 Add environment variable for *morgan* pre-defined format (#1209)\n",
      "HEAD is now at 0d67d9d Put in a few missing Searches (#1210)\n"
     ]
    },
    {
     "name": "stdout",
     "output_type": "stream",
     "text": [
      "\u001b[H\u001b[2J"
     ]
    },
    {
     "name": "stderr",
     "output_type": "stream",
     "text": [
      "Previous HEAD position was 0d67d9d Put in a few missing Searches (#1210)\n",
      "HEAD is now at ccb3a09 Add clear search feedback button to inputs (#1211)\n"
     ]
    },
    {
     "name": "stdout",
     "output_type": "stream",
     "text": [
      "\u001b[H\u001b[2J"
     ]
    },
    {
     "name": "stderr",
     "output_type": "stream",
     "text": [
      "Previous HEAD position was ccb3a09 Add clear search feedback button to inputs (#1211)\n",
      "HEAD is now at 8f1e5e2 Turn off more spell checking (#1212)\n"
     ]
    },
    {
     "name": "stdout",
     "output_type": "stream",
     "text": [
      "\u001b[H\u001b[2J"
     ]
    },
    {
     "name": "stderr",
     "output_type": "stream",
     "text": [
      "Previous HEAD position was 8f1e5e2 Turn off more spell checking (#1212)\n",
      "HEAD is now at d8087bc Fix missing hyphen (#1213)\n"
     ]
    },
    {
     "name": "stdout",
     "output_type": "stream",
     "text": [
      "\u001b[H\u001b[2J"
     ]
    },
    {
     "name": "stderr",
     "output_type": "stream",
     "text": [
      "Previous HEAD position was d8087bc Fix missing hyphen (#1213)\n",
      "HEAD is now at 944cb96 More CSS styling (#1214)\n"
     ]
    },
    {
     "name": "stdout",
     "output_type": "stream",
     "text": [
      "\u001b[H\u001b[2J"
     ]
    },
    {
     "name": "stderr",
     "output_type": "stream",
     "text": [
      "Previous HEAD position was 944cb96 More CSS styling (#1214)\n",
      "HEAD is now at bf47111 Another style test (#1215)\n"
     ]
    },
    {
     "name": "stdout",
     "output_type": "stream",
     "text": [
      "\u001b[H\u001b[2J"
     ]
    },
    {
     "name": "stderr",
     "output_type": "stream",
     "text": [
      "Previous HEAD position was bf47111 Another style test (#1215)\n",
      "HEAD is now at 0d9f7e0 Try an alternative clear (#1216)\n"
     ]
    },
    {
     "name": "stdout",
     "output_type": "stream",
     "text": [
      "\u001b[H\u001b[2J"
     ]
    },
    {
     "name": "stderr",
     "output_type": "stream",
     "text": [
      "Previous HEAD position was 0d9f7e0 Try an alternative clear (#1216)\n",
      "HEAD is now at 25b700a Missed a page script injection (#1217)\n"
     ]
    },
    {
     "name": "stdout",
     "output_type": "stream",
     "text": [
      "\u001b[H\u001b[2J"
     ]
    },
    {
     "name": "stderr",
     "output_type": "stream",
     "text": [
      "Previous HEAD position was 25b700a Missed a page script injection (#1217)\n",
      "HEAD is now at 437f13a Try a generic disable of the M$ pseudo-class (#1218)\n"
     ]
    },
    {
     "name": "stdout",
     "output_type": "stream",
     "text": [
      "\u001b[H\u001b[2J"
     ]
    },
    {
     "name": "stderr",
     "output_type": "stream",
     "text": [
      "Previous HEAD position was 437f13a Try a generic disable of the M$ pseudo-class (#1218)\n",
      "HEAD is now at 0af120d Try older Event for IE 11 (#1219)\n"
     ]
    },
    {
     "name": "stdout",
     "output_type": "stream",
     "text": [
      "\u001b[H\u001b[2J"
     ]
    },
    {
     "name": "stderr",
     "output_type": "stream",
     "text": [
      "Previous HEAD position was 0af120d Try older Event for IE 11 (#1219)\n",
      "HEAD is now at 290ca1e Bump *node* min/max (#1220)\n"
     ]
    },
    {
     "name": "stdout",
     "output_type": "stream",
     "text": [
      "\u001b[H\u001b[2J"
     ]
    },
    {
     "name": "stderr",
     "output_type": "stream",
     "text": [
      "Previous HEAD position was 290ca1e Bump *node* min/max (#1220)\n",
      "HEAD is now at c6af1ee Try the original again (#1221)\n"
     ]
    },
    {
     "name": "stdout",
     "output_type": "stream",
     "text": [
      "\u001b[H\u001b[2J"
     ]
    },
    {
     "name": "stderr",
     "output_type": "stream",
     "text": [
      "Previous HEAD position was c6af1ee Try the original again (#1221)\n",
      "HEAD is now at 61a2f84 Remove issue check (#1222)\n"
     ]
    },
    {
     "name": "stdout",
     "output_type": "stream",
     "text": [
      "\u001b[H\u001b[2J"
     ]
    },
    {
     "name": "stderr",
     "output_type": "stream",
     "text": [
      "Previous HEAD position was 61a2f84 Remove issue check (#1222)\n",
      "HEAD is now at de13161 Tweak column label (#1223)\n"
     ]
    },
    {
     "name": "stdout",
     "output_type": "stream",
     "text": [
      "\u001b[H\u001b[2J"
     ]
    },
    {
     "name": "stderr",
     "output_type": "stream",
     "text": [
      "Previous HEAD position was de13161 Tweak column label (#1223)\n",
      "HEAD is now at 94da69a Rename inclusions for form control clear (#1224)\n"
     ]
    },
    {
     "name": "stdout",
     "output_type": "stream",
     "text": [
      "\u001b[H\u001b[2J"
     ]
    },
    {
     "name": "stderr",
     "output_type": "stream",
     "text": [
      "Previous HEAD position was 94da69a Rename inclusions for form control clear (#1224)\n",
      "HEAD is now at d996236 Some dep updates (#1225)\n"
     ]
    },
    {
     "name": "stdout",
     "output_type": "stream",
     "text": [
      "\u001b[H\u001b[2J"
     ]
    },
    {
     "name": "stderr",
     "output_type": "stream",
     "text": [
      "Previous HEAD position was d996236 Some dep updates (#1225)\n",
      "HEAD is now at b6e9576 Some linkage display changes for licensing (#1226)\n"
     ]
    },
    {
     "name": "stdout",
     "output_type": "stream",
     "text": [
      "\u001b[H\u001b[2J"
     ]
    },
    {
     "name": "stderr",
     "output_type": "stream",
     "text": [
      "Previous HEAD position was b6e9576 Some linkage display changes for licensing (#1226)\n",
      "HEAD is now at 923890b Remove tooltips (#1227)\n"
     ]
    },
    {
     "name": "stdout",
     "output_type": "stream",
     "text": [
      "\u001b[H\u001b[2J"
     ]
    },
    {
     "name": "stderr",
     "output_type": "stream",
     "text": [
      "Previous HEAD position was 923890b Remove tooltips (#1227)\n",
      "HEAD is now at 42958b1 Implement basic OSI `@license` check and reject (#1228)\n"
     ]
    },
    {
     "name": "stdout",
     "output_type": "stream",
     "text": [
      "\u001b[H\u001b[2J"
     ]
    },
    {
     "name": "stderr",
     "output_type": "stream",
     "text": [
      "Previous HEAD position was 42958b1 Implement basic OSI `@license` check and reject (#1228)\n",
      "HEAD is now at d0e6374 Typo (#1229)\n"
     ]
    },
    {
     "name": "stdout",
     "output_type": "stream",
     "text": [
      "\u001b[H\u001b[2J"
     ]
    },
    {
     "name": "stderr",
     "output_type": "stream",
     "text": [
      "Previous HEAD position was d0e6374 Typo (#1229)\n",
      "HEAD is now at ca306e8 Implement basic SPDX format `@license` check and reject (#1230)\n"
     ]
    },
    {
     "name": "stdout",
     "output_type": "stream",
     "text": [
      "\u001b[H\u001b[2J"
     ]
    },
    {
     "name": "stderr",
     "output_type": "stream",
     "text": [
      "Previous HEAD position was ca306e8 Implement basic SPDX format `@license` check and reject (#1230)\n",
      "HEAD is now at 8204977 Hyperlink a few headers on the add scripts page (#1231)\n"
     ]
    },
    {
     "name": "stdout",
     "output_type": "stream",
     "text": [
      "\u001b[H\u001b[2J"
     ]
    },
    {
     "name": "stderr",
     "output_type": "stream",
     "text": [
      "Previous HEAD position was 8204977 Hyperlink a few headers on the add scripts page (#1231)\n",
      "HEAD is now at cd4585e Optimize loops a bit (#1233)\n"
     ]
    },
    {
     "name": "stdout",
     "output_type": "stream",
     "text": [
      "\u001b[H\u001b[2J"
     ]
    },
    {
     "name": "stderr",
     "output_type": "stream",
     "text": [
      "Previous HEAD position was cd4585e Optimize loops a bit (#1233)\n",
      "HEAD is now at 834d982 Linkify `@license` SPDX with URL as much as possible (#1234)\n"
     ]
    },
    {
     "name": "stdout",
     "output_type": "stream",
     "text": [
      "\u001b[H\u001b[2J"
     ]
    },
    {
     "name": "stderr",
     "output_type": "stream",
     "text": [
      "Previous HEAD position was 834d982 Linkify `@license` SPDX with URL as much as possible (#1234)\n",
      "HEAD is now at 0a31c13 Some more optimizing (#1235)\n"
     ]
    },
    {
     "name": "stdout",
     "output_type": "stream",
     "text": [
      "\u001b[H\u001b[2J"
     ]
    },
    {
     "name": "stderr",
     "output_type": "stream",
     "text": [
      "Previous HEAD position was 0a31c13 Some more optimizing (#1235)\n",
      "HEAD is now at b9cbaec Rework the UI a bit for existing licensing (#1236)\n"
     ]
    },
    {
     "name": "stdout",
     "output_type": "stream",
     "text": [
      "\u001b[H\u001b[2J"
     ]
    },
    {
     "name": "stderr",
     "output_type": "stream",
     "text": [
      "Previous HEAD position was b9cbaec Rework the UI a bit for existing licensing (#1236)\n",
      "HEAD is now at 38a70b7 Start a blocking SPDX list (#1237)\n"
     ]
    },
    {
     "name": "stdout",
     "output_type": "stream",
     "text": [
      "\u001b[H\u001b[2J"
     ]
    },
    {
     "name": "stderr",
     "output_type": "stream",
     "text": [
      "Previous HEAD position was 38a70b7 Start a blocking SPDX list (#1237)\n",
      "HEAD is now at 2724afe Simple Ace placeholder (#1240)\n"
     ]
    },
    {
     "name": "stdout",
     "output_type": "stream",
     "text": [
      "\u001b[H\u001b[2J"
     ]
    },
    {
     "name": "stderr",
     "output_type": "stream",
     "text": [
      "Previous HEAD position was 2724afe Simple Ace placeholder (#1240)\n",
      "HEAD is now at 682c980 Typo (#1241)\n"
     ]
    },
    {
     "name": "stdout",
     "output_type": "stream",
     "text": [
      "\u001b[H\u001b[2J"
     ]
    },
    {
     "name": "stderr",
     "output_type": "stream",
     "text": [
      "Previous HEAD position was 682c980 Typo (#1241)\n",
      "HEAD is now at 7b21a55 Whitespace addition (#1242)\n"
     ]
    },
    {
     "name": "stdout",
     "output_type": "stream",
     "text": [
      "\u001b[H\u001b[2J"
     ]
    },
    {
     "name": "stderr",
     "output_type": "stream",
     "text": [
      "Previous HEAD position was 7b21a55 Whitespace addition (#1242)\n",
      "HEAD is now at a351adf Admin copy tools for Raw JSON Data (#1243)\n"
     ]
    },
    {
     "name": "stdout",
     "output_type": "stream",
     "text": [
      "\u001b[H\u001b[2J"
     ]
    },
    {
     "name": "stderr",
     "output_type": "stream",
     "text": [
      "Previous HEAD position was a351adf Admin copy tools for Raw JSON Data (#1243)\n",
      "HEAD is now at 12e4b76 Try a rolling session middleware (#1244)\n"
     ]
    },
    {
     "name": "stdout",
     "output_type": "stream",
     "text": [
      "\u001b[H\u001b[2J"
     ]
    },
    {
     "name": "stderr",
     "output_type": "stream",
     "text": [
      "Previous HEAD position was 12e4b76 Try a rolling session middleware (#1244)\n",
      "HEAD is now at 4418c93 Use the *express* native rolling instead (#1245)\n"
     ]
    },
    {
     "name": "stdout",
     "output_type": "stream",
     "text": [
      "\u001b[H\u001b[2J"
     ]
    },
    {
     "name": "stderr",
     "output_type": "stream",
     "text": [
      "Previous HEAD position was 4418c93 Use the *express* native rolling instead (#1245)\n",
      "HEAD is now at 0f43ec3 Start requiring `@license` period\n"
     ]
    },
    {
     "name": "stdout",
     "output_type": "stream",
     "text": [
      "\u001b[H\u001b[2J"
     ]
    },
    {
     "name": "stderr",
     "output_type": "stream",
     "text": [
      "Previous HEAD position was 0f43ec3 Start requiring `@license` period\n",
      "HEAD is now at fcb8f63 Admin copy tools change\n"
     ]
    },
    {
     "name": "stdout",
     "output_type": "stream",
     "text": [
      "\u001b[H\u001b[2J"
     ]
    },
    {
     "name": "stderr",
     "output_type": "stream",
     "text": [
      "Previous HEAD position was fcb8f63 Admin copy tools change\n",
      "HEAD is now at 22190c9 Rework the linkage on collapsed\n"
     ]
    },
    {
     "name": "stdout",
     "output_type": "stream",
     "text": [
      "\u001b[H\u001b[2J"
     ]
    },
    {
     "name": "stderr",
     "output_type": "stream",
     "text": [
      "Previous HEAD position was 22190c9 Rework the linkage on collapsed\n",
      "HEAD is now at 16044bb Misc label changes\n"
     ]
    },
    {
     "name": "stdout",
     "output_type": "stream",
     "text": [
      "\u001b[H\u001b[2J"
     ]
    },
    {
     "name": "stderr",
     "output_type": "stream",
     "text": [
      "Previous HEAD position was 16044bb Misc label changes\n",
      "HEAD is now at c4f5b2a Rework system help template\n"
     ]
    },
    {
     "name": "stdout",
     "output_type": "stream",
     "text": [
      "\u001b[H\u001b[2J"
     ]
    },
    {
     "name": "stderr",
     "output_type": "stream",
     "text": [
      "Previous HEAD position was c4f5b2a Rework system help template\n",
      "HEAD is now at 6f8cea5 Break on all (#1249)\n"
     ]
    },
    {
     "name": "stdout",
     "output_type": "stream",
     "text": [
      "\u001b[H\u001b[2J"
     ]
    },
    {
     "name": "stderr",
     "output_type": "stream",
     "text": [
      "Previous HEAD position was 6f8cea5 Break on all (#1249)\n",
      "HEAD is now at 3d9d75f Some more informational help regarding licensing (#1250)\n"
     ]
    },
    {
     "name": "stdout",
     "output_type": "stream",
     "text": [
      "\u001b[H\u001b[2J"
     ]
    },
    {
     "name": "stderr",
     "output_type": "stream",
     "text": [
      "Previous HEAD position was 3d9d75f Some more informational help regarding licensing (#1250)\n",
      "HEAD is now at 24a72b1 Nudge session maxAge (#1252)\n"
     ]
    },
    {
     "name": "stdout",
     "output_type": "stream",
     "text": [
      "\u001b[H\u001b[2J"
     ]
    },
    {
     "name": "stderr",
     "output_type": "stream",
     "text": [
      "Previous HEAD position was 24a72b1 Nudge session maxAge (#1252)\n",
      "HEAD is now at 6726eb7 Implement cross-site `UserLibrary` block (#1253)\n"
     ]
    },
    {
     "name": "stdout",
     "output_type": "stream",
     "text": [
      "\u001b[H\u001b[2J"
     ]
    },
    {
     "name": "stderr",
     "output_type": "stream",
     "text": [
      "Previous HEAD position was 6726eb7 Implement cross-site `UserLibrary` block (#1253)\n",
      "HEAD is now at f67199b Fix help link (#1254)\n"
     ]
    },
    {
     "name": "stdout",
     "output_type": "stream",
     "text": [
      "\u001b[H\u001b[2J"
     ]
    },
    {
     "name": "stderr",
     "output_type": "stream",
     "text": [
      "Previous HEAD position was f67199b Fix help link (#1254)\n",
      "HEAD is now at 5488bb4 Fix some comments (#1256)\n"
     ]
    },
    {
     "name": "stdout",
     "output_type": "stream",
     "text": [
      "\u001b[H\u001b[2J"
     ]
    },
    {
     "name": "stderr",
     "output_type": "stream",
     "text": [
      "Previous HEAD position was 5488bb4 Fix some comments (#1256)\n",
      "HEAD is now at fefacf6 Fix the block parsing. (#1257)\n"
     ]
    },
    {
     "name": "stdout",
     "output_type": "stream",
     "text": [
      "\u001b[H\u001b[2J"
     ]
    },
    {
     "name": "stderr",
     "output_type": "stream",
     "text": [
      "Previous HEAD position was fefacf6 Fix the block parsing. (#1257)\n",
      "HEAD is now at 9d7b139 Some dep updates (#1258)\n"
     ]
    },
    {
     "name": "stdout",
     "output_type": "stream",
     "text": [
      "\u001b[H\u001b[2J"
     ]
    },
    {
     "name": "stderr",
     "output_type": "stream",
     "text": [
      "Previous HEAD position was 9d7b139 Some dep updates (#1258)\n",
      "HEAD is now at 013407a Sync libs too (#1260)\n"
     ]
    },
    {
     "name": "stdout",
     "output_type": "stream",
     "text": [
      "\u001b[H\u001b[2J"
     ]
    },
    {
     "name": "stderr",
     "output_type": "stream",
     "text": [
      "Previous HEAD position was 013407a Sync libs too (#1260)\n",
      "HEAD is now at f16ed81 Misc comment cleanup (#1261)\n"
     ]
    },
    {
     "name": "stdout",
     "output_type": "stream",
     "text": [
      "\u001b[H\u001b[2J"
     ]
    },
    {
     "name": "stderr",
     "output_type": "stream",
     "text": [
      "Previous HEAD position was f16ed81 Misc comment cleanup (#1261)\n",
      "HEAD is now at 67da22f Style conformance (#1262)\n"
     ]
    },
    {
     "name": "stdout",
     "output_type": "stream",
     "text": [
      "\u001b[H\u001b[2J"
     ]
    },
    {
     "name": "stderr",
     "output_type": "stream",
     "text": [
      "Previous HEAD position was 67da22f Style conformance (#1262)\n",
      "HEAD is now at 83bf0f3 More sanity checks with rejections on non-urls (#1263)\n"
     ]
    },
    {
     "name": "stdout",
     "output_type": "stream",
     "text": [
      "\u001b[H\u001b[2J"
     ]
    },
    {
     "name": "stderr",
     "output_type": "stream",
     "text": [
      "Previous HEAD position was 83bf0f3 More sanity checks with rejections on non-urls (#1263)\n",
      "HEAD is now at f0f1eed Existence check and email test (#1264)\n"
     ]
    },
    {
     "name": "stdout",
     "output_type": "stream",
     "text": [
      "\u001b[H\u001b[2J"
     ]
    },
    {
     "name": "stderr",
     "output_type": "stream",
     "text": [
      "Previous HEAD position was f0f1eed Existence check and email test (#1264)\n",
      "HEAD is now at 380c70e More existence checks (#1265)\n"
     ]
    },
    {
     "name": "stdout",
     "output_type": "stream",
     "text": [
      "\u001b[H\u001b[2J"
     ]
    },
    {
     "name": "stderr",
     "output_type": "stream",
     "text": [
      "Previous HEAD position was 380c70e More existence checks (#1265)\n",
      "HEAD is now at 93d4ae8 Style conformity (#1266)\n"
     ]
    },
    {
     "name": "stdout",
     "output_type": "stream",
     "text": [
      "\u001b[H\u001b[2J"
     ]
    },
    {
     "name": "stderr",
     "output_type": "stream",
     "text": [
      "Previous HEAD position was 93d4ae8 Style conformity (#1266)\n",
      "HEAD is now at 8a29df6 Some notices for GH importing (#1267)\n"
     ]
    },
    {
     "name": "stdout",
     "output_type": "stream",
     "text": [
      "\u001b[H\u001b[2J"
     ]
    },
    {
     "name": "stderr",
     "output_type": "stream",
     "text": [
      "Previous HEAD position was 8a29df6 Some notices for GH importing (#1267)\n",
      "HEAD is now at 1ad03d8 Grammar and button color change too (#1268)\n"
     ]
    },
    {
     "name": "stdout",
     "output_type": "stream",
     "text": [
      "\u001b[H\u001b[2J"
     ]
    },
    {
     "name": "stderr",
     "output_type": "stream",
     "text": [
      "Previous HEAD position was 1ad03d8 Grammar and button color change too (#1268)\n",
      "HEAD is now at d3acbec Remove sanitizing URLs in favor of more specific test (#1269)\n"
     ]
    },
    {
     "name": "stdout",
     "output_type": "stream",
     "text": [
      "\u001b[H\u001b[2J"
     ]
    },
    {
     "name": "stderr",
     "output_type": "stream",
     "text": [
      "Previous HEAD position was d3acbec Remove sanitizing URLs in favor of more specific test (#1269)\n",
      "HEAD is now at 624833e Add email support (#1270)\n"
     ]
    },
    {
     "name": "stdout",
     "output_type": "stream",
     "text": [
      "\u001b[H\u001b[2J"
     ]
    },
    {
     "name": "stderr",
     "output_type": "stream",
     "text": [
      "Previous HEAD position was 624833e Add email support (#1270)\n",
      "HEAD is now at 5c4875d Normalize some args (#1272)\n"
     ]
    },
    {
     "name": "stdout",
     "output_type": "stream",
     "text": [
      "\u001b[H\u001b[2J"
     ]
    },
    {
     "name": "stderr",
     "output_type": "stream",
     "text": [
      "Previous HEAD position was 5c4875d Normalize some args (#1272)\n",
      "HEAD is now at a0c6d7a Some more storage validations (#1273)\n"
     ]
    },
    {
     "name": "stdout",
     "output_type": "stream",
     "text": [
      "\u001b[H\u001b[2J"
     ]
    },
    {
     "name": "stderr",
     "output_type": "stream",
     "text": [
      "Previous HEAD position was a0c6d7a Some more storage validations (#1273)\n",
      "HEAD is now at 19855f9 Subclass the `Error` object (#1274)\n"
     ]
    },
    {
     "name": "stdout",
     "output_type": "stream",
     "text": [
      "\u001b[H\u001b[2J"
     ]
    },
    {
     "name": "stderr",
     "output_type": "stream",
     "text": [
      "Previous HEAD position was 19855f9 Subclass the `Error` object (#1274)\n",
      "HEAD is now at 25e99fc Add Chromium reference to CSS (#1275)\n"
     ]
    },
    {
     "name": "stdout",
     "output_type": "stream",
     "text": [
      "\u001b[H\u001b[2J"
     ]
    },
    {
     "name": "stderr",
     "output_type": "stream",
     "text": [
      "Previous HEAD position was 25e99fc Add Chromium reference to CSS (#1275)\n",
      "HEAD is now at 7ecb674 Add SRWare Iron browser reference to CSS (#1276)\n"
     ]
    },
    {
     "name": "stdout",
     "output_type": "stream",
     "text": [
      "\u001b[H\u001b[2J"
     ]
    },
    {
     "name": "stderr",
     "output_type": "stream",
     "text": [
      "Previous HEAD position was 7ecb674 Add SRWare Iron browser reference to CSS (#1276)\n",
      "HEAD is now at 7011eb7 Ensure UI alignment starts on the right (#1277)\n"
     ]
    },
    {
     "name": "stdout",
     "output_type": "stream",
     "text": [
      "\u001b[H\u001b[2J"
     ]
    },
    {
     "name": "stderr",
     "output_type": "stream",
     "text": [
      "Previous HEAD position was 7011eb7 Ensure UI alignment starts on the right (#1277)\n",
      "HEAD is now at 3789a51 Spell out what `Flag` means in the UI tooltip (#1278)\n"
     ]
    },
    {
     "name": "stdout",
     "output_type": "stream",
     "text": [
      "\u001b[H\u001b[2J"
     ]
    },
    {
     "name": "stderr",
     "output_type": "stream",
     "text": [
      "Previous HEAD position was 3789a51 Spell out what `Flag` means in the UI tooltip (#1278)\n",
      "HEAD is now at e6d4876 Compare hashes for date skip (#1279)\n"
     ]
    },
    {
     "name": "stdout",
     "output_type": "stream",
     "text": [
      "\u001b[H\u001b[2J"
     ]
    },
    {
     "name": "stderr",
     "output_type": "stream",
     "text": [
      "Previous HEAD position was e6d4876 Compare hashes for date skip (#1279)\n",
      "HEAD is now at 002d02d Uncrunch this view a bit (#1280)\n"
     ]
    },
    {
     "name": "stdout",
     "output_type": "stream",
     "text": [
      "\u001b[H\u001b[2J"
     ]
    },
    {
     "name": "stderr",
     "output_type": "stream",
     "text": [
      "Previous HEAD position was 002d02d Uncrunch this view a bit (#1280)\n",
      "HEAD is now at 9fb76fd Fix description (#1282)\n"
     ]
    },
    {
     "name": "stdout",
     "output_type": "stream",
     "text": [
      "\u001b[H\u001b[2J"
     ]
    },
    {
     "name": "stderr",
     "output_type": "stream",
     "text": [
      "Previous HEAD position was 9fb76fd Fix description (#1282)\n",
      "HEAD is now at a1f443d Another validation (#1283)\n"
     ]
    },
    {
     "name": "stdout",
     "output_type": "stream",
     "text": [
      "\u001b[H\u001b[2J"
     ]
    },
    {
     "name": "stderr",
     "output_type": "stream",
     "text": [
      "Previous HEAD position was a1f443d Another validation (#1283)\n",
      "HEAD is now at b863916 statusCodePage enhance (#1284)\n"
     ]
    },
    {
     "name": "stdout",
     "output_type": "stream",
     "text": [
      "\u001b[H\u001b[2J"
     ]
    },
    {
     "name": "stderr",
     "output_type": "stream",
     "text": [
      "Previous HEAD position was b863916 statusCodePage enhance (#1284)\n",
      "HEAD is now at cd5f835 Refactor TLS *(SSL)* some\n"
     ]
    },
    {
     "name": "stdout",
     "output_type": "stream",
     "text": [
      "\u001b[H\u001b[2J"
     ]
    },
    {
     "name": "stderr",
     "output_type": "stream",
     "text": [
      "Previous HEAD position was cd5f835 Refactor TLS *(SSL)* some\n",
      "HEAD is now at 40a1a03 Build structures for auto fallback TLS\n"
     ]
    },
    {
     "name": "stdout",
     "output_type": "stream",
     "text": [
      "\u001b[H\u001b[2J"
     ]
    },
    {
     "name": "stderr",
     "output_type": "stream",
     "text": [
      "Previous HEAD position was 40a1a03 Build structures for auto fallback TLS\n",
      "HEAD is now at 4938eec Finish out tlsFallback (#1286)\n"
     ]
    },
    {
     "name": "stdout",
     "output_type": "stream",
     "text": [
      "\u001b[H\u001b[2J"
     ]
    },
    {
     "name": "stderr",
     "output_type": "stream",
     "text": [
      "Previous HEAD position was 4938eec Finish out tlsFallback (#1286)\n",
      "HEAD is now at e3cd8c0 Add conditional to TLS fallback (#1287)\n"
     ]
    },
    {
     "name": "stdout",
     "output_type": "stream",
     "text": [
      "\u001b[H\u001b[2J"
     ]
    },
    {
     "name": "stderr",
     "output_type": "stream",
     "text": [
      "Previous HEAD position was e3cd8c0 Add conditional to TLS fallback (#1287)\n",
      "HEAD is now at bd16545 Some labeling changes (#1288)\n"
     ]
    },
    {
     "name": "stdout",
     "output_type": "stream",
     "text": [
      "\u001b[H\u001b[2J"
     ]
    },
    {
     "name": "stderr",
     "output_type": "stream",
     "text": [
      "Previous HEAD position was bd16545 Some labeling changes (#1288)\n",
      "HEAD is now at 76f5a65 statusCodePage enhance further (#1289)\n"
     ]
    },
    {
     "name": "stdout",
     "output_type": "stream",
     "text": [
      "\u001b[H\u001b[2J"
     ]
    },
    {
     "name": "stderr",
     "output_type": "stream",
     "text": [
      "Previous HEAD position was 76f5a65 statusCodePage enhance further (#1289)\n",
      "HEAD is now at decfa0e Fix *async* waterfall to spec in this section (#1290)\n"
     ]
    },
    {
     "name": "stdout",
     "output_type": "stream",
     "text": [
      "\u001b[H\u001b[2J"
     ]
    },
    {
     "name": "stderr",
     "output_type": "stream",
     "text": [
      "Previous HEAD position was decfa0e Fix *async* waterfall to spec in this section (#1290)\n",
      "HEAD is now at b1e9f02 Add Author Tools sidebar to scriptViewSourcePage (#1291)\n"
     ]
    },
    {
     "name": "stdout",
     "output_type": "stream",
     "text": [
      "\u001b[H\u001b[2J"
     ]
    },
    {
     "name": "stderr",
     "output_type": "stream",
     "text": [
      "Previous HEAD position was b1e9f02 Add Author Tools sidebar to scriptViewSourcePage (#1291)\n",
      "HEAD is now at 82f4580 More Author Tools bits (#1292)\n"
     ]
    },
    {
     "name": "stdout",
     "output_type": "stream",
     "text": [
      "\u001b[H\u001b[2J"
     ]
    },
    {
     "name": "stderr",
     "output_type": "stream",
     "text": [
      "Previous HEAD position was 82f4580 More Author Tools bits (#1292)\n",
      "HEAD is now at 0f525dc Bug fix (#1293)\n"
     ]
    },
    {
     "name": "stdout",
     "output_type": "stream",
     "text": [
      "\u001b[H\u001b[2J"
     ]
    },
    {
     "name": "stderr",
     "output_type": "stream",
     "text": [
      "Previous HEAD position was 0f525dc Bug fix (#1293)\n",
      "HEAD is now at 72c4f24 Check for authed user existence here (#1294)\n"
     ]
    },
    {
     "name": "stdout",
     "output_type": "stream",
     "text": [
      "\u001b[H\u001b[2J"
     ]
    },
    {
     "name": "stderr",
     "output_type": "stream",
     "text": [
      "Previous HEAD position was 72c4f24 Check for authed user existence here (#1294)\n",
      "HEAD is now at 4752627 Optimize existence check a microscopic bit (#1295)\n"
     ]
    },
    {
     "name": "stdout",
     "output_type": "stream",
     "text": [
      "\u001b[H\u001b[2J"
     ]
    },
    {
     "name": "stderr",
     "output_type": "stream",
     "text": [
      "Previous HEAD position was 4752627 Optimize existence check a microscopic bit (#1295)\n",
      "HEAD is now at 2487f10 Fix label header (#1296)\n"
     ]
    },
    {
     "name": "stdout",
     "output_type": "stream",
     "text": [
      "\u001b[H\u001b[2J"
     ]
    },
    {
     "name": "stderr",
     "output_type": "stream",
     "text": [
      "Previous HEAD position was 2487f10 Fix label header (#1296)\n",
      "HEAD is now at 2538695 Integrate oujs - JsBeautify into site (#1297)\n"
     ]
    },
    {
     "name": "stdout",
     "output_type": "stream",
     "text": [
      "\u001b[H\u001b[2J"
     ]
    },
    {
     "name": "stderr",
     "output_type": "stream",
     "text": [
      "Previous HEAD position was 2538695 Integrate oujs - JsBeautify into site (#1297)\n",
      "HEAD is now at 0190b3b Disable buttons until enabled (#1298)\n"
     ]
    },
    {
     "name": "stdout",
     "output_type": "stream",
     "text": [
      "\u001b[H\u001b[2J"
     ]
    },
    {
     "name": "stderr",
     "output_type": "stream",
     "text": [
      "Previous HEAD position was 0190b3b Disable buttons until enabled (#1298)\n",
      "HEAD is now at 60fb9b4 statusCodePage enhance (#1299)\n"
     ]
    },
    {
     "name": "stdout",
     "output_type": "stream",
     "text": [
      "\u001b[H\u001b[2J"
     ]
    },
    {
     "name": "stderr",
     "output_type": "stream",
     "text": [
      "Previous HEAD position was 60fb9b4 statusCodePage enhance (#1299)\n",
      "HEAD is now at d3ce4e9 Ensure `isLib` param is never `undefined` (#1300)\n"
     ]
    },
    {
     "name": "stdout",
     "output_type": "stream",
     "text": [
      "\u001b[H\u001b[2J"
     ]
    },
    {
     "name": "stderr",
     "output_type": "stream",
     "text": [
      "Previous HEAD position was d3ce4e9 Ensure `isLib` param is never `undefined` (#1300)\n",
      "HEAD is now at efe8f19 Some dep updates (#1301)\n"
     ]
    },
    {
     "name": "stdout",
     "output_type": "stream",
     "text": [
      "\u001b[H\u001b[2J"
     ]
    },
    {
     "name": "stderr",
     "output_type": "stream",
     "text": [
      "Previous HEAD position was efe8f19 Some dep updates (#1301)\n",
      "HEAD is now at bf05e8a Validations to *async* structure (#1302)\n"
     ]
    },
    {
     "name": "stdout",
     "output_type": "stream",
     "text": [
      "\u001b[H\u001b[2J"
     ]
    },
    {
     "name": "stderr",
     "output_type": "stream",
     "text": [
      "Previous HEAD position was bf05e8a Validations to *async* structure (#1302)\n",
      "HEAD is now at f626fee Additional `@icon` checks (#1303)\n"
     ]
    },
    {
     "name": "stdout",
     "output_type": "stream",
     "text": [
      "\u001b[H\u001b[2J"
     ]
    },
    {
     "name": "stderr",
     "output_type": "stream",
     "text": [
      "Previous HEAD position was f626fee Additional `@icon` checks (#1303)\n",
      "HEAD is now at 20fa8f7 Move an id back to upper function (#1304)\n"
     ]
    },
    {
     "name": "stdout",
     "output_type": "stream",
     "text": [
      "\u001b[H\u001b[2J"
     ]
    },
    {
     "name": "stderr",
     "output_type": "stream",
     "text": [
      "Previous HEAD position was 20fa8f7 Move an id back to upper function (#1304)\n",
      "HEAD is now at 5ab4308 Bump icon dimension limits a bit (#1305)\n"
     ]
    },
    {
     "name": "stdout",
     "output_type": "stream",
     "text": [
      "\u001b[H\u001b[2J"
     ]
    },
    {
     "name": "stderr",
     "output_type": "stream",
     "text": [
      "Previous HEAD position was 5ab4308 Bump icon dimension limits a bit (#1305)\n",
      "HEAD is now at 951e712 Bump icon dimension limits one more time (#1306)\n"
     ]
    },
    {
     "name": "stdout",
     "output_type": "stream",
     "text": [
      "\u001b[H\u001b[2J"
     ]
    },
    {
     "name": "stderr",
     "output_type": "stream",
     "text": [
      "Previous HEAD position was 951e712 Bump icon dimension limits one more time (#1306)\n",
      "HEAD is now at 0dbe6a7 Download a small chunk instead of whole (#1307)\n"
     ]
    },
    {
     "name": "stdout",
     "output_type": "stream",
     "text": [
      "\u001b[H\u001b[2J"
     ]
    },
    {
     "name": "stderr",
     "output_type": "stream",
     "text": [
      "Previous HEAD position was 0dbe6a7 Download a small chunk instead of whole (#1307)\n",
      "HEAD is now at 9816c51 GH update (#1309)\n"
     ]
    },
    {
     "name": "stdout",
     "output_type": "stream",
     "text": [
      "\u001b[H\u001b[2J"
     ]
    },
    {
     "name": "stderr",
     "output_type": "stream",
     "text": [
      "Previous HEAD position was 9816c51 GH update (#1309)\n",
      "HEAD is now at 0326f36 Add another FAQ entry (#1310)\n"
     ]
    },
    {
     "name": "stdout",
     "output_type": "stream",
     "text": [
      "\u001b[H\u001b[2J"
     ]
    },
    {
     "name": "stderr",
     "output_type": "stream",
     "text": [
      "Previous HEAD position was 0326f36 Add another FAQ entry (#1310)\n",
      "HEAD is now at 3c586ce Some dep updates (#1311)\n"
     ]
    },
    {
     "name": "stdout",
     "output_type": "stream",
     "text": [
      "\u001b[H\u001b[2J"
     ]
    },
    {
     "name": "stderr",
     "output_type": "stream",
     "text": [
      "Previous HEAD position was 3c586ce Some dep updates (#1311)\n",
      "HEAD is now at 9ddb431 Sha512tooltip version (#1312)\n"
     ]
    },
    {
     "name": "stdout",
     "output_type": "stream",
     "text": [
      "\u001b[H\u001b[2J"
     ]
    },
    {
     "name": "stderr",
     "output_type": "stream",
     "text": [
      "Previous HEAD position was 9ddb431 Sha512tooltip version (#1312)\n",
      "HEAD is now at 54eb590 Some dep updates (#1315)\n"
     ]
    },
    {
     "name": "stdout",
     "output_type": "stream",
     "text": [
      "\u001b[H\u001b[2J"
     ]
    },
    {
     "name": "stderr",
     "output_type": "stream",
     "text": [
      "Previous HEAD position was 54eb590 Some dep updates (#1315)\n",
      "HEAD is now at 3862727 Accomodate dev fix (#1316)\n"
     ]
    },
    {
     "name": "stdout",
     "output_type": "stream",
     "text": [
      "\u001b[H\u001b[2J"
     ]
    },
    {
     "name": "stderr",
     "output_type": "stream",
     "text": [
      "Previous HEAD position was 3862727 Accomodate dev fix (#1316)\n",
      "HEAD is now at 95bfec7 Patch webhook (#1317)\n"
     ]
    },
    {
     "name": "stdout",
     "output_type": "stream",
     "text": [
      "\u001b[H\u001b[2J"
     ]
    },
    {
     "name": "stderr",
     "output_type": "stream",
     "text": [
      "Previous HEAD position was 95bfec7 Patch webhook (#1317)\n",
      "HEAD is now at 99e7077 Improve the prior patch on import sections (#1318)\n"
     ]
    },
    {
     "name": "stdout",
     "output_type": "stream",
     "text": [
      "\u001b[H\u001b[2J"
     ]
    },
    {
     "name": "stderr",
     "output_type": "stream",
     "text": [
      "Previous HEAD position was 99e7077 Improve the prior patch on import sections (#1318)\n",
      "HEAD is now at bb38f5e *Ace* (#1321)\n"
     ]
    },
    {
     "name": "stdout",
     "output_type": "stream",
     "text": [
      "\u001b[H\u001b[2J"
     ]
    },
    {
     "name": "stderr",
     "output_type": "stream",
     "text": [
      "Previous HEAD position was bb38f5e *Ace* (#1321)\n",
      "HEAD is now at 8d90bfa Some dep updates (#1322)\n"
     ]
    },
    {
     "name": "stdout",
     "output_type": "stream",
     "text": [
      "\u001b[H\u001b[2J"
     ]
    },
    {
     "name": "stderr",
     "output_type": "stream",
     "text": [
      "Previous HEAD position was 8d90bfa Some dep updates (#1322)\n",
      "HEAD is now at d15672c Suspend automatic `@icon` check and resume acct removal in the interim (#1324)\n"
     ]
    },
    {
     "name": "stdout",
     "output_type": "stream",
     "text": [
      "\u001b[H\u001b[2J"
     ]
    },
    {
     "name": "stderr",
     "output_type": "stream",
     "text": [
      "Previous HEAD position was d15672c Suspend automatic `@icon` check and resume acct removal in the interim (#1324)\n",
      "HEAD is now at 7d49ebe Restore some of the `@icon` checks until resolved (#1325)\n"
     ]
    },
    {
     "name": "stdout",
     "output_type": "stream",
     "text": [
      "\u001b[H\u001b[2J"
     ]
    },
    {
     "name": "stderr",
     "output_type": "stream",
     "text": [
      "Previous HEAD position was 7d49ebe Restore some of the `@icon` checks until resolved (#1325)\n",
      "HEAD is now at c488785 Additional error traps for `@icon` check (#1326)\n"
     ]
    },
    {
     "name": "stdout",
     "output_type": "stream",
     "text": [
      "\u001b[H\u001b[2J"
     ]
    },
    {
     "name": "stderr",
     "output_type": "stream",
     "text": [
      "Previous HEAD position was c488785 Additional error traps for `@icon` check (#1326)\n",
      "HEAD is now at 38a7610 Resuspend http `@icon` check (#1327)\n"
     ]
    },
    {
     "name": "stdout",
     "output_type": "stream",
     "text": [
      "\u001b[H\u001b[2J"
     ]
    },
    {
     "name": "stderr",
     "output_type": "stream",
     "text": [
      "Previous HEAD position was 38a7610 Resuspend http `@icon` check (#1327)\n",
      "HEAD is now at a525eab Restore `@icon` check and modify graceful failure landing page (#1328)\n"
     ]
    },
    {
     "name": "stdout",
     "output_type": "stream",
     "text": [
      "\u001b[H\u001b[2J"
     ]
    },
    {
     "name": "stderr",
     "output_type": "stream",
     "text": [
      "Previous HEAD position was a525eab Restore `@icon` check and modify graceful failure landing page (#1328)\n",
      "HEAD is now at be33f4e Typo with reclarification of some tooltips (#1329)\n"
     ]
    },
    {
     "name": "stdout",
     "output_type": "stream",
     "text": [
      "\u001b[H\u001b[2J"
     ]
    },
    {
     "name": "stderr",
     "output_type": "stream",
     "text": [
      "Previous HEAD position was be33f4e Typo with reclarification of some tooltips (#1329)\n",
      "HEAD is now at da49fff Switch to *request* dep (#1332)\n"
     ]
    },
    {
     "name": "stdout",
     "output_type": "stream",
     "text": [
      "\u001b[H\u001b[2J"
     ]
    },
    {
     "name": "stderr",
     "output_type": "stream",
     "text": [
      "Previous HEAD position was da49fff Switch to *request* dep (#1332)\n",
      "HEAD is now at bfa60bd Migrate `Buffer` usage (#1335)\n"
     ]
    },
    {
     "name": "stdout",
     "output_type": "stream",
     "text": [
      "\u001b[H\u001b[2J"
     ]
    },
    {
     "name": "stderr",
     "output_type": "stream",
     "text": [
      "Previous HEAD position was bfa60bd Migrate `Buffer` usage (#1335)\n",
      "HEAD is now at ae8fdf5 Some dep updates (#1336)\n"
     ]
    },
    {
     "name": "stdout",
     "output_type": "stream",
     "text": [
      "\u001b[H\u001b[2J"
     ]
    },
    {
     "name": "stderr",
     "output_type": "stream",
     "text": [
      "Previous HEAD position was ae8fdf5 Some dep updates (#1336)\n",
      "HEAD is now at 19c110b Make userscript search the new default for Chrome's \"Tab to search\" (#1338)\n"
     ]
    },
    {
     "name": "stdout",
     "output_type": "stream",
     "text": [
      "\u001b[H\u001b[2J"
     ]
    },
    {
     "name": "stderr",
     "output_type": "stream",
     "text": [
      "Previous HEAD position was 19c110b Make userscript search the new default for Chrome's \"Tab to search\" (#1338)\n",
      "HEAD is now at 60dedb4 Add Vivaldi browser reference to CSS (#1339)\n"
     ]
    },
    {
     "name": "stdout",
     "output_type": "stream",
     "text": [
      "\u001b[H\u001b[2J"
     ]
    },
    {
     "name": "stderr",
     "output_type": "stream",
     "text": [
      "Previous HEAD position was 60dedb4 Add Vivaldi browser reference to CSS (#1339)\n",
      "HEAD is now at 88396c7 Add Mobile Safari cross-reference to Safari (#1340)\n"
     ]
    },
    {
     "name": "stdout",
     "output_type": "stream",
     "text": [
      "\u001b[H\u001b[2J"
     ]
    },
    {
     "name": "stderr",
     "output_type": "stream",
     "text": [
      "Previous HEAD position was 88396c7 Add Mobile Safari cross-reference to Safari (#1340)\n",
      "HEAD is now at 9688002 Add Comodo IceDragon browser reference to CSS (#1341)\n"
     ]
    },
    {
     "name": "stdout",
     "output_type": "stream",
     "text": [
      "\u001b[H\u001b[2J"
     ]
    },
    {
     "name": "stderr",
     "output_type": "stream",
     "text": [
      "Previous HEAD position was 9688002 Add Comodo IceDragon browser reference to CSS (#1341)\n",
      "HEAD is now at f63f04c Some dep updates (#1342)\n"
     ]
    },
    {
     "name": "stdout",
     "output_type": "stream",
     "text": [
      "\u001b[H\u001b[2J"
     ]
    },
    {
     "name": "stderr",
     "output_type": "stream",
     "text": [
      "Previous HEAD position was f63f04c Some dep updates (#1342)\n",
      "HEAD is now at 9bac13c Admin+ route to show some active session data (#1343)\n"
     ]
    },
    {
     "name": "stdout",
     "output_type": "stream",
     "text": [
      "\u001b[H\u001b[2J"
     ]
    },
    {
     "name": "stderr",
     "output_type": "stream",
     "text": [
      "Previous HEAD position was 9bac13c Admin+ route to show some active session data (#1343)\n",
      "HEAD is now at d5abe3b Existence checks for #1343 (#1344)\n"
     ]
    },
    {
     "name": "stdout",
     "output_type": "stream",
     "text": [
      "\u001b[H\u001b[2J"
     ]
    },
    {
     "name": "stderr",
     "output_type": "stream",
     "text": [
      "Previous HEAD position was d5abe3b Existence checks for #1343 (#1344)\n",
      "HEAD is now at 012c202 Existence check for reply button from replied mentions (#1345)\n"
     ]
    },
    {
     "name": "stdout",
     "output_type": "stream",
     "text": [
      "\u001b[H\u001b[2J"
     ]
    },
    {
     "name": "stderr",
     "output_type": "stream",
     "text": [
      "Previous HEAD position was 012c202 Existence check for reply button from replied mentions (#1345)\n",
      "HEAD is now at b7ff157 Some dep updates (#1346)\n"
     ]
    },
    {
     "name": "stdout",
     "output_type": "stream",
     "text": [
      "\u001b[H\u001b[2J"
     ]
    },
    {
     "name": "stderr",
     "output_type": "stream",
     "text": [
      "Previous HEAD position was b7ff157 Some dep updates (#1346)\n",
      "HEAD is now at 8c53ed9 Revert *passport-steam* to upstream (#1348)\n"
     ]
    },
    {
     "name": "stdout",
     "output_type": "stream",
     "text": [
      "\u001b[H\u001b[2J"
     ]
    },
    {
     "name": "stderr",
     "output_type": "stream",
     "text": [
      "Previous HEAD position was 8c53ed9 Revert *passport-steam* to upstream (#1348)\n",
      "HEAD is now at 193c04c Double the output buffer for this child process (#1349)\n"
     ]
    },
    {
     "name": "stdout",
     "output_type": "stream",
     "text": [
      "\u001b[H\u001b[2J"
     ]
    },
    {
     "name": "stderr",
     "output_type": "stream",
     "text": [
      "Previous HEAD position was 193c04c Double the output buffer for this child process (#1349)\n",
      "HEAD is now at ff87032 Implement a ReadOnly setting for all strategies (#1350)\n"
     ]
    },
    {
     "name": "stdout",
     "output_type": "stream",
     "text": [
      "\u001b[H\u001b[2J"
     ]
    },
    {
     "name": "stderr",
     "output_type": "stream",
     "text": [
      "Previous HEAD position was ff87032 Implement a ReadOnly setting for all strategies (#1350)\n",
      "HEAD is now at 4c977bc Steam to readonly (#1351)\n"
     ]
    },
    {
     "name": "stdout",
     "output_type": "stream",
     "text": [
      "\u001b[H\u001b[2J"
     ]
    },
    {
     "name": "stderr",
     "output_type": "stream",
     "text": [
      "Previous HEAD position was 4c977bc Steam to readonly (#1351)\n",
      "HEAD is now at e712f12 Fix GH path to Org\n"
     ]
    },
    {
     "name": "stdout",
     "output_type": "stream",
     "text": [
      "\u001b[H\u001b[2J"
     ]
    },
    {
     "name": "stderr",
     "output_type": "stream",
     "text": [
      "Previous HEAD position was e712f12 Fix GH path to Org\n",
      "HEAD is now at aa2eda3 Force Steam auth id to secure always (#1352)\n"
     ]
    },
    {
     "name": "stdout",
     "output_type": "stream",
     "text": [
      "\u001b[H\u001b[2J"
     ]
    },
    {
     "name": "stderr",
     "output_type": "stream",
     "text": [
      "Previous HEAD position was aa2eda3 Force Steam auth id to secure always (#1352)\n",
      "HEAD is now at 6273552 Recover some steam auths (#1353)\n"
     ]
    },
    {
     "name": "stdout",
     "output_type": "stream",
     "text": [
      "\u001b[H\u001b[2J"
     ]
    },
    {
     "name": "stderr",
     "output_type": "stream",
     "text": [
      "Previous HEAD position was 6273552 Recover some steam auths (#1353)\n",
      "HEAD is now at be60abe Put in a mult-auth collision check (#1354)\n"
     ]
    },
    {
     "name": "stdout",
     "output_type": "stream",
     "text": [
      "\u001b[H\u001b[2J"
     ]
    },
    {
     "name": "stderr",
     "output_type": "stream",
     "text": [
      "Previous HEAD position was be60abe Put in a mult-auth collision check (#1354)\n",
      "HEAD is now at e393097 Some MongoDB and related updates (#1355)\n"
     ]
    },
    {
     "name": "stdout",
     "output_type": "stream",
     "text": [
      "\u001b[H\u001b[2J"
     ]
    },
    {
     "name": "stderr",
     "output_type": "stream",
     "text": [
      "Previous HEAD position was e393097 Some MongoDB and related updates (#1355)\n",
      "HEAD is now at 36a570d Some dep updates (#1357)\n"
     ]
    },
    {
     "name": "stdout",
     "output_type": "stream",
     "text": [
      "\u001b[H\u001b[2J"
     ]
    },
    {
     "name": "stderr",
     "output_type": "stream",
     "text": [
      "Previous HEAD position was 36a570d Some dep updates (#1357)\n",
      "HEAD is now at e993916 Steam to write (#1358)\n"
     ]
    },
    {
     "name": "stdout",
     "output_type": "stream",
     "text": [
      "\u001b[H\u001b[2J"
     ]
    },
    {
     "name": "stderr",
     "output_type": "stream",
     "text": [
      "Previous HEAD position was e993916 Steam to write (#1358)\n",
      "HEAD is now at e63c578 Build a core Falkon doc (#1360)\n"
     ]
    },
    {
     "name": "stdout",
     "output_type": "stream",
     "text": [
      "\u001b[H\u001b[2J"
     ]
    },
    {
     "name": "stderr",
     "output_type": "stream",
     "text": [
      "Previous HEAD position was e63c578 Build a core Falkon doc (#1360)\n",
      "HEAD is now at aef72da Some clarification/typos (#1361)\n"
     ]
    },
    {
     "name": "stdout",
     "output_type": "stream",
     "text": [
      "\u001b[H\u001b[2J"
     ]
    },
    {
     "name": "stderr",
     "output_type": "stream",
     "text": [
      "Previous HEAD position was aef72da Some clarification/typos (#1361)\n",
      "HEAD is now at afd883b Redirect for QupZilla to Falkon (#1362)\n"
     ]
    },
    {
     "name": "stdout",
     "output_type": "stream",
     "text": [
      "\u001b[H\u001b[2J"
     ]
    },
    {
     "name": "stderr",
     "output_type": "stream",
     "text": [
      "Previous HEAD position was afd883b Redirect for QupZilla to Falkon (#1362)\n",
      "HEAD is now at 9244426 Add subscription linkage for Falkon (#1363)\n"
     ]
    },
    {
     "name": "stdout",
     "output_type": "stream",
     "text": [
      "\u001b[H\u001b[2J"
     ]
    },
    {
     "name": "stderr",
     "output_type": "stream",
     "text": [
      "Previous HEAD position was 9244426 Add subscription linkage for Falkon (#1363)\n",
      "HEAD is now at 99b2b51 Correct some more Falkon linkage/naming (#1364)\n"
     ]
    },
    {
     "name": "stdout",
     "output_type": "stream",
     "text": [
      "\u001b[H\u001b[2J"
     ]
    },
    {
     "name": "stderr",
     "output_type": "stream",
     "text": [
      "Previous HEAD position was 99b2b51 Correct some more Falkon linkage/naming (#1364)\n",
      "HEAD is now at e00f545 Fragment line bookmark for Ace (#1365)\n"
     ]
    },
    {
     "name": "stdout",
     "output_type": "stream",
     "text": [
      "\u001b[H\u001b[2J"
     ]
    },
    {
     "name": "stderr",
     "output_type": "stream",
     "text": [
      "Previous HEAD position was e00f545 Fragment line bookmark for Ace (#1365)\n",
      "HEAD is now at 6cc748b Visual cue of clickability and hovering (#1366)\n"
     ]
    },
    {
     "name": "stdout",
     "output_type": "stream",
     "text": [
      "\u001b[H\u001b[2J"
     ]
    },
    {
     "name": "stderr",
     "output_type": "stream",
     "text": [
      "Previous HEAD position was 6cc748b Visual cue of clickability and hovering (#1366)\n",
      "HEAD is now at 056f434 Overflow wrap comments on words (#1367)\n"
     ]
    },
    {
     "name": "stdout",
     "output_type": "stream",
     "text": [
      "\u001b[H\u001b[2J"
     ]
    },
    {
     "name": "stderr",
     "output_type": "stream",
     "text": [
      "Previous HEAD position was 056f434 Overflow wrap comments on words (#1367)\n",
      "HEAD is now at 99d2f48 Some dep updates (#1368)\n"
     ]
    },
    {
     "name": "stdout",
     "output_type": "stream",
     "text": [
      "\u001b[H\u001b[2J"
     ]
    },
    {
     "name": "stderr",
     "output_type": "stream",
     "text": [
      "Previous HEAD position was 99d2f48 Some dep updates (#1368)\n",
      "HEAD is now at 3d244ee EOL *passport-aol* (#1370)\n"
     ]
    },
    {
     "name": "stdout",
     "output_type": "stream",
     "text": [
      "\u001b[H\u001b[2J"
     ]
    },
    {
     "name": "stderr",
     "output_type": "stream",
     "text": [
      "Previous HEAD position was 3d244ee EOL *passport-aol* (#1370)\n",
      "HEAD is now at ca90341 Trap an error on Preferences (#1371)\n"
     ]
    },
    {
     "name": "stdout",
     "output_type": "stream",
     "text": [
      "\u001b[H\u001b[2J"
     ]
    },
    {
     "name": "stderr",
     "output_type": "stream",
     "text": [
      "Previous HEAD position was ca90341 Trap an error on Preferences (#1371)\n",
      "HEAD is now at 38676d5 Graceful failure for invalid auth (#1372)\n"
     ]
    },
    {
     "name": "stdout",
     "output_type": "stream",
     "text": [
      "\u001b[H\u001b[2J"
     ]
    },
    {
     "name": "stderr",
     "output_type": "stream",
     "text": [
      "Previous HEAD position was 38676d5 Graceful failure for invalid auth (#1372)\n",
      "HEAD is now at 59a4240 A dep update (#1373)\n"
     ]
    },
    {
     "name": "stdout",
     "output_type": "stream",
     "text": [
      "\u001b[H\u001b[2J"
     ]
    },
    {
     "name": "stderr",
     "output_type": "stream",
     "text": [
      "Previous HEAD position was 59a4240 A dep update (#1373)\n",
      "HEAD is now at af9f151 CSS tweak (#1374)\n"
     ]
    },
    {
     "name": "stdout",
     "output_type": "stream",
     "text": [
      "\u001b[H\u001b[2J"
     ]
    },
    {
     "name": "stderr",
     "output_type": "stream",
     "text": [
      "Previous HEAD position was af9f151 CSS tweak (#1374)\n",
      "HEAD is now at 4d5a5da CSS tweak - Establish minimum img width (#1375)\n"
     ]
    },
    {
     "name": "stdout",
     "output_type": "stream",
     "text": [
      "\u001b[H\u001b[2J"
     ]
    },
    {
     "name": "stderr",
     "output_type": "stream",
     "text": [
      "Previous HEAD position was 4d5a5da CSS tweak - Establish minimum img width (#1375)\n",
      "HEAD is now at 816d1de Update Violentmonkey-for-Opera.md\n"
     ]
    },
    {
     "name": "stdout",
     "output_type": "stream",
     "text": [
      "\u001b[H\u001b[2J"
     ]
    },
    {
     "name": "stderr",
     "output_type": "stream",
     "text": [
      "Previous HEAD position was 816d1de Update Violentmonkey-for-Opera.md\n",
      "HEAD is now at 23a5ccc Update Violentmonkey-for-Opera.md\n"
     ]
    },
    {
     "name": "stdout",
     "output_type": "stream",
     "text": [
      "\u001b[H\u001b[2J"
     ]
    },
    {
     "name": "stderr",
     "output_type": "stream",
     "text": [
      "Previous HEAD position was 23a5ccc Update Violentmonkey-for-Opera.md\n",
      "HEAD is now at 81dcafe Update Violentmonkey-for-Opera.md\n"
     ]
    },
    {
     "name": "stdout",
     "output_type": "stream",
     "text": [
      "\u001b[H\u001b[2J"
     ]
    },
    {
     "name": "stderr",
     "output_type": "stream",
     "text": [
      "Previous HEAD position was 81dcafe Update Violentmonkey-for-Opera.md\n",
      "HEAD is now at ef52669 Some doc fixes (#1376)\n"
     ]
    },
    {
     "name": "stdout",
     "output_type": "stream",
     "text": [
      "\u001b[H\u001b[2J"
     ]
    },
    {
     "name": "stderr",
     "output_type": "stream",
     "text": [
      "Previous HEAD position was ef52669 Some doc fixes (#1376)\n",
      "HEAD is now at 9b9a035 Some DOC tweaks on what works and styling (#1377)\n"
     ]
    },
    {
     "name": "stdout",
     "output_type": "stream",
     "text": [
      "\u001b[H\u001b[2J"
     ]
    },
    {
     "name": "stderr",
     "output_type": "stream",
     "text": [
      "Previous HEAD position was 9b9a035 Some DOC tweaks on what works and styling (#1377)\n",
      "HEAD is now at 390bda2 Some more spacing tweaks (#1378)\n"
     ]
    },
    {
     "name": "stdout",
     "output_type": "stream",
     "text": [
      "\u001b[H\u001b[2J"
     ]
    },
    {
     "name": "stderr",
     "output_type": "stream",
     "text": [
      "Previous HEAD position was 390bda2 Some more spacing tweaks (#1378)\n",
      "HEAD is now at cfa91a7 Add PM to TOC (#1379)\n"
     ]
    },
    {
     "name": "stdout",
     "output_type": "stream",
     "text": [
      "\u001b[H\u001b[2J"
     ]
    },
    {
     "name": "stderr",
     "output_type": "stream",
     "text": [
      "Previous HEAD position was cfa91a7 Add PM to TOC (#1379)\n",
      "HEAD is now at f9011a1 Doc fill in for Apple items (#1380)\n"
     ]
    },
    {
     "name": "stdout",
     "output_type": "stream",
     "text": [
      "\u001b[H\u001b[2J"
     ]
    },
    {
     "name": "stderr",
     "output_type": "stream",
     "text": [
      "Previous HEAD position was f9011a1 Doc fill in for Apple items (#1380)\n",
      "HEAD is now at bd597fd Doc stubs for remainder of 404s (#1381)\n"
     ]
    },
    {
     "name": "stdout",
     "output_type": "stream",
     "text": [
      "\u001b[H\u001b[2J"
     ]
    },
    {
     "name": "stderr",
     "output_type": "stream",
     "text": [
      "Previous HEAD position was bd597fd Doc stubs for remainder of 404s (#1381)\n",
      "HEAD is now at a8f954f Double space the TOC (#1382)\n"
     ]
    },
    {
     "name": "stdout",
     "output_type": "stream",
     "text": [
      "\u001b[H\u001b[2J"
     ]
    },
    {
     "name": "stderr",
     "output_type": "stream",
     "text": [
      "Previous HEAD position was a8f954f Double space the TOC (#1382)\n",
      "HEAD is now at 6ed9eec Fix Yandex points to Chromium (#1383)\n"
     ]
    },
    {
     "name": "stdout",
     "output_type": "stream",
     "text": [
      "\u001b[H\u001b[2J"
     ]
    },
    {
     "name": "stderr",
     "output_type": "stream",
     "text": [
      "Previous HEAD position was 6ed9eec Fix Yandex points to Chromium (#1383)\n",
      "HEAD is now at 8f952ad Stub for TMFx (#1384)\n"
     ]
    },
    {
     "name": "stdout",
     "output_type": "stream",
     "text": [
      "\u001b[H\u001b[2J"
     ]
    },
    {
     "name": "stderr",
     "output_type": "stream",
     "text": [
      "Previous HEAD position was 8f952ad Stub for TMFx (#1384)\n",
      "HEAD is now at f251610 GDPR1 (#1385)\n"
     ]
    },
    {
     "name": "stdout",
     "output_type": "stream",
     "text": [
      "\u001b[H\u001b[2J"
     ]
    },
    {
     "name": "stderr",
     "output_type": "stream",
     "text": [
      "Previous HEAD position was f251610 GDPR1 (#1385)\n",
      "HEAD is now at aa2ca8e Rearrange a few things in login (#1386)\n"
     ]
    },
    {
     "name": "stdout",
     "output_type": "stream",
     "text": [
      "\u001b[H\u001b[2J"
     ]
    },
    {
     "name": "stderr",
     "output_type": "stream",
     "text": [
      "Previous HEAD position was aa2ca8e Rearrange a few things in login (#1386)\n",
      "HEAD is now at 01d868d Fix login dupe (#1387)\n"
     ]
    },
    {
     "name": "stdout",
     "output_type": "stream",
     "text": [
      "\u001b[H\u001b[2J"
     ]
    },
    {
     "name": "stderr",
     "output_type": "stream",
     "text": [
      "Previous HEAD position was 01d868d Fix login dupe (#1387)\n",
      "HEAD is now at b3158fb One more reorder (#1388)\n"
     ]
    },
    {
     "name": "stdout",
     "output_type": "stream",
     "text": [
      "\u001b[H\u001b[2J"
     ]
    },
    {
     "name": "stderr",
     "output_type": "stream",
     "text": [
      "Previous HEAD position was b3158fb One more reorder (#1388)\n",
      "HEAD is now at a05e724 Fix a *bootstrap* glitch with Chromium based browsers (#1389)\n"
     ]
    },
    {
     "name": "stdout",
     "output_type": "stream",
     "text": [
      "\u001b[H\u001b[2J"
     ]
    },
    {
     "name": "stderr",
     "output_type": "stream",
     "text": [
      "Previous HEAD position was a05e724 Fix a *bootstrap* glitch with Chromium based browsers (#1389)\n",
      "HEAD is now at d099266 GDPR2 (#1390)\n"
     ]
    },
    {
     "name": "stdout",
     "output_type": "stream",
     "text": [
      "\u001b[H\u001b[2J"
     ]
    },
    {
     "name": "stderr",
     "output_type": "stream",
     "text": [
      "Previous HEAD position was d099266 GDPR2 (#1390)\n",
      "HEAD is now at 10fea16 GDPR3 (#1391)\n"
     ]
    },
    {
     "name": "stdout",
     "output_type": "stream",
     "text": [
      "\u001b[H\u001b[2J"
     ]
    },
    {
     "name": "stderr",
     "output_type": "stream",
     "text": [
      "Previous HEAD position was 10fea16 GDPR3 (#1391)\n",
      "HEAD is now at 3e66461 Anti-GDPR1 (#1393)\n"
     ]
    },
    {
     "name": "stdout",
     "output_type": "stream",
     "text": [
      "\u001b[H\u001b[2J"
     ]
    },
    {
     "name": "stderr",
     "output_type": "stream",
     "text": [
      "Previous HEAD position was 3e66461 Anti-GDPR1 (#1393)\n",
      "HEAD is now at 4cd6d91 More accurate labeling (#1394)\n"
     ]
    },
    {
     "name": "stdout",
     "output_type": "stream",
     "text": [
      "\u001b[H\u001b[2J"
     ]
    },
    {
     "name": "stderr",
     "output_type": "stream",
     "text": [
      "Previous HEAD position was 4cd6d91 More accurate labeling (#1394)\n",
      "HEAD is now at 3c39c4e Don't unsave (#1395)\n"
     ]
    },
    {
     "name": "stdout",
     "output_type": "stream",
     "text": [
      "\u001b[H\u001b[2J"
     ]
    },
    {
     "name": "stderr",
     "output_type": "stream",
     "text": [
      "Previous HEAD position was 3c39c4e Don't unsave (#1395)\n",
      "HEAD is now at 73b2a70 Some dep updates (#1396)\n"
     ]
    },
    {
     "name": "stdout",
     "output_type": "stream",
     "text": [
      "\u001b[H\u001b[2J"
     ]
    },
    {
     "name": "stderr",
     "output_type": "stream",
     "text": [
      "Previous HEAD position was 73b2a70 Some dep updates (#1396)\n",
      "HEAD is now at 99c284e Extend to prefs (#1398)\n"
     ]
    },
    {
     "name": "stdout",
     "output_type": "stream",
     "text": [
      "\u001b[H\u001b[2J"
     ]
    },
    {
     "name": "stderr",
     "output_type": "stream",
     "text": [
      "Previous HEAD position was 99c284e Extend to prefs (#1398)\n",
      "HEAD is now at 4573b3e Update Tampermonkey-for-Opera.md\n"
     ]
    },
    {
     "name": "stdout",
     "output_type": "stream",
     "text": [
      "\u001b[H\u001b[2J"
     ]
    },
    {
     "name": "stderr",
     "output_type": "stream",
     "text": [
      "Previous HEAD position was 4573b3e Update Tampermonkey-for-Opera.md\n",
      "HEAD is now at a8f2a2c Update Tampermonkey-for-Opera.md\n"
     ]
    },
    {
     "name": "stdout",
     "output_type": "stream",
     "text": [
      "\u001b[H\u001b[2J"
     ]
    },
    {
     "name": "stderr",
     "output_type": "stream",
     "text": [
      "Previous HEAD position was a8f2a2c Update Tampermonkey-for-Opera.md\n",
      "HEAD is now at 4ec7ec2 Update Tampermonkey-for-Opera.md\n"
     ]
    },
    {
     "name": "stdout",
     "output_type": "stream",
     "text": [
      "\u001b[H\u001b[2J"
     ]
    },
    {
     "name": "stderr",
     "output_type": "stream",
     "text": [
      "Previous HEAD position was 4ec7ec2 Update Tampermonkey-for-Opera.md\n",
      "HEAD is now at d0e70ae Update Tampermonkey-for-Opera.md\n"
     ]
    },
    {
     "name": "stdout",
     "output_type": "stream",
     "text": [
      "\u001b[H\u001b[2J"
     ]
    },
    {
     "name": "stderr",
     "output_type": "stream",
     "text": [
      "Previous HEAD position was d0e70ae Update Tampermonkey-for-Opera.md\n",
      "HEAD is now at e91f405 Update Tampermonkey-for-Opera.md\n"
     ]
    },
    {
     "name": "stdout",
     "output_type": "stream",
     "text": [
      "\u001b[H\u001b[2J"
     ]
    },
    {
     "name": "stderr",
     "output_type": "stream",
     "text": [
      "Previous HEAD position was e91f405 Update Tampermonkey-for-Opera.md\n",
      "HEAD is now at 30c401f Update Tampermonkey-for-Opera.md\n"
     ]
    },
    {
     "name": "stdout",
     "output_type": "stream",
     "text": [
      "\u001b[H\u001b[2J"
     ]
    },
    {
     "name": "stderr",
     "output_type": "stream",
     "text": [
      "Previous HEAD position was 30c401f Update Tampermonkey-for-Opera.md\n",
      "HEAD is now at 427fac8 Update Tampermonkey-for-Opera.md\n"
     ]
    },
    {
     "name": "stdout",
     "output_type": "stream",
     "text": [
      "\u001b[H\u001b[2J"
     ]
    },
    {
     "name": "stderr",
     "output_type": "stream",
     "text": [
      "Previous HEAD position was 427fac8 Update Tampermonkey-for-Opera.md\n",
      "HEAD is now at d6b3960 Update Tampermonkey-for-Opera.md\n"
     ]
    },
    {
     "name": "stdout",
     "output_type": "stream",
     "text": [
      "\u001b[H\u001b[2J"
     ]
    },
    {
     "name": "stderr",
     "output_type": "stream",
     "text": [
      "Previous HEAD position was d6b3960 Update Tampermonkey-for-Opera.md\n",
      "HEAD is now at 1ea88a5 Update Tampermonkey-for-Safari.md\n"
     ]
    },
    {
     "name": "stdout",
     "output_type": "stream",
     "text": [
      "\u001b[H\u001b[2J"
     ]
    },
    {
     "name": "stderr",
     "output_type": "stream",
     "text": [
      "Previous HEAD position was 1ea88a5 Update Tampermonkey-for-Safari.md\n",
      "HEAD is now at c03ccdc Update Tampermonkey-for-Safari.md\n"
     ]
    },
    {
     "name": "stdout",
     "output_type": "stream",
     "text": [
      "\u001b[H\u001b[2J"
     ]
    },
    {
     "name": "stderr",
     "output_type": "stream",
     "text": [
      "Previous HEAD position was c03ccdc Update Tampermonkey-for-Safari.md\n",
      "HEAD is now at 20e3f5d Update Tampermonkey-for-Opera.md\n"
     ]
    },
    {
     "name": "stdout",
     "output_type": "stream",
     "text": [
      "\u001b[H\u001b[2J"
     ]
    },
    {
     "name": "stderr",
     "output_type": "stream",
     "text": [
      "Previous HEAD position was 20e3f5d Update Tampermonkey-for-Opera.md\n",
      "HEAD is now at 982b874 Change and lower precision with one octet on GA (#1392)\n"
     ]
    },
    {
     "name": "stdout",
     "output_type": "stream",
     "text": [
      "\u001b[H\u001b[2J"
     ]
    },
    {
     "name": "stderr",
     "output_type": "stream",
     "text": [
      "Previous HEAD position was 982b874 Change and lower precision with one octet on GA (#1392)\n",
      "HEAD is now at f64d4ff Some GH webhook init events trapped with status codes (#1399)\n"
     ]
    },
    {
     "name": "stdout",
     "output_type": "stream",
     "text": [
      "\u001b[H\u001b[2J"
     ]
    },
    {
     "name": "stderr",
     "output_type": "stream",
     "text": [
      "Previous HEAD position was f64d4ff Some GH webhook init events trapped with status codes (#1399)\n",
      "HEAD is now at dd10346 Check for existence of `zen` (#1400)\n"
     ]
    },
    {
     "name": "stdout",
     "output_type": "stream",
     "text": [
      "\u001b[H\u001b[2J"
     ]
    },
    {
     "name": "stderr",
     "output_type": "stream",
     "text": [
      "Previous HEAD position was dd10346 Check for existence of `zen` (#1400)\n",
      "HEAD is now at 6cd5081 Change status info to GH (#1401)\n"
     ]
    },
    {
     "name": "stdout",
     "output_type": "stream",
     "text": [
      "\u001b[H\u001b[2J"
     ]
    },
    {
     "name": "stderr",
     "output_type": "stream",
     "text": [
      "Previous HEAD position was 6cd5081 Change status info to GH (#1401)\n",
      "HEAD is now at 160d3af Even more status codes (#1402)\n"
     ]
    },
    {
     "name": "stdout",
     "output_type": "stream",
     "text": [
      "\u001b[H\u001b[2J"
     ]
    },
    {
     "name": "stderr",
     "output_type": "stream",
     "text": [
      "Previous HEAD position was 160d3af Even more status codes (#1402)\n",
      "HEAD is now at 99a6de7 Some more trappings (#1403)\n"
     ]
    },
    {
     "name": "stdout",
     "output_type": "stream",
     "text": [
      "\u001b[H\u001b[2J"
     ]
    },
    {
     "name": "stderr",
     "output_type": "stream",
     "text": [
      "Previous HEAD position was 99a6de7 Some more trappings (#1403)\n",
      "HEAD is now at 248ec9e Fixes for Ranges (#1404)\n"
     ]
    },
    {
     "name": "stdout",
     "output_type": "stream",
     "text": [
      "\u001b[H\u001b[2J"
     ]
    },
    {
     "name": "stderr",
     "output_type": "stream",
     "text": [
      "Previous HEAD position was 248ec9e Fixes for Ranges (#1404)\n",
      "HEAD is now at 51e0449 One more reorder and change (#1405)\n"
     ]
    },
    {
     "name": "stdout",
     "output_type": "stream",
     "text": [
      "\u001b[H\u001b[2J"
     ]
    },
    {
     "name": "stderr",
     "output_type": "stream",
     "text": [
      "Previous HEAD position was 51e0449 One more reorder and change (#1405)\n",
      "HEAD is now at 1be1837 Add some .user.js engines to Android matrix (#1406)\n"
     ]
    },
    {
     "name": "stdout",
     "output_type": "stream",
     "text": [
      "\u001b[H\u001b[2J"
     ]
    },
    {
     "name": "stderr",
     "output_type": "stream",
     "text": [
      "Previous HEAD position was 1be1837 Add some .user.js engines to Android matrix (#1406)\n",
      "HEAD is now at 8293855 Focus on IPv4 for now (#1407)\n"
     ]
    },
    {
     "name": "stdout",
     "output_type": "stream",
     "text": [
      "\u001b[H\u001b[2J"
     ]
    },
    {
     "name": "stderr",
     "output_type": "stream",
     "text": [
      "Previous HEAD position was 8293855 Focus on IPv4 for now (#1407)\n",
      "HEAD is now at c7b1e65 Still focus on IPv4 but diff dep (#1408)\n"
     ]
    },
    {
     "name": "stdout",
     "output_type": "stream",
     "text": [
      "\u001b[H\u001b[2J"
     ]
    },
    {
     "name": "stderr",
     "output_type": "stream",
     "text": [
      "Previous HEAD position was c7b1e65 Still focus on IPv4 but diff dep (#1408)\n",
      "HEAD is now at 6d72dec Fill out active session info a little more (#1409)\n"
     ]
    },
    {
     "name": "stdout",
     "output_type": "stream",
     "text": [
      "\u001b[H\u001b[2J"
     ]
    },
    {
     "name": "stderr",
     "output_type": "stream",
     "text": [
      "Previous HEAD position was 6d72dec Fill out active session info a little more (#1409)\n",
      "HEAD is now at b48dd88 Some Code styling and refactor (#1410)\n"
     ]
    },
    {
     "name": "stdout",
     "output_type": "stream",
     "text": [
      "\u001b[H\u001b[2J"
     ]
    },
    {
     "name": "stderr",
     "output_type": "stream",
     "text": [
      "Previous HEAD position was b48dd88 Some Code styling and refactor (#1410)\n",
      "HEAD is now at d58b8f8 GDPR5 (#1411)\n"
     ]
    },
    {
     "name": "stdout",
     "output_type": "stream",
     "text": [
      "\u001b[H\u001b[2J"
     ]
    },
    {
     "name": "stderr",
     "output_type": "stream",
     "text": [
      "Previous HEAD position was d58b8f8 GDPR5 (#1411)\n",
      "HEAD is now at 59ac186 GDPR1A (#1412)\n"
     ]
    },
    {
     "name": "stdout",
     "output_type": "stream",
     "text": [
      "\u001b[H\u001b[2J"
     ]
    },
    {
     "name": "stderr",
     "output_type": "stream",
     "text": [
      "Previous HEAD position was 59ac186 GDPR1A (#1412)\n",
      "HEAD is now at 69d5241 GDPR6 (#1413)\n"
     ]
    },
    {
     "name": "stdout",
     "output_type": "stream",
     "text": [
      "\u001b[H\u001b[2J"
     ]
    },
    {
     "name": "stderr",
     "output_type": "stream",
     "text": [
      "Previous HEAD position was 69d5241 GDPR6 (#1413)\n",
      "HEAD is now at 5d8d69f GDPR7 (#1414)\n"
     ]
    },
    {
     "name": "stdout",
     "output_type": "stream",
     "text": [
      "\u001b[H\u001b[2J"
     ]
    },
    {
     "name": "stderr",
     "output_type": "stream",
     "text": [
      "Previous HEAD position was 5d8d69f GDPR7 (#1414)\n",
      "HEAD is now at aa158ea Update Terms-of-Service.md\n"
     ]
    },
    {
     "name": "stdout",
     "output_type": "stream",
     "text": [
      "\u001b[H\u001b[2J"
     ]
    },
    {
     "name": "stderr",
     "output_type": "stream",
     "text": [
      "Previous HEAD position was aa158ea Update Terms-of-Service.md\n",
      "HEAD is now at c320015 Tweak for auto-dismiss (#1415)\n"
     ]
    },
    {
     "name": "stdout",
     "output_type": "stream",
     "text": [
      "\u001b[H\u001b[2J"
     ]
    },
    {
     "name": "stderr",
     "output_type": "stream",
     "text": [
      "Previous HEAD position was c320015 Tweak for auto-dismiss (#1415)\n",
      "HEAD is now at 8c35610 GDPR8 (#1416)\n"
     ]
    },
    {
     "name": "stdout",
     "output_type": "stream",
     "text": [
      "\u001b[H\u001b[2J"
     ]
    },
    {
     "name": "stderr",
     "output_type": "stream",
     "text": [
      "Previous HEAD position was 8c35610 GDPR8 (#1416)\n",
      "HEAD is now at e744a6b Denote err trapability (#1417)\n"
     ]
    },
    {
     "name": "stdout",
     "output_type": "stream",
     "text": [
      "\u001b[H\u001b[2J"
     ]
    },
    {
     "name": "stderr",
     "output_type": "stream",
     "text": [
      "Previous HEAD position was e744a6b Denote err trapability (#1417)\n",
      "HEAD is now at 05c8739 EOL Admin+ Session Length route and code (#1418)\n"
     ]
    },
    {
     "name": "stdout",
     "output_type": "stream",
     "text": [
      "\u001b[H\u001b[2J"
     ]
    },
    {
     "name": "stderr",
     "output_type": "stream",
     "text": [
      "Previous HEAD position was 05c8739 EOL Admin+ Session Length route and code (#1418)\n",
      "HEAD is now at e9b369a GDPR9 (#1419)\n"
     ]
    },
    {
     "name": "stdout",
     "output_type": "stream",
     "text": [
      "\u001b[H\u001b[2J"
     ]
    },
    {
     "name": "stderr",
     "output_type": "stream",
     "text": [
      "Previous HEAD position was e9b369a GDPR9 (#1419)\n",
      "HEAD is now at 5241fdf GDPR7A (#1420)\n"
     ]
    },
    {
     "name": "stdout",
     "output_type": "stream",
     "text": [
      "\u001b[H\u001b[2J"
     ]
    },
    {
     "name": "stderr",
     "output_type": "stream",
     "text": [
      "Previous HEAD position was 5241fdf GDPR7A (#1420)\n",
      "HEAD is now at d3b09d8 GPDPR7A1 (#1421)\n"
     ]
    },
    {
     "name": "stdout",
     "output_type": "stream",
     "text": [
      "\u001b[H\u001b[2J"
     ]
    },
    {
     "name": "stderr",
     "output_type": "stream",
     "text": [
      "Previous HEAD position was d3b09d8 GPDPR7A1 (#1421)\n",
      "HEAD is now at 4337897 Trap a server trip (#1422)\n"
     ]
    },
    {
     "name": "stdout",
     "output_type": "stream",
     "text": [
      "\u001b[H\u001b[2J"
     ]
    },
    {
     "name": "stderr",
     "output_type": "stream",
     "text": [
      "Previous HEAD position was 4337897 Trap a server trip (#1422)\n",
      "HEAD is now at 8a5c3a9 Strategies update (#1423)\n"
     ]
    },
    {
     "name": "stdout",
     "output_type": "stream",
     "text": [
      "\u001b[H\u001b[2J"
     ]
    },
    {
     "name": "stderr",
     "output_type": "stream",
     "text": [
      "Previous HEAD position was 8a5c3a9 Strategies update (#1423)\n",
      "HEAD is now at 260be7e Try naming this correctly (#1424)\n"
     ]
    },
    {
     "name": "stdout",
     "output_type": "stream",
     "text": [
      "\u001b[H\u001b[2J"
     ]
    },
    {
     "name": "stderr",
     "output_type": "stream",
     "text": [
      "Previous HEAD position was 260be7e Try naming this correctly (#1424)\n",
      "HEAD is now at 1eec6e2 Revert and augment Strategy (#1425)\n"
     ]
    },
    {
     "name": "stdout",
     "output_type": "stream",
     "text": [
      "\u001b[H\u001b[2J"
     ]
    },
    {
     "name": "stderr",
     "output_type": "stream",
     "text": [
      "Previous HEAD position was 1eec6e2 Revert and augment Strategy (#1425)\n",
      "HEAD is now at a2e62b2 GDPR10 (#1426)\n"
     ]
    },
    {
     "name": "stdout",
     "output_type": "stream",
     "text": [
      "\u001b[H\u001b[2J"
     ]
    },
    {
     "name": "stderr",
     "output_type": "stream",
     "text": [
      "Previous HEAD position was a2e62b2 GDPR10 (#1426)\n",
      "HEAD is now at 0d585c6 GDPR10A (#1427)\n"
     ]
    },
    {
     "name": "stdout",
     "output_type": "stream",
     "text": [
      "\u001b[H\u001b[2J"
     ]
    },
    {
     "name": "stderr",
     "output_type": "stream",
     "text": [
      "Previous HEAD position was 0d585c6 GDPR10A (#1427)\n",
      "HEAD is now at 1b7840b GPDR11 (#1428)\n"
     ]
    },
    {
     "name": "stdout",
     "output_type": "stream",
     "text": [
      "\u001b[H\u001b[2J"
     ]
    },
    {
     "name": "stderr",
     "output_type": "stream",
     "text": [
      "Previous HEAD position was 1b7840b GPDR11 (#1428)\n",
      "HEAD is now at c678260 GDPR11A (#1429)\n"
     ]
    },
    {
     "name": "stdout",
     "output_type": "stream",
     "text": [
      "\u001b[H\u001b[2J"
     ]
    },
    {
     "name": "stderr",
     "output_type": "stream",
     "text": [
      "Previous HEAD position was c678260 GDPR11A (#1429)\n",
      "HEAD is now at 5edc27c Some dep updates (#1431)\n"
     ]
    },
    {
     "name": "stdout",
     "output_type": "stream",
     "text": [
      "\u001b[H\u001b[2J"
     ]
    },
    {
     "name": "stderr",
     "output_type": "stream",
     "text": [
      "Previous HEAD position was 5edc27c Some dep updates (#1431)\n",
      "HEAD is now at 33bc509 Package *github* renamed to *@octokit/rest* (#1433)\n"
     ]
    },
    {
     "name": "stdout",
     "output_type": "stream",
     "text": [
      "\u001b[H\u001b[2J"
     ]
    },
    {
     "name": "stderr",
     "output_type": "stream",
     "text": [
      "Previous HEAD position was 33bc509 Package *github* renamed to *@octokit/rest* (#1433)\n",
      "HEAD is now at a228ea7 Delete lockfile instead of global ignore (#1434)\n"
     ]
    },
    {
     "name": "stdout",
     "output_type": "stream",
     "text": [
      "\u001b[H\u001b[2J"
     ]
    },
    {
     "name": "stderr",
     "output_type": "stream",
     "text": [
      "Previous HEAD position was a228ea7 Delete lockfile instead of global ignore (#1434)\n",
      "HEAD is now at 9dae8ed A dep update (#1435)\n"
     ]
    },
    {
     "name": "stdout",
     "output_type": "stream",
     "text": [
      "\u001b[H\u001b[2J"
     ]
    },
    {
     "name": "stderr",
     "output_type": "stream",
     "text": [
      "Previous HEAD position was 9dae8ed A dep update (#1435)\n",
      "HEAD is now at 4697ab5 Trap exception if absent (#1436)\n"
     ]
    },
    {
     "name": "stdout",
     "output_type": "stream",
     "text": [
      "\u001b[H\u001b[2J"
     ]
    },
    {
     "name": "stderr",
     "output_type": "stream",
     "text": [
      "Previous HEAD position was 4697ab5 Trap exception if absent (#1436)\n",
      "HEAD is now at 3bc21c5 Some *npm* scripts for maintainance. (#1437)\n"
     ]
    },
    {
     "name": "stdout",
     "output_type": "stream",
     "text": [
      "\u001b[H\u001b[2J"
     ]
    },
    {
     "name": "stderr",
     "output_type": "stream",
     "text": [
      "Previous HEAD position was 3bc21c5 Some *npm* scripts for maintainance. (#1437)\n",
      "HEAD is now at 31c597f Invert test logic for auto-detection (#1438)\n"
     ]
    },
    {
     "name": "stdout",
     "output_type": "stream",
     "text": [
      "\u001b[H\u001b[2J"
     ]
    },
    {
     "name": "stderr",
     "output_type": "stream",
     "text": [
      "Previous HEAD position was 31c597f Invert test logic for auto-detection (#1438)\n",
      "HEAD is now at 75edb40 Update README.md\n"
     ]
    },
    {
     "name": "stdout",
     "output_type": "stream",
     "text": [
      "\u001b[H\u001b[2J"
     ]
    },
    {
     "name": "stderr",
     "output_type": "stream",
     "text": [
      "Previous HEAD position was 75edb40 Update README.md\n",
      "HEAD is now at 5d78e8e GDPR12 (#1439)\n"
     ]
    },
    {
     "name": "stdout",
     "output_type": "stream",
     "text": [
      "\u001b[H\u001b[2J"
     ]
    },
    {
     "name": "stderr",
     "output_type": "stream",
     "text": [
      "Previous HEAD position was 5d78e8e GDPR12 (#1439)\n",
      "HEAD is now at 94a27ca EOL TLSv1 (#1430)\n"
     ]
    },
    {
     "name": "stdout",
     "output_type": "stream",
     "text": [
      "\u001b[H\u001b[2J"
     ]
    },
    {
     "name": "stderr",
     "output_type": "stream",
     "text": [
      "Previous HEAD position was 94a27ca EOL TLSv1 (#1430)\n",
      "HEAD is now at fa99c58 Bump *node* and *npm* min/max (#1440)\n"
     ]
    },
    {
     "name": "stdout",
     "output_type": "stream",
     "text": [
      "\u001b[H\u001b[2J"
     ]
    },
    {
     "name": "stderr",
     "output_type": "stream",
     "text": [
      "Previous HEAD position was fa99c58 Bump *node* and *npm* min/max (#1440)\n",
      "HEAD is now at 0c07d04 A dep update (#1441)\n"
     ]
    },
    {
     "name": "stdout",
     "output_type": "stream",
     "text": [
      "\u001b[H\u001b[2J"
     ]
    },
    {
     "name": "stderr",
     "output_type": "stream",
     "text": [
      "Previous HEAD position was 0c07d04 A dep update (#1441)\n",
      "HEAD is now at 08490ad Some automation with CIDRs from GH (#1442)\n"
     ]
    },
    {
     "name": "stdout",
     "output_type": "stream",
     "text": [
      "\u001b[H\u001b[2J"
     ]
    },
    {
     "name": "stderr",
     "output_type": "stream",
     "text": [
      "Previous HEAD position was 08490ad Some automation with CIDRs from GH (#1442)\n",
      "HEAD is now at c86fc9b Trim CIDR bit detection to 2 digits (#1443)\n"
     ]
    },
    {
     "name": "stdout",
     "output_type": "stream",
     "text": [
      "\u001b[H\u001b[2J"
     ]
    },
    {
     "name": "stderr",
     "output_type": "stream",
     "text": [
      "Previous HEAD position was c86fc9b Trim CIDR bit detection to 2 digits (#1443)\n",
      "HEAD is now at a0b9df2 GDPR12A (#1444)\n"
     ]
    },
    {
     "name": "stdout",
     "output_type": "stream",
     "text": [
      "\u001b[H\u001b[2J"
     ]
    },
    {
     "name": "stderr",
     "output_type": "stream",
     "text": [
      "Previous HEAD position was a0b9df2 GDPR12A (#1444)\n",
      "HEAD is now at 55fdcb0 Some dep updates (#1445)\n"
     ]
    },
    {
     "name": "stdout",
     "output_type": "stream",
     "text": [
      "\u001b[H\u001b[2J"
     ]
    },
    {
     "name": "stderr",
     "output_type": "stream",
     "text": [
      "Previous HEAD position was 55fdcb0 Some dep updates (#1445)\n",
      "HEAD is now at 0a6ddfa Replace simple admin UI with a simple UI view (#1446)\n"
     ]
    },
    {
     "name": "stdout",
     "output_type": "stream",
     "text": [
      "\u001b[H\u001b[2J"
     ]
    },
    {
     "name": "stderr",
     "output_type": "stream",
     "text": [
      "Previous HEAD position was 0a6ddfa Replace simple admin UI with a simple UI view (#1446)\n",
      "HEAD is now at 982b5eb Add UA column (#1447)\n"
     ]
    },
    {
     "name": "stdout",
     "output_type": "stream",
     "text": [
      "\u001b[H\u001b[2J"
     ]
    },
    {
     "name": "stderr",
     "output_type": "stream",
     "text": [
      "Previous HEAD position was 982b5eb Add UA column (#1447)\n",
      "HEAD is now at bf83413 Trap a potential error (#1448)\n"
     ]
    },
    {
     "name": "stdout",
     "output_type": "stream",
     "text": [
      "\u001b[H\u001b[2J"
     ]
    },
    {
     "name": "stderr",
     "output_type": "stream",
     "text": [
      "Previous HEAD position was bf83413 Trap a potential error (#1448)\n",
      "HEAD is now at efe3517 Trap it but continue (#1449)\n"
     ]
    },
    {
     "name": "stdout",
     "output_type": "stream",
     "text": [
      "\u001b[H\u001b[2J"
     ]
    },
    {
     "name": "stderr",
     "output_type": "stream",
     "text": [
      "Previous HEAD position was efe3517 Trap it but continue (#1449)\n",
      "HEAD is now at 4a52904 Capture since date (#1450)\n"
     ]
    },
    {
     "name": "stdout",
     "output_type": "stream",
     "text": [
      "\u001b[H\u001b[2J"
     ]
    },
    {
     "name": "stderr",
     "output_type": "stream",
     "text": [
      "Previous HEAD position was 4a52904 Capture since date (#1450)\n",
      "HEAD is now at 895eba4 Switch to divs instead of tables (#1451)\n"
     ]
    },
    {
     "name": "stdout",
     "output_type": "stream",
     "text": [
      "\u001b[H\u001b[2J"
     ]
    },
    {
     "name": "stderr",
     "output_type": "stream",
     "text": [
      "Previous HEAD position was 895eba4 Switch to divs instead of tables (#1451)\n",
      "HEAD is now at b8c34a1 Tweak the html a bit (#1452)\n"
     ]
    },
    {
     "name": "stdout",
     "output_type": "stream",
     "text": [
      "\u001b[H\u001b[2J"
     ]
    },
    {
     "name": "stderr",
     "output_type": "stream",
     "text": [
      "Previous HEAD position was b8c34a1 Tweak the html a bit (#1452)\n",
      "HEAD is now at f6aed0e Fix time (#1453)\n"
     ]
    },
    {
     "name": "stdout",
     "output_type": "stream",
     "text": [
      "\u001b[H\u001b[2J"
     ]
    },
    {
     "name": "stderr",
     "output_type": "stream",
     "text": [
      "Previous HEAD position was f6aed0e Fix time (#1453)\n",
      "HEAD is now at e25845c Give a time tag and formatted for last restart of server (#1454)\n"
     ]
    },
    {
     "name": "stdout",
     "output_type": "stream",
     "text": [
      "\u001b[H\u001b[2J"
     ]
    },
    {
     "name": "stderr",
     "output_type": "stream",
     "text": [
      "Previous HEAD position was e25845c Give a time tag and formatted for last restart of server (#1454)\n",
      "HEAD is now at 85b4275 Sanity check for initial session (#1455)\n"
     ]
    },
    {
     "name": "stdout",
     "output_type": "stream",
     "text": [
      "\u001b[H\u001b[2J"
     ]
    },
    {
     "name": "stderr",
     "output_type": "stream",
     "text": [
      "Previous HEAD position was 85b4275 Sanity check for initial session (#1455)\n",
      "HEAD is now at 503dd5b Nomenclature clarification (#1456)\n"
     ]
    },
    {
     "name": "stdout",
     "output_type": "stream",
     "text": [
      "\u001b[H\u001b[2J"
     ]
    },
    {
     "name": "stderr",
     "output_type": "stream",
     "text": [
      "Previous HEAD position was 503dd5b Nomenclature clarification (#1456)\n",
      "HEAD is now at 7df3204 Update session.html\n"
     ]
    },
    {
     "name": "stdout",
     "output_type": "stream",
     "text": [
      "\u001b[H\u001b[2J"
     ]
    },
    {
     "name": "stderr",
     "output_type": "stream",
     "text": [
      "Previous HEAD position was 7df3204 Update session.html\n",
      "HEAD is now at 08d7fcb Update session.html\n"
     ]
    },
    {
     "name": "stdout",
     "output_type": "stream",
     "text": [
      "\u001b[H\u001b[2J"
     ]
    },
    {
     "name": "stderr",
     "output_type": "stream",
     "text": [
      "Previous HEAD position was 08d7fcb Update session.html\n",
      "HEAD is now at b10637c Enable delete route API (#1457)\n"
     ]
    },
    {
     "name": "stdout",
     "output_type": "stream",
     "text": [
      "\u001b[H\u001b[2J"
     ]
    },
    {
     "name": "stderr",
     "output_type": "stream",
     "text": [
      "Previous HEAD position was b10637c Enable delete route API (#1457)\n",
      "HEAD is now at fe0f3b9 Add role to session list (#1458)\n"
     ]
    },
    {
     "name": "stdout",
     "output_type": "stream",
     "text": [
      "\u001b[H\u001b[2J"
     ]
    },
    {
     "name": "stderr",
     "output_type": "stream",
     "text": [
      "Previous HEAD position was fe0f3b9 Add role to session list (#1458)\n",
      "HEAD is now at d9614d0 Tag undefined username e.g. not finished yet (#1459)\n"
     ]
    },
    {
     "name": "stdout",
     "output_type": "stream",
     "text": [
      "\u001b[H\u001b[2J"
     ]
    },
    {
     "name": "stderr",
     "output_type": "stream",
     "text": [
      "Previous HEAD position was d9614d0 Tag undefined username e.g. not finished yet (#1459)\n",
      "HEAD is now at 2772aa5 Collect some more data and move volatile storage (#1460)\n"
     ]
    },
    {
     "name": "stdout",
     "output_type": "stream",
     "text": [
      "\u001b[H\u001b[2J"
     ]
    },
    {
     "name": "stderr",
     "output_type": "stream",
     "text": [
      "Previous HEAD position was 2772aa5 Collect some more data and move volatile storage (#1460)\n",
      "HEAD is now at 1000390 Whoops (#1461)\n"
     ]
    },
    {
     "name": "stdout",
     "output_type": "stream",
     "text": [
      "\u001b[H\u001b[2J"
     ]
    },
    {
     "name": "stderr",
     "output_type": "stream",
     "text": [
      "Previous HEAD position was 1000390 Whoops (#1461)\n",
      "HEAD is now at d65b404 Show, at least, your own remoteAddress (#1462)\n"
     ]
    },
    {
     "name": "stdout",
     "output_type": "stream",
     "text": [
      "\u001b[H\u001b[2J"
     ]
    },
    {
     "name": "stderr",
     "output_type": "stream",
     "text": [
      "Previous HEAD position was d65b404 Show, at least, your own remoteAddress (#1462)\n",
      "HEAD is now at b820a1b Abstract remoteAddress on AuthAs (#1463)\n"
     ]
    },
    {
     "name": "stdout",
     "output_type": "stream",
     "text": [
      "\u001b[H\u001b[2J"
     ]
    },
    {
     "name": "stderr",
     "output_type": "stream",
     "text": [
      "Previous HEAD position was b820a1b Abstract remoteAddress on AuthAs (#1463)\n",
      "HEAD is now at a24112e Missed sub (#1464)\n"
     ]
    },
    {
     "name": "stdout",
     "output_type": "stream",
     "text": [
      "\u001b[H\u001b[2J"
     ]
    },
    {
     "name": "stderr",
     "output_type": "stream",
     "text": [
      "Previous HEAD position was a24112e Missed sub (#1464)\n",
      "HEAD is now at ef4a815 Sub in some more (#1465)\n"
     ]
    },
    {
     "name": "stdout",
     "output_type": "stream",
     "text": [
      "\u001b[H\u001b[2J"
     ]
    },
    {
     "name": "stderr",
     "output_type": "stream",
     "text": [
      "Previous HEAD position was ef4a815 Sub in some more (#1465)\n",
      "HEAD is now at c48c559 Test failure fix (#1466)\n"
     ]
    },
    {
     "name": "stdout",
     "output_type": "stream",
     "text": [
      "\u001b[H\u001b[2J"
     ]
    },
    {
     "name": "stderr",
     "output_type": "stream",
     "text": [
      "Previous HEAD position was c48c559 Test failure fix (#1466)\n",
      "HEAD is now at caaffe0 Test failure fix (#1467)\n"
     ]
    },
    {
     "name": "stdout",
     "output_type": "stream",
     "text": [
      "\u001b[H\u001b[2J"
     ]
    },
    {
     "name": "stderr",
     "output_type": "stream",
     "text": [
      "Previous HEAD position was caaffe0 Test failure fix (#1467)\n",
      "HEAD is now at 93b9cc9 Put a few login checks in missing places (#1468)\n"
     ]
    },
    {
     "name": "stdout",
     "output_type": "stream",
     "text": [
      "\u001b[H\u001b[2J"
     ]
    },
    {
     "name": "stderr",
     "output_type": "stream",
     "text": [
      "Previous HEAD position was 93b9cc9 Put a few login checks in missing places (#1468)\n",
      "HEAD is now at 3b6be1e More login checks (#1469)\n"
     ]
    },
    {
     "name": "stdout",
     "output_type": "stream",
     "text": [
      "\u001b[H\u001b[2J"
     ]
    },
    {
     "name": "stderr",
     "output_type": "stream",
     "text": [
      "Previous HEAD position was 3b6be1e More login checks (#1469)\n",
      "HEAD is now at 73d2635 Deny delete session on AuthAs (#1470)\n"
     ]
    },
    {
     "name": "stdout",
     "output_type": "stream",
     "text": [
      "\u001b[H\u001b[2J"
     ]
    },
    {
     "name": "stderr",
     "output_type": "stream",
     "text": [
      "Previous HEAD position was 73d2635 Deny delete session on AuthAs (#1470)\n",
      "HEAD is now at b6142d8 Try a TTL for *connect-mongo* (#1471)\n"
     ]
    },
    {
     "name": "stdout",
     "output_type": "stream",
     "text": [
      "\u001b[H\u001b[2J"
     ]
    },
    {
     "name": "stderr",
     "output_type": "stream",
     "text": [
      "Previous HEAD position was b6142d8 Try a TTL for *connect-mongo* (#1471)\n",
      "HEAD is now at 6d75b79 Try interval session expiration (#1472)\n"
     ]
    },
    {
     "name": "stdout",
     "output_type": "stream",
     "text": [
      "\u001b[H\u001b[2J"
     ]
    },
    {
     "name": "stderr",
     "output_type": "stream",
     "text": [
      "Previous HEAD position was 6d75b79 Try interval session expiration (#1472)\n",
      "HEAD is now at 1c2e5f9 Update Falkon.md\n"
     ]
    },
    {
     "name": "stdout",
     "output_type": "stream",
     "text": [
      "\u001b[H\u001b[2J"
     ]
    },
    {
     "name": "stderr",
     "output_type": "stream",
     "text": [
      "Previous HEAD position was 1c2e5f9 Update Falkon.md\n",
      "HEAD is now at 881f070 Revert to TTL (#1473)\n"
     ]
    },
    {
     "name": "stdout",
     "output_type": "stream",
     "text": [
      "\u001b[H\u001b[2J"
     ]
    },
    {
     "name": "stderr",
     "output_type": "stream",
     "text": [
      "Previous HEAD position was 881f070 Revert to TTL (#1473)\n",
      "HEAD is now at 2b09b35 Change symbol (#1474)\n"
     ]
    },
    {
     "name": "stdout",
     "output_type": "stream",
     "text": [
      "\u001b[H\u001b[2J"
     ]
    },
    {
     "name": "stderr",
     "output_type": "stream",
     "text": [
      "Previous HEAD position was 2b09b35 Change symbol (#1474)\n",
      "HEAD is now at 583bb80 TLS session resumption enable (#1475)\n"
     ]
    },
    {
     "name": "stdout",
     "output_type": "stream",
     "text": [
      "\u001b[H\u001b[2J"
     ]
    },
    {
     "name": "stderr",
     "output_type": "stream",
     "text": [
      "Previous HEAD position was 583bb80 TLS session resumption enable (#1475)\n",
      "HEAD is now at 43b74d9 Revert last commit (#1476)\n"
     ]
    },
    {
     "name": "stdout",
     "output_type": "stream",
     "text": [
      "\u001b[H\u001b[2J"
     ]
    },
    {
     "name": "stderr",
     "output_type": "stream",
     "text": [
      "Previous HEAD position was 43b74d9 Revert last commit (#1476)\n",
      "HEAD is now at 806850b Some dep updates (#1477)\n"
     ]
    },
    {
     "name": "stdout",
     "output_type": "stream",
     "text": [
      "\u001b[H\u001b[2J"
     ]
    },
    {
     "name": "stderr",
     "output_type": "stream",
     "text": [
      "Previous HEAD position was 806850b Some dep updates (#1477)\n",
      "HEAD is now at f062cd7 Tip and alt the strat (#1478)\n"
     ]
    },
    {
     "name": "stdout",
     "output_type": "stream",
     "text": [
      "\u001b[H\u001b[2J"
     ]
    },
    {
     "name": "stderr",
     "output_type": "stream",
     "text": [
      "Previous HEAD position was f062cd7 Tip and alt the strat (#1478)\n",
      "HEAD is now at ca8847c Refactor to existing code style (#1479)\n"
     ]
    },
    {
     "name": "stdout",
     "output_type": "stream",
     "text": [
      "\u001b[H\u001b[2J"
     ]
    },
    {
     "name": "stderr",
     "output_type": "stream",
     "text": [
      "Previous HEAD position was ca8847c Refactor to existing code style (#1479)\n",
      "HEAD is now at ca86ab3 Invert the TTL value and extend to fixed (#1480)\n"
     ]
    },
    {
     "name": "stdout",
     "output_type": "stream",
     "text": [
      "\u001b[H\u001b[2J"
     ]
    },
    {
     "name": "stderr",
     "output_type": "stream",
     "text": [
      "Previous HEAD position was ca86ab3 Invert the TTL value and extend to fixed (#1480)\n",
      "HEAD is now at 142fff6 Squash a deprecation warning (#1481)\n"
     ]
    },
    {
     "name": "stdout",
     "output_type": "stream",
     "text": [
      "\u001b[H\u001b[2J"
     ]
    },
    {
     "name": "stderr",
     "output_type": "stream",
     "text": [
      "Previous HEAD position was 142fff6 Squash a deprecation warning (#1481)\n",
      "HEAD is now at 2a86df1 ttl sanity timer (#1482)\n"
     ]
    },
    {
     "name": "stdout",
     "output_type": "stream",
     "text": [
      "\u001b[H\u001b[2J"
     ]
    },
    {
     "name": "stderr",
     "output_type": "stream",
     "text": [
      "Previous HEAD position was 2a86df1 ttl sanity timer (#1482)\n",
      "HEAD is now at 6e50990 Abstract TTLs to settings Object (#1483)\n"
     ]
    },
    {
     "name": "stdout",
     "output_type": "stream",
     "text": [
      "\u001b[H\u001b[2J"
     ]
    },
    {
     "name": "stderr",
     "output_type": "stream",
     "text": [
      "Previous HEAD position was 6e50990 Abstract TTLs to settings Object (#1483)\n",
      "HEAD is now at 0dc2281 Drop max to addition instead of replacement (#1484)\n"
     ]
    },
    {
     "name": "stdout",
     "output_type": "stream",
     "text": [
      "\u001b[H\u001b[2J"
     ]
    },
    {
     "name": "stderr",
     "output_type": "stream",
     "text": [
      "Previous HEAD position was 0dc2281 Drop max to addition instead of replacement (#1484)\n",
      "HEAD is now at 6a89ba3 Split up tasks (#1485)\n"
     ]
    },
    {
     "name": "stdout",
     "output_type": "stream",
     "text": [
      "\u001b[H\u001b[2J"
     ]
    },
    {
     "name": "stderr",
     "output_type": "stream",
     "text": [
      "Previous HEAD position was 6a89ba3 Split up tasks (#1485)\n",
      "HEAD is now at 4995961 Single session iteration (#1486)\n"
     ]
    },
    {
     "name": "stdout",
     "output_type": "stream",
     "text": [
      "\u001b[H\u001b[2J"
     ]
    },
    {
     "name": "stderr",
     "output_type": "stream",
     "text": [
      "Previous HEAD position was 4995961 Single session iteration (#1486)\n",
      "HEAD is now at b6220e9 Move authing to last (#1487)\n"
     ]
    },
    {
     "name": "stdout",
     "output_type": "stream",
     "text": [
      "\u001b[H\u001b[2J"
     ]
    },
    {
     "name": "stderr",
     "output_type": "stream",
     "text": [
      "Previous HEAD position was b6220e9 Move authing to last (#1487)\n",
      "HEAD is now at 50b8ff4 Add extend here (#1488)\n"
     ]
    },
    {
     "name": "stdout",
     "output_type": "stream",
     "text": [
      "\u001b[H\u001b[2J"
     ]
    },
    {
     "name": "stderr",
     "output_type": "stream",
     "text": [
      "Previous HEAD position was 50b8ff4 Add extend here (#1488)\n",
      "HEAD is now at 22a6d61 Add session specific here (#1489)\n"
     ]
    },
    {
     "name": "stdout",
     "output_type": "stream",
     "text": [
      "\u001b[H\u001b[2J"
     ]
    },
    {
     "name": "stderr",
     "output_type": "stream",
     "text": [
      "Previous HEAD position was 22a6d61 Add session specific here (#1489)\n",
      "HEAD is now at c2184d1 Clipboard misses (#1490)\n"
     ]
    },
    {
     "name": "stdout",
     "output_type": "stream",
     "text": [
      "\u001b[H\u001b[2J"
     ]
    },
    {
     "name": "stderr",
     "output_type": "stream",
     "text": [
      "Previous HEAD position was c2184d1 Clipboard misses (#1490)\n",
      "HEAD is now at 3cea936 Some dep updates (#1491)\n"
     ]
    },
    {
     "name": "stdout",
     "output_type": "stream",
     "text": [
      "\u001b[H\u001b[2J"
     ]
    },
    {
     "name": "stderr",
     "output_type": "stream",
     "text": [
      "Previous HEAD position was 3cea936 Some dep updates (#1491)\n",
      "HEAD is now at 96cd346 Lower to `lax` (#1492)\n"
     ]
    },
    {
     "name": "stdout",
     "output_type": "stream",
     "text": [
      "\u001b[H\u001b[2J"
     ]
    },
    {
     "name": "stderr",
     "output_type": "stream",
     "text": [
      "Previous HEAD position was 96cd346 Lower to `lax` (#1492)\n",
      "HEAD is now at 545081d GDPR7B (#1493)\n"
     ]
    },
    {
     "name": "stdout",
     "output_type": "stream",
     "text": [
      "\u001b[H\u001b[2J"
     ]
    },
    {
     "name": "stderr",
     "output_type": "stream",
     "text": [
      "Previous HEAD position was 545081d GDPR7B (#1493)\n",
      "HEAD is now at 78623c0 GDPR7B1 (#1494)\n"
     ]
    },
    {
     "name": "stdout",
     "output_type": "stream",
     "text": [
      "\u001b[H\u001b[2J"
     ]
    },
    {
     "name": "stderr",
     "output_type": "stream",
     "text": [
      "Previous HEAD position was 78623c0 GDPR7B1 (#1494)\n",
      "HEAD is now at a90a1d6 Fix UA on attach/switch (#1495)\n"
     ]
    },
    {
     "name": "stdout",
     "output_type": "stream",
     "text": [
      "\u001b[H\u001b[2J"
     ]
    },
    {
     "name": "stderr",
     "output_type": "stream",
     "text": [
      "Previous HEAD position was a90a1d6 Fix UA on attach/switch (#1495)\n",
      "HEAD is now at 45d3b90 Update userEditPreferencesPage.html\n"
     ]
    },
    {
     "name": "stdout",
     "output_type": "stream",
     "text": [
      "\u001b[H\u001b[2J"
     ]
    },
    {
     "name": "stderr",
     "output_type": "stream",
     "text": [
      "Previous HEAD position was 45d3b90 Update userEditPreferencesPage.html\n",
      "HEAD is now at 3e9e71c GDPR7B2 (#1496)\n"
     ]
    },
    {
     "name": "stdout",
     "output_type": "stream",
     "text": [
      "\u001b[H\u001b[2J"
     ]
    },
    {
     "name": "stderr",
     "output_type": "stream",
     "text": [
      "Previous HEAD position was 3e9e71c GDPR7B2 (#1496)\n",
      "HEAD is now at b9ac28c Demote/elevate `sameSite` when needed (#1497)\n"
     ]
    },
    {
     "name": "stdout",
     "output_type": "stream",
     "text": [
      "\u001b[H\u001b[2J"
     ]
    },
    {
     "name": "stderr",
     "output_type": "stream",
     "text": [
      "Previous HEAD position was b9ac28c Demote/elevate `sameSite` when needed (#1497)\n",
      "HEAD is now at 898889a Modify Auth UI (#1498)\n"
     ]
    },
    {
     "name": "stdout",
     "output_type": "stream",
     "text": [
      "\u001b[H\u001b[2J"
     ]
    },
    {
     "name": "stderr",
     "output_type": "stream",
     "text": [
      "Previous HEAD position was 898889a Modify Auth UI (#1498)\n",
      "HEAD is now at 9c7429e Some dep removals (#1500)\n"
     ]
    },
    {
     "name": "stdout",
     "output_type": "stream",
     "text": [
      "\u001b[H\u001b[2J"
     ]
    },
    {
     "name": "stderr",
     "output_type": "stream",
     "text": [
      "Previous HEAD position was 9c7429e Some dep removals (#1500)\n",
      "HEAD is now at d1e138f Drop dep (#1501)\n"
     ]
    },
    {
     "name": "stdout",
     "output_type": "stream",
     "text": [
      "\u001b[H\u001b[2J"
     ]
    },
    {
     "name": "stderr",
     "output_type": "stream",
     "text": [
      "Previous HEAD position was d1e138f Drop dep (#1501)\n",
      "HEAD is now at 78e2d27 Refactor dual `@license`'ing (#1502)\n"
     ]
    },
    {
     "name": "stdout",
     "output_type": "stream",
     "text": [
      "\u001b[H\u001b[2J"
     ]
    },
    {
     "name": "stderr",
     "output_type": "stream",
     "text": [
      "Previous HEAD position was 78e2d27 Refactor dual `@license`'ing (#1502)\n",
      "HEAD is now at 0326e55 Some dep updates (#1503)\n"
     ]
    },
    {
     "name": "stdout",
     "output_type": "stream",
     "text": [
      "\u001b[H\u001b[2J"
     ]
    },
    {
     "name": "stderr",
     "output_type": "stream",
     "text": [
      "Previous HEAD position was 0326e55 Some dep updates (#1503)\n",
      "HEAD is now at db899d4 Some code compliance (#1504)\n"
     ]
    },
    {
     "name": "stdout",
     "output_type": "stream",
     "text": [
      "\u001b[H\u001b[2J"
     ]
    },
    {
     "name": "stderr",
     "output_type": "stream",
     "text": [
      "Previous HEAD position was db899d4 Some code compliance (#1504)\n",
      "HEAD is now at 19a5387 Better trap (#1505)\n"
     ]
    },
    {
     "name": "stdout",
     "output_type": "stream",
     "text": [
      "\u001b[H\u001b[2J"
     ]
    },
    {
     "name": "stderr",
     "output_type": "stream",
     "text": [
      "Previous HEAD position was 19a5387 Better trap (#1505)\n",
      "HEAD is now at c727066 Remove ability to import from non-owned repos (#1506)\n"
     ]
    },
    {
     "name": "stdout",
     "output_type": "stream",
     "text": [
      "\u001b[H\u001b[2J"
     ]
    },
    {
     "name": "stderr",
     "output_type": "stream",
     "text": [
      "Previous HEAD position was c727066 Remove ability to import from non-owned repos (#1506)\n",
      "HEAD is now at ea9dc05 Update Frequently-Asked-Questions.md\n"
     ]
    },
    {
     "name": "stdout",
     "output_type": "stream",
     "text": [
      "\u001b[H\u001b[2J"
     ]
    },
    {
     "name": "stderr",
     "output_type": "stream",
     "text": [
      "Previous HEAD position was ea9dc05 Update Frequently-Asked-Questions.md\n",
      "HEAD is now at 307dd89 Update Frequently-Asked-Questions.md\n"
     ]
    },
    {
     "name": "stdout",
     "output_type": "stream",
     "text": [
      "\u001b[H\u001b[2J"
     ]
    },
    {
     "name": "stderr",
     "output_type": "stream",
     "text": [
      "Previous HEAD position was 307dd89 Update Frequently-Asked-Questions.md\n",
      "HEAD is now at 8cebe3d Unified diff for use in discussion comments (#1507)\n"
     ]
    },
    {
     "name": "stdout",
     "output_type": "stream",
     "text": [
      "\u001b[H\u001b[2J"
     ]
    },
    {
     "name": "stderr",
     "output_type": "stream",
     "text": [
      "Previous HEAD position was 8cebe3d Unified diff for use in discussion comments (#1507)\n",
      "HEAD is now at d105569 Update Frequently-Asked-Questions.md\n"
     ]
    },
    {
     "name": "stdout",
     "output_type": "stream",
     "text": [
      "\u001b[H\u001b[2J"
     ]
    },
    {
     "name": "stderr",
     "output_type": "stream",
     "text": [
      "Previous HEAD position was d105569 Update Frequently-Asked-Questions.md\n",
      "HEAD is now at 488da46 GDPR13 (#1508)\n"
     ]
    },
    {
     "name": "stdout",
     "output_type": "stream",
     "text": [
      "\u001b[H\u001b[2J"
     ]
    },
    {
     "name": "stderr",
     "output_type": "stream",
     "text": [
      "Previous HEAD position was 488da46 GDPR13 (#1508)\n",
      "HEAD is now at 56125e7 GDPR13A (#1509)\n"
     ]
    },
    {
     "name": "stdout",
     "output_type": "stream",
     "text": [
      "\u001b[H\u001b[2J"
     ]
    },
    {
     "name": "stderr",
     "output_type": "stream",
     "text": [
      "Previous HEAD position was 56125e7 GDPR13A (#1509)\n",
      "HEAD is now at 22f2b56 GDPR13B (#1510)\n"
     ]
    },
    {
     "name": "stdout",
     "output_type": "stream",
     "text": [
      "\u001b[H\u001b[2J"
     ]
    },
    {
     "name": "stderr",
     "output_type": "stream",
     "text": [
      "Previous HEAD position was 22f2b56 GDPR13B (#1510)\n",
      "HEAD is now at 49a72e0 GDPR13B1 (#1511)\n"
     ]
    },
    {
     "name": "stdout",
     "output_type": "stream",
     "text": [
      "\u001b[H\u001b[2J"
     ]
    },
    {
     "name": "stderr",
     "output_type": "stream",
     "text": [
      "Previous HEAD position was 49a72e0 GDPR13B1 (#1511)\n",
      "HEAD is now at b48e3b2 GDPR13C (#1512)\n"
     ]
    },
    {
     "name": "stdout",
     "output_type": "stream",
     "text": [
      "\u001b[H\u001b[2J"
     ]
    },
    {
     "name": "stderr",
     "output_type": "stream",
     "text": [
      "Previous HEAD position was b48e3b2 GDPR13C (#1512)\n",
      "HEAD is now at a66c7d4 Unused property removal (#1513)\n"
     ]
    },
    {
     "name": "stdout",
     "output_type": "stream",
     "text": [
      "\u001b[H\u001b[2J"
     ]
    },
    {
     "name": "stderr",
     "output_type": "stream",
     "text": [
      "Previous HEAD position was a66c7d4 Unused property removal (#1513)\n",
      "HEAD is now at 5110b46 Update newScriptPage.html\n"
     ]
    },
    {
     "name": "stdout",
     "output_type": "stream",
     "text": [
      "\u001b[H\u001b[2J"
     ]
    },
    {
     "name": "stderr",
     "output_type": "stream",
     "text": [
      "Previous HEAD position was 5110b46 Update newScriptPage.html\n",
      "HEAD is now at 8700872 Reorder New Script UI (#1514)\n"
     ]
    },
    {
     "name": "stdout",
     "output_type": "stream",
     "text": [
      "\u001b[H\u001b[2J"
     ]
    },
    {
     "name": "stderr",
     "output_type": "stream",
     "text": [
      "Previous HEAD position was 8700872 Reorder New Script UI (#1514)\n",
      "HEAD is now at 5546464 Update README.md\n"
     ]
    },
    {
     "name": "stdout",
     "output_type": "stream",
     "text": [
      "\u001b[H\u001b[2J"
     ]
    },
    {
     "name": "stderr",
     "output_type": "stream",
     "text": [
      "Previous HEAD position was 5546464 Update README.md\n",
      "HEAD is now at 90126c3 Some dep updates (#1515)\n"
     ]
    },
    {
     "name": "stdout",
     "output_type": "stream",
     "text": [
      "\u001b[H\u001b[2J"
     ]
    },
    {
     "name": "stderr",
     "output_type": "stream",
     "text": [
      "Previous HEAD position was 90126c3 Some dep updates (#1515)\n",
      "HEAD is now at 2c492ac Update README.md\n"
     ]
    },
    {
     "name": "stdout",
     "output_type": "stream",
     "text": [
      "\u001b[H\u001b[2J"
     ]
    },
    {
     "name": "stderr",
     "output_type": "stream",
     "text": [
      "Previous HEAD position was 2c492ac Update README.md\n",
      "HEAD is now at 525a3ec Some dep updates (#1517)\n"
     ]
    },
    {
     "name": "stdout",
     "output_type": "stream",
     "text": [
      "\u001b[H\u001b[2J"
     ]
    },
    {
     "name": "stderr",
     "output_type": "stream",
     "text": [
      "Previous HEAD position was 525a3ec Some dep updates (#1517)\n",
      "HEAD is now at be7193f Update Tampermonkey-for-Safari.md\n"
     ]
    },
    {
     "name": "stdout",
     "output_type": "stream",
     "text": [
      "\u001b[H\u001b[2J"
     ]
    },
    {
     "name": "stderr",
     "output_type": "stream",
     "text": [
      "Previous HEAD position was be7193f Update Tampermonkey-for-Safari.md\n",
      "HEAD is now at 0e2b585 Some dep updates (#1518)\n"
     ]
    },
    {
     "name": "stdout",
     "output_type": "stream",
     "text": [
      "\u001b[H\u001b[2J"
     ]
    },
    {
     "name": "stderr",
     "output_type": "stream",
     "text": [
      "Previous HEAD position was 0e2b585 Some dep updates (#1518)\n",
      "HEAD is now at a885a65 A dep change (#1520)\n"
     ]
    },
    {
     "name": "stdout",
     "output_type": "stream",
     "text": [
      "\u001b[H\u001b[2J"
     ]
    },
    {
     "name": "stderr",
     "output_type": "stream",
     "text": [
      "Previous HEAD position was a885a65 A dep change (#1520)\n",
      "HEAD is now at ef6bd40 Fix dev dep to pro (#1521)\n"
     ]
    },
    {
     "name": "stdout",
     "output_type": "stream",
     "text": [
      "\u001b[H\u001b[2J"
     ]
    },
    {
     "name": "stderr",
     "output_type": "stream",
     "text": [
      "Previous HEAD position was ef6bd40 Fix dev dep to pro (#1521)\n",
      "HEAD is now at bc9af7d Some dep updates (#1523)\n"
     ]
    },
    {
     "name": "stdout",
     "output_type": "stream",
     "text": [
      "\u001b[H\u001b[2J"
     ]
    },
    {
     "name": "stderr",
     "output_type": "stream",
     "text": [
      "Previous HEAD position was bc9af7d Some dep updates (#1523)\n",
      "HEAD is now at 4f1022c Migrate to *terser* dep (#1524)\n"
     ]
    },
    {
     "name": "stdout",
     "output_type": "stream",
     "text": [
      "\u001b[H\u001b[2J"
     ]
    },
    {
     "name": "stderr",
     "output_type": "stream",
     "text": [
      "Previous HEAD position was 4f1022c Migrate to *terser* dep (#1524)\n",
      "HEAD is now at 3c36dfa Some dep updates (#1525)\n"
     ]
    },
    {
     "name": "stdout",
     "output_type": "stream",
     "text": [
      "\u001b[H\u001b[2J"
     ]
    },
    {
     "name": "stderr",
     "output_type": "stream",
     "text": [
      "Previous HEAD position was 3c36dfa Some dep updates (#1525)\n",
      "HEAD is now at 81664c8 Swap to Goo relative profile scope (#1527)\n"
     ]
    },
    {
     "name": "stdout",
     "output_type": "stream",
     "text": [
      "\u001b[H\u001b[2J"
     ]
    },
    {
     "name": "stderr",
     "output_type": "stream",
     "text": [
      "Previous HEAD position was 81664c8 Swap to Goo relative profile scope (#1527)\n",
      "HEAD is now at c5cb49c Some dep updates (#1528)\n"
     ]
    },
    {
     "name": "stdout",
     "output_type": "stream",
     "text": [
      "\u001b[H\u001b[2J"
     ]
    },
    {
     "name": "stderr",
     "output_type": "stream",
     "text": [
      "Previous HEAD position was c5cb49c Some dep updates (#1528)\n",
      "HEAD is now at a0d7a9f Fix to non-alias `xpath` of `xquery` base for *highlight.js* dep (#1529)\n"
     ]
    },
    {
     "name": "stdout",
     "output_type": "stream",
     "text": [
      "\u001b[H\u001b[2J"
     ]
    },
    {
     "name": "stderr",
     "output_type": "stream",
     "text": [
      "Previous HEAD position was a0d7a9f Fix to non-alias `xpath` of `xquery` base for *highlight.js* dep (#1529)\n",
      "HEAD is now at 44bc589 Tweak *bootstrap* gutter width (#1530)\n"
     ]
    },
    {
     "name": "stdout",
     "output_type": "stream",
     "text": [
      "\u001b[H\u001b[2J"
     ]
    },
    {
     "name": "stderr",
     "output_type": "stream",
     "text": [
      "Previous HEAD position was 44bc589 Tweak *bootstrap* gutter width (#1530)\n",
      "HEAD is now at 75f0903 Update newScriptPage.html\n"
     ]
    },
    {
     "name": "stdout",
     "output_type": "stream",
     "text": [
      "\u001b[H\u001b[2J"
     ]
    },
    {
     "name": "stderr",
     "output_type": "stream",
     "text": [
      "Previous HEAD position was 75f0903 Update newScriptPage.html\n",
      "HEAD is now at 1f29b34 Some dep updates (#1531)\n"
     ]
    },
    {
     "name": "stdout",
     "output_type": "stream",
     "text": [
      "\u001b[H\u001b[2J"
     ]
    },
    {
     "name": "stderr",
     "output_type": "stream",
     "text": [
      "Previous HEAD position was 1f29b34 Some dep updates (#1531)\n",
      "HEAD is now at 586dfe9 Rework cert detection a bit (#1532)\n"
     ]
    },
    {
     "name": "stdout",
     "output_type": "stream",
     "text": [
      "\u001b[H\u001b[2J"
     ]
    },
    {
     "name": "stderr",
     "output_type": "stream",
     "text": [
      "Previous HEAD position was 586dfe9 Rework cert detection a bit (#1532)\n",
      "HEAD is now at 1dd3737 Fix filename on last commit (#1533)\n"
     ]
    },
    {
     "name": "stdout",
     "output_type": "stream",
     "text": [
      "\u001b[H\u001b[2J"
     ]
    },
    {
     "name": "stderr",
     "output_type": "stream",
     "text": [
      "Previous HEAD position was 1dd3737 Fix filename on last commit (#1533)\n",
      "HEAD is now at 717a2f2 More graceful failure for expired certs (#1534)\n"
     ]
    },
    {
     "name": "stdout",
     "output_type": "stream",
     "text": [
      "\u001b[H\u001b[2J"
     ]
    },
    {
     "name": "stderr",
     "output_type": "stream",
     "text": [
      "Previous HEAD position was 717a2f2 More graceful failure for expired certs (#1534)\n",
      "HEAD is now at e6ebf2d Remove migration routine (#1535)\n"
     ]
    },
    {
     "name": "stdout",
     "output_type": "stream",
     "text": [
      "\u001b[H\u001b[2J"
     ]
    },
    {
     "name": "stderr",
     "output_type": "stream",
     "text": [
      "Previous HEAD position was e6ebf2d Remove migration routine (#1535)\n",
      "HEAD is now at aac2984 Some dep updates (#1536)\n"
     ]
    },
    {
     "name": "stdout",
     "output_type": "stream",
     "text": [
      "\u001b[H\u001b[2J"
     ]
    },
    {
     "name": "stderr",
     "output_type": "stream",
     "text": [
      "Previous HEAD position was aac2984 Some dep updates (#1536)\n",
      "HEAD is now at 397dfb6 Add capability of donations (#1537)\n"
     ]
    },
    {
     "name": "stdout",
     "output_type": "stream",
     "text": [
      "\u001b[H\u001b[2J"
     ]
    },
    {
     "name": "stderr",
     "output_type": "stream",
     "text": [
      "Previous HEAD position was 397dfb6 Add capability of donations (#1537)\n",
      "HEAD is now at c012be8 GDPR14 (#1539)\n"
     ]
    },
    {
     "name": "stdout",
     "output_type": "stream",
     "text": [
      "\u001b[H\u001b[2J"
     ]
    },
    {
     "name": "stderr",
     "output_type": "stream",
     "text": [
      "Previous HEAD position was c012be8 GDPR14 (#1539)\n",
      "HEAD is now at dec5138 GDPR14a (#1540)\n"
     ]
    },
    {
     "name": "stdout",
     "output_type": "stream",
     "text": [
      "\u001b[H\u001b[2J"
     ]
    },
    {
     "name": "stderr",
     "output_type": "stream",
     "text": [
      "Previous HEAD position was dec5138 GDPR14a (#1540)\n",
      "HEAD is now at 2d0e1e9 Some dep updates (#1541)\n"
     ]
    },
    {
     "name": "stdout",
     "output_type": "stream",
     "text": [
      "\u001b[H\u001b[2J"
     ]
    },
    {
     "name": "stderr",
     "output_type": "stream",
     "text": [
      "Previous HEAD position was 2d0e1e9 Some dep updates (#1541)\n",
      "HEAD is now at a85b989 Update url image-size version image (#1542)\n"
     ]
    },
    {
     "name": "stdout",
     "output_type": "stream",
     "text": [
      "\u001b[H\u001b[2J"
     ]
    },
    {
     "name": "stderr",
     "output_type": "stream",
     "text": [
      "Previous HEAD position was a85b989 Update url image-size version image (#1542)\n",
      "HEAD is now at 6bb4c70 System handled monospaced font (#1544)\n"
     ]
    },
    {
     "name": "stdout",
     "output_type": "stream",
     "text": [
      "\u001b[H\u001b[2J"
     ]
    },
    {
     "name": "stderr",
     "output_type": "stream",
     "text": [
      "Previous HEAD position was 6bb4c70 System handled monospaced font (#1544)\n",
      "HEAD is now at f4d9a0d Some dep updates (#1545)\n"
     ]
    },
    {
     "name": "stdout",
     "output_type": "stream",
     "text": [
      "\u001b[H\u001b[2J"
     ]
    },
    {
     "name": "stderr",
     "output_type": "stream",
     "text": [
      "Previous HEAD position was f4d9a0d Some dep updates (#1545)\n",
      "HEAD is now at a7aeb4a Some dep updates (#1546)\n"
     ]
    },
    {
     "name": "stdout",
     "output_type": "stream",
     "text": [
      "\u001b[H\u001b[2J"
     ]
    },
    {
     "name": "stderr",
     "output_type": "stream",
     "text": [
      "Previous HEAD position was a7aeb4a Some dep updates (#1546)\n",
      "HEAD is now at cecbc2e Some dep updates (#1547)\n"
     ]
    },
    {
     "name": "stdout",
     "output_type": "stream",
     "text": [
      "\u001b[H\u001b[2J"
     ]
    },
    {
     "name": "stderr",
     "output_type": "stream",
     "text": [
      "Previous HEAD position was cecbc2e Some dep updates (#1547)\n",
      "HEAD is now at 996dd3c Repair lockdown meta url notice on Source Code page (#1549)\n"
     ]
    },
    {
     "name": "stdout",
     "output_type": "stream",
     "text": [
      "\u001b[H\u001b[2J"
     ]
    },
    {
     "name": "stderr",
     "output_type": "stream",
     "text": [
      "Previous HEAD position was 996dd3c Repair lockdown meta url notice on Source Code page (#1549)\n",
      "HEAD is now at 8175923 A dep update (#1550)\n"
     ]
    },
    {
     "name": "stdout",
     "output_type": "stream",
     "text": [
      "\u001b[H\u001b[2J"
     ]
    },
    {
     "name": "stderr",
     "output_type": "stream",
     "text": [
      "Previous HEAD position was 8175923 A dep update (#1550)\n",
      "HEAD is now at b914392 Some dep updates (#1551)\n"
     ]
    },
    {
     "name": "stdout",
     "output_type": "stream",
     "text": [
      "\u001b[H\u001b[2J"
     ]
    },
    {
     "name": "stderr",
     "output_type": "stream",
     "text": [
      "Previous HEAD position was b914392 Some dep updates (#1551)\n",
      "HEAD is now at 544c9fb Increase `poolSize` depending on multiplier (#1552)\n"
     ]
    },
    {
     "name": "stdout",
     "output_type": "stream",
     "text": [
      "\u001b[H\u001b[2J"
     ]
    },
    {
     "name": "stderr",
     "output_type": "stream",
     "text": [
      "Previous HEAD position was 544c9fb Increase `poolSize` depending on multiplier (#1552)\n",
      "HEAD is now at 0924e00 A dep update (#1553)\n"
     ]
    },
    {
     "name": "stdout",
     "output_type": "stream",
     "text": [
      "\u001b[H\u001b[2J"
     ]
    },
    {
     "name": "stderr",
     "output_type": "stream",
     "text": [
      "Previous HEAD position was 0924e00 A dep update (#1553)\n",
      "HEAD is now at a32e8bc Use URL WHATWG for *mongoose* (#1554)\n"
     ]
    },
    {
     "name": "stdout",
     "output_type": "stream",
     "text": [
      "\u001b[H\u001b[2J"
     ]
    },
    {
     "name": "stderr",
     "output_type": "stream",
     "text": [
      "Previous HEAD position was a32e8bc Use URL WHATWG for *mongoose* (#1554)\n",
      "HEAD is now at ba98526 Change `poolSize` again (#1555)\n"
     ]
    },
    {
     "name": "stdout",
     "output_type": "stream",
     "text": [
      "\u001b[H\u001b[2J"
     ]
    },
    {
     "name": "stderr",
     "output_type": "stream",
     "text": [
      "Previous HEAD position was ba98526 Change `poolSize` again (#1555)\n",
      "HEAD is now at 725bc89 Some dep updates (#1558)\n"
     ]
    },
    {
     "name": "stdout",
     "output_type": "stream",
     "text": [
      "\u001b[H\u001b[2J"
     ]
    },
    {
     "name": "stderr",
     "output_type": "stream",
     "text": [
      "Previous HEAD position was 725bc89 Some dep updates (#1558)\n",
      "HEAD is now at 8c5b531 Some dep exchanges (#1559)\n"
     ]
    },
    {
     "name": "stdout",
     "output_type": "stream",
     "text": [
      "\u001b[H\u001b[2J"
     ]
    },
    {
     "name": "stderr",
     "output_type": "stream",
     "text": [
      "Previous HEAD position was 8c5b531 Some dep exchanges (#1559)\n",
      "HEAD is now at b5a4014 Correct implementation (#1560)\n"
     ]
    },
    {
     "name": "stdout",
     "output_type": "stream",
     "text": [
      "\u001b[H\u001b[2J"
     ]
    },
    {
     "name": "stderr",
     "output_type": "stream",
     "text": [
      "Previous HEAD position was b5a4014 Correct implementation (#1560)\n",
      "HEAD is now at 1248dcb Add a second instance for some more routes (#1561)\n"
     ]
    },
    {
     "name": "stdout",
     "output_type": "stream",
     "text": [
      "\u001b[H\u001b[2J"
     ]
    },
    {
     "name": "stderr",
     "output_type": "stream",
     "text": [
      "Previous HEAD position was 1248dcb Add a second instance for some more routes (#1561)\n",
      "HEAD is now at a43bb8d De *async* login (#1562)\n"
     ]
    },
    {
     "name": "stdout",
     "output_type": "stream",
     "text": [
      "\u001b[H\u001b[2J"
     ]
    },
    {
     "name": "stderr",
     "output_type": "stream",
     "text": [
      "Previous HEAD position was a43bb8d De *async* login (#1562)\n",
      "HEAD is now at 0d61c78 Some dep updates (#1563)\n"
     ]
    },
    {
     "name": "stdout",
     "output_type": "stream",
     "text": [
      "\u001b[H\u001b[2J"
     ]
    },
    {
     "name": "stderr",
     "output_type": "stream",
     "text": [
      "Previous HEAD position was 0d61c78 Some dep updates (#1563)\n",
      "HEAD is now at 35bd18b Tag possible error prone code points (#1564)\n"
     ]
    },
    {
     "name": "stdout",
     "output_type": "stream",
     "text": [
      "\u001b[H\u001b[2J"
     ]
    },
    {
     "name": "stderr",
     "output_type": "stream",
     "text": [
      "Previous HEAD position was 35bd18b Tag possible error prone code points (#1564)\n",
      "HEAD is now at e206bf3 Max flow list rate of 1 req per 3s per IP (#1565)\n"
     ]
    },
    {
     "name": "stdout",
     "output_type": "stream",
     "text": [
      "\u001b[H\u001b[2J"
     ]
    },
    {
     "name": "stderr",
     "output_type": "stream",
     "text": [
      "Previous HEAD position was e206bf3 Max flow list rate of 1 req per 3s per IP (#1565)\n",
      "HEAD is now at 41fb74b Some dep updates (#1566)\n"
     ]
    },
    {
     "name": "stdout",
     "output_type": "stream",
     "text": [
      "\u001b[H\u001b[2J"
     ]
    },
    {
     "name": "stderr",
     "output_type": "stream",
     "text": [
      "Previous HEAD position was 41fb74b Some dep updates (#1566)\n",
      "HEAD is now at b2c69c6 Point dev to newer hosted DB version (#1567)\n"
     ]
    },
    {
     "name": "stdout",
     "output_type": "stream",
     "text": [
      "\u001b[H\u001b[2J"
     ]
    },
    {
     "name": "stderr",
     "output_type": "stream",
     "text": [
      "Previous HEAD position was b2c69c6 Point dev to newer hosted DB version (#1567)\n",
      "HEAD is now at a88cd1b Some dep updates (#1568)\n"
     ]
    },
    {
     "name": "stdout",
     "output_type": "stream",
     "text": [
      "\u001b[H\u001b[2J"
     ]
    },
    {
     "name": "stderr",
     "output_type": "stream",
     "text": [
      "Previous HEAD position was a88cd1b Some dep updates (#1568)\n",
      "HEAD is now at 51eae72 Change limits... stricter (#1569)\n"
     ]
    },
    {
     "name": "stdout",
     "output_type": "stream",
     "text": [
      "\u001b[H\u001b[2J"
     ]
    },
    {
     "name": "stderr",
     "output_type": "stream",
     "text": [
      "Previous HEAD position was 51eae72 Change limits... stricter (#1569)\n",
      "HEAD is now at 0781f17 Set DB expiration to rolling instead of static (#1570)\n"
     ]
    },
    {
     "name": "stdout",
     "output_type": "stream",
     "text": [
      "\u001b[H\u001b[2J"
     ]
    },
    {
     "name": "stderr",
     "output_type": "stream",
     "text": [
      "Previous HEAD position was 0781f17 Set DB expiration to rolling instead of static (#1570)\n",
      "HEAD is now at 81de21b Restrict a few more routes (#1571)\n"
     ]
    },
    {
     "name": "stdout",
     "output_type": "stream",
     "text": [
      "\u001b[H\u001b[2J"
     ]
    },
    {
     "name": "stderr",
     "output_type": "stream",
     "text": [
      "Previous HEAD position was 81de21b Restrict a few more routes (#1571)\n",
      "HEAD is now at fe03d91 Taper off on notices (#1572)\n"
     ]
    },
    {
     "name": "stdout",
     "output_type": "stream",
     "text": [
      "\u001b[H\u001b[2J"
     ]
    },
    {
     "name": "stderr",
     "output_type": "stream",
     "text": [
      "Previous HEAD position was fe03d91 Taper off on notices (#1572)\n",
      "HEAD is now at 4250e25 Squash a deprecation in our Code base (#1573)\n"
     ]
    },
    {
     "name": "stdout",
     "output_type": "stream",
     "text": [
      "\u001b[H\u001b[2J"
     ]
    },
    {
     "name": "stderr",
     "output_type": "stream",
     "text": [
      "Previous HEAD position was 4250e25 Squash a deprecation in our Code base (#1573)\n",
      "HEAD is now at d3a782d Some dep updates (#1574)\n"
     ]
    },
    {
     "name": "stdout",
     "output_type": "stream",
     "text": [
      "\u001b[H\u001b[2J"
     ]
    },
    {
     "name": "stderr",
     "output_type": "stream",
     "text": [
      "Previous HEAD position was d3a782d Some dep updates (#1574)\n",
      "HEAD is now at 3aa89f3 Some dep updates (#1575)\n"
     ]
    },
    {
     "name": "stdout",
     "output_type": "stream",
     "text": [
      "\u001b[H\u001b[2J"
     ]
    },
    {
     "name": "stderr",
     "output_type": "stream",
     "text": [
      "Previous HEAD position was 3aa89f3 Some dep updates (#1575)\n",
      "HEAD is now at 3afb080 Isolated dep update (#1576)\n"
     ]
    },
    {
     "name": "stdout",
     "output_type": "stream",
     "text": [
      "\u001b[H\u001b[2J"
     ]
    },
    {
     "name": "stderr",
     "output_type": "stream",
     "text": [
      "Previous HEAD position was 3afb080 Isolated dep update (#1576)\n",
      "HEAD is now at af3bd6a Ignore source translation requests (#1577)\n"
     ]
    },
    {
     "name": "stdout",
     "output_type": "stream",
     "text": [
      "\u001b[H\u001b[2J"
     ]
    },
    {
     "name": "stderr",
     "output_type": "stream",
     "text": [
      "Previous HEAD position was af3bd6a Ignore source translation requests (#1577)\n",
      "HEAD is now at 68ebc62 Update README.md\n"
     ]
    },
    {
     "name": "stdout",
     "output_type": "stream",
     "text": [
      "\u001b[H\u001b[2J"
     ]
    },
    {
     "name": "stderr",
     "output_type": "stream",
     "text": [
      "Previous HEAD position was 68ebc62 Update README.md\n",
      "HEAD is now at dd4de48 Collation on `find` for applicable models (WIP) (#1578)\n"
     ]
    },
    {
     "name": "stdout",
     "output_type": "stream",
     "text": [
      "\u001b[H\u001b[2J"
     ]
    },
    {
     "name": "stderr",
     "output_type": "stream",
     "text": [
      "Previous HEAD position was dd4de48 Collation on `find` for applicable models (WIP) (#1578)\n",
      "HEAD is now at 69e99bc Force lowercase in groups (#1579)\n"
     ]
    },
    {
     "name": "stdout",
     "output_type": "stream",
     "text": [
      "\u001b[H\u001b[2J"
     ]
    },
    {
     "name": "stderr",
     "output_type": "stream",
     "text": [
      "Previous HEAD position was 69e99bc Force lowercase in groups (#1579)\n",
      "HEAD is now at ffa194b Remove empty groups (#1580)\n"
     ]
    },
    {
     "name": "stdout",
     "output_type": "stream",
     "text": [
      "\u001b[H\u001b[2J"
     ]
    },
    {
     "name": "stderr",
     "output_type": "stream",
     "text": [
      "Previous HEAD position was ffa194b Remove empty groups (#1580)\n",
      "HEAD is now at 4a43ab0 Fix scripts with incorrect counts and only one (#1581)\n"
     ]
    },
    {
     "name": "stdout",
     "output_type": "stream",
     "text": [
      "\u001b[H\u001b[2J"
     ]
    },
    {
     "name": "stderr",
     "output_type": "stream",
     "text": [
      "Previous HEAD position was 4a43ab0 Fix scripts with incorrect counts and only one (#1581)\n",
      "HEAD is now at 31d31bc (Mean + Median)/2 fix (#1582)\n"
     ]
    },
    {
     "name": "stdout",
     "output_type": "stream",
     "text": [
      "\u001b[H\u001b[2J"
     ]
    },
    {
     "name": "stderr",
     "output_type": "stream",
     "text": [
      "Previous HEAD position was 31d31bc (Mean + Median)/2 fix (#1582)\n",
      "HEAD is now at 1fab643 Similar mirror MongoDB traps to other section of group control (#1583)\n"
     ]
    },
    {
     "name": "stdout",
     "output_type": "stream",
     "text": [
      "\u001b[H\u001b[2J"
     ]
    },
    {
     "name": "stderr",
     "output_type": "stream",
     "text": [
      "Previous HEAD position was 1fab643 Similar mirror MongoDB traps to other section of group control (#1583)\n",
      "HEAD is now at 290ab64 Update Falkon.md\n"
     ]
    },
    {
     "name": "stdout",
     "output_type": "stream",
     "text": [
      "\u001b[H\u001b[2J"
     ]
    },
    {
     "name": "stderr",
     "output_type": "stream",
     "text": [
      "Previous HEAD position was 290ab64 Update Falkon.md\n",
      "HEAD is now at 36d39c4 Admin+ `_since` for Groups (#1584)\n"
     ]
    },
    {
     "name": "stdout",
     "output_type": "stream",
     "text": [
      "\u001b[H\u001b[2J"
     ]
    },
    {
     "name": "stderr",
     "output_type": "stream",
     "text": [
      "Previous HEAD position was 36d39c4 Admin+ `_since` for Groups (#1584)\n",
      "HEAD is now at bf885af Fix bug with `votes` count (#1585)\n"
     ]
    },
    {
     "name": "stdout",
     "output_type": "stream",
     "text": [
      "\u001b[H\u001b[2J"
     ]
    },
    {
     "name": "stderr",
     "output_type": "stream",
     "text": [
      "Previous HEAD position was bf885af Fix bug with `votes` count (#1585)\n",
      "HEAD is now at 681501c Remove `users` route manage since not applied yet (#1586)\n"
     ]
    },
    {
     "name": "stdout",
     "output_type": "stream",
     "text": [
      "\u001b[H\u001b[2J"
     ]
    },
    {
     "name": "stderr",
     "output_type": "stream",
     "text": [
      "Previous HEAD position was 681501c Remove `users` route manage since not applied yet (#1586)\n",
      "HEAD is now at 275067d Refix `votes` (#1587)\n"
     ]
    },
    {
     "name": "stdout",
     "output_type": "stream",
     "text": [
      "\u001b[H\u001b[2J"
     ]
    },
    {
     "name": "stderr",
     "output_type": "stream",
     "text": [
      "Previous HEAD position was 275067d Refix `votes` (#1587)\n",
      "HEAD is now at 3d8e773 Remove commented line (#1588)\n"
     ]
    },
    {
     "name": "stdout",
     "output_type": "stream",
     "text": [
      "\u001b[H\u001b[2J"
     ]
    },
    {
     "name": "stderr",
     "output_type": "stream",
     "text": [
      "Previous HEAD position was 3d8e773 Remove commented line (#1588)\n",
      "HEAD is now at eb3a963 Some dep updates (#1589)\n"
     ]
    },
    {
     "name": "stdout",
     "output_type": "stream",
     "text": [
      "\u001b[H\u001b[2J"
     ]
    },
    {
     "name": "stderr",
     "output_type": "stream",
     "text": [
      "Previous HEAD position was eb3a963 Some dep updates (#1589)\n",
      "HEAD is now at 4135cca Some dep updates (#1590)\n"
     ]
    },
    {
     "name": "stdout",
     "output_type": "stream",
     "text": [
      "\u001b[H\u001b[2J"
     ]
    },
    {
     "name": "stderr",
     "output_type": "stream",
     "text": [
      "Previous HEAD position was 4135cca Some dep updates (#1590)\n",
      "HEAD is now at 7d15521 Some dep updates (#1591)\n"
     ]
    },
    {
     "name": "stdout",
     "output_type": "stream",
     "text": [
      "\u001b[H\u001b[2J"
     ]
    },
    {
     "name": "stderr",
     "output_type": "stream",
     "text": [
      "Previous HEAD position was 7d15521 Some dep updates (#1591)\n",
      "HEAD is now at 182fc9d Some dep updates (#1592)\n"
     ]
    },
    {
     "name": "stdout",
     "output_type": "stream",
     "text": [
      "\u001b[H\u001b[2J"
     ]
    },
    {
     "name": "stderr",
     "output_type": "stream",
     "text": [
      "Previous HEAD position was 182fc9d Some dep updates (#1592)\n",
      "HEAD is now at 7843b47 Update Opera.md\n"
     ]
    },
    {
     "name": "stdout",
     "output_type": "stream",
     "text": [
      "\u001b[H\u001b[2J"
     ]
    },
    {
     "name": "stderr",
     "output_type": "stream",
     "text": [
      "Previous HEAD position was 7843b47 Update Opera.md\n",
      "HEAD is now at ecf36af Some dep updates (#1594)\n"
     ]
    },
    {
     "name": "stdout",
     "output_type": "stream",
     "text": [
      "\u001b[H\u001b[2J"
     ]
    },
    {
     "name": "stderr",
     "output_type": "stream",
     "text": [
      "Previous HEAD position was ecf36af Some dep updates (#1594)\n",
      "HEAD is now at 810b73e Reenable new goo auths\n"
     ]
    },
    {
     "name": "stdout",
     "output_type": "stream",
     "text": [
      "\u001b[H\u001b[2J"
     ]
    },
    {
     "name": "stderr",
     "output_type": "stream",
     "text": [
      "Previous HEAD position was 810b73e Reenable new goo auths\n",
      "HEAD is now at 4c0d934 Back-out most of #564\n"
     ]
    },
    {
     "name": "stdout",
     "output_type": "stream",
     "text": [
      "\u001b[H\u001b[2J"
     ]
    },
    {
     "name": "stderr",
     "output_type": "stream",
     "text": [
      "Previous HEAD position was 4c0d934 Back-out most of #564\n",
      "HEAD is now at 1e8ca74 Update README.md\n"
     ]
    },
    {
     "name": "stdout",
     "output_type": "stream",
     "text": [
      "\u001b[H\u001b[2J"
     ]
    },
    {
     "name": "stderr",
     "output_type": "stream",
     "text": [
      "Previous HEAD position was 1e8ca74 Update README.md\n",
      "HEAD is now at 8859d6a Some simplification of dev tool findbom.sh\n"
     ]
    },
    {
     "name": "stdout",
     "output_type": "stream",
     "text": [
      "\u001b[H\u001b[2J"
     ]
    },
    {
     "name": "stderr",
     "output_type": "stream",
     "text": [
      "Previous HEAD position was 8859d6a Some simplification of dev tool findbom.sh\n",
      "HEAD is now at 3478c9c Up listLimiter a little and add low level ban routine (#1597)\n"
     ]
    },
    {
     "name": "stdout",
     "output_type": "stream",
     "text": [
      "\u001b[H\u001b[2J"
     ]
    },
    {
     "name": "stderr",
     "output_type": "stream",
     "text": [
      "Previous HEAD position was 3478c9c Up listLimiter a little and add low level ban routine (#1597)\n",
      "HEAD is now at cef73cb Show brief reminder of limit approaching (#1598)\n"
     ]
    },
    {
     "name": "stdout",
     "output_type": "stream",
     "text": [
      "\u001b[H\u001b[2J"
     ]
    },
    {
     "name": "stderr",
     "output_type": "stream",
     "text": [
      "Previous HEAD position was cef73cb Show brief reminder of limit approaching (#1598)\n",
      "HEAD is now at 4523d02 Alter mime type (#1599)\n"
     ]
    },
    {
     "name": "stdout",
     "output_type": "stream",
     "text": [
      "\u001b[H\u001b[2J"
     ]
    },
    {
     "name": "stderr",
     "output_type": "stream",
     "text": [
      "Previous HEAD position was 4523d02 Alter mime type (#1599)\n",
      "HEAD is now at 723ae53 Some dep updates (#1600)\n"
     ]
    },
    {
     "name": "stdout",
     "output_type": "stream",
     "text": [
      "\u001b[H\u001b[2J"
     ]
    },
    {
     "name": "stderr",
     "output_type": "stream",
     "text": [
      "Previous HEAD position was 723ae53 Some dep updates (#1600)\n",
      "HEAD is now at 1c8d695 SDPX update\n"
     ]
    },
    {
     "name": "stdout",
     "output_type": "stream",
     "text": [
      "\u001b[H\u001b[2J"
     ]
    },
    {
     "name": "stderr",
     "output_type": "stream",
     "text": [
      "Previous HEAD position was 1c8d695 SDPX update\n",
      "HEAD is now at 5d7765b Fix base origin\n"
     ]
    },
    {
     "name": "stdout",
     "output_type": "stream",
     "text": [
      "\u001b[H\u001b[2J"
     ]
    },
    {
     "name": "stderr",
     "output_type": "stream",
     "text": [
      "Previous HEAD position was 5d7765b Fix base origin\n",
      "HEAD is now at dea0927 Some dep updates (#1602)\n"
     ]
    },
    {
     "name": "stdout",
     "output_type": "stream",
     "text": [
      "\u001b[H\u001b[2J"
     ]
    },
    {
     "name": "stderr",
     "output_type": "stream",
     "text": [
      "Previous HEAD position was dea0927 Some dep updates (#1602)\n",
      "HEAD is now at 9ff74b8 Migrate to *node*@12.0.0 (#1603)\n"
     ]
    },
    {
     "name": "stdout",
     "output_type": "stream",
     "text": [
      "\u001b[H\u001b[2J"
     ]
    },
    {
     "name": "stderr",
     "output_type": "stream",
     "text": [
      "Previous HEAD position was 9ff74b8 Migrate to *node*@12.0.0 (#1603)\n",
      "HEAD is now at f2b3b2d Update LICENSE (#1604)\n"
     ]
    },
    {
     "name": "stdout",
     "output_type": "stream",
     "text": [
      "\u001b[H\u001b[2J"
     ]
    },
    {
     "name": "stderr",
     "output_type": "stream",
     "text": [
      "Previous HEAD position was f2b3b2d Update LICENSE (#1604)\n",
      "HEAD is now at a68a8e9 Some dep updates (#1605)\n"
     ]
    },
    {
     "name": "stdout",
     "output_type": "stream",
     "text": [
      "\u001b[H\u001b[2J"
     ]
    },
    {
     "name": "stderr",
     "output_type": "stream",
     "text": [
      "Previous HEAD position was a68a8e9 Some dep updates (#1605)\n",
      "HEAD is now at d86f5d8 GM4 doc update (#1606)\n"
     ]
    },
    {
     "name": "stdout",
     "output_type": "stream",
     "text": [
      "\u001b[H\u001b[2J"
     ]
    },
    {
     "name": "stderr",
     "output_type": "stream",
     "text": [
      "Previous HEAD position was d86f5d8 GM4 doc update (#1606)\n",
      "HEAD is now at 3125806 Some dep updates (#1607)\n"
     ]
    },
    {
     "name": "stdout",
     "output_type": "stream",
     "text": [
      "\u001b[H\u001b[2J"
     ]
    },
    {
     "name": "stderr",
     "output_type": "stream",
     "text": [
      "Previous HEAD position was 3125806 Some dep updates (#1607)\n",
      "HEAD is now at 8d19bd6 Some more error handling (#1608)\n"
     ]
    },
    {
     "name": "stdout",
     "output_type": "stream",
     "text": [
      "\u001b[H\u001b[2J"
     ]
    },
    {
     "name": "stderr",
     "output_type": "stream",
     "text": [
      "Previous HEAD position was 8d19bd6 Some more error handling (#1608)\n",
      "HEAD is now at 015954e Some dep updates (#1609)\n"
     ]
    },
    {
     "name": "stdout",
     "output_type": "stream",
     "text": [
      "\u001b[H\u001b[2J"
     ]
    },
    {
     "name": "stderr",
     "output_type": "stream",
     "text": [
      "Previous HEAD position was 015954e Some dep updates (#1609)\n",
      "HEAD is now at a55aa7b Some dep updates (#1611)\n"
     ]
    },
    {
     "name": "stdout",
     "output_type": "stream",
     "text": [
      "\u001b[H\u001b[2J"
     ]
    },
    {
     "name": "stderr",
     "output_type": "stream",
     "text": [
      "Previous HEAD position was a55aa7b Some dep updates (#1611)\n",
      "HEAD is now at b99eda8 Clarify instructions and add some possible caveats (#1612)\n"
     ]
    },
    {
     "name": "stdout",
     "output_type": "stream",
     "text": [
      "\u001b[H\u001b[2J"
     ]
    },
    {
     "name": "stderr",
     "output_type": "stream",
     "text": [
      "Previous HEAD position was b99eda8 Clarify instructions and add some possible caveats (#1612)\n",
      "HEAD is now at 12b77b3 Nomenclature tweak for GH (#1613)\n"
     ]
    },
    {
     "name": "stdout",
     "output_type": "stream",
     "text": [
      "\u001b[H\u001b[2J"
     ]
    },
    {
     "name": "stderr",
     "output_type": "stream",
     "text": [
      "Previous HEAD position was 12b77b3 Nomenclature tweak for GH (#1613)\n",
      "HEAD is now at e303db4 Styling tweaks (#1614)\n"
     ]
    },
    {
     "name": "stdout",
     "output_type": "stream",
     "text": [
      "\u001b[H\u001b[2J"
     ]
    },
    {
     "name": "stderr",
     "output_type": "stream",
     "text": [
      "Previous HEAD position was e303db4 Styling tweaks (#1614)\n",
      "HEAD is now at a6c8116 Always show the comment reply form (#1615)\n"
     ]
    },
    {
     "name": "stdout",
     "output_type": "stream",
     "text": [
      "\u001b[H\u001b[2J"
     ]
    },
    {
     "name": "stderr",
     "output_type": "stream",
     "text": [
      "Previous HEAD position was a6c8116 Always show the comment reply form (#1615)\n",
      "HEAD is now at 16325be Missed conditional removal (#1616)\n"
     ]
    },
    {
     "name": "stdout",
     "output_type": "stream",
     "text": [
      "\u001b[H\u001b[2J"
     ]
    },
    {
     "name": "stderr",
     "output_type": "stream",
     "text": [
      "Previous HEAD position was 16325be Missed conditional removal (#1616)\n",
      "HEAD is now at 78651a6 Some dep updates (#1617)\n"
     ]
    },
    {
     "name": "stdout",
     "output_type": "stream",
     "text": [
      "\u001b[H\u001b[2J"
     ]
    },
    {
     "name": "stderr",
     "output_type": "stream",
     "text": [
      "Previous HEAD position was 78651a6 Some dep updates (#1617)\n",
      "HEAD is now at adf4c82 Some dep updates (#1618)\n"
     ]
    },
    {
     "name": "stdout",
     "output_type": "stream",
     "text": [
      "\u001b[H\u001b[2J"
     ]
    },
    {
     "name": "stderr",
     "output_type": "stream",
     "text": [
      "Previous HEAD position was adf4c82 Some dep updates (#1618)\n",
      "HEAD is now at d4fa972 Resquash for pro a mongoDB/*mongoose* deprecation (#1619)\n"
     ]
    },
    {
     "name": "stdout",
     "output_type": "stream",
     "text": [
      "\u001b[H\u001b[2J"
     ]
    },
    {
     "name": "stderr",
     "output_type": "stream",
     "text": [
      "Previous HEAD position was d4fa972 Resquash for pro a mongoDB/*mongoose* deprecation (#1619)\n",
      "HEAD is now at 52ba40d A dep update/change (#1620)\n"
     ]
    },
    {
     "name": "stdout",
     "output_type": "stream",
     "text": [
      "\u001b[H\u001b[2J"
     ]
    },
    {
     "name": "stderr",
     "output_type": "stream",
     "text": [
      "Previous HEAD position was 52ba40d A dep update/change (#1620)\n",
      "HEAD is now at c86228c Some dep updates (#1621)\n"
     ]
    },
    {
     "name": "stdout",
     "output_type": "stream",
     "text": [
      "\u001b[H\u001b[2J"
     ]
    },
    {
     "name": "stderr",
     "output_type": "stream",
     "text": [
      "Previous HEAD position was c86228c Some dep updates (#1621)\n",
      "HEAD is now at 5e9df4d A dep update (#1622)\n"
     ]
    },
    {
     "name": "stdout",
     "output_type": "stream",
     "text": [
      "\u001b[H\u001b[2J"
     ]
    },
    {
     "name": "stderr",
     "output_type": "stream",
     "text": [
      "Previous HEAD position was 5e9df4d A dep update (#1622)\n",
      "HEAD is now at dc9be9b Some dep updates (#1623)\n"
     ]
    },
    {
     "name": "stdout",
     "output_type": "stream",
     "text": [
      "\u001b[H\u001b[2J"
     ]
    },
    {
     "name": "stderr",
     "output_type": "stream",
     "text": [
      "Previous HEAD position was dc9be9b Some dep updates (#1623)\n",
      "HEAD is now at 132e699 Normalize to non-replica (#1624)\n"
     ]
    },
    {
     "name": "stdout",
     "output_type": "stream",
     "text": [
      "\u001b[H\u001b[2J"
     ]
    },
    {
     "name": "stderr",
     "output_type": "stream",
     "text": [
      "Previous HEAD position was 132e699 Normalize to non-replica (#1624)\n",
      "HEAD is now at 00254e0 Add Cốc Cốc UA fair use image and matching CSS (#1625)\n"
     ]
    },
    {
     "name": "stdout",
     "output_type": "stream",
     "text": [
      "\u001b[H\u001b[2J"
     ]
    },
    {
     "name": "stderr",
     "output_type": "stream",
     "text": [
      "Previous HEAD position was 00254e0 Add Cốc Cốc UA fair use image and matching CSS (#1625)\n",
      "HEAD is now at 4f1c94b Bigger pool size (#1626)\n"
     ]
    },
    {
     "name": "stdout",
     "output_type": "stream",
     "text": [
      "\u001b[H\u001b[2J"
     ]
    },
    {
     "name": "stderr",
     "output_type": "stream",
     "text": [
      "Previous HEAD position was 4f1c94b Bigger pool size (#1626)\n",
      "HEAD is now at 0126e86 Some dep updates (#1627)\n"
     ]
    },
    {
     "name": "stdout",
     "output_type": "stream",
     "text": [
      "\u001b[H\u001b[2J"
     ]
    },
    {
     "name": "stderr",
     "output_type": "stream",
     "text": [
      "Previous HEAD position was 0126e86 Some dep updates (#1627)\n",
      "HEAD is now at 4dbc206 Update README.md\n"
     ]
    },
    {
     "name": "stdout",
     "output_type": "stream",
     "text": [
      "\u001b[H\u001b[2J"
     ]
    },
    {
     "name": "stderr",
     "output_type": "stream",
     "text": [
      "Previous HEAD position was 4dbc206 Update README.md\n",
      "HEAD is now at 2df9157 Rollback back-end *node* engine support to LTS (#1628)\n"
     ]
    },
    {
     "name": "stdout",
     "output_type": "stream",
     "text": [
      "\u001b[H\u001b[2J"
     ]
    },
    {
     "name": "stderr",
     "output_type": "stream",
     "text": [
      "Previous HEAD position was 2df9157 Rollback back-end *node* engine support to LTS (#1628)\n",
      "HEAD is now at 1923b57 More limits (Plan B) (#1629)\n"
     ]
    },
    {
     "name": "stdout",
     "output_type": "stream",
     "text": [
      "\u001b[H\u001b[2J"
     ]
    },
    {
     "name": "stderr",
     "output_type": "stream",
     "text": [
      "Previous HEAD position was 1923b57 More limits (Plan B) (#1629)\n",
      "HEAD is now at 122e186 Improve user query terms hits (#1630)\n"
     ]
    },
    {
     "name": "stdout",
     "output_type": "stream",
     "text": [
      "\u001b[H\u001b[2J"
     ]
    },
    {
     "name": "stderr",
     "output_type": "stream",
     "text": [
      "Previous HEAD position was 122e186 Improve user query terms hits (#1630)\n",
      "HEAD is now at 3c42cb6 Abstract some limits (#1631)\n"
     ]
    },
    {
     "name": "stdout",
     "output_type": "stream",
     "text": [
      "\u001b[H\u001b[2J"
     ]
    },
    {
     "name": "stderr",
     "output_type": "stream",
     "text": [
      "Previous HEAD position was 3c42cb6 Abstract some limits (#1631)\n",
      "HEAD is now at 396f609 Show script notices a little more prominently (#1632)\n"
     ]
    },
    {
     "name": "stdout",
     "output_type": "stream",
     "text": [
      "\u001b[H\u001b[2J"
     ]
    },
    {
     "name": "stderr",
     "output_type": "stream",
     "text": [
      "Previous HEAD position was 396f609 Show script notices a little more prominently (#1632)\n",
      "HEAD is now at aaf8c4c Create critical notices conditionals (#1633)\n"
     ]
    },
    {
     "name": "stdout",
     "output_type": "stream",
     "text": [
      "\u001b[H\u001b[2J"
     ]
    },
    {
     "name": "stderr",
     "output_type": "stream",
     "text": [
      "Previous HEAD position was aaf8c4c Create critical notices conditionals (#1633)\n",
      "HEAD is now at d0c33d5 Repair some meta and relax detection a bit. (#1634)\n"
     ]
    },
    {
     "name": "stdout",
     "output_type": "stream",
     "text": [
      "\u001b[H\u001b[2J"
     ]
    },
    {
     "name": "stderr",
     "output_type": "stream",
     "text": [
      "Previous HEAD position was d0c33d5 Repair some meta and relax detection a bit. (#1634)\n",
      "HEAD is now at ecaffad Update Frequently-Asked-Questions.md\n"
     ]
    },
    {
     "name": "stdout",
     "output_type": "stream",
     "text": [
      "\u001b[H\u001b[2J"
     ]
    },
    {
     "name": "stderr",
     "output_type": "stream",
     "text": [
      "Previous HEAD position was ecaffad Update Frequently-Asked-Questions.md\n",
      "HEAD is now at 36fde37 Update Pale-Moon.md\n"
     ]
    },
    {
     "name": "stdout",
     "output_type": "stream",
     "text": [
      "\u001b[H\u001b[2J"
     ]
    },
    {
     "name": "stderr",
     "output_type": "stream",
     "text": [
      "Previous HEAD position was 36fde37 Update Pale-Moon.md\n",
      "HEAD is now at e4acf15 Some dep updates (#1635)\n"
     ]
    },
    {
     "name": "stdout",
     "output_type": "stream",
     "text": [
      "\u001b[H\u001b[2J"
     ]
    },
    {
     "name": "stderr",
     "output_type": "stream",
     "text": [
      "Previous HEAD position was e4acf15 Some dep updates (#1635)\n",
      "HEAD is now at 660fafd Don't interfere w/ Context menu with active text selecting (#1636)\n"
     ]
    },
    {
     "name": "stdout",
     "output_type": "stream",
     "text": [
      "\u001b[H\u001b[2J"
     ]
    },
    {
     "name": "stderr",
     "output_type": "stream",
     "text": [
      "Previous HEAD position was 660fafd Don't interfere w/ Context menu with active text selecting (#1636)\n",
      "HEAD is now at b5cb5c9 Alt libs check (#1638)\n"
     ]
    },
    {
     "name": "stdout",
     "output_type": "stream",
     "text": [
      "\u001b[H\u001b[2J"
     ]
    },
    {
     "name": "stderr",
     "output_type": "stream",
     "text": [
      "Previous HEAD position was b5cb5c9 Alt libs check (#1638)\n",
      "HEAD is now at 38691df Some validation of existence of OUJS accounts for collaboration (#1639)\n"
     ]
    },
    {
     "name": "stdout",
     "output_type": "stream",
     "text": [
      "\u001b[H\u001b[2J"
     ]
    },
    {
     "name": "stderr",
     "output_type": "stream",
     "text": [
      "Previous HEAD position was 38691df Some validation of existence of OUJS accounts for collaboration (#1639)\n",
      "HEAD is now at 884eca9 Some dep updates (#1640)\n"
     ]
    },
    {
     "name": "stdout",
     "output_type": "stream",
     "text": [
      "\u001b[H\u001b[2J"
     ]
    },
    {
     "name": "stderr",
     "output_type": "stream",
     "text": [
      "Previous HEAD position was 884eca9 Some dep updates (#1640)\n",
      "HEAD is now at e48af2a Add some JSHint overrides (#1641)\n"
     ]
    },
    {
     "name": "stdout",
     "output_type": "stream",
     "text": [
      "\u001b[H\u001b[2J"
     ]
    },
    {
     "name": "stderr",
     "output_type": "stream",
     "text": [
      "Previous HEAD position was e48af2a Add some JSHint overrides (#1641)\n",
      "HEAD is now at 104eb43 Enable default to Mozilla JS *(5.1) syntax (#1642)\n"
     ]
    },
    {
     "name": "stdout",
     "output_type": "stream",
     "text": [
      "\u001b[H\u001b[2J"
     ]
    },
    {
     "name": "stderr",
     "output_type": "stream",
     "text": [
      "Previous HEAD position was 104eb43 Enable default to Mozilla JS *(5.1) syntax (#1642)\n",
      "HEAD is now at 88d2927 Increase notices max (#1643)\n"
     ]
    },
    {
     "name": "stdout",
     "output_type": "stream",
     "text": [
      "\u001b[H\u001b[2J"
     ]
    },
    {
     "name": "stderr",
     "output_type": "stream",
     "text": [
      "Previous HEAD position was 88d2927 Increase notices max (#1643)\n",
      "HEAD is now at e0c25b0 More JSHint opts (#1644)\n"
     ]
    },
    {
     "name": "stdout",
     "output_type": "stream",
     "text": [
      "\u001b[H\u001b[2J"
     ]
    },
    {
     "name": "stderr",
     "output_type": "stream",
     "text": [
      "Previous HEAD position was e0c25b0 More JSHint opts (#1644)\n",
      "HEAD is now at 3cd6af6 Disable == null messages (#1645)\n"
     ]
    },
    {
     "name": "stdout",
     "output_type": "stream",
     "text": [
      "\u001b[H\u001b[2J"
     ]
    },
    {
     "name": "stderr",
     "output_type": "stream",
     "text": [
      "Previous HEAD position was 3cd6af6 Disable == null messages (#1645)\n",
      "HEAD is now at 4672eeb Disable `Bad escaping of EOL. Use option multistr if needed.` (#1646)\n"
     ]
    },
    {
     "name": "stdout",
     "output_type": "stream",
     "text": [
      "\u001b[H\u001b[2J"
     ]
    },
    {
     "name": "stderr",
     "output_type": "stream",
     "text": [
      "Previous HEAD position was 4672eeb Disable `Bad escaping of EOL. Use option multistr if needed.` (#1646)\n",
      "HEAD is now at 404695f Some more JSHint changes (#1647)\n"
     ]
    },
    {
     "name": "stdout",
     "output_type": "stream",
     "text": [
      "\u001b[H\u001b[2J"
     ]
    },
    {
     "name": "stderr",
     "output_type": "stream",
     "text": [
      "Previous HEAD position was 404695f Some more JSHint changes (#1647)\n",
      "HEAD is now at 6a49d12 Undo strict option (#1648)\n"
     ]
    },
    {
     "name": "stdout",
     "output_type": "stream",
     "text": [
      "\u001b[H\u001b[2J"
     ]
    },
    {
     "name": "stderr",
     "output_type": "stream",
     "text": [
      "Previous HEAD position was 6a49d12 Undo strict option (#1648)\n",
      "HEAD is now at 5d1b9af Reenable strict implied with exception (#1649)\n"
     ]
    },
    {
     "name": "stdout",
     "output_type": "stream",
     "text": [
      "\u001b[H\u001b[2J"
     ]
    },
    {
     "name": "stderr",
     "output_type": "stream",
     "text": [
      "Previous HEAD position was 5d1b9af Reenable strict implied with exception (#1649)\n",
      "HEAD is now at e6823f3 Some dep updates (#1651)\n"
     ]
    },
    {
     "name": "stdout",
     "output_type": "stream",
     "text": [
      "\u001b[H\u001b[2J"
     ]
    },
    {
     "name": "stderr",
     "output_type": "stream",
     "text": [
      "Previous HEAD position was e6823f3 Some dep updates (#1651)\n",
      "HEAD is now at 8f00b7f Change beautify (#1652)\n"
     ]
    },
    {
     "name": "stdout",
     "output_type": "stream",
     "text": [
      "\u001b[H\u001b[2J"
     ]
    },
    {
     "name": "stderr",
     "output_type": "stream",
     "text": [
      "Previous HEAD position was 8f00b7f Change beautify (#1652)\n",
      "HEAD is now at 644db48 Add a linter FAQ (#1653)\n"
     ]
    },
    {
     "name": "stdout",
     "output_type": "stream",
     "text": [
      "\u001b[H\u001b[2J"
     ]
    },
    {
     "name": "stderr",
     "output_type": "stream",
     "text": [
      "Previous HEAD position was 644db48 Add a linter FAQ (#1653)\n",
      "HEAD is now at 4bc8006 Update Frequently-Asked-Questions.md\n"
     ]
    },
    {
     "name": "stdout",
     "output_type": "stream",
     "text": [
      "\u001b[H\u001b[2J"
     ]
    },
    {
     "name": "stderr",
     "output_type": "stream",
     "text": [
      "Previous HEAD position was 4bc8006 Update Frequently-Asked-Questions.md\n",
      "HEAD is now at 11257f7 Update Frequently-Asked-Questions.md\n"
     ]
    },
    {
     "name": "stdout",
     "output_type": "stream",
     "text": [
      "\u001b[H\u001b[2J"
     ]
    },
    {
     "name": "stderr",
     "output_type": "stream",
     "text": [
      "Previous HEAD position was 11257f7 Update Frequently-Asked-Questions.md\n",
      "HEAD is now at f145cf9 Update Frequently-Asked-Questions.md\n"
     ]
    },
    {
     "name": "stdout",
     "output_type": "stream",
     "text": [
      "\u001b[H\u001b[2J"
     ]
    },
    {
     "name": "stderr",
     "output_type": "stream",
     "text": [
      "Previous HEAD position was f145cf9 Update Frequently-Asked-Questions.md\n",
      "HEAD is now at 7550405 Clarify `@updateURL` and `@downloadURL` notices (#1654)\n"
     ]
    },
    {
     "name": "stdout",
     "output_type": "stream",
     "text": [
      "\u001b[H\u001b[2J"
     ]
    },
    {
     "name": "stderr",
     "output_type": "stream",
     "text": [
      "Previous HEAD position was 7550405 Clarify `@updateURL` and `@downloadURL` notices (#1654)\n",
      "HEAD is now at 42b9c44 Update Frequently-Asked-Questions.md\n"
     ]
    },
    {
     "name": "stdout",
     "output_type": "stream",
     "text": [
      "\u001b[H\u001b[2J"
     ]
    },
    {
     "name": "stderr",
     "output_type": "stream",
     "text": [
      "Previous HEAD position was 42b9c44 Update Frequently-Asked-Questions.md\n",
      "HEAD is now at d56542d Update Frequently-Asked-Questions.md\n"
     ]
    },
    {
     "name": "stdout",
     "output_type": "stream",
     "text": [
      "\u001b[H\u001b[2J"
     ]
    },
    {
     "name": "stderr",
     "output_type": "stream",
     "text": [
      "Previous HEAD position was d56542d Update Frequently-Asked-Questions.md\n",
      "HEAD is now at f401c47 Update Frequently-Asked-Questions.md\n"
     ]
    },
    {
     "name": "stdout",
     "output_type": "stream",
     "text": [
      "\u001b[H\u001b[2J"
     ]
    },
    {
     "name": "stderr",
     "output_type": "stream",
     "text": [
      "Previous HEAD position was f401c47 Update Frequently-Asked-Questions.md\n",
      "HEAD is now at 42d966f Clarify doc on `@license` a little more (#1656)\n"
     ]
    },
    {
     "name": "stdout",
     "output_type": "stream",
     "text": [
      "\u001b[H\u001b[2J"
     ]
    },
    {
     "name": "stderr",
     "output_type": "stream",
     "text": [
      "Previous HEAD position was 42d966f Clarify doc on `@license` a little more (#1656)\n",
      "HEAD is now at d9448d8 Update newScriptPage.html\n"
     ]
    },
    {
     "name": "stdout",
     "output_type": "stream",
     "text": [
      "\u001b[H\u001b[2J"
     ]
    },
    {
     "name": "stderr",
     "output_type": "stream",
     "text": [
      "Previous HEAD position was d9448d8 Update newScriptPage.html\n",
      "HEAD is now at f974f73 GDPR14 (#1657)\n"
     ]
    },
    {
     "name": "stdout",
     "output_type": "stream",
     "text": [
      "\u001b[H\u001b[2J"
     ]
    },
    {
     "name": "stderr",
     "output_type": "stream",
     "text": [
      "Previous HEAD position was f974f73 GDPR14 (#1657)\n",
      "HEAD is now at df4ec36 Update Terms-of-Service.md\n"
     ]
    },
    {
     "name": "stdout",
     "output_type": "stream",
     "text": [
      "\u001b[H\u001b[2J"
     ]
    },
    {
     "name": "stderr",
     "output_type": "stream",
     "text": [
      "Previous HEAD position was df4ec36 Update Terms-of-Service.md\n",
      "HEAD is now at f4389bc GDPR15A (#1658)\n"
     ]
    },
    {
     "name": "stdout",
     "output_type": "stream",
     "text": [
      "\u001b[H\u001b[2J"
     ]
    },
    {
     "name": "stderr",
     "output_type": "stream",
     "text": [
      "Previous HEAD position was f4389bc GDPR15A (#1658)\n",
      "HEAD is now at d3348d8 GDPR15B (#1659)\n"
     ]
    },
    {
     "name": "stdout",
     "output_type": "stream",
     "text": [
      "\u001b[H\u001b[2J"
     ]
    },
    {
     "name": "stderr",
     "output_type": "stream",
     "text": [
      "Previous HEAD position was d3348d8 GDPR15B (#1659)\n",
      "HEAD is now at a07bb4b Some dep updates (#1660)\n"
     ]
    },
    {
     "name": "stdout",
     "output_type": "stream",
     "text": [
      "\u001b[H\u001b[2J"
     ]
    },
    {
     "name": "stderr",
     "output_type": "stream",
     "text": [
      "Previous HEAD position was a07bb4b Some dep updates (#1660)\n",
      "HEAD is now at 335cc32 A dep update with migration bug fixes (#1661)\n"
     ]
    },
    {
     "name": "stdout",
     "output_type": "stream",
     "text": [
      "\u001b[H\u001b[2J"
     ]
    },
    {
     "name": "stderr",
     "output_type": "stream",
     "text": [
      "Previous HEAD position was 335cc32 A dep update with migration bug fixes (#1661)\n",
      "HEAD is now at 000c841 Dump console.log to dev only for this instance (#1662)\n"
     ]
    },
    {
     "name": "stdout",
     "output_type": "stream",
     "text": [
      "\u001b[H\u001b[2J"
     ]
    },
    {
     "name": "stderr",
     "output_type": "stream",
     "text": [
      "Previous HEAD position was 000c841 Dump console.log to dev only for this instance (#1662)\n",
      "HEAD is now at e0f353a Fix a server trip (#1663)\n"
     ]
    },
    {
     "name": "stdout",
     "output_type": "stream",
     "text": [
      "\u001b[H\u001b[2J"
     ]
    },
    {
     "name": "stderr",
     "output_type": "stream",
     "text": [
      "Previous HEAD position was e0f353a Fix a server trip (#1663)\n",
      "HEAD is now at efd2797 Missed verbage change (#1664)\n"
     ]
    },
    {
     "name": "stdout",
     "output_type": "stream",
     "text": [
      "\u001b[H\u001b[2J"
     ]
    },
    {
     "name": "stderr",
     "output_type": "stream",
     "text": [
      "Previous HEAD position was efd2797 Missed verbage change (#1664)\n",
      "HEAD is now at ff5980c Some dep updates (#1665)\n"
     ]
    },
    {
     "name": "stdout",
     "output_type": "stream",
     "text": [
      "\u001b[H\u001b[2J"
     ]
    },
    {
     "name": "stderr",
     "output_type": "stream",
     "text": [
      "Previous HEAD position was ff5980c Some dep updates (#1665)\n",
      "HEAD is now at db4e646 Add a generic UA for sites that are being picky (#1666)\n"
     ]
    },
    {
     "name": "stdout",
     "output_type": "stream",
     "text": [
      "\u001b[H\u001b[2J"
     ]
    },
    {
     "name": "stderr",
     "output_type": "stream",
     "text": [
      "Previous HEAD position was db4e646 Add a generic UA for sites that are being picky (#1666)\n",
      "HEAD is now at 6f97ce4 Some dep updates (#1667)\n"
     ]
    },
    {
     "name": "stdout",
     "output_type": "stream",
     "text": [
      "\u001b[H\u001b[2J"
     ]
    },
    {
     "name": "stderr",
     "output_type": "stream",
     "text": [
      "Previous HEAD position was 6f97ce4 Some dep updates (#1667)\n",
      "HEAD is now at c68f4cf More icons with tooltips for the UI (#1668)\n"
     ]
    },
    {
     "name": "stdout",
     "output_type": "stream",
     "text": [
      "\u001b[H\u001b[2J"
     ]
    },
    {
     "name": "stderr",
     "output_type": "stream",
     "text": [
      "Previous HEAD position was c68f4cf More icons with tooltips for the UI (#1668)\n",
      "HEAD is now at 2579a10 Fix for Chromium based browsers (#1669)\n"
     ]
    },
    {
     "name": "stdout",
     "output_type": "stream",
     "text": [
      "\u001b[H\u001b[2J"
     ]
    },
    {
     "name": "stderr",
     "output_type": "stream",
     "text": [
      "Previous HEAD position was 2579a10 Fix for Chromium based browsers (#1669)\n",
      "HEAD is now at 8323bf7 Capture comments (#1670)\n"
     ]
    },
    {
     "name": "stdout",
     "output_type": "stream",
     "text": [
      "\u001b[H\u001b[2J"
     ]
    },
    {
     "name": "stderr",
     "output_type": "stream",
     "text": [
      "Previous HEAD position was 8323bf7 Capture comments (#1670)\n",
      "HEAD is now at 6cde10a DB Precision test (#1671)\n"
     ]
    },
    {
     "name": "stdout",
     "output_type": "stream",
     "text": [
      "\u001b[H\u001b[2J"
     ]
    },
    {
     "name": "stderr",
     "output_type": "stream",
     "text": [
      "Previous HEAD position was 6cde10a DB Precision test (#1671)\n",
      "HEAD is now at fec95fc Add in additional check (#1672)\n"
     ]
    },
    {
     "name": "stdout",
     "output_type": "stream",
     "text": [
      "\u001b[H\u001b[2J"
     ]
    },
    {
     "name": "stderr",
     "output_type": "stream",
     "text": [
      "Previous HEAD position was fec95fc Add in additional check (#1672)\n",
      "HEAD is now at faec335 Remove console message (#1673)\n"
     ]
    },
    {
     "name": "stdout",
     "output_type": "stream",
     "text": [
      "\u001b[H\u001b[2J"
     ]
    },
    {
     "name": "stderr",
     "output_type": "stream",
     "text": [
      "Previous HEAD position was faec335 Remove console message (#1673)\n",
      "HEAD is now at 6024af4 Another loosely related same topic url collision check (#1674)\n"
     ]
    },
    {
     "name": "stdout",
     "output_type": "stream",
     "text": [
      "\u001b[H\u001b[2J"
     ]
    },
    {
     "name": "stderr",
     "output_type": "stream",
     "text": [
      "Previous HEAD position was 6024af4 Another loosely related same topic url collision check (#1674)\n",
      "HEAD is now at df49945 Vertical align Discussions for now (#1675)\n"
     ]
    },
    {
     "name": "stdout",
     "output_type": "stream",
     "text": [
      "\u001b[H\u001b[2J"
     ]
    },
    {
     "name": "stderr",
     "output_type": "stream",
     "text": [
      "Previous HEAD position was df49945 Vertical align Discussions for now (#1675)\n",
      "HEAD is now at e07cb09 If prior turn on notices were set retain setting (#1676)\n"
     ]
    },
    {
     "name": "stdout",
     "output_type": "stream",
     "text": [
      "\u001b[H\u001b[2J"
     ]
    },
    {
     "name": "stderr",
     "output_type": "stream",
     "text": [
      "Previous HEAD position was e07cb09 If prior turn on notices were set retain setting (#1676)\n",
      "HEAD is now at 65511e5 Officially Licensed OUJS icon pack (#1677)\n"
     ]
    },
    {
     "name": "stdout",
     "output_type": "stream",
     "text": [
      "\u001b[H\u001b[2J"
     ]
    },
    {
     "name": "stderr",
     "output_type": "stream",
     "text": [
      "Previous HEAD position was 65511e5 Officially Licensed OUJS icon pack (#1677)\n",
      "HEAD is now at 03622a5 Add Node.js to about strip (#1678)\n"
     ]
    },
    {
     "name": "stdout",
     "output_type": "stream",
     "text": [
      "\u001b[H\u001b[2J"
     ]
    },
    {
     "name": "stderr",
     "output_type": "stream",
     "text": [
      "Previous HEAD position was 03622a5 Add Node.js to about strip (#1678)\n",
      "HEAD is now at 549600d Update CONTRIBUTING.md\n"
     ]
    },
    {
     "name": "stdout",
     "output_type": "stream",
     "text": [
      "\u001b[H\u001b[2J"
     ]
    },
    {
     "name": "stderr",
     "output_type": "stream",
     "text": [
      "Previous HEAD position was 549600d Update CONTRIBUTING.md\n",
      "HEAD is now at 30637d0 SPDX update (#1679)\n"
     ]
    },
    {
     "name": "stdout",
     "output_type": "stream",
     "text": [
      "\u001b[H\u001b[2J"
     ]
    },
    {
     "name": "stderr",
     "output_type": "stream",
     "text": [
      "Previous HEAD position was 30637d0 SPDX update (#1679)\n",
      "HEAD is now at d99326f Add `@downloadURL` common values to Script Author Tools (#1680)\n"
     ]
    },
    {
     "name": "stdout",
     "output_type": "stream",
     "text": [
      "\u001b[H\u001b[2J"
     ]
    },
    {
     "name": "stderr",
     "output_type": "stream",
     "text": [
      "Previous HEAD position was d99326f Add `@downloadURL` common values to Script Author Tools (#1680)\n",
      "HEAD is now at 3af4986 Update README.md\n"
     ]
    },
    {
     "name": "stdout",
     "output_type": "stream",
     "text": [
      "\u001b[H\u001b[2J"
     ]
    },
    {
     "name": "stderr",
     "output_type": "stream",
     "text": [
      "Previous HEAD position was 3af4986 Update README.md\n",
      "HEAD is now at 85ce6b5 Fair Use UA ico addition (#1681)\n"
     ]
    },
    {
     "name": "stdout",
     "output_type": "stream",
     "text": [
      "\u001b[H\u001b[2J"
     ]
    },
    {
     "name": "stderr",
     "output_type": "stream",
     "text": [
      "Previous HEAD position was 85ce6b5 Fair Use UA ico addition (#1681)\n",
      "HEAD is now at d0c5bfc Possible prep for more SVGs (#1682)\n"
     ]
    },
    {
     "name": "stdout",
     "output_type": "stream",
     "text": [
      "\u001b[H\u001b[2J"
     ]
    },
    {
     "name": "stderr",
     "output_type": "stream",
     "text": [
      "Previous HEAD position was d0c5bfc Possible prep for more SVGs (#1682)\n",
      "HEAD is now at ba2bf24 Some more SVGs (#1683)\n"
     ]
    },
    {
     "name": "stdout",
     "output_type": "stream",
     "text": [
      "\u001b[H\u001b[2J"
     ]
    },
    {
     "name": "stderr",
     "output_type": "stream",
     "text": [
      "Previous HEAD position was ba2bf24 Some more SVGs (#1683)\n",
      "HEAD is now at 1e6ad6a Missed page (#1684)\n"
     ]
    },
    {
     "name": "stdout",
     "output_type": "stream",
     "text": [
      "\u001b[H\u001b[2J"
     ]
    },
    {
     "name": "stderr",
     "output_type": "stream",
     "text": [
      "Previous HEAD position was 1e6ad6a Missed page (#1684)\n",
      "HEAD is now at 4893462 Some more SVGs (#1685)\n"
     ]
    },
    {
     "name": "stdout",
     "output_type": "stream",
     "text": [
      "\u001b[H\u001b[2J"
     ]
    },
    {
     "name": "stderr",
     "output_type": "stream",
     "text": [
      "Previous HEAD position was 4893462 Some more SVGs (#1685)\n",
      "HEAD is now at 7b67406 And some more SVGs (#1686)\n"
     ]
    },
    {
     "name": "stdout",
     "output_type": "stream",
     "text": [
      "\u001b[H\u001b[2J"
     ]
    },
    {
     "name": "stderr",
     "output_type": "stream",
     "text": [
      "Previous HEAD position was 7b67406 And some more SVGs (#1686)\n",
      "HEAD is now at 31105a8 Even more lembus, err, SVG icons (#1687)\n"
     ]
    },
    {
     "name": "stdout",
     "output_type": "stream",
     "text": [
      "\u001b[H\u001b[2J"
     ]
    },
    {
     "name": "stderr",
     "output_type": "stream",
     "text": [
      "Previous HEAD position was 31105a8 Even more lembus, err, SVG icons (#1687)\n",
      "HEAD is now at d14d962 Some dep updates (#1688)\n"
     ]
    },
    {
     "name": "stdout",
     "output_type": "stream",
     "text": [
      "\u001b[H\u001b[2J"
     ]
    },
    {
     "name": "stderr",
     "output_type": "stream",
     "text": [
      "Previous HEAD position was d14d962 Some dep updates (#1688)\n",
      "HEAD is now at 20a162a Some dep updates (#1689)\n"
     ]
    },
    {
     "name": "stdout",
     "output_type": "stream",
     "text": [
      "\u001b[H\u001b[2J"
     ]
    },
    {
     "name": "stderr",
     "output_type": "stream",
     "text": [
      "Previous HEAD position was 20a162a Some dep updates (#1689)\n",
      "HEAD is now at 97e7998 npm depth omission (#1690)\n"
     ]
    },
    {
     "name": "stdout",
     "output_type": "stream",
     "text": [
      "\u001b[H\u001b[2J"
     ]
    },
    {
     "name": "stderr",
     "output_type": "stream",
     "text": [
      "Previous HEAD position was 97e7998 npm depth omission (#1690)\n",
      "HEAD is now at a55d066 Some dep updates (#1691)\n"
     ]
    },
    {
     "name": "stdout",
     "output_type": "stream",
     "text": [
      "\u001b[H\u001b[2J"
     ]
    },
    {
     "name": "stderr",
     "output_type": "stream",
     "text": [
      "Previous HEAD position was a55d066 Some dep updates (#1691)\n",
      "HEAD is now at 1926f7d Update Tampermonkey-for-Safari.md\n"
     ]
    },
    {
     "name": "stdout",
     "output_type": "stream",
     "text": [
      "\u001b[H\u001b[2J"
     ]
    },
    {
     "name": "stderr",
     "output_type": "stream",
     "text": [
      "Previous HEAD position was 1926f7d Update Tampermonkey-for-Safari.md\n",
      "HEAD is now at 5cb52ef Some dep updates (#1692)\n"
     ]
    },
    {
     "name": "stdout",
     "output_type": "stream",
     "text": [
      "\u001b[H\u001b[2J"
     ]
    },
    {
     "name": "stderr",
     "output_type": "stream",
     "text": [
      "Previous HEAD position was 5cb52ef Some dep updates (#1692)\n",
      "HEAD is now at b1e12f5 Pseudo breadcrumb Category column (#1693)\n"
     ]
    }
   ],
   "source": [
    "clean_csv_data(save_path + tasks_output_path, save_path +\n",
    "               'clean_tasks.csv', save_path+\"developers.csv\")"
   ]
  },
  {
   "cell_type": "markdown",
   "metadata": {},
   "source": [
    "-- The End --"
   ]
  }
 ],
 "metadata": {
  "kernelspec": {
   "display_name": "Python 3 (ipykernel)",
   "language": "python",
   "name": "python3"
  },
  "language_info": {
   "codemirror_mode": {
    "name": "ipython",
    "version": 3
   },
   "file_extension": ".py",
   "mimetype": "text/x-python",
   "name": "python",
   "nbconvert_exporter": "python",
   "pygments_lexer": "ipython3",
   "version": "3.10.4"
  }
 },
 "nbformat": 4,
 "nbformat_minor": 2
}
