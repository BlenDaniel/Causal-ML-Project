{
 "cells": [
  {
   "cell_type": "markdown",
   "id": "158cd2e8",
   "metadata": {},
   "source": [
    "# Explaining some causes behind different project riks \n",
    "## Scenarios number 1"
   ]
  },
  {
   "cell_type": "markdown",
   "id": "e86bbccd",
   "metadata": {},
   "source": [
    "### What are the effects of different variables on average cyclomatic complexity? \n",
    "- Task: Effect estimation"
   ]
  },
  {
   "cell_type": "code",
   "execution_count": 2,
   "id": "a96ff55c",
   "metadata": {},
   "outputs": [],
   "source": [
    "# Imports\n",
    "import pandas as pd\n",
    "import numpy as np\n",
    "import pygraphviz\n",
    "import matplotlib.pyplot as plt\n",
    "import dowhy\n",
    "import networkx as nx\n",
    "from dowhy import CausalModel\n",
    "from dowhy import gcm"
   ]
  },
  {
   "cell_type": "markdown",
   "id": "bdc03b58",
   "metadata": {},
   "source": [
    "#### Initialization"
   ]
  },
  {
   "cell_type": "code",
   "execution_count": 3,
   "id": "9c9dcdd1",
   "metadata": {},
   "outputs": [
    {
     "name": "stdout",
     "output_type": "stream",
     "text": [
      "1458\n"
     ]
    },
    {
     "data": {
      "text/html": [
       "<div>\n",
       "<style scoped>\n",
       "    .dataframe tbody tr th:only-of-type {\n",
       "        vertical-align: middle;\n",
       "    }\n",
       "\n",
       "    .dataframe tbody tr th {\n",
       "        vertical-align: top;\n",
       "    }\n",
       "\n",
       "    .dataframe thead th {\n",
       "        text-align: right;\n",
       "    }\n",
       "</style>\n",
       "<table border=\"1\" class=\"dataframe\">\n",
       "  <thead>\n",
       "    <tr style=\"text-align: right;\">\n",
       "      <th></th>\n",
       "      <th>task_type</th>\n",
       "      <th>has_bug_fixing</th>\n",
       "      <th>has_code_refactoring</th>\n",
       "      <th>loc</th>\n",
       "      <th>files_touched</th>\n",
       "      <th>author</th>\n",
       "      <th>committer</th>\n",
       "      <th>authored_at</th>\n",
       "      <th>commited_at</th>\n",
       "      <th>commit_time_in_day</th>\n",
       "      <th>...</th>\n",
       "      <th>communication</th>\n",
       "      <th>total_nloc</th>\n",
       "      <th>avg_nloc</th>\n",
       "      <th>avg_ccn</th>\n",
       "      <th>avg_token</th>\n",
       "      <th>fun_cnt</th>\n",
       "      <th>warning_cnt</th>\n",
       "      <th>fun_rate</th>\n",
       "      <th>nloc_rate</th>\n",
       "      <th>duration</th>\n",
       "    </tr>\n",
       "  </thead>\n",
       "  <tbody>\n",
       "    <tr>\n",
       "      <th>0</th>\n",
       "      <td>8</td>\n",
       "      <td>0</td>\n",
       "      <td>0</td>\n",
       "      <td>159</td>\n",
       "      <td>6</td>\n",
       "      <td>27</td>\n",
       "      <td>27</td>\n",
       "      <td>2016-11-09 20:23:09</td>\n",
       "      <td>2016-11-09 20:23:09</td>\n",
       "      <td>4</td>\n",
       "      <td>...</td>\n",
       "      <td>0</td>\n",
       "      <td>70</td>\n",
       "      <td>4.5</td>\n",
       "      <td>1.3</td>\n",
       "      <td>26.3</td>\n",
       "      <td>10</td>\n",
       "      <td>0</td>\n",
       "      <td>0.0</td>\n",
       "      <td>0.0</td>\n",
       "      <td>0.000000</td>\n",
       "    </tr>\n",
       "    <tr>\n",
       "      <th>1</th>\n",
       "      <td>8</td>\n",
       "      <td>0</td>\n",
       "      <td>0</td>\n",
       "      <td>231</td>\n",
       "      <td>5</td>\n",
       "      <td>27</td>\n",
       "      <td>27</td>\n",
       "      <td>2016-11-09 22:15:17</td>\n",
       "      <td>2016-11-09 22:30:46</td>\n",
       "      <td>4</td>\n",
       "      <td>...</td>\n",
       "      <td>0</td>\n",
       "      <td>98</td>\n",
       "      <td>4.2</td>\n",
       "      <td>1.1</td>\n",
       "      <td>26.8</td>\n",
       "      <td>11</td>\n",
       "      <td>0</td>\n",
       "      <td>0.0</td>\n",
       "      <td>0.0</td>\n",
       "      <td>0.258056</td>\n",
       "    </tr>\n",
       "    <tr>\n",
       "      <th>2</th>\n",
       "      <td>1</td>\n",
       "      <td>0</td>\n",
       "      <td>0</td>\n",
       "      <td>191</td>\n",
       "      <td>4</td>\n",
       "      <td>27</td>\n",
       "      <td>27</td>\n",
       "      <td>2016-11-09 22:54:02</td>\n",
       "      <td>2016-11-09 22:54:02</td>\n",
       "      <td>4</td>\n",
       "      <td>...</td>\n",
       "      <td>0</td>\n",
       "      <td>125</td>\n",
       "      <td>4.2</td>\n",
       "      <td>1.1</td>\n",
       "      <td>30.3</td>\n",
       "      <td>11</td>\n",
       "      <td>0</td>\n",
       "      <td>0.0</td>\n",
       "      <td>0.0</td>\n",
       "      <td>0.000000</td>\n",
       "    </tr>\n",
       "    <tr>\n",
       "      <th>3</th>\n",
       "      <td>8</td>\n",
       "      <td>0</td>\n",
       "      <td>0</td>\n",
       "      <td>6</td>\n",
       "      <td>2</td>\n",
       "      <td>27</td>\n",
       "      <td>27</td>\n",
       "      <td>2016-11-10 02:15:24</td>\n",
       "      <td>2016-11-10 02:15:24</td>\n",
       "      <td>1</td>\n",
       "      <td>...</td>\n",
       "      <td>0</td>\n",
       "      <td>154</td>\n",
       "      <td>4.5</td>\n",
       "      <td>1.1</td>\n",
       "      <td>35.9</td>\n",
       "      <td>14</td>\n",
       "      <td>0</td>\n",
       "      <td>0.0</td>\n",
       "      <td>0.0</td>\n",
       "      <td>0.000000</td>\n",
       "    </tr>\n",
       "    <tr>\n",
       "      <th>4</th>\n",
       "      <td>1</td>\n",
       "      <td>0</td>\n",
       "      <td>0</td>\n",
       "      <td>7</td>\n",
       "      <td>1</td>\n",
       "      <td>27</td>\n",
       "      <td>27</td>\n",
       "      <td>2016-11-10 02:17:41</td>\n",
       "      <td>2016-11-10 02:18:41</td>\n",
       "      <td>1</td>\n",
       "      <td>...</td>\n",
       "      <td>0</td>\n",
       "      <td>154</td>\n",
       "      <td>4.5</td>\n",
       "      <td>1.1</td>\n",
       "      <td>35.9</td>\n",
       "      <td>14</td>\n",
       "      <td>0</td>\n",
       "      <td>0.0</td>\n",
       "      <td>0.0</td>\n",
       "      <td>0.016667</td>\n",
       "    </tr>\n",
       "  </tbody>\n",
       "</table>\n",
       "<p>5 rows × 24 columns</p>\n",
       "</div>"
      ],
      "text/plain": [
       "   task_type  has_bug_fixing  has_code_refactoring  loc  files_touched  \\\n",
       "0          8               0                     0  159              6   \n",
       "1          8               0                     0  231              5   \n",
       "2          1               0                     0  191              4   \n",
       "3          8               0                     0    6              2   \n",
       "4          1               0                     0    7              1   \n",
       "\n",
       "   author  committer          authored_at          commited_at  \\\n",
       "0      27         27  2016-11-09 20:23:09  2016-11-09 20:23:09   \n",
       "1      27         27  2016-11-09 22:15:17  2016-11-09 22:30:46   \n",
       "2      27         27  2016-11-09 22:54:02  2016-11-09 22:54:02   \n",
       "3      27         27  2016-11-10 02:15:24  2016-11-10 02:15:24   \n",
       "4      27         27  2016-11-10 02:17:41  2016-11-10 02:18:41   \n",
       "\n",
       "   commit_time_in_day  ...  communication  total_nloc  avg_nloc  avg_ccn  \\\n",
       "0                   4  ...              0          70       4.5      1.3   \n",
       "1                   4  ...              0          98       4.2      1.1   \n",
       "2                   4  ...              0         125       4.2      1.1   \n",
       "3                   1  ...              0         154       4.5      1.1   \n",
       "4                   1  ...              0         154       4.5      1.1   \n",
       "\n",
       "   avg_token  fun_cnt  warning_cnt  fun_rate  nloc_rate  duration  \n",
       "0       26.3       10            0       0.0        0.0  0.000000  \n",
       "1       26.8       11            0       0.0        0.0  0.258056  \n",
       "2       30.3       11            0       0.0        0.0  0.000000  \n",
       "3       35.9       14            0       0.0        0.0  0.000000  \n",
       "4       35.9       14            0       0.0        0.0  0.016667  \n",
       "\n",
       "[5 rows x 24 columns]"
      ]
     },
     "execution_count": 3,
     "metadata": {},
     "output_type": "execute_result"
    }
   ],
   "source": [
    "data_path = \"../data/useable/brave-browser/clean_tasks.csv\"\n",
    "dataset = pd.read_csv(data_path)\n",
    "\n",
    "print(len(dataset))\n",
    "\n",
    "# Display the first few rows of the filtered dataset\n",
    "dataset.head()"
   ]
  },
  {
   "cell_type": "markdown",
   "id": "d10c385e",
   "metadata": {},
   "source": [
    "### Step-1. Define causal models"
   ]
  },
  {
   "cell_type": "markdown",
   "id": "e17c20c1",
   "metadata": {},
   "source": [
    "Assumptions:\n",
    "The potential treatment variables that can affect average cyclomatic complexity are:\n",
    "\n",
    "1. Task-related variables:\n",
    "    - task_type\n",
    "    - has_bug_fixing\n",
    "    - has_code_refactoring\n",
    "\n",
    "2. Code-related variables:\n",
    "    - loc\n",
    "    - files_touched\n",
    "    - contribution_complexity\n",
    "\n",
    "3. People-related variables:\n",
    "    - author\n",
    "    - committer\n",
    "    - author_experience\n",
    "    - committer_experience\n",
    "    - communication\n",
    "\n",
    "4. Time-related variables:\n",
    "    - authored_at\n",
    "    - commited_at\n",
    "    - commit_time_in_day\n",
    "    - duration"
   ]
  },
  {
   "cell_type": "code",
   "execution_count": 4,
   "id": "b4eff8b8",
   "metadata": {},
   "outputs": [],
   "source": [
    "causal_graph_nx = nx.DiGraph()\n",
    "\n",
    "causal_graph_nx.add_node(\"task_type\", label=\"Task Type\")\n",
    "causal_graph_nx.add_node(\"loc\", label=\"Lines of Code (LOC)\")\n",
    "causal_graph_nx.add_node(\"files_touched\", label=\"Number of Files Touched\")\n",
    "causal_graph_nx.add_node(\"author\", label=\"Author\")\n",
    "causal_graph_nx.add_node(\"committer\", label=\"Committer\")\n",
    "causal_graph_nx.add_node(\"communication\", label=\"Communication\")\n",
    "causal_graph_nx.add_node(\"author_experience\", label=\"Author Experience\")\n",
    "causal_graph_nx.add_node(\"committer_experience\", label=\"Committer Experience\")\n",
    "causal_graph_nx.add_node(\"contribution_complexity\", label=\"Contribution Complexity\")\n",
    "causal_graph_nx.add_node(\"avg_token\", label=\"Avg. token count of functions.\")\n",
    "causal_graph_nx.add_node(\"total_nloc\", label=\"Total lines of code without comments\")\n",
    "causal_graph_nx.add_node(\"avg_ccn\", label=\"Avg. Cyclomatic Complexity Number\")\n",
    "causal_graph_nx.add_node(\"has_bug_fixing\", label=\"Has bug fixing?\")\n",
    "causal_graph_nx.add_node(\"has_code_refactoring\", label=\"Has code refactoring?\")\n",
    "\n",
    "\n",
    "causal_graph_nx.add_edge(\"task_type\", \"has_bug_fixing\")\n",
    "causal_graph_nx.add_edge(\"task_type\", \"has_code_refactoring\")\n",
    "causal_graph_nx.add_edge(\"has_bug_fixing\", \"avg_ccn\")\n",
    "causal_graph_nx.add_edge(\"has_bug_fixing\", \"contribution_complexity\")\n",
    "causal_graph_nx.add_edge(\"has_code_refactoring\", \"avg_ccn\")\n",
    "causal_graph_nx.add_edge(\"has_code_refactoring\", \"contribution_complexity\")\n",
    "causal_graph_nx.add_edge(\"loc\", \"total_nloc\")\n",
    "causal_graph_nx.add_edge(\"total_nloc\", \"avg_nloc\")\n",
    "causal_graph_nx.add_edge(\"total_nloc\", \"contribution_complexity\")\n",
    "causal_graph_nx.add_edge(\"total_nloc\", \"avg_token\")\n",
    "causal_graph_nx.add_edge(\"files_touched\", \"contribution_complexity\")\n",
    "causal_graph_nx.add_edge(\"files_touched\", \"avg_ccn\")\n",
    "causal_graph_nx.add_edge(\"author\", \"avg_ccn\")\n",
    "causal_graph_nx.add_edge(\"author\", \"contribution_complexity\")\n",
    "causal_graph_nx.add_edge(\"author\", \"communication\")\n",
    "causal_graph_nx.add_edge(\"committer\", \"avg_ccn\")\n",
    "causal_graph_nx.add_edge(\"committer\", \"contribution_complexity\")\n",
    "causal_graph_nx.add_edge(\"committer\", \"communication\")\n",
    "causal_graph_nx.add_edge(\"author_experience\", \"avg_ccn\")\n",
    "causal_graph_nx.add_edge(\"author_experience\", \"contribution_complexity\")\n",
    "causal_graph_nx.add_edge(\"committer_experience\", \"avg_ccn\")\n",
    "causal_graph_nx.add_edge(\"committer_experience\", \"contribution_complexity\")\n",
    "causal_graph_nx.add_edge(\"communication\", \"contribution_complexity\")\n",
    "causal_graph_nx.add_edge(\"communication\", \"avg_ccn\")\n",
    "causal_graph_nx.add_edge(\"contribution_complexity\", \"avg_ccn\")"
   ]
  },
  {
   "cell_type": "markdown",
   "id": "bd20de6d",
   "metadata": {},
   "source": [
    "We defined the causal graph, but we still need to assign generative models to the nodes. With DoWhy, we can either manually specify those models, and configure them if needed, or automatically infer “appropriate” models using heuristics from data. We will leverage the latter here:"
   ]
  },
  {
   "cell_type": "code",
   "execution_count": 5,
   "id": "126eceac",
   "metadata": {},
   "outputs": [],
   "source": [
    "# Create the structural causal model object\n",
    "scm = gcm.StructuralCausalModel(causal_graph_nx)\n",
    "\n",
    "# Automatically assign generative models to each node based on the given data\n",
    "gcm.auto.assign_causal_mechanisms(scm, dataset)"
   ]
  },
  {
   "cell_type": "markdown",
   "id": "f8865f97",
   "metadata": {},
   "source": [
    "### Step 2: Fit causal models to data"
   ]
  },
  {
   "cell_type": "markdown",
   "id": "570f8d73",
   "metadata": {},
   "source": [
    "After assigning a model to each node, we need to learn the parameters of the model:"
   ]
  },
  {
   "cell_type": "code",
   "execution_count": 6,
   "id": "f47d4a40",
   "metadata": {},
   "outputs": [
    {
     "name": "stderr",
     "output_type": "stream",
     "text": [
      "Fitting causal mechanism of node avg_nloc: 100%|████████████████████████████████████████████████████████████| 15/15 [00:18<00:00,  1.25s/it]\n"
     ]
    }
   ],
   "source": [
    "gcm.fit(scm, dataset)"
   ]
  },
  {
   "cell_type": "markdown",
   "id": "7f825be4",
   "metadata": {},
   "source": [
    "The fit method learns the parameters of the generative models in each node. The fitted SCM can now be used to answer different kinds of causal questions."
   ]
  },
  {
   "cell_type": "markdown",
   "id": "5a20b14f",
   "metadata": {},
   "source": [
    "### Step 3: Answer causal questions"
   ]
  },
  {
   "cell_type": "markdown",
   "id": "79057219",
   "metadata": {},
   "source": [
    "At this point, we want to understand which factors drive changes in the Avg. Cyclomatic Complexity. Let us first have a closer look at the Avg. Cyclomatic Complexity over time. For this, we are using pandas to plot the Profit over time, where the produced plot shows the Avg. Cyclomatic Complexity on the Y-axis and the time on the X-axis."
   ]
  },
  {
   "cell_type": "code",
   "execution_count": 7,
   "id": "da24c128",
   "metadata": {},
   "outputs": [
    {
     "data": {
      "image/png": "[encoded data removed]",
      "text/plain": [
       "<Figure size 1500x500 with 1 Axes>"
      ]
     },
     "metadata": {},
     "output_type": "display_data"
    }
   ],
   "source": [
    "# Plot the graph\n",
    "dataset['avg_ccn'].plot(ylabel='Avg. Cyclomatic Complexity', figsize=(15,5), rot=45)\n",
    "\n",
    "# Save the figure\n",
    "plt.savefig(\"question_1_plot_1\" + \".jpg\")"
   ]
  },
  {
   "cell_type": "markdown",
   "id": "64838d67",
   "metadata": {},
   "source": [
    "We see some significant spikes in the Avg. Cyclomatic Complexity across the year. We can further quantify this by looking at the standard deviation, which we can estimate using the std() function from pandas:"
   ]
  },
  {
   "cell_type": "code",
   "execution_count": 8,
   "id": "28791535",
   "metadata": {},
   "outputs": [
    {
     "data": {
      "image/png": "[encoded data removed]",
      "text/latex": [
       "$\\displaystyle 0.420086328344204$"
      ],
      "text/plain": [
       "0.42008632834420434"
      ]
     },
     "execution_count": 8,
     "metadata": {},
     "output_type": "execute_result"
    }
   ],
   "source": [
    "dataset['avg_ccn'].std()"
   ]
  },
  {
   "cell_type": "markdown",
   "id": "d6f21631",
   "metadata": {},
   "source": [
    "The estimated standard deviation of ~0.0912809881831056 is not quite significant."
   ]
  },
  {
   "cell_type": "markdown",
   "id": "6c770e49",
   "metadata": {},
   "source": [
    "From our causal graph, we see that multiple variables have a direct impact on the Average cyclomatic complexity, but which of them contribute the most to the variance? To find this out, we can make use of the direct arrow strength algorithm that quantifies the causal influence of a specific arrow in the graph:"
   ]
  },
  {
   "cell_type": "code",
   "execution_count": null,
   "id": "54d35e5b",
   "metadata": {},
   "outputs": [],
   "source": [
    "def convert_to_percentage(value_dictionary):\n",
    "    total_absolute_sum = np.sum([abs(v) for v in value_dictionary.values()])\n",
    "    return {k: abs(v) / total_absolute_sum * 100 for k, v in value_dictionary.items()}\n",
    "\n",
    "\n",
    "arrow_strengths = gcm.arrow_strength(scm, target_node='avg_ccn')\n",
    "\n",
    "gcm.util.plot(causal_graph_nx, \n",
    "              filename=\"causal_model_q1_gcm\",\n",
    "              causal_strengths=convert_to_percentage(arrow_strengths), \n",
    "              figure_size=[30, 15])\n"
   ]
  },
  {
   "cell_type": "markdown",
   "id": "edda2e72",
   "metadata": {},
   "source": [
    "In this causal graph, we see how much each node contributes to the variance of Average cyclomatic complexity. \n",
    "While the direct influences are helpful in understanding which direct parents influence the most on the variance in Average cyclomatic complexity, this mostly confirms our prior belief. The question of which factor is now ultimately responsible for this high variance is, however, still unclear. \n",
    "\n",
    "Although we could recursively apply the direct arrow strength to all nodes, we would not get a correctly weighted insight into the influence of upstream nodes on the variance."
   ]
  },
  {
   "cell_type": "markdown",
   "id": "318d78d8",
   "metadata": {},
   "source": [
    "What are the important causal factors contributing to the variance in average cyclomatic complexity? To find this out, we can use the DoWhy's intrinsic causal contribution method that attributes the variance in Profit to the upstream nodes in the causal graph. For this, we first define a function to plot the values in a bar plot and then use this to display the estimated contributions to the variance as a percentages: "
   ]
  },
  {
   "cell_type": "code",
   "execution_count": null,
   "id": "8c85de9d",
   "metadata": {},
   "outputs": [],
   "source": [
    "def bar_plot(value_dictionary, ylabel, uncertainty_attribs=None, figsize=(8, 5)):\n",
    "    value_dictionary = {k: value_dictionary[k] for k in sorted(value_dictionary)}\n",
    "    if uncertainty_attribs is None:\n",
    "        uncertainty_attribs = {node: [value_dictionary[node], value_dictionary[node]] for node in value_dictionary}\n",
    "\n",
    "    _, ax = plt.subplots(figsize=figsize)\n",
    "    ci_plus = [uncertainty_attribs[node][1] - value_dictionary[node] for node in value_dictionary.keys()]\n",
    "    ci_minus = [value_dictionary[node] - uncertainty_attribs[node][0] for node in value_dictionary.keys()]\n",
    "    yerr = np.array([ci_minus, ci_plus])\n",
    "    yerr[abs(yerr) < 10**-7] = 0\n",
    "    plt.bar(value_dictionary.keys(), value_dictionary.values(), yerr=yerr, ecolor='#1E88E5', color='#ff0d57', width=0.8)\n",
    "    plt.ylabel(ylabel)\n",
    "    plt.xticks(rotation=45)\n",
    "    ax.spines['right'].set_visible(False)\n",
    "    ax.spines['top'].set_visible(False)\n",
    "\n",
    "    plt.show()\n",
    "\n",
    "\n",
    "iccs = gcm.intrinsic_causal_influence(scm, target_node='avg_ccn', num_samples_randomization=500)\n",
    "\n",
    "bar_plot(convert_to_percentage(iccs), ylabel='Variance attribution in %')"
   ]
  },
  {
   "cell_type": "code",
   "execution_count": null,
   "id": "aa118d92",
   "metadata": {},
   "outputs": [],
   "source": [
    "# Create a figure with two subplots\n",
    "fig, axs = plt.subplots(1, 2, figsize=(15, 5))\n",
    "\n",
    "# Plot the first graph in the left subplot\n",
    "dataset['avg_ccn'].plot(ax=axs[0], ylabel='avg_ccn', rot=45)\n",
    "axs[0].set_title('Graph 1')\n",
    "\n",
    "# Plot the second graph in the right subplot\n",
    "dataset['committer_experience'].plot(ax=axs[1], ylabel='committer_experience', rot=45)\n",
    "axs[1].set_title('Graph 2')\n",
    "\n",
    "# Adjust the spacing between subplots\n",
    "plt.tight_layout()\n",
    "\n",
    "# Save the figure\n",
    "plt.savefig(\"question_1_plot_2\" + \".jpg\")"
   ]
  },
  {
   "cell_type": "markdown",
   "id": "d2697e6f",
   "metadata": {},
   "source": [
    "-- The end --"
   ]
  }
 ],
 "metadata": {
  "kernelspec": {
   "display_name": ".env",
   "language": "python",
   "name": ".env"
  },
  "language_info": {
   "codemirror_mode": {
    "name": "ipython",
    "version": 3
   },
   "file_extension": ".py",
   "mimetype": "text/x-python",
   "name": "python",
   "nbconvert_exporter": "python",
   "pygments_lexer": "ipython3",
   "version": "3.10.4"
  }
 },
 "nbformat": 4,
 "nbformat_minor": 5
}
